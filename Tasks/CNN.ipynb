{
 "cells": [
  {
   "cell_type": "code",
   "execution_count": null,
   "metadata": {},
   "outputs": [],
   "source": [
    "import wandb\n",
    "import tensorflow as tf\n",
    "import SupervisedLearning.Experiments.RunExperiments as re\n",
    "import SupervisedLearning.Experiments.GetData as gd\n",
    "import SupervisedLearning.NeuralNetworks.Conv as cnn\n",
    "\n",
    "%load_ext autoreload\n",
    "%autoreload 2"
   ]
  },
  {
   "cell_type": "code",
   "execution_count": null,
   "metadata": {},
   "outputs": [],
   "source": [
    " gpus = tf.config.experimental.list_physical_devices('GPU')\n",
    "if gpus:\n",
    "    try:\n",
    "        for gpu in gpus:\n",
    "            tf.config.experimental.set_memory_growth(gpu, True)\n",
    "    except RuntimeError as e:\n",
    "        print(\"Err: \", e)"
   ]
  },
  {
   "cell_type": "code",
   "execution_count": null,
   "metadata": {},
   "outputs": [],
   "source": [
    "X_train, y_train = gd.get_data()"
   ]
  },
  {
   "cell_type": "code",
   "execution_count": null,
   "metadata": {},
   "outputs": [],
   "source": [
    "X_test, y_test = gd.get_data(train=False)"
   ]
  },
  {
   "cell_type": "code",
   "execution_count": null,
   "metadata": {},
   "outputs": [],
   "source": [
    "classifier = cnn.ConvolutionalNeuralNetwork(10)\n"
   ]
  },
  {
   "cell_type": "code",
   "execution_count": 6,
   "metadata": {},
   "outputs": [
    {
     "output_type": "stream",
     "name": "stdout",
     "text": [
      "Train on 9690 samples, validate on 3090 samples\n",
      "Epoch 1/50\n",
      "9690/9690 [==============================] - 4s 426us/sample - loss: 0.7629 - accuracy: 0.7657 - val_loss: 0.1465 - val_accuracy: 0.9524\n",
      "Epoch 2/50\n",
      "9690/9690 [==============================] - 2s 189us/sample - loss: 0.1052 - accuracy: 0.9673 - val_loss: 0.1440 - val_accuracy: 0.9592\n",
      "Epoch 3/50\n",
      "9690/9690 [==============================] - 2s 194us/sample - loss: 0.0658 - accuracy: 0.9799 - val_loss: 0.1899 - val_accuracy: 0.9589\n",
      "Epoch 4/50\n",
      "9690/9690 [==============================] - 2s 190us/sample - loss: 0.0359 - accuracy: 0.9896 - val_loss: 0.1431 - val_accuracy: 0.9731\n",
      "Epoch 5/50\n",
      "9690/9690 [==============================] - 2s 185us/sample - loss: 0.0388 - accuracy: 0.9900 - val_loss: 0.1269 - val_accuracy: 0.9744\n",
      "Epoch 6/50\n",
      "9690/9690 [==============================] - 2s 184us/sample - loss: 0.0237 - accuracy: 0.9937 - val_loss: 0.1742 - val_accuracy: 0.9579\n",
      "Epoch 7/50\n",
      "9690/9690 [==============================] - 2s 186us/sample - loss: 0.0176 - accuracy: 0.9954 - val_loss: 0.2533 - val_accuracy: 0.9631\n",
      "Epoch 8/50\n",
      "9690/9690 [==============================] - 2s 189us/sample - loss: 0.0210 - accuracy: 0.9953 - val_loss: 0.1160 - val_accuracy: 0.9780\n",
      "Epoch 9/50\n",
      "9690/9690 [==============================] - 2s 180us/sample - loss: 0.0199 - accuracy: 0.9957 - val_loss: 0.1450 - val_accuracy: 0.9764\n",
      "Epoch 10/50\n",
      "9690/9690 [==============================] - 2s 190us/sample - loss: 0.0114 - accuracy: 0.9965 - val_loss: 0.2470 - val_accuracy: 0.9566\n",
      "Epoch 11/50\n",
      "9690/9690 [==============================] - 2s 187us/sample - loss: 0.0155 - accuracy: 0.9962 - val_loss: 0.2495 - val_accuracy: 0.9683\n",
      "Epoch 12/50\n",
      "9690/9690 [==============================] - 2s 189us/sample - loss: 0.0151 - accuracy: 0.9967 - val_loss: 0.1181 - val_accuracy: 0.9773\n",
      "Epoch 13/50\n",
      "9690/9690 [==============================] - 2s 182us/sample - loss: 0.0085 - accuracy: 0.9978 - val_loss: 0.3240 - val_accuracy: 0.9718\n",
      "Epoch 14/50\n",
      "9690/9690 [==============================] - 2s 191us/sample - loss: 0.0095 - accuracy: 0.9976 - val_loss: 0.2514 - val_accuracy: 0.9615\n",
      "Epoch 15/50\n",
      "9690/9690 [==============================] - 2s 194us/sample - loss: 0.0120 - accuracy: 0.9969 - val_loss: 0.1490 - val_accuracy: 0.9761\n",
      "Epoch 16/50\n",
      "9690/9690 [==============================] - 2s 186us/sample - loss: 0.0216 - accuracy: 0.9972 - val_loss: 0.1170 - val_accuracy: 0.9825\n",
      "Epoch 17/50\n",
      "9690/9690 [==============================] - 2s 193us/sample - loss: 0.0178 - accuracy: 0.9975 - val_loss: 0.2284 - val_accuracy: 0.9728\n",
      "Epoch 18/50\n",
      "9690/9690 [==============================] - 2s 188us/sample - loss: 0.0132 - accuracy: 0.9978 - val_loss: 0.3601 - val_accuracy: 0.9657\n",
      "Epoch 19/50\n",
      "9690/9690 [==============================] - 2s 186us/sample - loss: 0.0137 - accuracy: 0.9977 - val_loss: 0.4464 - val_accuracy: 0.9735\n",
      "Epoch 20/50\n",
      "9690/9690 [==============================] - 2s 185us/sample - loss: 0.0061 - accuracy: 0.9983 - val_loss: 0.1896 - val_accuracy: 0.9786\n",
      "Epoch 21/50\n",
      "9690/9690 [==============================] - 2s 184us/sample - loss: 0.0101 - accuracy: 0.9992 - val_loss: 0.2632 - val_accuracy: 0.9735\n",
      "Epoch 22/50\n",
      "9690/9690 [==============================] - 2s 188us/sample - loss: 0.0062 - accuracy: 0.9991 - val_loss: 0.1325 - val_accuracy: 0.9790\n",
      "Epoch 23/50\n",
      "9690/9690 [==============================] - 2s 192us/sample - loss: 0.0059 - accuracy: 0.9992 - val_loss: 0.2131 - val_accuracy: 0.9754\n",
      "Epoch 24/50\n",
      "9690/9690 [==============================] - 2s 185us/sample - loss: 0.0039 - accuracy: 0.9990 - val_loss: 0.2280 - val_accuracy: 0.9773\n",
      "Epoch 25/50\n",
      "9690/9690 [==============================] - 2s 185us/sample - loss: 0.0111 - accuracy: 0.9978 - val_loss: 0.1437 - val_accuracy: 0.9828\n",
      "Epoch 26/50\n",
      "9690/9690 [==============================] - 2s 183us/sample - loss: 0.0060 - accuracy: 0.9990 - val_loss: 0.3370 - val_accuracy: 0.9693\n",
      "Epoch 27/50\n",
      "9690/9690 [==============================] - 2s 186us/sample - loss: 0.0060 - accuracy: 0.9989 - val_loss: 0.2858 - val_accuracy: 0.9744\n",
      "Epoch 28/50\n",
      "9690/9690 [==============================] - 2s 187us/sample - loss: 0.0149 - accuracy: 0.9975 - val_loss: 0.1589 - val_accuracy: 0.9786\n",
      "Epoch 29/50\n",
      "9690/9690 [==============================] - 2s 188us/sample - loss: 0.0090 - accuracy: 0.9983 - val_loss: 0.6015 - val_accuracy: 0.9592\n",
      "Epoch 30/50\n",
      "9690/9690 [==============================] - 2s 192us/sample - loss: 0.0048 - accuracy: 0.9991 - val_loss: 0.4525 - val_accuracy: 0.9751\n",
      "Epoch 31/50\n",
      "9690/9690 [==============================] - 2s 192us/sample - loss: 0.0034 - accuracy: 0.9993 - val_loss: 0.3080 - val_accuracy: 0.9706\n",
      "Epoch 32/50\n",
      "9690/9690 [==============================] - 2s 192us/sample - loss: 0.0067 - accuracy: 0.9990 - val_loss: 0.2549 - val_accuracy: 0.9715\n",
      "Epoch 33/50\n",
      "9690/9690 [==============================] - 2s 186us/sample - loss: 0.0047 - accuracy: 0.9989 - val_loss: 0.1413 - val_accuracy: 0.9832\n",
      "Epoch 34/50\n",
      "9690/9690 [==============================] - 2s 188us/sample - loss: 0.0076 - accuracy: 0.9990 - val_loss: 0.2313 - val_accuracy: 0.9751\n",
      "Epoch 35/50\n",
      "9690/9690 [==============================] - 2s 190us/sample - loss: 0.0126 - accuracy: 0.9982 - val_loss: 0.1360 - val_accuracy: 0.9809\n",
      "Epoch 36/50\n",
      "9690/9690 [==============================] - 2s 194us/sample - loss: 0.0058 - accuracy: 0.9990 - val_loss: 0.2672 - val_accuracy: 0.9786\n",
      "Epoch 37/50\n",
      "9690/9690 [==============================] - 2s 189us/sample - loss: 0.0064 - accuracy: 0.9986 - val_loss: 0.5930 - val_accuracy: 0.9764\n",
      "Epoch 38/50\n",
      "9690/9690 [==============================] - 2s 188us/sample - loss: 0.0011 - accuracy: 0.9997 - val_loss: 0.8222 - val_accuracy: 0.9699\n",
      "Epoch 39/50\n",
      "9690/9690 [==============================] - 2s 188us/sample - loss: 0.0115 - accuracy: 0.9987 - val_loss: 1.4449 - val_accuracy: 0.9773\n",
      "Epoch 40/50\n",
      "9690/9690 [==============================] - 2s 190us/sample - loss: 0.0076 - accuracy: 0.9988 - val_loss: 2.0927 - val_accuracy: 0.9751\n",
      "Epoch 41/50\n",
      "9690/9690 [==============================] - 2s 191us/sample - loss: 0.0065 - accuracy: 0.9989 - val_loss: 1.4301 - val_accuracy: 0.9754\n",
      "Epoch 42/50\n",
      "9690/9690 [==============================] - 2s 194us/sample - loss: 0.0013 - accuracy: 0.9997 - val_loss: 2.0368 - val_accuracy: 0.9783\n",
      "Epoch 43/50\n",
      "9690/9690 [==============================] - 2s 192us/sample - loss: 0.0042 - accuracy: 0.9995 - val_loss: 1.6175 - val_accuracy: 0.9738\n",
      "Epoch 44/50\n",
      "9690/9690 [==============================] - 2s 194us/sample - loss: 0.0064 - accuracy: 0.9989 - val_loss: 1.1954 - val_accuracy: 0.9498\n",
      "Epoch 45/50\n",
      "9690/9690 [==============================] - 2s 188us/sample - loss: 0.0021 - accuracy: 0.9993 - val_loss: 0.4608 - val_accuracy: 0.9764\n",
      "Epoch 46/50\n",
      "9690/9690 [==============================] - 2s 192us/sample - loss: 0.0028 - accuracy: 0.9997 - val_loss: 0.4435 - val_accuracy: 0.9832\n",
      "Epoch 47/50\n",
      "9690/9690 [==============================] - 2s 192us/sample - loss: 0.0053 - accuracy: 0.9991 - val_loss: 0.4395 - val_accuracy: 0.9754\n",
      "Epoch 48/50\n",
      "9690/9690 [==============================] - 2s 189us/sample - loss: 0.0104 - accuracy: 0.9990 - val_loss: 0.5235 - val_accuracy: 0.9796\n",
      "Epoch 49/50\n",
      "9690/9690 [==============================] - 2s 186us/sample - loss: 0.0034 - accuracy: 0.9995 - val_loss: 0.4585 - val_accuracy: 0.9754\n",
      "Epoch 50/50\n",
      "9690/9690 [==============================] - 2s 190us/sample - loss: 0.0082 - accuracy: 0.9992 - val_loss: 0.3440 - val_accuracy: 0.9735\n"
     ]
    }
   ],
   "source": [
    "classifier.build_classifier(X_train.to_numpy(), y_train.to_numpy(), (X_test.to_numpy(), y_test.to_numpy()))"
   ]
  },
  {
   "cell_type": "code",
   "execution_count": null,
   "metadata": {},
   "outputs": [],
   "source": [
    "classifier.augmented_training(X_train.to_numpy(), y_train.to_numpy(), X_test.to_numpy(), y_test.to_numpy())"
   ]
  },
  {
   "cell_type": "code",
   "execution_count": null,
   "metadata": {},
   "outputs": [],
   "source": []
  },
  {
   "cell_type": "code",
   "execution_count": 1,
   "metadata": {},
   "outputs": [
    {
     "output_type": "execute_result",
     "data": {
      "text/plain": [
       "{'status': 'ok', 'restart': True}"
      ]
     },
     "metadata": {},
     "execution_count": 1
    }
   ],
   "source": [
    "import IPython\n",
    "app = IPython.Application.instance()\n",
    "app.kernel.do_shutdown(True)"
   ]
  },
  {
   "cell_type": "code",
   "execution_count": null,
   "metadata": {},
   "outputs": [],
   "source": []
  }
 ],
 "metadata": {
  "language_info": {
   "codemirror_mode": {
    "name": "ipython",
    "version": 3
   },
   "file_extension": ".py",
   "mimetype": "text/x-python",
   "name": "python",
   "nbconvert_exporter": "python",
   "pygments_lexer": "ipython3",
   "version": "3.7.9-final"
  },
  "kernelspec": {
   "name": "python3",
   "display_name": "Python 3.7.9 64-bit ('suplearn': conda)",
   "metadata": {
    "interpreter": {
     "hash": "f669ade7ac486071bd60c2fa29ee3295826785883e735477c7c16f13d8637a87"
    }
   }
  }
 },
 "nbformat": 4,
 "nbformat_minor": 4
}