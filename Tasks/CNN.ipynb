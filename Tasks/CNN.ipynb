{
 "cells": [
  {
   "cell_type": "code",
   "execution_count": 1,
   "metadata": {},
   "outputs": [],
   "source": [
    "import wandb\n",
    "import tensorflow as tf\n",
    "\n",
    "import SupervisedLearning.Experiments.CNNExperments as ce\n",
    "import SupervisedLearning.Experiments.GetData as gd\n",
    "import SupervisedLearning.NeuralNetworks.Conv as cnn\n",
    "\n",
    "%load_ext autoreload\n",
    "%autoreload 2"
   ]
  },
  {
   "cell_type": "code",
   "execution_count": 2,
   "metadata": {},
   "outputs": [],
   "source": [
    "gpus = tf.config.experimental.list_physical_devices('GPU')\n",
    "if gpus:\n",
    "    try:\n",
    "        for gpu in gpus:\n",
    "            tf.config.experimental.set_memory_growth(gpu, True)\n",
    "    except RuntimeError as e:\n",
    "        print(\"Err: \", e)"
   ]
  },
  {
   "cell_type": "code",
   "execution_count": 3,
   "metadata": {},
   "outputs": [],
   "source": [
    "X_train, y_train = gd.get_data()"
   ]
  },
  {
   "cell_type": "code",
   "execution_count": 4,
   "metadata": {},
   "outputs": [],
   "source": [
    "X_test, y_test = gd.get_data(train=False)"
   ]
  },
  {
   "cell_type": "code",
   "execution_count": 5,
   "metadata": {},
   "outputs": [],
   "source": [
    "classifier = cnn.ConvolutionalNeuralNetwork(10)\n",
    "classifier_name = 'CNN'\n"
   ]
  },
  {
   "cell_type": "code",
   "execution_count": 6,
   "metadata": {},
   "outputs": [
    {
     "output_type": "stream",
     "name": "stdout",
     "text": [
      "Model: \"sequential\"\n_________________________________________________________________\nLayer (type)                 Output Shape              Param #   \n=================================================================\nconv2d (Conv2D)              (None, 48, 48, 75)        750       \n_________________________________________________________________\nbatch_normalization (BatchNo (None, 48, 48, 75)        300       \n_________________________________________________________________\nmax_pooling2d (MaxPooling2D) (None, 24, 24, 75)        0         \n_________________________________________________________________\nconv2d_1 (Conv2D)            (None, 24, 24, 50)        33800     \n_________________________________________________________________\ndropout (Dropout)            (None, 24, 24, 50)        0         \n_________________________________________________________________\nbatch_normalization_1 (Batch (None, 24, 24, 50)        200       \n_________________________________________________________________\nmax_pooling2d_1 (MaxPooling2 (None, 12, 12, 50)        0         \n_________________________________________________________________\nconv2d_2 (Conv2D)            (None, 12, 12, 25)        11275     \n_________________________________________________________________\nbatch_normalization_2 (Batch (None, 12, 12, 25)        100       \n_________________________________________________________________\nmax_pooling2d_2 (MaxPooling2 (None, 6, 6, 25)          0         \n_________________________________________________________________\nflatten (Flatten)            (None, 900)               0         \n_________________________________________________________________\ndense (Dense)                (None, 512)               461312    \n_________________________________________________________________\ndense_1 (Dense)              (None, 512)               262656    \n_________________________________________________________________\ndropout_1 (Dropout)          (None, 512)               0         \n_________________________________________________________________\ndense_2 (Dense)              (None, 10)                5130      \n=================================================================\nTotal params: 775,523\nTrainable params: 775,223\nNon-trainable params: 300\n_________________________________________________________________\n"
     ]
    }
   ],
   "source": [
    "classifier.model.summary()"
   ]
  },
  {
   "cell_type": "code",
   "execution_count": 7,
   "metadata": {},
   "outputs": [
    {
     "output_type": "stream",
     "name": "stderr",
     "text": [
      "Failed to query for notebook name, you can set it manually with the WANDB_NOTEBOOK_NAME environment variable\n",
      "wandb: Currently logged in as: samfh (use `wandb login --relogin` to force relogin)\n",
      "wandb: wandb version 0.10.12 is available!  To upgrade, please run:\n",
      "wandb:  $ pip install wandb --upgrade\n"
     ]
    },
    {
     "output_type": "display_data",
     "data": {
      "text/plain": "<IPython.core.display.HTML object>",
      "text/html": "\n                Tracking run with wandb version 0.10.8<br/>\n                Syncing run <strong style=\"color:#cdcd00\">wise-eon-101</strong> to <a href=\"https://wandb.ai\" target=\"_blank\">Weights & Biases</a> <a href=\"https://docs.wandb.com/integrations/jupyter.html\" target=\"_blank\">(Documentation)</a>.<br/>\n                Project page: <a href=\"https://wandb.ai/supervisedlearning/CNN%20All%20kf%20experiments\" target=\"_blank\">https://wandb.ai/supervisedlearning/CNN%20All%20kf%20experiments</a><br/>\n                Run page: <a href=\"https://wandb.ai/supervisedlearning/CNN%20All%20kf%20experiments/runs/1o7ok5df\" target=\"_blank\">https://wandb.ai/supervisedlearning/CNN%20All%20kf%20experiments/runs/1o7ok5df</a><br/>\n                Run data is saved locally in <code>wandb\\run-20201205_160739-1o7ok5df</code><br/><br/>\n            "
     },
     "metadata": {}
    },
    {
     "output_type": "stream",
     "name": "stdout",
     "text": [
      "Train on 8721 samples, validate on 969 samples\n",
      "Epoch 1/50\n",
      "8721/8721 [==============================] - 4s 503us/sample - loss: 0.1017 - accuracy: 0.9764 - val_loss: 0.0832 - val_accuracy: 0.9763\n",
      "Epoch 2/50\n",
      "8721/8721 [==============================] - 2s 201us/sample - loss: 0.0248 - accuracy: 0.9939 - val_loss: 0.6774 - val_accuracy: 0.9804\n",
      "Epoch 3/50\n",
      "8721/8721 [==============================] - 2s 188us/sample - loss: 0.0268 - accuracy: 0.9952 - val_loss: 0.1356 - val_accuracy: 0.9825\n",
      "Epoch 4/50\n",
      "8721/8721 [==============================] - 2s 201us/sample - loss: 0.0057 - accuracy: 0.9985 - val_loss: 0.0040 - val_accuracy: 0.9990\n",
      "Epoch 5/50\n",
      "8721/8721 [==============================] - 2s 188us/sample - loss: 0.0103 - accuracy: 0.9984 - val_loss: 0.0207 - val_accuracy: 0.9969\n",
      "Epoch 6/50\n",
      "8721/8721 [==============================] - 2s 191us/sample - loss: 0.0115 - accuracy: 0.9992 - val_loss: 0.1337 - val_accuracy: 0.9701\n",
      "Epoch 7/50\n",
      "8721/8721 [==============================] - 2s 188us/sample - loss: 0.0031 - accuracy: 0.9998 - val_loss: 0.1130 - val_accuracy: 0.9928\n",
      "Epoch 8/50\n",
      "8721/8721 [==============================] - 2s 191us/sample - loss: 0.0054 - accuracy: 0.9992 - val_loss: 0.0425 - val_accuracy: 0.9959\n",
      "Epoch 9/50\n",
      "8721/8721 [==============================] - 2s 193us/sample - loss: 5.3307e-04 - accuracy: 0.9999 - val_loss: 0.0058 - val_accuracy: 0.9979\n",
      "Epoch 10/50\n",
      "8721/8721 [==============================] - 2s 193us/sample - loss: 0.0016 - accuracy: 0.9998 - val_loss: 0.0328 - val_accuracy: 0.9969\n",
      "Epoch 11/50\n",
      "8721/8721 [==============================] - 2s 193us/sample - loss: 9.1648e-04 - accuracy: 0.9998 - val_loss: 0.0541 - val_accuracy: 0.9979\n",
      "Epoch 12/50\n",
      "8721/8721 [==============================] - 2s 196us/sample - loss: 0.0120 - accuracy: 0.9992 - val_loss: 0.0290 - val_accuracy: 0.9948\n",
      "Epoch 13/50\n",
      "8721/8721 [==============================] - 2s 193us/sample - loss: 6.5963e-07 - accuracy: 1.0000 - val_loss: 0.3595 - val_accuracy: 0.9886\n",
      "Epoch 14/50\n",
      "8721/8721 [==============================] - 2s 195us/sample - loss: 1.0703e-04 - accuracy: 0.9999 - val_loss: 0.2762 - val_accuracy: 0.9752\n",
      "Epoch 15/50\n",
      "8721/8721 [==============================] - 2s 196us/sample - loss: 3.3483e-07 - accuracy: 1.0000 - val_loss: 0.0668 - val_accuracy: 0.9917\n",
      "Epoch 16/50\n",
      "8721/8721 [==============================] - 2s 191us/sample - loss: 0.0011 - accuracy: 0.9999 - val_loss: 0.0168 - val_accuracy: 0.9959\n",
      "Epoch 17/50\n",
      "8721/8721 [==============================] - 2s 187us/sample - loss: 0.0159 - accuracy: 0.9995 - val_loss: 0.2374 - val_accuracy: 0.9897\n",
      "Epoch 18/50\n",
      "8721/8721 [==============================] - 2s 202us/sample - loss: 0.0039 - accuracy: 0.9998 - val_loss: 0.0737 - val_accuracy: 0.9938\n",
      "Epoch 19/50\n",
      "8721/8721 [==============================] - 2s 204us/sample - loss: 0.0016 - accuracy: 0.9999 - val_loss: 0.1110 - val_accuracy: 0.9948\n",
      "Epoch 20/50\n",
      "8721/8721 [==============================] - 2s 196us/sample - loss: 0.0033 - accuracy: 0.9999 - val_loss: 0.0295 - val_accuracy: 0.9969\n",
      "Epoch 21/50\n",
      "8721/8721 [==============================] - 2s 219us/sample - loss: 1.2820e-05 - accuracy: 1.0000 - val_loss: 0.0401 - val_accuracy: 0.9979\n",
      "Epoch 22/50\n",
      "8721/8721 [==============================] - 2s 193us/sample - loss: 1.3669e-10 - accuracy: 1.0000 - val_loss: 0.0728 - val_accuracy: 0.9856\n",
      "Epoch 23/50\n",
      "8721/8721 [==============================] - 2s 194us/sample - loss: 0.0084 - accuracy: 0.9997 - val_loss: 0.0342 - val_accuracy: 0.9969\n",
      "Epoch 24/50\n",
      "8721/8721 [==============================] - 2s 195us/sample - loss: 0.0028 - accuracy: 0.9997 - val_loss: 0.0283 - val_accuracy: 0.9948\n",
      "Epoch 25/50\n",
      "8721/8721 [==============================] - 2s 196us/sample - loss: 0.0024 - accuracy: 0.9999 - val_loss: 0.0352 - val_accuracy: 0.9969\n",
      "Epoch 26/50\n",
      "8721/8721 [==============================] - 2s 194us/sample - loss: 0.0024 - accuracy: 0.9999 - val_loss: 0.3778 - val_accuracy: 0.9866\n",
      "Epoch 27/50\n",
      "8721/8721 [==============================] - 2s 193us/sample - loss: 0.0029 - accuracy: 0.9998 - val_loss: 0.1102 - val_accuracy: 0.9959\n",
      "Epoch 28/50\n",
      "8721/8721 [==============================] - 2s 197us/sample - loss: 0.0017 - accuracy: 0.9998 - val_loss: 0.0103 - val_accuracy: 0.9979\n",
      "Epoch 29/50\n",
      "8721/8721 [==============================] - 2s 197us/sample - loss: 4.4871e-04 - accuracy: 0.9999 - val_loss: 0.0717 - val_accuracy: 0.9979\n",
      "Epoch 30/50\n",
      "8721/8721 [==============================] - 2s 196us/sample - loss: 0.0000e+00 - accuracy: 1.0000 - val_loss: 0.0671 - val_accuracy: 0.9979\n",
      "Epoch 31/50\n",
      "8721/8721 [==============================] - 2s 198us/sample - loss: 0.0000e+00 - accuracy: 1.0000 - val_loss: 0.0674 - val_accuracy: 0.9979\n",
      "Epoch 32/50\n",
      "8721/8721 [==============================] - 2s 195us/sample - loss: 0.0000e+00 - accuracy: 1.0000 - val_loss: 0.0666 - val_accuracy: 0.9979\n",
      "Epoch 33/50\n",
      "8721/8721 [==============================] - 2s 207us/sample - loss: 0.0000e+00 - accuracy: 1.0000 - val_loss: 0.0669 - val_accuracy: 0.9979\n",
      "Epoch 34/50\n",
      "8721/8721 [==============================] - 2s 192us/sample - loss: 0.0000e+00 - accuracy: 1.0000 - val_loss: 0.0660 - val_accuracy: 0.9979\n",
      "Epoch 35/50\n",
      "8721/8721 [==============================] - 2s 190us/sample - loss: 0.0000e+00 - accuracy: 1.0000 - val_loss: 0.0658 - val_accuracy: 0.9979\n",
      "Epoch 36/50\n",
      "8721/8721 [==============================] - 2s 198us/sample - loss: 0.0000e+00 - accuracy: 1.0000 - val_loss: 0.0661 - val_accuracy: 0.9979\n",
      "Epoch 37/50\n",
      "8721/8721 [==============================] - 2s 191us/sample - loss: 0.0000e+00 - accuracy: 1.0000 - val_loss: 0.0658 - val_accuracy: 0.9979\n",
      "Epoch 38/50\n",
      "8721/8721 [==============================] - 2s 189us/sample - loss: 0.0000e+00 - accuracy: 1.0000 - val_loss: 0.0624 - val_accuracy: 0.9979\n",
      "Epoch 39/50\n",
      "8721/8721 [==============================] - 2s 195us/sample - loss: 0.0000e+00 - accuracy: 1.0000 - val_loss: 0.0636 - val_accuracy: 0.9979\n",
      "Epoch 40/50\n",
      "8721/8721 [==============================] - 2s 196us/sample - loss: 0.0000e+00 - accuracy: 1.0000 - val_loss: 0.0638 - val_accuracy: 0.9979\n",
      "Epoch 41/50\n",
      "8721/8721 [==============================] - 2s 191us/sample - loss: 0.0000e+00 - accuracy: 1.0000 - val_loss: 0.0633 - val_accuracy: 0.9979\n",
      "Epoch 42/50\n",
      "8721/8721 [==============================] - 2s 188us/sample - loss: 5.5948e-08 - accuracy: 1.0000 - val_loss: 0.0211 - val_accuracy: 0.9969\n",
      "Epoch 43/50\n",
      "8721/8721 [==============================] - 2s 195us/sample - loss: 2.7338e-11 - accuracy: 1.0000 - val_loss: 0.0155 - val_accuracy: 0.9969\n",
      "Epoch 44/50\n",
      "8721/8721 [==============================] - 2s 190us/sample - loss: 9.2730e-05 - accuracy: 0.9999 - val_loss: 0.0094 - val_accuracy: 0.9990\n",
      "Epoch 45/50\n",
      "8721/8721 [==============================] - 2s 186us/sample - loss: 0.0000e+00 - accuracy: 1.0000 - val_loss: 0.0100 - val_accuracy: 0.9990\n",
      "Epoch 46/50\n",
      "8721/8721 [==============================] - 2s 196us/sample - loss: 0.0000e+00 - accuracy: 1.0000 - val_loss: 0.0094 - val_accuracy: 0.9990\n",
      "Epoch 47/50\n",
      "8721/8721 [==============================] - 2s 187us/sample - loss: 0.0000e+00 - accuracy: 1.0000 - val_loss: 0.0100 - val_accuracy: 0.9990\n",
      "Epoch 48/50\n",
      "8721/8721 [==============================] - 2s 189us/sample - loss: 1.3669e-10 - accuracy: 1.0000 - val_loss: 0.0425 - val_accuracy: 0.9969\n",
      "Epoch 49/50\n",
      "8721/8721 [==============================] - 2s 185us/sample - loss: 0.0000e+00 - accuracy: 1.0000 - val_loss: 0.0327 - val_accuracy: 0.9979\n",
      "Epoch 50/50\n",
      "8721/8721 [==============================] - 2s 191us/sample - loss: 6.8346e-11 - accuracy: 1.0000 - val_loss: 0.0328 - val_accuracy: 0.9979\n"
     ]
    },
    {
     "output_type": "display_data",
     "data": {
      "text/plain": "<IPython.core.display.HTML object>",
      "text/html": "<br/>Waiting for W&B process to finish, PID 21184<br/>Program ended successfully."
     },
     "metadata": {}
    },
    {
     "output_type": "display_data",
     "data": {
      "text/plain": "<IPython.core.display.HTML object>",
      "text/html": "Find user logs for this run at: <code>wandb\\run-20201205_160739-1o7ok5df\\logs\\debug.log</code>"
     },
     "metadata": {}
    },
    {
     "output_type": "display_data",
     "data": {
      "text/plain": "<IPython.core.display.HTML object>",
      "text/html": "Find internal logs for this run at: <code>wandb\\run-20201205_160739-1o7ok5df\\logs\\debug-internal.log</code>"
     },
     "metadata": {}
    },
    {
     "output_type": "display_data",
     "data": {
      "text/plain": "<IPython.core.display.HTML object>",
      "text/html": "<h3>Run summary:</h3><br/><style>\n    table.wandb td:nth-child(1) { padding: 0 10px; text-align: right }\n    </style><table class=\"wandb\">\n<tr><td>epoch</td><td>49</td></tr><tr><td>loss</td><td>0.0</td></tr><tr><td>accuracy</td><td>1.0</td></tr><tr><td>val_loss</td><td>0.0328</td></tr><tr><td>val_accuracy</td><td>0.99794</td></tr><tr><td>_step</td><td>50</td></tr><tr><td>_runtime</td><td>89</td></tr><tr><td>_timestamp</td><td>1607184548</td></tr><tr><td>best_val_loss</td><td>0.00395</td></tr><tr><td>best_epoch</td><td>3</td></tr><tr><td>Label_class</td><td>speed limit 20</td></tr><tr><td>num_classes</td><td>2</td></tr></table>"
     },
     "metadata": {}
    },
    {
     "output_type": "display_data",
     "data": {
      "text/plain": "<IPython.core.display.HTML object>",
      "text/html": "<h3>Run history:</h3><br/><style>\n    table.wandb td:nth-child(1) { padding: 0 10px; text-align: right }\n    </style><table class=\"wandb\">\n<tr><td>epoch</td><td>▁▁▁▁▂▂▂▂▂▃▃▃▃▃▃▄▄▄▄▄▅▅▅▅▅▅▆▆▆▆▆▆▇▇▇▇▇███</td></tr><tr><td>loss</td><td>█▃▃▁▂▁▁▁▁▂▁▁▁▂▁▁▁▁▂▁▁▁▁▁▁▁▁▁▁▁▁▁▁▁▁▁▁▁▁▁</td></tr><tr><td>accuracy</td><td>▁▆▇█████████████████████████████████████</td></tr><tr><td>val_loss</td><td>▂█▂▁▂▂▁▁▂▁▅▄▁▃▂▂▁▂▁▁▅▂▁▂▂▂▂▂▂▂▂▂▂▁▁▁▁▁▁▁</td></tr><tr><td>val_accuracy</td><td>▃▄▄█▁▆▇██▇▆▂▇▆▇▇█▅▇▇▅▇███████████▇▇███▇█</td></tr><tr><td>_step</td><td>▁▁▁▁▂▂▂▂▂▃▃▃▃▃▃▄▄▄▄▄▅▅▅▅▅▅▆▆▆▆▆▆▇▇▇▇▇███</td></tr><tr><td>_runtime</td><td>▁▁▁▁▂▂▂▂▂▃▃▃▃▃▃▄▄▄▄▄▅▅▅▅▅▆▆▆▆▆▆▇▇▇▇▇████</td></tr><tr><td>_timestamp</td><td>▁▁▁▁▂▂▂▂▂▃▃▃▃▃▃▄▄▄▄▄▅▅▅▅▅▆▆▆▆▆▆▇▇▇▇▇████</td></tr><tr><td>num_classes</td><td>▁</td></tr></table><br/>"
     },
     "metadata": {}
    },
    {
     "output_type": "display_data",
     "data": {
      "text/plain": "<IPython.core.display.HTML object>",
      "text/html": "Synced 5 W&B file(s), 1 media file(s), 0 artifact file(s) and 1 other file(s)"
     },
     "metadata": {}
    },
    {
     "output_type": "display_data",
     "data": {
      "text/plain": "<IPython.core.display.HTML object>",
      "text/html": "\n                    <br/>Synced <strong style=\"color:#cdcd00\">wise-eon-101</strong>: <a href=\"https://wandb.ai/supervisedlearning/CNN%20All%20kf%20experiments/runs/1o7ok5df\" target=\"_blank\">https://wandb.ai/supervisedlearning/CNN%20All%20kf%20experiments/runs/1o7ok5df</a><br/>\n                "
     },
     "metadata": {}
    },
    {
     "output_type": "stream",
     "name": "stderr",
     "text": [
      "wandb: wandb version 0.10.12 is available!  To upgrade, please run:\nwandb:  $ pip install wandb --upgrade\n"
     ]
    },
    {
     "output_type": "display_data",
     "data": {
      "text/plain": "<IPython.core.display.HTML object>",
      "text/html": "\n                Tracking run with wandb version 0.10.8<br/>\n                Syncing run <strong style=\"color:#cdcd00\">logical-dawn-102</strong> to <a href=\"https://wandb.ai\" target=\"_blank\">Weights & Biases</a> <a href=\"https://docs.wandb.com/integrations/jupyter.html\" target=\"_blank\">(Documentation)</a>.<br/>\n                Project page: <a href=\"https://wandb.ai/supervisedlearning/CNN%20All%20kf%20experiments\" target=\"_blank\">https://wandb.ai/supervisedlearning/CNN%20All%20kf%20experiments</a><br/>\n                Run page: <a href=\"https://wandb.ai/supervisedlearning/CNN%20All%20kf%20experiments/runs/heaol6ju\" target=\"_blank\">https://wandb.ai/supervisedlearning/CNN%20All%20kf%20experiments/runs/heaol6ju</a><br/>\n                Run data is saved locally in <code>wandb\\run-20201205_160917-heaol6ju</code><br/><br/>\n            "
     },
     "metadata": {}
    },
    {
     "output_type": "stream",
     "name": "stdout",
     "text": [
      "Train on 8721 samples, validate on 969 samples\n",
      "Epoch 1/50\n",
      "8721/8721 [==============================] - 2s 200us/sample - loss: 0.0117 - accuracy: 0.9992 - val_loss: 0.0000e+00 - val_accuracy: 1.0000\n",
      "Epoch 2/50\n",
      "8721/8721 [==============================] - 2s 193us/sample - loss: 4.2375e-10 - accuracy: 1.0000 - val_loss: 0.0000e+00 - val_accuracy: 1.0000\n",
      "Epoch 3/50\n",
      "8721/8721 [==============================] - 2s 193us/sample - loss: 0.0121 - accuracy: 0.9997 - val_loss: 2.3374e-09 - val_accuracy: 1.0000\n",
      "Epoch 4/50\n",
      "8721/8721 [==============================] - 2s 188us/sample - loss: 0.0055 - accuracy: 0.9994 - val_loss: 0.0000e+00 - val_accuracy: 1.0000\n",
      "Epoch 5/50\n",
      "8721/8721 [==============================] - 2s 198us/sample - loss: 1.5036e-10 - accuracy: 1.0000 - val_loss: 0.0000e+00 - val_accuracy: 1.0000\n",
      "Epoch 6/50\n",
      "8721/8721 [==============================] - 2s 195us/sample - loss: 0.0030 - accuracy: 0.9999 - val_loss: 0.0000e+00 - val_accuracy: 1.0000\n",
      "Epoch 7/50\n",
      "8721/8721 [==============================] - 2s 190us/sample - loss: 6.8588e-04 - accuracy: 0.9998 - val_loss: 0.0000e+00 - val_accuracy: 1.0000\n",
      "Epoch 8/50\n",
      "8721/8721 [==============================] - 2s 190us/sample - loss: 0.0000e+00 - accuracy: 1.0000 - val_loss: 0.0000e+00 - val_accuracy: 1.0000\n",
      "Epoch 9/50\n",
      "8721/8721 [==============================] - 2s 187us/sample - loss: 0.0000e+00 - accuracy: 1.0000 - val_loss: 0.0000e+00 - val_accuracy: 1.0000\n",
      "Epoch 10/50\n",
      "8721/8721 [==============================] - 2s 195us/sample - loss: 1.3669e-10 - accuracy: 1.0000 - val_loss: 0.0000e+00 - val_accuracy: 1.0000\n",
      "Epoch 11/50\n",
      "8721/8721 [==============================] - 2s 189us/sample - loss: 2.1157e-05 - accuracy: 1.0000 - val_loss: 7.4414e-07 - val_accuracy: 1.0000\n",
      "Epoch 12/50\n",
      "8721/8721 [==============================] - 2s 197us/sample - loss: 5.9497e-04 - accuracy: 0.9999 - val_loss: 0.0000e+00 - val_accuracy: 1.0000\n",
      "Epoch 13/50\n",
      "8721/8721 [==============================] - 2s 186us/sample - loss: 0.0038 - accuracy: 0.9999 - val_loss: 0.0317 - val_accuracy: 0.9990\n",
      "Epoch 14/50\n",
      "8721/8721 [==============================] - 2s 187us/sample - loss: 3.4768e-04 - accuracy: 0.9999 - val_loss: 0.1113 - val_accuracy: 0.9959\n",
      "Epoch 15/50\n",
      "8721/8721 [==============================] - 2s 193us/sample - loss: 1.0306e-08 - accuracy: 1.0000 - val_loss: 0.0016 - val_accuracy: 0.9990\n",
      "Epoch 16/50\n",
      "8721/8721 [==============================] - 2s 192us/sample - loss: 3.7863e-09 - accuracy: 1.0000 - val_loss: 0.0201 - val_accuracy: 0.9990\n",
      "Epoch 17/50\n",
      "8721/8721 [==============================] - 2s 189us/sample - loss: 1.2584e-07 - accuracy: 1.0000 - val_loss: 0.0000e+00 - val_accuracy: 1.0000\n",
      "Epoch 18/50\n",
      "8721/8721 [==============================] - 2s 187us/sample - loss: 0.0000e+00 - accuracy: 1.0000 - val_loss: 0.0000e+00 - val_accuracy: 1.0000\n",
      "Epoch 19/50\n",
      "8721/8721 [==============================] - 2s 189us/sample - loss: 2.7338e-11 - accuracy: 1.0000 - val_loss: 0.0000e+00 - val_accuracy: 1.0000\n",
      "Epoch 20/50\n",
      "8721/8721 [==============================] - 2s 192us/sample - loss: 0.0000e+00 - accuracy: 1.0000 - val_loss: 0.0000e+00 - val_accuracy: 1.0000\n",
      "Epoch 21/50\n",
      "8721/8721 [==============================] - 2s 188us/sample - loss: 8.6044e-06 - accuracy: 1.0000 - val_loss: 0.0000e+00 - val_accuracy: 1.0000\n",
      "Epoch 22/50\n",
      "8721/8721 [==============================] - 2s 196us/sample - loss: 8.0372e-09 - accuracy: 1.0000 - val_loss: 0.0000e+00 - val_accuracy: 1.0000\n",
      "Epoch 23/50\n",
      "8721/8721 [==============================] - 2s 194us/sample - loss: 0.0000e+00 - accuracy: 1.0000 - val_loss: 0.0000e+00 - val_accuracy: 1.0000\n",
      "Epoch 24/50\n",
      "8721/8721 [==============================] - 2s 197us/sample - loss: 7.5300e-06 - accuracy: 1.0000 - val_loss: 0.0000e+00 - val_accuracy: 1.0000\n",
      "Epoch 25/50\n",
      "8721/8721 [==============================] - 2s 199us/sample - loss: 0.0000e+00 - accuracy: 1.0000 - val_loss: 0.0000e+00 - val_accuracy: 1.0000\n",
      "Epoch 26/50\n",
      "8721/8721 [==============================] - 2s 199us/sample - loss: 0.0012 - accuracy: 0.9999 - val_loss: 0.0000e+00 - val_accuracy: 1.0000\n",
      "Epoch 27/50\n",
      "8721/8721 [==============================] - 2s 200us/sample - loss: 0.0044 - accuracy: 0.9998 - val_loss: 0.0000e+00 - val_accuracy: 1.0000\n",
      "Epoch 28/50\n",
      "8721/8721 [==============================] - 2s 195us/sample - loss: 0.0043 - accuracy: 0.9998 - val_loss: 0.0000e+00 - val_accuracy: 1.0000\n",
      "Epoch 29/50\n",
      "8721/8721 [==============================] - 2s 185us/sample - loss: 0.0033 - accuracy: 0.9998 - val_loss: 1.0266e-06 - val_accuracy: 1.0000\n",
      "Epoch 30/50\n",
      "8721/8721 [==============================] - 2s 186us/sample - loss: 2.1871e-10 - accuracy: 1.0000 - val_loss: 0.0000e+00 - val_accuracy: 1.0000\n",
      "Epoch 31/50\n",
      "8721/8721 [==============================] - 2s 191us/sample - loss: 1.3023e-04 - accuracy: 0.9999 - val_loss: 0.0000e+00 - val_accuracy: 1.0000\n",
      "Epoch 32/50\n",
      "8721/8721 [==============================] - 2s 194us/sample - loss: 0.0000e+00 - accuracy: 1.0000 - val_loss: 0.0000e+00 - val_accuracy: 1.0000\n",
      "Epoch 33/50\n",
      "8721/8721 [==============================] - 2s 196us/sample - loss: 0.0000e+00 - accuracy: 1.0000 - val_loss: 0.0000e+00 - val_accuracy: 1.0000\n",
      "Epoch 34/50\n",
      "8721/8721 [==============================] - 2s 184us/sample - loss: 0.0000e+00 - accuracy: 1.0000 - val_loss: 0.0000e+00 - val_accuracy: 1.0000\n",
      "Epoch 35/50\n",
      "8721/8721 [==============================] - 2s 191us/sample - loss: 0.0000e+00 - accuracy: 1.0000 - val_loss: 0.0000e+00 - val_accuracy: 1.0000\n",
      "Epoch 36/50\n",
      "8721/8721 [==============================] - 2s 183us/sample - loss: 0.0000e+00 - accuracy: 1.0000 - val_loss: 0.0000e+00 - val_accuracy: 1.0000\n",
      "Epoch 37/50\n",
      "8721/8721 [==============================] - 2s 199us/sample - loss: 0.0000e+00 - accuracy: 1.0000 - val_loss: 0.0000e+00 - val_accuracy: 1.0000\n",
      "Epoch 38/50\n",
      "8721/8721 [==============================] - 2s 186us/sample - loss: 0.0000e+00 - accuracy: 1.0000 - val_loss: 0.0000e+00 - val_accuracy: 1.0000\n",
      "Epoch 39/50\n",
      "8721/8721 [==============================] - 2s 188us/sample - loss: 0.0000e+00 - accuracy: 1.0000 - val_loss: 0.0000e+00 - val_accuracy: 1.0000\n",
      "Epoch 40/50\n",
      "8721/8721 [==============================] - 2s 186us/sample - loss: 0.0000e+00 - accuracy: 1.0000 - val_loss: 0.0000e+00 - val_accuracy: 1.0000\n",
      "Epoch 41/50\n",
      "8721/8721 [==============================] - 2s 181us/sample - loss: 0.0000e+00 - accuracy: 1.0000 - val_loss: 0.0000e+00 - val_accuracy: 1.0000\n",
      "Epoch 42/50\n",
      "8721/8721 [==============================] - 2s 193us/sample - loss: 1.3669e-11 - accuracy: 1.0000 - val_loss: 0.0000e+00 - val_accuracy: 1.0000\n",
      "Epoch 43/50\n",
      "8721/8721 [==============================] - 2s 192us/sample - loss: 0.0000e+00 - accuracy: 1.0000 - val_loss: 0.0000e+00 - val_accuracy: 1.0000\n",
      "Epoch 44/50\n",
      "8721/8721 [==============================] - 2s 189us/sample - loss: 0.0000e+00 - accuracy: 1.0000 - val_loss: 0.0000e+00 - val_accuracy: 1.0000\n",
      "Epoch 45/50\n",
      "8721/8721 [==============================] - 2s 191us/sample - loss: 0.0000e+00 - accuracy: 1.0000 - val_loss: 0.0000e+00 - val_accuracy: 1.0000\n",
      "Epoch 46/50\n",
      "8721/8721 [==============================] - 2s 190us/sample - loss: 0.0000e+00 - accuracy: 1.0000 - val_loss: 0.0000e+00 - val_accuracy: 1.0000\n",
      "Epoch 47/50\n",
      "8721/8721 [==============================] - 2s 198us/sample - loss: 0.0000e+00 - accuracy: 1.0000 - val_loss: 0.0000e+00 - val_accuracy: 1.0000\n",
      "Epoch 48/50\n",
      "8721/8721 [==============================] - 2s 190us/sample - loss: 0.0000e+00 - accuracy: 1.0000 - val_loss: 0.0000e+00 - val_accuracy: 1.0000\n",
      "Epoch 49/50\n",
      "8721/8721 [==============================] - 2s 188us/sample - loss: 0.0000e+00 - accuracy: 1.0000 - val_loss: 0.0000e+00 - val_accuracy: 1.0000\n",
      "Epoch 50/50\n",
      "8721/8721 [==============================] - 2s 199us/sample - loss: 0.0000e+00 - accuracy: 1.0000 - val_loss: 0.0000e+00 - val_accuracy: 1.0000\n"
     ]
    },
    {
     "output_type": "display_data",
     "data": {
      "text/plain": "<IPython.core.display.HTML object>",
      "text/html": "<br/>Waiting for W&B process to finish, PID 29180<br/>Program ended successfully."
     },
     "metadata": {}
    },
    {
     "output_type": "display_data",
     "data": {
      "text/plain": "<IPython.core.display.HTML object>",
      "text/html": "Find user logs for this run at: <code>wandb\\run-20201205_160917-heaol6ju\\logs\\debug.log</code>"
     },
     "metadata": {}
    },
    {
     "output_type": "display_data",
     "data": {
      "text/plain": "<IPython.core.display.HTML object>",
      "text/html": "Find internal logs for this run at: <code>wandb\\run-20201205_160917-heaol6ju\\logs\\debug-internal.log</code>"
     },
     "metadata": {}
    },
    {
     "output_type": "display_data",
     "data": {
      "text/plain": "<IPython.core.display.HTML object>",
      "text/html": "<h3>Run summary:</h3><br/><style>\n    table.wandb td:nth-child(1) { padding: 0 10px; text-align: right }\n    </style><table class=\"wandb\">\n<tr><td>epoch</td><td>49</td></tr><tr><td>loss</td><td>0.0</td></tr><tr><td>accuracy</td><td>1.0</td></tr><tr><td>val_loss</td><td>0.0</td></tr><tr><td>val_accuracy</td><td>1.0</td></tr><tr><td>_step</td><td>50</td></tr><tr><td>_runtime</td><td>86</td></tr><tr><td>_timestamp</td><td>1607184643</td></tr><tr><td>best_val_loss</td><td>0.0</td></tr><tr><td>best_epoch</td><td>2</td></tr><tr><td>Label_class</td><td>speed limit 20</td></tr><tr><td>num_classes</td><td>2</td></tr></table>"
     },
     "metadata": {}
    },
    {
     "output_type": "display_data",
     "data": {
      "text/plain": "<IPython.core.display.HTML object>",
      "text/html": "<h3>Run history:</h3><br/><style>\n    table.wandb td:nth-child(1) { padding: 0 10px; text-align: right }\n    </style><table class=\"wandb\">\n<tr><td>epoch</td><td>▁▁▁▁▂▂▂▂▂▃▃▃▃▃▃▄▄▄▄▄▅▅▅▅▅▅▆▆▆▆▆▆▇▇▇▇▇███</td></tr><tr><td>loss</td><td>█▁█▄▃▁▁▁▁▁▃▁▁▁▁▁▁▁▁▁▂▄▃▃▁▁▁▁▁▁▁▁▁▁▁▁▁▁▁▁</td></tr><tr><td>accuracy</td><td>▁█▅▃▇▆███▇▇▇████████▇▆▆▆▇███████████████</td></tr><tr><td>val_loss</td><td>▁▁▁▁▁▁▁▁▁▁▃█▂▁▁▁▁▁▁▁▁▁▁▁▁▁▁▁▁▁▁▁▁▁▁▁▁▁▁▁</td></tr><tr><td>val_accuracy</td><td>██████████▆▁▆███████████████████████████</td></tr><tr><td>_step</td><td>▁▁▁▁▂▂▂▂▂▃▃▃▃▃▃▄▄▄▄▄▅▅▅▅▅▅▆▆▆▆▆▆▇▇▇▇▇███</td></tr><tr><td>_runtime</td><td>▁▁▁▁▂▂▂▂▂▃▃▃▃▃▃▄▄▄▄▄▅▅▅▅▅▆▆▆▆▆▆▇▇▇▇▇▇███</td></tr><tr><td>_timestamp</td><td>▁▁▁▁▂▂▂▂▂▃▃▃▃▃▃▄▄▄▄▄▅▅▅▅▅▆▆▆▆▆▆▇▇▇▇▇▇███</td></tr><tr><td>num_classes</td><td>▁</td></tr></table><br/>"
     },
     "metadata": {}
    },
    {
     "output_type": "display_data",
     "data": {
      "text/plain": "<IPython.core.display.HTML object>",
      "text/html": "Synced 5 W&B file(s), 1 media file(s), 0 artifact file(s) and 1 other file(s)"
     },
     "metadata": {}
    },
    {
     "output_type": "display_data",
     "data": {
      "text/plain": "<IPython.core.display.HTML object>",
      "text/html": "\n                    <br/>Synced <strong style=\"color:#cdcd00\">logical-dawn-102</strong>: <a href=\"https://wandb.ai/supervisedlearning/CNN%20All%20kf%20experiments/runs/heaol6ju\" target=\"_blank\">https://wandb.ai/supervisedlearning/CNN%20All%20kf%20experiments/runs/heaol6ju</a><br/>\n                "
     },
     "metadata": {}
    },
    {
     "output_type": "stream",
     "name": "stderr",
     "text": [
      "wandb: wandb version 0.10.12 is available!  To upgrade, please run:\nwandb:  $ pip install wandb --upgrade\n"
     ]
    },
    {
     "output_type": "display_data",
     "data": {
      "text/plain": "<IPython.core.display.HTML object>",
      "text/html": "\n                Tracking run with wandb version 0.10.8<br/>\n                Syncing run <strong style=\"color:#cdcd00\">visionary-wildflower-103</strong> to <a href=\"https://wandb.ai\" target=\"_blank\">Weights & Biases</a> <a href=\"https://docs.wandb.com/integrations/jupyter.html\" target=\"_blank\">(Documentation)</a>.<br/>\n                Project page: <a href=\"https://wandb.ai/supervisedlearning/CNN%20All%20kf%20experiments\" target=\"_blank\">https://wandb.ai/supervisedlearning/CNN%20All%20kf%20experiments</a><br/>\n                Run page: <a href=\"https://wandb.ai/supervisedlearning/CNN%20All%20kf%20experiments/runs/2v3rfekt\" target=\"_blank\">https://wandb.ai/supervisedlearning/CNN%20All%20kf%20experiments/runs/2v3rfekt</a><br/>\n                Run data is saved locally in <code>wandb\\run-20201205_161050-2v3rfekt</code><br/><br/>\n            "
     },
     "metadata": {}
    },
    {
     "output_type": "stream",
     "name": "stdout",
     "text": [
      "Train on 8721 samples, validate on 969 samples\n",
      "Epoch 1/50\n",
      "8721/8721 [==============================] - 2s 204us/sample - loss: 0.0000e+00 - accuracy: 1.0000 - val_loss: 0.0000e+00 - val_accuracy: 1.0000\n",
      "Epoch 2/50\n",
      "8721/8721 [==============================] - 2s 198us/sample - loss: 0.0000e+00 - accuracy: 1.0000 - val_loss: 0.0000e+00 - val_accuracy: 1.0000\n",
      "Epoch 3/50\n",
      "8721/8721 [==============================] - 2s 204us/sample - loss: 0.0000e+00 - accuracy: 1.0000 - val_loss: 0.0000e+00 - val_accuracy: 1.0000\n",
      "Epoch 4/50\n",
      "8721/8721 [==============================] - 2s 204us/sample - loss: 0.0000e+00 - accuracy: 1.0000 - val_loss: 0.0000e+00 - val_accuracy: 1.0000\n",
      "Epoch 5/50\n",
      "8721/8721 [==============================] - 2s 201us/sample - loss: 1.2138e-08 - accuracy: 1.0000 - val_loss: 0.0000e+00 - val_accuracy: 1.0000\n",
      "Epoch 6/50\n",
      "8721/8721 [==============================] - 2s 192us/sample - loss: 0.0011 - accuracy: 0.9999 - val_loss: 0.0000e+00 - val_accuracy: 1.0000\n",
      "Epoch 7/50\n",
      "8721/8721 [==============================] - 2s 214us/sample - loss: 0.0000e+00 - accuracy: 1.0000 - val_loss: 0.0000e+00 - val_accuracy: 1.0000\n",
      "Epoch 8/50\n",
      "8721/8721 [==============================] - 2s 205us/sample - loss: 0.0000e+00 - accuracy: 1.0000 - val_loss: 0.0000e+00 - val_accuracy: 1.0000\n",
      "Epoch 9/50\n",
      "8721/8721 [==============================] - 2s 199us/sample - loss: 0.0054 - accuracy: 0.9998 - val_loss: 0.0000e+00 - val_accuracy: 1.0000\n",
      "Epoch 10/50\n",
      "8721/8721 [==============================] - 2s 207us/sample - loss: 0.0000e+00 - accuracy: 1.0000 - val_loss: 0.0000e+00 - val_accuracy: 1.0000\n",
      "Epoch 11/50\n",
      "8721/8721 [==============================] - 2s 211us/sample - loss: 4.4246e-04 - accuracy: 0.9999 - val_loss: 0.0000e+00 - val_accuracy: 1.0000\n",
      "Epoch 12/50\n",
      "8721/8721 [==============================] - 2s 196us/sample - loss: 1.8575e-08 - accuracy: 1.0000 - val_loss: 0.0000e+00 - val_accuracy: 1.0000\n",
      "Epoch 13/50\n",
      "8721/8721 [==============================] - 2s 200us/sample - loss: 0.0064 - accuracy: 0.9999 - val_loss: 0.0000e+00 - val_accuracy: 1.0000\n",
      "Epoch 14/50\n",
      "8721/8721 [==============================] - 2s 194us/sample - loss: 3.1403e-07 - accuracy: 1.0000 - val_loss: 0.0000e+00 - val_accuracy: 1.0000\n",
      "Epoch 15/50\n",
      "8721/8721 [==============================] - 2s 194us/sample - loss: 1.0347e-08 - accuracy: 1.0000 - val_loss: 0.0000e+00 - val_accuracy: 1.0000\n",
      "Epoch 16/50\n",
      "8721/8721 [==============================] - 2s 197us/sample - loss: 0.0000e+00 - accuracy: 1.0000 - val_loss: 0.0000e+00 - val_accuracy: 1.0000\n",
      "Epoch 17/50\n",
      "8721/8721 [==============================] - 2s 194us/sample - loss: 0.0000e+00 - accuracy: 1.0000 - val_loss: 0.0000e+00 - val_accuracy: 1.0000\n",
      "Epoch 18/50\n",
      "8721/8721 [==============================] - 2s 196us/sample - loss: 0.0000e+00 - accuracy: 1.0000 - val_loss: 0.0000e+00 - val_accuracy: 1.0000\n",
      "Epoch 19/50\n",
      "8721/8721 [==============================] - 2s 192us/sample - loss: 2.7338e-11 - accuracy: 1.0000 - val_loss: 0.0000e+00 - val_accuracy: 1.0000\n",
      "Epoch 20/50\n",
      "8721/8721 [==============================] - 2s 186us/sample - loss: 0.0000e+00 - accuracy: 1.0000 - val_loss: 0.0000e+00 - val_accuracy: 1.0000\n",
      "Epoch 21/50\n",
      "8721/8721 [==============================] - 2s 189us/sample - loss: 0.0000e+00 - accuracy: 1.0000 - val_loss: 0.0000e+00 - val_accuracy: 1.0000\n",
      "Epoch 22/50\n",
      "8721/8721 [==============================] - 2s 192us/sample - loss: 0.0000e+00 - accuracy: 1.0000 - val_loss: 0.0000e+00 - val_accuracy: 1.0000\n",
      "Epoch 23/50\n",
      "8721/8721 [==============================] - 2s 190us/sample - loss: 0.0000e+00 - accuracy: 1.0000 - val_loss: 0.0000e+00 - val_accuracy: 1.0000\n",
      "Epoch 24/50\n",
      "8721/8721 [==============================] - 2s 195us/sample - loss: 0.0000e+00 - accuracy: 1.0000 - val_loss: 0.0000e+00 - val_accuracy: 1.0000\n",
      "Epoch 25/50\n",
      "8721/8721 [==============================] - 2s 198us/sample - loss: 0.0000e+00 - accuracy: 1.0000 - val_loss: 0.0000e+00 - val_accuracy: 1.0000\n",
      "Epoch 26/50\n",
      "8721/8721 [==============================] - 2s 200us/sample - loss: 0.0000e+00 - accuracy: 1.0000 - val_loss: 0.0000e+00 - val_accuracy: 1.0000\n",
      "Epoch 27/50\n",
      "8721/8721 [==============================] - 2s 196us/sample - loss: 0.0000e+00 - accuracy: 1.0000 - val_loss: 0.0000e+00 - val_accuracy: 1.0000\n",
      "Epoch 28/50\n",
      "8721/8721 [==============================] - 2s 193us/sample - loss: 0.0000e+00 - accuracy: 1.0000 - val_loss: 0.0000e+00 - val_accuracy: 1.0000\n",
      "Epoch 29/50\n",
      "8721/8721 [==============================] - 2s 198us/sample - loss: 0.0000e+00 - accuracy: 1.0000 - val_loss: 0.0000e+00 - val_accuracy: 1.0000\n",
      "Epoch 30/50\n",
      "8721/8721 [==============================] - 2s 198us/sample - loss: 2.0203e-07 - accuracy: 1.0000 - val_loss: 0.0000e+00 - val_accuracy: 1.0000\n",
      "Epoch 31/50\n",
      "8721/8721 [==============================] - 2s 191us/sample - loss: 3.7939e-08 - accuracy: 1.0000 - val_loss: 0.0000e+00 - val_accuracy: 1.0000\n",
      "Epoch 32/50\n",
      "8721/8721 [==============================] - 2s 194us/sample - loss: 0.0016 - accuracy: 0.9999 - val_loss: 6.1518e-06 - val_accuracy: 1.0000\n",
      "Epoch 33/50\n",
      "8721/8721 [==============================] - 2s 198us/sample - loss: 0.0000e+00 - accuracy: 1.0000 - val_loss: 1.2430e-06 - val_accuracy: 1.0000\n",
      "Epoch 34/50\n",
      "8721/8721 [==============================] - 2s 195us/sample - loss: 0.0000e+00 - accuracy: 1.0000 - val_loss: 3.0007e-06 - val_accuracy: 1.0000\n",
      "Epoch 35/50\n",
      "8721/8721 [==============================] - 2s 196us/sample - loss: 0.0000e+00 - accuracy: 1.0000 - val_loss: 4.0356e-06 - val_accuracy: 1.0000\n",
      "Epoch 36/50\n",
      "8721/8721 [==============================] - 2s 197us/sample - loss: 0.0000e+00 - accuracy: 1.0000 - val_loss: 2.3894e-06 - val_accuracy: 1.0000\n",
      "Epoch 37/50\n",
      "8721/8721 [==============================] - 2s 201us/sample - loss: 8.4942e-07 - accuracy: 1.0000 - val_loss: 0.0000e+00 - val_accuracy: 1.0000\n",
      "Epoch 38/50\n",
      "8721/8721 [==============================] - 2s 199us/sample - loss: 1.2870e-05 - accuracy: 1.0000 - val_loss: 0.0000e+00 - val_accuracy: 1.0000\n",
      "Epoch 39/50\n",
      "8721/8721 [==============================] - 2s 196us/sample - loss: 5.4677e-11 - accuracy: 1.0000 - val_loss: 0.0000e+00 - val_accuracy: 1.0000\n",
      "Epoch 40/50\n",
      "8721/8721 [==============================] - 2s 196us/sample - loss: 0.0016 - accuracy: 0.9999 - val_loss: 0.0000e+00 - val_accuracy: 1.0000\n",
      "Epoch 41/50\n",
      "8721/8721 [==============================] - 2s 197us/sample - loss: 1.8505e-06 - accuracy: 1.0000 - val_loss: 0.0000e+00 - val_accuracy: 1.0000\n",
      "Epoch 42/50\n",
      "8721/8721 [==============================] - 2s 198us/sample - loss: 0.0000e+00 - accuracy: 1.0000 - val_loss: 0.0000e+00 - val_accuracy: 1.0000\n",
      "Epoch 43/50\n",
      "8721/8721 [==============================] - 2s 195us/sample - loss: 6.1510e-09 - accuracy: 1.0000 - val_loss: 0.0000e+00 - val_accuracy: 1.0000\n",
      "Epoch 44/50\n",
      "8721/8721 [==============================] - 2s 194us/sample - loss: 0.0000e+00 - accuracy: 1.0000 - val_loss: 0.0000e+00 - val_accuracy: 1.0000\n",
      "Epoch 45/50\n",
      "8721/8721 [==============================] - 2s 193us/sample - loss: 0.0014 - accuracy: 0.9999 - val_loss: 1.7869e-04 - val_accuracy: 1.0000\n",
      "Epoch 46/50\n",
      "8721/8721 [==============================] - 2s 196us/sample - loss: 2.9344e-08 - accuracy: 1.0000 - val_loss: 0.0000e+00 - val_accuracy: 1.0000\n",
      "Epoch 47/50\n",
      "8721/8721 [==============================] - 2s 193us/sample - loss: 6.6861e-04 - accuracy: 0.9999 - val_loss: 0.0000e+00 - val_accuracy: 1.0000\n",
      "Epoch 48/50\n",
      "8721/8721 [==============================] - 2s 187us/sample - loss: 0.0000e+00 - accuracy: 1.0000 - val_loss: 0.0000e+00 - val_accuracy: 1.0000\n",
      "Epoch 49/50\n",
      "8721/8721 [==============================] - 2s 187us/sample - loss: 1.3669e-11 - accuracy: 1.0000 - val_loss: 0.0000e+00 - val_accuracy: 1.0000\n",
      "Epoch 50/50\n",
      "8721/8721 [==============================] - 2s 196us/sample - loss: 2.1976e-05 - accuracy: 1.0000 - val_loss: 0.0000e+00 - val_accuracy: 1.0000\n"
     ]
    },
    {
     "output_type": "display_data",
     "data": {
      "text/plain": "<IPython.core.display.HTML object>",
      "text/html": "<br/>Waiting for W&B process to finish, PID 19196<br/>Program ended successfully."
     },
     "metadata": {}
    },
    {
     "output_type": "display_data",
     "data": {
      "text/plain": "<IPython.core.display.HTML object>",
      "text/html": "Find user logs for this run at: <code>wandb\\run-20201205_161050-2v3rfekt\\logs\\debug.log</code>"
     },
     "metadata": {}
    },
    {
     "output_type": "display_data",
     "data": {
      "text/plain": "<IPython.core.display.HTML object>",
      "text/html": "Find internal logs for this run at: <code>wandb\\run-20201205_161050-2v3rfekt\\logs\\debug-internal.log</code>"
     },
     "metadata": {}
    },
    {
     "output_type": "display_data",
     "data": {
      "text/plain": "<IPython.core.display.HTML object>",
      "text/html": "<h3>Run summary:</h3><br/><style>\n    table.wandb td:nth-child(1) { padding: 0 10px; text-align: right }\n    </style><table class=\"wandb\">\n<tr><td>epoch</td><td>49</td></tr><tr><td>loss</td><td>2e-05</td></tr><tr><td>accuracy</td><td>1.0</td></tr><tr><td>val_loss</td><td>0.0</td></tr><tr><td>val_accuracy</td><td>1.0</td></tr><tr><td>_step</td><td>50</td></tr><tr><td>_runtime</td><td>87</td></tr><tr><td>_timestamp</td><td>1607184737</td></tr><tr><td>best_val_loss</td><td>0.0</td></tr><tr><td>best_epoch</td><td>32</td></tr><tr><td>Label_class</td><td>speed limit 20</td></tr><tr><td>num_classes</td><td>2</td></tr></table>"
     },
     "metadata": {}
    },
    {
     "output_type": "display_data",
     "data": {
      "text/plain": "<IPython.core.display.HTML object>",
      "text/html": "<h3>Run history:</h3><br/><style>\n    table.wandb td:nth-child(1) { padding: 0 10px; text-align: right }\n    </style><table class=\"wandb\">\n<tr><td>epoch</td><td>▁▁▁▁▂▂▂▂▂▃▃▃▃▃▃▄▄▄▄▄▅▅▅▅▅▅▆▆▆▆▆▆▇▇▇▇▇███</td></tr><tr><td>loss</td><td>▁▁▁▁▂▁▁▇▁▁█▁▁▁▁▁▁▁▁▁▁▁▁▁▁▃▁▁▁▁▁▁▁▁▁▁▁▂▁▁</td></tr><tr><td>accuracy</td><td>████▅██▁▅█▅██████████████▅███████████▅██</td></tr><tr><td>val_loss</td><td>▁▁▁▁▁▁▁▁▁▁▁▁▁▁▁▁▁▁▁▁▁▁▁▁▁█▂▄▄▁▁▁▁▁▁▁▁▁▁▁</td></tr><tr><td>val_accuracy</td><td>▁▁▁▁▁▁▁▁▁▁▁▁▁▁▁▁▁▁▁▁▁▁▁▁▁▁▁▁▁▁▁▁▁▁▁▁▁▁▁▁</td></tr><tr><td>_step</td><td>▁▁▁▁▂▂▂▂▂▃▃▃▃▃▃▄▄▄▄▄▅▅▅▅▅▅▆▆▆▆▆▆▇▇▇▇▇███</td></tr><tr><td>_runtime</td><td>▁▁▁▁▂▂▂▂▃▃▃▃▃▃▃▄▄▄▄▅▅▅▅▅▅▆▆▆▆▆▇▇▇▇▇▇████</td></tr><tr><td>_timestamp</td><td>▁▁▁▁▂▂▂▂▃▃▃▃▃▃▃▄▄▄▄▅▅▅▅▅▅▆▆▆▆▆▇▇▇▇▇▇████</td></tr><tr><td>num_classes</td><td>▁</td></tr></table><br/>"
     },
     "metadata": {}
    },
    {
     "output_type": "display_data",
     "data": {
      "text/plain": "<IPython.core.display.HTML object>",
      "text/html": "Synced 5 W&B file(s), 1 media file(s), 0 artifact file(s) and 1 other file(s)"
     },
     "metadata": {}
    },
    {
     "output_type": "display_data",
     "data": {
      "text/plain": "<IPython.core.display.HTML object>",
      "text/html": "\n                    <br/>Synced <strong style=\"color:#cdcd00\">visionary-wildflower-103</strong>: <a href=\"https://wandb.ai/supervisedlearning/CNN%20All%20kf%20experiments/runs/2v3rfekt\" target=\"_blank\">https://wandb.ai/supervisedlearning/CNN%20All%20kf%20experiments/runs/2v3rfekt</a><br/>\n                "
     },
     "metadata": {}
    },
    {
     "output_type": "stream",
     "name": "stderr",
     "text": [
      "wandb: wandb version 0.10.12 is available!  To upgrade, please run:\nwandb:  $ pip install wandb --upgrade\n"
     ]
    },
    {
     "output_type": "display_data",
     "data": {
      "text/plain": "<IPython.core.display.HTML object>",
      "text/html": "\n                Tracking run with wandb version 0.10.8<br/>\n                Syncing run <strong style=\"color:#cdcd00\">honest-fire-104</strong> to <a href=\"https://wandb.ai\" target=\"_blank\">Weights & Biases</a> <a href=\"https://docs.wandb.com/integrations/jupyter.html\" target=\"_blank\">(Documentation)</a>.<br/>\n                Project page: <a href=\"https://wandb.ai/supervisedlearning/CNN%20All%20kf%20experiments\" target=\"_blank\">https://wandb.ai/supervisedlearning/CNN%20All%20kf%20experiments</a><br/>\n                Run page: <a href=\"https://wandb.ai/supervisedlearning/CNN%20All%20kf%20experiments/runs/xt9a5q7i\" target=\"_blank\">https://wandb.ai/supervisedlearning/CNN%20All%20kf%20experiments/runs/xt9a5q7i</a><br/>\n                Run data is saved locally in <code>wandb\\run-20201205_161220-xt9a5q7i</code><br/><br/>\n            "
     },
     "metadata": {}
    },
    {
     "output_type": "stream",
     "name": "stdout",
     "text": [
      "Train on 8721 samples, validate on 969 samples\n",
      "Epoch 1/50\n",
      "8721/8721 [==============================] - 2s 201us/sample - loss: 0.0037 - accuracy: 0.9999 - val_loss: 0.0000e+00 - val_accuracy: 1.0000\n",
      "Epoch 2/50\n",
      "8721/8721 [==============================] - 2s 193us/sample - loss: 1.3669e-11 - accuracy: 1.0000 - val_loss: 0.0000e+00 - val_accuracy: 1.0000\n",
      "Epoch 3/50\n",
      "8721/8721 [==============================] - 2s 191us/sample - loss: 0.0000e+00 - accuracy: 1.0000 - val_loss: 0.0000e+00 - val_accuracy: 1.0000\n",
      "Epoch 4/50\n",
      "8721/8721 [==============================] - 2s 195us/sample - loss: 0.0000e+00 - accuracy: 1.0000 - val_loss: 0.0000e+00 - val_accuracy: 1.0000\n",
      "Epoch 5/50\n",
      "8721/8721 [==============================] - 2s 192us/sample - loss: 0.0000e+00 - accuracy: 1.0000 - val_loss: 0.0000e+00 - val_accuracy: 1.0000\n",
      "Epoch 6/50\n",
      "8721/8721 [==============================] - 2s 196us/sample - loss: 0.0000e+00 - accuracy: 1.0000 - val_loss: 0.0000e+00 - val_accuracy: 1.0000\n",
      "Epoch 7/50\n",
      "8721/8721 [==============================] - 2s 190us/sample - loss: 0.0000e+00 - accuracy: 1.0000 - val_loss: 0.0000e+00 - val_accuracy: 1.0000\n",
      "Epoch 8/50\n",
      "8721/8721 [==============================] - 2s 198us/sample - loss: 0.0000e+00 - accuracy: 1.0000 - val_loss: 0.0000e+00 - val_accuracy: 1.0000\n",
      "Epoch 9/50\n",
      "8721/8721 [==============================] - 2s 193us/sample - loss: 0.0000e+00 - accuracy: 1.0000 - val_loss: 0.0000e+00 - val_accuracy: 1.0000\n",
      "Epoch 10/50\n",
      "8721/8721 [==============================] - 2s 186us/sample - loss: 0.0000e+00 - accuracy: 1.0000 - val_loss: 0.0000e+00 - val_accuracy: 1.0000\n",
      "Epoch 11/50\n",
      "8721/8721 [==============================] - 2s 185us/sample - loss: 0.0000e+00 - accuracy: 1.0000 - val_loss: 0.0000e+00 - val_accuracy: 1.0000\n",
      "Epoch 12/50\n",
      "8721/8721 [==============================] - 2s 191us/sample - loss: 0.0000e+00 - accuracy: 1.0000 - val_loss: 0.0000e+00 - val_accuracy: 1.0000\n",
      "Epoch 13/50\n",
      "8721/8721 [==============================] - 2s 189us/sample - loss: 0.0000e+00 - accuracy: 1.0000 - val_loss: 0.0000e+00 - val_accuracy: 1.0000\n",
      "Epoch 14/50\n",
      "8721/8721 [==============================] - 2s 193us/sample - loss: 0.0000e+00 - accuracy: 1.0000 - val_loss: 0.0000e+00 - val_accuracy: 1.0000\n",
      "Epoch 15/50\n",
      "8721/8721 [==============================] - 2s 190us/sample - loss: 0.0000e+00 - accuracy: 1.0000 - val_loss: 0.0000e+00 - val_accuracy: 1.0000\n",
      "Epoch 16/50\n",
      "8721/8721 [==============================] - 2s 196us/sample - loss: 0.0000e+00 - accuracy: 1.0000 - val_loss: 0.0000e+00 - val_accuracy: 1.0000\n",
      "Epoch 17/50\n",
      "8721/8721 [==============================] - 2s 194us/sample - loss: 0.0000e+00 - accuracy: 1.0000 - val_loss: 0.0000e+00 - val_accuracy: 1.0000\n",
      "Epoch 18/50\n",
      "8721/8721 [==============================] - 2s 199us/sample - loss: 0.0000e+00 - accuracy: 1.0000 - val_loss: 0.0000e+00 - val_accuracy: 1.0000\n",
      "Epoch 19/50\n",
      "8721/8721 [==============================] - 2s 193us/sample - loss: 0.0000e+00 - accuracy: 1.0000 - val_loss: 0.0000e+00 - val_accuracy: 1.0000\n",
      "Epoch 20/50\n",
      "8721/8721 [==============================] - 2s 190us/sample - loss: 0.0000e+00 - accuracy: 1.0000 - val_loss: 0.0000e+00 - val_accuracy: 1.0000\n",
      "Epoch 21/50\n",
      "8721/8721 [==============================] - 2s 191us/sample - loss: 0.0000e+00 - accuracy: 1.0000 - val_loss: 0.0000e+00 - val_accuracy: 1.0000\n",
      "Epoch 22/50\n",
      "8721/8721 [==============================] - 2s 201us/sample - loss: 9.0897e-09 - accuracy: 1.0000 - val_loss: 8.9393e-06 - val_accuracy: 1.0000\n",
      "Epoch 23/50\n",
      "8721/8721 [==============================] - 2s 198us/sample - loss: 2.7322e-08 - accuracy: 1.0000 - val_loss: 0.0000e+00 - val_accuracy: 1.0000\n",
      "Epoch 24/50\n",
      "8721/8721 [==============================] - 2s 196us/sample - loss: 4.2375e-10 - accuracy: 1.0000 - val_loss: 0.0000e+00 - val_accuracy: 1.0000\n",
      "Epoch 25/50\n",
      "8721/8721 [==============================] - 2s 193us/sample - loss: 0.0000e+00 - accuracy: 1.0000 - val_loss: 0.0000e+00 - val_accuracy: 1.0000\n",
      "Epoch 26/50\n",
      "8721/8721 [==============================] - 2s 193us/sample - loss: 0.0000e+00 - accuracy: 1.0000 - val_loss: 0.0000e+00 - val_accuracy: 1.0000\n",
      "Epoch 27/50\n",
      "8721/8721 [==============================] - 2s 198us/sample - loss: 0.0000e+00 - accuracy: 1.0000 - val_loss: 0.0000e+00 - val_accuracy: 1.0000\n",
      "Epoch 28/50\n",
      "8721/8721 [==============================] - 2s 195us/sample - loss: 4.6475e-10 - accuracy: 1.0000 - val_loss: 0.0000e+00 - val_accuracy: 1.0000\n",
      "Epoch 29/50\n",
      "8721/8721 [==============================] - 2s 192us/sample - loss: 0.0000e+00 - accuracy: 1.0000 - val_loss: 0.0000e+00 - val_accuracy: 1.0000\n",
      "Epoch 30/50\n",
      "8721/8721 [==============================] - 2s 190us/sample - loss: 0.0000e+00 - accuracy: 1.0000 - val_loss: 0.0000e+00 - val_accuracy: 1.0000\n",
      "Epoch 31/50\n",
      "8721/8721 [==============================] - 2s 192us/sample - loss: 0.0000e+00 - accuracy: 1.0000 - val_loss: 0.0000e+00 - val_accuracy: 1.0000\n",
      "Epoch 32/50\n",
      "8721/8721 [==============================] - 2s 195us/sample - loss: 0.0000e+00 - accuracy: 1.0000 - val_loss: 0.0000e+00 - val_accuracy: 1.0000\n",
      "Epoch 33/50\n",
      "8721/8721 [==============================] - 2s 194us/sample - loss: 0.0000e+00 - accuracy: 1.0000 - val_loss: 0.0000e+00 - val_accuracy: 1.0000\n",
      "Epoch 34/50\n",
      "8721/8721 [==============================] - 2s 197us/sample - loss: 0.0000e+00 - accuracy: 1.0000 - val_loss: 0.0000e+00 - val_accuracy: 1.0000\n",
      "Epoch 35/50\n",
      "8721/8721 [==============================] - 2s 197us/sample - loss: 0.0000e+00 - accuracy: 1.0000 - val_loss: 0.0000e+00 - val_accuracy: 1.0000\n",
      "Epoch 36/50\n",
      "8721/8721 [==============================] - 2s 194us/sample - loss: 0.0000e+00 - accuracy: 1.0000 - val_loss: 0.0000e+00 - val_accuracy: 1.0000\n",
      "Epoch 37/50\n",
      "8721/8721 [==============================] - 2s 190us/sample - loss: 0.0000e+00 - accuracy: 1.0000 - val_loss: 0.0000e+00 - val_accuracy: 1.0000\n",
      "Epoch 38/50\n",
      "8721/8721 [==============================] - 2s 199us/sample - loss: 0.0000e+00 - accuracy: 1.0000 - val_loss: 0.0000e+00 - val_accuracy: 1.0000\n",
      "Epoch 39/50\n",
      "8721/8721 [==============================] - 2s 193us/sample - loss: 0.0000e+00 - accuracy: 1.0000 - val_loss: 0.0000e+00 - val_accuracy: 1.0000\n",
      "Epoch 40/50\n",
      "8721/8721 [==============================] - 2s 197us/sample - loss: 0.0000e+00 - accuracy: 1.0000 - val_loss: 0.0000e+00 - val_accuracy: 1.0000\n",
      "Epoch 41/50\n",
      "8721/8721 [==============================] - 2s 191us/sample - loss: 0.0000e+00 - accuracy: 1.0000 - val_loss: 0.0000e+00 - val_accuracy: 1.0000\n",
      "Epoch 42/50\n",
      "8721/8721 [==============================] - 2s 193us/sample - loss: 0.0000e+00 - accuracy: 1.0000 - val_loss: 0.0000e+00 - val_accuracy: 1.0000\n",
      "Epoch 43/50\n",
      "8721/8721 [==============================] - 2s 205us/sample - loss: 0.0000e+00 - accuracy: 1.0000 - val_loss: 0.0000e+00 - val_accuracy: 1.0000\n",
      "Epoch 44/50\n",
      "8721/8721 [==============================] - 2s 192us/sample - loss: 0.0000e+00 - accuracy: 1.0000 - val_loss: 0.0000e+00 - val_accuracy: 1.0000\n",
      "Epoch 45/50\n",
      "8721/8721 [==============================] - 2s 193us/sample - loss: 0.0000e+00 - accuracy: 1.0000 - val_loss: 0.0000e+00 - val_accuracy: 1.0000\n",
      "Epoch 46/50\n",
      "8721/8721 [==============================] - 2s 190us/sample - loss: 0.0000e+00 - accuracy: 1.0000 - val_loss: 0.0000e+00 - val_accuracy: 1.0000\n",
      "Epoch 47/50\n",
      "8721/8721 [==============================] - 2s 189us/sample - loss: 0.0000e+00 - accuracy: 1.0000 - val_loss: 0.0000e+00 - val_accuracy: 1.0000\n",
      "Epoch 48/50\n",
      "8721/8721 [==============================] - 2s 195us/sample - loss: 0.0000e+00 - accuracy: 1.0000 - val_loss: 0.0000e+00 - val_accuracy: 1.0000\n",
      "Epoch 49/50\n",
      "8721/8721 [==============================] - 2s 197us/sample - loss: 0.0000e+00 - accuracy: 1.0000 - val_loss: 0.0000e+00 - val_accuracy: 1.0000\n",
      "Epoch 50/50\n",
      "8721/8721 [==============================] - 2s 191us/sample - loss: 0.0000e+00 - accuracy: 1.0000 - val_loss: 0.0000e+00 - val_accuracy: 1.0000\n"
     ]
    },
    {
     "output_type": "display_data",
     "data": {
      "text/plain": "<IPython.core.display.HTML object>",
      "text/html": "<br/>Waiting for W&B process to finish, PID 25012<br/>Program ended successfully."
     },
     "metadata": {}
    },
    {
     "output_type": "display_data",
     "data": {
      "text/plain": "<IPython.core.display.HTML object>",
      "text/html": "Find user logs for this run at: <code>wandb\\run-20201205_161220-xt9a5q7i\\logs\\debug.log</code>"
     },
     "metadata": {}
    },
    {
     "output_type": "display_data",
     "data": {
      "text/plain": "<IPython.core.display.HTML object>",
      "text/html": "Find internal logs for this run at: <code>wandb\\run-20201205_161220-xt9a5q7i\\logs\\debug-internal.log</code>"
     },
     "metadata": {}
    },
    {
     "output_type": "display_data",
     "data": {
      "text/plain": "<IPython.core.display.HTML object>",
      "text/html": "<h3>Run summary:</h3><br/><style>\n    table.wandb td:nth-child(1) { padding: 0 10px; text-align: right }\n    </style><table class=\"wandb\">\n<tr><td>epoch</td><td>49</td></tr><tr><td>loss</td><td>0.0</td></tr><tr><td>accuracy</td><td>1.0</td></tr><tr><td>val_loss</td><td>0.0</td></tr><tr><td>val_accuracy</td><td>1.0</td></tr><tr><td>_step</td><td>50</td></tr><tr><td>_runtime</td><td>87</td></tr><tr><td>_timestamp</td><td>1607184827</td></tr><tr><td>best_val_loss</td><td>1e-05</td></tr><tr><td>best_epoch</td><td>21</td></tr><tr><td>Label_class</td><td>speed limit 20</td></tr><tr><td>num_classes</td><td>2</td></tr></table>"
     },
     "metadata": {}
    },
    {
     "output_type": "display_data",
     "data": {
      "text/plain": "<IPython.core.display.HTML object>",
      "text/html": "<h3>Run history:</h3><br/><style>\n    table.wandb td:nth-child(1) { padding: 0 10px; text-align: right }\n    </style><table class=\"wandb\">\n<tr><td>epoch</td><td>▁▁▁▁▂▂▂▂▂▃▃▃▃▃▃▄▄▄▄▄▅▅▅▅▅▅▆▆▆▆▆▆▇▇▇▇▇███</td></tr><tr><td>loss</td><td>█▁▁▁▁▁▁▁▁▁▁▁▁▁▁▁▁▁▁▁▁▁▁▁▁▁▁▁▁▁▁▁▁▁▁▁▁▁▁▁</td></tr><tr><td>accuracy</td><td>▁███████████████████████████████████████</td></tr><tr><td>val_loss</td><td>▁▁▁▁▁▁▁▁▁▁▁▁▁▁▁▁▁█▁▁▁▁▁▁▁▁▁▁▁▁▁▁▁▁▁▁▁▁▁▁</td></tr><tr><td>val_accuracy</td><td>▁▁▁▁▁▁▁▁▁▁▁▁▁▁▁▁▁▁▁▁▁▁▁▁▁▁▁▁▁▁▁▁▁▁▁▁▁▁▁▁</td></tr><tr><td>_step</td><td>▁▁▁▁▂▂▂▂▂▃▃▃▃▃▃▄▄▄▄▄▅▅▅▅▅▅▆▆▆▆▆▆▇▇▇▇▇███</td></tr><tr><td>_runtime</td><td>▁▁▁▁▂▂▂▂▂▃▃▃▃▃▃▄▄▄▄▄▅▅▅▅▅▆▆▆▆▆▆▇▇▇▇▇████</td></tr><tr><td>_timestamp</td><td>▁▁▁▁▂▂▂▂▂▃▃▃▃▃▃▄▄▄▄▄▅▅▅▅▅▆▆▆▆▆▆▇▇▇▇▇████</td></tr><tr><td>num_classes</td><td>▁</td></tr></table><br/>"
     },
     "metadata": {}
    },
    {
     "output_type": "display_data",
     "data": {
      "text/plain": "<IPython.core.display.HTML object>",
      "text/html": "Synced 5 W&B file(s), 1 media file(s), 0 artifact file(s) and 1 other file(s)"
     },
     "metadata": {}
    },
    {
     "output_type": "display_data",
     "data": {
      "text/plain": "<IPython.core.display.HTML object>",
      "text/html": "\n                    <br/>Synced <strong style=\"color:#cdcd00\">honest-fire-104</strong>: <a href=\"https://wandb.ai/supervisedlearning/CNN%20All%20kf%20experiments/runs/xt9a5q7i\" target=\"_blank\">https://wandb.ai/supervisedlearning/CNN%20All%20kf%20experiments/runs/xt9a5q7i</a><br/>\n                "
     },
     "metadata": {}
    },
    {
     "output_type": "stream",
     "name": "stderr",
     "text": [
      "wandb: wandb version 0.10.12 is available!  To upgrade, please run:\nwandb:  $ pip install wandb --upgrade\n"
     ]
    },
    {
     "output_type": "display_data",
     "data": {
      "text/plain": "<IPython.core.display.HTML object>",
      "text/html": "\n                Tracking run with wandb version 0.10.8<br/>\n                Syncing run <strong style=\"color:#cdcd00\">atomic-wave-105</strong> to <a href=\"https://wandb.ai\" target=\"_blank\">Weights & Biases</a> <a href=\"https://docs.wandb.com/integrations/jupyter.html\" target=\"_blank\">(Documentation)</a>.<br/>\n                Project page: <a href=\"https://wandb.ai/supervisedlearning/CNN%20All%20kf%20experiments\" target=\"_blank\">https://wandb.ai/supervisedlearning/CNN%20All%20kf%20experiments</a><br/>\n                Run page: <a href=\"https://wandb.ai/supervisedlearning/CNN%20All%20kf%20experiments/runs/1kykqh55\" target=\"_blank\">https://wandb.ai/supervisedlearning/CNN%20All%20kf%20experiments/runs/1kykqh55</a><br/>\n                Run data is saved locally in <code>wandb\\run-20201205_161350-1kykqh55</code><br/><br/>\n            "
     },
     "metadata": {}
    },
    {
     "output_type": "stream",
     "name": "stdout",
     "text": [
      "Train on 8721 samples, validate on 969 samples\n",
      "Epoch 1/50\n",
      "8721/8721 [==============================] - 2s 203us/sample - loss: 0.0000e+00 - accuracy: 1.0000 - val_loss: 0.0000e+00 - val_accuracy: 1.0000\n",
      "Epoch 2/50\n",
      "8721/8721 [==============================] - 2s 200us/sample - loss: 0.0000e+00 - accuracy: 1.0000 - val_loss: 0.0000e+00 - val_accuracy: 1.0000\n",
      "Epoch 3/50\n",
      "8721/8721 [==============================] - 2s 190us/sample - loss: 0.0000e+00 - accuracy: 1.0000 - val_loss: 0.0000e+00 - val_accuracy: 1.0000\n",
      "Epoch 4/50\n",
      "8721/8721 [==============================] - 2s 190us/sample - loss: 0.0000e+00 - accuracy: 1.0000 - val_loss: 0.0000e+00 - val_accuracy: 1.0000\n",
      "Epoch 5/50\n",
      "8721/8721 [==============================] - 2s 194us/sample - loss: 0.0000e+00 - accuracy: 1.0000 - val_loss: 0.0000e+00 - val_accuracy: 1.0000\n",
      "Epoch 6/50\n",
      "8721/8721 [==============================] - 2s 191us/sample - loss: 0.0000e+00 - accuracy: 1.0000 - val_loss: 0.0000e+00 - val_accuracy: 1.0000\n",
      "Epoch 7/50\n",
      "8721/8721 [==============================] - 2s 196us/sample - loss: 0.0000e+00 - accuracy: 1.0000 - val_loss: 0.0000e+00 - val_accuracy: 1.0000\n",
      "Epoch 8/50\n",
      "8721/8721 [==============================] - 2s 188us/sample - loss: 0.0000e+00 - accuracy: 1.0000 - val_loss: 0.0000e+00 - val_accuracy: 1.0000\n",
      "Epoch 9/50\n",
      "8721/8721 [==============================] - 2s 192us/sample - loss: 0.0000e+00 - accuracy: 1.0000 - val_loss: 0.0000e+00 - val_accuracy: 1.0000\n",
      "Epoch 10/50\n",
      "8721/8721 [==============================] - 2s 191us/sample - loss: 0.0000e+00 - accuracy: 1.0000 - val_loss: 0.0000e+00 - val_accuracy: 1.0000\n",
      "Epoch 11/50\n",
      "8721/8721 [==============================] - 2s 187us/sample - loss: 0.0000e+00 - accuracy: 1.0000 - val_loss: 0.0000e+00 - val_accuracy: 1.0000\n",
      "Epoch 12/50\n",
      "8721/8721 [==============================] - 2s 188us/sample - loss: 0.0000e+00 - accuracy: 1.0000 - val_loss: 0.0000e+00 - val_accuracy: 1.0000\n",
      "Epoch 13/50\n",
      "8721/8721 [==============================] - 2s 195us/sample - loss: 0.0000e+00 - accuracy: 1.0000 - val_loss: 0.0000e+00 - val_accuracy: 1.0000\n",
      "Epoch 14/50\n",
      "8721/8721 [==============================] - 2s 198us/sample - loss: 0.0000e+00 - accuracy: 1.0000 - val_loss: 0.0000e+00 - val_accuracy: 1.0000\n",
      "Epoch 15/50\n",
      "8721/8721 [==============================] - 2s 197us/sample - loss: 0.0000e+00 - accuracy: 1.0000 - val_loss: 0.0000e+00 - val_accuracy: 1.0000\n",
      "Epoch 16/50\n",
      "8721/8721 [==============================] - 2s 201us/sample - loss: 0.0000e+00 - accuracy: 1.0000 - val_loss: 0.0000e+00 - val_accuracy: 1.0000\n",
      "Epoch 17/50\n",
      "8721/8721 [==============================] - 2s 192us/sample - loss: 0.0000e+00 - accuracy: 1.0000 - val_loss: 0.0000e+00 - val_accuracy: 1.0000\n",
      "Epoch 18/50\n",
      "8721/8721 [==============================] - 2s 195us/sample - loss: 0.0000e+00 - accuracy: 1.0000 - val_loss: 0.0000e+00 - val_accuracy: 1.0000\n",
      "Epoch 19/50\n",
      "8721/8721 [==============================] - 2s 196us/sample - loss: 0.0000e+00 - accuracy: 1.0000 - val_loss: 0.0000e+00 - val_accuracy: 1.0000\n",
      "Epoch 20/50\n",
      "8721/8721 [==============================] - 2s 193us/sample - loss: 0.0000e+00 - accuracy: 1.0000 - val_loss: 0.0000e+00 - val_accuracy: 1.0000\n",
      "Epoch 21/50\n",
      "8721/8721 [==============================] - 2s 193us/sample - loss: 0.0000e+00 - accuracy: 1.0000 - val_loss: 0.0000e+00 - val_accuracy: 1.0000\n",
      "Epoch 22/50\n",
      "8721/8721 [==============================] - 2s 194us/sample - loss: 0.0000e+00 - accuracy: 1.0000 - val_loss: 0.0000e+00 - val_accuracy: 1.0000\n",
      "Epoch 23/50\n",
      "8721/8721 [==============================] - 2s 199us/sample - loss: 0.0000e+00 - accuracy: 1.0000 - val_loss: 0.0000e+00 - val_accuracy: 1.0000\n",
      "Epoch 24/50\n",
      "8721/8721 [==============================] - 2s 191us/sample - loss: 0.0000e+00 - accuracy: 1.0000 - val_loss: 0.0000e+00 - val_accuracy: 1.0000\n",
      "Epoch 25/50\n",
      "8721/8721 [==============================] - 2s 194us/sample - loss: 0.0000e+00 - accuracy: 1.0000 - val_loss: 0.0000e+00 - val_accuracy: 1.0000\n",
      "Epoch 26/50\n",
      "8721/8721 [==============================] - 2s 198us/sample - loss: 0.0000e+00 - accuracy: 1.0000 - val_loss: 0.0000e+00 - val_accuracy: 1.0000\n",
      "Epoch 27/50\n",
      "8721/8721 [==============================] - 2s 197us/sample - loss: 0.0000e+00 - accuracy: 1.0000 - val_loss: 0.0000e+00 - val_accuracy: 1.0000\n",
      "Epoch 28/50\n",
      "8721/8721 [==============================] - 2s 195us/sample - loss: 0.0000e+00 - accuracy: 1.0000 - val_loss: 0.0000e+00 - val_accuracy: 1.0000\n",
      "Epoch 29/50\n",
      "8721/8721 [==============================] - 2s 193us/sample - loss: 0.0000e+00 - accuracy: 1.0000 - val_loss: 0.0000e+00 - val_accuracy: 1.0000\n",
      "Epoch 30/50\n",
      "8721/8721 [==============================] - 2s 198us/sample - loss: 0.0000e+00 - accuracy: 1.0000 - val_loss: 0.0000e+00 - val_accuracy: 1.0000\n",
      "Epoch 31/50\n",
      "8721/8721 [==============================] - 2s 191us/sample - loss: 0.0000e+00 - accuracy: 1.0000 - val_loss: 0.0000e+00 - val_accuracy: 1.0000\n",
      "Epoch 32/50\n",
      "8721/8721 [==============================] - 2s 192us/sample - loss: 0.0000e+00 - accuracy: 1.0000 - val_loss: 0.0000e+00 - val_accuracy: 1.0000\n",
      "Epoch 33/50\n",
      "8721/8721 [==============================] - 2s 190us/sample - loss: 0.0000e+00 - accuracy: 1.0000 - val_loss: 0.0000e+00 - val_accuracy: 1.0000\n",
      "Epoch 34/50\n",
      "8721/8721 [==============================] - 2s 190us/sample - loss: 0.0000e+00 - accuracy: 1.0000 - val_loss: 0.0000e+00 - val_accuracy: 1.0000\n",
      "Epoch 35/50\n",
      "8721/8721 [==============================] - 2s 204us/sample - loss: 0.0000e+00 - accuracy: 1.0000 - val_loss: 0.0000e+00 - val_accuracy: 1.0000\n",
      "Epoch 36/50\n",
      "8721/8721 [==============================] - 2s 191us/sample - loss: 0.0000e+00 - accuracy: 1.0000 - val_loss: 0.0000e+00 - val_accuracy: 1.0000\n",
      "Epoch 37/50\n",
      "8721/8721 [==============================] - 2s 201us/sample - loss: 0.0000e+00 - accuracy: 1.0000 - val_loss: 0.0000e+00 - val_accuracy: 1.0000\n",
      "Epoch 38/50\n",
      "8721/8721 [==============================] - 2s 204us/sample - loss: 0.0000e+00 - accuracy: 1.0000 - val_loss: 0.0000e+00 - val_accuracy: 1.0000\n",
      "Epoch 39/50\n",
      "8721/8721 [==============================] - 2s 214us/sample - loss: 0.0000e+00 - accuracy: 1.0000 - val_loss: 0.0000e+00 - val_accuracy: 1.0000\n",
      "Epoch 40/50\n",
      "8721/8721 [==============================] - 2s 208us/sample - loss: 0.0000e+00 - accuracy: 1.0000 - val_loss: 0.0000e+00 - val_accuracy: 1.0000\n",
      "Epoch 41/50\n",
      "8721/8721 [==============================] - 2s 194us/sample - loss: 0.0000e+00 - accuracy: 1.0000 - val_loss: 0.0000e+00 - val_accuracy: 1.0000\n",
      "Epoch 42/50\n",
      "8721/8721 [==============================] - 2s 192us/sample - loss: 0.0000e+00 - accuracy: 1.0000 - val_loss: 0.0000e+00 - val_accuracy: 1.0000\n",
      "Epoch 43/50\n",
      "8721/8721 [==============================] - 2s 210us/sample - loss: 0.0000e+00 - accuracy: 1.0000 - val_loss: 0.0000e+00 - val_accuracy: 1.0000\n",
      "Epoch 44/50\n",
      "8721/8721 [==============================] - 2s 204us/sample - loss: 0.0000e+00 - accuracy: 1.0000 - val_loss: 0.0000e+00 - val_accuracy: 1.0000\n",
      "Epoch 45/50\n",
      "8721/8721 [==============================] - 2s 203us/sample - loss: 0.0000e+00 - accuracy: 1.0000 - val_loss: 0.0000e+00 - val_accuracy: 1.0000\n",
      "Epoch 46/50\n",
      "8721/8721 [==============================] - 2s 196us/sample - loss: 0.0000e+00 - accuracy: 1.0000 - val_loss: 0.0000e+00 - val_accuracy: 1.0000\n",
      "Epoch 47/50\n",
      "8721/8721 [==============================] - 2s 210us/sample - loss: 0.0000e+00 - accuracy: 1.0000 - val_loss: 0.0000e+00 - val_accuracy: 1.0000\n",
      "Epoch 48/50\n",
      "8721/8721 [==============================] - 2s 209us/sample - loss: 0.0000e+00 - accuracy: 1.0000 - val_loss: 0.0000e+00 - val_accuracy: 1.0000\n",
      "Epoch 49/50\n",
      "8721/8721 [==============================] - 2s 194us/sample - loss: 0.0000e+00 - accuracy: 1.0000 - val_loss: 0.0000e+00 - val_accuracy: 1.0000\n",
      "Epoch 50/50\n",
      "8721/8721 [==============================] - 2s 201us/sample - loss: 0.0000e+00 - accuracy: 1.0000 - val_loss: 0.0000e+00 - val_accuracy: 1.0000\n"
     ]
    },
    {
     "output_type": "display_data",
     "data": {
      "text/plain": "<IPython.core.display.HTML object>",
      "text/html": "<br/>Waiting for W&B process to finish, PID 24096<br/>Program ended successfully."
     },
     "metadata": {}
    },
    {
     "output_type": "display_data",
     "data": {
      "text/plain": "<IPython.core.display.HTML object>",
      "text/html": "Find user logs for this run at: <code>wandb\\run-20201205_161350-1kykqh55\\logs\\debug.log</code>"
     },
     "metadata": {}
    },
    {
     "output_type": "display_data",
     "data": {
      "text/plain": "<IPython.core.display.HTML object>",
      "text/html": "Find internal logs for this run at: <code>wandb\\run-20201205_161350-1kykqh55\\logs\\debug-internal.log</code>"
     },
     "metadata": {}
    },
    {
     "output_type": "display_data",
     "data": {
      "text/plain": "<IPython.core.display.HTML object>",
      "text/html": "<h3>Run summary:</h3><br/><style>\n    table.wandb td:nth-child(1) { padding: 0 10px; text-align: right }\n    </style><table class=\"wandb\">\n<tr><td>epoch</td><td>49</td></tr><tr><td>loss</td><td>0.0</td></tr><tr><td>accuracy</td><td>1.0</td></tr><tr><td>val_loss</td><td>0.0</td></tr><tr><td>val_accuracy</td><td>1.0</td></tr><tr><td>_step</td><td>50</td></tr><tr><td>_runtime</td><td>87</td></tr><tr><td>_timestamp</td><td>1607184917</td></tr><tr><td>Label_class</td><td>speed limit 20</td></tr><tr><td>num_classes</td><td>2</td></tr></table>"
     },
     "metadata": {}
    },
    {
     "output_type": "display_data",
     "data": {
      "text/plain": "<IPython.core.display.HTML object>",
      "text/html": "<h3>Run history:</h3><br/><style>\n    table.wandb td:nth-child(1) { padding: 0 10px; text-align: right }\n    </style><table class=\"wandb\">\n<tr><td>epoch</td><td>▁▁▁▁▂▂▂▂▂▃▃▃▃▃▃▄▄▄▄▄▅▅▅▅▅▅▆▆▆▆▆▆▇▇▇▇▇███</td></tr><tr><td>loss</td><td>▁▁▁▁▁▁▁▁▁▁▁▁▁▁▁▁▁▁▁▁▁▁▁▁▁▁▁▁▁▁▁▁▁▁▁▁▁▁▁▁</td></tr><tr><td>accuracy</td><td>▁▁▁▁▁▁▁▁▁▁▁▁▁▁▁▁▁▁▁▁▁▁▁▁▁▁▁▁▁▁▁▁▁▁▁▁▁▁▁▁</td></tr><tr><td>val_loss</td><td>▁▁▁▁▁▁▁▁▁▁▁▁▁▁▁▁▁▁▁▁▁▁▁▁▁▁▁▁▁▁▁▁▁▁▁▁▁▁▁▁</td></tr><tr><td>val_accuracy</td><td>▁▁▁▁▁▁▁▁▁▁▁▁▁▁▁▁▁▁▁▁▁▁▁▁▁▁▁▁▁▁▁▁▁▁▁▁▁▁▁▁</td></tr><tr><td>_step</td><td>▁▁▁▁▂▂▂▂▂▃▃▃▃▃▃▄▄▄▄▄▅▅▅▅▅▅▆▆▆▆▆▆▇▇▇▇▇███</td></tr><tr><td>_runtime</td><td>▁▁▁▁▂▂▂▂▂▃▃▃▃▃▃▄▄▄▄▄▅▅▅▅▅▅▆▆▆▆▆▇▇▇▇▇████</td></tr><tr><td>_timestamp</td><td>▁▁▁▁▂▂▂▂▂▃▃▃▃▃▃▄▄▄▄▄▅▅▅▅▅▅▆▆▆▆▆▇▇▇▇▇████</td></tr><tr><td>num_classes</td><td>▁</td></tr></table><br/>"
     },
     "metadata": {}
    },
    {
     "output_type": "display_data",
     "data": {
      "text/plain": "<IPython.core.display.HTML object>",
      "text/html": "Synced 5 W&B file(s), 1 media file(s), 0 artifact file(s) and 0 other file(s)"
     },
     "metadata": {}
    },
    {
     "output_type": "display_data",
     "data": {
      "text/plain": "<IPython.core.display.HTML object>",
      "text/html": "\n                    <br/>Synced <strong style=\"color:#cdcd00\">atomic-wave-105</strong>: <a href=\"https://wandb.ai/supervisedlearning/CNN%20All%20kf%20experiments/runs/1kykqh55\" target=\"_blank\">https://wandb.ai/supervisedlearning/CNN%20All%20kf%20experiments/runs/1kykqh55</a><br/>\n                "
     },
     "metadata": {}
    },
    {
     "output_type": "stream",
     "name": "stderr",
     "text": [
      "wandb: wandb version 0.10.12 is available!  To upgrade, please run:\nwandb:  $ pip install wandb --upgrade\n"
     ]
    },
    {
     "output_type": "display_data",
     "data": {
      "text/plain": "<IPython.core.display.HTML object>",
      "text/html": "\n                Tracking run with wandb version 0.10.8<br/>\n                Syncing run <strong style=\"color:#cdcd00\">elated-sun-106</strong> to <a href=\"https://wandb.ai\" target=\"_blank\">Weights & Biases</a> <a href=\"https://docs.wandb.com/integrations/jupyter.html\" target=\"_blank\">(Documentation)</a>.<br/>\n                Project page: <a href=\"https://wandb.ai/supervisedlearning/CNN%20All%20kf%20experiments\" target=\"_blank\">https://wandb.ai/supervisedlearning/CNN%20All%20kf%20experiments</a><br/>\n                Run page: <a href=\"https://wandb.ai/supervisedlearning/CNN%20All%20kf%20experiments/runs/2lkxuk2u\" target=\"_blank\">https://wandb.ai/supervisedlearning/CNN%20All%20kf%20experiments/runs/2lkxuk2u</a><br/>\n                Run data is saved locally in <code>wandb\\run-20201205_161521-2lkxuk2u</code><br/><br/>\n            "
     },
     "metadata": {}
    },
    {
     "output_type": "stream",
     "name": "stdout",
     "text": [
      "Train on 8721 samples, validate on 969 samples\n",
      "Epoch 1/50\n",
      "8721/8721 [==============================] - 2s 225us/sample - loss: 0.0000e+00 - accuracy: 1.0000 - val_loss: 0.0000e+00 - val_accuracy: 1.0000\n",
      "Epoch 2/50\n",
      "8721/8721 [==============================] - 2s 204us/sample - loss: 0.0000e+00 - accuracy: 1.0000 - val_loss: 0.0000e+00 - val_accuracy: 1.0000\n",
      "Epoch 3/50\n",
      "8721/8721 [==============================] - 2s 202us/sample - loss: 0.0000e+00 - accuracy: 1.0000 - val_loss: 0.0000e+00 - val_accuracy: 1.0000\n",
      "Epoch 4/50\n",
      "8721/8721 [==============================] - 2s 207us/sample - loss: 0.0000e+00 - accuracy: 1.0000 - val_loss: 0.0000e+00 - val_accuracy: 1.0000\n",
      "Epoch 5/50\n",
      "8721/8721 [==============================] - 2s 211us/sample - loss: 0.0000e+00 - accuracy: 1.0000 - val_loss: 0.0000e+00 - val_accuracy: 1.0000\n",
      "Epoch 6/50\n",
      "8721/8721 [==============================] - 2s 202us/sample - loss: 0.0000e+00 - accuracy: 1.0000 - val_loss: 0.0000e+00 - val_accuracy: 1.0000\n",
      "Epoch 7/50\n",
      "8721/8721 [==============================] - 2s 199us/sample - loss: 0.0000e+00 - accuracy: 1.0000 - val_loss: 0.0000e+00 - val_accuracy: 1.0000\n",
      "Epoch 8/50\n",
      "8721/8721 [==============================] - 2s 205us/sample - loss: 0.0000e+00 - accuracy: 1.0000 - val_loss: 0.0000e+00 - val_accuracy: 1.0000\n",
      "Epoch 9/50\n",
      "8721/8721 [==============================] - 2s 209us/sample - loss: 0.0000e+00 - accuracy: 1.0000 - val_loss: 0.0000e+00 - val_accuracy: 1.0000\n",
      "Epoch 10/50\n",
      "8721/8721 [==============================] - 2s 198us/sample - loss: 0.0000e+00 - accuracy: 1.0000 - val_loss: 0.0000e+00 - val_accuracy: 1.0000\n",
      "Epoch 11/50\n",
      "8721/8721 [==============================] - 2s 199us/sample - loss: 0.0000e+00 - accuracy: 1.0000 - val_loss: 0.0000e+00 - val_accuracy: 1.0000\n",
      "Epoch 12/50\n",
      "8721/8721 [==============================] - 2s 202us/sample - loss: 0.0000e+00 - accuracy: 1.0000 - val_loss: 0.0000e+00 - val_accuracy: 1.0000\n",
      "Epoch 13/50\n",
      "8721/8721 [==============================] - 2s 208us/sample - loss: 0.0000e+00 - accuracy: 1.0000 - val_loss: 0.0000e+00 - val_accuracy: 1.0000\n",
      "Epoch 14/50\n",
      "8721/8721 [==============================] - 2s 200us/sample - loss: 0.0000e+00 - accuracy: 1.0000 - val_loss: 0.0000e+00 - val_accuracy: 1.0000\n",
      "Epoch 15/50\n",
      "8721/8721 [==============================] - 2s 202us/sample - loss: 0.0000e+00 - accuracy: 1.0000 - val_loss: 0.0000e+00 - val_accuracy: 1.0000\n",
      "Epoch 16/50\n",
      "8721/8721 [==============================] - 2s 199us/sample - loss: 0.0000e+00 - accuracy: 1.0000 - val_loss: 0.0000e+00 - val_accuracy: 1.0000\n",
      "Epoch 17/50\n",
      "8721/8721 [==============================] - 2s 193us/sample - loss: 0.0000e+00 - accuracy: 1.0000 - val_loss: 0.0000e+00 - val_accuracy: 1.0000\n",
      "Epoch 18/50\n",
      "8721/8721 [==============================] - 2s 193us/sample - loss: 0.0000e+00 - accuracy: 1.0000 - val_loss: 0.0000e+00 - val_accuracy: 1.0000\n",
      "Epoch 19/50\n",
      "8721/8721 [==============================] - 2s 199us/sample - loss: 0.0000e+00 - accuracy: 1.0000 - val_loss: 0.0000e+00 - val_accuracy: 1.0000\n",
      "Epoch 20/50\n",
      "8721/8721 [==============================] - 2s 198us/sample - loss: 0.0000e+00 - accuracy: 1.0000 - val_loss: 0.0000e+00 - val_accuracy: 1.0000\n",
      "Epoch 21/50\n",
      "8721/8721 [==============================] - 2s 199us/sample - loss: 0.0000e+00 - accuracy: 1.0000 - val_loss: 0.0000e+00 - val_accuracy: 1.0000\n",
      "Epoch 22/50\n",
      "8721/8721 [==============================] - 2s 194us/sample - loss: 0.0000e+00 - accuracy: 1.0000 - val_loss: 0.0000e+00 - val_accuracy: 1.0000\n",
      "Epoch 23/50\n",
      "8721/8721 [==============================] - 2s 189us/sample - loss: 0.0000e+00 - accuracy: 1.0000 - val_loss: 0.0000e+00 - val_accuracy: 1.0000\n",
      "Epoch 24/50\n",
      "8721/8721 [==============================] - 2s 197us/sample - loss: 0.0000e+00 - accuracy: 1.0000 - val_loss: 0.0000e+00 - val_accuracy: 1.0000\n",
      "Epoch 25/50\n",
      "8721/8721 [==============================] - 2s 193us/sample - loss: 0.0000e+00 - accuracy: 1.0000 - val_loss: 0.0000e+00 - val_accuracy: 1.0000\n",
      "Epoch 26/50\n",
      "8721/8721 [==============================] - 2s 200us/sample - loss: 0.0000e+00 - accuracy: 1.0000 - val_loss: 0.0000e+00 - val_accuracy: 1.0000\n",
      "Epoch 27/50\n",
      "8721/8721 [==============================] - 2s 191us/sample - loss: 0.0000e+00 - accuracy: 1.0000 - val_loss: 0.0000e+00 - val_accuracy: 1.0000\n",
      "Epoch 28/50\n",
      "8721/8721 [==============================] - 2s 214us/sample - loss: 0.0000e+00 - accuracy: 1.0000 - val_loss: 0.0000e+00 - val_accuracy: 1.0000\n",
      "Epoch 29/50\n",
      "8721/8721 [==============================] - 2s 210us/sample - loss: 0.0000e+00 - accuracy: 1.0000 - val_loss: 0.0000e+00 - val_accuracy: 1.0000\n",
      "Epoch 30/50\n",
      "8721/8721 [==============================] - 2s 207us/sample - loss: 0.0000e+00 - accuracy: 1.0000 - val_loss: 0.0000e+00 - val_accuracy: 1.0000\n",
      "Epoch 31/50\n",
      "8721/8721 [==============================] - 2s 207us/sample - loss: 0.0000e+00 - accuracy: 1.0000 - val_loss: 0.0000e+00 - val_accuracy: 1.0000\n",
      "Epoch 32/50\n",
      "8721/8721 [==============================] - 2s 203us/sample - loss: 0.0000e+00 - accuracy: 1.0000 - val_loss: 0.0000e+00 - val_accuracy: 1.0000\n",
      "Epoch 33/50\n",
      "8721/8721 [==============================] - 2s 198us/sample - loss: 0.0000e+00 - accuracy: 1.0000 - val_loss: 0.0000e+00 - val_accuracy: 1.0000\n",
      "Epoch 34/50\n",
      "8721/8721 [==============================] - 2s 206us/sample - loss: 0.0000e+00 - accuracy: 1.0000 - val_loss: 0.0000e+00 - val_accuracy: 1.0000\n",
      "Epoch 35/50\n",
      "8721/8721 [==============================] - 2s 194us/sample - loss: 0.0000e+00 - accuracy: 1.0000 - val_loss: 0.0000e+00 - val_accuracy: 1.0000\n",
      "Epoch 36/50\n",
      "8721/8721 [==============================] - 2s 190us/sample - loss: 0.0000e+00 - accuracy: 1.0000 - val_loss: 0.0000e+00 - val_accuracy: 1.0000\n",
      "Epoch 37/50\n",
      "8721/8721 [==============================] - 2s 196us/sample - loss: 0.0000e+00 - accuracy: 1.0000 - val_loss: 0.0000e+00 - val_accuracy: 1.0000\n",
      "Epoch 38/50\n",
      "8721/8721 [==============================] - 2s 200us/sample - loss: 0.0000e+00 - accuracy: 1.0000 - val_loss: 0.0000e+00 - val_accuracy: 1.0000\n",
      "Epoch 39/50\n",
      "8721/8721 [==============================] - 2s 191us/sample - loss: 0.0000e+00 - accuracy: 1.0000 - val_loss: 0.0000e+00 - val_accuracy: 1.0000\n",
      "Epoch 40/50\n",
      "8721/8721 [==============================] - 2s 198us/sample - loss: 0.0000e+00 - accuracy: 1.0000 - val_loss: 0.0000e+00 - val_accuracy: 1.0000\n",
      "Epoch 41/50\n",
      "8721/8721 [==============================] - 2s 212us/sample - loss: 0.0000e+00 - accuracy: 1.0000 - val_loss: 0.0000e+00 - val_accuracy: 1.0000\n",
      "Epoch 42/50\n",
      "8721/8721 [==============================] - 2s 208us/sample - loss: 0.0000e+00 - accuracy: 1.0000 - val_loss: 0.0000e+00 - val_accuracy: 1.0000\n",
      "Epoch 43/50\n",
      "8721/8721 [==============================] - 2s 208us/sample - loss: 0.0000e+00 - accuracy: 1.0000 - val_loss: 0.0000e+00 - val_accuracy: 1.0000\n",
      "Epoch 44/50\n",
      "8721/8721 [==============================] - 2s 203us/sample - loss: 0.0000e+00 - accuracy: 1.0000 - val_loss: 0.0000e+00 - val_accuracy: 1.0000\n",
      "Epoch 45/50\n",
      "8721/8721 [==============================] - 2s 201us/sample - loss: 0.0000e+00 - accuracy: 1.0000 - val_loss: 0.0000e+00 - val_accuracy: 1.0000\n",
      "Epoch 46/50\n",
      "8721/8721 [==============================] - 2s 196us/sample - loss: 0.0000e+00 - accuracy: 1.0000 - val_loss: 0.0000e+00 - val_accuracy: 1.0000\n",
      "Epoch 47/50\n",
      "8721/8721 [==============================] - 2s 187us/sample - loss: 0.0000e+00 - accuracy: 1.0000 - val_loss: 0.0000e+00 - val_accuracy: 1.0000\n",
      "Epoch 48/50\n",
      "8721/8721 [==============================] - 2s 194us/sample - loss: 0.0000e+00 - accuracy: 1.0000 - val_loss: 0.0000e+00 - val_accuracy: 1.0000\n",
      "Epoch 49/50\n",
      "8721/8721 [==============================] - 2s 194us/sample - loss: 0.0000e+00 - accuracy: 1.0000 - val_loss: 0.0000e+00 - val_accuracy: 1.0000\n",
      "Epoch 50/50\n",
      "8721/8721 [==============================] - 2s 196us/sample - loss: 0.0000e+00 - accuracy: 1.0000 - val_loss: 0.0000e+00 - val_accuracy: 1.0000\n"
     ]
    },
    {
     "output_type": "display_data",
     "data": {
      "text/plain": "<IPython.core.display.HTML object>",
      "text/html": "<br/>Waiting for W&B process to finish, PID 34320<br/>Program ended successfully."
     },
     "metadata": {}
    },
    {
     "output_type": "display_data",
     "data": {
      "text/plain": "<IPython.core.display.HTML object>",
      "text/html": "Find user logs for this run at: <code>wandb\\run-20201205_161521-2lkxuk2u\\logs\\debug.log</code>"
     },
     "metadata": {}
    },
    {
     "output_type": "display_data",
     "data": {
      "text/plain": "<IPython.core.display.HTML object>",
      "text/html": "Find internal logs for this run at: <code>wandb\\run-20201205_161521-2lkxuk2u\\logs\\debug-internal.log</code>"
     },
     "metadata": {}
    },
    {
     "output_type": "display_data",
     "data": {
      "text/plain": "<IPython.core.display.HTML object>",
      "text/html": "<h3>Run summary:</h3><br/><style>\n    table.wandb td:nth-child(1) { padding: 0 10px; text-align: right }\n    </style><table class=\"wandb\">\n<tr><td>epoch</td><td>49</td></tr><tr><td>loss</td><td>0.0</td></tr><tr><td>accuracy</td><td>1.0</td></tr><tr><td>val_loss</td><td>0.0</td></tr><tr><td>val_accuracy</td><td>1.0</td></tr><tr><td>_step</td><td>50</td></tr><tr><td>_runtime</td><td>89</td></tr><tr><td>_timestamp</td><td>1607185010</td></tr><tr><td>Label_class</td><td>speed limit 20</td></tr><tr><td>num_classes</td><td>2</td></tr></table>"
     },
     "metadata": {}
    },
    {
     "output_type": "display_data",
     "data": {
      "text/plain": "<IPython.core.display.HTML object>",
      "text/html": "<h3>Run history:</h3><br/><style>\n    table.wandb td:nth-child(1) { padding: 0 10px; text-align: right }\n    </style><table class=\"wandb\">\n<tr><td>epoch</td><td>▁▁▁▁▂▂▂▂▂▃▃▃▃▃▃▄▄▄▄▄▅▅▅▅▅▅▆▆▆▆▆▆▇▇▇▇▇███</td></tr><tr><td>loss</td><td>▁▁▁▁▁▁▁▁▁▁▁▁▁▁▁▁▁▁▁▁▁▁▁▁▁▁▁▁▁▁▁▁▁▁▁▁▁▁▁▁</td></tr><tr><td>accuracy</td><td>▁▁▁▁▁▁▁▁▁▁▁▁▁▁▁▁▁▁▁▁▁▁▁▁▁▁▁▁▁▁▁▁▁▁▁▁▁▁▁▁</td></tr><tr><td>val_loss</td><td>▁▁▁▁▁▁▁▁▁▁▁▁▁▁▁▁▁▁▁▁▁▁▁▁▁▁▁▁▁▁▁▁▁▁▁▁▁▁▁▁</td></tr><tr><td>val_accuracy</td><td>▁▁▁▁▁▁▁▁▁▁▁▁▁▁▁▁▁▁▁▁▁▁▁▁▁▁▁▁▁▁▁▁▁▁▁▁▁▁▁▁</td></tr><tr><td>_step</td><td>▁▁▁▁▂▂▂▂▂▃▃▃▃▃▃▄▄▄▄▄▅▅▅▅▅▅▆▆▆▆▆▆▇▇▇▇▇███</td></tr><tr><td>_runtime</td><td>▁▁▁▁▂▂▂▂▂▃▃▃▃▃▃▄▄▄▄▄▅▅▅▅▅▆▆▆▆▆▆▇▇▇▇▇████</td></tr><tr><td>_timestamp</td><td>▁▁▁▁▂▂▂▂▂▃▃▃▃▃▃▄▄▄▄▄▅▅▅▅▅▆▆▆▆▆▆▇▇▇▇▇████</td></tr><tr><td>num_classes</td><td>▁</td></tr></table><br/>"
     },
     "metadata": {}
    },
    {
     "output_type": "display_data",
     "data": {
      "text/plain": "<IPython.core.display.HTML object>",
      "text/html": "Synced 5 W&B file(s), 1 media file(s), 0 artifact file(s) and 0 other file(s)"
     },
     "metadata": {}
    },
    {
     "output_type": "display_data",
     "data": {
      "text/plain": "<IPython.core.display.HTML object>",
      "text/html": "\n                    <br/>Synced <strong style=\"color:#cdcd00\">elated-sun-106</strong>: <a href=\"https://wandb.ai/supervisedlearning/CNN%20All%20kf%20experiments/runs/2lkxuk2u\" target=\"_blank\">https://wandb.ai/supervisedlearning/CNN%20All%20kf%20experiments/runs/2lkxuk2u</a><br/>\n                "
     },
     "metadata": {}
    },
    {
     "output_type": "stream",
     "name": "stderr",
     "text": [
      "wandb: wandb version 0.10.12 is available!  To upgrade, please run:\nwandb:  $ pip install wandb --upgrade\n"
     ]
    },
    {
     "output_type": "display_data",
     "data": {
      "text/plain": "<IPython.core.display.HTML object>",
      "text/html": "\n                Tracking run with wandb version 0.10.8<br/>\n                Syncing run <strong style=\"color:#cdcd00\">dainty-moon-107</strong> to <a href=\"https://wandb.ai\" target=\"_blank\">Weights & Biases</a> <a href=\"https://docs.wandb.com/integrations/jupyter.html\" target=\"_blank\">(Documentation)</a>.<br/>\n                Project page: <a href=\"https://wandb.ai/supervisedlearning/CNN%20All%20kf%20experiments\" target=\"_blank\">https://wandb.ai/supervisedlearning/CNN%20All%20kf%20experiments</a><br/>\n                Run page: <a href=\"https://wandb.ai/supervisedlearning/CNN%20All%20kf%20experiments/runs/zk37wrnc\" target=\"_blank\">https://wandb.ai/supervisedlearning/CNN%20All%20kf%20experiments/runs/zk37wrnc</a><br/>\n                Run data is saved locally in <code>wandb\\run-20201205_161653-zk37wrnc</code><br/><br/>\n            "
     },
     "metadata": {}
    },
    {
     "output_type": "stream",
     "name": "stdout",
     "text": [
      "Train on 8721 samples, validate on 969 samples\n",
      "Epoch 1/50\n",
      "8721/8721 [==============================] - 2s 200us/sample - loss: 0.0000e+00 - accuracy: 1.0000 - val_loss: 0.0000e+00 - val_accuracy: 1.0000\n",
      "Epoch 2/50\n",
      "8721/8721 [==============================] - 2s 190us/sample - loss: 0.0000e+00 - accuracy: 1.0000 - val_loss: 0.0000e+00 - val_accuracy: 1.0000\n",
      "Epoch 3/50\n",
      "8721/8721 [==============================] - 2s 196us/sample - loss: 0.0000e+00 - accuracy: 1.0000 - val_loss: 0.0000e+00 - val_accuracy: 1.0000\n",
      "Epoch 4/50\n",
      "8721/8721 [==============================] - 2s 194us/sample - loss: 0.0000e+00 - accuracy: 1.0000 - val_loss: 0.0000e+00 - val_accuracy: 1.0000\n",
      "Epoch 5/50\n",
      "8721/8721 [==============================] - 2s 200us/sample - loss: 0.0000e+00 - accuracy: 1.0000 - val_loss: 0.0000e+00 - val_accuracy: 1.0000\n",
      "Epoch 6/50\n",
      "8721/8721 [==============================] - 2s 195us/sample - loss: 0.0000e+00 - accuracy: 1.0000 - val_loss: 0.0000e+00 - val_accuracy: 1.0000\n",
      "Epoch 7/50\n",
      "8721/8721 [==============================] - 2s 198us/sample - loss: 0.0000e+00 - accuracy: 1.0000 - val_loss: 0.0000e+00 - val_accuracy: 1.0000\n",
      "Epoch 8/50\n",
      "8721/8721 [==============================] - 2s 203us/sample - loss: 0.0000e+00 - accuracy: 1.0000 - val_loss: 0.0000e+00 - val_accuracy: 1.0000\n",
      "Epoch 9/50\n",
      "8721/8721 [==============================] - 2s 187us/sample - loss: 0.0000e+00 - accuracy: 1.0000 - val_loss: 0.0000e+00 - val_accuracy: 1.0000\n",
      "Epoch 10/50\n",
      "8721/8721 [==============================] - 2s 198us/sample - loss: 0.0000e+00 - accuracy: 1.0000 - val_loss: 0.0000e+00 - val_accuracy: 1.0000\n",
      "Epoch 11/50\n",
      "8721/8721 [==============================] - 2s 200us/sample - loss: 0.0000e+00 - accuracy: 1.0000 - val_loss: 0.0000e+00 - val_accuracy: 1.0000\n",
      "Epoch 12/50\n",
      "8721/8721 [==============================] - 2s 202us/sample - loss: 0.0000e+00 - accuracy: 1.0000 - val_loss: 0.0000e+00 - val_accuracy: 1.0000\n",
      "Epoch 13/50\n",
      "8721/8721 [==============================] - 2s 195us/sample - loss: 0.0000e+00 - accuracy: 1.0000 - val_loss: 0.0000e+00 - val_accuracy: 1.0000\n",
      "Epoch 14/50\n",
      "8721/8721 [==============================] - 2s 194us/sample - loss: 0.0000e+00 - accuracy: 1.0000 - val_loss: 0.0000e+00 - val_accuracy: 1.0000\n",
      "Epoch 15/50\n",
      "8721/8721 [==============================] - 2s 200us/sample - loss: 0.0000e+00 - accuracy: 1.0000 - val_loss: 0.0000e+00 - val_accuracy: 1.0000\n",
      "Epoch 16/50\n",
      "8721/8721 [==============================] - 2s 206us/sample - loss: 0.0000e+00 - accuracy: 1.0000 - val_loss: 0.0000e+00 - val_accuracy: 1.0000\n",
      "Epoch 17/50\n",
      "8721/8721 [==============================] - 2s 198us/sample - loss: 0.0000e+00 - accuracy: 1.0000 - val_loss: 0.0000e+00 - val_accuracy: 1.0000\n",
      "Epoch 18/50\n",
      "8721/8721 [==============================] - 2s 193us/sample - loss: 0.0000e+00 - accuracy: 1.0000 - val_loss: 0.0000e+00 - val_accuracy: 1.0000\n",
      "Epoch 19/50\n",
      "8721/8721 [==============================] - 2s 198us/sample - loss: 0.0000e+00 - accuracy: 1.0000 - val_loss: 0.0000e+00 - val_accuracy: 1.0000\n",
      "Epoch 20/50\n",
      "8721/8721 [==============================] - 2s 195us/sample - loss: 0.0000e+00 - accuracy: 1.0000 - val_loss: 0.0000e+00 - val_accuracy: 1.0000\n",
      "Epoch 21/50\n",
      "8721/8721 [==============================] - 2s 205us/sample - loss: 0.0000e+00 - accuracy: 1.0000 - val_loss: 0.0000e+00 - val_accuracy: 1.0000\n",
      "Epoch 22/50\n",
      "8721/8721 [==============================] - 2s 201us/sample - loss: 0.0000e+00 - accuracy: 1.0000 - val_loss: 0.0000e+00 - val_accuracy: 1.0000\n",
      "Epoch 23/50\n",
      "8721/8721 [==============================] - 2s 221us/sample - loss: 0.0000e+00 - accuracy: 1.0000 - val_loss: 0.0000e+00 - val_accuracy: 1.0000\n",
      "Epoch 24/50\n",
      "8721/8721 [==============================] - 2s 211us/sample - loss: 0.0000e+00 - accuracy: 1.0000 - val_loss: 0.0000e+00 - val_accuracy: 1.0000\n",
      "Epoch 25/50\n",
      "8721/8721 [==============================] - 2s 199us/sample - loss: 0.0000e+00 - accuracy: 1.0000 - val_loss: 0.0000e+00 - val_accuracy: 1.0000\n",
      "Epoch 26/50\n",
      "8721/8721 [==============================] - 2s 199us/sample - loss: 0.0000e+00 - accuracy: 1.0000 - val_loss: 0.0000e+00 - val_accuracy: 1.0000\n",
      "Epoch 27/50\n",
      "8721/8721 [==============================] - 2s 195us/sample - loss: 0.0000e+00 - accuracy: 1.0000 - val_loss: 0.0000e+00 - val_accuracy: 1.0000\n",
      "Epoch 28/50\n",
      "8721/8721 [==============================] - 2s 205us/sample - loss: 0.0000e+00 - accuracy: 1.0000 - val_loss: 0.0000e+00 - val_accuracy: 1.0000\n",
      "Epoch 29/50\n",
      "8721/8721 [==============================] - 2s 215us/sample - loss: 0.0000e+00 - accuracy: 1.0000 - val_loss: 0.0000e+00 - val_accuracy: 1.0000\n",
      "Epoch 30/50\n",
      "8721/8721 [==============================] - 2s 212us/sample - loss: 0.0000e+00 - accuracy: 1.0000 - val_loss: 0.0000e+00 - val_accuracy: 1.0000\n",
      "Epoch 31/50\n",
      "8721/8721 [==============================] - 2s 198us/sample - loss: 0.0000e+00 - accuracy: 1.0000 - val_loss: 0.0000e+00 - val_accuracy: 1.0000\n",
      "Epoch 32/50\n",
      "8721/8721 [==============================] - 2s 198us/sample - loss: 0.0000e+00 - accuracy: 1.0000 - val_loss: 0.0000e+00 - val_accuracy: 1.0000\n",
      "Epoch 33/50\n",
      "8721/8721 [==============================] - 2s 208us/sample - loss: 0.0000e+00 - accuracy: 1.0000 - val_loss: 0.0000e+00 - val_accuracy: 1.0000\n",
      "Epoch 34/50\n",
      "8721/8721 [==============================] - 2s 214us/sample - loss: 0.0000e+00 - accuracy: 1.0000 - val_loss: 0.0000e+00 - val_accuracy: 1.0000\n",
      "Epoch 35/50\n",
      "8721/8721 [==============================] - 2s 202us/sample - loss: 0.0000e+00 - accuracy: 1.0000 - val_loss: 0.0000e+00 - val_accuracy: 1.0000\n",
      "Epoch 36/50\n",
      "8721/8721 [==============================] - 2s 205us/sample - loss: 0.0000e+00 - accuracy: 1.0000 - val_loss: 0.0000e+00 - val_accuracy: 1.0000\n",
      "Epoch 37/50\n",
      "8721/8721 [==============================] - 2s 201us/sample - loss: 0.0000e+00 - accuracy: 1.0000 - val_loss: 0.0000e+00 - val_accuracy: 1.0000\n",
      "Epoch 38/50\n",
      "8721/8721 [==============================] - 2s 193us/sample - loss: 0.0000e+00 - accuracy: 1.0000 - val_loss: 0.0000e+00 - val_accuracy: 1.0000\n",
      "Epoch 39/50\n",
      "8721/8721 [==============================] - 2s 197us/sample - loss: 0.0000e+00 - accuracy: 1.0000 - val_loss: 0.0000e+00 - val_accuracy: 1.0000\n",
      "Epoch 40/50\n",
      "8721/8721 [==============================] - 2s 202us/sample - loss: 0.0000e+00 - accuracy: 1.0000 - val_loss: 0.0000e+00 - val_accuracy: 1.0000\n",
      "Epoch 41/50\n",
      "8721/8721 [==============================] - 2s 203us/sample - loss: 0.0000e+00 - accuracy: 1.0000 - val_loss: 0.0000e+00 - val_accuracy: 1.0000\n",
      "Epoch 42/50\n",
      "8721/8721 [==============================] - 2s 194us/sample - loss: 0.0000e+00 - accuracy: 1.0000 - val_loss: 0.0000e+00 - val_accuracy: 1.0000\n",
      "Epoch 43/50\n",
      "8721/8721 [==============================] - 2s 217us/sample - loss: 0.0000e+00 - accuracy: 1.0000 - val_loss: 0.0000e+00 - val_accuracy: 1.0000\n",
      "Epoch 44/50\n",
      "8721/8721 [==============================] - 2s 208us/sample - loss: 0.0000e+00 - accuracy: 1.0000 - val_loss: 0.0000e+00 - val_accuracy: 1.0000\n",
      "Epoch 45/50\n",
      "8721/8721 [==============================] - 2s 209us/sample - loss: 0.0000e+00 - accuracy: 1.0000 - val_loss: 0.0000e+00 - val_accuracy: 1.0000\n",
      "Epoch 46/50\n",
      "8721/8721 [==============================] - 2s 211us/sample - loss: 0.0000e+00 - accuracy: 1.0000 - val_loss: 0.0000e+00 - val_accuracy: 1.0000\n",
      "Epoch 47/50\n",
      "8721/8721 [==============================] - 2s 196us/sample - loss: 0.0000e+00 - accuracy: 1.0000 - val_loss: 0.0000e+00 - val_accuracy: 1.0000\n",
      "Epoch 48/50\n",
      "8721/8721 [==============================] - 2s 199us/sample - loss: 0.0000e+00 - accuracy: 1.0000 - val_loss: 0.0000e+00 - val_accuracy: 1.0000\n",
      "Epoch 49/50\n",
      "8721/8721 [==============================] - 2s 204us/sample - loss: 0.0000e+00 - accuracy: 1.0000 - val_loss: 0.0000e+00 - val_accuracy: 1.0000\n",
      "Epoch 50/50\n",
      "8721/8721 [==============================] - 2s 196us/sample - loss: 0.0000e+00 - accuracy: 1.0000 - val_loss: 0.0000e+00 - val_accuracy: 1.0000\n"
     ]
    },
    {
     "output_type": "display_data",
     "data": {
      "text/plain": "<IPython.core.display.HTML object>",
      "text/html": "<br/>Waiting for W&B process to finish, PID 10700<br/>Program ended successfully."
     },
     "metadata": {}
    },
    {
     "output_type": "display_data",
     "data": {
      "text/plain": "<IPython.core.display.HTML object>",
      "text/html": "Find user logs for this run at: <code>wandb\\run-20201205_161653-zk37wrnc\\logs\\debug.log</code>"
     },
     "metadata": {}
    },
    {
     "output_type": "display_data",
     "data": {
      "text/plain": "<IPython.core.display.HTML object>",
      "text/html": "Find internal logs for this run at: <code>wandb\\run-20201205_161653-zk37wrnc\\logs\\debug-internal.log</code>"
     },
     "metadata": {}
    },
    {
     "output_type": "display_data",
     "data": {
      "text/plain": "<IPython.core.display.HTML object>",
      "text/html": "<h3>Run summary:</h3><br/><style>\n    table.wandb td:nth-child(1) { padding: 0 10px; text-align: right }\n    </style><table class=\"wandb\">\n<tr><td>epoch</td><td>49</td></tr><tr><td>loss</td><td>0.0</td></tr><tr><td>accuracy</td><td>1.0</td></tr><tr><td>val_loss</td><td>0.0</td></tr><tr><td>val_accuracy</td><td>1.0</td></tr><tr><td>_step</td><td>50</td></tr><tr><td>_runtime</td><td>90</td></tr><tr><td>_timestamp</td><td>1607185103</td></tr><tr><td>Label_class</td><td>speed limit 20</td></tr><tr><td>num_classes</td><td>2</td></tr></table>"
     },
     "metadata": {}
    },
    {
     "output_type": "display_data",
     "data": {
      "text/plain": "<IPython.core.display.HTML object>",
      "text/html": "<h3>Run history:</h3><br/><style>\n    table.wandb td:nth-child(1) { padding: 0 10px; text-align: right }\n    </style><table class=\"wandb\">\n<tr><td>epoch</td><td>▁▁▁▁▂▂▂▂▂▃▃▃▃▃▃▄▄▄▄▄▅▅▅▅▅▅▆▆▆▆▆▆▇▇▇▇▇███</td></tr><tr><td>loss</td><td>▁▁▁▁▁▁▁▁▁▁▁▁▁▁▁▁▁▁▁▁▁▁▁▁▁▁▁▁▁▁▁▁▁▁▁▁▁▁▁▁</td></tr><tr><td>accuracy</td><td>▁▁▁▁▁▁▁▁▁▁▁▁▁▁▁▁▁▁▁▁▁▁▁▁▁▁▁▁▁▁▁▁▁▁▁▁▁▁▁▁</td></tr><tr><td>val_loss</td><td>▁▁▁▁▁▁▁▁▁▁▁▁▁▁▁▁▁▁▁▁▁▁▁▁▁▁▁▁▁▁▁▁▁▁▁▁▁▁▁▁</td></tr><tr><td>val_accuracy</td><td>▁▁▁▁▁▁▁▁▁▁▁▁▁▁▁▁▁▁▁▁▁▁▁▁▁▁▁▁▁▁▁▁▁▁▁▁▁▁▁▁</td></tr><tr><td>_step</td><td>▁▁▁▁▂▂▂▂▂▃▃▃▃▃▃▄▄▄▄▄▅▅▅▅▅▅▆▆▆▆▆▆▇▇▇▇▇███</td></tr><tr><td>_runtime</td><td>▁▁▁▁▂▂▂▂▂▃▃▃▃▃▃▄▄▄▄▄▅▅▅▅▅▆▆▆▆▆▆▇▇▇▇▇████</td></tr><tr><td>_timestamp</td><td>▁▁▁▁▂▂▂▂▂▃▃▃▃▃▃▄▄▄▄▄▅▅▅▅▅▆▆▆▆▆▆▇▇▇▇▇████</td></tr><tr><td>num_classes</td><td>▁</td></tr></table><br/>"
     },
     "metadata": {}
    },
    {
     "output_type": "display_data",
     "data": {
      "text/plain": "<IPython.core.display.HTML object>",
      "text/html": "Synced 5 W&B file(s), 1 media file(s), 0 artifact file(s) and 0 other file(s)"
     },
     "metadata": {}
    },
    {
     "output_type": "display_data",
     "data": {
      "text/plain": "<IPython.core.display.HTML object>",
      "text/html": "\n                    <br/>Synced <strong style=\"color:#cdcd00\">dainty-moon-107</strong>: <a href=\"https://wandb.ai/supervisedlearning/CNN%20All%20kf%20experiments/runs/zk37wrnc\" target=\"_blank\">https://wandb.ai/supervisedlearning/CNN%20All%20kf%20experiments/runs/zk37wrnc</a><br/>\n                "
     },
     "metadata": {}
    },
    {
     "output_type": "stream",
     "name": "stderr",
     "text": [
      "wandb: wandb version 0.10.12 is available!  To upgrade, please run:\nwandb:  $ pip install wandb --upgrade\n"
     ]
    },
    {
     "output_type": "display_data",
     "data": {
      "text/plain": "<IPython.core.display.HTML object>",
      "text/html": "\n                Tracking run with wandb version 0.10.8<br/>\n                Syncing run <strong style=\"color:#cdcd00\">easy-serenity-108</strong> to <a href=\"https://wandb.ai\" target=\"_blank\">Weights & Biases</a> <a href=\"https://docs.wandb.com/integrations/jupyter.html\" target=\"_blank\">(Documentation)</a>.<br/>\n                Project page: <a href=\"https://wandb.ai/supervisedlearning/CNN%20All%20kf%20experiments\" target=\"_blank\">https://wandb.ai/supervisedlearning/CNN%20All%20kf%20experiments</a><br/>\n                Run page: <a href=\"https://wandb.ai/supervisedlearning/CNN%20All%20kf%20experiments/runs/7yi4npqz\" target=\"_blank\">https://wandb.ai/supervisedlearning/CNN%20All%20kf%20experiments/runs/7yi4npqz</a><br/>\n                Run data is saved locally in <code>wandb\\run-20201205_161828-7yi4npqz</code><br/><br/>\n            "
     },
     "metadata": {}
    },
    {
     "output_type": "stream",
     "name": "stdout",
     "text": [
      "Train on 8721 samples, validate on 969 samples\n",
      "Epoch 1/50\n",
      "8721/8721 [==============================] - 2s 209us/sample - loss: 0.0000e+00 - accuracy: 1.0000 - val_loss: 0.0000e+00 - val_accuracy: 1.0000\n",
      "Epoch 2/50\n",
      "8721/8721 [==============================] - 2s 197us/sample - loss: 0.0000e+00 - accuracy: 1.0000 - val_loss: 0.0000e+00 - val_accuracy: 1.0000\n",
      "Epoch 3/50\n",
      "8721/8721 [==============================] - 2s 210us/sample - loss: 0.0000e+00 - accuracy: 1.0000 - val_loss: 0.0000e+00 - val_accuracy: 1.0000\n",
      "Epoch 4/50\n",
      "8721/8721 [==============================] - 2s 204us/sample - loss: 0.0000e+00 - accuracy: 1.0000 - val_loss: 0.0000e+00 - val_accuracy: 1.0000\n",
      "Epoch 5/50\n",
      "8721/8721 [==============================] - 2s 200us/sample - loss: 0.0000e+00 - accuracy: 1.0000 - val_loss: 0.0000e+00 - val_accuracy: 1.0000\n",
      "Epoch 6/50\n",
      "8721/8721 [==============================] - 2s 202us/sample - loss: 0.0000e+00 - accuracy: 1.0000 - val_loss: 0.0000e+00 - val_accuracy: 1.0000\n",
      "Epoch 7/50\n",
      "8721/8721 [==============================] - 2s 203us/sample - loss: 0.0000e+00 - accuracy: 1.0000 - val_loss: 0.0000e+00 - val_accuracy: 1.0000\n",
      "Epoch 8/50\n",
      "8721/8721 [==============================] - 2s 212us/sample - loss: 0.0000e+00 - accuracy: 1.0000 - val_loss: 0.0000e+00 - val_accuracy: 1.0000\n",
      "Epoch 9/50\n",
      "8721/8721 [==============================] - 2s 208us/sample - loss: 0.0000e+00 - accuracy: 1.0000 - val_loss: 0.0000e+00 - val_accuracy: 1.0000\n",
      "Epoch 10/50\n",
      "8721/8721 [==============================] - 2s 209us/sample - loss: 0.0000e+00 - accuracy: 1.0000 - val_loss: 0.0000e+00 - val_accuracy: 1.0000\n",
      "Epoch 11/50\n",
      "8721/8721 [==============================] - 2s 195us/sample - loss: 0.0000e+00 - accuracy: 1.0000 - val_loss: 0.0000e+00 - val_accuracy: 1.0000\n",
      "Epoch 12/50\n",
      "8721/8721 [==============================] - 2s 218us/sample - loss: 0.0000e+00 - accuracy: 1.0000 - val_loss: 0.0000e+00 - val_accuracy: 1.0000\n",
      "Epoch 13/50\n",
      "8721/8721 [==============================] - 2s 205us/sample - loss: 0.0000e+00 - accuracy: 1.0000 - val_loss: 0.0000e+00 - val_accuracy: 1.0000\n",
      "Epoch 14/50\n",
      "8721/8721 [==============================] - 2s 207us/sample - loss: 0.0000e+00 - accuracy: 1.0000 - val_loss: 0.0000e+00 - val_accuracy: 1.0000\n",
      "Epoch 15/50\n",
      "8721/8721 [==============================] - 2s 208us/sample - loss: 0.0000e+00 - accuracy: 1.0000 - val_loss: 0.0000e+00 - val_accuracy: 1.0000\n",
      "Epoch 16/50\n",
      "8721/8721 [==============================] - 2s 203us/sample - loss: 0.0000e+00 - accuracy: 1.0000 - val_loss: 0.0000e+00 - val_accuracy: 1.0000\n",
      "Epoch 17/50\n",
      "8721/8721 [==============================] - 2s 211us/sample - loss: 0.0000e+00 - accuracy: 1.0000 - val_loss: 0.0000e+00 - val_accuracy: 1.0000\n",
      "Epoch 18/50\n",
      "8721/8721 [==============================] - 2s 202us/sample - loss: 0.0000e+00 - accuracy: 1.0000 - val_loss: 0.0000e+00 - val_accuracy: 1.0000\n",
      "Epoch 19/50\n",
      "8721/8721 [==============================] - 2s 212us/sample - loss: 0.0000e+00 - accuracy: 1.0000 - val_loss: 0.0000e+00 - val_accuracy: 1.0000\n",
      "Epoch 20/50\n",
      "8721/8721 [==============================] - 2s 204us/sample - loss: 0.0000e+00 - accuracy: 1.0000 - val_loss: 0.0000e+00 - val_accuracy: 1.0000\n",
      "Epoch 21/50\n",
      "8721/8721 [==============================] - 2s 201us/sample - loss: 0.0000e+00 - accuracy: 1.0000 - val_loss: 0.0000e+00 - val_accuracy: 1.0000\n",
      "Epoch 22/50\n",
      "8721/8721 [==============================] - 2s 213us/sample - loss: 0.0000e+00 - accuracy: 1.0000 - val_loss: 0.0000e+00 - val_accuracy: 1.0000\n",
      "Epoch 23/50\n",
      "8721/8721 [==============================] - 2s 210us/sample - loss: 0.0000e+00 - accuracy: 1.0000 - val_loss: 0.0000e+00 - val_accuracy: 1.0000\n",
      "Epoch 24/50\n",
      "8721/8721 [==============================] - 2s 209us/sample - loss: 0.0000e+00 - accuracy: 1.0000 - val_loss: 0.0000e+00 - val_accuracy: 1.0000\n",
      "Epoch 25/50\n",
      "8721/8721 [==============================] - 2s 214us/sample - loss: 0.0000e+00 - accuracy: 1.0000 - val_loss: 0.0000e+00 - val_accuracy: 1.0000\n",
      "Epoch 26/50\n",
      "8721/8721 [==============================] - 2s 211us/sample - loss: 0.0000e+00 - accuracy: 1.0000 - val_loss: 0.0000e+00 - val_accuracy: 1.0000\n",
      "Epoch 27/50\n",
      "8721/8721 [==============================] - 2s 200us/sample - loss: 0.0000e+00 - accuracy: 1.0000 - val_loss: 0.0000e+00 - val_accuracy: 1.0000\n",
      "Epoch 28/50\n",
      "8721/8721 [==============================] - 2s 215us/sample - loss: 0.0000e+00 - accuracy: 1.0000 - val_loss: 0.0000e+00 - val_accuracy: 1.0000\n",
      "Epoch 29/50\n",
      "8721/8721 [==============================] - 2s 205us/sample - loss: 0.0000e+00 - accuracy: 1.0000 - val_loss: 0.0000e+00 - val_accuracy: 1.0000\n",
      "Epoch 30/50\n",
      "8721/8721 [==============================] - 2s 205us/sample - loss: 0.0000e+00 - accuracy: 1.0000 - val_loss: 0.0000e+00 - val_accuracy: 1.0000\n",
      "Epoch 31/50\n",
      "8721/8721 [==============================] - 2s 214us/sample - loss: 0.0000e+00 - accuracy: 1.0000 - val_loss: 0.0000e+00 - val_accuracy: 1.0000\n",
      "Epoch 32/50\n",
      "8721/8721 [==============================] - 2s 210us/sample - loss: 0.0000e+00 - accuracy: 1.0000 - val_loss: 0.0000e+00 - val_accuracy: 1.0000\n",
      "Epoch 33/50\n",
      "8721/8721 [==============================] - 2s 205us/sample - loss: 0.0000e+00 - accuracy: 1.0000 - val_loss: 0.0000e+00 - val_accuracy: 1.0000\n",
      "Epoch 34/50\n",
      "8721/8721 [==============================] - 2s 218us/sample - loss: 0.0000e+00 - accuracy: 1.0000 - val_loss: 0.0000e+00 - val_accuracy: 1.0000\n",
      "Epoch 35/50\n",
      "8721/8721 [==============================] - 2s 205us/sample - loss: 0.0000e+00 - accuracy: 1.0000 - val_loss: 0.0000e+00 - val_accuracy: 1.0000\n",
      "Epoch 36/50\n",
      "8721/8721 [==============================] - 2s 197us/sample - loss: 0.0000e+00 - accuracy: 1.0000 - val_loss: 0.0000e+00 - val_accuracy: 1.0000\n",
      "Epoch 37/50\n",
      "8721/8721 [==============================] - 2s 202us/sample - loss: 0.0000e+00 - accuracy: 1.0000 - val_loss: 0.0000e+00 - val_accuracy: 1.0000\n",
      "Epoch 38/50\n",
      "8721/8721 [==============================] - 2s 216us/sample - loss: 0.0000e+00 - accuracy: 1.0000 - val_loss: 0.0000e+00 - val_accuracy: 1.0000\n",
      "Epoch 39/50\n",
      "8721/8721 [==============================] - 2s 204us/sample - loss: 0.0000e+00 - accuracy: 1.0000 - val_loss: 0.0000e+00 - val_accuracy: 1.0000\n",
      "Epoch 40/50\n",
      "8721/8721 [==============================] - 2s 194us/sample - loss: 0.0000e+00 - accuracy: 1.0000 - val_loss: 0.0000e+00 - val_accuracy: 1.0000\n",
      "Epoch 41/50\n",
      "8721/8721 [==============================] - 2s 192us/sample - loss: 0.0000e+00 - accuracy: 1.0000 - val_loss: 0.0000e+00 - val_accuracy: 1.0000\n",
      "Epoch 42/50\n",
      "8721/8721 [==============================] - 2s 201us/sample - loss: 0.0000e+00 - accuracy: 1.0000 - val_loss: 0.0000e+00 - val_accuracy: 1.0000\n",
      "Epoch 43/50\n",
      "8721/8721 [==============================] - 2s 195us/sample - loss: 0.0000e+00 - accuracy: 1.0000 - val_loss: 0.0000e+00 - val_accuracy: 1.0000\n",
      "Epoch 44/50\n",
      "8721/8721 [==============================] - 2s 201us/sample - loss: 0.0000e+00 - accuracy: 1.0000 - val_loss: 0.0000e+00 - val_accuracy: 1.0000\n",
      "Epoch 45/50\n",
      "8721/8721 [==============================] - 2s 203us/sample - loss: 0.0000e+00 - accuracy: 1.0000 - val_loss: 0.0000e+00 - val_accuracy: 1.0000\n",
      "Epoch 46/50\n",
      "8721/8721 [==============================] - 2s 200us/sample - loss: 0.0000e+00 - accuracy: 1.0000 - val_loss: 0.0000e+00 - val_accuracy: 1.0000\n",
      "Epoch 47/50\n",
      "8721/8721 [==============================] - 2s 202us/sample - loss: 0.0000e+00 - accuracy: 1.0000 - val_loss: 0.0000e+00 - val_accuracy: 1.0000\n",
      "Epoch 48/50\n",
      "8721/8721 [==============================] - 2s 203us/sample - loss: 0.0000e+00 - accuracy: 1.0000 - val_loss: 0.0000e+00 - val_accuracy: 1.0000\n",
      "Epoch 49/50\n",
      "8721/8721 [==============================] - 2s 192us/sample - loss: 0.0000e+00 - accuracy: 1.0000 - val_loss: 0.0000e+00 - val_accuracy: 1.0000\n",
      "Epoch 50/50\n",
      "8721/8721 [==============================] - 2s 194us/sample - loss: 0.0000e+00 - accuracy: 1.0000 - val_loss: 0.0000e+00 - val_accuracy: 1.0000\n"
     ]
    },
    {
     "output_type": "display_data",
     "data": {
      "text/plain": "<IPython.core.display.HTML object>",
      "text/html": "<br/>Waiting for W&B process to finish, PID 34436<br/>Program ended successfully."
     },
     "metadata": {}
    },
    {
     "output_type": "display_data",
     "data": {
      "text/plain": "<IPython.core.display.HTML object>",
      "text/html": "Find user logs for this run at: <code>wandb\\run-20201205_161828-7yi4npqz\\logs\\debug.log</code>"
     },
     "metadata": {}
    },
    {
     "output_type": "display_data",
     "data": {
      "text/plain": "<IPython.core.display.HTML object>",
      "text/html": "Find internal logs for this run at: <code>wandb\\run-20201205_161828-7yi4npqz\\logs\\debug-internal.log</code>"
     },
     "metadata": {}
    },
    {
     "output_type": "display_data",
     "data": {
      "text/plain": "<IPython.core.display.HTML object>",
      "text/html": "<h3>Run summary:</h3><br/><style>\n    table.wandb td:nth-child(1) { padding: 0 10px; text-align: right }\n    </style><table class=\"wandb\">\n<tr><td>epoch</td><td>49</td></tr><tr><td>loss</td><td>0.0</td></tr><tr><td>accuracy</td><td>1.0</td></tr><tr><td>val_loss</td><td>0.0</td></tr><tr><td>val_accuracy</td><td>1.0</td></tr><tr><td>_step</td><td>50</td></tr><tr><td>_runtime</td><td>91</td></tr><tr><td>_timestamp</td><td>1607185199</td></tr><tr><td>Label_class</td><td>speed limit 20</td></tr><tr><td>num_classes</td><td>2</td></tr></table>"
     },
     "metadata": {}
    },
    {
     "output_type": "display_data",
     "data": {
      "text/plain": "<IPython.core.display.HTML object>",
      "text/html": "<h3>Run history:</h3><br/><style>\n    table.wandb td:nth-child(1) { padding: 0 10px; text-align: right }\n    </style><table class=\"wandb\">\n<tr><td>epoch</td><td>▁▁▁▁▂▂▂▂▂▃▃▃▃▃▃▄▄▄▄▄▅▅▅▅▅▅▆▆▆▆▆▆▇▇▇▇▇███</td></tr><tr><td>loss</td><td>▁▁▁▁▁▁▁▁▁▁▁▁▁▁▁▁▁▁▁▁▁▁▁▁▁▁▁▁▁▁▁▁▁▁▁▁▁▁▁▁</td></tr><tr><td>accuracy</td><td>▁▁▁▁▁▁▁▁▁▁▁▁▁▁▁▁▁▁▁▁▁▁▁▁▁▁▁▁▁▁▁▁▁▁▁▁▁▁▁▁</td></tr><tr><td>val_loss</td><td>▁▁▁▁▁▁▁▁▁▁▁▁▁▁▁▁▁▁▁▁▁▁▁▁▁▁▁▁▁▁▁▁▁▁▁▁▁▁▁▁</td></tr><tr><td>val_accuracy</td><td>▁▁▁▁▁▁▁▁▁▁▁▁▁▁▁▁▁▁▁▁▁▁▁▁▁▁▁▁▁▁▁▁▁▁▁▁▁▁▁▁</td></tr><tr><td>_step</td><td>▁▁▁▁▂▂▂▂▂▃▃▃▃▃▃▄▄▄▄▄▅▅▅▅▅▅▆▆▆▆▆▆▇▇▇▇▇███</td></tr><tr><td>_runtime</td><td>▁▁▁▁▂▂▂▂▂▃▃▃▃▃▃▄▄▄▄▅▅▅▅▅▅▆▆▆▆▆▆▇▇▇▇▇████</td></tr><tr><td>_timestamp</td><td>▁▁▁▁▂▂▂▂▂▃▃▃▃▃▃▄▄▄▄▅▅▅▅▅▅▆▆▆▆▆▆▇▇▇▇▇████</td></tr><tr><td>num_classes</td><td>▁</td></tr></table><br/>"
     },
     "metadata": {}
    },
    {
     "output_type": "display_data",
     "data": {
      "text/plain": "<IPython.core.display.HTML object>",
      "text/html": "Synced 5 W&B file(s), 1 media file(s), 0 artifact file(s) and 0 other file(s)"
     },
     "metadata": {}
    },
    {
     "output_type": "display_data",
     "data": {
      "text/plain": "<IPython.core.display.HTML object>",
      "text/html": "\n                    <br/>Synced <strong style=\"color:#cdcd00\">easy-serenity-108</strong>: <a href=\"https://wandb.ai/supervisedlearning/CNN%20All%20kf%20experiments/runs/7yi4npqz\" target=\"_blank\">https://wandb.ai/supervisedlearning/CNN%20All%20kf%20experiments/runs/7yi4npqz</a><br/>\n                "
     },
     "metadata": {}
    },
    {
     "output_type": "stream",
     "name": "stderr",
     "text": [
      "wandb: wandb version 0.10.12 is available!  To upgrade, please run:\nwandb:  $ pip install wandb --upgrade\n"
     ]
    },
    {
     "output_type": "display_data",
     "data": {
      "text/plain": "<IPython.core.display.HTML object>",
      "text/html": "\n                Tracking run with wandb version 0.10.8<br/>\n                Syncing run <strong style=\"color:#cdcd00\">sparkling-microwave-109</strong> to <a href=\"https://wandb.ai\" target=\"_blank\">Weights & Biases</a> <a href=\"https://docs.wandb.com/integrations/jupyter.html\" target=\"_blank\">(Documentation)</a>.<br/>\n                Project page: <a href=\"https://wandb.ai/supervisedlearning/CNN%20All%20kf%20experiments\" target=\"_blank\">https://wandb.ai/supervisedlearning/CNN%20All%20kf%20experiments</a><br/>\n                Run page: <a href=\"https://wandb.ai/supervisedlearning/CNN%20All%20kf%20experiments/runs/2mt39iy4\" target=\"_blank\">https://wandb.ai/supervisedlearning/CNN%20All%20kf%20experiments/runs/2mt39iy4</a><br/>\n                Run data is saved locally in <code>wandb\\run-20201205_162002-2mt39iy4</code><br/><br/>\n            "
     },
     "metadata": {}
    },
    {
     "output_type": "stream",
     "name": "stdout",
     "text": [
      "Train on 8721 samples, validate on 969 samples\n",
      "Epoch 1/50\n",
      "8721/8721 [==============================] - 2s 207us/sample - loss: 0.0000e+00 - accuracy: 1.0000 - val_loss: 0.0000e+00 - val_accuracy: 1.0000\n",
      "Epoch 2/50\n",
      "8721/8721 [==============================] - 2s 199us/sample - loss: 0.0000e+00 - accuracy: 1.0000 - val_loss: 0.0000e+00 - val_accuracy: 1.0000\n",
      "Epoch 3/50\n",
      "8721/8721 [==============================] - 2s 197us/sample - loss: 0.0000e+00 - accuracy: 1.0000 - val_loss: 0.0000e+00 - val_accuracy: 1.0000\n",
      "Epoch 4/50\n",
      "8721/8721 [==============================] - 2s 214us/sample - loss: 0.0000e+00 - accuracy: 1.0000 - val_loss: 0.0000e+00 - val_accuracy: 1.0000\n",
      "Epoch 5/50\n",
      "8721/8721 [==============================] - 2s 201us/sample - loss: 0.0000e+00 - accuracy: 1.0000 - val_loss: 0.0000e+00 - val_accuracy: 1.0000\n",
      "Epoch 6/50\n",
      "8721/8721 [==============================] - 2s 207us/sample - loss: 0.0000e+00 - accuracy: 1.0000 - val_loss: 0.0000e+00 - val_accuracy: 1.0000\n",
      "Epoch 7/50\n",
      "8721/8721 [==============================] - 2s 207us/sample - loss: 0.0000e+00 - accuracy: 1.0000 - val_loss: 0.0000e+00 - val_accuracy: 1.0000\n",
      "Epoch 8/50\n",
      "8721/8721 [==============================] - 2s 193us/sample - loss: 0.0000e+00 - accuracy: 1.0000 - val_loss: 0.0000e+00 - val_accuracy: 1.0000\n",
      "Epoch 9/50\n",
      "8721/8721 [==============================] - 2s 199us/sample - loss: 0.0000e+00 - accuracy: 1.0000 - val_loss: 0.0000e+00 - val_accuracy: 1.0000\n",
      "Epoch 10/50\n",
      "8721/8721 [==============================] - 2s 199us/sample - loss: 0.0000e+00 - accuracy: 1.0000 - val_loss: 0.0000e+00 - val_accuracy: 1.0000\n",
      "Epoch 11/50\n",
      "8721/8721 [==============================] - 2s 199us/sample - loss: 0.0000e+00 - accuracy: 1.0000 - val_loss: 0.0000e+00 - val_accuracy: 1.0000\n",
      "Epoch 12/50\n",
      "8721/8721 [==============================] - 2s 202us/sample - loss: 0.0000e+00 - accuracy: 1.0000 - val_loss: 0.0000e+00 - val_accuracy: 1.0000\n",
      "Epoch 13/50\n",
      "8721/8721 [==============================] - 2s 196us/sample - loss: 0.0000e+00 - accuracy: 1.0000 - val_loss: 0.0000e+00 - val_accuracy: 1.0000\n",
      "Epoch 14/50\n",
      "8721/8721 [==============================] - 2s 201us/sample - loss: 0.0000e+00 - accuracy: 1.0000 - val_loss: 0.0000e+00 - val_accuracy: 1.0000\n",
      "Epoch 15/50\n",
      "8721/8721 [==============================] - 2s 201us/sample - loss: 0.0000e+00 - accuracy: 1.0000 - val_loss: 0.0000e+00 - val_accuracy: 1.0000\n",
      "Epoch 16/50\n",
      "8721/8721 [==============================] - 2s 200us/sample - loss: 0.0000e+00 - accuracy: 1.0000 - val_loss: 0.0000e+00 - val_accuracy: 1.0000\n",
      "Epoch 17/50\n",
      "8721/8721 [==============================] - 2s 197us/sample - loss: 0.0000e+00 - accuracy: 1.0000 - val_loss: 0.0000e+00 - val_accuracy: 1.0000\n",
      "Epoch 18/50\n",
      "8721/8721 [==============================] - 2s 205us/sample - loss: 0.0000e+00 - accuracy: 1.0000 - val_loss: 0.0000e+00 - val_accuracy: 1.0000\n",
      "Epoch 19/50\n",
      "8721/8721 [==============================] - 2s 196us/sample - loss: 0.0000e+00 - accuracy: 1.0000 - val_loss: 0.0000e+00 - val_accuracy: 1.0000\n",
      "Epoch 20/50\n",
      "8721/8721 [==============================] - 2s 208us/sample - loss: 0.0000e+00 - accuracy: 1.0000 - val_loss: 0.0000e+00 - val_accuracy: 1.0000\n",
      "Epoch 21/50\n",
      "8721/8721 [==============================] - 2s 207us/sample - loss: 0.0000e+00 - accuracy: 1.0000 - val_loss: 0.0000e+00 - val_accuracy: 1.0000\n",
      "Epoch 22/50\n",
      "8721/8721 [==============================] - 2s 196us/sample - loss: 0.0000e+00 - accuracy: 1.0000 - val_loss: 0.0000e+00 - val_accuracy: 1.0000\n",
      "Epoch 23/50\n",
      "8721/8721 [==============================] - 2s 200us/sample - loss: 0.0000e+00 - accuracy: 1.0000 - val_loss: 0.0000e+00 - val_accuracy: 1.0000\n",
      "Epoch 24/50\n",
      "8721/8721 [==============================] - 2s 194us/sample - loss: 0.0000e+00 - accuracy: 1.0000 - val_loss: 0.0000e+00 - val_accuracy: 1.0000\n",
      "Epoch 25/50\n",
      "8721/8721 [==============================] - 2s 194us/sample - loss: 0.0000e+00 - accuracy: 1.0000 - val_loss: 0.0000e+00 - val_accuracy: 1.0000\n",
      "Epoch 26/50\n",
      "8721/8721 [==============================] - 2s 197us/sample - loss: 0.0000e+00 - accuracy: 1.0000 - val_loss: 0.0000e+00 - val_accuracy: 1.0000\n",
      "Epoch 27/50\n",
      "8721/8721 [==============================] - 2s 200us/sample - loss: 0.0000e+00 - accuracy: 1.0000 - val_loss: 0.0000e+00 - val_accuracy: 1.0000\n",
      "Epoch 28/50\n",
      "8721/8721 [==============================] - 2s 196us/sample - loss: 0.0000e+00 - accuracy: 1.0000 - val_loss: 0.0000e+00 - val_accuracy: 1.0000\n",
      "Epoch 29/50\n",
      "8721/8721 [==============================] - 2s 196us/sample - loss: 0.0000e+00 - accuracy: 1.0000 - val_loss: 0.0000e+00 - val_accuracy: 1.0000\n",
      "Epoch 30/50\n",
      "8721/8721 [==============================] - 2s 201us/sample - loss: 0.0000e+00 - accuracy: 1.0000 - val_loss: 0.0000e+00 - val_accuracy: 1.0000\n",
      "Epoch 31/50\n",
      "8721/8721 [==============================] - 2s 194us/sample - loss: 0.0000e+00 - accuracy: 1.0000 - val_loss: 0.0000e+00 - val_accuracy: 1.0000\n",
      "Epoch 32/50\n",
      "8721/8721 [==============================] - 2s 200us/sample - loss: 0.0000e+00 - accuracy: 1.0000 - val_loss: 0.0000e+00 - val_accuracy: 1.0000\n",
      "Epoch 33/50\n",
      "8721/8721 [==============================] - 2s 195us/sample - loss: 0.0000e+00 - accuracy: 1.0000 - val_loss: 0.0000e+00 - val_accuracy: 1.0000\n",
      "Epoch 34/50\n",
      "8721/8721 [==============================] - 2s 195us/sample - loss: 0.0000e+00 - accuracy: 1.0000 - val_loss: 0.0000e+00 - val_accuracy: 1.0000\n",
      "Epoch 35/50\n",
      "8721/8721 [==============================] - 2s 193us/sample - loss: 0.0000e+00 - accuracy: 1.0000 - val_loss: 0.0000e+00 - val_accuracy: 1.0000\n",
      "Epoch 36/50\n",
      "8721/8721 [==============================] - 2s 196us/sample - loss: 0.0000e+00 - accuracy: 1.0000 - val_loss: 0.0000e+00 - val_accuracy: 1.0000\n",
      "Epoch 37/50\n",
      "8721/8721 [==============================] - 2s 192us/sample - loss: 0.0000e+00 - accuracy: 1.0000 - val_loss: 0.0000e+00 - val_accuracy: 1.0000\n",
      "Epoch 38/50\n",
      "8721/8721 [==============================] - 2s 192us/sample - loss: 0.0000e+00 - accuracy: 1.0000 - val_loss: 0.0000e+00 - val_accuracy: 1.0000\n",
      "Epoch 39/50\n",
      "8721/8721 [==============================] - 2s 202us/sample - loss: 0.0000e+00 - accuracy: 1.0000 - val_loss: 0.0000e+00 - val_accuracy: 1.0000\n",
      "Epoch 40/50\n",
      "8721/8721 [==============================] - 2s 193us/sample - loss: 0.0000e+00 - accuracy: 1.0000 - val_loss: 0.0000e+00 - val_accuracy: 1.0000\n",
      "Epoch 41/50\n",
      "8721/8721 [==============================] - 2s 197us/sample - loss: 0.0000e+00 - accuracy: 1.0000 - val_loss: 0.0000e+00 - val_accuracy: 1.0000\n",
      "Epoch 42/50\n",
      "8721/8721 [==============================] - 2s 186us/sample - loss: 0.0000e+00 - accuracy: 1.0000 - val_loss: 0.0000e+00 - val_accuracy: 1.0000\n",
      "Epoch 43/50\n",
      "8721/8721 [==============================] - 2s 196us/sample - loss: 0.0000e+00 - accuracy: 1.0000 - val_loss: 0.0000e+00 - val_accuracy: 1.0000\n",
      "Epoch 44/50\n",
      "8721/8721 [==============================] - 2s 196us/sample - loss: 0.0000e+00 - accuracy: 1.0000 - val_loss: 0.0000e+00 - val_accuracy: 1.0000\n",
      "Epoch 45/50\n",
      "8721/8721 [==============================] - 2s 200us/sample - loss: 0.0000e+00 - accuracy: 1.0000 - val_loss: 0.0000e+00 - val_accuracy: 1.0000\n",
      "Epoch 46/50\n",
      "8721/8721 [==============================] - 2s 196us/sample - loss: 0.0000e+00 - accuracy: 1.0000 - val_loss: 0.0000e+00 - val_accuracy: 1.0000\n",
      "Epoch 47/50\n",
      "8721/8721 [==============================] - 2s 198us/sample - loss: 0.0000e+00 - accuracy: 1.0000 - val_loss: 0.0000e+00 - val_accuracy: 1.0000\n",
      "Epoch 48/50\n",
      "8721/8721 [==============================] - 2s 191us/sample - loss: 0.0000e+00 - accuracy: 1.0000 - val_loss: 0.0000e+00 - val_accuracy: 1.0000\n",
      "Epoch 49/50\n",
      "8721/8721 [==============================] - 2s 200us/sample - loss: 0.0000e+00 - accuracy: 1.0000 - val_loss: 0.0000e+00 - val_accuracy: 1.0000\n",
      "Epoch 50/50\n",
      "8721/8721 [==============================] - 2s 191us/sample - loss: 0.0000e+00 - accuracy: 1.0000 - val_loss: 0.0000e+00 - val_accuracy: 1.0000\n"
     ]
    },
    {
     "output_type": "display_data",
     "data": {
      "text/plain": "<IPython.core.display.HTML object>",
      "text/html": "<br/>Waiting for W&B process to finish, PID 26888<br/>Program ended successfully."
     },
     "metadata": {}
    },
    {
     "output_type": "display_data",
     "data": {
      "text/plain": "<IPython.core.display.HTML object>",
      "text/html": "Find user logs for this run at: <code>wandb\\run-20201205_162002-2mt39iy4\\logs\\debug.log</code>"
     },
     "metadata": {}
    },
    {
     "output_type": "display_data",
     "data": {
      "text/plain": "<IPython.core.display.HTML object>",
      "text/html": "Find internal logs for this run at: <code>wandb\\run-20201205_162002-2mt39iy4\\logs\\debug-internal.log</code>"
     },
     "metadata": {}
    },
    {
     "output_type": "display_data",
     "data": {
      "text/plain": "<IPython.core.display.HTML object>",
      "text/html": "<h3>Run summary:</h3><br/><style>\n    table.wandb td:nth-child(1) { padding: 0 10px; text-align: right }\n    </style><table class=\"wandb\">\n<tr><td>epoch</td><td>49</td></tr><tr><td>loss</td><td>0.0</td></tr><tr><td>accuracy</td><td>1.0</td></tr><tr><td>val_loss</td><td>0.0</td></tr><tr><td>val_accuracy</td><td>1.0</td></tr><tr><td>_step</td><td>50</td></tr><tr><td>_runtime</td><td>89</td></tr><tr><td>_timestamp</td><td>1607185291</td></tr><tr><td>Label_class</td><td>speed limit 20</td></tr><tr><td>num_classes</td><td>2</td></tr></table>"
     },
     "metadata": {}
    },
    {
     "output_type": "display_data",
     "data": {
      "text/plain": "<IPython.core.display.HTML object>",
      "text/html": "<h3>Run history:</h3><br/><style>\n    table.wandb td:nth-child(1) { padding: 0 10px; text-align: right }\n    </style><table class=\"wandb\">\n<tr><td>epoch</td><td>▁▁▁▁▂▂▂▂▂▃▃▃▃▃▃▄▄▄▄▄▅▅▅▅▅▅▆▆▆▆▆▆▇▇▇▇▇███</td></tr><tr><td>loss</td><td>▁▁▁▁▁▁▁▁▁▁▁▁▁▁▁▁▁▁▁▁▁▁▁▁▁▁▁▁▁▁▁▁▁▁▁▁▁▁▁▁</td></tr><tr><td>accuracy</td><td>▁▁▁▁▁▁▁▁▁▁▁▁▁▁▁▁▁▁▁▁▁▁▁▁▁▁▁▁▁▁▁▁▁▁▁▁▁▁▁▁</td></tr><tr><td>val_loss</td><td>▁▁▁▁▁▁▁▁▁▁▁▁▁▁▁▁▁▁▁▁▁▁▁▁▁▁▁▁▁▁▁▁▁▁▁▁▁▁▁▁</td></tr><tr><td>val_accuracy</td><td>▁▁▁▁▁▁▁▁▁▁▁▁▁▁▁▁▁▁▁▁▁▁▁▁▁▁▁▁▁▁▁▁▁▁▁▁▁▁▁▁</td></tr><tr><td>_step</td><td>▁▁▁▁▂▂▂▂▂▃▃▃▃▃▃▄▄▄▄▄▅▅▅▅▅▅▆▆▆▆▆▆▇▇▇▇▇███</td></tr><tr><td>_runtime</td><td>▁▁▁▁▂▂▂▂▂▃▃▃▃▃▃▄▄▄▄▄▅▅▅▅▅▆▆▆▆▆▆▇▇▇▇▇████</td></tr><tr><td>_timestamp</td><td>▁▁▁▁▂▂▂▂▂▃▃▃▃▃▃▄▄▄▄▄▅▅▅▅▅▆▆▆▆▆▆▇▇▇▇▇████</td></tr><tr><td>num_classes</td><td>▁</td></tr></table><br/>"
     },
     "metadata": {}
    },
    {
     "output_type": "display_data",
     "data": {
      "text/plain": "<IPython.core.display.HTML object>",
      "text/html": "Synced 5 W&B file(s), 1 media file(s), 0 artifact file(s) and 0 other file(s)"
     },
     "metadata": {}
    },
    {
     "output_type": "display_data",
     "data": {
      "text/plain": "<IPython.core.display.HTML object>",
      "text/html": "\n                    <br/>Synced <strong style=\"color:#cdcd00\">sparkling-microwave-109</strong>: <a href=\"https://wandb.ai/supervisedlearning/CNN%20All%20kf%20experiments/runs/2mt39iy4\" target=\"_blank\">https://wandb.ai/supervisedlearning/CNN%20All%20kf%20experiments/runs/2mt39iy4</a><br/>\n                "
     },
     "metadata": {}
    },
    {
     "output_type": "stream",
     "name": "stderr",
     "text": [
      "wandb: wandb version 0.10.12 is available!  To upgrade, please run:\nwandb:  $ pip install wandb --upgrade\n"
     ]
    },
    {
     "output_type": "display_data",
     "data": {
      "text/plain": "<IPython.core.display.HTML object>",
      "text/html": "\n                Tracking run with wandb version 0.10.8<br/>\n                Syncing run <strong style=\"color:#cdcd00\">sparkling-feather-110</strong> to <a href=\"https://wandb.ai\" target=\"_blank\">Weights & Biases</a> <a href=\"https://docs.wandb.com/integrations/jupyter.html\" target=\"_blank\">(Documentation)</a>.<br/>\n                Project page: <a href=\"https://wandb.ai/supervisedlearning/CNN%20All%20kf%20experiments\" target=\"_blank\">https://wandb.ai/supervisedlearning/CNN%20All%20kf%20experiments</a><br/>\n                Run page: <a href=\"https://wandb.ai/supervisedlearning/CNN%20All%20kf%20experiments/runs/3nv825fy\" target=\"_blank\">https://wandb.ai/supervisedlearning/CNN%20All%20kf%20experiments/runs/3nv825fy</a><br/>\n                Run data is saved locally in <code>wandb\\run-20201205_162134-3nv825fy</code><br/><br/>\n            "
     },
     "metadata": {}
    },
    {
     "output_type": "stream",
     "name": "stdout",
     "text": [
      "Train on 8721 samples, validate on 969 samples\n",
      "Epoch 1/50\n",
      "8721/8721 [==============================] - 2s 198us/sample - loss: 0.0000e+00 - accuracy: 1.0000 - val_loss: 0.0000e+00 - val_accuracy: 1.0000\n",
      "Epoch 2/50\n",
      "8721/8721 [==============================] - 2s 202us/sample - loss: 0.0000e+00 - accuracy: 1.0000 - val_loss: 0.0000e+00 - val_accuracy: 1.0000\n",
      "Epoch 3/50\n",
      "8721/8721 [==============================] - 2s 190us/sample - loss: 0.0000e+00 - accuracy: 1.0000 - val_loss: 0.0000e+00 - val_accuracy: 1.0000\n",
      "Epoch 4/50\n",
      "8721/8721 [==============================] - 2s 190us/sample - loss: 0.0000e+00 - accuracy: 1.0000 - val_loss: 0.0000e+00 - val_accuracy: 1.0000\n",
      "Epoch 5/50\n",
      "8721/8721 [==============================] - 2s 200us/sample - loss: 0.0000e+00 - accuracy: 1.0000 - val_loss: 0.0000e+00 - val_accuracy: 1.0000\n",
      "Epoch 6/50\n",
      "8721/8721 [==============================] - 2s 188us/sample - loss: 0.0000e+00 - accuracy: 1.0000 - val_loss: 0.0000e+00 - val_accuracy: 1.0000\n",
      "Epoch 7/50\n",
      "8721/8721 [==============================] - 2s 196us/sample - loss: 0.0000e+00 - accuracy: 1.0000 - val_loss: 0.0000e+00 - val_accuracy: 1.0000\n",
      "Epoch 8/50\n",
      "8721/8721 [==============================] - 2s 193us/sample - loss: 0.0000e+00 - accuracy: 1.0000 - val_loss: 0.0000e+00 - val_accuracy: 1.0000\n",
      "Epoch 9/50\n",
      "8721/8721 [==============================] - 2s 192us/sample - loss: 0.0000e+00 - accuracy: 1.0000 - val_loss: 0.0000e+00 - val_accuracy: 1.0000\n",
      "Epoch 10/50\n",
      "8721/8721 [==============================] - 2s 191us/sample - loss: 0.0000e+00 - accuracy: 1.0000 - val_loss: 0.0000e+00 - val_accuracy: 1.0000\n",
      "Epoch 11/50\n",
      "8721/8721 [==============================] - 2s 202us/sample - loss: 0.0000e+00 - accuracy: 1.0000 - val_loss: 0.0000e+00 - val_accuracy: 1.0000\n",
      "Epoch 12/50\n",
      "8721/8721 [==============================] - 2s 197us/sample - loss: 0.0000e+00 - accuracy: 1.0000 - val_loss: 0.0000e+00 - val_accuracy: 1.0000\n",
      "Epoch 13/50\n",
      "8721/8721 [==============================] - 2s 196us/sample - loss: 0.0000e+00 - accuracy: 1.0000 - val_loss: 0.0000e+00 - val_accuracy: 1.0000\n",
      "Epoch 14/50\n",
      "8721/8721 [==============================] - 2s 198us/sample - loss: 0.0000e+00 - accuracy: 1.0000 - val_loss: 0.0000e+00 - val_accuracy: 1.0000\n",
      "Epoch 15/50\n",
      "8721/8721 [==============================] - 2s 198us/sample - loss: 0.0000e+00 - accuracy: 1.0000 - val_loss: 0.0000e+00 - val_accuracy: 1.0000\n",
      "Epoch 16/50\n",
      "8721/8721 [==============================] - 2s 194us/sample - loss: 0.0000e+00 - accuracy: 1.0000 - val_loss: 0.0000e+00 - val_accuracy: 1.0000\n",
      "Epoch 17/50\n",
      "8721/8721 [==============================] - 2s 192us/sample - loss: 0.0000e+00 - accuracy: 1.0000 - val_loss: 0.0000e+00 - val_accuracy: 1.0000\n",
      "Epoch 18/50\n",
      "8721/8721 [==============================] - 2s 195us/sample - loss: 0.0000e+00 - accuracy: 1.0000 - val_loss: 0.0000e+00 - val_accuracy: 1.0000\n",
      "Epoch 19/50\n",
      "8721/8721 [==============================] - 2s 198us/sample - loss: 0.0000e+00 - accuracy: 1.0000 - val_loss: 0.0000e+00 - val_accuracy: 1.0000\n",
      "Epoch 20/50\n",
      "8721/8721 [==============================] - 2s 189us/sample - loss: 0.0000e+00 - accuracy: 1.0000 - val_loss: 0.0000e+00 - val_accuracy: 1.0000\n",
      "Epoch 21/50\n",
      "8721/8721 [==============================] - 2s 190us/sample - loss: 0.0000e+00 - accuracy: 1.0000 - val_loss: 0.0000e+00 - val_accuracy: 1.0000\n",
      "Epoch 22/50\n",
      "8721/8721 [==============================] - 2s 190us/sample - loss: 0.0000e+00 - accuracy: 1.0000 - val_loss: 0.0000e+00 - val_accuracy: 1.0000\n",
      "Epoch 23/50\n",
      "8721/8721 [==============================] - 2s 191us/sample - loss: 0.0000e+00 - accuracy: 1.0000 - val_loss: 0.0000e+00 - val_accuracy: 1.0000\n",
      "Epoch 24/50\n",
      "8721/8721 [==============================] - 2s 194us/sample - loss: 0.0000e+00 - accuracy: 1.0000 - val_loss: 0.0000e+00 - val_accuracy: 1.0000\n",
      "Epoch 25/50\n",
      "8721/8721 [==============================] - 2s 200us/sample - loss: 0.0000e+00 - accuracy: 1.0000 - val_loss: 0.0000e+00 - val_accuracy: 1.0000\n",
      "Epoch 26/50\n",
      "8721/8721 [==============================] - 2s 195us/sample - loss: 0.0000e+00 - accuracy: 1.0000 - val_loss: 0.0000e+00 - val_accuracy: 1.0000\n",
      "Epoch 27/50\n",
      "8721/8721 [==============================] - 2s 193us/sample - loss: 0.0000e+00 - accuracy: 1.0000 - val_loss: 0.0000e+00 - val_accuracy: 1.0000\n",
      "Epoch 28/50\n",
      "8721/8721 [==============================] - 2s 193us/sample - loss: 0.0000e+00 - accuracy: 1.0000 - val_loss: 0.0000e+00 - val_accuracy: 1.0000\n",
      "Epoch 29/50\n",
      "8721/8721 [==============================] - 2s 198us/sample - loss: 0.0000e+00 - accuracy: 1.0000 - val_loss: 0.0000e+00 - val_accuracy: 1.0000\n",
      "Epoch 30/50\n",
      "8721/8721 [==============================] - 2s 196us/sample - loss: 0.0000e+00 - accuracy: 1.0000 - val_loss: 0.0000e+00 - val_accuracy: 1.0000\n",
      "Epoch 31/50\n",
      "8721/8721 [==============================] - 2s 194us/sample - loss: 0.0000e+00 - accuracy: 1.0000 - val_loss: 0.0000e+00 - val_accuracy: 1.0000\n",
      "Epoch 32/50\n",
      "8721/8721 [==============================] - 2s 195us/sample - loss: 0.0000e+00 - accuracy: 1.0000 - val_loss: 0.0000e+00 - val_accuracy: 1.0000\n",
      "Epoch 33/50\n",
      "8721/8721 [==============================] - 2s 195us/sample - loss: 0.0000e+00 - accuracy: 1.0000 - val_loss: 0.0000e+00 - val_accuracy: 1.0000\n",
      "Epoch 34/50\n",
      "8721/8721 [==============================] - 2s 193us/sample - loss: 0.0000e+00 - accuracy: 1.0000 - val_loss: 0.0000e+00 - val_accuracy: 1.0000\n",
      "Epoch 35/50\n",
      "8721/8721 [==============================] - 2s 196us/sample - loss: 0.0000e+00 - accuracy: 1.0000 - val_loss: 0.0000e+00 - val_accuracy: 1.0000\n",
      "Epoch 36/50\n",
      "8721/8721 [==============================] - 2s 191us/sample - loss: 0.0000e+00 - accuracy: 1.0000 - val_loss: 0.0000e+00 - val_accuracy: 1.0000\n",
      "Epoch 37/50\n",
      "8721/8721 [==============================] - 2s 199us/sample - loss: 0.0000e+00 - accuracy: 1.0000 - val_loss: 0.0000e+00 - val_accuracy: 1.0000\n",
      "Epoch 38/50\n",
      "8721/8721 [==============================] - 2s 191us/sample - loss: 0.0000e+00 - accuracy: 1.0000 - val_loss: 0.0000e+00 - val_accuracy: 1.0000\n",
      "Epoch 39/50\n",
      "8721/8721 [==============================] - 2s 192us/sample - loss: 0.0000e+00 - accuracy: 1.0000 - val_loss: 0.0000e+00 - val_accuracy: 1.0000\n",
      "Epoch 40/50\n",
      "8721/8721 [==============================] - 2s 190us/sample - loss: 0.0000e+00 - accuracy: 1.0000 - val_loss: 0.0000e+00 - val_accuracy: 1.0000\n",
      "Epoch 41/50\n",
      "8721/8721 [==============================] - 2s 192us/sample - loss: 0.0000e+00 - accuracy: 1.0000 - val_loss: 0.0000e+00 - val_accuracy: 1.0000\n",
      "Epoch 42/50\n",
      "8721/8721 [==============================] - 2s 192us/sample - loss: 0.0000e+00 - accuracy: 1.0000 - val_loss: 0.0000e+00 - val_accuracy: 1.0000\n",
      "Epoch 43/50\n",
      "8721/8721 [==============================] - 2s 193us/sample - loss: 0.0000e+00 - accuracy: 1.0000 - val_loss: 0.0000e+00 - val_accuracy: 1.0000\n",
      "Epoch 44/50\n",
      "8721/8721 [==============================] - 2s 199us/sample - loss: 0.0000e+00 - accuracy: 1.0000 - val_loss: 0.0000e+00 - val_accuracy: 1.0000\n",
      "Epoch 45/50\n",
      "8721/8721 [==============================] - 2s 194us/sample - loss: 0.0000e+00 - accuracy: 1.0000 - val_loss: 0.0000e+00 - val_accuracy: 1.0000\n",
      "Epoch 46/50\n",
      "8721/8721 [==============================] - 2s 194us/sample - loss: 0.0000e+00 - accuracy: 1.0000 - val_loss: 0.0000e+00 - val_accuracy: 1.0000\n",
      "Epoch 47/50\n",
      "8721/8721 [==============================] - 2s 191us/sample - loss: 0.0000e+00 - accuracy: 1.0000 - val_loss: 0.0000e+00 - val_accuracy: 1.0000\n",
      "Epoch 48/50\n",
      "8721/8721 [==============================] - 2s 193us/sample - loss: 0.0000e+00 - accuracy: 1.0000 - val_loss: 0.0000e+00 - val_accuracy: 1.0000\n",
      "Epoch 49/50\n",
      "8721/8721 [==============================] - 2s 193us/sample - loss: 0.0000e+00 - accuracy: 1.0000 - val_loss: 0.0000e+00 - val_accuracy: 1.0000\n",
      "Epoch 50/50\n",
      "8721/8721 [==============================] - 2s 197us/sample - loss: 0.0000e+00 - accuracy: 1.0000 - val_loss: 0.0000e+00 - val_accuracy: 1.0000\n"
     ]
    },
    {
     "output_type": "display_data",
     "data": {
      "text/plain": "<IPython.core.display.HTML object>",
      "text/html": "<br/>Waiting for W&B process to finish, PID 18172<br/>Program ended successfully."
     },
     "metadata": {}
    },
    {
     "output_type": "display_data",
     "data": {
      "text/plain": "<IPython.core.display.HTML object>",
      "text/html": "Find user logs for this run at: <code>wandb\\run-20201205_162134-3nv825fy\\logs\\debug.log</code>"
     },
     "metadata": {}
    },
    {
     "output_type": "display_data",
     "data": {
      "text/plain": "<IPython.core.display.HTML object>",
      "text/html": "Find internal logs for this run at: <code>wandb\\run-20201205_162134-3nv825fy\\logs\\debug-internal.log</code>"
     },
     "metadata": {}
    },
    {
     "output_type": "display_data",
     "data": {
      "text/plain": "<IPython.core.display.HTML object>",
      "text/html": "<h3>Run summary:</h3><br/><style>\n    table.wandb td:nth-child(1) { padding: 0 10px; text-align: right }\n    </style><table class=\"wandb\">\n<tr><td>epoch</td><td>49</td></tr><tr><td>loss</td><td>0.0</td></tr><tr><td>accuracy</td><td>1.0</td></tr><tr><td>val_loss</td><td>0.0</td></tr><tr><td>val_accuracy</td><td>1.0</td></tr><tr><td>_step</td><td>50</td></tr><tr><td>_runtime</td><td>86</td></tr><tr><td>_timestamp</td><td>1607185380</td></tr><tr><td>Label_class</td><td>speed limit 20</td></tr><tr><td>num_classes</td><td>2</td></tr></table>"
     },
     "metadata": {}
    },
    {
     "output_type": "display_data",
     "data": {
      "text/plain": "<IPython.core.display.HTML object>",
      "text/html": "<h3>Run history:</h3><br/><style>\n    table.wandb td:nth-child(1) { padding: 0 10px; text-align: right }\n    </style><table class=\"wandb\">\n<tr><td>epoch</td><td>▁▁▁▁▂▂▂▂▂▃▃▃▃▃▃▄▄▄▄▄▅▅▅▅▅▅▆▆▆▆▆▆▇▇▇▇▇███</td></tr><tr><td>loss</td><td>▁▁▁▁▁▁▁▁▁▁▁▁▁▁▁▁▁▁▁▁▁▁▁▁▁▁▁▁▁▁▁▁▁▁▁▁▁▁▁▁</td></tr><tr><td>accuracy</td><td>▁▁▁▁▁▁▁▁▁▁▁▁▁▁▁▁▁▁▁▁▁▁▁▁▁▁▁▁▁▁▁▁▁▁▁▁▁▁▁▁</td></tr><tr><td>val_loss</td><td>▁▁▁▁▁▁▁▁▁▁▁▁▁▁▁▁▁▁▁▁▁▁▁▁▁▁▁▁▁▁▁▁▁▁▁▁▁▁▁▁</td></tr><tr><td>val_accuracy</td><td>▁▁▁▁▁▁▁▁▁▁▁▁▁▁▁▁▁▁▁▁▁▁▁▁▁▁▁▁▁▁▁▁▁▁▁▁▁▁▁▁</td></tr><tr><td>_step</td><td>▁▁▁▁▂▂▂▂▂▃▃▃▃▃▃▄▄▄▄▄▅▅▅▅▅▅▆▆▆▆▆▆▇▇▇▇▇███</td></tr><tr><td>_runtime</td><td>▁▁▁▁▂▂▂▂▂▃▃▃▃▃▃▄▄▄▄▄▅▅▅▅▅▆▆▆▆▆▆▇▇▇▇▇████</td></tr><tr><td>_timestamp</td><td>▁▁▁▁▂▂▂▂▂▃▃▃▃▃▃▄▄▄▄▄▅▅▅▅▅▆▆▆▆▆▆▇▇▇▇▇████</td></tr><tr><td>num_classes</td><td>▁</td></tr></table><br/>"
     },
     "metadata": {}
    },
    {
     "output_type": "display_data",
     "data": {
      "text/plain": "<IPython.core.display.HTML object>",
      "text/html": "Synced 5 W&B file(s), 1 media file(s), 0 artifact file(s) and 0 other file(s)"
     },
     "metadata": {}
    },
    {
     "output_type": "display_data",
     "data": {
      "text/plain": "<IPython.core.display.HTML object>",
      "text/html": "\n                    <br/>Synced <strong style=\"color:#cdcd00\">sparkling-feather-110</strong>: <a href=\"https://wandb.ai/supervisedlearning/CNN%20All%20kf%20experiments/runs/3nv825fy\" target=\"_blank\">https://wandb.ai/supervisedlearning/CNN%20All%20kf%20experiments/runs/3nv825fy</a><br/>\n                "
     },
     "metadata": {}
    },
    {
     "output_type": "error",
     "ename": "TypeError",
     "evalue": "cannot unpack non-iterable NoneType object",
     "traceback": [
      "\u001b[1;31m---------------------------------------------------------------------------\u001b[0m",
      "\u001b[1;31mTypeError\u001b[0m                                 Traceback (most recent call last)",
      "\u001b[1;32m<ipython-input-7-6209c3ccd2bc>\u001b[0m in \u001b[0;36m<module>\u001b[1;34m\u001b[0m\n\u001b[0;32m      1\u001b[0m \u001b[0mexperiment\u001b[0m \u001b[1;33m=\u001b[0m \u001b[1;34m'{} All kf experiments'\u001b[0m\u001b[1;33m.\u001b[0m\u001b[0mformat\u001b[0m\u001b[1;33m(\u001b[0m\u001b[0mclassifier_name\u001b[0m\u001b[1;33m)\u001b[0m\u001b[1;33m\u001b[0m\u001b[1;33m\u001b[0m\u001b[0m\n\u001b[1;32m----> 2\u001b[1;33m \u001b[0mall_kf\u001b[0m \u001b[1;33m=\u001b[0m \u001b[0mce\u001b[0m\u001b[1;33m.\u001b[0m\u001b[0mrun_all_KF_experiments\u001b[0m\u001b[1;33m(\u001b[0m\u001b[0mclassifier\u001b[0m\u001b[1;33m,\u001b[0m \u001b[0mclassifier_name\u001b[0m\u001b[1;33m=\u001b[0m\u001b[0mclassifier_name\u001b[0m\u001b[1;33m,\u001b[0m \u001b[0mexperiment_name\u001b[0m\u001b[1;33m=\u001b[0m\u001b[0mexperiment\u001b[0m\u001b[1;33m,\u001b[0m \u001b[0mexperiment_range\u001b[0m\u001b[1;33m=\u001b[0m\u001b[1;33m(\u001b[0m\u001b[1;36m1\u001b[0m\u001b[1;33m,\u001b[0m\u001b[1;36m11\u001b[0m\u001b[1;33m)\u001b[0m\u001b[1;33m)\u001b[0m\u001b[1;33m\u001b[0m\u001b[1;33m\u001b[0m\u001b[0m\n\u001b[0m",
      "\u001b[1;32md:\\GitProjects\\SupervisedLearningCW\\Tasks\\SupervisedLearning\\Experiments\\CNNExperments.py\u001b[0m in \u001b[0;36mrun_all_KF_experiments\u001b[1;34m(classifier, classifier_name, experiment_range, experiment_name)\u001b[0m\n\u001b[0;32m     58\u001b[0m         \u001b[1;31m#\u001b[0m\u001b[1;33m\u001b[0m\u001b[1;33m\u001b[0m\u001b[1;33m\u001b[0m\u001b[0m\n\u001b[0;32m     59\u001b[0m         train_s, test_s = run_KFold_experiment(classifier, X_train, y_train, cnn_model_name=classifier_name,\n\u001b[1;32m---> 60\u001b[1;33m                                                classes_desc=class_title, class_labels=class_labels, stratified=True, custom_name=experiment_name)\n\u001b[0m\u001b[0;32m     61\u001b[0m         \u001b[0mtrain_scores\u001b[0m\u001b[1;33m.\u001b[0m\u001b[0mappend\u001b[0m\u001b[1;33m(\u001b[0m\u001b[0mtrain_s\u001b[0m\u001b[1;33m)\u001b[0m\u001b[1;33m\u001b[0m\u001b[1;33m\u001b[0m\u001b[0m\n\u001b[0;32m     62\u001b[0m         \u001b[0mtest_scores\u001b[0m\u001b[1;33m.\u001b[0m\u001b[0mappend\u001b[0m\u001b[1;33m(\u001b[0m\u001b[0mtest_s\u001b[0m\u001b[1;33m)\u001b[0m\u001b[1;33m\u001b[0m\u001b[1;33m\u001b[0m\u001b[0m\n",
      "\u001b[1;31mTypeError\u001b[0m: cannot unpack non-iterable NoneType object"
     ]
    }
   ],
   "source": [
    "experiment = '{} All kf experiments'.format(classifier_name)\n",
    "all_kf = ce.run_all_KF_experiments(classifier, classifier_name=classifier_name, experiment_name=experiment, experiment_range=(1,11))"
   ]
  },
  {
   "cell_type": "code",
   "execution_count": null,
   "metadata": {},
   "outputs": [],
   "source": []
  },
  {
   "cell_type": "code",
   "execution_count": 6,
   "metadata": {},
   "outputs": [
    {
     "output_type": "stream",
     "name": "stderr",
     "text": [
      "Failed to query for notebook name, you can set it manually with the WANDB_NOTEBOOK_NAME environment variable\n",
      "wandb: Currently logged in as: samfh (use `wandb login --relogin` to force relogin)\n",
      "wandb: wandb version 0.10.12 is available!  To upgrade, please run:\n",
      "wandb:  $ pip install wandb --upgrade\n"
     ]
    },
    {
     "output_type": "display_data",
     "data": {
      "text/plain": "<IPython.core.display.HTML object>",
      "text/html": "\n                Tracking run with wandb version 0.10.8<br/>\n                Syncing run <strong style=\"color:#cdcd00\">visionary-paper-20</strong> to <a href=\"https://wandb.ai\" target=\"_blank\">Weights & Biases</a> <a href=\"https://docs.wandb.com/integrations/jupyter.html\" target=\"_blank\">(Documentation)</a>.<br/>\n                Project page: <a href=\"https://wandb.ai/supervisedlearning/CNN%20all%20test%20set%20experiments\" target=\"_blank\">https://wandb.ai/supervisedlearning/CNN%20all%20test%20set%20experiments</a><br/>\n                Run page: <a href=\"https://wandb.ai/supervisedlearning/CNN%20all%20test%20set%20experiments/runs/xxsthruz\" target=\"_blank\">https://wandb.ai/supervisedlearning/CNN%20all%20test%20set%20experiments/runs/xxsthruz</a><br/>\n                Run data is saved locally in <code>wandb\\run-20201205_135103-xxsthruz</code><br/><br/>\n            "
     },
     "metadata": {}
    },
    {
     "output_type": "stream",
     "name": "stdout",
     "text": [
      "Train on 9690 samples, validate on 3090 samples\n",
      "Epoch 1/50\n",
      "9690/9690 [==============================] - 4s 451us/sample - loss: 0.8086 - accuracy: 0.7198 - val_loss: 0.3376 - val_accuracy: 0.8731\n",
      "Epoch 2/50\n",
      "9690/9690 [==============================] - 2s 216us/sample - loss: 0.1282 - accuracy: 0.9651 - val_loss: 0.4079 - val_accuracy: 0.9337\n",
      "Epoch 3/50\n",
      "9690/9690 [==============================] - 2s 208us/sample - loss: 0.0786 - accuracy: 0.9791 - val_loss: 0.3193 - val_accuracy: 0.9608\n",
      "Epoch 4/50\n",
      "9690/9690 [==============================] - 2s 197us/sample - loss: 0.0580 - accuracy: 0.9868 - val_loss: 1.1526 - val_accuracy: 0.8825\n",
      "Epoch 5/50\n",
      "9690/9690 [==============================] - 2s 200us/sample - loss: 0.0417 - accuracy: 0.9904 - val_loss: 0.8026 - val_accuracy: 0.9621\n",
      "Epoch 6/50\n",
      "9690/9690 [==============================] - 2s 201us/sample - loss: 0.0489 - accuracy: 0.9907 - val_loss: 0.6965 - val_accuracy: 0.9447\n",
      "Epoch 7/50\n",
      "9690/9690 [==============================] - 2s 204us/sample - loss: 0.0417 - accuracy: 0.9937 - val_loss: 0.6265 - val_accuracy: 0.9744\n",
      "Epoch 8/50\n",
      "9690/9690 [==============================] - 2s 205us/sample - loss: 0.0317 - accuracy: 0.9937 - val_loss: 0.7580 - val_accuracy: 0.9686\n",
      "Epoch 9/50\n",
      "9690/9690 [==============================] - 2s 222us/sample - loss: 0.0285 - accuracy: 0.9950 - val_loss: 0.6579 - val_accuracy: 0.9744\n",
      "Epoch 10/50\n",
      "9690/9690 [==============================] - 2s 197us/sample - loss: 0.0457 - accuracy: 0.9938 - val_loss: 0.7421 - val_accuracy: 0.9738\n",
      "Epoch 11/50\n",
      "9690/9690 [==============================] - 2s 202us/sample - loss: 0.0220 - accuracy: 0.9964 - val_loss: 0.9562 - val_accuracy: 0.9631\n",
      "Epoch 12/50\n",
      "9690/9690 [==============================] - 2s 196us/sample - loss: 0.0440 - accuracy: 0.9943 - val_loss: 0.7000 - val_accuracy: 0.9702\n",
      "Epoch 13/50\n",
      "9690/9690 [==============================] - 2s 193us/sample - loss: 0.0357 - accuracy: 0.9955 - val_loss: 0.7433 - val_accuracy: 0.9767\n",
      "Epoch 14/50\n",
      "9690/9690 [==============================] - 2s 205us/sample - loss: 0.0339 - accuracy: 0.9953 - val_loss: 1.8969 - val_accuracy: 0.9735\n",
      "Epoch 15/50\n",
      "9690/9690 [==============================] - 2s 194us/sample - loss: 0.0274 - accuracy: 0.9973 - val_loss: 1.9290 - val_accuracy: 0.9706\n",
      "Epoch 16/50\n",
      "9690/9690 [==============================] - 2s 202us/sample - loss: 0.0274 - accuracy: 0.9958 - val_loss: 0.9502 - val_accuracy: 0.9735\n",
      "Epoch 17/50\n",
      "9690/9690 [==============================] - 2s 213us/sample - loss: 0.0200 - accuracy: 0.9979 - val_loss: 0.7713 - val_accuracy: 0.9693\n",
      "Epoch 18/50\n",
      "9690/9690 [==============================] - 2s 206us/sample - loss: 0.0230 - accuracy: 0.9970 - val_loss: 1.4560 - val_accuracy: 0.9586\n",
      "Epoch 19/50\n",
      "9690/9690 [==============================] - 2s 204us/sample - loss: 0.0187 - accuracy: 0.9978 - val_loss: 0.9673 - val_accuracy: 0.9628\n",
      "Epoch 20/50\n",
      "9690/9690 [==============================] - 2s 198us/sample - loss: 0.0181 - accuracy: 0.9985 - val_loss: 1.2649 - val_accuracy: 0.9761\n",
      "Epoch 21/50\n",
      "9690/9690 [==============================] - 2s 198us/sample - loss: 0.0092 - accuracy: 0.9989 - val_loss: 2.0264 - val_accuracy: 0.9256\n",
      "Epoch 22/50\n",
      "9690/9690 [==============================] - 2s 195us/sample - loss: 0.0353 - accuracy: 0.9969 - val_loss: 1.1357 - val_accuracy: 0.9751\n",
      "Epoch 23/50\n",
      "9690/9690 [==============================] - 2s 198us/sample - loss: 0.0143 - accuracy: 0.9978 - val_loss: 1.4523 - val_accuracy: 0.9696\n",
      "Epoch 24/50\n",
      "9690/9690 [==============================] - 2s 195us/sample - loss: 0.0220 - accuracy: 0.9981 - val_loss: 1.4329 - val_accuracy: 0.9631\n",
      "Epoch 25/50\n",
      "9690/9690 [==============================] - 2s 197us/sample - loss: 0.0112 - accuracy: 0.9987 - val_loss: 1.4160 - val_accuracy: 0.9683\n",
      "Epoch 26/50\n",
      "9690/9690 [==============================] - 2s 195us/sample - loss: 0.0262 - accuracy: 0.9976 - val_loss: 0.9175 - val_accuracy: 0.9673\n",
      "Epoch 27/50\n",
      "9690/9690 [==============================] - 2s 199us/sample - loss: 0.0170 - accuracy: 0.9986 - val_loss: 0.8732 - val_accuracy: 0.9621\n",
      "Epoch 28/50\n",
      "9690/9690 [==============================] - 2s 190us/sample - loss: 0.0175 - accuracy: 0.9976 - val_loss: 1.0397 - val_accuracy: 0.9718\n",
      "Epoch 29/50\n",
      "9690/9690 [==============================] - 2s 189us/sample - loss: 0.0143 - accuracy: 0.9983 - val_loss: 1.6680 - val_accuracy: 0.9702\n",
      "Epoch 30/50\n",
      "9690/9690 [==============================] - 2s 196us/sample - loss: 0.0072 - accuracy: 0.9989 - val_loss: 1.0711 - val_accuracy: 0.9761\n",
      "Epoch 31/50\n",
      "9690/9690 [==============================] - 2s 194us/sample - loss: 0.0134 - accuracy: 0.9985 - val_loss: 1.5501 - val_accuracy: 0.9796\n",
      "Epoch 32/50\n",
      "9690/9690 [==============================] - 2s 187us/sample - loss: 0.0033 - accuracy: 0.9995 - val_loss: 1.9408 - val_accuracy: 0.9754\n",
      "Epoch 33/50\n",
      "9690/9690 [==============================] - 2s 198us/sample - loss: 0.0108 - accuracy: 0.9985 - val_loss: 1.2949 - val_accuracy: 0.9748\n",
      "Epoch 34/50\n",
      "9690/9690 [==============================] - 2s 203us/sample - loss: 0.0136 - accuracy: 0.9982 - val_loss: 0.8401 - val_accuracy: 0.9744\n",
      "Epoch 35/50\n",
      "9690/9690 [==============================] - 2s 196us/sample - loss: 0.0071 - accuracy: 0.9996 - val_loss: 1.1709 - val_accuracy: 0.9751\n",
      "Epoch 36/50\n",
      "9690/9690 [==============================] - 2s 196us/sample - loss: 0.0044 - accuracy: 0.9993 - val_loss: 1.1601 - val_accuracy: 0.9706\n",
      "Epoch 37/50\n",
      "9690/9690 [==============================] - 2s 200us/sample - loss: 0.0073 - accuracy: 0.9996 - val_loss: 1.2255 - val_accuracy: 0.9757\n",
      "Epoch 38/50\n",
      "9690/9690 [==============================] - 2s 191us/sample - loss: 0.0189 - accuracy: 0.9987 - val_loss: 1.2826 - val_accuracy: 0.9715\n",
      "Epoch 39/50\n",
      "9690/9690 [==============================] - 2s 194us/sample - loss: 0.0291 - accuracy: 0.9979 - val_loss: 0.8198 - val_accuracy: 0.9709\n",
      "Epoch 40/50\n",
      "9690/9690 [==============================] - 2s 197us/sample - loss: 0.0193 - accuracy: 0.9979 - val_loss: 0.4122 - val_accuracy: 0.9773\n",
      "Epoch 41/50\n",
      "9690/9690 [==============================] - 2s 191us/sample - loss: 0.0116 - accuracy: 0.9990 - val_loss: 1.0143 - val_accuracy: 0.9718\n",
      "Epoch 42/50\n",
      "9690/9690 [==============================] - 2s 193us/sample - loss: 0.0226 - accuracy: 0.9988 - val_loss: 0.7906 - val_accuracy: 0.9780\n",
      "Epoch 43/50\n",
      "9690/9690 [==============================] - 2s 191us/sample - loss: 0.0070 - accuracy: 0.9991 - val_loss: 0.8687 - val_accuracy: 0.9683\n",
      "Epoch 44/50\n",
      "9690/9690 [==============================] - 2s 198us/sample - loss: 0.0138 - accuracy: 0.9987 - val_loss: 0.7991 - val_accuracy: 0.9819\n",
      "Epoch 45/50\n",
      "9690/9690 [==============================] - 2s 192us/sample - loss: 0.0106 - accuracy: 0.9990 - val_loss: 1.5037 - val_accuracy: 0.9537\n",
      "Epoch 46/50\n",
      "9690/9690 [==============================] - 2s 203us/sample - loss: 0.0080 - accuracy: 0.9991 - val_loss: 1.3361 - val_accuracy: 0.9699\n",
      "Epoch 47/50\n",
      "9690/9690 [==============================] - 2s 202us/sample - loss: 5.9020e-04 - accuracy: 0.9999 - val_loss: 1.3546 - val_accuracy: 0.9706\n",
      "Epoch 48/50\n",
      "9690/9690 [==============================] - 2s 194us/sample - loss: 0.0087 - accuracy: 0.9988 - val_loss: 1.0075 - val_accuracy: 0.9764\n",
      "Epoch 49/50\n",
      "9690/9690 [==============================] - 2s 191us/sample - loss: 0.0118 - accuracy: 0.9991 - val_loss: 1.0627 - val_accuracy: 0.9764\n",
      "Epoch 50/50\n",
      "9690/9690 [==============================] - 2s 195us/sample - loss: 0.0127 - accuracy: 0.9989 - val_loss: 1.3321 - val_accuracy: 0.9790\n"
     ]
    },
    {
     "output_type": "display_data",
     "data": {
      "text/plain": "<IPython.core.display.HTML object>",
      "text/html": "<br/>Waiting for W&B process to finish, PID 31708<br/>Program ended successfully."
     },
     "metadata": {}
    },
    {
     "output_type": "display_data",
     "data": {
      "text/plain": "<IPython.core.display.HTML object>",
      "text/html": "Find user logs for this run at: <code>wandb\\run-20201205_135103-xxsthruz\\logs\\debug.log</code>"
     },
     "metadata": {}
    },
    {
     "output_type": "display_data",
     "data": {
      "text/plain": "<IPython.core.display.HTML object>",
      "text/html": "Find internal logs for this run at: <code>wandb\\run-20201205_135103-xxsthruz\\logs\\debug-internal.log</code>"
     },
     "metadata": {}
    },
    {
     "output_type": "display_data",
     "data": {
      "text/plain": "<IPython.core.display.HTML object>",
      "text/html": "<h3>Run summary:</h3><br/><style>\n    table.wandb td:nth-child(1) { padding: 0 10px; text-align: right }\n    </style><table class=\"wandb\">\n<tr><td>epoch</td><td>49</td></tr><tr><td>loss</td><td>0.01266</td></tr><tr><td>accuracy</td><td>0.99886</td></tr><tr><td>val_loss</td><td>1.33215</td></tr><tr><td>val_accuracy</td><td>0.97896</td></tr><tr><td>_step</td><td>50</td></tr><tr><td>_runtime</td><td>100</td></tr><tr><td>_timestamp</td><td>1607176363</td></tr><tr><td>best_val_loss</td><td>0.31931</td></tr><tr><td>best_epoch</td><td>2</td></tr><tr><td>Label_class</td><td>All Classes</td></tr><tr><td>num_classes</td><td>10</td></tr></table>"
     },
     "metadata": {}
    },
    {
     "output_type": "display_data",
     "data": {
      "text/plain": "<IPython.core.display.HTML object>",
      "text/html": "<h3>Run history:</h3><br/><style>\n    table.wandb td:nth-child(1) { padding: 0 10px; text-align: right }\n    </style><table class=\"wandb\">\n<tr><td>epoch</td><td>▁▁▁▁▂▂▂▂▂▃▃▃▃▃▃▄▄▄▄▄▅▅▅▅▅▅▆▆▆▆▆▆▇▇▇▇▇███</td></tr><tr><td>loss</td><td>█▂▂▁▁▁▁▁▁▁▁▁▁▁▁▁▁▁▁▁▁▁▁▁▁▁▁▁▁▁▁▁▁▁▁▁▁▁▁▁</td></tr><tr><td>accuracy</td><td>▁▇▇█████████████████████████████████████</td></tr><tr><td>val_loss</td><td>▁▁▁▄▃▂▃▂▄▃▃▇▄▃▆▄█▄▆▆▃▃▄▇▆█▅▃▄▅▅▃▄▃▃▃▅▅▄▅</td></tr><tr><td>val_accuracy</td><td>▁▅▇▂▆█▇█▇▇█▇▇▇▆▇▄█▇▇▇▇▇▇████▇█▇▇▇█▇█▇▇██</td></tr><tr><td>_step</td><td>▁▁▁▁▂▂▂▂▂▃▃▃▃▃▃▄▄▄▄▄▅▅▅▅▅▅▆▆▆▆▆▆▇▇▇▇▇███</td></tr><tr><td>_runtime</td><td>▁▁▁▁▂▂▂▂▂▃▃▃▃▃▃▄▄▄▄▅▅▅▅▅▅▆▆▆▆▆▆▇▇▇▇▇████</td></tr><tr><td>_timestamp</td><td>▁▁▁▁▂▂▂▂▂▃▃▃▃▃▃▄▄▄▄▅▅▅▅▅▅▆▆▆▆▆▆▇▇▇▇▇████</td></tr><tr><td>num_classes</td><td>▁</td></tr></table><br/>"
     },
     "metadata": {}
    },
    {
     "output_type": "display_data",
     "data": {
      "text/plain": "<IPython.core.display.HTML object>",
      "text/html": "Synced 5 W&B file(s), 1 media file(s), 0 artifact file(s) and 1 other file(s)"
     },
     "metadata": {}
    },
    {
     "output_type": "display_data",
     "data": {
      "text/plain": "<IPython.core.display.HTML object>",
      "text/html": "\n                    <br/>Synced <strong style=\"color:#cdcd00\">visionary-paper-20</strong>: <a href=\"https://wandb.ai/supervisedlearning/CNN%20all%20test%20set%20experiments/runs/xxsthruz\" target=\"_blank\">https://wandb.ai/supervisedlearning/CNN%20all%20test%20set%20experiments/runs/xxsthruz</a><br/>\n                "
     },
     "metadata": {}
    },
    {
     "output_type": "stream",
     "name": "stderr",
     "text": [
      "wandb: wandb version 0.10.12 is available!  To upgrade, please run:\nwandb:  $ pip install wandb --upgrade\n"
     ]
    },
    {
     "output_type": "display_data",
     "data": {
      "text/plain": "<IPython.core.display.HTML object>",
      "text/html": "\n                Tracking run with wandb version 0.10.8<br/>\n                Syncing run <strong style=\"color:#cdcd00\">ruby-paper-21</strong> to <a href=\"https://wandb.ai\" target=\"_blank\">Weights & Biases</a> <a href=\"https://docs.wandb.com/integrations/jupyter.html\" target=\"_blank\">(Documentation)</a>.<br/>\n                Project page: <a href=\"https://wandb.ai/supervisedlearning/CNN%20all%20test%20set%20experiments\" target=\"_blank\">https://wandb.ai/supervisedlearning/CNN%20all%20test%20set%20experiments</a><br/>\n                Run page: <a href=\"https://wandb.ai/supervisedlearning/CNN%20all%20test%20set%20experiments/runs/3iysnhz3\" target=\"_blank\">https://wandb.ai/supervisedlearning/CNN%20all%20test%20set%20experiments/runs/3iysnhz3</a><br/>\n                Run data is saved locally in <code>wandb\\run-20201205_135251-3iysnhz3</code><br/><br/>\n            "
     },
     "metadata": {}
    },
    {
     "output_type": "stream",
     "name": "stdout",
     "text": [
      "Train on 9690 samples, validate on 3090 samples\n",
      "Epoch 1/50\n",
      "9690/9690 [==============================] - 2s 198us/sample - loss: 0.7710 - accuracy: 0.9869 - val_loss: 0.0431 - val_accuracy: 0.9964\n",
      "Epoch 2/50\n",
      "9690/9690 [==============================] - 2s 203us/sample - loss: 0.0122 - accuracy: 0.9990 - val_loss: 0.0380 - val_accuracy: 0.9971\n",
      "Epoch 3/50\n",
      "9690/9690 [==============================] - 2s 202us/sample - loss: 0.0021 - accuracy: 0.9998 - val_loss: 0.0012 - val_accuracy: 0.9994\n",
      "Epoch 4/50\n",
      "9690/9690 [==============================] - 2s 191us/sample - loss: 0.0026 - accuracy: 0.9996 - val_loss: 0.0050 - val_accuracy: 0.9994\n",
      "Epoch 5/50\n",
      "9690/9690 [==============================] - 2s 195us/sample - loss: 1.7838e-09 - accuracy: 1.0000 - val_loss: 0.0615 - val_accuracy: 0.9958\n",
      "Epoch 6/50\n",
      "9690/9690 [==============================] - 2s 197us/sample - loss: 0.0046 - accuracy: 0.9996 - val_loss: 0.1205 - val_accuracy: 0.9935\n",
      "Epoch 7/50\n",
      "9690/9690 [==============================] - 2s 192us/sample - loss: 0.0112 - accuracy: 0.9995 - val_loss: 0.0185 - val_accuracy: 0.9994\n",
      "Epoch 8/50\n",
      "9690/9690 [==============================] - 2s 191us/sample - loss: 6.6230e-06 - accuracy: 1.0000 - val_loss: 0.0397 - val_accuracy: 0.9977\n",
      "Epoch 9/50\n",
      "9690/9690 [==============================] - 2s 202us/sample - loss: 1.3533e-10 - accuracy: 1.0000 - val_loss: 0.1015 - val_accuracy: 0.9955\n",
      "Epoch 10/50\n",
      "9690/9690 [==============================] - 2s 199us/sample - loss: 0.0039 - accuracy: 0.9998 - val_loss: 0.1408 - val_accuracy: 0.9945\n",
      "Epoch 11/50\n",
      "9690/9690 [==============================] - 2s 197us/sample - loss: 6.1511e-11 - accuracy: 1.0000 - val_loss: 0.0978 - val_accuracy: 0.9948\n",
      "Epoch 12/50\n",
      "9690/9690 [==============================] - 2s 192us/sample - loss: 0.0000e+00 - accuracy: 1.0000 - val_loss: 0.0897 - val_accuracy: 0.9964\n",
      "Epoch 13/50\n",
      "9690/9690 [==============================] - 2s 201us/sample - loss: 0.0000e+00 - accuracy: 1.0000 - val_loss: 0.0894 - val_accuracy: 0.9964\n",
      "Epoch 14/50\n",
      "9690/9690 [==============================] - 2s 202us/sample - loss: 0.0000e+00 - accuracy: 1.0000 - val_loss: 0.0875 - val_accuracy: 0.9964\n",
      "Epoch 15/50\n",
      "9690/9690 [==============================] - 2s 197us/sample - loss: 0.0000e+00 - accuracy: 1.0000 - val_loss: 0.0874 - val_accuracy: 0.9964\n",
      "Epoch 16/50\n",
      "9690/9690 [==============================] - 2s 193us/sample - loss: 0.0000e+00 - accuracy: 1.0000 - val_loss: 0.0887 - val_accuracy: 0.9964\n",
      "Epoch 17/50\n",
      "9690/9690 [==============================] - 2s 201us/sample - loss: 1.3304e-06 - accuracy: 1.0000 - val_loss: 0.0222 - val_accuracy: 0.9987\n",
      "Epoch 18/50\n",
      "9690/9690 [==============================] - 2s 202us/sample - loss: 0.0012 - accuracy: 0.9999 - val_loss: 1.1574e-10 - val_accuracy: 1.0000\n",
      "Epoch 19/50\n",
      "9690/9690 [==============================] - 2s 202us/sample - loss: 4.9209e-11 - accuracy: 1.0000 - val_loss: 9.8598e-07 - val_accuracy: 1.0000\n",
      "Epoch 20/50\n",
      "9690/9690 [==============================] - 2s 192us/sample - loss: 0.0022 - accuracy: 0.9999 - val_loss: 0.0112 - val_accuracy: 0.9990\n",
      "Epoch 21/50\n",
      "9690/9690 [==============================] - 2s 200us/sample - loss: 1.2302e-11 - accuracy: 1.0000 - val_loss: 0.0131 - val_accuracy: 0.9987\n",
      "Epoch 22/50\n",
      "9690/9690 [==============================] - 2s 202us/sample - loss: 8.6116e-11 - accuracy: 1.0000 - val_loss: 0.0207 - val_accuracy: 0.9984\n",
      "Epoch 23/50\n",
      "9690/9690 [==============================] - 2s 192us/sample - loss: 0.0000e+00 - accuracy: 1.0000 - val_loss: 0.0265 - val_accuracy: 0.9984\n",
      "Epoch 24/50\n",
      "9690/9690 [==============================] - 2s 198us/sample - loss: 0.0000e+00 - accuracy: 1.0000 - val_loss: 0.0280 - val_accuracy: 0.9984\n",
      "Epoch 25/50\n",
      "9690/9690 [==============================] - 2s 193us/sample - loss: 0.0000e+00 - accuracy: 1.0000 - val_loss: 0.0279 - val_accuracy: 0.9984\n",
      "Epoch 26/50\n",
      "9690/9690 [==============================] - 2s 199us/sample - loss: 0.0000e+00 - accuracy: 1.0000 - val_loss: 0.0266 - val_accuracy: 0.9984\n",
      "Epoch 27/50\n",
      "9690/9690 [==============================] - 2s 194us/sample - loss: 0.0000e+00 - accuracy: 1.0000 - val_loss: 0.0270 - val_accuracy: 0.9984\n",
      "Epoch 28/50\n",
      "9690/9690 [==============================] - 2s 191us/sample - loss: 0.0000e+00 - accuracy: 1.0000 - val_loss: 0.0275 - val_accuracy: 0.9984\n",
      "Epoch 29/50\n",
      "9690/9690 [==============================] - 2s 193us/sample - loss: 0.0000e+00 - accuracy: 1.0000 - val_loss: 0.0265 - val_accuracy: 0.9984\n",
      "Epoch 30/50\n",
      "9690/9690 [==============================] - 2s 197us/sample - loss: 0.0000e+00 - accuracy: 1.0000 - val_loss: 0.0277 - val_accuracy: 0.9984\n",
      "Epoch 31/50\n",
      "9690/9690 [==============================] - 2s 195us/sample - loss: 0.0000e+00 - accuracy: 1.0000 - val_loss: 0.0269 - val_accuracy: 0.9984\n",
      "Epoch 32/50\n",
      "9690/9690 [==============================] - 2s 203us/sample - loss: 0.0000e+00 - accuracy: 1.0000 - val_loss: 0.0263 - val_accuracy: 0.9984\n",
      "Epoch 33/50\n",
      "9690/9690 [==============================] - 2s 205us/sample - loss: 0.0000e+00 - accuracy: 1.0000 - val_loss: 0.0270 - val_accuracy: 0.9984\n",
      "Epoch 34/50\n",
      "9690/9690 [==============================] - 2s 198us/sample - loss: 0.0000e+00 - accuracy: 1.0000 - val_loss: 0.0251 - val_accuracy: 0.9984\n",
      "Epoch 35/50\n",
      "9690/9690 [==============================] - 2s 196us/sample - loss: 0.0000e+00 - accuracy: 1.0000 - val_loss: 0.0276 - val_accuracy: 0.9984\n",
      "Epoch 36/50\n",
      "9690/9690 [==============================] - 2s 195us/sample - loss: 0.0000e+00 - accuracy: 1.0000 - val_loss: 0.0278 - val_accuracy: 0.9984\n",
      "Epoch 37/50\n",
      "9690/9690 [==============================] - 2s 195us/sample - loss: 0.0000e+00 - accuracy: 1.0000 - val_loss: 0.0270 - val_accuracy: 0.9984\n",
      "Epoch 38/50\n",
      "9690/9690 [==============================] - 2s 195us/sample - loss: 0.0000e+00 - accuracy: 1.0000 - val_loss: 0.0253 - val_accuracy: 0.9984\n",
      "Epoch 39/50\n",
      "9690/9690 [==============================] - 2s 193us/sample - loss: 0.0000e+00 - accuracy: 1.0000 - val_loss: 0.0267 - val_accuracy: 0.9984\n",
      "Epoch 40/50\n",
      "9690/9690 [==============================] - 2s 189us/sample - loss: 0.0000e+00 - accuracy: 1.0000 - val_loss: 0.0266 - val_accuracy: 0.9984\n",
      "Epoch 41/50\n",
      "9690/9690 [==============================] - 2s 193us/sample - loss: 0.0000e+00 - accuracy: 1.0000 - val_loss: 0.0269 - val_accuracy: 0.9984\n",
      "Epoch 42/50\n",
      "9690/9690 [==============================] - 2s 194us/sample - loss: 0.0000e+00 - accuracy: 1.0000 - val_loss: 0.0267 - val_accuracy: 0.9984\n",
      "Epoch 43/50\n",
      "9690/9690 [==============================] - 2s 199us/sample - loss: 0.0000e+00 - accuracy: 1.0000 - val_loss: 0.0268 - val_accuracy: 0.9984\n",
      "Epoch 44/50\n",
      "9690/9690 [==============================] - 2s 193us/sample - loss: 0.0000e+00 - accuracy: 1.0000 - val_loss: 0.0259 - val_accuracy: 0.9984\n",
      "Epoch 45/50\n",
      "9690/9690 [==============================] - 2s 199us/sample - loss: 0.0000e+00 - accuracy: 1.0000 - val_loss: 0.0263 - val_accuracy: 0.9984\n",
      "Epoch 46/50\n",
      "9690/9690 [==============================] - 2s 203us/sample - loss: 0.0000e+00 - accuracy: 1.0000 - val_loss: 0.0263 - val_accuracy: 0.9984\n",
      "Epoch 47/50\n",
      "9690/9690 [==============================] - 2s 197us/sample - loss: 0.0000e+00 - accuracy: 1.0000 - val_loss: 0.0267 - val_accuracy: 0.9984\n",
      "Epoch 48/50\n",
      "9690/9690 [==============================] - 2s 192us/sample - loss: 0.0000e+00 - accuracy: 1.0000 - val_loss: 0.0273 - val_accuracy: 0.9984\n",
      "Epoch 49/50\n",
      "9690/9690 [==============================] - 2s 192us/sample - loss: 0.0000e+00 - accuracy: 1.0000 - val_loss: 0.0262 - val_accuracy: 0.9984\n",
      "Epoch 50/50\n",
      "9690/9690 [==============================] - 2s 200us/sample - loss: 0.0000e+00 - accuracy: 1.0000 - val_loss: 0.0273 - val_accuracy: 0.9984\n"
     ]
    },
    {
     "output_type": "display_data",
     "data": {
      "text/plain": "<IPython.core.display.HTML object>",
      "text/html": "<br/>Waiting for W&B process to finish, PID 15816<br/>Program ended successfully."
     },
     "metadata": {}
    },
    {
     "output_type": "display_data",
     "data": {
      "text/plain": "<IPython.core.display.HTML object>",
      "text/html": "Find user logs for this run at: <code>wandb\\run-20201205_135251-3iysnhz3\\logs\\debug.log</code>"
     },
     "metadata": {}
    },
    {
     "output_type": "display_data",
     "data": {
      "text/plain": "<IPython.core.display.HTML object>",
      "text/html": "Find internal logs for this run at: <code>wandb\\run-20201205_135251-3iysnhz3\\logs\\debug-internal.log</code>"
     },
     "metadata": {}
    },
    {
     "output_type": "display_data",
     "data": {
      "text/plain": "<IPython.core.display.HTML object>",
      "text/html": "<h3>Run summary:</h3><br/><style>\n    table.wandb td:nth-child(1) { padding: 0 10px; text-align: right }\n    </style><table class=\"wandb\">\n<tr><td>epoch</td><td>49</td></tr><tr><td>loss</td><td>0.0</td></tr><tr><td>accuracy</td><td>1.0</td></tr><tr><td>val_loss</td><td>0.02727</td></tr><tr><td>val_accuracy</td><td>0.99838</td></tr><tr><td>_step</td><td>50</td></tr><tr><td>_runtime</td><td>97</td></tr><tr><td>_timestamp</td><td>1607176469</td></tr><tr><td>best_val_loss</td><td>0.0</td></tr><tr><td>best_epoch</td><td>17</td></tr><tr><td>Label_class</td><td>speed limit 20</td></tr><tr><td>num_classes</td><td>2</td></tr></table>"
     },
     "metadata": {}
    },
    {
     "output_type": "display_data",
     "data": {
      "text/plain": "<IPython.core.display.HTML object>",
      "text/html": "<h3>Run history:</h3><br/><style>\n    table.wandb td:nth-child(1) { padding: 0 10px; text-align: right }\n    </style><table class=\"wandb\">\n<tr><td>epoch</td><td>▁▁▁▁▂▂▂▂▂▃▃▃▃▃▃▄▄▄▄▄▅▅▅▅▅▅▆▆▆▆▆▆▇▇▇▇▇███</td></tr><tr><td>loss</td><td>█▁▁▁▁▁▁▁▁▁▁▁▁▁▁▁▁▁▁▁▁▁▁▁▁▁▁▁▁▁▁▁▁▁▁▁▁▁▁▁</td></tr><tr><td>accuracy</td><td>▁▇██████████████████████████████████████</td></tr><tr><td>val_loss</td><td>▄▃▁▁█▂▃▇▇▆▆▆▆▂▁▁▂▂▃▃▃▃▃▃▃▃▃▂▃▃▂▃▃▃▃▃▃▃▃▃</td></tr><tr><td>val_accuracy</td><td>▄▅▇▇▁▇▆▃▂▄▄▄▄▇██▇▆▆▆▆▆▆▆▆▆▆▆▆▆▆▆▆▆▆▆▆▆▆▆</td></tr><tr><td>_step</td><td>▁▁▁▁▂▂▂▂▂▃▃▃▃▃▃▄▄▄▄▄▅▅▅▅▅▅▆▆▆▆▆▆▇▇▇▇▇███</td></tr><tr><td>_runtime</td><td>▁▁▁▁▂▂▂▂▂▃▃▃▃▃▃▄▄▄▄▄▅▅▅▅▅▆▆▆▆▆▆▇▇▇▇▇████</td></tr><tr><td>_timestamp</td><td>▁▁▁▁▂▂▂▂▂▃▃▃▃▃▃▄▄▄▄▄▅▅▅▅▅▆▆▆▆▆▆▇▇▇▇▇████</td></tr><tr><td>num_classes</td><td>▁</td></tr></table><br/>"
     },
     "metadata": {}
    },
    {
     "output_type": "display_data",
     "data": {
      "text/plain": "<IPython.core.display.HTML object>",
      "text/html": "Synced 5 W&B file(s), 1 media file(s), 0 artifact file(s) and 1 other file(s)"
     },
     "metadata": {}
    },
    {
     "output_type": "display_data",
     "data": {
      "text/plain": "<IPython.core.display.HTML object>",
      "text/html": "\n                    <br/>Synced <strong style=\"color:#cdcd00\">ruby-paper-21</strong>: <a href=\"https://wandb.ai/supervisedlearning/CNN%20all%20test%20set%20experiments/runs/3iysnhz3\" target=\"_blank\">https://wandb.ai/supervisedlearning/CNN%20all%20test%20set%20experiments/runs/3iysnhz3</a><br/>\n                "
     },
     "metadata": {}
    },
    {
     "output_type": "stream",
     "name": "stderr",
     "text": [
      "wandb: wandb version 0.10.12 is available!  To upgrade, please run:\nwandb:  $ pip install wandb --upgrade\n"
     ]
    },
    {
     "output_type": "display_data",
     "data": {
      "text/plain": "<IPython.core.display.HTML object>",
      "text/html": "\n                Tracking run with wandb version 0.10.8<br/>\n                Syncing run <strong style=\"color:#cdcd00\">serene-grass-22</strong> to <a href=\"https://wandb.ai\" target=\"_blank\">Weights & Biases</a> <a href=\"https://docs.wandb.com/integrations/jupyter.html\" target=\"_blank\">(Documentation)</a>.<br/>\n                Project page: <a href=\"https://wandb.ai/supervisedlearning/CNN%20all%20test%20set%20experiments\" target=\"_blank\">https://wandb.ai/supervisedlearning/CNN%20all%20test%20set%20experiments</a><br/>\n                Run page: <a href=\"https://wandb.ai/supervisedlearning/CNN%20all%20test%20set%20experiments/runs/28ewvev4\" target=\"_blank\">https://wandb.ai/supervisedlearning/CNN%20all%20test%20set%20experiments/runs/28ewvev4</a><br/>\n                Run data is saved locally in <code>wandb\\run-20201205_135505-28ewvev4</code><br/><br/>\n            "
     },
     "metadata": {}
    },
    {
     "output_type": "stream",
     "name": "stdout",
     "text": [
      "Train on 9690 samples, validate on 3090 samples\n",
      "Epoch 1/50\n",
      "9690/9690 [==============================] - 2s 205us/sample - loss: 0.6312 - accuracy: 0.9698 - val_loss: 0.1156 - val_accuracy: 0.9893\n",
      "Epoch 2/50\n",
      "9690/9690 [==============================] - 2s 208us/sample - loss: 0.0129 - accuracy: 0.9978 - val_loss: 0.0532 - val_accuracy: 0.9939\n",
      "Epoch 3/50\n",
      "9690/9690 [==============================] - 2s 200us/sample - loss: 0.0174 - accuracy: 0.9975 - val_loss: 0.1472 - val_accuracy: 0.9896\n",
      "Epoch 4/50\n",
      "9690/9690 [==============================] - 2s 201us/sample - loss: 0.0068 - accuracy: 0.9989 - val_loss: 0.1099 - val_accuracy: 0.9958\n",
      "Epoch 5/50\n",
      "9690/9690 [==============================] - 2s 199us/sample - loss: 0.0057 - accuracy: 0.9991 - val_loss: 0.2905 - val_accuracy: 0.9838\n",
      "Epoch 6/50\n",
      "9690/9690 [==============================] - 2s 203us/sample - loss: 8.3262e-04 - accuracy: 0.9998 - val_loss: 0.0790 - val_accuracy: 0.9958\n",
      "Epoch 7/50\n",
      "9690/9690 [==============================] - 2s 192us/sample - loss: 0.0020 - accuracy: 0.9994 - val_loss: 0.3079 - val_accuracy: 0.9926\n",
      "Epoch 8/50\n",
      "9690/9690 [==============================] - 2s 199us/sample - loss: 0.0030 - accuracy: 0.9995 - val_loss: 0.1684 - val_accuracy: 0.9932\n",
      "Epoch 9/50\n",
      "9690/9690 [==============================] - 2s 201us/sample - loss: 0.0086 - accuracy: 0.9991 - val_loss: 0.2229 - val_accuracy: 0.9926\n",
      "Epoch 10/50\n",
      "9690/9690 [==============================] - 2s 198us/sample - loss: 0.0084 - accuracy: 0.9995 - val_loss: 0.0594 - val_accuracy: 0.9974\n",
      "Epoch 11/50\n",
      "9690/9690 [==============================] - 2s 200us/sample - loss: 0.0145 - accuracy: 0.9989 - val_loss: 0.1060 - val_accuracy: 0.9922\n",
      "Epoch 12/50\n",
      "9690/9690 [==============================] - 2s 192us/sample - loss: 0.0052 - accuracy: 0.9993 - val_loss: 0.0704 - val_accuracy: 0.9945\n",
      "Epoch 13/50\n",
      "9690/9690 [==============================] - 2s 191us/sample - loss: 0.0072 - accuracy: 0.9991 - val_loss: 0.0678 - val_accuracy: 0.9961\n",
      "Epoch 14/50\n",
      "9690/9690 [==============================] - 2s 203us/sample - loss: 0.0053 - accuracy: 0.9994 - val_loss: 0.0508 - val_accuracy: 0.9971\n",
      "Epoch 15/50\n",
      "9690/9690 [==============================] - 2s 202us/sample - loss: 0.0091 - accuracy: 0.9994 - val_loss: 0.0632 - val_accuracy: 0.9971\n",
      "Epoch 16/50\n",
      "9690/9690 [==============================] - 2s 204us/sample - loss: 0.0057 - accuracy: 0.9995 - val_loss: 0.0442 - val_accuracy: 0.9974\n",
      "Epoch 17/50\n",
      "9690/9690 [==============================] - 2s 196us/sample - loss: 0.0042 - accuracy: 0.9996 - val_loss: 0.0684 - val_accuracy: 0.9945\n",
      "Epoch 18/50\n",
      "9690/9690 [==============================] - 2s 196us/sample - loss: 2.7400e-04 - accuracy: 0.9999 - val_loss: 0.1016 - val_accuracy: 0.9951\n",
      "Epoch 19/50\n",
      "9690/9690 [==============================] - 2s 199us/sample - loss: 0.0023 - accuracy: 0.9997 - val_loss: 0.0716 - val_accuracy: 0.9951\n",
      "Epoch 20/50\n",
      "9690/9690 [==============================] - 2s 199us/sample - loss: 0.0052 - accuracy: 0.9998 - val_loss: 0.0697 - val_accuracy: 0.9964\n",
      "Epoch 21/50\n",
      "9690/9690 [==============================] - 2s 204us/sample - loss: 9.0454e-04 - accuracy: 0.9998 - val_loss: 0.0510 - val_accuracy: 0.9961\n",
      "Epoch 22/50\n",
      "9690/9690 [==============================] - 2s 208us/sample - loss: 1.4763e-09 - accuracy: 1.0000 - val_loss: 0.0522 - val_accuracy: 0.9968\n",
      "Epoch 23/50\n",
      "9690/9690 [==============================] - 2s 210us/sample - loss: 0.0041 - accuracy: 0.9997 - val_loss: 0.0879 - val_accuracy: 0.9939\n",
      "Epoch 24/50\n",
      "9690/9690 [==============================] - 2s 200us/sample - loss: 0.0054 - accuracy: 0.9996 - val_loss: 0.2846 - val_accuracy: 0.9929\n",
      "Epoch 25/50\n",
      "9690/9690 [==============================] - 2s 196us/sample - loss: 0.0027 - accuracy: 0.9999 - val_loss: 0.1812 - val_accuracy: 0.9932\n",
      "Epoch 26/50\n",
      "9690/9690 [==============================] - 2s 195us/sample - loss: 0.0017 - accuracy: 0.9998 - val_loss: 0.6629 - val_accuracy: 0.9896\n",
      "Epoch 27/50\n",
      "9690/9690 [==============================] - 2s 204us/sample - loss: 0.0072 - accuracy: 0.9995 - val_loss: 0.0396 - val_accuracy: 0.9971\n",
      "Epoch 28/50\n",
      "9690/9690 [==============================] - 2s 198us/sample - loss: 0.0084 - accuracy: 0.9995 - val_loss: 0.2858 - val_accuracy: 0.9916\n",
      "Epoch 29/50\n",
      "9690/9690 [==============================] - 2s 196us/sample - loss: 7.2453e-08 - accuracy: 1.0000 - val_loss: 0.1116 - val_accuracy: 0.9942\n",
      "Epoch 30/50\n",
      "9690/9690 [==============================] - 2s 194us/sample - loss: 4.9965e-08 - accuracy: 1.0000 - val_loss: 0.2236 - val_accuracy: 0.9922\n",
      "Epoch 31/50\n",
      "9690/9690 [==============================] - 2s 202us/sample - loss: 0.0056 - accuracy: 0.9995 - val_loss: 0.3023 - val_accuracy: 0.9909\n",
      "Epoch 32/50\n",
      "9690/9690 [==============================] - 2s 197us/sample - loss: 0.0061 - accuracy: 0.9997 - val_loss: 0.1243 - val_accuracy: 0.9942\n",
      "Epoch 33/50\n",
      "9690/9690 [==============================] - 2s 198us/sample - loss: 0.0053 - accuracy: 0.9997 - val_loss: 0.1272 - val_accuracy: 0.9919\n",
      "Epoch 34/50\n",
      "9690/9690 [==============================] - 2s 197us/sample - loss: 5.4598e-04 - accuracy: 0.9998 - val_loss: 0.0945 - val_accuracy: 0.9939\n",
      "Epoch 35/50\n",
      "9690/9690 [==============================] - 2s 201us/sample - loss: 0.0030 - accuracy: 0.9997 - val_loss: 0.0652 - val_accuracy: 0.9968\n",
      "Epoch 36/50\n",
      "9690/9690 [==============================] - 2s 202us/sample - loss: 8.6072e-04 - accuracy: 0.9999 - val_loss: 0.0970 - val_accuracy: 0.9964\n",
      "Epoch 37/50\n",
      "9690/9690 [==============================] - 2s 200us/sample - loss: 0.0025 - accuracy: 0.9998 - val_loss: 0.0873 - val_accuracy: 0.9964\n",
      "Epoch 38/50\n",
      "9690/9690 [==============================] - 2s 200us/sample - loss: 0.0033 - accuracy: 0.9998 - val_loss: 0.0787 - val_accuracy: 0.9964\n",
      "Epoch 39/50\n",
      "9690/9690 [==============================] - 2s 194us/sample - loss: 0.0016 - accuracy: 0.9998 - val_loss: 0.1057 - val_accuracy: 0.9929\n",
      "Epoch 40/50\n",
      "9690/9690 [==============================] - 2s 196us/sample - loss: 0.0057 - accuracy: 0.9995 - val_loss: 0.1259 - val_accuracy: 0.9926\n",
      "Epoch 41/50\n",
      "9690/9690 [==============================] - 2s 199us/sample - loss: 3.5460e-04 - accuracy: 0.9999 - val_loss: 0.0570 - val_accuracy: 0.9964\n",
      "Epoch 42/50\n",
      "9690/9690 [==============================] - 2s 202us/sample - loss: 7.7286e-08 - accuracy: 1.0000 - val_loss: 0.1234 - val_accuracy: 0.9935\n",
      "Epoch 43/50\n",
      "9690/9690 [==============================] - 2s 197us/sample - loss: 0.0024 - accuracy: 0.9996 - val_loss: 0.1224 - val_accuracy: 0.9951\n",
      "Epoch 44/50\n",
      "9690/9690 [==============================] - 2s 196us/sample - loss: 0.0021 - accuracy: 0.9998 - val_loss: 0.1408 - val_accuracy: 0.9916\n",
      "Epoch 45/50\n",
      "9690/9690 [==============================] - 2s 196us/sample - loss: 1.3898e-05 - accuracy: 1.0000 - val_loss: 0.1057 - val_accuracy: 0.9955\n",
      "Epoch 46/50\n",
      "9690/9690 [==============================] - 2s 196us/sample - loss: 0.0016 - accuracy: 0.9998 - val_loss: 0.0689 - val_accuracy: 0.9955\n",
      "Epoch 47/50\n",
      "9690/9690 [==============================] - 2s 198us/sample - loss: 7.0123e-10 - accuracy: 1.0000 - val_loss: 0.0504 - val_accuracy: 0.9961\n",
      "Epoch 48/50\n",
      "9690/9690 [==============================] - 2s 192us/sample - loss: 1.2302e-11 - accuracy: 1.0000 - val_loss: 0.0572 - val_accuracy: 0.9961\n",
      "Epoch 49/50\n",
      "9690/9690 [==============================] - 2s 194us/sample - loss: 4.2832e-04 - accuracy: 0.9999 - val_loss: 0.0740 - val_accuracy: 0.9964\n",
      "Epoch 50/50\n",
      "9690/9690 [==============================] - 2s 199us/sample - loss: 0.0029 - accuracy: 0.9997 - val_loss: 0.0707 - val_accuracy: 0.9964\n"
     ]
    },
    {
     "output_type": "display_data",
     "data": {
      "text/plain": "<IPython.core.display.HTML object>",
      "text/html": "<br/>Waiting for W&B process to finish, PID 22236<br/>Program ended successfully."
     },
     "metadata": {}
    },
    {
     "output_type": "display_data",
     "data": {
      "text/plain": "<IPython.core.display.HTML object>",
      "text/html": "Find user logs for this run at: <code>wandb\\run-20201205_135505-28ewvev4\\logs\\debug.log</code>"
     },
     "metadata": {}
    },
    {
     "output_type": "display_data",
     "data": {
      "text/plain": "<IPython.core.display.HTML object>",
      "text/html": "Find internal logs for this run at: <code>wandb\\run-20201205_135505-28ewvev4\\logs\\debug-internal.log</code>"
     },
     "metadata": {}
    },
    {
     "output_type": "display_data",
     "data": {
      "text/plain": "<IPython.core.display.HTML object>",
      "text/html": "<h3>Run summary:</h3><br/><style>\n    table.wandb td:nth-child(1) { padding: 0 10px; text-align: right }\n    </style><table class=\"wandb\">\n<tr><td>epoch</td><td>49</td></tr><tr><td>loss</td><td>0.00286</td></tr><tr><td>accuracy</td><td>0.99969</td></tr><tr><td>val_loss</td><td>0.07073</td></tr><tr><td>val_accuracy</td><td>0.99644</td></tr><tr><td>_step</td><td>50</td></tr><tr><td>_runtime</td><td>99</td></tr><tr><td>_timestamp</td><td>1607176604</td></tr><tr><td>best_val_loss</td><td>0.03957</td></tr><tr><td>best_epoch</td><td>26</td></tr><tr><td>Label_class</td><td>speed limit 30</td></tr><tr><td>num_classes</td><td>2</td></tr></table>"
     },
     "metadata": {}
    },
    {
     "output_type": "display_data",
     "data": {
      "text/plain": "<IPython.core.display.HTML object>",
      "text/html": "<h3>Run history:</h3><br/><style>\n    table.wandb td:nth-child(1) { padding: 0 10px; text-align: right }\n    </style><table class=\"wandb\">\n<tr><td>epoch</td><td>▁▁▁▁▂▂▂▂▂▃▃▃▃▃▃▄▄▄▄▄▅▅▅▅▅▅▆▆▆▆▆▆▇▇▇▇▇███</td></tr><tr><td>loss</td><td>█▁▁▁▁▁▁▁▁▁▁▁▁▁▁▁▁▁▁▁▁▁▁▁▁▁▁▁▁▁▁▁▁▁▁▁▁▁▁▁</td></tr><tr><td>accuracy</td><td>▁▇▇█████████████████████████████████████</td></tr><tr><td>val_loss</td><td>▂▁▂▂▁▄▂▃▂▁▁▁▁▁▂▁▁▁▂▄█▁▄▂▄▂▂▂▂▂▁▂▁▂▂▂▁▁▁▁</td></tr><tr><td>val_accuracy</td><td>▁▅▁▇▇▄▄▄▄▅▇██▅▆▆▇▇▅▄▁█▃▅▂▅▃▅▇▇▇▄▇▅▆▃▆▇▇▇</td></tr><tr><td>_step</td><td>▁▁▁▁▂▂▂▂▂▃▃▃▃▃▃▄▄▄▄▄▅▅▅▅▅▅▆▆▆▆▆▆▇▇▇▇▇███</td></tr><tr><td>_runtime</td><td>▁▁▁▁▂▂▂▂▂▃▃▃▃▃▃▄▄▄▄▄▅▅▅▅▅▆▆▆▆▆▆▇▇▇▇▇████</td></tr><tr><td>_timestamp</td><td>▁▁▁▁▂▂▂▂▂▃▃▃▃▃▃▄▄▄▄▄▅▅▅▅▅▆▆▆▆▆▆▇▇▇▇▇████</td></tr><tr><td>num_classes</td><td>▁</td></tr></table><br/>"
     },
     "metadata": {}
    },
    {
     "output_type": "display_data",
     "data": {
      "text/plain": "<IPython.core.display.HTML object>",
      "text/html": "Synced 5 W&B file(s), 1 media file(s), 0 artifact file(s) and 1 other file(s)"
     },
     "metadata": {}
    },
    {
     "output_type": "display_data",
     "data": {
      "text/plain": "<IPython.core.display.HTML object>",
      "text/html": "\n                    <br/>Synced <strong style=\"color:#cdcd00\">serene-grass-22</strong>: <a href=\"https://wandb.ai/supervisedlearning/CNN%20all%20test%20set%20experiments/runs/28ewvev4\" target=\"_blank\">https://wandb.ai/supervisedlearning/CNN%20all%20test%20set%20experiments/runs/28ewvev4</a><br/>\n                "
     },
     "metadata": {}
    },
    {
     "output_type": "stream",
     "name": "stderr",
     "text": [
      "wandb: wandb version 0.10.12 is available!  To upgrade, please run:\nwandb:  $ pip install wandb --upgrade\n"
     ]
    },
    {
     "output_type": "display_data",
     "data": {
      "text/plain": "<IPython.core.display.HTML object>",
      "text/html": "\n                Tracking run with wandb version 0.10.8<br/>\n                Syncing run <strong style=\"color:#cdcd00\">denim-spaceship-23</strong> to <a href=\"https://wandb.ai\" target=\"_blank\">Weights & Biases</a> <a href=\"https://docs.wandb.com/integrations/jupyter.html\" target=\"_blank\">(Documentation)</a>.<br/>\n                Project page: <a href=\"https://wandb.ai/supervisedlearning/CNN%20all%20test%20set%20experiments\" target=\"_blank\">https://wandb.ai/supervisedlearning/CNN%20all%20test%20set%20experiments</a><br/>\n                Run page: <a href=\"https://wandb.ai/supervisedlearning/CNN%20all%20test%20set%20experiments/runs/z5eg4gxp\" target=\"_blank\">https://wandb.ai/supervisedlearning/CNN%20all%20test%20set%20experiments/runs/z5eg4gxp</a><br/>\n                Run data is saved locally in <code>wandb\\run-20201205_135650-z5eg4gxp</code><br/><br/>\n            "
     },
     "metadata": {}
    },
    {
     "output_type": "stream",
     "name": "stdout",
     "text": [
      "Train on 9690 samples, validate on 3090 samples\n",
      "Epoch 1/50\n",
      "9690/9690 [==============================] - 2s 211us/sample - loss: 1.0460 - accuracy: 0.9775 - val_loss: 0.1209 - val_accuracy: 0.9828\n",
      "Epoch 2/50\n",
      "9690/9690 [==============================] - 2s 204us/sample - loss: 0.0055 - accuracy: 0.9985 - val_loss: 0.0933 - val_accuracy: 0.9916\n",
      "Epoch 3/50\n",
      "9690/9690 [==============================] - 2s 198us/sample - loss: 0.0082 - accuracy: 0.9989 - val_loss: 0.1584 - val_accuracy: 0.9893\n",
      "Epoch 4/50\n",
      "9690/9690 [==============================] - 2s 199us/sample - loss: 0.0063 - accuracy: 0.9989 - val_loss: 0.3154 - val_accuracy: 0.9874\n",
      "Epoch 5/50\n",
      "9690/9690 [==============================] - 2s 201us/sample - loss: 0.0066 - accuracy: 0.9992 - val_loss: 0.0590 - val_accuracy: 0.9958\n",
      "Epoch 6/50\n",
      "9690/9690 [==============================] - 2s 205us/sample - loss: 0.0093 - accuracy: 0.9991 - val_loss: 0.3459 - val_accuracy: 0.9757\n",
      "Epoch 7/50\n",
      "9690/9690 [==============================] - 2s 204us/sample - loss: 0.0052 - accuracy: 0.9997 - val_loss: 0.1588 - val_accuracy: 0.9890\n",
      "Epoch 8/50\n",
      "9690/9690 [==============================] - 2s 202us/sample - loss: 6.3075e-05 - accuracy: 1.0000 - val_loss: 0.1374 - val_accuracy: 0.9909\n",
      "Epoch 9/50\n",
      "9690/9690 [==============================] - 2s 197us/sample - loss: 0.0102 - accuracy: 0.9990 - val_loss: 0.3881 - val_accuracy: 0.9858\n",
      "Epoch 10/50\n",
      "9690/9690 [==============================] - 2s 197us/sample - loss: 0.0014 - accuracy: 0.9997 - val_loss: 0.1068 - val_accuracy: 0.9929\n",
      "Epoch 11/50\n",
      "9690/9690 [==============================] - 2s 197us/sample - loss: 1.1156e-04 - accuracy: 0.9999 - val_loss: 0.2697 - val_accuracy: 0.9822\n",
      "Epoch 12/50\n",
      "9690/9690 [==============================] - 2s 193us/sample - loss: 0.0017 - accuracy: 0.9997 - val_loss: 0.2180 - val_accuracy: 0.9871\n",
      "Epoch 13/50\n",
      "9690/9690 [==============================] - 2s 197us/sample - loss: 0.0035 - accuracy: 0.9996 - val_loss: 0.3711 - val_accuracy: 0.9825\n",
      "Epoch 14/50\n",
      "9690/9690 [==============================] - 2s 197us/sample - loss: 0.0024 - accuracy: 0.9998 - val_loss: 0.1987 - val_accuracy: 0.9900\n",
      "Epoch 15/50\n",
      "9690/9690 [==============================] - 2s 197us/sample - loss: 2.8541e-09 - accuracy: 1.0000 - val_loss: 0.4151 - val_accuracy: 0.9773\n",
      "Epoch 16/50\n",
      "9690/9690 [==============================] - 2s 190us/sample - loss: 0.0020 - accuracy: 0.9999 - val_loss: 0.1941 - val_accuracy: 0.9900\n",
      "Epoch 17/50\n",
      "9690/9690 [==============================] - 2s 191us/sample - loss: 1.7223e-10 - accuracy: 1.0000 - val_loss: 0.2533 - val_accuracy: 0.9867\n",
      "Epoch 18/50\n",
      "9690/9690 [==============================] - 2s 194us/sample - loss: 1.8691e-06 - accuracy: 1.0000 - val_loss: 0.1905 - val_accuracy: 0.9900\n",
      "Epoch 19/50\n",
      "9690/9690 [==============================] - 2s 199us/sample - loss: 1.2302e-10 - accuracy: 1.0000 - val_loss: 0.2104 - val_accuracy: 0.9893\n",
      "Epoch 20/50\n",
      "9690/9690 [==============================] - 2s 202us/sample - loss: 0.0076 - accuracy: 0.9996 - val_loss: 0.2088 - val_accuracy: 0.9903\n",
      "Epoch 21/50\n",
      "9690/9690 [==============================] - 2s 198us/sample - loss: 1.4517e-09 - accuracy: 1.0000 - val_loss: 0.2025 - val_accuracy: 0.9909\n",
      "Epoch 22/50\n",
      "9690/9690 [==============================] - 2s 195us/sample - loss: 2.2457e-04 - accuracy: 0.9999 - val_loss: 0.1310 - val_accuracy: 0.9929\n",
      "Epoch 23/50\n",
      "9690/9690 [==============================] - 2s 200us/sample - loss: 8.3286e-07 - accuracy: 1.0000 - val_loss: 0.0974 - val_accuracy: 0.9935\n",
      "Epoch 24/50\n",
      "9690/9690 [==============================] - 2s 202us/sample - loss: 6.4011e-04 - accuracy: 0.9999 - val_loss: 0.1335 - val_accuracy: 0.9945\n",
      "Epoch 25/50\n",
      "9690/9690 [==============================] - 2s 202us/sample - loss: 2.9148e-07 - accuracy: 1.0000 - val_loss: 0.1763 - val_accuracy: 0.9900\n",
      "Epoch 26/50\n",
      "9690/9690 [==============================] - 2s 206us/sample - loss: 0.0041 - accuracy: 0.9998 - val_loss: 0.4055 - val_accuracy: 0.9887\n",
      "Epoch 27/50\n",
      "9690/9690 [==============================] - 2s 199us/sample - loss: 1.6214e-07 - accuracy: 1.0000 - val_loss: 0.2903 - val_accuracy: 0.9909\n",
      "Epoch 28/50\n",
      "9690/9690 [==============================] - 2s 195us/sample - loss: 1.2302e-11 - accuracy: 1.0000 - val_loss: 0.2882 - val_accuracy: 0.9890\n",
      "Epoch 29/50\n",
      "9690/9690 [==============================] - 2s 199us/sample - loss: 0.0000e+00 - accuracy: 1.0000 - val_loss: 0.2437 - val_accuracy: 0.9909\n",
      "Epoch 30/50\n",
      "9690/9690 [==============================] - 2s 203us/sample - loss: 2.0871e-04 - accuracy: 0.9999 - val_loss: 0.2992 - val_accuracy: 0.9903\n",
      "Epoch 31/50\n",
      "9690/9690 [==============================] - 2s 192us/sample - loss: 1.4819e-04 - accuracy: 0.9999 - val_loss: 0.3924 - val_accuracy: 0.9887\n",
      "Epoch 32/50\n",
      "9690/9690 [==============================] - 2s 196us/sample - loss: 7.8250e-06 - accuracy: 1.0000 - val_loss: 0.6176 - val_accuracy: 0.9861\n",
      "Epoch 33/50\n",
      "9690/9690 [==============================] - 2s 193us/sample - loss: 0.0017 - accuracy: 0.9998 - val_loss: 0.2574 - val_accuracy: 0.9900\n",
      "Epoch 34/50\n",
      "9690/9690 [==============================] - 2s 196us/sample - loss: 2.9294e-04 - accuracy: 0.9999 - val_loss: 0.2460 - val_accuracy: 0.9890\n",
      "Epoch 35/50\n",
      "9690/9690 [==============================] - 2s 202us/sample - loss: 0.0019 - accuracy: 0.9998 - val_loss: 0.1527 - val_accuracy: 0.9922\n",
      "Epoch 36/50\n",
      "9690/9690 [==============================] - 2s 203us/sample - loss: 0.0016 - accuracy: 0.9998 - val_loss: 0.2600 - val_accuracy: 0.9909\n",
      "Epoch 37/50\n",
      "9690/9690 [==============================] - 2s 205us/sample - loss: 3.0778e-06 - accuracy: 1.0000 - val_loss: 0.1671 - val_accuracy: 0.9922\n",
      "Epoch 38/50\n",
      "9690/9690 [==============================] - 2s 224us/sample - loss: 0.0021 - accuracy: 0.9999 - val_loss: 0.5452 - val_accuracy: 0.9861\n",
      "Epoch 39/50\n",
      "9690/9690 [==============================] - 2s 216us/sample - loss: 0.0178 - accuracy: 0.9991 - val_loss: 0.1544 - val_accuracy: 0.9903\n",
      "Epoch 40/50\n",
      "9690/9690 [==============================] - 2s 204us/sample - loss: 0.0035 - accuracy: 0.9998 - val_loss: 0.5483 - val_accuracy: 0.9883\n",
      "Epoch 41/50\n",
      "9690/9690 [==============================] - 2s 203us/sample - loss: 0.0013 - accuracy: 0.9999 - val_loss: 0.1798 - val_accuracy: 0.9929\n",
      "Epoch 42/50\n",
      "9690/9690 [==============================] - 2s 215us/sample - loss: 0.0082 - accuracy: 0.9997 - val_loss: 0.2127 - val_accuracy: 0.9893\n",
      "Epoch 43/50\n",
      "9690/9690 [==============================] - 2s 218us/sample - loss: 8.0978e-07 - accuracy: 1.0000 - val_loss: 0.1865 - val_accuracy: 0.9922\n",
      "Epoch 44/50\n",
      "9690/9690 [==============================] - 2s 201us/sample - loss: 0.0031 - accuracy: 0.9997 - val_loss: 0.2713 - val_accuracy: 0.9841\n",
      "Epoch 45/50\n",
      "9690/9690 [==============================] - 2s 201us/sample - loss: 4.7504e-04 - accuracy: 0.9999 - val_loss: 0.1890 - val_accuracy: 0.9913\n",
      "Epoch 46/50\n",
      "9690/9690 [==============================] - 2s 200us/sample - loss: 7.3833e-07 - accuracy: 1.0000 - val_loss: 0.1141 - val_accuracy: 0.9948\n",
      "Epoch 47/50\n",
      "9690/9690 [==============================] - 2s 190us/sample - loss: 5.8188e-09 - accuracy: 1.0000 - val_loss: 0.1498 - val_accuracy: 0.9932\n",
      "Epoch 48/50\n",
      "9690/9690 [==============================] - 2s 201us/sample - loss: 8.8576e-10 - accuracy: 1.0000 - val_loss: 0.1683 - val_accuracy: 0.9939\n",
      "Epoch 49/50\n",
      "9690/9690 [==============================] - 2s 211us/sample - loss: 2.2682e-04 - accuracy: 0.9999 - val_loss: 0.1457 - val_accuracy: 0.9932\n",
      "Epoch 50/50\n",
      "9690/9690 [==============================] - 2s 205us/sample - loss: 0.0039 - accuracy: 0.9999 - val_loss: 0.2552 - val_accuracy: 0.9926\n"
     ]
    },
    {
     "output_type": "display_data",
     "data": {
      "text/plain": "<IPython.core.display.HTML object>",
      "text/html": "<br/>Waiting for W&B process to finish, PID 26440<br/>Program ended successfully."
     },
     "metadata": {}
    },
    {
     "output_type": "display_data",
     "data": {
      "text/plain": "<IPython.core.display.HTML object>",
      "text/html": "Find user logs for this run at: <code>wandb\\run-20201205_135650-z5eg4gxp\\logs\\debug.log</code>"
     },
     "metadata": {}
    },
    {
     "output_type": "display_data",
     "data": {
      "text/plain": "<IPython.core.display.HTML object>",
      "text/html": "Find internal logs for this run at: <code>wandb\\run-20201205_135650-z5eg4gxp\\logs\\debug-internal.log</code>"
     },
     "metadata": {}
    },
    {
     "output_type": "display_data",
     "data": {
      "text/plain": "<IPython.core.display.HTML object>",
      "text/html": "<h3>Run summary:</h3><br/><style>\n    table.wandb td:nth-child(1) { padding: 0 10px; text-align: right }\n    </style><table class=\"wandb\">\n<tr><td>epoch</td><td>49</td></tr><tr><td>loss</td><td>0.00389</td></tr><tr><td>accuracy</td><td>0.9999</td></tr><tr><td>val_loss</td><td>0.25524</td></tr><tr><td>val_accuracy</td><td>0.99256</td></tr><tr><td>_step</td><td>50</td></tr><tr><td>_runtime</td><td>99</td></tr><tr><td>_timestamp</td><td>1607176709</td></tr><tr><td>best_val_loss</td><td>0.059</td></tr><tr><td>best_epoch</td><td>4</td></tr><tr><td>Label_class</td><td>speed limit 50</td></tr><tr><td>num_classes</td><td>2</td></tr></table>"
     },
     "metadata": {}
    },
    {
     "output_type": "display_data",
     "data": {
      "text/plain": "<IPython.core.display.HTML object>",
      "text/html": "<h3>Run history:</h3><br/><style>\n    table.wandb td:nth-child(1) { padding: 0 10px; text-align: right }\n    </style><table class=\"wandb\">\n<tr><td>epoch</td><td>▁▁▁▁▂▂▂▂▂▃▃▃▃▃▃▄▄▄▄▄▅▅▅▅▅▅▆▆▆▆▆▆▇▇▇▇▇███</td></tr><tr><td>loss</td><td>█▁▁▁▁▁▁▁▁▁▁▁▁▁▁▁▁▁▁▁▁▁▁▁▁▁▁▁▁▁▁▁▁▁▁▁▁▁▁▁</td></tr><tr><td>accuracy</td><td>▁███████████████████████████████████████</td></tr><tr><td>val_loss</td><td>▁▁▂▄▄▂▂▅▃▃▅▂▂▃▂▃▂▂▁▂▅▄▄▃▅█▃▃▃▂▇▂▂▃▂▃▁▂▂▃</td></tr><tr><td>val_accuracy</td><td>▄▇▆▅▁▆▇▅▃▅▃▆▆▅▆▆▇▇██▆▇▆▇▆▅▆▆▇▇▅▆▇▆▇▄█▇█▇</td></tr><tr><td>_step</td><td>▁▁▁▁▂▂▂▂▂▃▃▃▃▃▃▄▄▄▄▄▅▅▅▅▅▅▆▆▆▆▆▆▇▇▇▇▇███</td></tr><tr><td>_runtime</td><td>▁▁▁▁▂▂▂▂▂▃▃▃▃▃▃▄▄▄▄▄▅▅▅▅▅▅▆▆▆▆▆▇▇▇▇▇████</td></tr><tr><td>_timestamp</td><td>▁▁▁▁▂▂▂▂▂▃▃▃▃▃▃▄▄▄▄▄▅▅▅▅▅▅▆▆▆▆▆▇▇▇▇▇████</td></tr><tr><td>num_classes</td><td>▁</td></tr></table><br/>"
     },
     "metadata": {}
    },
    {
     "output_type": "display_data",
     "data": {
      "text/plain": "<IPython.core.display.HTML object>",
      "text/html": "Synced 5 W&B file(s), 1 media file(s), 0 artifact file(s) and 1 other file(s)"
     },
     "metadata": {}
    },
    {
     "output_type": "display_data",
     "data": {
      "text/plain": "<IPython.core.display.HTML object>",
      "text/html": "\n                    <br/>Synced <strong style=\"color:#cdcd00\">denim-spaceship-23</strong>: <a href=\"https://wandb.ai/supervisedlearning/CNN%20all%20test%20set%20experiments/runs/z5eg4gxp\" target=\"_blank\">https://wandb.ai/supervisedlearning/CNN%20all%20test%20set%20experiments/runs/z5eg4gxp</a><br/>\n                "
     },
     "metadata": {}
    },
    {
     "output_type": "stream",
     "name": "stderr",
     "text": [
      "wandb: wandb version 0.10.12 is available!  To upgrade, please run:\nwandb:  $ pip install wandb --upgrade\n"
     ]
    },
    {
     "output_type": "display_data",
     "data": {
      "text/plain": "<IPython.core.display.HTML object>",
      "text/html": "\n                Tracking run with wandb version 0.10.8<br/>\n                Syncing run <strong style=\"color:#cdcd00\">decent-donkey-24</strong> to <a href=\"https://wandb.ai\" target=\"_blank\">Weights & Biases</a> <a href=\"https://docs.wandb.com/integrations/jupyter.html\" target=\"_blank\">(Documentation)</a>.<br/>\n                Project page: <a href=\"https://wandb.ai/supervisedlearning/CNN%20all%20test%20set%20experiments\" target=\"_blank\">https://wandb.ai/supervisedlearning/CNN%20all%20test%20set%20experiments</a><br/>\n                Run page: <a href=\"https://wandb.ai/supervisedlearning/CNN%20all%20test%20set%20experiments/runs/1rap3hv8\" target=\"_blank\">https://wandb.ai/supervisedlearning/CNN%20all%20test%20set%20experiments/runs/1rap3hv8</a><br/>\n                Run data is saved locally in <code>wandb\\run-20201205_135840-1rap3hv8</code><br/><br/>\n            "
     },
     "metadata": {}
    },
    {
     "output_type": "stream",
     "name": "stdout",
     "text": [
      "Train on 9690 samples, validate on 3090 samples\n",
      "Epoch 1/50\n",
      "9690/9690 [==============================] - 2s 209us/sample - loss: 0.5438 - accuracy: 0.9843 - val_loss: 0.0232 - val_accuracy: 0.9968\n",
      "Epoch 2/50\n",
      "9690/9690 [==============================] - 2s 203us/sample - loss: 0.0047 - accuracy: 0.9990 - val_loss: 0.0432 - val_accuracy: 0.9955\n",
      "Epoch 3/50\n",
      "9690/9690 [==============================] - 2s 208us/sample - loss: 0.0024 - accuracy: 0.9995 - val_loss: 0.0192 - val_accuracy: 0.9971\n",
      "Epoch 4/50\n",
      "9690/9690 [==============================] - 2s 204us/sample - loss: 0.0029 - accuracy: 0.9997 - val_loss: 0.0299 - val_accuracy: 0.9968\n",
      "Epoch 5/50\n",
      "9690/9690 [==============================] - 2s 203us/sample - loss: 0.0030 - accuracy: 0.9999 - val_loss: 0.0740 - val_accuracy: 0.9935\n",
      "Epoch 6/50\n",
      "9690/9690 [==============================] - 2s 202us/sample - loss: 4.2955e-04 - accuracy: 0.9999 - val_loss: 0.0773 - val_accuracy: 0.9945\n",
      "Epoch 7/50\n",
      "9690/9690 [==============================] - 2s 199us/sample - loss: 5.9173e-09 - accuracy: 1.0000 - val_loss: 0.0436 - val_accuracy: 0.9961\n",
      "Epoch 8/50\n",
      "9690/9690 [==============================] - 2s 198us/sample - loss: 6.0281e-10 - accuracy: 1.0000 - val_loss: 0.0484 - val_accuracy: 0.9958\n",
      "Epoch 9/50\n",
      "9690/9690 [==============================] - 2s 201us/sample - loss: 2.4605e-11 - accuracy: 1.0000 - val_loss: 0.0512 - val_accuracy: 0.9971\n",
      "Epoch 10/50\n",
      "9690/9690 [==============================] - 2s 206us/sample - loss: 1.8207e-09 - accuracy: 1.0000 - val_loss: 0.0557 - val_accuracy: 0.9955\n",
      "Epoch 11/50\n",
      "9690/9690 [==============================] - 2s 196us/sample - loss: 6.8939e-04 - accuracy: 0.9999 - val_loss: 0.0368 - val_accuracy: 0.9961\n",
      "Epoch 12/50\n",
      "9690/9690 [==============================] - 2s 196us/sample - loss: 2.0128e-06 - accuracy: 1.0000 - val_loss: 0.0202 - val_accuracy: 0.9971\n",
      "Epoch 13/50\n",
      "9690/9690 [==============================] - 2s 215us/sample - loss: 0.0018 - accuracy: 0.9999 - val_loss: 0.0597 - val_accuracy: 0.9968\n",
      "Epoch 14/50\n",
      "9690/9690 [==============================] - 2s 200us/sample - loss: 1.9578e-04 - accuracy: 0.9998 - val_loss: 0.0769 - val_accuracy: 0.9961\n",
      "Epoch 15/50\n",
      "9690/9690 [==============================] - 2s 201us/sample - loss: 3.9398e-06 - accuracy: 1.0000 - val_loss: 0.0742 - val_accuracy: 0.9968\n",
      "Epoch 16/50\n",
      "9690/9690 [==============================] - 2s 204us/sample - loss: 0.0017 - accuracy: 0.9999 - val_loss: 0.1046 - val_accuracy: 0.9935\n",
      "Epoch 17/50\n",
      "9690/9690 [==============================] - 2s 196us/sample - loss: 0.0014 - accuracy: 0.9999 - val_loss: 0.0120 - val_accuracy: 0.9987\n",
      "Epoch 18/50\n",
      "9690/9690 [==============================] - 2s 198us/sample - loss: 6.9014e-09 - accuracy: 1.0000 - val_loss: 0.0416 - val_accuracy: 0.9958\n",
      "Epoch 19/50\n",
      "9690/9690 [==============================] - 2s 205us/sample - loss: 6.1511e-11 - accuracy: 1.0000 - val_loss: 0.0210 - val_accuracy: 0.9964\n",
      "Epoch 20/50\n",
      "9690/9690 [==============================] - 2s 192us/sample - loss: 2.2056e-08 - accuracy: 1.0000 - val_loss: 0.0365 - val_accuracy: 0.9968\n",
      "Epoch 21/50\n",
      "9690/9690 [==============================] - 2s 192us/sample - loss: 1.2302e-11 - accuracy: 1.0000 - val_loss: 0.0311 - val_accuracy: 0.9971\n",
      "Epoch 22/50\n",
      "9690/9690 [==============================] - 2s 195us/sample - loss: 3.6907e-11 - accuracy: 1.0000 - val_loss: 0.0341 - val_accuracy: 0.9974\n",
      "Epoch 23/50\n",
      "9690/9690 [==============================] - 2s 202us/sample - loss: 3.6415e-09 - accuracy: 1.0000 - val_loss: 0.0503 - val_accuracy: 0.9955\n",
      "Epoch 24/50\n",
      "9690/9690 [==============================] - 2s 203us/sample - loss: 5.8239e-04 - accuracy: 0.9999 - val_loss: 0.0514 - val_accuracy: 0.9951\n",
      "Epoch 25/50\n",
      "9690/9690 [==============================] - 2s 204us/sample - loss: 0.0029 - accuracy: 0.9998 - val_loss: 0.0119 - val_accuracy: 0.9987\n",
      "Epoch 26/50\n",
      "9690/9690 [==============================] - 2s 199us/sample - loss: 6.1511e-11 - accuracy: 1.0000 - val_loss: 0.0088 - val_accuracy: 0.9987\n",
      "Epoch 27/50\n",
      "9690/9690 [==============================] - 2s 204us/sample - loss: 3.6907e-11 - accuracy: 1.0000 - val_loss: 0.0113 - val_accuracy: 0.9987\n",
      "Epoch 28/50\n",
      "9690/9690 [==============================] - 2s 199us/sample - loss: 0.0000e+00 - accuracy: 1.0000 - val_loss: 0.0136 - val_accuracy: 0.9984\n",
      "Epoch 29/50\n",
      "9690/9690 [==============================] - 2s 198us/sample - loss: 0.0000e+00 - accuracy: 1.0000 - val_loss: 0.0134 - val_accuracy: 0.9984\n",
      "Epoch 30/50\n",
      "9690/9690 [==============================] - 2s 224us/sample - loss: 0.0000e+00 - accuracy: 1.0000 - val_loss: 0.0142 - val_accuracy: 0.9984\n",
      "Epoch 31/50\n",
      "9690/9690 [==============================] - 2s 226us/sample - loss: 0.0000e+00 - accuracy: 1.0000 - val_loss: 0.0138 - val_accuracy: 0.9984\n",
      "Epoch 32/50\n",
      "9690/9690 [==============================] - 2s 226us/sample - loss: 0.0000e+00 - accuracy: 1.0000 - val_loss: 0.0136 - val_accuracy: 0.9984\n",
      "Epoch 33/50\n",
      "9690/9690 [==============================] - 2s 222us/sample - loss: 0.0000e+00 - accuracy: 1.0000 - val_loss: 0.0142 - val_accuracy: 0.9984\n",
      "Epoch 34/50\n",
      "9690/9690 [==============================] - 2s 215us/sample - loss: 0.0000e+00 - accuracy: 1.0000 - val_loss: 0.0129 - val_accuracy: 0.9987\n",
      "Epoch 35/50\n",
      "9690/9690 [==============================] - 2s 220us/sample - loss: 0.0000e+00 - accuracy: 1.0000 - val_loss: 0.0132 - val_accuracy: 0.9984\n",
      "Epoch 36/50\n",
      "9690/9690 [==============================] - 2s 208us/sample - loss: 1.1072e-09 - accuracy: 1.0000 - val_loss: 0.0084 - val_accuracy: 0.9984\n",
      "Epoch 37/50\n",
      "9690/9690 [==============================] - 2s 206us/sample - loss: 1.7385e-07 - accuracy: 1.0000 - val_loss: 0.0254 - val_accuracy: 0.9977\n",
      "Epoch 38/50\n",
      "9690/9690 [==============================] - 2s 204us/sample - loss: 1.2302e-11 - accuracy: 1.0000 - val_loss: 0.0254 - val_accuracy: 0.9981\n",
      "Epoch 39/50\n",
      "9690/9690 [==============================] - 2s 203us/sample - loss: 0.0000e+00 - accuracy: 1.0000 - val_loss: 0.0252 - val_accuracy: 0.9977\n",
      "Epoch 40/50\n",
      "9690/9690 [==============================] - 2s 209us/sample - loss: 5.4130e-10 - accuracy: 1.0000 - val_loss: 0.0118 - val_accuracy: 0.9987\n",
      "Epoch 41/50\n",
      "9690/9690 [==============================] - 2s 200us/sample - loss: 0.0000e+00 - accuracy: 1.0000 - val_loss: 0.0110 - val_accuracy: 0.9987\n",
      "Epoch 42/50\n",
      "9690/9690 [==============================] - 2s 205us/sample - loss: 2.4605e-11 - accuracy: 1.0000 - val_loss: 0.0036 - val_accuracy: 0.9994\n",
      "Epoch 43/50\n",
      "9690/9690 [==============================] - 2s 196us/sample - loss: 0.0000e+00 - accuracy: 1.0000 - val_loss: 0.0066 - val_accuracy: 0.9987\n",
      "Epoch 44/50\n",
      "9690/9690 [==============================] - 2s 195us/sample - loss: 4.8775e-04 - accuracy: 0.9999 - val_loss: 0.0370 - val_accuracy: 0.9968\n",
      "Epoch 45/50\n",
      "9690/9690 [==============================] - 2s 203us/sample - loss: 3.1617e-09 - accuracy: 1.0000 - val_loss: 0.0033 - val_accuracy: 0.9997\n",
      "Epoch 46/50\n",
      "9690/9690 [==============================] - 2s 199us/sample - loss: 1.4848e-08 - accuracy: 1.0000 - val_loss: 0.0503 - val_accuracy: 0.9964\n",
      "Epoch 47/50\n",
      "9690/9690 [==============================] - 2s 209us/sample - loss: 0.0000e+00 - accuracy: 1.0000 - val_loss: 0.0346 - val_accuracy: 0.9984\n",
      "Epoch 48/50\n",
      "9690/9690 [==============================] - 2s 202us/sample - loss: 2.8674e-08 - accuracy: 1.0000 - val_loss: 0.0372 - val_accuracy: 0.9984\n",
      "Epoch 49/50\n",
      "9690/9690 [==============================] - 2s 201us/sample - loss: 1.3662e-05 - accuracy: 1.0000 - val_loss: 0.0303 - val_accuracy: 0.9990\n",
      "Epoch 50/50\n",
      "9690/9690 [==============================] - 2s 203us/sample - loss: 0.0000e+00 - accuracy: 1.0000 - val_loss: 0.0236 - val_accuracy: 0.9990\n"
     ]
    },
    {
     "output_type": "display_data",
     "data": {
      "text/plain": "<IPython.core.display.HTML object>",
      "text/html": "<br/>Waiting for W&B process to finish, PID 12384<br/>Program ended successfully."
     },
     "metadata": {}
    },
    {
     "output_type": "display_data",
     "data": {
      "text/plain": "<IPython.core.display.HTML object>",
      "text/html": "Find user logs for this run at: <code>wandb\\run-20201205_135840-1rap3hv8\\logs\\debug.log</code>"
     },
     "metadata": {}
    },
    {
     "output_type": "display_data",
     "data": {
      "text/plain": "<IPython.core.display.HTML object>",
      "text/html": "Find internal logs for this run at: <code>wandb\\run-20201205_135840-1rap3hv8\\logs\\debug-internal.log</code>"
     },
     "metadata": {}
    },
    {
     "output_type": "display_data",
     "data": {
      "text/plain": "<IPython.core.display.HTML object>",
      "text/html": "<h3>Run summary:</h3><br/><style>\n    table.wandb td:nth-child(1) { padding: 0 10px; text-align: right }\n    </style><table class=\"wandb\">\n<tr><td>epoch</td><td>49</td></tr><tr><td>loss</td><td>0.0</td></tr><tr><td>accuracy</td><td>1.0</td></tr><tr><td>val_loss</td><td>0.02362</td></tr><tr><td>val_accuracy</td><td>0.99903</td></tr><tr><td>_step</td><td>50</td></tr><tr><td>_runtime</td><td>100</td></tr><tr><td>_timestamp</td><td>1607176820</td></tr><tr><td>best_val_loss</td><td>0.00333</td></tr><tr><td>best_epoch</td><td>44</td></tr><tr><td>Label_class</td><td>speed limit 60</td></tr><tr><td>num_classes</td><td>2</td></tr></table>"
     },
     "metadata": {}
    },
    {
     "output_type": "display_data",
     "data": {
      "text/plain": "<IPython.core.display.HTML object>",
      "text/html": "<h3>Run history:</h3><br/><style>\n    table.wandb td:nth-child(1) { padding: 0 10px; text-align: right }\n    </style><table class=\"wandb\">\n<tr><td>epoch</td><td>▁▁▁▁▂▂▂▂▂▃▃▃▃▃▃▄▄▄▄▄▅▅▅▅▅▅▆▆▆▆▆▆▇▇▇▇▇███</td></tr><tr><td>loss</td><td>█▁▁▁▁▁▁▁▁▁▁▁▁▁▁▁▁▁▁▁▁▁▁▁▁▁▁▁▁▁▁▁▁▁▁▁▁▁▁▁</td></tr><tr><td>accuracy</td><td>▁███████████████████████████████████████</td></tr><tr><td>val_loss</td><td>▂▄▂▃▆▄▄▄▃▂▅▆█▂▄▂▃▃▄▄▁▂▂▂▂▂▂▂▁▃▃▂▂▁▁▃▄▃▃▂</td></tr><tr><td>val_accuracy</td><td>▅▃▅▅▂▄▄▅▄▅▅▄▁▇▄▄▅▆▃▃▇▇▇▇▇▇▇▇▇▆▆▆▇█▇▅▄▇▇█</td></tr><tr><td>_step</td><td>▁▁▁▁▂▂▂▂▂▃▃▃▃▃▃▄▄▄▄▄▅▅▅▅▅▅▆▆▆▆▆▆▇▇▇▇▇███</td></tr><tr><td>_runtime</td><td>▁▁▁▁▂▂▂▂▂▃▃▃▃▃▃▄▄▄▄▄▅▅▅▅▅▆▆▆▆▆▆▇▇▇▇▇████</td></tr><tr><td>_timestamp</td><td>▁▁▁▁▂▂▂▂▂▃▃▃▃▃▃▄▄▄▄▄▅▅▅▅▅▆▆▆▆▆▆▇▇▇▇▇████</td></tr><tr><td>num_classes</td><td>▁</td></tr></table><br/>"
     },
     "metadata": {}
    },
    {
     "output_type": "display_data",
     "data": {
      "text/plain": "<IPython.core.display.HTML object>",
      "text/html": "Synced 5 W&B file(s), 1 media file(s), 0 artifact file(s) and 1 other file(s)"
     },
     "metadata": {}
    },
    {
     "output_type": "display_data",
     "data": {
      "text/plain": "<IPython.core.display.HTML object>",
      "text/html": "\n                    <br/>Synced <strong style=\"color:#cdcd00\">decent-donkey-24</strong>: <a href=\"https://wandb.ai/supervisedlearning/CNN%20all%20test%20set%20experiments/runs/1rap3hv8\" target=\"_blank\">https://wandb.ai/supervisedlearning/CNN%20all%20test%20set%20experiments/runs/1rap3hv8</a><br/>\n                "
     },
     "metadata": {}
    },
    {
     "output_type": "stream",
     "name": "stderr",
     "text": [
      "wandb: wandb version 0.10.12 is available!  To upgrade, please run:\nwandb:  $ pip install wandb --upgrade\n"
     ]
    },
    {
     "output_type": "display_data",
     "data": {
      "text/plain": "<IPython.core.display.HTML object>",
      "text/html": "\n                Tracking run with wandb version 0.10.8<br/>\n                Syncing run <strong style=\"color:#cdcd00\">laced-smoke-25</strong> to <a href=\"https://wandb.ai\" target=\"_blank\">Weights & Biases</a> <a href=\"https://docs.wandb.com/integrations/jupyter.html\" target=\"_blank\">(Documentation)</a>.<br/>\n                Project page: <a href=\"https://wandb.ai/supervisedlearning/CNN%20all%20test%20set%20experiments\" target=\"_blank\">https://wandb.ai/supervisedlearning/CNN%20all%20test%20set%20experiments</a><br/>\n                Run page: <a href=\"https://wandb.ai/supervisedlearning/CNN%20all%20test%20set%20experiments/runs/2z0aa80p\" target=\"_blank\">https://wandb.ai/supervisedlearning/CNN%20all%20test%20set%20experiments/runs/2z0aa80p</a><br/>\n                Run data is saved locally in <code>wandb\\run-20201205_140027-2z0aa80p</code><br/><br/>\n            "
     },
     "metadata": {}
    },
    {
     "output_type": "stream",
     "name": "stdout",
     "text": [
      "Train on 9690 samples, validate on 3090 samples\n",
      "Epoch 1/50\n",
      "9690/9690 [==============================] - 2s 209us/sample - loss: 0.8085 - accuracy: 0.9787 - val_loss: 0.1647 - val_accuracy: 0.9861\n",
      "Epoch 2/50\n",
      "9690/9690 [==============================] - 2s 205us/sample - loss: 0.0026 - accuracy: 0.9994 - val_loss: 0.1392 - val_accuracy: 0.9926\n",
      "Epoch 3/50\n",
      "9690/9690 [==============================] - 2s 202us/sample - loss: 1.7250e-04 - accuracy: 0.9999 - val_loss: 0.1117 - val_accuracy: 0.9942\n",
      "Epoch 4/50\n",
      "9690/9690 [==============================] - 2s 196us/sample - loss: 0.0037 - accuracy: 0.9994 - val_loss: 0.2666 - val_accuracy: 0.9809\n",
      "Epoch 5/50\n",
      "9690/9690 [==============================] - 2s 205us/sample - loss: 0.0039 - accuracy: 0.9994 - val_loss: 0.0573 - val_accuracy: 0.9961\n",
      "Epoch 6/50\n",
      "9690/9690 [==============================] - 2s 199us/sample - loss: 4.8975e-07 - accuracy: 1.0000 - val_loss: 0.0724 - val_accuracy: 0.9961\n",
      "Epoch 7/50\n",
      "9690/9690 [==============================] - 2s 214us/sample - loss: 3.2676e-04 - accuracy: 0.9999 - val_loss: 0.1117 - val_accuracy: 0.9883\n",
      "Epoch 8/50\n",
      "9690/9690 [==============================] - 2s 205us/sample - loss: 2.7384e-04 - accuracy: 0.9999 - val_loss: 0.0515 - val_accuracy: 0.9971\n",
      "Epoch 9/50\n",
      "9690/9690 [==============================] - 2s 196us/sample - loss: 4.5409e-05 - accuracy: 1.0000 - val_loss: 0.0741 - val_accuracy: 0.9948\n",
      "Epoch 10/50\n",
      "9690/9690 [==============================] - 2s 209us/sample - loss: 4.3711e-04 - accuracy: 0.9999 - val_loss: 0.2127 - val_accuracy: 0.9929\n",
      "Epoch 11/50\n",
      "9690/9690 [==============================] - 2s 198us/sample - loss: 0.0044 - accuracy: 0.9997 - val_loss: 0.1534 - val_accuracy: 0.9942\n",
      "Epoch 12/50\n",
      "9690/9690 [==============================] - 2s 198us/sample - loss: 5.7261e-04 - accuracy: 0.9999 - val_loss: 0.1382 - val_accuracy: 0.9935\n",
      "Epoch 13/50\n",
      "9690/9690 [==============================] - 2s 204us/sample - loss: 1.9448e-08 - accuracy: 1.0000 - val_loss: 0.1041 - val_accuracy: 0.9951\n",
      "Epoch 14/50\n",
      "9690/9690 [==============================] - 2s 202us/sample - loss: 5.1322e-07 - accuracy: 1.0000 - val_loss: 0.1193 - val_accuracy: 0.9964\n",
      "Epoch 15/50\n",
      "9690/9690 [==============================] - 2s 202us/sample - loss: 4.0598e-10 - accuracy: 1.0000 - val_loss: 0.1077 - val_accuracy: 0.9961\n",
      "Epoch 16/50\n",
      "9690/9690 [==============================] - 2s 202us/sample - loss: 1.3902e-09 - accuracy: 1.0000 - val_loss: 0.0721 - val_accuracy: 0.9961\n",
      "Epoch 17/50\n",
      "9690/9690 [==============================] - 2s 211us/sample - loss: 2.0184e-07 - accuracy: 1.0000 - val_loss: 0.3353 - val_accuracy: 0.9874\n",
      "Epoch 18/50\n",
      "9690/9690 [==============================] - 2s 206us/sample - loss: 0.0048 - accuracy: 0.9993 - val_loss: 0.1610 - val_accuracy: 0.9939\n",
      "Epoch 19/50\n",
      "9690/9690 [==============================] - 2s 203us/sample - loss: 0.0017 - accuracy: 0.9998 - val_loss: 0.1270 - val_accuracy: 0.9955\n",
      "Epoch 20/50\n",
      "9690/9690 [==============================] - 2s 200us/sample - loss: 8.4546e-07 - accuracy: 1.0000 - val_loss: 0.1412 - val_accuracy: 0.9961\n",
      "Epoch 21/50\n",
      "9690/9690 [==============================] - 2s 203us/sample - loss: 0.0000e+00 - accuracy: 1.0000 - val_loss: 0.1449 - val_accuracy: 0.9958\n",
      "Epoch 22/50\n",
      "9690/9690 [==============================] - 2s 195us/sample - loss: 0.0000e+00 - accuracy: 1.0000 - val_loss: 0.1491 - val_accuracy: 0.9951\n",
      "Epoch 23/50\n",
      "9690/9690 [==============================] - 2s 200us/sample - loss: 0.0022 - accuracy: 0.9998 - val_loss: 0.1394 - val_accuracy: 0.9961\n",
      "Epoch 24/50\n",
      "9690/9690 [==============================] - 2s 197us/sample - loss: 1.2302e-11 - accuracy: 1.0000 - val_loss: 0.1353 - val_accuracy: 0.9961\n",
      "Epoch 25/50\n",
      "9690/9690 [==============================] - 2s 200us/sample - loss: 1.2302e-11 - accuracy: 1.0000 - val_loss: 0.1554 - val_accuracy: 0.9951\n",
      "Epoch 26/50\n",
      "9690/9690 [==============================] - 2s 198us/sample - loss: 1.2302e-11 - accuracy: 1.0000 - val_loss: 0.1682 - val_accuracy: 0.9955\n",
      "Epoch 27/50\n",
      "9690/9690 [==============================] - 2s 199us/sample - loss: 1.4763e-10 - accuracy: 1.0000 - val_loss: 0.1226 - val_accuracy: 0.9968\n",
      "Epoch 28/50\n",
      "9690/9690 [==============================] - 2s 196us/sample - loss: 5.6343e-09 - accuracy: 1.0000 - val_loss: 0.1713 - val_accuracy: 0.9942\n",
      "Epoch 29/50\n",
      "9690/9690 [==============================] - 2s 199us/sample - loss: 0.0069 - accuracy: 0.9996 - val_loss: 0.1547 - val_accuracy: 0.9942\n",
      "Epoch 30/50\n",
      "9690/9690 [==============================] - 2s 202us/sample - loss: 2.9265e-05 - accuracy: 1.0000 - val_loss: 0.2009 - val_accuracy: 0.9945\n",
      "Epoch 31/50\n",
      "9690/9690 [==============================] - 2s 204us/sample - loss: 3.5677e-10 - accuracy: 1.0000 - val_loss: 0.1827 - val_accuracy: 0.9939\n",
      "Epoch 32/50\n",
      "9690/9690 [==============================] - 2s 202us/sample - loss: 0.0000e+00 - accuracy: 1.0000 - val_loss: 0.2116 - val_accuracy: 0.9942\n",
      "Epoch 33/50\n",
      "9690/9690 [==============================] - 2s 199us/sample - loss: 3.9367e-10 - accuracy: 1.0000 - val_loss: 0.2702 - val_accuracy: 0.9935\n",
      "Epoch 34/50\n",
      "9690/9690 [==============================] - 2s 193us/sample - loss: 2.5721e-08 - accuracy: 1.0000 - val_loss: 0.2927 - val_accuracy: 0.9922\n",
      "Epoch 35/50\n",
      "9690/9690 [==============================] - 2s 197us/sample - loss: 0.0023 - accuracy: 0.9999 - val_loss: 0.1620 - val_accuracy: 0.9951\n",
      "Epoch 36/50\n",
      "9690/9690 [==============================] - 2s 195us/sample - loss: 0.0000e+00 - accuracy: 1.0000 - val_loss: 0.1638 - val_accuracy: 0.9948\n",
      "Epoch 37/50\n",
      "9690/9690 [==============================] - 2s 202us/sample - loss: 1.4763e-10 - accuracy: 1.0000 - val_loss: 0.1941 - val_accuracy: 0.9945\n",
      "Epoch 38/50\n",
      "9690/9690 [==============================] - 2s 200us/sample - loss: 2.3866e-09 - accuracy: 1.0000 - val_loss: 0.2103 - val_accuracy: 0.9929\n",
      "Epoch 39/50\n",
      "9690/9690 [==============================] - 2s 205us/sample - loss: 4.8017e-05 - accuracy: 1.0000 - val_loss: 0.2319 - val_accuracy: 0.9939\n",
      "Epoch 40/50\n",
      "9690/9690 [==============================] - 2s 200us/sample - loss: 1.0097e-06 - accuracy: 1.0000 - val_loss: 0.1237 - val_accuracy: 0.9964\n",
      "Epoch 41/50\n",
      "9690/9690 [==============================] - 2s 202us/sample - loss: 0.0000e+00 - accuracy: 1.0000 - val_loss: 0.1310 - val_accuracy: 0.9961\n",
      "Epoch 42/50\n",
      "9690/9690 [==============================] - 2s 205us/sample - loss: 2.4605e-11 - accuracy: 1.0000 - val_loss: 0.1296 - val_accuracy: 0.9958\n",
      "Epoch 43/50\n",
      "9690/9690 [==============================] - 2s 204us/sample - loss: 0.0000e+00 - accuracy: 1.0000 - val_loss: 0.1395 - val_accuracy: 0.9955\n",
      "Epoch 44/50\n",
      "9690/9690 [==============================] - 2s 204us/sample - loss: 0.0000e+00 - accuracy: 1.0000 - val_loss: 0.1358 - val_accuracy: 0.9958\n",
      "Epoch 45/50\n",
      "9690/9690 [==============================] - 2s 212us/sample - loss: 0.0000e+00 - accuracy: 1.0000 - val_loss: 0.1379 - val_accuracy: 0.9958\n",
      "Epoch 46/50\n",
      "9690/9690 [==============================] - 2s 202us/sample - loss: 0.0000e+00 - accuracy: 1.0000 - val_loss: 0.1402 - val_accuracy: 0.9955\n",
      "Epoch 47/50\n",
      "9690/9690 [==============================] - 2s 202us/sample - loss: 0.0000e+00 - accuracy: 1.0000 - val_loss: 0.1478 - val_accuracy: 0.9958\n",
      "Epoch 48/50\n",
      "9690/9690 [==============================] - 2s 203us/sample - loss: 0.0000e+00 - accuracy: 1.0000 - val_loss: 0.1526 - val_accuracy: 0.9958\n",
      "Epoch 49/50\n",
      "9690/9690 [==============================] - 2s 208us/sample - loss: 0.0000e+00 - accuracy: 1.0000 - val_loss: 0.1511 - val_accuracy: 0.9958\n",
      "Epoch 50/50\n",
      "9690/9690 [==============================] - 2s 199us/sample - loss: 0.0000e+00 - accuracy: 1.0000 - val_loss: 0.1444 - val_accuracy: 0.9958\n"
     ]
    },
    {
     "output_type": "display_data",
     "data": {
      "text/plain": "<IPython.core.display.HTML object>",
      "text/html": "<br/>Waiting for W&B process to finish, PID 30868<br/>Program ended successfully."
     },
     "metadata": {}
    },
    {
     "output_type": "display_data",
     "data": {
      "text/plain": "<IPython.core.display.HTML object>",
      "text/html": "Find user logs for this run at: <code>wandb\\run-20201205_140027-2z0aa80p\\logs\\debug.log</code>"
     },
     "metadata": {}
    },
    {
     "output_type": "display_data",
     "data": {
      "text/plain": "<IPython.core.display.HTML object>",
      "text/html": "Find internal logs for this run at: <code>wandb\\run-20201205_140027-2z0aa80p\\logs\\debug-internal.log</code>"
     },
     "metadata": {}
    },
    {
     "output_type": "display_data",
     "data": {
      "text/plain": "<IPython.core.display.HTML object>",
      "text/html": "<h3>Run summary:</h3><br/><style>\n    table.wandb td:nth-child(1) { padding: 0 10px; text-align: right }\n    </style><table class=\"wandb\">\n<tr><td>epoch</td><td>49</td></tr><tr><td>loss</td><td>0.0</td></tr><tr><td>accuracy</td><td>1.0</td></tr><tr><td>val_loss</td><td>0.14436</td></tr><tr><td>val_accuracy</td><td>0.99579</td></tr><tr><td>_step</td><td>50</td></tr><tr><td>_runtime</td><td>100</td></tr><tr><td>_timestamp</td><td>1607176927</td></tr><tr><td>best_val_loss</td><td>0.05147</td></tr><tr><td>best_epoch</td><td>7</td></tr><tr><td>Label_class</td><td>speed limit 70</td></tr><tr><td>num_classes</td><td>2</td></tr></table>"
     },
     "metadata": {}
    },
    {
     "output_type": "display_data",
     "data": {
      "text/plain": "<IPython.core.display.HTML object>",
      "text/html": "<h3>Run history:</h3><br/><style>\n    table.wandb td:nth-child(1) { padding: 0 10px; text-align: right }\n    </style><table class=\"wandb\">\n<tr><td>epoch</td><td>▁▁▁▁▂▂▂▂▂▃▃▃▃▃▃▄▄▄▄▄▅▅▅▅▅▅▆▆▆▆▆▆▇▇▇▇▇███</td></tr><tr><td>loss</td><td>█▁▁▁▁▁▁▁▁▁▁▁▁▁▁▁▁▁▁▁▁▁▁▁▁▁▁▁▁▁▁▁▁▁▁▁▁▁▁▁</td></tr><tr><td>accuracy</td><td>▁███████████████████████████████████████</td></tr><tr><td>val_loss</td><td>▄▃▂▆▂▂▁▂▄▃▂▃▂█▄▃▃▃▃▃▄▃▄▄▄▅▆▇▄▅▅▅▃▃▃▃▃▃▃▃</td></tr><tr><td>val_accuracy</td><td>▃▆▇▁█▄█▇▇▆▇██▄▇▇▇▇██▇█▇▇▇▇▆▆▇▇▆▇█▇▇▇▇▇▇▇</td></tr><tr><td>_step</td><td>▁▁▁▁▂▂▂▂▂▃▃▃▃▃▃▄▄▄▄▄▅▅▅▅▅▅▆▆▆▆▆▆▇▇▇▇▇███</td></tr><tr><td>_runtime</td><td>▁▁▁▁▂▂▂▂▂▃▃▃▃▃▃▄▄▄▄▄▅▅▅▅▅▆▆▆▆▆▆▇▇▇▇▇████</td></tr><tr><td>_timestamp</td><td>▁▁▁▁▂▂▂▂▂▃▃▃▃▃▃▄▄▄▄▄▅▅▅▅▅▆▆▆▆▆▆▇▇▇▇▇████</td></tr><tr><td>num_classes</td><td>▁</td></tr></table><br/>"
     },
     "metadata": {}
    },
    {
     "output_type": "display_data",
     "data": {
      "text/plain": "<IPython.core.display.HTML object>",
      "text/html": "Synced 5 W&B file(s), 1 media file(s), 0 artifact file(s) and 1 other file(s)"
     },
     "metadata": {}
    },
    {
     "output_type": "display_data",
     "data": {
      "text/plain": "<IPython.core.display.HTML object>",
      "text/html": "\n                    <br/>Synced <strong style=\"color:#cdcd00\">laced-smoke-25</strong>: <a href=\"https://wandb.ai/supervisedlearning/CNN%20all%20test%20set%20experiments/runs/2z0aa80p\" target=\"_blank\">https://wandb.ai/supervisedlearning/CNN%20all%20test%20set%20experiments/runs/2z0aa80p</a><br/>\n                "
     },
     "metadata": {}
    },
    {
     "output_type": "stream",
     "name": "stderr",
     "text": [
      "wandb: wandb version 0.10.12 is available!  To upgrade, please run:\nwandb:  $ pip install wandb --upgrade\n"
     ]
    },
    {
     "output_type": "display_data",
     "data": {
      "text/plain": "<IPython.core.display.HTML object>",
      "text/html": "\n                Tracking run with wandb version 0.10.8<br/>\n                Syncing run <strong style=\"color:#cdcd00\">snowy-water-26</strong> to <a href=\"https://wandb.ai\" target=\"_blank\">Weights & Biases</a> <a href=\"https://docs.wandb.com/integrations/jupyter.html\" target=\"_blank\">(Documentation)</a>.<br/>\n                Project page: <a href=\"https://wandb.ai/supervisedlearning/CNN%20all%20test%20set%20experiments\" target=\"_blank\">https://wandb.ai/supervisedlearning/CNN%20all%20test%20set%20experiments</a><br/>\n                Run page: <a href=\"https://wandb.ai/supervisedlearning/CNN%20all%20test%20set%20experiments/runs/ca7jfom8\" target=\"_blank\">https://wandb.ai/supervisedlearning/CNN%20all%20test%20set%20experiments/runs/ca7jfom8</a><br/>\n                Run data is saved locally in <code>wandb\\run-20201205_140215-ca7jfom8</code><br/><br/>\n            "
     },
     "metadata": {}
    },
    {
     "output_type": "stream",
     "name": "stdout",
     "text": [
      "Train on 9690 samples, validate on 3090 samples\n",
      "Epoch 1/50\n",
      "9690/9690 [==============================] - 2s 206us/sample - loss: 0.3640 - accuracy: 0.9944 - val_loss: 0.0146 - val_accuracy: 0.9968\n",
      "Epoch 2/50\n",
      "9690/9690 [==============================] - 2s 201us/sample - loss: 0.0062 - accuracy: 0.9995 - val_loss: 1.3443e-06 - val_accuracy: 1.0000\n",
      "Epoch 3/50\n",
      "9690/9690 [==============================] - 2s 201us/sample - loss: 1.6006e-05 - accuracy: 1.0000 - val_loss: 0.0000e+00 - val_accuracy: 1.0000\n",
      "Epoch 4/50\n",
      "9690/9690 [==============================] - 2s 205us/sample - loss: 3.3831e-09 - accuracy: 1.0000 - val_loss: 6.6742e-09 - val_accuracy: 1.0000\n",
      "Epoch 5/50\n",
      "9690/9690 [==============================] - 2s 204us/sample - loss: 0.0000e+00 - accuracy: 1.0000 - val_loss: 1.1574e-10 - val_accuracy: 1.0000\n",
      "Epoch 6/50\n",
      "9690/9690 [==============================] - 2s 202us/sample - loss: 8.7171e-05 - accuracy: 0.9999 - val_loss: 4.0508e-09 - val_accuracy: 1.0000\n",
      "Epoch 7/50\n",
      "9690/9690 [==============================] - 2s 213us/sample - loss: 1.4763e-10 - accuracy: 1.0000 - val_loss: 3.8579e-11 - val_accuracy: 1.0000\n",
      "Epoch 8/50\n",
      "9690/9690 [==============================] - 2s 207us/sample - loss: 0.0000e+00 - accuracy: 1.0000 - val_loss: 0.0000e+00 - val_accuracy: 1.0000\n",
      "Epoch 9/50\n",
      "9690/9690 [==============================] - 2s 211us/sample - loss: 3.9244e-09 - accuracy: 1.0000 - val_loss: 5.4011e-10 - val_accuracy: 1.0000\n",
      "Epoch 10/50\n",
      "9690/9690 [==============================] - 2s 211us/sample - loss: 8.8864e-07 - accuracy: 1.0000 - val_loss: 5.7867e-08 - val_accuracy: 1.0000\n",
      "Epoch 11/50\n",
      "9690/9690 [==============================] - 2s 201us/sample - loss: 1.7223e-10 - accuracy: 1.0000 - val_loss: 3.2985e-08 - val_accuracy: 1.0000\n",
      "Epoch 12/50\n",
      "9690/9690 [==============================] - 2s 199us/sample - loss: 1.1219e-08 - accuracy: 1.0000 - val_loss: 5.5554e-09 - val_accuracy: 1.0000\n",
      "Epoch 13/50\n",
      "9690/9690 [==============================] - 2s 199us/sample - loss: 2.0914e-10 - accuracy: 1.0000 - val_loss: 1.5432e-10 - val_accuracy: 1.0000\n",
      "Epoch 14/50\n",
      "9690/9690 [==============================] - 2s 195us/sample - loss: 5.3637e-09 - accuracy: 1.0000 - val_loss: 0.0000e+00 - val_accuracy: 1.0000\n",
      "Epoch 15/50\n",
      "9690/9690 [==============================] - 2s 202us/sample - loss: 2.4605e-11 - accuracy: 1.0000 - val_loss: 0.0000e+00 - val_accuracy: 1.0000\n",
      "Epoch 16/50\n",
      "9690/9690 [==============================] - 2s 201us/sample - loss: 2.7065e-10 - accuracy: 1.0000 - val_loss: 0.0000e+00 - val_accuracy: 1.0000\n",
      "Epoch 17/50\n",
      "9690/9690 [==============================] - 2s 200us/sample - loss: 4.9209e-11 - accuracy: 1.0000 - val_loss: 0.0000e+00 - val_accuracy: 1.0000\n",
      "Epoch 18/50\n",
      "9690/9690 [==============================] - 2s 201us/sample - loss: 0.0000e+00 - accuracy: 1.0000 - val_loss: 0.0000e+00 - val_accuracy: 1.0000\n",
      "Epoch 19/50\n",
      "9690/9690 [==============================] - 2s 194us/sample - loss: 0.0000e+00 - accuracy: 1.0000 - val_loss: 0.0000e+00 - val_accuracy: 1.0000\n",
      "Epoch 20/50\n",
      "9690/9690 [==============================] - 2s 204us/sample - loss: 0.0000e+00 - accuracy: 1.0000 - val_loss: 0.0000e+00 - val_accuracy: 1.0000\n",
      "Epoch 21/50\n",
      "9690/9690 [==============================] - 2s 206us/sample - loss: 6.5202e-10 - accuracy: 1.0000 - val_loss: 4.2822e-09 - val_accuracy: 1.0000\n",
      "Epoch 22/50\n",
      "9690/9690 [==============================] - 2s 211us/sample - loss: 0.0000e+00 - accuracy: 1.0000 - val_loss: 1.1998e-08 - val_accuracy: 1.0000\n",
      "Epoch 23/50\n",
      "9690/9690 [==============================] - 2s 197us/sample - loss: 3.6907e-11 - accuracy: 1.0000 - val_loss: 3.8579e-11 - val_accuracy: 1.0000\n",
      "Epoch 24/50\n",
      "9690/9690 [==============================] - 2s 210us/sample - loss: 0.0000e+00 - accuracy: 1.0000 - val_loss: 3.8579e-11 - val_accuracy: 1.0000\n",
      "Epoch 25/50\n",
      "9690/9690 [==============================] - 2s 198us/sample - loss: 0.0000e+00 - accuracy: 1.0000 - val_loss: 0.0000e+00 - val_accuracy: 1.0000\n",
      "Epoch 26/50\n",
      "9690/9690 [==============================] - 2s 201us/sample - loss: 1.2302e-11 - accuracy: 1.0000 - val_loss: 3.8579e-11 - val_accuracy: 1.0000\n",
      "Epoch 27/50\n",
      "9690/9690 [==============================] - 2s 196us/sample - loss: 0.0000e+00 - accuracy: 1.0000 - val_loss: 3.8579e-11 - val_accuracy: 1.0000\n",
      "Epoch 28/50\n",
      "9690/9690 [==============================] - 2s 200us/sample - loss: 0.0000e+00 - accuracy: 1.0000 - val_loss: 3.8579e-11 - val_accuracy: 1.0000\n",
      "Epoch 29/50\n",
      "9690/9690 [==============================] - 2s 202us/sample - loss: 0.0000e+00 - accuracy: 1.0000 - val_loss: 3.8579e-11 - val_accuracy: 1.0000\n",
      "Epoch 30/50\n",
      "9690/9690 [==============================] - 2s 203us/sample - loss: 0.0000e+00 - accuracy: 1.0000 - val_loss: 3.8579e-11 - val_accuracy: 1.0000\n",
      "Epoch 31/50\n",
      "9690/9690 [==============================] - 2s 197us/sample - loss: 0.0000e+00 - accuracy: 1.0000 - val_loss: 3.8579e-11 - val_accuracy: 1.0000\n",
      "Epoch 32/50\n",
      "9690/9690 [==============================] - 2s 204us/sample - loss: 0.0000e+00 - accuracy: 1.0000 - val_loss: 3.8579e-11 - val_accuracy: 1.0000\n",
      "Epoch 33/50\n",
      "9690/9690 [==============================] - 2s 205us/sample - loss: 0.0000e+00 - accuracy: 1.0000 - val_loss: 3.8579e-11 - val_accuracy: 1.0000\n",
      "Epoch 34/50\n",
      "9690/9690 [==============================] - 2s 201us/sample - loss: 0.0000e+00 - accuracy: 1.0000 - val_loss: 0.0000e+00 - val_accuracy: 1.0000\n",
      "Epoch 35/50\n",
      "9690/9690 [==============================] - 2s 205us/sample - loss: 0.0000e+00 - accuracy: 1.0000 - val_loss: 0.0000e+00 - val_accuracy: 1.0000\n",
      "Epoch 36/50\n",
      "9690/9690 [==============================] - 2s 201us/sample - loss: 0.0000e+00 - accuracy: 1.0000 - val_loss: 0.0000e+00 - val_accuracy: 1.0000\n",
      "Epoch 37/50\n",
      "9690/9690 [==============================] - 2s 204us/sample - loss: 2.4605e-11 - accuracy: 1.0000 - val_loss: 0.0000e+00 - val_accuracy: 1.0000\n",
      "Epoch 38/50\n",
      "9690/9690 [==============================] - 2s 196us/sample - loss: 0.0000e+00 - accuracy: 1.0000 - val_loss: 1.1574e-10 - val_accuracy: 1.0000\n",
      "Epoch 39/50\n",
      "9690/9690 [==============================] - 2s 197us/sample - loss: 0.0000e+00 - accuracy: 1.0000 - val_loss: 7.7158e-11 - val_accuracy: 1.0000\n",
      "Epoch 40/50\n",
      "9690/9690 [==============================] - 2s 203us/sample - loss: 0.0000e+00 - accuracy: 1.0000 - val_loss: 7.7158e-11 - val_accuracy: 1.0000\n",
      "Epoch 41/50\n",
      "9690/9690 [==============================] - 2s 209us/sample - loss: 0.0000e+00 - accuracy: 1.0000 - val_loss: 3.8579e-11 - val_accuracy: 1.0000\n",
      "Epoch 42/50\n",
      "9690/9690 [==============================] - 2s 202us/sample - loss: 4.7979e-10 - accuracy: 1.0000 - val_loss: 0.0000e+00 - val_accuracy: 1.0000\n",
      "Epoch 43/50\n",
      "9690/9690 [==============================] - 2s 205us/sample - loss: 0.0000e+00 - accuracy: 1.0000 - val_loss: 0.0000e+00 - val_accuracy: 1.0000\n",
      "Epoch 44/50\n",
      "9690/9690 [==============================] - 2s 197us/sample - loss: 0.0000e+00 - accuracy: 1.0000 - val_loss: 0.0000e+00 - val_accuracy: 1.0000\n",
      "Epoch 45/50\n",
      "9690/9690 [==============================] - 2s 202us/sample - loss: 0.0000e+00 - accuracy: 1.0000 - val_loss: 0.0000e+00 - val_accuracy: 1.0000\n",
      "Epoch 46/50\n",
      "9690/9690 [==============================] - 2s 198us/sample - loss: 1.2302e-11 - accuracy: 1.0000 - val_loss: 0.0000e+00 - val_accuracy: 1.0000\n",
      "Epoch 47/50\n",
      "9690/9690 [==============================] - 2s 204us/sample - loss: 7.6167e-05 - accuracy: 0.9999 - val_loss: 0.0000e+00 - val_accuracy: 1.0000\n",
      "Epoch 48/50\n",
      "9690/9690 [==============================] - 2s 203us/sample - loss: 7.4525e-04 - accuracy: 0.9999 - val_loss: 1.2692e-08 - val_accuracy: 1.0000\n",
      "Epoch 49/50\n",
      "9690/9690 [==============================] - 2s 198us/sample - loss: 1.3040e-09 - accuracy: 1.0000 - val_loss: 0.0000e+00 - val_accuracy: 1.0000\n",
      "Epoch 50/50\n",
      "9690/9690 [==============================] - 2s 199us/sample - loss: 0.0000e+00 - accuracy: 1.0000 - val_loss: 0.0000e+00 - val_accuracy: 1.0000\n"
     ]
    },
    {
     "output_type": "display_data",
     "data": {
      "text/plain": "<IPython.core.display.HTML object>",
      "text/html": "<br/>Waiting for W&B process to finish, PID 6044<br/>Program ended successfully."
     },
     "metadata": {}
    },
    {
     "output_type": "display_data",
     "data": {
      "text/plain": "<IPython.core.display.HTML object>",
      "text/html": "Find user logs for this run at: <code>wandb\\run-20201205_140215-ca7jfom8\\logs\\debug.log</code>"
     },
     "metadata": {}
    },
    {
     "output_type": "display_data",
     "data": {
      "text/plain": "<IPython.core.display.HTML object>",
      "text/html": "Find internal logs for this run at: <code>wandb\\run-20201205_140215-ca7jfom8\\logs\\debug-internal.log</code>"
     },
     "metadata": {}
    },
    {
     "output_type": "display_data",
     "data": {
      "text/plain": "<IPython.core.display.HTML object>",
      "text/html": "<h3>Run summary:</h3><br/><style>\n    table.wandb td:nth-child(1) { padding: 0 10px; text-align: right }\n    </style><table class=\"wandb\">\n<tr><td>epoch</td><td>49</td></tr><tr><td>loss</td><td>0.0</td></tr><tr><td>accuracy</td><td>1.0</td></tr><tr><td>val_loss</td><td>0.0</td></tr><tr><td>val_accuracy</td><td>1.0</td></tr><tr><td>_step</td><td>50</td></tr><tr><td>_runtime</td><td>100</td></tr><tr><td>_timestamp</td><td>1607177035</td></tr><tr><td>best_val_loss</td><td>0.0</td></tr><tr><td>best_epoch</td><td>6</td></tr><tr><td>Label_class</td><td>left turn</td></tr><tr><td>num_classes</td><td>2</td></tr></table>"
     },
     "metadata": {}
    },
    {
     "output_type": "display_data",
     "data": {
      "text/plain": "<IPython.core.display.HTML object>",
      "text/html": "<h3>Run history:</h3><br/><style>\n    table.wandb td:nth-child(1) { padding: 0 10px; text-align: right }\n    </style><table class=\"wandb\">\n<tr><td>epoch</td><td>▁▁▁▁▂▂▂▂▂▃▃▃▃▃▃▄▄▄▄▄▅▅▅▅▅▅▆▆▆▆▆▆▇▇▇▇▇███</td></tr><tr><td>loss</td><td>█▁▁▁▁▁▁▁▁▁▁▁▁▁▁▁▁▁▁▁▁▁▁▁▁▁▁▁▁▁▁▁▁▁▁▁▁▁▁▁</td></tr><tr><td>accuracy</td><td>▁▇██████████████████████████████████████</td></tr><tr><td>val_loss</td><td>█▁▁▁▁▁▁▁▁▁▁▁▁▁▁▁▁▁▁▁▁▁▁▁▁▁▁▁▁▁▁▁▁▁▁▁▁▁▁▁</td></tr><tr><td>val_accuracy</td><td>▁███████████████████████████████████████</td></tr><tr><td>_step</td><td>▁▁▁▁▂▂▂▂▂▃▃▃▃▃▃▄▄▄▄▄▅▅▅▅▅▅▆▆▆▆▆▆▇▇▇▇▇███</td></tr><tr><td>_runtime</td><td>▁▁▁▁▂▂▂▂▂▃▃▃▃▃▃▄▄▄▄▄▅▅▅▅▅▆▆▆▆▆▆▇▇▇▇▇████</td></tr><tr><td>_timestamp</td><td>▁▁▁▁▂▂▂▂▂▃▃▃▃▃▃▄▄▄▄▄▅▅▅▅▅▆▆▆▆▆▆▇▇▇▇▇████</td></tr><tr><td>num_classes</td><td>▁</td></tr></table><br/>"
     },
     "metadata": {}
    },
    {
     "output_type": "display_data",
     "data": {
      "text/plain": "<IPython.core.display.HTML object>",
      "text/html": "Synced 5 W&B file(s), 1 media file(s), 0 artifact file(s) and 1 other file(s)"
     },
     "metadata": {}
    },
    {
     "output_type": "display_data",
     "data": {
      "text/plain": "<IPython.core.display.HTML object>",
      "text/html": "\n                    <br/>Synced <strong style=\"color:#cdcd00\">snowy-water-26</strong>: <a href=\"https://wandb.ai/supervisedlearning/CNN%20all%20test%20set%20experiments/runs/ca7jfom8\" target=\"_blank\">https://wandb.ai/supervisedlearning/CNN%20all%20test%20set%20experiments/runs/ca7jfom8</a><br/>\n                "
     },
     "metadata": {}
    },
    {
     "output_type": "stream",
     "name": "stderr",
     "text": [
      "wandb: wandb version 0.10.12 is available!  To upgrade, please run:\nwandb:  $ pip install wandb --upgrade\n"
     ]
    },
    {
     "output_type": "display_data",
     "data": {
      "text/plain": "<IPython.core.display.HTML object>",
      "text/html": "\n                Tracking run with wandb version 0.10.8<br/>\n                Syncing run <strong style=\"color:#cdcd00\">dainty-leaf-27</strong> to <a href=\"https://wandb.ai\" target=\"_blank\">Weights & Biases</a> <a href=\"https://docs.wandb.com/integrations/jupyter.html\" target=\"_blank\">(Documentation)</a>.<br/>\n                Project page: <a href=\"https://wandb.ai/supervisedlearning/CNN%20all%20test%20set%20experiments\" target=\"_blank\">https://wandb.ai/supervisedlearning/CNN%20all%20test%20set%20experiments</a><br/>\n                Run page: <a href=\"https://wandb.ai/supervisedlearning/CNN%20all%20test%20set%20experiments/runs/1ydo6ld2\" target=\"_blank\">https://wandb.ai/supervisedlearning/CNN%20all%20test%20set%20experiments/runs/1ydo6ld2</a><br/>\n                Run data is saved locally in <code>wandb\\run-20201205_140404-1ydo6ld2</code><br/><br/>\n            "
     },
     "metadata": {}
    },
    {
     "output_type": "stream",
     "name": "stdout",
     "text": [
      "Train on 9690 samples, validate on 3090 samples\n",
      "Epoch 1/50\n",
      "9690/9690 [==============================] - 2s 208us/sample - loss: 0.2197 - accuracy: 0.9922 - val_loss: 0.0014 - val_accuracy: 0.9994\n",
      "Epoch 2/50\n",
      "9690/9690 [==============================] - 2s 204us/sample - loss: 0.0036 - accuracy: 0.9994 - val_loss: 0.0032 - val_accuracy: 0.9994\n",
      "Epoch 3/50\n",
      "9690/9690 [==============================] - 2s 200us/sample - loss: 6.7628e-06 - accuracy: 1.0000 - val_loss: 0.0254 - val_accuracy: 0.9977\n",
      "Epoch 4/50\n",
      "9690/9690 [==============================] - 2s 196us/sample - loss: 6.4772e-04 - accuracy: 0.9999 - val_loss: 0.0028 - val_accuracy: 0.9997\n",
      "Epoch 5/50\n",
      "9690/9690 [==============================] - 2s 204us/sample - loss: 5.4341e-04 - accuracy: 0.9999 - val_loss: 0.0182 - val_accuracy: 0.9981\n",
      "Epoch 6/50\n",
      "9690/9690 [==============================] - 2s 196us/sample - loss: 1.9804e-05 - accuracy: 1.0000 - val_loss: 0.0023 - val_accuracy: 0.9997\n",
      "Epoch 7/50\n",
      "9690/9690 [==============================] - 2s 200us/sample - loss: 8.2423e-09 - accuracy: 1.0000 - val_loss: 8.3330e-09 - val_accuracy: 1.0000\n",
      "Epoch 8/50\n",
      "9690/9690 [==============================] - 2s 201us/sample - loss: 0.0000e+00 - accuracy: 1.0000 - val_loss: 3.0863e-10 - val_accuracy: 1.0000\n",
      "Epoch 9/50\n",
      "9690/9690 [==============================] - 2s 202us/sample - loss: 1.2302e-11 - accuracy: 1.0000 - val_loss: 2.5615e-08 - val_accuracy: 1.0000\n",
      "Epoch 10/50\n",
      "9690/9690 [==============================] - 2s 196us/sample - loss: 0.0000e+00 - accuracy: 1.0000 - val_loss: 1.9675e-09 - val_accuracy: 1.0000\n",
      "Epoch 11/50\n",
      "9690/9690 [==============================] - 2s 199us/sample - loss: 0.0000e+00 - accuracy: 1.0000 - val_loss: 1.6589e-09 - val_accuracy: 1.0000\n",
      "Epoch 12/50\n",
      "9690/9690 [==============================] - 2s 203us/sample - loss: 1.0088e-09 - accuracy: 1.0000 - val_loss: 0.0083 - val_accuracy: 0.9984\n",
      "Epoch 13/50\n",
      "9690/9690 [==============================] - 2s 205us/sample - loss: 5.6590e-10 - accuracy: 1.0000 - val_loss: 1.4891e-08 - val_accuracy: 1.0000\n",
      "Epoch 14/50\n",
      "9690/9690 [==============================] - 2s 199us/sample - loss: 0.0000e+00 - accuracy: 1.0000 - val_loss: 1.7977e-08 - val_accuracy: 1.0000\n",
      "Epoch 15/50\n",
      "9690/9690 [==============================] - 2s 199us/sample - loss: 0.0000e+00 - accuracy: 1.0000 - val_loss: 1.6550e-08 - val_accuracy: 1.0000\n",
      "Epoch 16/50\n",
      "9690/9690 [==============================] - 2s 198us/sample - loss: 0.0000e+00 - accuracy: 1.0000 - val_loss: 1.7669e-08 - val_accuracy: 1.0000\n",
      "Epoch 17/50\n",
      "9690/9690 [==============================] - 2s 201us/sample - loss: 2.2144e-10 - accuracy: 1.0000 - val_loss: 1.8564e-05 - val_accuracy: 1.0000\n",
      "Epoch 18/50\n",
      "9690/9690 [==============================] - 2s 201us/sample - loss: 1.4763e-09 - accuracy: 1.0000 - val_loss: 2.9972e-04 - val_accuracy: 0.9997\n",
      "Epoch 19/50\n",
      "9690/9690 [==============================] - 2s 204us/sample - loss: 3.9901e-08 - accuracy: 1.0000 - val_loss: 2.0312e-07 - val_accuracy: 1.0000\n",
      "Epoch 20/50\n",
      "9690/9690 [==============================] - 2s 199us/sample - loss: 5.0316e-09 - accuracy: 1.0000 - val_loss: 1.0887e-05 - val_accuracy: 1.0000\n",
      "Epoch 21/50\n",
      "9690/9690 [==============================] - 2s 198us/sample - loss: 1.9684e-10 - accuracy: 1.0000 - val_loss: 5.2152e-07 - val_accuracy: 1.0000\n",
      "Epoch 22/50\n",
      "9690/9690 [==============================] - 2s 202us/sample - loss: 0.0000e+00 - accuracy: 1.0000 - val_loss: 8.8311e-07 - val_accuracy: 1.0000\n",
      "Epoch 23/50\n",
      "9690/9690 [==============================] - 2s 203us/sample - loss: 3.6907e-11 - accuracy: 1.0000 - val_loss: 4.0023e-06 - val_accuracy: 1.0000\n",
      "Epoch 24/50\n",
      "9690/9690 [==============================] - 2s 206us/sample - loss: 0.0000e+00 - accuracy: 1.0000 - val_loss: 4.1293e-06 - val_accuracy: 1.0000\n",
      "Epoch 25/50\n",
      "9690/9690 [==============================] - 2s 207us/sample - loss: 0.0000e+00 - accuracy: 1.0000 - val_loss: 4.6861e-06 - val_accuracy: 1.0000\n",
      "Epoch 26/50\n",
      "9690/9690 [==============================] - 2s 207us/sample - loss: 0.0000e+00 - accuracy: 1.0000 - val_loss: 2.9811e-06 - val_accuracy: 1.0000\n",
      "Epoch 27/50\n",
      "9690/9690 [==============================] - 2s 207us/sample - loss: 2.4605e-11 - accuracy: 1.0000 - val_loss: 9.6710e-06 - val_accuracy: 1.0000\n",
      "Epoch 28/50\n",
      "9690/9690 [==============================] - 2s 199us/sample - loss: 1.2302e-11 - accuracy: 1.0000 - val_loss: 9.5438e-07 - val_accuracy: 1.0000\n",
      "Epoch 29/50\n",
      "9690/9690 [==============================] - 2s 200us/sample - loss: 0.0000e+00 - accuracy: 1.0000 - val_loss: 7.7882e-07 - val_accuracy: 1.0000\n",
      "Epoch 30/50\n",
      "9690/9690 [==============================] - 2s 197us/sample - loss: 1.1072e-10 - accuracy: 1.0000 - val_loss: 6.8298e-05 - val_accuracy: 1.0000\n",
      "Epoch 31/50\n",
      "9690/9690 [==============================] - 2s 205us/sample - loss: 0.0000e+00 - accuracy: 1.0000 - val_loss: 1.6018e-05 - val_accuracy: 1.0000\n",
      "Epoch 32/50\n",
      "9690/9690 [==============================] - 2s 205us/sample - loss: 1.8453e-10 - accuracy: 1.0000 - val_loss: 8.0582e-08 - val_accuracy: 1.0000\n",
      "Epoch 33/50\n",
      "9690/9690 [==============================] - 2s 205us/sample - loss: 7.9965e-10 - accuracy: 1.0000 - val_loss: 8.4980e-04 - val_accuracy: 0.9997\n",
      "Epoch 34/50\n",
      "9690/9690 [==============================] - 2s 198us/sample - loss: 0.0000e+00 - accuracy: 1.0000 - val_loss: 5.7524e-04 - val_accuracy: 0.9997\n",
      "Epoch 35/50\n",
      "9690/9690 [==============================] - 2s 198us/sample - loss: 0.0000e+00 - accuracy: 1.0000 - val_loss: 4.3414e-04 - val_accuracy: 0.9997\n",
      "Epoch 36/50\n",
      "9690/9690 [==============================] - 2s 202us/sample - loss: 0.0000e+00 - accuracy: 1.0000 - val_loss: 4.2360e-04 - val_accuracy: 0.9997\n",
      "Epoch 37/50\n",
      "9690/9690 [==============================] - 2s 201us/sample - loss: 1.2302e-11 - accuracy: 1.0000 - val_loss: 0.0015 - val_accuracy: 0.9997\n",
      "Epoch 38/50\n",
      "9690/9690 [==============================] - 2s 205us/sample - loss: 0.0000e+00 - accuracy: 1.0000 - val_loss: 0.0014 - val_accuracy: 0.9997\n",
      "Epoch 39/50\n",
      "9690/9690 [==============================] - 2s 207us/sample - loss: 0.0000e+00 - accuracy: 1.0000 - val_loss: 0.0014 - val_accuracy: 0.9997\n",
      "Epoch 40/50\n",
      "9690/9690 [==============================] - 2s 205us/sample - loss: 0.0000e+00 - accuracy: 1.0000 - val_loss: 0.0013 - val_accuracy: 0.9997\n",
      "Epoch 41/50\n",
      "9690/9690 [==============================] - 2s 202us/sample - loss: 0.0000e+00 - accuracy: 1.0000 - val_loss: 0.0012 - val_accuracy: 0.9997\n",
      "Epoch 42/50\n",
      "9690/9690 [==============================] - 2s 204us/sample - loss: 0.0000e+00 - accuracy: 1.0000 - val_loss: 0.0011 - val_accuracy: 0.9997\n",
      "Epoch 43/50\n",
      "9690/9690 [==============================] - 2s 203us/sample - loss: 0.0000e+00 - accuracy: 1.0000 - val_loss: 0.0012 - val_accuracy: 0.9997\n",
      "Epoch 44/50\n",
      "9690/9690 [==============================] - 2s 204us/sample - loss: 0.0000e+00 - accuracy: 1.0000 - val_loss: 0.0012 - val_accuracy: 0.9997\n",
      "Epoch 45/50\n",
      "9690/9690 [==============================] - 2s 205us/sample - loss: 0.0000e+00 - accuracy: 1.0000 - val_loss: 1.4728e-04 - val_accuracy: 1.0000\n",
      "Epoch 46/50\n",
      "9690/9690 [==============================] - 2s 204us/sample - loss: 0.0000e+00 - accuracy: 1.0000 - val_loss: 4.5309e-04 - val_accuracy: 0.9997\n",
      "Epoch 47/50\n",
      "9690/9690 [==============================] - 2s 200us/sample - loss: 0.0000e+00 - accuracy: 1.0000 - val_loss: 3.8802e-04 - val_accuracy: 0.9997\n",
      "Epoch 48/50\n",
      "9690/9690 [==============================] - 2s 200us/sample - loss: 0.0000e+00 - accuracy: 1.0000 - val_loss: 4.3312e-04 - val_accuracy: 0.9997\n",
      "Epoch 49/50\n",
      "9690/9690 [==============================] - 2s 209us/sample - loss: 0.0000e+00 - accuracy: 1.0000 - val_loss: 3.7655e-04 - val_accuracy: 0.9997\n",
      "Epoch 50/50\n",
      "9690/9690 [==============================] - 2s 202us/sample - loss: 0.0000e+00 - accuracy: 1.0000 - val_loss: 3.7251e-04 - val_accuracy: 0.9997\n"
     ]
    },
    {
     "output_type": "display_data",
     "data": {
      "text/plain": "<IPython.core.display.HTML object>",
      "text/html": "<br/>Waiting for W&B process to finish, PID 5476<br/>Program ended successfully."
     },
     "metadata": {}
    },
    {
     "output_type": "display_data",
     "data": {
      "text/plain": "<IPython.core.display.HTML object>",
      "text/html": "Find user logs for this run at: <code>wandb\\run-20201205_140404-1ydo6ld2\\logs\\debug.log</code>"
     },
     "metadata": {}
    },
    {
     "output_type": "display_data",
     "data": {
      "text/plain": "<IPython.core.display.HTML object>",
      "text/html": "Find internal logs for this run at: <code>wandb\\run-20201205_140404-1ydo6ld2\\logs\\debug-internal.log</code>"
     },
     "metadata": {}
    },
    {
     "output_type": "display_data",
     "data": {
      "text/plain": "<IPython.core.display.HTML object>",
      "text/html": "<h3>Run summary:</h3><br/><style>\n    table.wandb td:nth-child(1) { padding: 0 10px; text-align: right }\n    </style><table class=\"wandb\">\n<tr><td>epoch</td><td>49</td></tr><tr><td>loss</td><td>0.0</td></tr><tr><td>accuracy</td><td>1.0</td></tr><tr><td>val_loss</td><td>0.00037</td></tr><tr><td>val_accuracy</td><td>0.99968</td></tr><tr><td>_step</td><td>50</td></tr><tr><td>_runtime</td><td>100</td></tr><tr><td>_timestamp</td><td>1607177144</td></tr><tr><td>best_val_loss</td><td>0.0</td></tr><tr><td>best_epoch</td><td>7</td></tr><tr><td>Label_class</td><td>right turn</td></tr><tr><td>num_classes</td><td>2</td></tr></table>"
     },
     "metadata": {}
    },
    {
     "output_type": "display_data",
     "data": {
      "text/plain": "<IPython.core.display.HTML object>",
      "text/html": "<h3>Run history:</h3><br/><style>\n    table.wandb td:nth-child(1) { padding: 0 10px; text-align: right }\n    </style><table class=\"wandb\">\n<tr><td>epoch</td><td>▁▁▁▁▂▂▂▂▂▃▃▃▃▃▃▄▄▄▄▄▅▅▅▅▅▅▆▆▆▆▆▆▇▇▇▇▇███</td></tr><tr><td>loss</td><td>█▁▁▁▁▁▁▁▁▁▁▁▁▁▁▁▁▁▁▁▁▁▁▁▁▁▁▁▁▁▁▁▁▁▁▁▁▁▁▁</td></tr><tr><td>accuracy</td><td>▁▇██████████████████████████████████████</td></tr><tr><td>val_loss</td><td>▁▂█▂▂▁▁▁▁▃▁▁▁▁▁▁▁▁▁▁▁▁▁▁▁▁▁▁▁▁▁▁▁▁▁▁▁▁▁▁</td></tr><tr><td>val_accuracy</td><td>▆▆▁▇▇████▃████▇███████████▇▇▇▇▇▇▇▇▇▇▇▇▇▇</td></tr><tr><td>_step</td><td>▁▁▁▁▂▂▂▂▂▃▃▃▃▃▃▄▄▄▄▄▅▅▅▅▅▅▆▆▆▆▆▆▇▇▇▇▇███</td></tr><tr><td>_runtime</td><td>▁▁▁▁▂▂▂▂▂▃▃▃▃▃▃▄▄▄▄▄▅▅▅▅▅▆▆▆▆▆▆▇▇▇▇▇████</td></tr><tr><td>_timestamp</td><td>▁▁▁▁▂▂▂▂▂▃▃▃▃▃▃▄▄▄▄▄▅▅▅▅▅▆▆▆▆▆▆▇▇▇▇▇████</td></tr><tr><td>num_classes</td><td>▁</td></tr></table><br/>"
     },
     "metadata": {}
    },
    {
     "output_type": "display_data",
     "data": {
      "text/plain": "<IPython.core.display.HTML object>",
      "text/html": "Synced 5 W&B file(s), 1 media file(s), 0 artifact file(s) and 1 other file(s)"
     },
     "metadata": {}
    },
    {
     "output_type": "display_data",
     "data": {
      "text/plain": "<IPython.core.display.HTML object>",
      "text/html": "\n                    <br/>Synced <strong style=\"color:#cdcd00\">dainty-leaf-27</strong>: <a href=\"https://wandb.ai/supervisedlearning/CNN%20all%20test%20set%20experiments/runs/1ydo6ld2\" target=\"_blank\">https://wandb.ai/supervisedlearning/CNN%20all%20test%20set%20experiments/runs/1ydo6ld2</a><br/>\n                "
     },
     "metadata": {}
    },
    {
     "output_type": "stream",
     "name": "stderr",
     "text": [
      "wandb: wandb version 0.10.12 is available!  To upgrade, please run:\nwandb:  $ pip install wandb --upgrade\n"
     ]
    },
    {
     "output_type": "display_data",
     "data": {
      "text/plain": "<IPython.core.display.HTML object>",
      "text/html": "\n                Tracking run with wandb version 0.10.8<br/>\n                Syncing run <strong style=\"color:#cdcd00\">rural-cosmos-28</strong> to <a href=\"https://wandb.ai\" target=\"_blank\">Weights & Biases</a> <a href=\"https://docs.wandb.com/integrations/jupyter.html\" target=\"_blank\">(Documentation)</a>.<br/>\n                Project page: <a href=\"https://wandb.ai/supervisedlearning/CNN%20all%20test%20set%20experiments\" target=\"_blank\">https://wandb.ai/supervisedlearning/CNN%20all%20test%20set%20experiments</a><br/>\n                Run page: <a href=\"https://wandb.ai/supervisedlearning/CNN%20all%20test%20set%20experiments/runs/2opm1vo1\" target=\"_blank\">https://wandb.ai/supervisedlearning/CNN%20all%20test%20set%20experiments/runs/2opm1vo1</a><br/>\n                Run data is saved locally in <code>wandb\\run-20201205_140552-2opm1vo1</code><br/><br/>\n            "
     },
     "metadata": {}
    },
    {
     "output_type": "stream",
     "name": "stdout",
     "text": [
      "Train on 9690 samples, validate on 3090 samples\n",
      "Epoch 1/50\n",
      "9690/9690 [==============================] - 2s 205us/sample - loss: 0.1307 - accuracy: 0.9935 - val_loss: 1.0236 - val_accuracy: 0.9903\n",
      "Epoch 2/50\n",
      "9690/9690 [==============================] - 2s 210us/sample - loss: 9.3606e-04 - accuracy: 0.9998 - val_loss: 0.9163 - val_accuracy: 0.9903\n",
      "Epoch 3/50\n",
      "9690/9690 [==============================] - 2s 201us/sample - loss: 4.0577e-05 - accuracy: 1.0000 - val_loss: 0.8643 - val_accuracy: 0.9903\n",
      "Epoch 4/50\n",
      "9690/9690 [==============================] - 2s 199us/sample - loss: 3.5061e-09 - accuracy: 1.0000 - val_loss: 1.0990 - val_accuracy: 0.9896\n",
      "Epoch 5/50\n",
      "9690/9690 [==============================] - 2s 201us/sample - loss: 4.6434e-04 - accuracy: 0.9999 - val_loss: 0.9288 - val_accuracy: 0.9903\n",
      "Epoch 6/50\n",
      "9690/9690 [==============================] - 2s 205us/sample - loss: 2.3468e-04 - accuracy: 0.9999 - val_loss: 0.7574 - val_accuracy: 0.9900\n",
      "Epoch 7/50\n",
      "9690/9690 [==============================] - 2s 200us/sample - loss: 3.6907e-11 - accuracy: 1.0000 - val_loss: 0.8419 - val_accuracy: 0.9900\n",
      "Epoch 8/50\n",
      "9690/9690 [==============================] - 2s 204us/sample - loss: 1.1072e-10 - accuracy: 1.0000 - val_loss: 0.8372 - val_accuracy: 0.9900\n",
      "Epoch 9/50\n",
      "9690/9690 [==============================] - 2s 196us/sample - loss: 0.0000e+00 - accuracy: 1.0000 - val_loss: 0.8509 - val_accuracy: 0.9900\n",
      "Epoch 10/50\n",
      "9690/9690 [==============================] - 2s 205us/sample - loss: 2.9339e-04 - accuracy: 0.9999 - val_loss: 1.1396 - val_accuracy: 0.9903\n",
      "Epoch 11/50\n",
      "9690/9690 [==============================] - 2s 205us/sample - loss: 4.9209e-11 - accuracy: 1.0000 - val_loss: 1.2059 - val_accuracy: 0.9903\n",
      "Epoch 12/50\n",
      "9690/9690 [==============================] - 2s 204us/sample - loss: 3.1986e-10 - accuracy: 1.0000 - val_loss: 1.1646 - val_accuracy: 0.9903\n",
      "Epoch 13/50\n",
      "9690/9690 [==============================] - 2s 202us/sample - loss: 1.2302e-10 - accuracy: 1.0000 - val_loss: 1.1675 - val_accuracy: 0.9903\n",
      "Epoch 14/50\n",
      "9690/9690 [==============================] - 2s 196us/sample - loss: 0.0000e+00 - accuracy: 1.0000 - val_loss: 1.1979 - val_accuracy: 0.9903\n",
      "Epoch 15/50\n",
      "9690/9690 [==============================] - 2s 199us/sample - loss: 0.0000e+00 - accuracy: 1.0000 - val_loss: 1.2067 - val_accuracy: 0.9903\n",
      "Epoch 16/50\n",
      "9690/9690 [==============================] - 2s 207us/sample - loss: 0.0000e+00 - accuracy: 1.0000 - val_loss: 1.2062 - val_accuracy: 0.9903\n",
      "Epoch 17/50\n",
      "9690/9690 [==============================] - 2s 202us/sample - loss: 0.0000e+00 - accuracy: 1.0000 - val_loss: 1.2068 - val_accuracy: 0.9903\n",
      "Epoch 18/50\n",
      "9690/9690 [==============================] - 2s 205us/sample - loss: 0.0000e+00 - accuracy: 1.0000 - val_loss: 1.2135 - val_accuracy: 0.9903\n",
      "Epoch 19/50\n",
      "9690/9690 [==============================] - 2s 204us/sample - loss: 0.0000e+00 - accuracy: 1.0000 - val_loss: 1.2126 - val_accuracy: 0.9903\n",
      "Epoch 20/50\n",
      "9690/9690 [==============================] - 2s 206us/sample - loss: 2.4605e-11 - accuracy: 1.0000 - val_loss: 1.2085 - val_accuracy: 0.9903\n",
      "Epoch 21/50\n",
      "9690/9690 [==============================] - 2s 200us/sample - loss: 4.9209e-11 - accuracy: 1.0000 - val_loss: 1.2007 - val_accuracy: 0.9903\n",
      "Epoch 22/50\n",
      "9690/9690 [==============================] - 2s 208us/sample - loss: 0.0000e+00 - accuracy: 1.0000 - val_loss: 1.2202 - val_accuracy: 0.9903\n",
      "Epoch 23/50\n",
      "9690/9690 [==============================] - 2s 204us/sample - loss: 0.0000e+00 - accuracy: 1.0000 - val_loss: 1.2411 - val_accuracy: 0.9903\n",
      "Epoch 24/50\n",
      "9690/9690 [==============================] - 2s 197us/sample - loss: 1.2302e-11 - accuracy: 1.0000 - val_loss: 1.2212 - val_accuracy: 0.9903\n",
      "Epoch 25/50\n",
      "9690/9690 [==============================] - 2s 205us/sample - loss: 8.7712e-09 - accuracy: 1.0000 - val_loss: 1.1845 - val_accuracy: 0.9903\n",
      "Epoch 26/50\n",
      "9690/9690 [==============================] - 2s 201us/sample - loss: 4.3795e-09 - accuracy: 1.0000 - val_loss: 1.2671 - val_accuracy: 0.9903\n",
      "Epoch 27/50\n",
      "9690/9690 [==============================] - 2s 204us/sample - loss: 0.0000e+00 - accuracy: 1.0000 - val_loss: 1.2663 - val_accuracy: 0.9903\n",
      "Epoch 28/50\n",
      "9690/9690 [==============================] - 2s 206us/sample - loss: 3.6907e-11 - accuracy: 1.0000 - val_loss: 1.2355 - val_accuracy: 0.9903\n",
      "Epoch 29/50\n",
      "9690/9690 [==============================] - 2s 196us/sample - loss: 0.0000e+00 - accuracy: 1.0000 - val_loss: 1.3293 - val_accuracy: 0.9903\n",
      "Epoch 30/50\n",
      "9690/9690 [==============================] - 2s 204us/sample - loss: 1.5993e-10 - accuracy: 1.0000 - val_loss: 1.3271 - val_accuracy: 0.9903\n",
      "Epoch 31/50\n",
      "9690/9690 [==============================] - 2s 204us/sample - loss: 0.0000e+00 - accuracy: 1.0000 - val_loss: 1.3864 - val_accuracy: 0.9903\n",
      "Epoch 32/50\n",
      "9690/9690 [==============================] - 2s 195us/sample - loss: 0.0000e+00 - accuracy: 1.0000 - val_loss: 1.3929 - val_accuracy: 0.9903\n",
      "Epoch 33/50\n",
      "9690/9690 [==============================] - 2s 194us/sample - loss: 1.2302e-11 - accuracy: 1.0000 - val_loss: 1.3472 - val_accuracy: 0.9903\n",
      "Epoch 34/50\n",
      "9690/9690 [==============================] - 2s 196us/sample - loss: 0.0000e+00 - accuracy: 1.0000 - val_loss: 1.3306 - val_accuracy: 0.9903\n",
      "Epoch 35/50\n",
      "9690/9690 [==============================] - 2s 201us/sample - loss: 0.0000e+00 - accuracy: 1.0000 - val_loss: 1.3278 - val_accuracy: 0.9903\n",
      "Epoch 36/50\n",
      "9690/9690 [==============================] - 2s 202us/sample - loss: 0.0000e+00 - accuracy: 1.0000 - val_loss: 1.3249 - val_accuracy: 0.9903\n",
      "Epoch 37/50\n",
      "9690/9690 [==============================] - 2s 197us/sample - loss: 0.0000e+00 - accuracy: 1.0000 - val_loss: 1.3341 - val_accuracy: 0.9903\n",
      "Epoch 38/50\n",
      "9690/9690 [==============================] - 2s 196us/sample - loss: 0.0000e+00 - accuracy: 1.0000 - val_loss: 1.3327 - val_accuracy: 0.9903\n",
      "Epoch 39/50\n",
      "9690/9690 [==============================] - 2s 204us/sample - loss: 0.0000e+00 - accuracy: 1.0000 - val_loss: 1.3344 - val_accuracy: 0.9903\n",
      "Epoch 40/50\n",
      "9690/9690 [==============================] - 2s 204us/sample - loss: 0.0000e+00 - accuracy: 1.0000 - val_loss: 1.3343 - val_accuracy: 0.9903\n",
      "Epoch 41/50\n",
      "9690/9690 [==============================] - 2s 199us/sample - loss: 0.0000e+00 - accuracy: 1.0000 - val_loss: 1.3371 - val_accuracy: 0.9903\n",
      "Epoch 42/50\n",
      "9690/9690 [==============================] - 2s 198us/sample - loss: 0.0000e+00 - accuracy: 1.0000 - val_loss: 1.3349 - val_accuracy: 0.9903\n",
      "Epoch 43/50\n",
      "9690/9690 [==============================] - 2s 205us/sample - loss: 4.9209e-11 - accuracy: 1.0000 - val_loss: 1.3884 - val_accuracy: 0.9903\n",
      "Epoch 44/50\n",
      "9690/9690 [==============================] - 2s 202us/sample - loss: 0.0000e+00 - accuracy: 1.0000 - val_loss: 1.3962 - val_accuracy: 0.9903\n",
      "Epoch 45/50\n",
      "9690/9690 [==============================] - 2s 206us/sample - loss: 2.4605e-11 - accuracy: 1.0000 - val_loss: 1.3493 - val_accuracy: 0.9903\n",
      "Epoch 46/50\n",
      "9690/9690 [==============================] - 2s 208us/sample - loss: 1.2302e-11 - accuracy: 1.0000 - val_loss: 1.3348 - val_accuracy: 0.9903\n",
      "Epoch 47/50\n",
      "9690/9690 [==============================] - 2s 205us/sample - loss: 0.0000e+00 - accuracy: 1.0000 - val_loss: 1.3396 - val_accuracy: 0.9903\n",
      "Epoch 48/50\n",
      "9690/9690 [==============================] - 2s 195us/sample - loss: 2.4605e-11 - accuracy: 1.0000 - val_loss: 1.4092 - val_accuracy: 0.9903\n",
      "Epoch 49/50\n",
      "9690/9690 [==============================] - 2s 201us/sample - loss: 1.8822e-09 - accuracy: 1.0000 - val_loss: 1.3056 - val_accuracy: 0.9903\n",
      "Epoch 50/50\n",
      "9690/9690 [==============================] - 2s 197us/sample - loss: 1.2302e-11 - accuracy: 1.0000 - val_loss: 1.2923 - val_accuracy: 0.9903\n"
     ]
    },
    {
     "output_type": "display_data",
     "data": {
      "text/plain": "<IPython.core.display.HTML object>",
      "text/html": "<br/>Waiting for W&B process to finish, PID 27056<br/>Program ended successfully."
     },
     "metadata": {}
    },
    {
     "output_type": "display_data",
     "data": {
      "text/plain": "<IPython.core.display.HTML object>",
      "text/html": "Find user logs for this run at: <code>wandb\\run-20201205_140552-2opm1vo1\\logs\\debug.log</code>"
     },
     "metadata": {}
    },
    {
     "output_type": "display_data",
     "data": {
      "text/plain": "<IPython.core.display.HTML object>",
      "text/html": "Find internal logs for this run at: <code>wandb\\run-20201205_140552-2opm1vo1\\logs\\debug-internal.log</code>"
     },
     "metadata": {}
    },
    {
     "output_type": "display_data",
     "data": {
      "text/plain": "<IPython.core.display.HTML object>",
      "text/html": "<h3>Run summary:</h3><br/><style>\n    table.wandb td:nth-child(1) { padding: 0 10px; text-align: right }\n    </style><table class=\"wandb\">\n<tr><td>epoch</td><td>49</td></tr><tr><td>loss</td><td>0.0</td></tr><tr><td>accuracy</td><td>1.0</td></tr><tr><td>val_loss</td><td>1.29227</td></tr><tr><td>val_accuracy</td><td>0.99029</td></tr><tr><td>_step</td><td>50</td></tr><tr><td>_runtime</td><td>100</td></tr><tr><td>_timestamp</td><td>1607177252</td></tr><tr><td>best_val_loss</td><td>0.75738</td></tr><tr><td>best_epoch</td><td>5</td></tr><tr><td>Label_class</td><td>beware pedestrian cr...</td></tr><tr><td>num_classes</td><td>2</td></tr></table>"
     },
     "metadata": {}
    },
    {
     "output_type": "display_data",
     "data": {
      "text/plain": "<IPython.core.display.HTML object>",
      "text/html": "<h3>Run history:</h3><br/><style>\n    table.wandb td:nth-child(1) { padding: 0 10px; text-align: right }\n    </style><table class=\"wandb\">\n<tr><td>epoch</td><td>▁▁▁▁▂▂▂▂▂▃▃▃▃▃▃▄▄▄▄▄▅▅▅▅▅▅▆▆▆▆▆▆▇▇▇▇▇███</td></tr><tr><td>loss</td><td>█▁▁▁▁▁▁▁▁▁▁▁▁▁▁▁▁▁▁▁▁▁▁▁▁▁▁▁▁▁▁▁▁▁▁▁▁▁▁▁</td></tr><tr><td>accuracy</td><td>▁███████████████████████████████████████</td></tr><tr><td>val_loss</td><td>▄▃▂▅▁▂▂▂▆▅▅▆▆▆▆▆▆▆▆▆▆▆▆▇██▇▇▇▇▇▇▇▇██▇▇█▇</td></tr><tr><td>val_accuracy</td><td>███▁▅▅▅▅████████████████████████████████</td></tr><tr><td>_step</td><td>▁▁▁▁▂▂▂▂▂▃▃▃▃▃▃▄▄▄▄▄▅▅▅▅▅▅▆▆▆▆▆▆▇▇▇▇▇███</td></tr><tr><td>_runtime</td><td>▁▁▁▁▂▂▂▂▂▃▃▃▃▃▃▄▄▄▄▄▅▅▅▅▅▆▆▆▆▆▆▇▇▇▇▇████</td></tr><tr><td>_timestamp</td><td>▁▁▁▁▂▂▂▂▂▃▃▃▃▃▃▄▄▄▄▄▅▅▅▅▅▆▆▆▆▆▆▇▇▇▇▇████</td></tr><tr><td>num_classes</td><td>▁</td></tr></table><br/>"
     },
     "metadata": {}
    },
    {
     "output_type": "display_data",
     "data": {
      "text/plain": "<IPython.core.display.HTML object>",
      "text/html": "Synced 5 W&B file(s), 1 media file(s), 0 artifact file(s) and 1 other file(s)"
     },
     "metadata": {}
    },
    {
     "output_type": "display_data",
     "data": {
      "text/plain": "<IPython.core.display.HTML object>",
      "text/html": "\n                    <br/>Synced <strong style=\"color:#cdcd00\">rural-cosmos-28</strong>: <a href=\"https://wandb.ai/supervisedlearning/CNN%20all%20test%20set%20experiments/runs/2opm1vo1\" target=\"_blank\">https://wandb.ai/supervisedlearning/CNN%20all%20test%20set%20experiments/runs/2opm1vo1</a><br/>\n                "
     },
     "metadata": {}
    },
    {
     "output_type": "stream",
     "name": "stderr",
     "text": [
      "wandb: wandb version 0.10.12 is available!  To upgrade, please run:\nwandb:  $ pip install wandb --upgrade\n"
     ]
    },
    {
     "output_type": "display_data",
     "data": {
      "text/plain": "<IPython.core.display.HTML object>",
      "text/html": "\n                Tracking run with wandb version 0.10.8<br/>\n                Syncing run <strong style=\"color:#cdcd00\">glad-breeze-29</strong> to <a href=\"https://wandb.ai\" target=\"_blank\">Weights & Biases</a> <a href=\"https://docs.wandb.com/integrations/jupyter.html\" target=\"_blank\">(Documentation)</a>.<br/>\n                Project page: <a href=\"https://wandb.ai/supervisedlearning/CNN%20all%20test%20set%20experiments\" target=\"_blank\">https://wandb.ai/supervisedlearning/CNN%20all%20test%20set%20experiments</a><br/>\n                Run page: <a href=\"https://wandb.ai/supervisedlearning/CNN%20all%20test%20set%20experiments/runs/367evjwn\" target=\"_blank\">https://wandb.ai/supervisedlearning/CNN%20all%20test%20set%20experiments/runs/367evjwn</a><br/>\n                Run data is saved locally in <code>wandb\\run-20201205_140740-367evjwn</code><br/><br/>\n            "
     },
     "metadata": {}
    },
    {
     "output_type": "stream",
     "name": "stdout",
     "text": [
      "Train on 9690 samples, validate on 3090 samples\n",
      "Epoch 1/50\n",
      "9690/9690 [==============================] - 2s 206us/sample - loss: 0.1848 - accuracy: 0.9909 - val_loss: 0.0375 - val_accuracy: 0.9932\n",
      "Epoch 2/50\n",
      "9690/9690 [==============================] - 2s 201us/sample - loss: 0.0015 - accuracy: 0.9996 - val_loss: 0.0754 - val_accuracy: 0.9929\n",
      "Epoch 3/50\n",
      "9690/9690 [==============================] - 2s 200us/sample - loss: 0.0014 - accuracy: 0.9999 - val_loss: 0.0406 - val_accuracy: 0.9964\n",
      "Epoch 4/50\n",
      "9690/9690 [==============================] - 2s 202us/sample - loss: 0.0013 - accuracy: 0.9997 - val_loss: 0.0235 - val_accuracy: 0.9974\n",
      "Epoch 5/50\n",
      "9690/9690 [==============================] - 2s 206us/sample - loss: 0.0010 - accuracy: 0.9998 - val_loss: 0.0359 - val_accuracy: 0.9974\n",
      "Epoch 6/50\n",
      "9690/9690 [==============================] - 2s 208us/sample - loss: 5.2899e-09 - accuracy: 1.0000 - val_loss: 0.0099 - val_accuracy: 0.9987\n",
      "Epoch 7/50\n",
      "9690/9690 [==============================] - 2s 199us/sample - loss: 7.7647e-04 - accuracy: 0.9999 - val_loss: 0.0374 - val_accuracy: 0.9964\n",
      "Epoch 8/50\n",
      "9690/9690 [==============================] - 2s 200us/sample - loss: 4.2427e-07 - accuracy: 1.0000 - val_loss: 0.0299 - val_accuracy: 0.9977\n",
      "Epoch 9/50\n",
      "9690/9690 [==============================] - 2s 200us/sample - loss: 9.8247e-08 - accuracy: 1.0000 - val_loss: 0.0364 - val_accuracy: 0.9974\n",
      "Epoch 10/50\n",
      "9690/9690 [==============================] - 2s 200us/sample - loss: 3.6229e-06 - accuracy: 1.0000 - val_loss: 0.0170 - val_accuracy: 0.9984\n",
      "Epoch 11/50\n",
      "9690/9690 [==============================] - 2s 196us/sample - loss: 9.8418e-11 - accuracy: 1.0000 - val_loss: 0.0132 - val_accuracy: 0.9987\n",
      "Epoch 12/50\n",
      "9690/9690 [==============================] - 2s 208us/sample - loss: 2.4154e-07 - accuracy: 1.0000 - val_loss: 0.0317 - val_accuracy: 0.9981\n",
      "Epoch 13/50\n",
      "9690/9690 [==============================] - 2s 207us/sample - loss: 2.4605e-10 - accuracy: 1.0000 - val_loss: 0.0234 - val_accuracy: 0.9987\n",
      "Epoch 14/50\n",
      "9690/9690 [==============================] - 2s 211us/sample - loss: 1.3779e-09 - accuracy: 1.0000 - val_loss: 0.0213 - val_accuracy: 0.9981\n",
      "Epoch 15/50\n",
      "9690/9690 [==============================] - 2s 200us/sample - loss: 3.6132e-04 - accuracy: 0.9999 - val_loss: 0.0962 - val_accuracy: 0.9945\n",
      "Epoch 16/50\n",
      "9690/9690 [==============================] - 2s 198us/sample - loss: 1.2302e-11 - accuracy: 1.0000 - val_loss: 0.0476 - val_accuracy: 0.9968\n",
      "Epoch 17/50\n",
      "9690/9690 [==============================] - 2s 209us/sample - loss: 0.0000e+00 - accuracy: 1.0000 - val_loss: 0.0633 - val_accuracy: 0.9964\n",
      "Epoch 18/50\n",
      "9690/9690 [==============================] - 2s 198us/sample - loss: 3.1986e-10 - accuracy: 1.0000 - val_loss: 0.0466 - val_accuracy: 0.9971\n",
      "Epoch 19/50\n",
      "9690/9690 [==============================] - 2s 209us/sample - loss: 3.6907e-11 - accuracy: 1.0000 - val_loss: 0.0483 - val_accuracy: 0.9968\n",
      "Epoch 20/50\n",
      "9690/9690 [==============================] - 2s 206us/sample - loss: 0.0000e+00 - accuracy: 1.0000 - val_loss: 0.0478 - val_accuracy: 0.9968\n",
      "Epoch 21/50\n",
      "9690/9690 [==============================] - 2s 206us/sample - loss: 0.0000e+00 - accuracy: 1.0000 - val_loss: 0.0473 - val_accuracy: 0.9968\n",
      "Epoch 22/50\n",
      "9690/9690 [==============================] - 2s 205us/sample - loss: 0.0000e+00 - accuracy: 1.0000 - val_loss: 0.0482 - val_accuracy: 0.9971\n",
      "Epoch 23/50\n",
      "9690/9690 [==============================] - 2s 213us/sample - loss: 0.0000e+00 - accuracy: 1.0000 - val_loss: 0.0476 - val_accuracy: 0.9968\n",
      "Epoch 24/50\n",
      "9690/9690 [==============================] - 2s 198us/sample - loss: 0.0000e+00 - accuracy: 1.0000 - val_loss: 0.0475 - val_accuracy: 0.9968\n",
      "Epoch 25/50\n",
      "9690/9690 [==============================] - 2s 203us/sample - loss: 0.0000e+00 - accuracy: 1.0000 - val_loss: 0.0474 - val_accuracy: 0.9968\n",
      "Epoch 26/50\n",
      "9690/9690 [==============================] - 2s 208us/sample - loss: 1.3533e-10 - accuracy: 1.0000 - val_loss: 0.0441 - val_accuracy: 0.9964\n",
      "Epoch 27/50\n",
      "9690/9690 [==============================] - 2s 199us/sample - loss: 0.0000e+00 - accuracy: 1.0000 - val_loss: 0.0402 - val_accuracy: 0.9968\n",
      "Epoch 28/50\n",
      "9690/9690 [==============================] - 2s 199us/sample - loss: 0.0000e+00 - accuracy: 1.0000 - val_loss: 0.0396 - val_accuracy: 0.9968\n",
      "Epoch 29/50\n",
      "9690/9690 [==============================] - 2s 195us/sample - loss: 0.0000e+00 - accuracy: 1.0000 - val_loss: 0.0392 - val_accuracy: 0.9968\n",
      "Epoch 30/50\n",
      "9690/9690 [==============================] - 2s 204us/sample - loss: 0.0000e+00 - accuracy: 1.0000 - val_loss: 0.0388 - val_accuracy: 0.9968\n",
      "Epoch 31/50\n",
      "9690/9690 [==============================] - 2s 204us/sample - loss: 6.1511e-11 - accuracy: 1.0000 - val_loss: 0.0435 - val_accuracy: 0.9977\n",
      "Epoch 32/50\n",
      "9690/9690 [==============================] - 2s 207us/sample - loss: 0.0000e+00 - accuracy: 1.0000 - val_loss: 0.0434 - val_accuracy: 0.9977\n",
      "Epoch 33/50\n",
      "9690/9690 [==============================] - 2s 201us/sample - loss: 0.0000e+00 - accuracy: 1.0000 - val_loss: 0.0431 - val_accuracy: 0.9977\n",
      "Epoch 34/50\n",
      "9690/9690 [==============================] - 2s 209us/sample - loss: 1.2302e-11 - accuracy: 1.0000 - val_loss: 0.0464 - val_accuracy: 0.9974\n",
      "Epoch 35/50\n",
      "9690/9690 [==============================] - 2s 204us/sample - loss: 0.0000e+00 - accuracy: 1.0000 - val_loss: 0.0464 - val_accuracy: 0.9974\n",
      "Epoch 36/50\n",
      "9690/9690 [==============================] - 2s 201us/sample - loss: 0.0000e+00 - accuracy: 1.0000 - val_loss: 0.0433 - val_accuracy: 0.9977\n",
      "Epoch 37/50\n",
      "9690/9690 [==============================] - 2s 207us/sample - loss: 1.2302e-11 - accuracy: 1.0000 - val_loss: 0.0483 - val_accuracy: 0.9971\n",
      "Epoch 38/50\n",
      "9690/9690 [==============================] - 2s 203us/sample - loss: 0.0000e+00 - accuracy: 1.0000 - val_loss: 0.0483 - val_accuracy: 0.9974\n",
      "Epoch 39/50\n",
      "9690/9690 [==============================] - 2s 202us/sample - loss: 0.0000e+00 - accuracy: 1.0000 - val_loss: 0.0486 - val_accuracy: 0.9974\n",
      "Epoch 40/50\n",
      "9690/9690 [==============================] - 2s 203us/sample - loss: 0.0000e+00 - accuracy: 1.0000 - val_loss: 0.0484 - val_accuracy: 0.9971\n",
      "Epoch 41/50\n",
      "9690/9690 [==============================] - 2s 197us/sample - loss: 0.0000e+00 - accuracy: 1.0000 - val_loss: 0.0488 - val_accuracy: 0.9974\n",
      "Epoch 42/50\n",
      "9690/9690 [==============================] - 2s 206us/sample - loss: 0.0000e+00 - accuracy: 1.0000 - val_loss: 0.0491 - val_accuracy: 0.9974\n",
      "Epoch 43/50\n",
      "9690/9690 [==============================] - 2s 206us/sample - loss: 0.0000e+00 - accuracy: 1.0000 - val_loss: 0.0481 - val_accuracy: 0.9974\n",
      "Epoch 44/50\n",
      "9690/9690 [==============================] - 2s 200us/sample - loss: 0.0000e+00 - accuracy: 1.0000 - val_loss: 0.0475 - val_accuracy: 0.9971\n",
      "Epoch 45/50\n",
      "9690/9690 [==============================] - 2s 209us/sample - loss: 1.2302e-11 - accuracy: 1.0000 - val_loss: 0.0470 - val_accuracy: 0.9971\n",
      "Epoch 46/50\n",
      "9690/9690 [==============================] - 2s 206us/sample - loss: 0.0000e+00 - accuracy: 1.0000 - val_loss: 0.0440 - val_accuracy: 0.9971\n",
      "Epoch 47/50\n",
      "9690/9690 [==============================] - 2s 206us/sample - loss: 0.0000e+00 - accuracy: 1.0000 - val_loss: 0.0439 - val_accuracy: 0.9971\n",
      "Epoch 48/50\n",
      "9690/9690 [==============================] - 2s 201us/sample - loss: 0.0000e+00 - accuracy: 1.0000 - val_loss: 0.0438 - val_accuracy: 0.9971\n",
      "Epoch 49/50\n",
      "9690/9690 [==============================] - 2s 207us/sample - loss: 5.0439e-10 - accuracy: 1.0000 - val_loss: 0.0434 - val_accuracy: 0.9968\n",
      "Epoch 50/50\n",
      "9690/9690 [==============================] - 2s 201us/sample - loss: 0.0000e+00 - accuracy: 1.0000 - val_loss: 0.0354 - val_accuracy: 0.9974\n"
     ]
    },
    {
     "output_type": "display_data",
     "data": {
      "text/plain": "<IPython.core.display.HTML object>",
      "text/html": "<br/>Waiting for W&B process to finish, PID 16352<br/>Program ended successfully."
     },
     "metadata": {}
    },
    {
     "output_type": "display_data",
     "data": {
      "text/plain": "<IPython.core.display.HTML object>",
      "text/html": "Find user logs for this run at: <code>wandb\\run-20201205_140740-367evjwn\\logs\\debug.log</code>"
     },
     "metadata": {}
    },
    {
     "output_type": "display_data",
     "data": {
      "text/plain": "<IPython.core.display.HTML object>",
      "text/html": "Find internal logs for this run at: <code>wandb\\run-20201205_140740-367evjwn\\logs\\debug-internal.log</code>"
     },
     "metadata": {}
    },
    {
     "output_type": "display_data",
     "data": {
      "text/plain": "<IPython.core.display.HTML object>",
      "text/html": "<h3>Run summary:</h3><br/><style>\n    table.wandb td:nth-child(1) { padding: 0 10px; text-align: right }\n    </style><table class=\"wandb\">\n<tr><td>epoch</td><td>49</td></tr><tr><td>loss</td><td>0.0</td></tr><tr><td>accuracy</td><td>1.0</td></tr><tr><td>val_loss</td><td>0.03543</td></tr><tr><td>val_accuracy</td><td>0.99741</td></tr><tr><td>_step</td><td>50</td></tr><tr><td>_runtime</td><td>101</td></tr><tr><td>_timestamp</td><td>1607177361</td></tr><tr><td>best_val_loss</td><td>0.00995</td></tr><tr><td>best_epoch</td><td>5</td></tr><tr><td>Label_class</td><td>beware children</td></tr><tr><td>num_classes</td><td>2</td></tr></table>"
     },
     "metadata": {}
    },
    {
     "output_type": "display_data",
     "data": {
      "text/plain": "<IPython.core.display.HTML object>",
      "text/html": "<h3>Run history:</h3><br/><style>\n    table.wandb td:nth-child(1) { padding: 0 10px; text-align: right }\n    </style><table class=\"wandb\">\n<tr><td>epoch</td><td>▁▁▁▁▂▂▂▂▂▃▃▃▃▃▃▄▄▄▄▄▅▅▅▅▅▅▆▆▆▆▆▆▇▇▇▇▇███</td></tr><tr><td>loss</td><td>█▁▁▁▁▁▁▁▁▁▁▁▁▁▁▁▁▁▁▁▁▁▁▁▁▁▁▁▁▁▁▁▁▁▁▁▁▁▁▁</td></tr><tr><td>accuracy</td><td>▁███████████████████████████████████████</td></tr><tr><td>val_loss</td><td>▄█▄▂▁▄▃▄▁▃▂▂▅▇▅▅▅▅▅▅▅▄▄▄▅▅▅▅▅▅▅▅▅▅▅▅▅▅▅▄</td></tr><tr><td>val_accuracy</td><td>▁▁▅▆█▅▇▆█▇█▇▆▅▆▆▆▆▆▆▅▆▆▆▇▇▇▆▇▆▆▆▆▆▆▆▆▆▆▆</td></tr><tr><td>_step</td><td>▁▁▁▁▂▂▂▂▂▃▃▃▃▃▃▄▄▄▄▄▅▅▅▅▅▅▆▆▆▆▆▆▇▇▇▇▇███</td></tr><tr><td>_runtime</td><td>▁▁▁▁▂▂▂▂▂▃▃▃▃▃▃▄▄▄▄▄▅▅▅▅▅▆▆▆▆▆▆▇▇▇▇▇████</td></tr><tr><td>_timestamp</td><td>▁▁▁▁▂▂▂▂▂▃▃▃▃▃▃▄▄▄▄▄▅▅▅▅▅▆▆▆▆▆▆▇▇▇▇▇████</td></tr><tr><td>num_classes</td><td>▁</td></tr></table><br/>"
     },
     "metadata": {}
    },
    {
     "output_type": "display_data",
     "data": {
      "text/plain": "<IPython.core.display.HTML object>",
      "text/html": "Synced 5 W&B file(s), 1 media file(s), 0 artifact file(s) and 1 other file(s)"
     },
     "metadata": {}
    },
    {
     "output_type": "display_data",
     "data": {
      "text/plain": "<IPython.core.display.HTML object>",
      "text/html": "\n                    <br/>Synced <strong style=\"color:#cdcd00\">glad-breeze-29</strong>: <a href=\"https://wandb.ai/supervisedlearning/CNN%20all%20test%20set%20experiments/runs/367evjwn\" target=\"_blank\">https://wandb.ai/supervisedlearning/CNN%20all%20test%20set%20experiments/runs/367evjwn</a><br/>\n                "
     },
     "metadata": {}
    },
    {
     "output_type": "stream",
     "name": "stderr",
     "text": [
      "wandb: wandb version 0.10.12 is available!  To upgrade, please run:\nwandb:  $ pip install wandb --upgrade\n"
     ]
    },
    {
     "output_type": "display_data",
     "data": {
      "text/plain": "<IPython.core.display.HTML object>",
      "text/html": "\n                Tracking run with wandb version 0.10.8<br/>\n                Syncing run <strong style=\"color:#cdcd00\">twilight-valley-30</strong> to <a href=\"https://wandb.ai\" target=\"_blank\">Weights & Biases</a> <a href=\"https://docs.wandb.com/integrations/jupyter.html\" target=\"_blank\">(Documentation)</a>.<br/>\n                Project page: <a href=\"https://wandb.ai/supervisedlearning/CNN%20all%20test%20set%20experiments\" target=\"_blank\">https://wandb.ai/supervisedlearning/CNN%20all%20test%20set%20experiments</a><br/>\n                Run page: <a href=\"https://wandb.ai/supervisedlearning/CNN%20all%20test%20set%20experiments/runs/1wazykbx\" target=\"_blank\">https://wandb.ai/supervisedlearning/CNN%20all%20test%20set%20experiments/runs/1wazykbx</a><br/>\n                Run data is saved locally in <code>wandb\\run-20201205_140929-1wazykbx</code><br/><br/>\n            "
     },
     "metadata": {}
    },
    {
     "output_type": "stream",
     "name": "stdout",
     "text": [
      "Train on 9690 samples, validate on 3090 samples\n",
      "Epoch 1/50\n",
      "9690/9690 [==============================] - 2s 213us/sample - loss: 0.1925 - accuracy: 0.9912 - val_loss: 0.0206 - val_accuracy: 0.9955\n",
      "Epoch 2/50\n",
      "9690/9690 [==============================] - 2s 197us/sample - loss: 0.0037 - accuracy: 0.9995 - val_loss: 0.0283 - val_accuracy: 0.9971\n",
      "Epoch 3/50\n",
      "9690/9690 [==============================] - 2s 201us/sample - loss: 3.4026e-04 - accuracy: 0.9999 - val_loss: 0.0050 - val_accuracy: 0.9990\n",
      "Epoch 4/50\n",
      "9690/9690 [==============================] - 2s 202us/sample - loss: 2.7846e-07 - accuracy: 1.0000 - val_loss: 0.0115 - val_accuracy: 0.9981\n",
      "Epoch 5/50\n",
      "9690/9690 [==============================] - 2s 199us/sample - loss: 7.1475e-09 - accuracy: 1.0000 - val_loss: 0.0191 - val_accuracy: 0.9964\n",
      "Epoch 6/50\n",
      "9690/9690 [==============================] - 2s 201us/sample - loss: 5.3140e-08 - accuracy: 1.0000 - val_loss: 0.0113 - val_accuracy: 0.9981\n",
      "Epoch 7/50\n",
      "9690/9690 [==============================] - 2s 210us/sample - loss: 7.1637e-05 - accuracy: 1.0000 - val_loss: 0.0046 - val_accuracy: 0.9994\n",
      "Epoch 8/50\n",
      "9690/9690 [==============================] - 2s 206us/sample - loss: 7.8734e-10 - accuracy: 1.0000 - val_loss: 0.0128 - val_accuracy: 0.9981\n",
      "Epoch 9/50\n",
      "9690/9690 [==============================] - 2s 197us/sample - loss: 1.2302e-11 - accuracy: 1.0000 - val_loss: 0.0111 - val_accuracy: 0.9984\n",
      "Epoch 10/50\n",
      "9690/9690 [==============================] - 2s 202us/sample - loss: 4.9209e-11 - accuracy: 1.0000 - val_loss: 0.0139 - val_accuracy: 0.9984\n",
      "Epoch 11/50\n",
      "9690/9690 [==============================] - 2s 200us/sample - loss: 3.7275e-09 - accuracy: 1.0000 - val_loss: 0.0117 - val_accuracy: 0.9981\n",
      "Epoch 12/50\n",
      "9690/9690 [==============================] - 2s 195us/sample - loss: 6.9234e-07 - accuracy: 1.0000 - val_loss: 0.0177 - val_accuracy: 0.9977\n",
      "Epoch 13/50\n",
      "9690/9690 [==============================] - 2s 197us/sample - loss: 1.2304e-07 - accuracy: 1.0000 - val_loss: 0.0131 - val_accuracy: 0.9987\n",
      "Epoch 14/50\n",
      "9690/9690 [==============================] - 2s 201us/sample - loss: 9.1037e-10 - accuracy: 1.0000 - val_loss: 0.0030 - val_accuracy: 0.9994\n",
      "Epoch 15/50\n",
      "9690/9690 [==============================] - 2s 203us/sample - loss: 1.4763e-10 - accuracy: 1.0000 - val_loss: 0.0044 - val_accuracy: 0.9990\n",
      "Epoch 16/50\n",
      "9690/9690 [==============================] - 2s 205us/sample - loss: 0.0000e+00 - accuracy: 1.0000 - val_loss: 0.0048 - val_accuracy: 0.9990\n",
      "Epoch 17/50\n",
      "9690/9690 [==============================] - 2s 205us/sample - loss: 3.0756e-10 - accuracy: 1.0000 - val_loss: 0.0056 - val_accuracy: 0.9994\n",
      "Epoch 18/50\n",
      "9690/9690 [==============================] - 2s 203us/sample - loss: 0.0000e+00 - accuracy: 1.0000 - val_loss: 0.0064 - val_accuracy: 0.9994\n",
      "Epoch 19/50\n",
      "9690/9690 [==============================] - 2s 196us/sample - loss: 0.0000e+00 - accuracy: 1.0000 - val_loss: 0.0064 - val_accuracy: 0.9994\n",
      "Epoch 20/50\n",
      "9690/9690 [==============================] - 2s 202us/sample - loss: 0.0000e+00 - accuracy: 1.0000 - val_loss: 0.0064 - val_accuracy: 0.9994\n",
      "Epoch 21/50\n",
      "9690/9690 [==============================] - 2s 204us/sample - loss: 1.2302e-11 - accuracy: 1.0000 - val_loss: 0.0060 - val_accuracy: 0.9994\n",
      "Epoch 22/50\n",
      "9690/9690 [==============================] - 2s 200us/sample - loss: 0.0000e+00 - accuracy: 1.0000 - val_loss: 0.0063 - val_accuracy: 0.9994\n",
      "Epoch 23/50\n",
      "9690/9690 [==============================] - 2s 209us/sample - loss: 7.3814e-11 - accuracy: 1.0000 - val_loss: 0.0064 - val_accuracy: 0.9994\n",
      "Epoch 24/50\n",
      "9690/9690 [==============================] - 2s 206us/sample - loss: 5.6591e-10 - accuracy: 1.0000 - val_loss: 0.0102 - val_accuracy: 0.9987\n",
      "Epoch 25/50\n",
      "9690/9690 [==============================] - 2s 199us/sample - loss: 8.6116e-11 - accuracy: 1.0000 - val_loss: 0.0137 - val_accuracy: 0.9984\n",
      "Epoch 26/50\n",
      "9690/9690 [==============================] - 2s 194us/sample - loss: 0.0000e+00 - accuracy: 1.0000 - val_loss: 0.0061 - val_accuracy: 0.9990\n",
      "Epoch 27/50\n",
      "9690/9690 [==============================] - 2s 195us/sample - loss: 0.0000e+00 - accuracy: 1.0000 - val_loss: 0.0058 - val_accuracy: 0.9990\n",
      "Epoch 28/50\n",
      "9690/9690 [==============================] - 2s 205us/sample - loss: 0.0000e+00 - accuracy: 1.0000 - val_loss: 0.0062 - val_accuracy: 0.9990\n",
      "Epoch 29/50\n",
      "9690/9690 [==============================] - 2s 206us/sample - loss: 0.0000e+00 - accuracy: 1.0000 - val_loss: 0.0054 - val_accuracy: 0.9990\n",
      "Epoch 30/50\n",
      "9690/9690 [==============================] - 2s 201us/sample - loss: 1.8453e-10 - accuracy: 1.0000 - val_loss: 0.0028 - val_accuracy: 0.9994\n",
      "Epoch 31/50\n",
      "9690/9690 [==============================] - 2s 201us/sample - loss: 0.0000e+00 - accuracy: 1.0000 - val_loss: 0.0021 - val_accuracy: 0.9990\n",
      "Epoch 32/50\n",
      "9690/9690 [==============================] - 2s 202us/sample - loss: 4.9209e-11 - accuracy: 1.0000 - val_loss: 3.3124e-04 - val_accuracy: 0.9997\n",
      "Epoch 33/50\n",
      "9690/9690 [==============================] - 2s 201us/sample - loss: 0.0000e+00 - accuracy: 1.0000 - val_loss: 2.4210e-04 - val_accuracy: 1.0000\n",
      "Epoch 34/50\n",
      "9690/9690 [==============================] - 2s 206us/sample - loss: 9.8418e-11 - accuracy: 1.0000 - val_loss: 0.0024 - val_accuracy: 0.9994\n",
      "Epoch 35/50\n",
      "9690/9690 [==============================] - 2s 198us/sample - loss: 0.0000e+00 - accuracy: 1.0000 - val_loss: 0.0027 - val_accuracy: 0.9990\n",
      "Epoch 36/50\n",
      "9690/9690 [==============================] - 2s 206us/sample - loss: 0.0000e+00 - accuracy: 1.0000 - val_loss: 0.0027 - val_accuracy: 0.9990\n",
      "Epoch 37/50\n",
      "9690/9690 [==============================] - 2s 204us/sample - loss: 0.0000e+00 - accuracy: 1.0000 - val_loss: 0.0029 - val_accuracy: 0.9990\n",
      "Epoch 38/50\n",
      "9690/9690 [==============================] - 2s 197us/sample - loss: 2.8295e-10 - accuracy: 1.0000 - val_loss: 0.0083 - val_accuracy: 0.9987\n",
      "Epoch 39/50\n",
      "9690/9690 [==============================] - 2s 201us/sample - loss: 0.0000e+00 - accuracy: 1.0000 - val_loss: 0.0088 - val_accuracy: 0.9987\n",
      "Epoch 40/50\n",
      "9690/9690 [==============================] - 2s 205us/sample - loss: 0.0000e+00 - accuracy: 1.0000 - val_loss: 0.0087 - val_accuracy: 0.9987\n",
      "Epoch 41/50\n",
      "9690/9690 [==============================] - 2s 205us/sample - loss: 0.0000e+00 - accuracy: 1.0000 - val_loss: 0.0088 - val_accuracy: 0.9987\n",
      "Epoch 42/50\n",
      "9690/9690 [==============================] - 2s 201us/sample - loss: 0.0000e+00 - accuracy: 1.0000 - val_loss: 0.0084 - val_accuracy: 0.9987\n",
      "Epoch 43/50\n",
      "9690/9690 [==============================] - 2s 197us/sample - loss: 0.0000e+00 - accuracy: 1.0000 - val_loss: 0.0084 - val_accuracy: 0.9987\n",
      "Epoch 44/50\n",
      "9690/9690 [==============================] - 2s 198us/sample - loss: 0.0000e+00 - accuracy: 1.0000 - val_loss: 0.0085 - val_accuracy: 0.9987\n",
      "Epoch 45/50\n",
      "9690/9690 [==============================] - 2s 197us/sample - loss: 0.0000e+00 - accuracy: 1.0000 - val_loss: 0.0084 - val_accuracy: 0.9987\n",
      "Epoch 46/50\n",
      "9690/9690 [==============================] - 2s 202us/sample - loss: 0.0000e+00 - accuracy: 1.0000 - val_loss: 0.0083 - val_accuracy: 0.9987\n",
      "Epoch 47/50\n",
      "9690/9690 [==============================] - 2s 208us/sample - loss: 0.0000e+00 - accuracy: 1.0000 - val_loss: 0.0085 - val_accuracy: 0.9987\n",
      "Epoch 48/50\n",
      "9690/9690 [==============================] - 2s 200us/sample - loss: 0.0000e+00 - accuracy: 1.0000 - val_loss: 0.0084 - val_accuracy: 0.9987\n",
      "Epoch 49/50\n",
      "9690/9690 [==============================] - 2s 198us/sample - loss: 0.0000e+00 - accuracy: 1.0000 - val_loss: 0.0088 - val_accuracy: 0.9987\n",
      "Epoch 50/50\n",
      "9690/9690 [==============================] - 2s 203us/sample - loss: 2.0691e-08 - accuracy: 1.0000 - val_loss: 4.0419e-05 - val_accuracy: 1.0000\n"
     ]
    },
    {
     "output_type": "display_data",
     "data": {
      "text/plain": "<IPython.core.display.HTML object>",
      "text/html": "<br/>Waiting for W&B process to finish, PID 21452<br/>Program ended successfully."
     },
     "metadata": {}
    },
    {
     "output_type": "display_data",
     "data": {
      "text/plain": "<IPython.core.display.HTML object>",
      "text/html": "Find user logs for this run at: <code>wandb\\run-20201205_140929-1wazykbx\\logs\\debug.log</code>"
     },
     "metadata": {}
    },
    {
     "output_type": "display_data",
     "data": {
      "text/plain": "<IPython.core.display.HTML object>",
      "text/html": "Find internal logs for this run at: <code>wandb\\run-20201205_140929-1wazykbx\\logs\\debug-internal.log</code>"
     },
     "metadata": {}
    },
    {
     "output_type": "display_data",
     "data": {
      "text/plain": "<IPython.core.display.HTML object>",
      "text/html": "<h3>Run summary:</h3><br/><style>\n    table.wandb td:nth-child(1) { padding: 0 10px; text-align: right }\n    </style><table class=\"wandb\">\n<tr><td>epoch</td><td>49</td></tr><tr><td>loss</td><td>0.0</td></tr><tr><td>accuracy</td><td>1.0</td></tr><tr><td>val_loss</td><td>4e-05</td></tr><tr><td>val_accuracy</td><td>1.0</td></tr><tr><td>_step</td><td>50</td></tr><tr><td>_runtime</td><td>101</td></tr><tr><td>_timestamp</td><td>1607177470</td></tr><tr><td>best_val_loss</td><td>4e-05</td></tr><tr><td>best_epoch</td><td>49</td></tr><tr><td>Label_class</td><td>beware cycle route a...</td></tr><tr><td>num_classes</td><td>2</td></tr></table>"
     },
     "metadata": {}
    },
    {
     "output_type": "display_data",
     "data": {
      "text/plain": "<IPython.core.display.HTML object>",
      "text/html": "<h3>Run history:</h3><br/><style>\n    table.wandb td:nth-child(1) { padding: 0 10px; text-align: right }\n    </style><table class=\"wandb\">\n<tr><td>epoch</td><td>▁▁▁▁▂▂▂▂▂▃▃▃▃▃▃▄▄▄▄▄▅▅▅▅▅▅▆▆▆▆▆▆▇▇▇▇▇███</td></tr><tr><td>loss</td><td>█▁▁▁▁▁▁▁▁▁▁▁▁▁▁▁▁▁▁▁▁▁▁▁▁▁▁▁▁▁▁▁▁▁▁▁▁▁▁▁</td></tr><tr><td>accuracy</td><td>▁███████████████████████████████████████</td></tr><tr><td>val_loss</td><td>▆█▂▄▄▂▄▄▄▅▄▂▂▂▃▃▂▃▃▄▃▂▃▂▂▁▁▂▂▂▃▃▃▃▃▃▃▃▃▁</td></tr><tr><td>val_accuracy</td><td>▁▃▆▅▅▇▅▅▅▄▆▇▆▇▇▇▇▇▇▆▆▆▆▆▆▇█▇▆▆▆▆▆▆▆▆▆▆▆█</td></tr><tr><td>_step</td><td>▁▁▁▁▂▂▂▂▂▃▃▃▃▃▃▄▄▄▄▄▅▅▅▅▅▅▆▆▆▆▆▆▇▇▇▇▇███</td></tr><tr><td>_runtime</td><td>▁▁▁▁▂▂▂▂▂▃▃▃▃▃▃▄▄▄▄▄▅▅▅▅▅▆▆▆▆▆▆▇▇▇▇▇████</td></tr><tr><td>_timestamp</td><td>▁▁▁▁▂▂▂▂▂▃▃▃▃▃▃▄▄▄▄▄▅▅▅▅▅▆▆▆▆▆▆▇▇▇▇▇████</td></tr><tr><td>num_classes</td><td>▁</td></tr></table><br/>"
     },
     "metadata": {}
    },
    {
     "output_type": "display_data",
     "data": {
      "text/plain": "<IPython.core.display.HTML object>",
      "text/html": "Synced 5 W&B file(s), 1 media file(s), 0 artifact file(s) and 1 other file(s)"
     },
     "metadata": {}
    },
    {
     "output_type": "display_data",
     "data": {
      "text/plain": "<IPython.core.display.HTML object>",
      "text/html": "\n                    <br/>Synced <strong style=\"color:#cdcd00\">twilight-valley-30</strong>: <a href=\"https://wandb.ai/supervisedlearning/CNN%20all%20test%20set%20experiments/runs/1wazykbx\" target=\"_blank\">https://wandb.ai/supervisedlearning/CNN%20all%20test%20set%20experiments/runs/1wazykbx</a><br/>\n                "
     },
     "metadata": {}
    }
   ],
   "source": [
    "experiment_2 = '{} all test set experiments'.format(classifier_name)\n",
    "ce.run_all_test_set_experiments(classifier, classifier_name=classifier_name, experiment_name=experiment_2)"
   ]
  },
  {
   "cell_type": "code",
   "execution_count": null,
   "metadata": {},
   "outputs": [],
   "source": []
  },
  {
   "cell_type": "code",
   "execution_count": 7,
   "metadata": {},
   "outputs": [
    {
     "output_type": "stream",
     "name": "stderr",
     "text": [
      "wandb: wandb version 0.10.12 is available!  To upgrade, please run:\nwandb:  $ pip install wandb --upgrade\n"
     ]
    },
    {
     "output_type": "display_data",
     "data": {
      "text/plain": "<IPython.core.display.HTML object>",
      "text/html": "\n                Tracking run with wandb version 0.10.8<br/>\n                Syncing run <strong style=\"color:#cdcd00\">peach-plant-1</strong> to <a href=\"https://wandb.ai\" target=\"_blank\">Weights & Biases</a> <a href=\"https://docs.wandb.com/integrations/jupyter.html\" target=\"_blank\">(Documentation)</a>.<br/>\n                Project page: <a href=\"https://wandb.ai/supervisedlearning/CNN%20all%204000%20moved%20to%20test%20experiments\" target=\"_blank\">https://wandb.ai/supervisedlearning/CNN%20all%204000%20moved%20to%20test%20experiments</a><br/>\n                Run page: <a href=\"https://wandb.ai/supervisedlearning/CNN%20all%204000%20moved%20to%20test%20experiments/runs/298fld96\" target=\"_blank\">https://wandb.ai/supervisedlearning/CNN%20all%204000%20moved%20to%20test%20experiments/runs/298fld96</a><br/>\n                Run data is saved locally in <code>wandb\\run-20201205_141118-298fld96</code><br/><br/>\n            "
     },
     "metadata": {}
    },
    {
     "output_type": "stream",
     "name": "stdout",
     "text": [
      "Train on 9690 samples, validate on 3090 samples\n",
      "Epoch 1/50\n",
      "9690/9690 [==============================] - 2s 204us/sample - loss: 0.8649 - accuracy: 0.9581 - val_loss: 0.5051 - val_accuracy: 0.9676\n",
      "Epoch 2/50\n",
      "9690/9690 [==============================] - 2s 203us/sample - loss: 0.0110 - accuracy: 0.9970 - val_loss: 0.4205 - val_accuracy: 0.9715\n",
      "Epoch 3/50\n",
      "9690/9690 [==============================] - 2s 209us/sample - loss: 0.0019 - accuracy: 0.9993 - val_loss: 0.2800 - val_accuracy: 0.9790\n",
      "Epoch 4/50\n",
      "9690/9690 [==============================] - 2s 211us/sample - loss: 0.0012 - accuracy: 0.9998 - val_loss: 0.2518 - val_accuracy: 0.9796\n",
      "Epoch 5/50\n",
      "9690/9690 [==============================] - 2s 205us/sample - loss: 0.0071 - accuracy: 0.9992 - val_loss: 0.2091 - val_accuracy: 0.9809\n",
      "Epoch 6/50\n",
      "9690/9690 [==============================] - 2s 199us/sample - loss: 0.0021 - accuracy: 0.9997 - val_loss: 0.5872 - val_accuracy: 0.9605\n",
      "Epoch 7/50\n",
      "9690/9690 [==============================] - 2s 199us/sample - loss: 0.0029 - accuracy: 0.9999 - val_loss: 0.3286 - val_accuracy: 0.9770\n",
      "Epoch 8/50\n",
      "9690/9690 [==============================] - 2s 198us/sample - loss: 0.0047 - accuracy: 0.9995 - val_loss: 0.5236 - val_accuracy: 0.9689\n",
      "Epoch 9/50\n",
      "9690/9690 [==============================] - 2s 196us/sample - loss: 0.0013 - accuracy: 0.9998 - val_loss: 0.4556 - val_accuracy: 0.9770\n",
      "Epoch 10/50\n",
      "9690/9690 [==============================] - 2s 204us/sample - loss: 0.0045 - accuracy: 0.9990 - val_loss: 0.5003 - val_accuracy: 0.9796\n",
      "Epoch 11/50\n",
      "9690/9690 [==============================] - 2s 202us/sample - loss: 4.0103e-04 - accuracy: 0.9999 - val_loss: 0.4770 - val_accuracy: 0.9780\n",
      "Epoch 12/50\n",
      "9690/9690 [==============================] - 2s 200us/sample - loss: 7.2402e-04 - accuracy: 0.9997 - val_loss: 0.6553 - val_accuracy: 0.9712\n",
      "Epoch 13/50\n",
      "9690/9690 [==============================] - 2s 195us/sample - loss: 0.0095 - accuracy: 0.9994 - val_loss: 0.8662 - val_accuracy: 0.9706\n",
      "Epoch 14/50\n",
      "9690/9690 [==============================] - 2s 194us/sample - loss: 0.0012 - accuracy: 0.9997 - val_loss: 0.5384 - val_accuracy: 0.9777\n",
      "Epoch 15/50\n",
      "9690/9690 [==============================] - 2s 198us/sample - loss: 0.0018 - accuracy: 0.9997 - val_loss: 0.5371 - val_accuracy: 0.9748\n",
      "Epoch 16/50\n",
      "9690/9690 [==============================] - 2s 202us/sample - loss: 0.0010 - accuracy: 0.9998 - val_loss: 0.5010 - val_accuracy: 0.9790\n",
      "Epoch 17/50\n",
      "9690/9690 [==============================] - 2s 204us/sample - loss: 0.0012 - accuracy: 0.9997 - val_loss: 0.4955 - val_accuracy: 0.9812\n",
      "Epoch 18/50\n",
      "9690/9690 [==============================] - 2s 205us/sample - loss: 0.0131 - accuracy: 0.9994 - val_loss: 0.6002 - val_accuracy: 0.9706\n",
      "Epoch 19/50\n",
      "9690/9690 [==============================] - 2s 205us/sample - loss: 1.3726e-04 - accuracy: 1.0000 - val_loss: 0.5075 - val_accuracy: 0.9812\n",
      "Epoch 20/50\n",
      "9690/9690 [==============================] - 2s 198us/sample - loss: 5.4341e-04 - accuracy: 0.9999 - val_loss: 0.5607 - val_accuracy: 0.9812\n",
      "Epoch 21/50\n",
      "9690/9690 [==============================] - 2s 195us/sample - loss: 5.4564e-04 - accuracy: 0.9997 - val_loss: 0.5713 - val_accuracy: 0.9777\n",
      "Epoch 22/50\n",
      "9690/9690 [==============================] - 2s 204us/sample - loss: 2.3774e-06 - accuracy: 1.0000 - val_loss: 0.6320 - val_accuracy: 0.9764\n",
      "Epoch 23/50\n",
      "9690/9690 [==============================] - 2s 195us/sample - loss: 2.3122e-05 - accuracy: 1.0000 - val_loss: 0.5382 - val_accuracy: 0.9783\n",
      "Epoch 24/50\n",
      "9690/9690 [==============================] - 2s 197us/sample - loss: 0.0063 - accuracy: 0.9992 - val_loss: 0.5803 - val_accuracy: 0.9773\n",
      "Epoch 25/50\n",
      "9690/9690 [==============================] - 2s 200us/sample - loss: 4.7928e-04 - accuracy: 0.9999 - val_loss: 0.6327 - val_accuracy: 0.9819\n",
      "Epoch 26/50\n",
      "9690/9690 [==============================] - 2s 204us/sample - loss: 0.0036 - accuracy: 0.9998 - val_loss: 0.4640 - val_accuracy: 0.9790\n",
      "Epoch 27/50\n",
      "9690/9690 [==============================] - 2s 204us/sample - loss: 2.3578e-04 - accuracy: 0.9999 - val_loss: 0.5745 - val_accuracy: 0.9825\n",
      "Epoch 28/50\n",
      "9690/9690 [==============================] - 2s 199us/sample - loss: 3.8938e-04 - accuracy: 0.9998 - val_loss: 0.6330 - val_accuracy: 0.9725\n",
      "Epoch 29/50\n",
      "9690/9690 [==============================] - 2s 199us/sample - loss: 2.4775e-04 - accuracy: 0.9999 - val_loss: 0.6351 - val_accuracy: 0.9751\n",
      "Epoch 30/50\n",
      "9690/9690 [==============================] - 2s 204us/sample - loss: 4.3754e-05 - accuracy: 1.0000 - val_loss: 0.4630 - val_accuracy: 0.9764\n",
      "Epoch 31/50\n",
      "9690/9690 [==============================] - 2s 209us/sample - loss: 0.0070 - accuracy: 0.9995 - val_loss: 0.6805 - val_accuracy: 0.9728\n",
      "Epoch 32/50\n",
      "9690/9690 [==============================] - 2s 212us/sample - loss: 6.6243e-04 - accuracy: 0.9999 - val_loss: 0.5428 - val_accuracy: 0.9777\n",
      "Epoch 33/50\n",
      "9690/9690 [==============================] - 2s 199us/sample - loss: 0.0061 - accuracy: 0.9997 - val_loss: 0.9514 - val_accuracy: 0.9767\n",
      "Epoch 34/50\n",
      "9690/9690 [==============================] - 2s 203us/sample - loss: 0.0028 - accuracy: 0.9998 - val_loss: 0.7109 - val_accuracy: 0.9738\n",
      "Epoch 35/50\n",
      "9690/9690 [==============================] - 2s 200us/sample - loss: 0.0052 - accuracy: 0.9995 - val_loss: 0.9226 - val_accuracy: 0.9644\n",
      "Epoch 36/50\n",
      "9690/9690 [==============================] - 2s 205us/sample - loss: 3.7036e-04 - accuracy: 0.9999 - val_loss: 0.8802 - val_accuracy: 0.9718\n",
      "Epoch 37/50\n",
      "9690/9690 [==============================] - 2s 199us/sample - loss: 8.4562e-04 - accuracy: 0.9999 - val_loss: 0.8159 - val_accuracy: 0.9751\n",
      "Epoch 38/50\n",
      "9690/9690 [==============================] - 2s 204us/sample - loss: 0.0020 - accuracy: 0.9998 - val_loss: 0.7687 - val_accuracy: 0.9728\n",
      "Epoch 39/50\n",
      "9690/9690 [==============================] - 2s 202us/sample - loss: 0.0012 - accuracy: 0.9997 - val_loss: 0.9019 - val_accuracy: 0.9738\n",
      "Epoch 40/50\n",
      "9690/9690 [==============================] - 2s 200us/sample - loss: 0.0011 - accuracy: 0.9999 - val_loss: 1.0184 - val_accuracy: 0.9699\n",
      "Epoch 41/50\n",
      "9690/9690 [==============================] - 2s 204us/sample - loss: 0.0085 - accuracy: 0.9997 - val_loss: 0.9465 - val_accuracy: 0.9709\n",
      "Epoch 42/50\n",
      "9690/9690 [==============================] - 2s 200us/sample - loss: 0.0023 - accuracy: 0.9997 - val_loss: 0.9161 - val_accuracy: 0.9744\n",
      "Epoch 43/50\n",
      "9690/9690 [==============================] - 2s 202us/sample - loss: 0.0010 - accuracy: 0.9998 - val_loss: 0.8784 - val_accuracy: 0.9770\n",
      "Epoch 44/50\n",
      "9690/9690 [==============================] - 2s 206us/sample - loss: 4.8912e-05 - accuracy: 1.0000 - val_loss: 0.8814 - val_accuracy: 0.9757\n",
      "Epoch 45/50\n",
      "9690/9690 [==============================] - 2s 198us/sample - loss: 0.0027 - accuracy: 0.9999 - val_loss: 0.8061 - val_accuracy: 0.9773\n",
      "Epoch 46/50\n",
      "9690/9690 [==============================] - 2s 198us/sample - loss: 2.0235e-08 - accuracy: 1.0000 - val_loss: 0.7029 - val_accuracy: 0.9754\n",
      "Epoch 47/50\n",
      "9690/9690 [==============================] - 2s 207us/sample - loss: 8.2547e-09 - accuracy: 1.0000 - val_loss: 0.7823 - val_accuracy: 0.9773\n",
      "Epoch 48/50\n",
      "9690/9690 [==============================] - 2s 208us/sample - loss: 1.1441e-09 - accuracy: 1.0000 - val_loss: 0.7792 - val_accuracy: 0.9754\n",
      "Epoch 49/50\n",
      "9690/9690 [==============================] - 2s 200us/sample - loss: 8.3112e-05 - accuracy: 0.9999 - val_loss: 0.7323 - val_accuracy: 0.9731\n",
      "Epoch 50/50\n",
      "9690/9690 [==============================] - 2s 201us/sample - loss: 0.0035 - accuracy: 0.9996 - val_loss: 0.4795 - val_accuracy: 0.9796\n"
     ]
    },
    {
     "output_type": "display_data",
     "data": {
      "text/plain": "<IPython.core.display.HTML object>",
      "text/html": "<br/>Waiting for W&B process to finish, PID 5300<br/>Program ended successfully."
     },
     "metadata": {}
    },
    {
     "output_type": "display_data",
     "data": {
      "text/plain": "<IPython.core.display.HTML object>",
      "text/html": "Find user logs for this run at: <code>wandb\\run-20201205_141118-298fld96\\logs\\debug.log</code>"
     },
     "metadata": {}
    },
    {
     "output_type": "display_data",
     "data": {
      "text/plain": "<IPython.core.display.HTML object>",
      "text/html": "Find internal logs for this run at: <code>wandb\\run-20201205_141118-298fld96\\logs\\debug-internal.log</code>"
     },
     "metadata": {}
    },
    {
     "output_type": "display_data",
     "data": {
      "text/plain": "<IPython.core.display.HTML object>",
      "text/html": "<h3>Run summary:</h3><br/><style>\n    table.wandb td:nth-child(1) { padding: 0 10px; text-align: right }\n    </style><table class=\"wandb\">\n<tr><td>epoch</td><td>49</td></tr><tr><td>loss</td><td>0.00353</td></tr><tr><td>accuracy</td><td>0.99959</td></tr><tr><td>val_loss</td><td>0.47954</td></tr><tr><td>val_accuracy</td><td>0.97961</td></tr><tr><td>_step</td><td>50</td></tr><tr><td>_runtime</td><td>100</td></tr><tr><td>_timestamp</td><td>1607177578</td></tr><tr><td>best_val_loss</td><td>0.20911</td></tr><tr><td>best_epoch</td><td>4</td></tr><tr><td>Label_class</td><td>All Classes</td></tr><tr><td>num_classes</td><td>10</td></tr></table>"
     },
     "metadata": {}
    },
    {
     "output_type": "display_data",
     "data": {
      "text/plain": "<IPython.core.display.HTML object>",
      "text/html": "<h3>Run history:</h3><br/><style>\n    table.wandb td:nth-child(1) { padding: 0 10px; text-align: right }\n    </style><table class=\"wandb\">\n<tr><td>epoch</td><td>▁▁▁▁▂▂▂▂▂▃▃▃▃▃▃▄▄▄▄▄▅▅▅▅▅▅▆▆▆▆▆▆▇▇▇▇▇███</td></tr><tr><td>loss</td><td>█▁▁▁▁▁▁▁▁▁▁▁▁▁▁▁▁▁▁▁▁▁▁▁▁▁▁▁▁▁▁▁▁▁▁▁▁▁▁▁</td></tr><tr><td>accuracy</td><td>▁███████████████████████████████████████</td></tr><tr><td>val_loss</td><td>▄▃▁▁▄▂▄▃▃▅▇▄▃▃▄▄▄▅▄▄▃▄▅▅▅▄█▆▇▇▆███▇▇▆▆▆▃</td></tr><tr><td>val_accuracy</td><td>▃▄▇▇▁▆▄▆▇▄▄▆▇█▄█▆▆▇▆▇█▅▆▅▆▆▅▅▆▅▅▄▅▆▆▆▆▆▇</td></tr><tr><td>_step</td><td>▁▁▁▁▂▂▂▂▂▃▃▃▃▃▃▄▄▄▄▄▅▅▅▅▅▅▆▆▆▆▆▆▇▇▇▇▇███</td></tr><tr><td>_runtime</td><td>▁▁▁▁▂▂▂▂▂▃▃▃▃▃▃▄▄▄▄▄▅▅▅▅▅▆▆▆▆▆▆▇▇▇▇▇████</td></tr><tr><td>_timestamp</td><td>▁▁▁▁▂▂▂▂▂▃▃▃▃▃▃▄▄▄▄▄▅▅▅▅▅▆▆▆▆▆▆▇▇▇▇▇████</td></tr><tr><td>num_classes</td><td>▁</td></tr></table><br/>"
     },
     "metadata": {}
    },
    {
     "output_type": "display_data",
     "data": {
      "text/plain": "<IPython.core.display.HTML object>",
      "text/html": "Synced 5 W&B file(s), 1 media file(s), 0 artifact file(s) and 1 other file(s)"
     },
     "metadata": {}
    },
    {
     "output_type": "display_data",
     "data": {
      "text/plain": "<IPython.core.display.HTML object>",
      "text/html": "\n                    <br/>Synced <strong style=\"color:#cdcd00\">peach-plant-1</strong>: <a href=\"https://wandb.ai/supervisedlearning/CNN%20all%204000%20moved%20to%20test%20experiments/runs/298fld96\" target=\"_blank\">https://wandb.ai/supervisedlearning/CNN%20all%204000%20moved%20to%20test%20experiments/runs/298fld96</a><br/>\n                "
     },
     "metadata": {}
    },
    {
     "output_type": "stream",
     "name": "stderr",
     "text": [
      "wandb: wandb version 0.10.12 is available!  To upgrade, please run:\nwandb:  $ pip install wandb --upgrade\n"
     ]
    },
    {
     "output_type": "display_data",
     "data": {
      "text/plain": "<IPython.core.display.HTML object>",
      "text/html": "\n                Tracking run with wandb version 0.10.8<br/>\n                Syncing run <strong style=\"color:#cdcd00\">gallant-moon-2</strong> to <a href=\"https://wandb.ai\" target=\"_blank\">Weights & Biases</a> <a href=\"https://docs.wandb.com/integrations/jupyter.html\" target=\"_blank\">(Documentation)</a>.<br/>\n                Project page: <a href=\"https://wandb.ai/supervisedlearning/CNN%20all%204000%20moved%20to%20test%20experiments\" target=\"_blank\">https://wandb.ai/supervisedlearning/CNN%20all%204000%20moved%20to%20test%20experiments</a><br/>\n                Run page: <a href=\"https://wandb.ai/supervisedlearning/CNN%20all%204000%20moved%20to%20test%20experiments/runs/2k9y5jnu\" target=\"_blank\">https://wandb.ai/supervisedlearning/CNN%20all%204000%20moved%20to%20test%20experiments/runs/2k9y5jnu</a><br/>\n                Run data is saved locally in <code>wandb\\run-20201205_141307-2k9y5jnu</code><br/><br/>\n            "
     },
     "metadata": {}
    },
    {
     "output_type": "stream",
     "name": "stdout",
     "text": [
      "Train on 9690 samples, validate on 3090 samples\n",
      "Epoch 1/50\n",
      "9690/9690 [==============================] - 2s 211us/sample - loss: 0.7895 - accuracy: 0.9872 - val_loss: 0.0074 - val_accuracy: 0.9987\n",
      "Epoch 2/50\n",
      "9690/9690 [==============================] - 2s 200us/sample - loss: 0.0020 - accuracy: 0.9997 - val_loss: 0.0456 - val_accuracy: 0.9974\n",
      "Epoch 3/50\n",
      "9690/9690 [==============================] - 2s 208us/sample - loss: 0.0011 - accuracy: 0.9997 - val_loss: 0.0028 - val_accuracy: 0.9994\n",
      "Epoch 4/50\n",
      "9690/9690 [==============================] - 2s 205us/sample - loss: 0.0025 - accuracy: 0.9998 - val_loss: 0.0055 - val_accuracy: 0.9994\n",
      "Epoch 5/50\n",
      "9690/9690 [==============================] - 2s 195us/sample - loss: 0.0011 - accuracy: 0.9999 - val_loss: 0.0318 - val_accuracy: 0.9990\n",
      "Epoch 6/50\n",
      "9690/9690 [==============================] - 2s 203us/sample - loss: 3.7797e-05 - accuracy: 1.0000 - val_loss: 6.1246e-06 - val_accuracy: 1.0000\n",
      "Epoch 7/50\n",
      "9690/9690 [==============================] - 2s 196us/sample - loss: 0.0054 - accuracy: 0.9998 - val_loss: 0.0082 - val_accuracy: 0.9994\n",
      "Epoch 8/50\n",
      "9690/9690 [==============================] - 2s 198us/sample - loss: 1.8034e-06 - accuracy: 1.0000 - val_loss: 0.0188 - val_accuracy: 0.9981\n",
      "Epoch 9/50\n",
      "9690/9690 [==============================] - 2s 205us/sample - loss: 1.1072e-10 - accuracy: 1.0000 - val_loss: 0.0034 - val_accuracy: 0.9994\n",
      "Epoch 10/50\n",
      "9690/9690 [==============================] - 2s 198us/sample - loss: 1.5009e-09 - accuracy: 1.0000 - val_loss: 1.2515e-04 - val_accuracy: 1.0000\n",
      "Epoch 11/50\n",
      "9690/9690 [==============================] - 2s 199us/sample - loss: 1.9684e-10 - accuracy: 1.0000 - val_loss: 0.0199 - val_accuracy: 0.9981\n",
      "Epoch 12/50\n",
      "9690/9690 [==============================] - 2s 204us/sample - loss: 0.0000e+00 - accuracy: 1.0000 - val_loss: 8.1201e-04 - val_accuracy: 0.9997\n",
      "Epoch 13/50\n",
      "9690/9690 [==============================] - 2s 199us/sample - loss: 0.0000e+00 - accuracy: 1.0000 - val_loss: 3.9414e-04 - val_accuracy: 0.9997\n",
      "Epoch 14/50\n",
      "9690/9690 [==============================] - 2s 201us/sample - loss: 1.6914e-05 - accuracy: 1.0000 - val_loss: 0.0066 - val_accuracy: 0.9994\n",
      "Epoch 15/50\n",
      "9690/9690 [==============================] - 2s 197us/sample - loss: 0.0000e+00 - accuracy: 1.0000 - val_loss: 0.0073 - val_accuracy: 0.9994\n",
      "Epoch 16/50\n",
      "9690/9690 [==============================] - 2s 210us/sample - loss: 7.8979e-09 - accuracy: 1.0000 - val_loss: 6.5584e-10 - val_accuracy: 1.0000\n",
      "Epoch 17/50\n",
      "9690/9690 [==============================] - 2s 206us/sample - loss: 1.1072e-10 - accuracy: 1.0000 - val_loss: 3.8579e-11 - val_accuracy: 1.0000\n",
      "Epoch 18/50\n",
      "9690/9690 [==============================] - 2s 198us/sample - loss: 3.2122e-04 - accuracy: 0.9999 - val_loss: 2.5609e-05 - val_accuracy: 1.0000\n",
      "Epoch 19/50\n",
      "9690/9690 [==============================] - 2s 194us/sample - loss: 1.2302e-10 - accuracy: 1.0000 - val_loss: 1.1921e-08 - val_accuracy: 1.0000\n",
      "Epoch 20/50\n",
      "9690/9690 [==============================] - 2s 204us/sample - loss: 2.3118e-06 - accuracy: 1.0000 - val_loss: 0.0091 - val_accuracy: 0.9994\n",
      "Epoch 21/50\n",
      "9690/9690 [==============================] - 2s 204us/sample - loss: 0.0000e+00 - accuracy: 1.0000 - val_loss: 0.0050 - val_accuracy: 0.9997\n",
      "Epoch 22/50\n",
      "9690/9690 [==============================] - 2s 204us/sample - loss: 0.0000e+00 - accuracy: 1.0000 - val_loss: 0.0048 - val_accuracy: 0.9997\n",
      "Epoch 23/50\n",
      "9690/9690 [==============================] - 2s 203us/sample - loss: 0.0000e+00 - accuracy: 1.0000 - val_loss: 0.0047 - val_accuracy: 0.9997\n",
      "Epoch 24/50\n",
      "9690/9690 [==============================] - 2s 202us/sample - loss: 0.0000e+00 - accuracy: 1.0000 - val_loss: 0.0069 - val_accuracy: 0.9997\n",
      "Epoch 25/50\n",
      "9690/9690 [==============================] - 2s 204us/sample - loss: 0.0000e+00 - accuracy: 1.0000 - val_loss: 0.0051 - val_accuracy: 0.9997\n",
      "Epoch 26/50\n",
      "9690/9690 [==============================] - 2s 199us/sample - loss: 0.0000e+00 - accuracy: 1.0000 - val_loss: 0.0052 - val_accuracy: 0.9997\n",
      "Epoch 27/50\n",
      "9690/9690 [==============================] - 2s 195us/sample - loss: 6.5202e-10 - accuracy: 1.0000 - val_loss: 6.5811e-04 - val_accuracy: 0.9997\n",
      "Epoch 28/50\n",
      "9690/9690 [==============================] - 2s 204us/sample - loss: 1.5993e-10 - accuracy: 1.0000 - val_loss: 0.0028 - val_accuracy: 0.9997\n",
      "Epoch 29/50\n",
      "9690/9690 [==============================] - 2s 197us/sample - loss: 0.0000e+00 - accuracy: 1.0000 - val_loss: 0.0036 - val_accuracy: 0.9997\n",
      "Epoch 30/50\n",
      "9690/9690 [==============================] - 2s 204us/sample - loss: 4.6419e-08 - accuracy: 1.0000 - val_loss: 0.0255 - val_accuracy: 0.9981\n",
      "Epoch 31/50\n",
      "9690/9690 [==============================] - 2s 206us/sample - loss: 8.8992e-05 - accuracy: 0.9999 - val_loss: 0.0068 - val_accuracy: 0.9997\n",
      "Epoch 32/50\n",
      "9690/9690 [==============================] - 2s 203us/sample - loss: 7.1353e-10 - accuracy: 1.0000 - val_loss: 0.0233 - val_accuracy: 0.9984\n",
      "Epoch 33/50\n",
      "9690/9690 [==============================] - 2s 197us/sample - loss: 6.4585e-09 - accuracy: 1.0000 - val_loss: 0.0174 - val_accuracy: 0.9984\n",
      "Epoch 34/50\n",
      "9690/9690 [==============================] - 2s 201us/sample - loss: 6.9507e-09 - accuracy: 1.0000 - val_loss: 0.0051 - val_accuracy: 0.9997\n",
      "Epoch 35/50\n",
      "9690/9690 [==============================] - 2s 198us/sample - loss: 6.1141e-09 - accuracy: 1.0000 - val_loss: 0.0064 - val_accuracy: 0.9990\n",
      "Epoch 36/50\n",
      "9690/9690 [==============================] - 2s 204us/sample - loss: 1.2302e-11 - accuracy: 1.0000 - val_loss: 0.0068 - val_accuracy: 0.9990\n",
      "Epoch 37/50\n",
      "9690/9690 [==============================] - 2s 201us/sample - loss: 0.0000e+00 - accuracy: 1.0000 - val_loss: 0.0059 - val_accuracy: 0.9994\n",
      "Epoch 38/50\n",
      "9690/9690 [==============================] - 2s 196us/sample - loss: 0.0000e+00 - accuracy: 1.0000 - val_loss: 0.0052 - val_accuracy: 0.9994\n",
      "Epoch 39/50\n",
      "9690/9690 [==============================] - 2s 208us/sample - loss: 0.0000e+00 - accuracy: 1.0000 - val_loss: 0.0056 - val_accuracy: 0.9994\n",
      "Epoch 40/50\n",
      "9690/9690 [==============================] - 2s 206us/sample - loss: 4.6109e-05 - accuracy: 1.0000 - val_loss: 0.0040 - val_accuracy: 0.9997\n",
      "Epoch 41/50\n",
      "9690/9690 [==============================] - 2s 198us/sample - loss: 0.0000e+00 - accuracy: 1.0000 - val_loss: 0.0037 - val_accuracy: 0.9997\n",
      "Epoch 42/50\n",
      "9690/9690 [==============================] - 2s 202us/sample - loss: 0.0000e+00 - accuracy: 1.0000 - val_loss: 0.0037 - val_accuracy: 0.9997\n",
      "Epoch 43/50\n",
      "9690/9690 [==============================] - 2s 206us/sample - loss: 0.0000e+00 - accuracy: 1.0000 - val_loss: 0.0036 - val_accuracy: 0.9997\n",
      "Epoch 44/50\n",
      "9690/9690 [==============================] - 2s 195us/sample - loss: 0.0000e+00 - accuracy: 1.0000 - val_loss: 0.0035 - val_accuracy: 0.9997\n",
      "Epoch 45/50\n",
      "9690/9690 [==============================] - 2s 199us/sample - loss: 1.2302e-11 - accuracy: 1.0000 - val_loss: 0.0042 - val_accuracy: 0.9997\n",
      "Epoch 46/50\n",
      "9690/9690 [==============================] - 2s 201us/sample - loss: 0.0000e+00 - accuracy: 1.0000 - val_loss: 0.0039 - val_accuracy: 0.9997\n",
      "Epoch 47/50\n",
      "9690/9690 [==============================] - 2s 205us/sample - loss: 0.0000e+00 - accuracy: 1.0000 - val_loss: 0.0040 - val_accuracy: 0.9997\n",
      "Epoch 48/50\n",
      "9690/9690 [==============================] - 2s 202us/sample - loss: 0.0000e+00 - accuracy: 1.0000 - val_loss: 0.0039 - val_accuracy: 0.9997\n",
      "Epoch 49/50\n",
      "9690/9690 [==============================] - 2s 202us/sample - loss: 1.2302e-11 - accuracy: 1.0000 - val_loss: 0.0035 - val_accuracy: 0.9997\n",
      "Epoch 50/50\n",
      "9690/9690 [==============================] - 2s 197us/sample - loss: 0.0000e+00 - accuracy: 1.0000 - val_loss: 0.0035 - val_accuracy: 0.9997\n"
     ]
    },
    {
     "output_type": "display_data",
     "data": {
      "text/plain": "<IPython.core.display.HTML object>",
      "text/html": "<br/>Waiting for W&B process to finish, PID 21384<br/>Program ended successfully."
     },
     "metadata": {}
    },
    {
     "output_type": "display_data",
     "data": {
      "text/plain": "<IPython.core.display.HTML object>",
      "text/html": "Find user logs for this run at: <code>wandb\\run-20201205_141307-2k9y5jnu\\logs\\debug.log</code>"
     },
     "metadata": {}
    },
    {
     "output_type": "display_data",
     "data": {
      "text/plain": "<IPython.core.display.HTML object>",
      "text/html": "Find internal logs for this run at: <code>wandb\\run-20201205_141307-2k9y5jnu\\logs\\debug-internal.log</code>"
     },
     "metadata": {}
    },
    {
     "output_type": "display_data",
     "data": {
      "text/plain": "<IPython.core.display.HTML object>",
      "text/html": "<h3>Run summary:</h3><br/><style>\n    table.wandb td:nth-child(1) { padding: 0 10px; text-align: right }\n    </style><table class=\"wandb\">\n<tr><td>epoch</td><td>49</td></tr><tr><td>loss</td><td>0.0</td></tr><tr><td>accuracy</td><td>1.0</td></tr><tr><td>val_loss</td><td>0.00346</td></tr><tr><td>val_accuracy</td><td>0.99968</td></tr><tr><td>_step</td><td>50</td></tr><tr><td>_runtime</td><td>99</td></tr><tr><td>_timestamp</td><td>1607177686</td></tr><tr><td>best_val_loss</td><td>0.0</td></tr><tr><td>best_epoch</td><td>16</td></tr><tr><td>Label_class</td><td>speed limit 20</td></tr><tr><td>num_classes</td><td>2</td></tr></table>"
     },
     "metadata": {}
    },
    {
     "output_type": "display_data",
     "data": {
      "text/plain": "<IPython.core.display.HTML object>",
      "text/html": "<h3>Run history:</h3><br/><style>\n    table.wandb td:nth-child(1) { padding: 0 10px; text-align: right }\n    </style><table class=\"wandb\">\n<tr><td>epoch</td><td>▁▁▁▁▂▂▂▂▂▃▃▃▃▃▃▄▄▄▄▄▅▅▅▅▅▅▆▆▆▆▆▆▇▇▇▇▇███</td></tr><tr><td>loss</td><td>█▁▁▁▁▁▁▁▁▁▁▁▁▁▁▁▁▁▁▁▁▁▁▁▁▁▁▁▁▁▁▁▁▁▁▁▁▁▁▁</td></tr><tr><td>accuracy</td><td>▁███████████████████████████████████████</td></tr><tr><td>val_loss</td><td>▂█▁▂▁▂▄▂▄▁▁▂▁▁▁▁▂▂▂▂▂▁▁▂▂▅▄▂▂▂▂▂▂▂▂▂▂▂▂▂</td></tr><tr><td>val_accuracy</td><td>▅▁▆▆█▆▃▆▃▇▇▆████▇▇▇▇▇▇▇▇▇▄▄▇▅▆▆▆▇▇▇▇▇▇▇▇</td></tr><tr><td>_step</td><td>▁▁▁▁▂▂▂▂▂▃▃▃▃▃▃▄▄▄▄▄▅▅▅▅▅▅▆▆▆▆▆▆▇▇▇▇▇███</td></tr><tr><td>_runtime</td><td>▁▁▁▁▂▂▂▂▂▃▃▃▃▃▃▄▄▄▄▄▅▅▅▅▅▆▆▆▆▆▆▇▇▇▇▇████</td></tr><tr><td>_timestamp</td><td>▁▁▁▁▂▂▂▂▂▃▃▃▃▃▃▄▄▄▄▄▅▅▅▅▅▆▆▆▆▆▆▇▇▇▇▇████</td></tr><tr><td>num_classes</td><td>▁</td></tr></table><br/>"
     },
     "metadata": {}
    },
    {
     "output_type": "display_data",
     "data": {
      "text/plain": "<IPython.core.display.HTML object>",
      "text/html": "Synced 5 W&B file(s), 1 media file(s), 0 artifact file(s) and 1 other file(s)"
     },
     "metadata": {}
    },
    {
     "output_type": "display_data",
     "data": {
      "text/plain": "<IPython.core.display.HTML object>",
      "text/html": "\n                    <br/>Synced <strong style=\"color:#cdcd00\">gallant-moon-2</strong>: <a href=\"https://wandb.ai/supervisedlearning/CNN%20all%204000%20moved%20to%20test%20experiments/runs/2k9y5jnu\" target=\"_blank\">https://wandb.ai/supervisedlearning/CNN%20all%204000%20moved%20to%20test%20experiments/runs/2k9y5jnu</a><br/>\n                "
     },
     "metadata": {}
    },
    {
     "output_type": "stream",
     "name": "stderr",
     "text": [
      "wandb: wandb version 0.10.12 is available!  To upgrade, please run:\nwandb:  $ pip install wandb --upgrade\n"
     ]
    },
    {
     "output_type": "display_data",
     "data": {
      "text/plain": "<IPython.core.display.HTML object>",
      "text/html": "\n                Tracking run with wandb version 0.10.8<br/>\n                Syncing run <strong style=\"color:#cdcd00\">dark-snowball-3</strong> to <a href=\"https://wandb.ai\" target=\"_blank\">Weights & Biases</a> <a href=\"https://docs.wandb.com/integrations/jupyter.html\" target=\"_blank\">(Documentation)</a>.<br/>\n                Project page: <a href=\"https://wandb.ai/supervisedlearning/CNN%20all%204000%20moved%20to%20test%20experiments\" target=\"_blank\">https://wandb.ai/supervisedlearning/CNN%20all%204000%20moved%20to%20test%20experiments</a><br/>\n                Run page: <a href=\"https://wandb.ai/supervisedlearning/CNN%20all%204000%20moved%20to%20test%20experiments/runs/21byuid7\" target=\"_blank\">https://wandb.ai/supervisedlearning/CNN%20all%204000%20moved%20to%20test%20experiments/runs/21byuid7</a><br/>\n                Run data is saved locally in <code>wandb\\run-20201205_141455-21byuid7</code><br/><br/>\n            "
     },
     "metadata": {}
    },
    {
     "output_type": "stream",
     "name": "stdout",
     "text": [
      "Train on 9690 samples, validate on 3090 samples\n",
      "Epoch 1/50\n",
      "9690/9690 [==============================] - 2s 213us/sample - loss: 0.6239 - accuracy: 0.9857 - val_loss: 0.0387 - val_accuracy: 0.9948\n",
      "Epoch 2/50\n",
      "9690/9690 [==============================] - 2s 209us/sample - loss: 0.0079 - accuracy: 0.9995 - val_loss: 0.0364 - val_accuracy: 0.9958\n",
      "Epoch 3/50\n",
      "9690/9690 [==============================] - 2s 200us/sample - loss: 0.0035 - accuracy: 0.9995 - val_loss: 0.0150 - val_accuracy: 0.9974\n",
      "Epoch 4/50\n",
      "9690/9690 [==============================] - 2s 200us/sample - loss: 0.0042 - accuracy: 0.9997 - val_loss: 0.0202 - val_accuracy: 0.9971\n",
      "Epoch 5/50\n",
      "9690/9690 [==============================] - 2s 202us/sample - loss: 0.0117 - accuracy: 0.9993 - val_loss: 0.0670 - val_accuracy: 0.9942\n",
      "Epoch 6/50\n",
      "9690/9690 [==============================] - 2s 202us/sample - loss: 2.0975e-04 - accuracy: 0.9998 - val_loss: 0.0335 - val_accuracy: 0.9971\n",
      "Epoch 7/50\n",
      "9690/9690 [==============================] - 2s 204us/sample - loss: 7.3015e-04 - accuracy: 0.9999 - val_loss: 0.0133 - val_accuracy: 0.9981\n",
      "Epoch 8/50\n",
      "9690/9690 [==============================] - 2s 199us/sample - loss: 3.0902e-07 - accuracy: 1.0000 - val_loss: 0.0218 - val_accuracy: 0.9971\n",
      "Epoch 9/50\n",
      "9690/9690 [==============================] - 2s 201us/sample - loss: 8.6759e-04 - accuracy: 0.9999 - val_loss: 0.0328 - val_accuracy: 0.9977\n",
      "Epoch 10/50\n",
      "9690/9690 [==============================] - 2s 205us/sample - loss: 6.1764e-04 - accuracy: 0.9999 - val_loss: 0.0147 - val_accuracy: 0.9984\n",
      "Epoch 11/50\n",
      "9690/9690 [==============================] - 2s 200us/sample - loss: 0.0029 - accuracy: 0.9998 - val_loss: 0.0327 - val_accuracy: 0.9968\n",
      "Epoch 12/50\n",
      "9690/9690 [==============================] - 2s 205us/sample - loss: 0.0040 - accuracy: 0.9998 - val_loss: 0.0404 - val_accuracy: 0.9971\n",
      "Epoch 13/50\n",
      "9690/9690 [==============================] - 2s 199us/sample - loss: 2.7384e-04 - accuracy: 0.9998 - val_loss: 0.0187 - val_accuracy: 0.9981\n",
      "Epoch 14/50\n",
      "9690/9690 [==============================] - 2s 204us/sample - loss: 1.0061e-04 - accuracy: 0.9999 - val_loss: 0.0356 - val_accuracy: 0.9971\n",
      "Epoch 15/50\n",
      "9690/9690 [==============================] - 2s 204us/sample - loss: 0.0032 - accuracy: 0.9997 - val_loss: 0.0623 - val_accuracy: 0.9971\n",
      "Epoch 16/50\n",
      "9690/9690 [==============================] - 2s 202us/sample - loss: 0.0037 - accuracy: 0.9997 - val_loss: 0.0417 - val_accuracy: 0.9981\n",
      "Epoch 17/50\n",
      "9690/9690 [==============================] - 2s 197us/sample - loss: 9.5731e-05 - accuracy: 0.9999 - val_loss: 0.0365 - val_accuracy: 0.9977\n",
      "Epoch 18/50\n",
      "9690/9690 [==============================] - 2s 202us/sample - loss: 4.6282e-04 - accuracy: 0.9999 - val_loss: 0.0460 - val_accuracy: 0.9955\n",
      "Epoch 19/50\n",
      "9690/9690 [==============================] - 2s 201us/sample - loss: 0.0043 - accuracy: 0.9998 - val_loss: 0.0619 - val_accuracy: 0.9948\n",
      "Epoch 20/50\n",
      "9690/9690 [==============================] - 2s 197us/sample - loss: 4.7489e-04 - accuracy: 0.9999 - val_loss: 0.0603 - val_accuracy: 0.9948\n",
      "Epoch 21/50\n",
      "9690/9690 [==============================] - 2s 207us/sample - loss: 6.1633e-09 - accuracy: 1.0000 - val_loss: 0.0465 - val_accuracy: 0.9964\n",
      "Epoch 22/50\n",
      "9690/9690 [==============================] - 2s 207us/sample - loss: 0.0067 - accuracy: 0.9998 - val_loss: 0.0275 - val_accuracy: 0.9981\n",
      "Epoch 23/50\n",
      "9690/9690 [==============================] - 2s 205us/sample - loss: 8.6116e-11 - accuracy: 1.0000 - val_loss: 0.0355 - val_accuracy: 0.9977\n",
      "Epoch 24/50\n",
      "9690/9690 [==============================] - 2s 200us/sample - loss: 0.0019 - accuracy: 0.9998 - val_loss: 0.0294 - val_accuracy: 0.9977\n",
      "Epoch 25/50\n",
      "9690/9690 [==============================] - 2s 204us/sample - loss: 0.0030 - accuracy: 0.9997 - val_loss: 0.0444 - val_accuracy: 0.9968\n",
      "Epoch 26/50\n",
      "9690/9690 [==============================] - 2s 204us/sample - loss: 3.6907e-11 - accuracy: 1.0000 - val_loss: 0.0273 - val_accuracy: 0.9971\n",
      "Epoch 27/50\n",
      "9690/9690 [==============================] - 2s 207us/sample - loss: 0.0000e+00 - accuracy: 1.0000 - val_loss: 0.0277 - val_accuracy: 0.9974\n",
      "Epoch 28/50\n",
      "9690/9690 [==============================] - 2s 204us/sample - loss: 2.2055e-07 - accuracy: 1.0000 - val_loss: 0.0235 - val_accuracy: 0.9984\n",
      "Epoch 29/50\n",
      "9690/9690 [==============================] - 2s 203us/sample - loss: 7.3814e-11 - accuracy: 1.0000 - val_loss: 0.0178 - val_accuracy: 0.9981\n",
      "Epoch 30/50\n",
      "9690/9690 [==============================] - 2s 199us/sample - loss: 0.0000e+00 - accuracy: 1.0000 - val_loss: 0.0197 - val_accuracy: 0.9987\n",
      "Epoch 31/50\n",
      "9690/9690 [==============================] - 2s 207us/sample - loss: 0.0000e+00 - accuracy: 1.0000 - val_loss: 0.0203 - val_accuracy: 0.9987\n",
      "Epoch 32/50\n",
      "9690/9690 [==============================] - 2s 207us/sample - loss: 0.0000e+00 - accuracy: 1.0000 - val_loss: 0.0207 - val_accuracy: 0.9984\n",
      "Epoch 33/50\n",
      "9690/9690 [==============================] - 2s 206us/sample - loss: 0.0000e+00 - accuracy: 1.0000 - val_loss: 0.0204 - val_accuracy: 0.9984\n",
      "Epoch 34/50\n",
      "9690/9690 [==============================] - 2s 207us/sample - loss: 3.4333e-07 - accuracy: 1.0000 - val_loss: 0.0492 - val_accuracy: 0.9968\n",
      "Epoch 35/50\n",
      "9690/9690 [==============================] - 2s 199us/sample - loss: 9.1037e-10 - accuracy: 1.0000 - val_loss: 0.0320 - val_accuracy: 0.9987\n",
      "Epoch 36/50\n",
      "9690/9690 [==============================] - 2s 203us/sample - loss: 7.3814e-11 - accuracy: 1.0000 - val_loss: 0.0310 - val_accuracy: 0.9981\n",
      "Epoch 37/50\n",
      "9690/9690 [==============================] - 2s 200us/sample - loss: 1.4396e-07 - accuracy: 1.0000 - val_loss: 0.0556 - val_accuracy: 0.9961\n",
      "Epoch 38/50\n",
      "9690/9690 [==============================] - 2s 201us/sample - loss: 0.0030 - accuracy: 0.9998 - val_loss: 0.0309 - val_accuracy: 0.9977\n",
      "Epoch 39/50\n",
      "9690/9690 [==============================] - 2s 204us/sample - loss: 8.3030e-06 - accuracy: 1.0000 - val_loss: 0.0352 - val_accuracy: 0.9977\n",
      "Epoch 40/50\n",
      "9690/9690 [==============================] - 2s 205us/sample - loss: 1.6720e-04 - accuracy: 0.9999 - val_loss: 0.0834 - val_accuracy: 0.9964\n",
      "Epoch 41/50\n",
      "9690/9690 [==============================] - 2s 205us/sample - loss: 0.0013 - accuracy: 0.9999 - val_loss: 0.0274 - val_accuracy: 0.9981\n",
      "Epoch 42/50\n",
      "9690/9690 [==============================] - 2s 199us/sample - loss: 2.4481e-09 - accuracy: 1.0000 - val_loss: 0.0443 - val_accuracy: 0.9981\n",
      "Epoch 43/50\n",
      "9690/9690 [==============================] - 2s 201us/sample - loss: 1.2230e-07 - accuracy: 1.0000 - val_loss: 0.0353 - val_accuracy: 0.9977\n",
      "Epoch 44/50\n",
      "9690/9690 [==============================] - 2s 207us/sample - loss: 0.0000e+00 - accuracy: 1.0000 - val_loss: 0.0327 - val_accuracy: 0.9977\n",
      "Epoch 45/50\n",
      "9690/9690 [==============================] - 2s 205us/sample - loss: 1.2302e-11 - accuracy: 1.0000 - val_loss: 0.0279 - val_accuracy: 0.9974\n",
      "Epoch 46/50\n",
      "9690/9690 [==============================] - 2s 205us/sample - loss: 0.0000e+00 - accuracy: 1.0000 - val_loss: 0.0287 - val_accuracy: 0.9971\n",
      "Epoch 47/50\n",
      "9690/9690 [==============================] - 2s 201us/sample - loss: 0.0000e+00 - accuracy: 1.0000 - val_loss: 0.0286 - val_accuracy: 0.9971\n",
      "Epoch 48/50\n",
      "9690/9690 [==============================] - 2s 206us/sample - loss: 0.0000e+00 - accuracy: 1.0000 - val_loss: 0.0281 - val_accuracy: 0.9971\n",
      "Epoch 49/50\n",
      "9690/9690 [==============================] - 2s 197us/sample - loss: 1.5993e-10 - accuracy: 1.0000 - val_loss: 0.0317 - val_accuracy: 0.9974\n",
      "Epoch 50/50\n",
      "9690/9690 [==============================] - 2s 201us/sample - loss: 6.9877e-04 - accuracy: 0.9999 - val_loss: 0.0391 - val_accuracy: 0.9981\n"
     ]
    },
    {
     "output_type": "display_data",
     "data": {
      "text/plain": "<IPython.core.display.HTML object>",
      "text/html": "<br/>Waiting for W&B process to finish, PID 12592<br/>Program ended successfully."
     },
     "metadata": {}
    },
    {
     "output_type": "display_data",
     "data": {
      "text/plain": "<IPython.core.display.HTML object>",
      "text/html": "Find user logs for this run at: <code>wandb\\run-20201205_141455-21byuid7\\logs\\debug.log</code>"
     },
     "metadata": {}
    },
    {
     "output_type": "display_data",
     "data": {
      "text/plain": "<IPython.core.display.HTML object>",
      "text/html": "Find internal logs for this run at: <code>wandb\\run-20201205_141455-21byuid7\\logs\\debug-internal.log</code>"
     },
     "metadata": {}
    },
    {
     "output_type": "display_data",
     "data": {
      "text/plain": "<IPython.core.display.HTML object>",
      "text/html": "<h3>Run summary:</h3><br/><style>\n    table.wandb td:nth-child(1) { padding: 0 10px; text-align: right }\n    </style><table class=\"wandb\">\n<tr><td>epoch</td><td>49</td></tr><tr><td>loss</td><td>0.0007</td></tr><tr><td>accuracy</td><td>0.9999</td></tr><tr><td>val_loss</td><td>0.03911</td></tr><tr><td>val_accuracy</td><td>0.99806</td></tr><tr><td>_step</td><td>50</td></tr><tr><td>_runtime</td><td>100</td></tr><tr><td>_timestamp</td><td>1607177795</td></tr><tr><td>best_val_loss</td><td>0.01328</td></tr><tr><td>best_epoch</td><td>6</td></tr><tr><td>Label_class</td><td>speed limit 30</td></tr><tr><td>num_classes</td><td>2</td></tr></table>"
     },
     "metadata": {}
    },
    {
     "output_type": "display_data",
     "data": {
      "text/plain": "<IPython.core.display.HTML object>",
      "text/html": "<h3>Run history:</h3><br/><style>\n    table.wandb td:nth-child(1) { padding: 0 10px; text-align: right }\n    </style><table class=\"wandb\">\n<tr><td>epoch</td><td>▁▁▁▁▂▂▂▂▂▃▃▃▃▃▃▄▄▄▄▄▅▅▅▅▅▅▆▆▆▆▆▆▇▇▇▇▇███</td></tr><tr><td>loss</td><td>█▁▁▁▁▁▁▁▁▁▁▁▁▁▁▁▁▁▁▁▁▁▁▁▁▁▁▁▁▁▁▁▁▁▁▁▁▁▁▁</td></tr><tr><td>accuracy</td><td>▁███████████████████████████████████████</td></tr><tr><td>val_loss</td><td>▅▄▁▂▄▁▂▄▄▅▂▄▅▄▆█▆▃▄▃▃▃▂▂▂▂▂▆▄▇▄▄▃▅▄▄▃▃▃▅</td></tr><tr><td>val_accuracy</td><td>▁▃▆▅▅▇▅▆▅▅▇▅▇▆▂▁▄▇▆▆▅▆▇▇█▇▇▅▇▃▆▆▇▇▆▆▅▅▅▇</td></tr><tr><td>_step</td><td>▁▁▁▁▂▂▂▂▂▃▃▃▃▃▃▄▄▄▄▄▅▅▅▅▅▅▆▆▆▆▆▆▇▇▇▇▇███</td></tr><tr><td>_runtime</td><td>▁▁▁▁▂▂▂▂▂▃▃▃▃▃▃▄▄▄▄▄▅▅▅▅▅▆▆▆▆▆▆▇▇▇▇▇████</td></tr><tr><td>_timestamp</td><td>▁▁▁▁▂▂▂▂▂▃▃▃▃▃▃▄▄▄▄▄▅▅▅▅▅▆▆▆▆▆▆▇▇▇▇▇████</td></tr><tr><td>num_classes</td><td>▁</td></tr></table><br/>"
     },
     "metadata": {}
    },
    {
     "output_type": "display_data",
     "data": {
      "text/plain": "<IPython.core.display.HTML object>",
      "text/html": "Synced 5 W&B file(s), 1 media file(s), 0 artifact file(s) and 1 other file(s)"
     },
     "metadata": {}
    },
    {
     "output_type": "display_data",
     "data": {
      "text/plain": "<IPython.core.display.HTML object>",
      "text/html": "\n                    <br/>Synced <strong style=\"color:#cdcd00\">dark-snowball-3</strong>: <a href=\"https://wandb.ai/supervisedlearning/CNN%20all%204000%20moved%20to%20test%20experiments/runs/21byuid7\" target=\"_blank\">https://wandb.ai/supervisedlearning/CNN%20all%204000%20moved%20to%20test%20experiments/runs/21byuid7</a><br/>\n                "
     },
     "metadata": {}
    },
    {
     "output_type": "stream",
     "name": "stderr",
     "text": [
      "wandb: wandb version 0.10.12 is available!  To upgrade, please run:\nwandb:  $ pip install wandb --upgrade\n"
     ]
    },
    {
     "output_type": "display_data",
     "data": {
      "text/plain": "<IPython.core.display.HTML object>",
      "text/html": "\n                Tracking run with wandb version 0.10.8<br/>\n                Syncing run <strong style=\"color:#cdcd00\">major-fog-4</strong> to <a href=\"https://wandb.ai\" target=\"_blank\">Weights & Biases</a> <a href=\"https://docs.wandb.com/integrations/jupyter.html\" target=\"_blank\">(Documentation)</a>.<br/>\n                Project page: <a href=\"https://wandb.ai/supervisedlearning/CNN%20all%204000%20moved%20to%20test%20experiments\" target=\"_blank\">https://wandb.ai/supervisedlearning/CNN%20all%204000%20moved%20to%20test%20experiments</a><br/>\n                Run page: <a href=\"https://wandb.ai/supervisedlearning/CNN%20all%204000%20moved%20to%20test%20experiments/runs/wnlzdhif\" target=\"_blank\">https://wandb.ai/supervisedlearning/CNN%20all%204000%20moved%20to%20test%20experiments/runs/wnlzdhif</a><br/>\n                Run data is saved locally in <code>wandb\\run-20201205_141644-wnlzdhif</code><br/><br/>\n            "
     },
     "metadata": {}
    },
    {
     "output_type": "stream",
     "name": "stdout",
     "text": [
      "Train on 9690 samples, validate on 3090 samples\n",
      "Epoch 1/50\n",
      "9690/9690 [==============================] - 2s 206us/sample - loss: 0.8620 - accuracy: 0.9780 - val_loss: 0.0260 - val_accuracy: 0.9945\n",
      "Epoch 2/50\n",
      "9690/9690 [==============================] - 2s 200us/sample - loss: 0.0027 - accuracy: 0.9995 - val_loss: 0.0346 - val_accuracy: 0.9958\n",
      "Epoch 3/50\n",
      "9690/9690 [==============================] - 2s 206us/sample - loss: 5.1940e-05 - accuracy: 1.0000 - val_loss: 0.0358 - val_accuracy: 0.9958\n",
      "Epoch 4/50\n",
      "9690/9690 [==============================] - 2s 205us/sample - loss: 0.0050 - accuracy: 0.9995 - val_loss: 0.0345 - val_accuracy: 0.9961\n",
      "Epoch 5/50\n",
      "9690/9690 [==============================] - 2s 204us/sample - loss: 2.9445e-06 - accuracy: 1.0000 - val_loss: 0.0081 - val_accuracy: 0.9981\n",
      "Epoch 6/50\n",
      "9690/9690 [==============================] - 2s 204us/sample - loss: 0.0025 - accuracy: 0.9998 - val_loss: 0.0368 - val_accuracy: 0.9958\n",
      "Epoch 7/50\n",
      "9690/9690 [==============================] - 2s 200us/sample - loss: 4.2443e-04 - accuracy: 0.9999 - val_loss: 0.0710 - val_accuracy: 0.9945\n",
      "Epoch 8/50\n",
      "9690/9690 [==============================] - 2s 206us/sample - loss: 3.1986e-10 - accuracy: 1.0000 - val_loss: 0.0340 - val_accuracy: 0.9964\n",
      "Epoch 9/50\n",
      "9690/9690 [==============================] - 2s 200us/sample - loss: 8.6116e-11 - accuracy: 1.0000 - val_loss: 0.0235 - val_accuracy: 0.9974\n",
      "Epoch 10/50\n",
      "9690/9690 [==============================] - 2s 200us/sample - loss: 0.0032 - accuracy: 0.9997 - val_loss: 0.0310 - val_accuracy: 0.9968\n",
      "Epoch 11/50\n",
      "9690/9690 [==============================] - 2s 201us/sample - loss: 1.8096e-07 - accuracy: 1.0000 - val_loss: 0.0272 - val_accuracy: 0.9971\n",
      "Epoch 12/50\n",
      "9690/9690 [==============================] - 2s 203us/sample - loss: 2.5437e-07 - accuracy: 1.0000 - val_loss: 0.0115 - val_accuracy: 0.9981\n",
      "Epoch 13/50\n",
      "9690/9690 [==============================] - 2s 200us/sample - loss: 0.0027 - accuracy: 0.9997 - val_loss: 0.0332 - val_accuracy: 0.9971\n",
      "Epoch 14/50\n",
      "9690/9690 [==============================] - 2s 199us/sample - loss: 9.3823e-04 - accuracy: 0.9998 - val_loss: 0.0452 - val_accuracy: 0.9958\n",
      "Epoch 15/50\n",
      "9690/9690 [==============================] - 2s 205us/sample - loss: 6.1997e-07 - accuracy: 1.0000 - val_loss: 0.0635 - val_accuracy: 0.9955\n",
      "Epoch 16/50\n",
      "9690/9690 [==============================] - 2s 196us/sample - loss: 2.4347e-04 - accuracy: 0.9999 - val_loss: 0.0798 - val_accuracy: 0.9942\n",
      "Epoch 17/50\n",
      "9690/9690 [==============================] - 2s 197us/sample - loss: 0.0000e+00 - accuracy: 1.0000 - val_loss: 0.0756 - val_accuracy: 0.9948\n",
      "Epoch 18/50\n",
      "9690/9690 [==============================] - 2s 204us/sample - loss: 1.4763e-10 - accuracy: 1.0000 - val_loss: 0.0525 - val_accuracy: 0.9958\n",
      "Epoch 19/50\n",
      "9690/9690 [==============================] - 2s 197us/sample - loss: 6.1511e-11 - accuracy: 1.0000 - val_loss: 0.0439 - val_accuracy: 0.9961\n",
      "Epoch 20/50\n",
      "9690/9690 [==============================] - 2s 206us/sample - loss: 0.0000e+00 - accuracy: 1.0000 - val_loss: 0.0446 - val_accuracy: 0.9961\n",
      "Epoch 21/50\n",
      "9690/9690 [==============================] - 2s 210us/sample - loss: 0.0028 - accuracy: 0.9997 - val_loss: 0.0417 - val_accuracy: 0.9964\n",
      "Epoch 22/50\n",
      "9690/9690 [==============================] - 2s 207us/sample - loss: 5.4130e-10 - accuracy: 1.0000 - val_loss: 0.0532 - val_accuracy: 0.9955\n",
      "Epoch 23/50\n",
      "9690/9690 [==============================] - 2s 201us/sample - loss: 0.0000e+00 - accuracy: 1.0000 - val_loss: 0.0482 - val_accuracy: 0.9958\n",
      "Epoch 24/50\n",
      "9690/9690 [==============================] - 2s 200us/sample - loss: 2.0627e-04 - accuracy: 0.9999 - val_loss: 0.0892 - val_accuracy: 0.9948\n",
      "Epoch 25/50\n",
      "9690/9690 [==============================] - 2s 201us/sample - loss: 1.3096e-06 - accuracy: 1.0000 - val_loss: 0.0555 - val_accuracy: 0.9964\n",
      "Epoch 26/50\n",
      "9690/9690 [==============================] - 2s 205us/sample - loss: 2.8295e-10 - accuracy: 1.0000 - val_loss: 0.0512 - val_accuracy: 0.9968\n",
      "Epoch 27/50\n",
      "9690/9690 [==============================] - 2s 199us/sample - loss: 3.7331e-05 - accuracy: 1.0000 - val_loss: 0.0549 - val_accuracy: 0.9974\n",
      "Epoch 28/50\n",
      "9690/9690 [==============================] - 2s 202us/sample - loss: 1.6854e-09 - accuracy: 1.0000 - val_loss: 0.0976 - val_accuracy: 0.9951\n",
      "Epoch 29/50\n",
      "9690/9690 [==============================] - 2s 201us/sample - loss: 2.2438e-08 - accuracy: 1.0000 - val_loss: 0.0971 - val_accuracy: 0.9951\n",
      "Epoch 30/50\n",
      "9690/9690 [==============================] - 2s 208us/sample - loss: 4.6650e-07 - accuracy: 1.0000 - val_loss: 0.0645 - val_accuracy: 0.9961\n",
      "Epoch 31/50\n",
      "9690/9690 [==============================] - 2s 202us/sample - loss: 1.2302e-11 - accuracy: 1.0000 - val_loss: 0.0626 - val_accuracy: 0.9968\n",
      "Epoch 32/50\n",
      "9690/9690 [==============================] - 2s 208us/sample - loss: 8.3712e-05 - accuracy: 0.9999 - val_loss: 0.1489 - val_accuracy: 0.9939\n",
      "Epoch 33/50\n",
      "9690/9690 [==============================] - 2s 199us/sample - loss: 4.5395e-09 - accuracy: 1.0000 - val_loss: 0.1069 - val_accuracy: 0.9942\n",
      "Epoch 34/50\n",
      "9690/9690 [==============================] - 2s 198us/sample - loss: 2.6869e-06 - accuracy: 1.0000 - val_loss: 0.1024 - val_accuracy: 0.9942\n",
      "Epoch 35/50\n",
      "9690/9690 [==============================] - 2s 205us/sample - loss: 1.2302e-11 - accuracy: 1.0000 - val_loss: 0.1151 - val_accuracy: 0.9926\n",
      "Epoch 36/50\n",
      "9690/9690 [==============================] - 2s 198us/sample - loss: 0.0021 - accuracy: 0.9998 - val_loss: 0.0965 - val_accuracy: 0.9942\n",
      "Epoch 37/50\n",
      "9690/9690 [==============================] - 2s 200us/sample - loss: 0.0022 - accuracy: 0.9998 - val_loss: 0.0815 - val_accuracy: 0.9929\n",
      "Epoch 38/50\n",
      "9690/9690 [==============================] - 2s 201us/sample - loss: 1.2209e-06 - accuracy: 1.0000 - val_loss: 0.1273 - val_accuracy: 0.9922\n",
      "Epoch 39/50\n",
      "9690/9690 [==============================] - 2s 208us/sample - loss: 2.1871e-08 - accuracy: 1.0000 - val_loss: 0.0893 - val_accuracy: 0.9939\n",
      "Epoch 40/50\n",
      "9690/9690 [==============================] - 2s 204us/sample - loss: 5.9822e-04 - accuracy: 0.9999 - val_loss: 0.0722 - val_accuracy: 0.9939\n",
      "Epoch 41/50\n",
      "9690/9690 [==============================] - 2s 206us/sample - loss: 3.0898e-06 - accuracy: 1.0000 - val_loss: 0.0962 - val_accuracy: 0.9945\n",
      "Epoch 42/50\n",
      "9690/9690 [==============================] - 2s 206us/sample - loss: 6.0821e-04 - accuracy: 0.9998 - val_loss: 0.0655 - val_accuracy: 0.9968\n",
      "Epoch 43/50\n",
      "9690/9690 [==============================] - 2s 203us/sample - loss: 6.6432e-10 - accuracy: 1.0000 - val_loss: 0.0716 - val_accuracy: 0.9958\n",
      "Epoch 44/50\n",
      "9690/9690 [==============================] - 2s 200us/sample - loss: 0.0000e+00 - accuracy: 1.0000 - val_loss: 0.0712 - val_accuracy: 0.9961\n",
      "Epoch 45/50\n",
      "9690/9690 [==============================] - 2s 204us/sample - loss: 0.0000e+00 - accuracy: 1.0000 - val_loss: 0.0699 - val_accuracy: 0.9961\n",
      "Epoch 46/50\n",
      "9690/9690 [==============================] - 2s 198us/sample - loss: 3.4164e-04 - accuracy: 0.9998 - val_loss: 0.0942 - val_accuracy: 0.9942\n",
      "Epoch 47/50\n",
      "9690/9690 [==============================] - 2s 199us/sample - loss: 4.9209e-11 - accuracy: 1.0000 - val_loss: 0.0886 - val_accuracy: 0.9951\n",
      "Epoch 48/50\n",
      "9690/9690 [==============================] - 2s 201us/sample - loss: 7.9351e-04 - accuracy: 0.9999 - val_loss: 0.0576 - val_accuracy: 0.9955\n",
      "Epoch 49/50\n",
      "9690/9690 [==============================] - 2s 207us/sample - loss: 0.0000e+00 - accuracy: 1.0000 - val_loss: 0.0591 - val_accuracy: 0.9955\n",
      "Epoch 50/50\n",
      "9690/9690 [==============================] - 2s 200us/sample - loss: 4.5518e-10 - accuracy: 1.0000 - val_loss: 0.0641 - val_accuracy: 0.9951\n"
     ]
    },
    {
     "output_type": "display_data",
     "data": {
      "text/plain": "<IPython.core.display.HTML object>",
      "text/html": "<br/>Waiting for W&B process to finish, PID 33036<br/>Program ended successfully."
     },
     "metadata": {}
    },
    {
     "output_type": "display_data",
     "data": {
      "text/plain": "<IPython.core.display.HTML object>",
      "text/html": "Find user logs for this run at: <code>wandb\\run-20201205_141644-wnlzdhif\\logs\\debug.log</code>"
     },
     "metadata": {}
    },
    {
     "output_type": "display_data",
     "data": {
      "text/plain": "<IPython.core.display.HTML object>",
      "text/html": "Find internal logs for this run at: <code>wandb\\run-20201205_141644-wnlzdhif\\logs\\debug-internal.log</code>"
     },
     "metadata": {}
    },
    {
     "output_type": "display_data",
     "data": {
      "text/plain": "<IPython.core.display.HTML object>",
      "text/html": "<h3>Run summary:</h3><br/><style>\n    table.wandb td:nth-child(1) { padding: 0 10px; text-align: right }\n    </style><table class=\"wandb\">\n<tr><td>epoch</td><td>49</td></tr><tr><td>loss</td><td>0.0</td></tr><tr><td>accuracy</td><td>1.0</td></tr><tr><td>val_loss</td><td>0.06411</td></tr><tr><td>val_accuracy</td><td>0.99515</td></tr><tr><td>_step</td><td>50</td></tr><tr><td>_runtime</td><td>99</td></tr><tr><td>_timestamp</td><td>1607177903</td></tr><tr><td>best_val_loss</td><td>0.00808</td></tr><tr><td>best_epoch</td><td>4</td></tr><tr><td>Label_class</td><td>speed limit 50</td></tr><tr><td>num_classes</td><td>2</td></tr></table>"
     },
     "metadata": {}
    },
    {
     "output_type": "display_data",
     "data": {
      "text/plain": "<IPython.core.display.HTML object>",
      "text/html": "<h3>Run history:</h3><br/><style>\n    table.wandb td:nth-child(1) { padding: 0 10px; text-align: right }\n    </style><table class=\"wandb\">\n<tr><td>epoch</td><td>▁▁▁▁▂▂▂▂▂▃▃▃▃▃▃▄▄▄▄▄▅▅▅▅▅▅▆▆▆▆▆▆▇▇▇▇▇███</td></tr><tr><td>loss</td><td>█▁▁▁▁▁▁▁▁▁▁▁▁▁▁▁▁▁▁▁▁▁▁▁▁▁▁▁▁▁▁▁▁▁▁▁▁▁▁▁</td></tr><tr><td>accuracy</td><td>▁███████████████████████████████████████</td></tr><tr><td>val_loss</td><td>▂▂▂▂▂▄▂▂▂▁▂▃▄▄▃▃▃▃▃▅▃▃▅▅▄█▆▆▅▅▇▅▅▄▄▄▅▅▃▄</td></tr><tr><td>val_accuracy</td><td>▄▅▅▆▅▄▆▇▇█▇▅▃▄▅▆▆▅▅▄▆▇▄▄▆▃▃▃▃▂▁▃▄▆▅▆▃▄▅▄</td></tr><tr><td>_step</td><td>▁▁▁▁▂▂▂▂▂▃▃▃▃▃▃▄▄▄▄▄▅▅▅▅▅▅▆▆▆▆▆▆▇▇▇▇▇███</td></tr><tr><td>_runtime</td><td>▁▁▁▁▂▂▂▂▂▃▃▃▃▃▃▄▄▄▄▄▅▅▅▅▅▆▆▆▆▆▆▇▇▇▇▇████</td></tr><tr><td>_timestamp</td><td>▁▁▁▁▂▂▂▂▂▃▃▃▃▃▃▄▄▄▄▄▅▅▅▅▅▆▆▆▆▆▆▇▇▇▇▇████</td></tr><tr><td>num_classes</td><td>▁</td></tr></table><br/>"
     },
     "metadata": {}
    },
    {
     "output_type": "display_data",
     "data": {
      "text/plain": "<IPython.core.display.HTML object>",
      "text/html": "Synced 5 W&B file(s), 1 media file(s), 0 artifact file(s) and 1 other file(s)"
     },
     "metadata": {}
    },
    {
     "output_type": "display_data",
     "data": {
      "text/plain": "<IPython.core.display.HTML object>",
      "text/html": "\n                    <br/>Synced <strong style=\"color:#cdcd00\">major-fog-4</strong>: <a href=\"https://wandb.ai/supervisedlearning/CNN%20all%204000%20moved%20to%20test%20experiments/runs/wnlzdhif\" target=\"_blank\">https://wandb.ai/supervisedlearning/CNN%20all%204000%20moved%20to%20test%20experiments/runs/wnlzdhif</a><br/>\n                "
     },
     "metadata": {}
    },
    {
     "output_type": "stream",
     "name": "stderr",
     "text": [
      "wandb: wandb version 0.10.12 is available!  To upgrade, please run:\nwandb:  $ pip install wandb --upgrade\n"
     ]
    },
    {
     "output_type": "display_data",
     "data": {
      "text/plain": "<IPython.core.display.HTML object>",
      "text/html": "\n                Tracking run with wandb version 0.10.8<br/>\n                Syncing run <strong style=\"color:#cdcd00\">avid-dream-5</strong> to <a href=\"https://wandb.ai\" target=\"_blank\">Weights & Biases</a> <a href=\"https://docs.wandb.com/integrations/jupyter.html\" target=\"_blank\">(Documentation)</a>.<br/>\n                Project page: <a href=\"https://wandb.ai/supervisedlearning/CNN%20all%204000%20moved%20to%20test%20experiments\" target=\"_blank\">https://wandb.ai/supervisedlearning/CNN%20all%204000%20moved%20to%20test%20experiments</a><br/>\n                Run page: <a href=\"https://wandb.ai/supervisedlearning/CNN%20all%204000%20moved%20to%20test%20experiments/runs/3gi66lk1\" target=\"_blank\">https://wandb.ai/supervisedlearning/CNN%20all%204000%20moved%20to%20test%20experiments/runs/3gi66lk1</a><br/>\n                Run data is saved locally in <code>wandb\\run-20201205_141832-3gi66lk1</code><br/><br/>\n            "
     },
     "metadata": {}
    },
    {
     "output_type": "stream",
     "name": "stdout",
     "text": [
      "Train on 9690 samples, validate on 3090 samples\n",
      "Epoch 1/50\n",
      "9690/9690 [==============================] - 2s 218us/sample - loss: 0.4037 - accuracy: 0.9914 - val_loss: 0.0583 - val_accuracy: 0.9942\n",
      "Epoch 2/50\n",
      "9690/9690 [==============================] - 2s 207us/sample - loss: 0.0012 - accuracy: 0.9996 - val_loss: 0.0967 - val_accuracy: 0.9935\n",
      "Epoch 3/50\n",
      "9690/9690 [==============================] - 2s 211us/sample - loss: 0.0012 - accuracy: 0.9998 - val_loss: 0.0359 - val_accuracy: 0.9981\n",
      "Epoch 4/50\n",
      "9690/9690 [==============================] - 2s 204us/sample - loss: 0.0027 - accuracy: 0.9999 - val_loss: 0.0373 - val_accuracy: 0.9977\n",
      "Epoch 5/50\n",
      "9690/9690 [==============================] - 2s 206us/sample - loss: 0.0016 - accuracy: 0.9997 - val_loss: 0.0284 - val_accuracy: 0.9981\n",
      "Epoch 6/50\n",
      "9690/9690 [==============================] - 2s 207us/sample - loss: 3.5677e-10 - accuracy: 1.0000 - val_loss: 0.0299 - val_accuracy: 0.9984\n",
      "Epoch 7/50\n",
      "9690/9690 [==============================] - 2s 216us/sample - loss: 1.8699e-09 - accuracy: 1.0000 - val_loss: 0.0266 - val_accuracy: 0.9981\n",
      "Epoch 8/50\n",
      "9690/9690 [==============================] - 2s 205us/sample - loss: 2.0249e-07 - accuracy: 1.0000 - val_loss: 0.0217 - val_accuracy: 0.9977\n",
      "Epoch 9/50\n",
      "9690/9690 [==============================] - 2s 200us/sample - loss: 4.1581e-09 - accuracy: 1.0000 - val_loss: 0.0455 - val_accuracy: 0.9974\n",
      "Epoch 10/50\n",
      "9690/9690 [==============================] - 2s 201us/sample - loss: 0.0000e+00 - accuracy: 1.0000 - val_loss: 0.0456 - val_accuracy: 0.9974\n",
      "Epoch 11/50\n",
      "9690/9690 [==============================] - 2s 201us/sample - loss: 3.6907e-11 - accuracy: 1.0000 - val_loss: 0.0507 - val_accuracy: 0.9974\n",
      "Epoch 12/50\n",
      "9690/9690 [==============================] - 2s 199us/sample - loss: 1.4421e-06 - accuracy: 1.0000 - val_loss: 0.0561 - val_accuracy: 0.9968\n",
      "Epoch 13/50\n",
      "9690/9690 [==============================] - 2s 232us/sample - loss: 0.0000e+00 - accuracy: 1.0000 - val_loss: 0.0509 - val_accuracy: 0.9968\n",
      "Epoch 14/50\n",
      "9690/9690 [==============================] - 2s 196us/sample - loss: 2.1415e-07 - accuracy: 1.0000 - val_loss: 0.0162 - val_accuracy: 0.9990\n",
      "Epoch 15/50\n",
      "9690/9690 [==============================] - 2s 193us/sample - loss: 1.8453e-10 - accuracy: 1.0000 - val_loss: 0.0356 - val_accuracy: 0.9981\n",
      "Epoch 16/50\n",
      "9690/9690 [==============================] - 2s 201us/sample - loss: 0.0000e+00 - accuracy: 1.0000 - val_loss: 0.0322 - val_accuracy: 0.9977\n",
      "Epoch 17/50\n",
      "9690/9690 [==============================] - 2s 199us/sample - loss: 4.3852e-05 - accuracy: 1.0000 - val_loss: 0.0169 - val_accuracy: 0.9987\n",
      "Epoch 18/50\n",
      "9690/9690 [==============================] - 2s 190us/sample - loss: 5.8085e-06 - accuracy: 1.0000 - val_loss: 0.0168 - val_accuracy: 0.9987\n",
      "Epoch 19/50\n",
      "9690/9690 [==============================] - 2s 191us/sample - loss: 6.9137e-09 - accuracy: 1.0000 - val_loss: 0.0221 - val_accuracy: 0.9984\n",
      "Epoch 20/50\n",
      "9690/9690 [==============================] - 2s 193us/sample - loss: 0.0000e+00 - accuracy: 1.0000 - val_loss: 0.0212 - val_accuracy: 0.9987\n",
      "Epoch 21/50\n",
      "9690/9690 [==============================] - 2s 190us/sample - loss: 2.0968e-07 - accuracy: 1.0000 - val_loss: 0.0736 - val_accuracy: 0.9939\n",
      "Epoch 22/50\n",
      "9690/9690 [==============================] - 2s 192us/sample - loss: 0.0012 - accuracy: 0.9998 - val_loss: 0.0209 - val_accuracy: 0.9987\n",
      "Epoch 23/50\n",
      "9690/9690 [==============================] - 2s 185us/sample - loss: 8.8866e-04 - accuracy: 0.9999 - val_loss: 0.0250 - val_accuracy: 0.9990\n",
      "Epoch 24/50\n",
      "9690/9690 [==============================] - 2s 188us/sample - loss: 0.0000e+00 - accuracy: 1.0000 - val_loss: 0.0251 - val_accuracy: 0.9990\n",
      "Epoch 25/50\n",
      "9690/9690 [==============================] - 2s 187us/sample - loss: 0.0000e+00 - accuracy: 1.0000 - val_loss: 0.0276 - val_accuracy: 0.9990\n",
      "Epoch 26/50\n",
      "9690/9690 [==============================] - 2s 186us/sample - loss: 0.0000e+00 - accuracy: 1.0000 - val_loss: 0.0277 - val_accuracy: 0.9990\n",
      "Epoch 27/50\n",
      "9690/9690 [==============================] - 2s 186us/sample - loss: 1.7223e-10 - accuracy: 1.0000 - val_loss: 0.0281 - val_accuracy: 0.9990\n",
      "Epoch 28/50\n",
      "9690/9690 [==============================] - 2s 188us/sample - loss: 4.5223e-04 - accuracy: 0.9999 - val_loss: 0.1361 - val_accuracy: 0.9929\n",
      "Epoch 29/50\n",
      "9690/9690 [==============================] - 2s 191us/sample - loss: 7.3197e-09 - accuracy: 1.0000 - val_loss: 0.0520 - val_accuracy: 0.9968\n",
      "Epoch 30/50\n",
      "9690/9690 [==============================] - 2s 184us/sample - loss: 0.0000e+00 - accuracy: 1.0000 - val_loss: 0.0500 - val_accuracy: 0.9968\n",
      "Epoch 31/50\n",
      "9690/9690 [==============================] - 2s 184us/sample - loss: 4.3243e-07 - accuracy: 1.0000 - val_loss: 0.1039 - val_accuracy: 0.9948\n",
      "Epoch 32/50\n",
      "9690/9690 [==============================] - 2s 187us/sample - loss: 1.0769e-07 - accuracy: 1.0000 - val_loss: 0.0701 - val_accuracy: 0.9977\n",
      "Epoch 33/50\n",
      "9690/9690 [==============================] - 2s 188us/sample - loss: 2.4605e-11 - accuracy: 1.0000 - val_loss: 0.0771 - val_accuracy: 0.9968\n",
      "Epoch 34/50\n",
      "9690/9690 [==============================] - 2s 187us/sample - loss: 6.2200e-07 - accuracy: 1.0000 - val_loss: 0.0580 - val_accuracy: 0.9971\n",
      "Epoch 35/50\n",
      "9690/9690 [==============================] - 2s 183us/sample - loss: 2.1610e-06 - accuracy: 1.0000 - val_loss: 0.0538 - val_accuracy: 0.9974\n",
      "Epoch 36/50\n",
      "9690/9690 [==============================] - 2s 189us/sample - loss: 4.9209e-10 - accuracy: 1.0000 - val_loss: 0.0378 - val_accuracy: 0.9981\n",
      "Epoch 37/50\n",
      "9690/9690 [==============================] - 2s 182us/sample - loss: 4.1828e-10 - accuracy: 1.0000 - val_loss: 0.0302 - val_accuracy: 0.9990\n",
      "Epoch 38/50\n",
      "9690/9690 [==============================] - 2s 187us/sample - loss: 5.0439e-10 - accuracy: 1.0000 - val_loss: 0.0226 - val_accuracy: 0.9990\n",
      "Epoch 39/50\n",
      "9690/9690 [==============================] - 2s 189us/sample - loss: 0.0000e+00 - accuracy: 1.0000 - val_loss: 0.0264 - val_accuracy: 0.9984\n",
      "Epoch 40/50\n",
      "9690/9690 [==============================] - 2s 192us/sample - loss: 0.0000e+00 - accuracy: 1.0000 - val_loss: 0.0269 - val_accuracy: 0.9987\n",
      "Epoch 41/50\n",
      "9690/9690 [==============================] - 2s 186us/sample - loss: 0.0000e+00 - accuracy: 1.0000 - val_loss: 0.0266 - val_accuracy: 0.9987\n",
      "Epoch 42/50\n",
      "9690/9690 [==============================] - 2s 190us/sample - loss: 3.1034e-08 - accuracy: 1.0000 - val_loss: 0.0705 - val_accuracy: 0.9977\n",
      "Epoch 43/50\n",
      "9690/9690 [==============================] - 2s 183us/sample - loss: 0.0020 - accuracy: 0.9999 - val_loss: 0.0218 - val_accuracy: 0.9981\n",
      "Epoch 44/50\n",
      "9690/9690 [==============================] - 2s 186us/sample - loss: 0.0000e+00 - accuracy: 1.0000 - val_loss: 0.0217 - val_accuracy: 0.9981\n",
      "Epoch 45/50\n",
      "9690/9690 [==============================] - 2s 189us/sample - loss: 0.0000e+00 - accuracy: 1.0000 - val_loss: 0.0217 - val_accuracy: 0.9981\n",
      "Epoch 46/50\n",
      "9690/9690 [==============================] - 2s 185us/sample - loss: 1.2302e-11 - accuracy: 1.0000 - val_loss: 0.0177 - val_accuracy: 0.9981\n",
      "Epoch 47/50\n",
      "9690/9690 [==============================] - 2s 186us/sample - loss: 0.0000e+00 - accuracy: 1.0000 - val_loss: 0.0181 - val_accuracy: 0.9981\n",
      "Epoch 48/50\n",
      "9690/9690 [==============================] - 2s 186us/sample - loss: 0.0000e+00 - accuracy: 1.0000 - val_loss: 0.0175 - val_accuracy: 0.9981\n",
      "Epoch 49/50\n",
      "9690/9690 [==============================] - 2s 184us/sample - loss: 0.0000e+00 - accuracy: 1.0000 - val_loss: 0.0177 - val_accuracy: 0.9981\n",
      "Epoch 50/50\n",
      "9690/9690 [==============================] - 2s 187us/sample - loss: 0.0000e+00 - accuracy: 1.0000 - val_loss: 0.0146 - val_accuracy: 0.9984\n"
     ]
    },
    {
     "output_type": "display_data",
     "data": {
      "text/plain": "<IPython.core.display.HTML object>",
      "text/html": "<br/>Waiting for W&B process to finish, PID 16672<br/>Program ended successfully."
     },
     "metadata": {}
    },
    {
     "output_type": "display_data",
     "data": {
      "text/plain": "<IPython.core.display.HTML object>",
      "text/html": "Find user logs for this run at: <code>wandb\\run-20201205_141832-3gi66lk1\\logs\\debug.log</code>"
     },
     "metadata": {}
    },
    {
     "output_type": "display_data",
     "data": {
      "text/plain": "<IPython.core.display.HTML object>",
      "text/html": "Find internal logs for this run at: <code>wandb\\run-20201205_141832-3gi66lk1\\logs\\debug-internal.log</code>"
     },
     "metadata": {}
    },
    {
     "output_type": "display_data",
     "data": {
      "text/plain": "<IPython.core.display.HTML object>",
      "text/html": "<h3>Run summary:</h3><br/><style>\n    table.wandb td:nth-child(1) { padding: 0 10px; text-align: right }\n    </style><table class=\"wandb\">\n<tr><td>epoch</td><td>49</td></tr><tr><td>loss</td><td>0.0</td></tr><tr><td>accuracy</td><td>1.0</td></tr><tr><td>val_loss</td><td>0.01462</td></tr><tr><td>val_accuracy</td><td>0.99838</td></tr><tr><td>_step</td><td>50</td></tr><tr><td>_runtime</td><td>96</td></tr><tr><td>_timestamp</td><td>1607178008</td></tr><tr><td>best_val_loss</td><td>0.01462</td></tr><tr><td>best_epoch</td><td>49</td></tr><tr><td>Label_class</td><td>speed limit 60</td></tr><tr><td>num_classes</td><td>2</td></tr></table>"
     },
     "metadata": {}
    },
    {
     "output_type": "display_data",
     "data": {
      "text/plain": "<IPython.core.display.HTML object>",
      "text/html": "<h3>Run history:</h3><br/><style>\n    table.wandb td:nth-child(1) { padding: 0 10px; text-align: right }\n    </style><table class=\"wandb\">\n<tr><td>epoch</td><td>▁▁▁▁▂▂▂▂▂▃▃▃▃▃▃▄▄▄▄▄▅▅▅▅▅▅▆▆▆▆▆▆▇▇▇▇▇███</td></tr><tr><td>loss</td><td>█▁▁▁▁▁▁▁▁▁▁▁▁▁▁▁▁▁▁▁▁▁▁▁▁▁▁▁▁▁▁▁▁▁▁▁▁▁▁▁</td></tr><tr><td>accuracy</td><td>▁███████████████████████████████████████</td></tr><tr><td>val_loss</td><td>▄▆▂▂▂▂▁▃▃▃▃▁▂▁▁▁▄▁▂▂▂▂█▃▆▄▅▄▂▂▁▂▂▄▁▁▁▁▁▁</td></tr><tr><td>val_accuracy</td><td>▂▂▇▇▇▇▇▆▆▅▅█▇██▇▂█████▁▅▃▇▅▆▇██▇█▇▇▇▇▇▇▇</td></tr><tr><td>_step</td><td>▁▁▁▁▂▂▂▂▂▃▃▃▃▃▃▄▄▄▄▄▅▅▅▅▅▅▆▆▆▆▆▆▇▇▇▇▇███</td></tr><tr><td>_runtime</td><td>▁▁▁▁▂▂▂▂▃▃▃▃▃▃▄▄▄▄▄▅▅▅▅▅▅▆▆▆▆▆▆▇▇▇▇▇████</td></tr><tr><td>_timestamp</td><td>▁▁▁▁▂▂▂▂▃▃▃▃▃▃▄▄▄▄▄▅▅▅▅▅▅▆▆▆▆▆▆▇▇▇▇▇████</td></tr><tr><td>num_classes</td><td>▁</td></tr></table><br/>"
     },
     "metadata": {}
    },
    {
     "output_type": "display_data",
     "data": {
      "text/plain": "<IPython.core.display.HTML object>",
      "text/html": "Synced 5 W&B file(s), 1 media file(s), 0 artifact file(s) and 1 other file(s)"
     },
     "metadata": {}
    },
    {
     "output_type": "display_data",
     "data": {
      "text/plain": "<IPython.core.display.HTML object>",
      "text/html": "\n                    <br/>Synced <strong style=\"color:#cdcd00\">avid-dream-5</strong>: <a href=\"https://wandb.ai/supervisedlearning/CNN%20all%204000%20moved%20to%20test%20experiments/runs/3gi66lk1\" target=\"_blank\">https://wandb.ai/supervisedlearning/CNN%20all%204000%20moved%20to%20test%20experiments/runs/3gi66lk1</a><br/>\n                "
     },
     "metadata": {}
    },
    {
     "output_type": "stream",
     "name": "stderr",
     "text": [
      "wandb: wandb version 0.10.12 is available!  To upgrade, please run:\nwandb:  $ pip install wandb --upgrade\n"
     ]
    },
    {
     "output_type": "display_data",
     "data": {
      "text/plain": "<IPython.core.display.HTML object>",
      "text/html": "\n                Tracking run with wandb version 0.10.8<br/>\n                Syncing run <strong style=\"color:#cdcd00\">upbeat-moon-6</strong> to <a href=\"https://wandb.ai\" target=\"_blank\">Weights & Biases</a> <a href=\"https://docs.wandb.com/integrations/jupyter.html\" target=\"_blank\">(Documentation)</a>.<br/>\n                Project page: <a href=\"https://wandb.ai/supervisedlearning/CNN%20all%204000%20moved%20to%20test%20experiments\" target=\"_blank\">https://wandb.ai/supervisedlearning/CNN%20all%204000%20moved%20to%20test%20experiments</a><br/>\n                Run page: <a href=\"https://wandb.ai/supervisedlearning/CNN%20all%204000%20moved%20to%20test%20experiments/runs/2kz2xjkf\" target=\"_blank\">https://wandb.ai/supervisedlearning/CNN%20all%204000%20moved%20to%20test%20experiments/runs/2kz2xjkf</a><br/>\n                Run data is saved locally in <code>wandb\\run-20201205_142018-2kz2xjkf</code><br/><br/>\n            "
     },
     "metadata": {}
    },
    {
     "output_type": "stream",
     "name": "stdout",
     "text": [
      "Train on 9690 samples, validate on 3090 samples\n",
      "Epoch 1/50\n",
      "9690/9690 [==============================] - 2s 193us/sample - loss: 0.7022 - accuracy: 0.9831 - val_loss: 0.0832 - val_accuracy: 0.9929\n",
      "Epoch 2/50\n",
      "9690/9690 [==============================] - 2s 188us/sample - loss: 0.0023 - accuracy: 0.9996 - val_loss: 0.1026 - val_accuracy: 0.9922\n",
      "Epoch 3/50\n",
      "9690/9690 [==============================] - 2s 191us/sample - loss: 1.4075e-04 - accuracy: 1.0000 - val_loss: 0.0318 - val_accuracy: 0.9968\n",
      "Epoch 4/50\n",
      "9690/9690 [==============================] - 2s 184us/sample - loss: 2.8637e-04 - accuracy: 0.9999 - val_loss: 0.0912 - val_accuracy: 0.9942\n",
      "Epoch 5/50\n",
      "9690/9690 [==============================] - 2s 187us/sample - loss: 6.8403e-05 - accuracy: 1.0000 - val_loss: 0.0706 - val_accuracy: 0.9961\n",
      "Epoch 6/50\n",
      "9690/9690 [==============================] - 2s 181us/sample - loss: 0.0011 - accuracy: 0.9997 - val_loss: 0.0591 - val_accuracy: 0.9961\n",
      "Epoch 7/50\n",
      "9690/9690 [==============================] - 2s 184us/sample - loss: 3.9607e-08 - accuracy: 1.0000 - val_loss: 0.0819 - val_accuracy: 0.9961\n",
      "Epoch 8/50\n",
      "9690/9690 [==============================] - 2s 186us/sample - loss: 1.0082e-06 - accuracy: 1.0000 - val_loss: 0.0753 - val_accuracy: 0.9955\n",
      "Epoch 9/50\n",
      "9690/9690 [==============================] - 2s 185us/sample - loss: 0.0000e+00 - accuracy: 1.0000 - val_loss: 0.0776 - val_accuracy: 0.9955\n",
      "Epoch 10/50\n",
      "9690/9690 [==============================] - 2s 187us/sample - loss: 2.4605e-11 - accuracy: 1.0000 - val_loss: 0.0769 - val_accuracy: 0.9958\n",
      "Epoch 11/50\n",
      "9690/9690 [==============================] - 2s 184us/sample - loss: 6.9675e-08 - accuracy: 1.0000 - val_loss: 0.1204 - val_accuracy: 0.9948\n",
      "Epoch 12/50\n",
      "9690/9690 [==============================] - 2s 189us/sample - loss: 2.5835e-10 - accuracy: 1.0000 - val_loss: 0.0908 - val_accuracy: 0.9955\n",
      "Epoch 13/50\n",
      "9690/9690 [==============================] - 2s 187us/sample - loss: 7.5382e-07 - accuracy: 1.0000 - val_loss: 0.1014 - val_accuracy: 0.9942\n",
      "Epoch 14/50\n",
      "9690/9690 [==============================] - 2s 189us/sample - loss: 2.0914e-10 - accuracy: 1.0000 - val_loss: 0.0996 - val_accuracy: 0.9945\n",
      "Epoch 15/50\n",
      "9690/9690 [==============================] - 2s 184us/sample - loss: 0.0000e+00 - accuracy: 1.0000 - val_loss: 0.0982 - val_accuracy: 0.9958\n",
      "Epoch 16/50\n",
      "9690/9690 [==============================] - 2s 189us/sample - loss: 0.0000e+00 - accuracy: 1.0000 - val_loss: 0.0943 - val_accuracy: 0.9955\n",
      "Epoch 17/50\n",
      "9690/9690 [==============================] - 2s 186us/sample - loss: 2.8295e-10 - accuracy: 1.0000 - val_loss: 0.1067 - val_accuracy: 0.9951\n",
      "Epoch 18/50\n",
      "9690/9690 [==============================] - 2s 189us/sample - loss: 2.2021e-09 - accuracy: 1.0000 - val_loss: 0.0836 - val_accuracy: 0.9951\n",
      "Epoch 19/50\n",
      "9690/9690 [==============================] - 2s 189us/sample - loss: 7.3814e-11 - accuracy: 1.0000 - val_loss: 0.0936 - val_accuracy: 0.9942\n",
      "Epoch 20/50\n",
      "9690/9690 [==============================] - 2s 189us/sample - loss: 6.7878e-07 - accuracy: 1.0000 - val_loss: 0.1205 - val_accuracy: 0.9951\n",
      "Epoch 21/50\n",
      "9690/9690 [==============================] - 2s 190us/sample - loss: 4.6848e-04 - accuracy: 0.9998 - val_loss: 0.1236 - val_accuracy: 0.9951\n",
      "Epoch 22/50\n",
      "9690/9690 [==============================] - 2s 184us/sample - loss: 5.6590e-10 - accuracy: 1.0000 - val_loss: 0.1089 - val_accuracy: 0.9955\n",
      "Epoch 23/50\n",
      "9690/9690 [==============================] - 2s 187us/sample - loss: 2.2144e-10 - accuracy: 1.0000 - val_loss: 0.1138 - val_accuracy: 0.9961\n",
      "Epoch 24/50\n",
      "9690/9690 [==============================] - 2s 189us/sample - loss: 7.2093e-08 - accuracy: 1.0000 - val_loss: 0.0990 - val_accuracy: 0.9948\n",
      "Epoch 25/50\n",
      "9690/9690 [==============================] - 2s 185us/sample - loss: 4.0451e-05 - accuracy: 1.0000 - val_loss: 0.0987 - val_accuracy: 0.9951\n",
      "Epoch 26/50\n",
      "9690/9690 [==============================] - 2s 188us/sample - loss: 2.4662e-04 - accuracy: 0.9999 - val_loss: 0.0665 - val_accuracy: 0.9968\n",
      "Epoch 27/50\n",
      "9690/9690 [==============================] - 2s 188us/sample - loss: 0.0000e+00 - accuracy: 1.0000 - val_loss: 0.0749 - val_accuracy: 0.9971\n",
      "Epoch 28/50\n",
      "9690/9690 [==============================] - 2s 187us/sample - loss: 1.2302e-11 - accuracy: 1.0000 - val_loss: 0.0782 - val_accuracy: 0.9968\n",
      "Epoch 29/50\n",
      "9690/9690 [==============================] - 2s 188us/sample - loss: 0.0000e+00 - accuracy: 1.0000 - val_loss: 0.0752 - val_accuracy: 0.9968\n",
      "Epoch 30/50\n",
      "9690/9690 [==============================] - 2s 182us/sample - loss: 0.0000e+00 - accuracy: 1.0000 - val_loss: 0.0759 - val_accuracy: 0.9968\n",
      "Epoch 31/50\n",
      "9690/9690 [==============================] - 2s 187us/sample - loss: 0.0000e+00 - accuracy: 1.0000 - val_loss: 0.0766 - val_accuracy: 0.9968\n",
      "Epoch 32/50\n",
      "9690/9690 [==============================] - 2s 189us/sample - loss: 1.2302e-11 - accuracy: 1.0000 - val_loss: 0.0814 - val_accuracy: 0.9968\n",
      "Epoch 33/50\n",
      "9690/9690 [==============================] - 2s 187us/sample - loss: 0.0000e+00 - accuracy: 1.0000 - val_loss: 0.0806 - val_accuracy: 0.9968\n",
      "Epoch 34/50\n",
      "9690/9690 [==============================] - 2s 190us/sample - loss: 4.0598e-10 - accuracy: 1.0000 - val_loss: 0.0703 - val_accuracy: 0.9958\n",
      "Epoch 35/50\n",
      "9690/9690 [==============================] - 2s 190us/sample - loss: 8.6116e-11 - accuracy: 1.0000 - val_loss: 0.0606 - val_accuracy: 0.9971\n",
      "Epoch 36/50\n",
      "9690/9690 [==============================] - 2s 188us/sample - loss: 7.3934e-09 - accuracy: 1.0000 - val_loss: 0.1612 - val_accuracy: 0.9929\n",
      "Epoch 37/50\n",
      "9690/9690 [==============================] - 2s 192us/sample - loss: 0.0015 - accuracy: 0.9999 - val_loss: 0.0761 - val_accuracy: 0.9958\n",
      "Epoch 38/50\n",
      "9690/9690 [==============================] - 2s 190us/sample - loss: 4.1828e-10 - accuracy: 1.0000 - val_loss: 0.0692 - val_accuracy: 0.9971\n",
      "Epoch 39/50\n",
      "9690/9690 [==============================] - 2s 189us/sample - loss: 0.0000e+00 - accuracy: 1.0000 - val_loss: 0.0630 - val_accuracy: 0.9971\n",
      "Epoch 40/50\n",
      "9690/9690 [==============================] - 2s 190us/sample - loss: 2.9525e-10 - accuracy: 1.0000 - val_loss: 0.1050 - val_accuracy: 0.9945\n",
      "Epoch 41/50\n",
      "9690/9690 [==============================] - 2s 188us/sample - loss: 0.0000e+00 - accuracy: 1.0000 - val_loss: 0.0778 - val_accuracy: 0.9958\n",
      "Epoch 42/50\n",
      "9690/9690 [==============================] - 2s 184us/sample - loss: 2.0053e-09 - accuracy: 1.0000 - val_loss: 0.0973 - val_accuracy: 0.9951\n",
      "Epoch 43/50\n",
      "9690/9690 [==============================] - 2s 187us/sample - loss: 7.3814e-11 - accuracy: 1.0000 - val_loss: 0.0687 - val_accuracy: 0.9964\n",
      "Epoch 44/50\n",
      "9690/9690 [==============================] - 2s 191us/sample - loss: 2.8295e-10 - accuracy: 1.0000 - val_loss: 0.0990 - val_accuracy: 0.9955\n",
      "Epoch 45/50\n",
      "9690/9690 [==============================] - 2s 192us/sample - loss: 0.0016 - accuracy: 0.9999 - val_loss: 0.0742 - val_accuracy: 0.9961\n",
      "Epoch 46/50\n",
      "9690/9690 [==============================] - 2s 191us/sample - loss: 2.3656e-04 - accuracy: 0.9999 - val_loss: 0.0537 - val_accuracy: 0.9968\n",
      "Epoch 47/50\n",
      "9690/9690 [==============================] - 2s 187us/sample - loss: 8.6116e-11 - accuracy: 1.0000 - val_loss: 0.0446 - val_accuracy: 0.9971\n",
      "Epoch 48/50\n",
      "9690/9690 [==============================] - 2s 191us/sample - loss: 1.2302e-11 - accuracy: 1.0000 - val_loss: 0.0394 - val_accuracy: 0.9977\n",
      "Epoch 49/50\n",
      "9690/9690 [==============================] - 2s 190us/sample - loss: 0.0016 - accuracy: 0.9998 - val_loss: 0.0847 - val_accuracy: 0.9951\n",
      "Epoch 50/50\n",
      "9690/9690 [==============================] - 2s 192us/sample - loss: 0.0017 - accuracy: 0.9998 - val_loss: 0.1125 - val_accuracy: 0.9961\n"
     ]
    },
    {
     "output_type": "display_data",
     "data": {
      "text/plain": "<IPython.core.display.HTML object>",
      "text/html": "<br/>Waiting for W&B process to finish, PID 32932<br/>Program ended successfully."
     },
     "metadata": {}
    },
    {
     "output_type": "display_data",
     "data": {
      "text/plain": "<IPython.core.display.HTML object>",
      "text/html": "Find user logs for this run at: <code>wandb\\run-20201205_142018-2kz2xjkf\\logs\\debug.log</code>"
     },
     "metadata": {}
    },
    {
     "output_type": "display_data",
     "data": {
      "text/plain": "<IPython.core.display.HTML object>",
      "text/html": "Find internal logs for this run at: <code>wandb\\run-20201205_142018-2kz2xjkf\\logs\\debug-internal.log</code>"
     },
     "metadata": {}
    },
    {
     "output_type": "display_data",
     "data": {
      "text/plain": "<IPython.core.display.HTML object>",
      "text/html": "<h3>Run summary:</h3><br/><style>\n    table.wandb td:nth-child(1) { padding: 0 10px; text-align: right }\n    </style><table class=\"wandb\">\n<tr><td>epoch</td><td>49</td></tr><tr><td>loss</td><td>0.00169</td></tr><tr><td>accuracy</td><td>0.99979</td></tr><tr><td>val_loss</td><td>0.11253</td></tr><tr><td>val_accuracy</td><td>0.99612</td></tr><tr><td>_step</td><td>50</td></tr><tr><td>_runtime</td><td>93</td></tr><tr><td>_timestamp</td><td>1607178111</td></tr><tr><td>best_val_loss</td><td>0.03185</td></tr><tr><td>best_epoch</td><td>2</td></tr><tr><td>Label_class</td><td>speed limit 70</td></tr><tr><td>num_classes</td><td>2</td></tr></table>"
     },
     "metadata": {}
    },
    {
     "output_type": "display_data",
     "data": {
      "text/plain": "<IPython.core.display.HTML object>",
      "text/html": "<h3>Run history:</h3><br/><style>\n    table.wandb td:nth-child(1) { padding: 0 10px; text-align: right }\n    </style><table class=\"wandb\">\n<tr><td>epoch</td><td>▁▁▁▁▂▂▂▂▂▃▃▃▃▃▃▄▄▄▄▄▅▅▅▅▅▅▆▆▆▆▆▆▇▇▇▇▇███</td></tr><tr><td>loss</td><td>█▁▁▁▁▁▁▁▁▁▁▁▁▁▁▁▁▁▁▁▁▁▁▁▁▁▁▁▁▁▁▁▁▁▁▁▁▁▁▁</td></tr><tr><td>accuracy</td><td>▁███████████████████████████████████████</td></tr><tr><td>val_loss</td><td>▄▅▁▄▂▄▃▃▆▄▅▅▄▅▄▄▆▅▅▅▃▃▄▃▃▄▄▃█▃▃▃▃▅▃▅▂▂▁▅</td></tr><tr><td>val_accuracy</td><td>▂▁▇▃▆▆▅▅▄▅▃▄▅▅▅▃▅▅▆▄▇▇▇▇▇▇▇▆▂▆▇▇▆▅▆▅▇▇█▆</td></tr><tr><td>_step</td><td>▁▁▁▁▂▂▂▂▂▃▃▃▃▃▃▄▄▄▄▄▅▅▅▅▅▅▆▆▆▆▆▆▇▇▇▇▇███</td></tr><tr><td>_runtime</td><td>▁▁▁▁▂▂▂▂▂▃▃▃▃▃▃▄▄▄▄▄▅▅▅▅▅▆▆▆▆▆▆▇▇▇▇▇████</td></tr><tr><td>_timestamp</td><td>▁▁▁▁▂▂▂▂▂▃▃▃▃▃▃▄▄▄▄▄▅▅▅▅▅▆▆▆▆▆▆▇▇▇▇▇████</td></tr><tr><td>num_classes</td><td>▁</td></tr></table><br/>"
     },
     "metadata": {}
    },
    {
     "output_type": "display_data",
     "data": {
      "text/plain": "<IPython.core.display.HTML object>",
      "text/html": "Synced 5 W&B file(s), 1 media file(s), 0 artifact file(s) and 1 other file(s)"
     },
     "metadata": {}
    },
    {
     "output_type": "display_data",
     "data": {
      "text/plain": "<IPython.core.display.HTML object>",
      "text/html": "\n                    <br/>Synced <strong style=\"color:#cdcd00\">upbeat-moon-6</strong>: <a href=\"https://wandb.ai/supervisedlearning/CNN%20all%204000%20moved%20to%20test%20experiments/runs/2kz2xjkf\" target=\"_blank\">https://wandb.ai/supervisedlearning/CNN%20all%204000%20moved%20to%20test%20experiments/runs/2kz2xjkf</a><br/>\n                "
     },
     "metadata": {}
    },
    {
     "output_type": "stream",
     "name": "stderr",
     "text": [
      "wandb: wandb version 0.10.12 is available!  To upgrade, please run:\nwandb:  $ pip install wandb --upgrade\n"
     ]
    },
    {
     "output_type": "display_data",
     "data": {
      "text/plain": "<IPython.core.display.HTML object>",
      "text/html": "\n                Tracking run with wandb version 0.10.8<br/>\n                Syncing run <strong style=\"color:#cdcd00\">morning-totem-7</strong> to <a href=\"https://wandb.ai\" target=\"_blank\">Weights & Biases</a> <a href=\"https://docs.wandb.com/integrations/jupyter.html\" target=\"_blank\">(Documentation)</a>.<br/>\n                Project page: <a href=\"https://wandb.ai/supervisedlearning/CNN%20all%204000%20moved%20to%20test%20experiments\" target=\"_blank\">https://wandb.ai/supervisedlearning/CNN%20all%204000%20moved%20to%20test%20experiments</a><br/>\n                Run page: <a href=\"https://wandb.ai/supervisedlearning/CNN%20all%204000%20moved%20to%20test%20experiments/runs/bf2qw2cf\" target=\"_blank\">https://wandb.ai/supervisedlearning/CNN%20all%204000%20moved%20to%20test%20experiments/runs/bf2qw2cf</a><br/>\n                Run data is saved locally in <code>wandb\\run-20201205_142200-bf2qw2cf</code><br/><br/>\n            "
     },
     "metadata": {}
    },
    {
     "output_type": "stream",
     "name": "stdout",
     "text": [
      "Train on 9690 samples, validate on 3090 samples\n",
      "Epoch 1/50\n",
      "9690/9690 [==============================] - 2s 199us/sample - loss: 0.2802 - accuracy: 0.9935 - val_loss: 0.0015 - val_accuracy: 0.9997\n",
      "Epoch 2/50\n",
      "9690/9690 [==============================] - 2s 191us/sample - loss: 3.9840e-05 - accuracy: 1.0000 - val_loss: 4.4914e-07 - val_accuracy: 1.0000\n",
      "Epoch 3/50\n",
      "9690/9690 [==============================] - 2s 185us/sample - loss: 0.0022 - accuracy: 0.9997 - val_loss: 1.7541e-07 - val_accuracy: 1.0000\n",
      "Epoch 4/50\n",
      "9690/9690 [==============================] - 2s 192us/sample - loss: 5.2922e-04 - accuracy: 0.9999 - val_loss: 1.5432e-10 - val_accuracy: 1.0000\n",
      "Epoch 5/50\n",
      "9690/9690 [==============================] - 2s 191us/sample - loss: 2.4605e-11 - accuracy: 1.0000 - val_loss: 3.8579e-10 - val_accuracy: 1.0000\n",
      "Epoch 6/50\n",
      "9690/9690 [==============================] - 2s 184us/sample - loss: 1.2302e-11 - accuracy: 1.0000 - val_loss: 1.0416e-09 - val_accuracy: 1.0000\n",
      "Epoch 7/50\n",
      "9690/9690 [==============================] - 2s 193us/sample - loss: 4.9209e-11 - accuracy: 1.0000 - val_loss: 1.9290e-10 - val_accuracy: 1.0000\n",
      "Epoch 8/50\n",
      "9690/9690 [==============================] - 2s 183us/sample - loss: 0.0000e+00 - accuracy: 1.0000 - val_loss: 3.0863e-10 - val_accuracy: 1.0000\n",
      "Epoch 9/50\n",
      "9690/9690 [==============================] - 2s 190us/sample - loss: 0.0000e+00 - accuracy: 1.0000 - val_loss: 3.0863e-10 - val_accuracy: 1.0000\n",
      "Epoch 10/50\n",
      "9690/9690 [==============================] - 2s 187us/sample - loss: 1.2302e-11 - accuracy: 1.0000 - val_loss: 1.0416e-09 - val_accuracy: 1.0000\n",
      "Epoch 11/50\n",
      "9690/9690 [==============================] - 2s 187us/sample - loss: 4.3106e-05 - accuracy: 1.0000 - val_loss: 2.3147e-10 - val_accuracy: 1.0000\n",
      "Epoch 12/50\n",
      "9690/9690 [==============================] - 2s 189us/sample - loss: 5.5010e-04 - accuracy: 0.9999 - val_loss: 9.4929e-08 - val_accuracy: 1.0000\n",
      "Epoch 13/50\n",
      "9690/9690 [==============================] - 2s 185us/sample - loss: 8.0784e-08 - accuracy: 1.0000 - val_loss: 0.0000e+00 - val_accuracy: 1.0000\n",
      "Epoch 14/50\n",
      "9690/9690 [==============================] - 2s 186us/sample - loss: 1.8453e-10 - accuracy: 1.0000 - val_loss: 3.8579e-11 - val_accuracy: 1.0000\n",
      "Epoch 15/50\n",
      "9690/9690 [==============================] - 2s 188us/sample - loss: 1.7223e-10 - accuracy: 1.0000 - val_loss: 4.0894e-09 - val_accuracy: 1.0000\n",
      "Epoch 16/50\n",
      "9690/9690 [==============================] - 2s 191us/sample - loss: 2.4651e-08 - accuracy: 1.0000 - val_loss: 7.7158e-11 - val_accuracy: 1.0000\n",
      "Epoch 17/50\n",
      "9690/9690 [==============================] - 2s 189us/sample - loss: 1.9684e-10 - accuracy: 1.0000 - val_loss: 0.0000e+00 - val_accuracy: 1.0000\n",
      "Epoch 18/50\n",
      "9690/9690 [==============================] - 2s 182us/sample - loss: 3.6907e-11 - accuracy: 1.0000 - val_loss: 0.0000e+00 - val_accuracy: 1.0000\n",
      "Epoch 19/50\n",
      "9690/9690 [==============================] - 2s 191us/sample - loss: 0.0000e+00 - accuracy: 1.0000 - val_loss: 0.0000e+00 - val_accuracy: 1.0000\n",
      "Epoch 20/50\n",
      "9690/9690 [==============================] - 2s 186us/sample - loss: 0.0000e+00 - accuracy: 1.0000 - val_loss: 0.0000e+00 - val_accuracy: 1.0000\n",
      "Epoch 21/50\n",
      "9690/9690 [==============================] - 2s 188us/sample - loss: 0.0000e+00 - accuracy: 1.0000 - val_loss: 0.0000e+00 - val_accuracy: 1.0000\n",
      "Epoch 22/50\n",
      "9690/9690 [==============================] - 2s 183us/sample - loss: 0.0000e+00 - accuracy: 1.0000 - val_loss: 0.0000e+00 - val_accuracy: 1.0000\n",
      "Epoch 23/50\n",
      "9690/9690 [==============================] - 2s 185us/sample - loss: 0.0000e+00 - accuracy: 1.0000 - val_loss: 0.0000e+00 - val_accuracy: 1.0000\n",
      "Epoch 24/50\n",
      "9690/9690 [==============================] - 2s 183us/sample - loss: 0.0000e+00 - accuracy: 1.0000 - val_loss: 0.0000e+00 - val_accuracy: 1.0000\n",
      "Epoch 25/50\n",
      "9690/9690 [==============================] - 2s 188us/sample - loss: 0.0000e+00 - accuracy: 1.0000 - val_loss: 0.0000e+00 - val_accuracy: 1.0000\n",
      "Epoch 26/50\n",
      "9690/9690 [==============================] - 2s 185us/sample - loss: 0.0000e+00 - accuracy: 1.0000 - val_loss: 0.0000e+00 - val_accuracy: 1.0000\n",
      "Epoch 27/50\n",
      "9690/9690 [==============================] - 2s 188us/sample - loss: 7.4267e-08 - accuracy: 1.0000 - val_loss: 0.0000e+00 - val_accuracy: 1.0000\n",
      "Epoch 28/50\n",
      "9690/9690 [==============================] - 2s 183us/sample - loss: 0.0000e+00 - accuracy: 1.0000 - val_loss: 0.0000e+00 - val_accuracy: 1.0000\n",
      "Epoch 29/50\n",
      "9690/9690 [==============================] - 2s 192us/sample - loss: 0.0000e+00 - accuracy: 1.0000 - val_loss: 0.0000e+00 - val_accuracy: 1.0000\n",
      "Epoch 30/50\n",
      "9690/9690 [==============================] - 2s 191us/sample - loss: 0.0000e+00 - accuracy: 1.0000 - val_loss: 0.0000e+00 - val_accuracy: 1.0000\n",
      "Epoch 31/50\n",
      "9690/9690 [==============================] - 2s 185us/sample - loss: 0.0000e+00 - accuracy: 1.0000 - val_loss: 0.0000e+00 - val_accuracy: 1.0000\n",
      "Epoch 32/50\n",
      "9690/9690 [==============================] - 2s 185us/sample - loss: 0.0000e+00 - accuracy: 1.0000 - val_loss: 0.0000e+00 - val_accuracy: 1.0000\n",
      "Epoch 33/50\n",
      "9690/9690 [==============================] - 2s 186us/sample - loss: 0.0000e+00 - accuracy: 1.0000 - val_loss: 0.0000e+00 - val_accuracy: 1.0000\n",
      "Epoch 34/50\n",
      "9690/9690 [==============================] - 2s 183us/sample - loss: 0.0000e+00 - accuracy: 1.0000 - val_loss: 0.0000e+00 - val_accuracy: 1.0000\n",
      "Epoch 35/50\n",
      "9690/9690 [==============================] - 2s 193us/sample - loss: 0.0000e+00 - accuracy: 1.0000 - val_loss: 0.0000e+00 - val_accuracy: 1.0000\n",
      "Epoch 36/50\n",
      "9690/9690 [==============================] - 2s 190us/sample - loss: 0.0000e+00 - accuracy: 1.0000 - val_loss: 0.0000e+00 - val_accuracy: 1.0000\n",
      "Epoch 37/50\n",
      "9690/9690 [==============================] - 2s 190us/sample - loss: 0.0000e+00 - accuracy: 1.0000 - val_loss: 0.0000e+00 - val_accuracy: 1.0000\n",
      "Epoch 38/50\n",
      "9690/9690 [==============================] - 2s 185us/sample - loss: 0.0000e+00 - accuracy: 1.0000 - val_loss: 0.0000e+00 - val_accuracy: 1.0000\n",
      "Epoch 39/50\n",
      "9690/9690 [==============================] - 2s 183us/sample - loss: 1.2302e-11 - accuracy: 1.0000 - val_loss: 0.0000e+00 - val_accuracy: 1.0000\n",
      "Epoch 40/50\n",
      "9690/9690 [==============================] - 2s 182us/sample - loss: 0.0000e+00 - accuracy: 1.0000 - val_loss: 0.0000e+00 - val_accuracy: 1.0000\n",
      "Epoch 41/50\n",
      "9690/9690 [==============================] - 2s 184us/sample - loss: 0.0000e+00 - accuracy: 1.0000 - val_loss: 0.0000e+00 - val_accuracy: 1.0000\n",
      "Epoch 42/50\n",
      "9690/9690 [==============================] - 2s 190us/sample - loss: 0.0000e+00 - accuracy: 1.0000 - val_loss: 0.0000e+00 - val_accuracy: 1.0000\n",
      "Epoch 43/50\n",
      "9690/9690 [==============================] - 2s 187us/sample - loss: 0.0000e+00 - accuracy: 1.0000 - val_loss: 0.0000e+00 - val_accuracy: 1.0000\n",
      "Epoch 44/50\n",
      "9690/9690 [==============================] - 2s 188us/sample - loss: 0.0000e+00 - accuracy: 1.0000 - val_loss: 0.0000e+00 - val_accuracy: 1.0000\n",
      "Epoch 45/50\n",
      "9690/9690 [==============================] - 2s 190us/sample - loss: 0.0000e+00 - accuracy: 1.0000 - val_loss: 0.0000e+00 - val_accuracy: 1.0000\n",
      "Epoch 46/50\n",
      "9690/9690 [==============================] - 2s 189us/sample - loss: 0.0000e+00 - accuracy: 1.0000 - val_loss: 0.0000e+00 - val_accuracy: 1.0000\n",
      "Epoch 47/50\n",
      "9690/9690 [==============================] - 2s 182us/sample - loss: 0.0000e+00 - accuracy: 1.0000 - val_loss: 0.0000e+00 - val_accuracy: 1.0000\n",
      "Epoch 48/50\n",
      "9690/9690 [==============================] - 2s 189us/sample - loss: 0.0000e+00 - accuracy: 1.0000 - val_loss: 0.0000e+00 - val_accuracy: 1.0000\n",
      "Epoch 49/50\n",
      "9690/9690 [==============================] - 2s 188us/sample - loss: 0.0000e+00 - accuracy: 1.0000 - val_loss: 0.0000e+00 - val_accuracy: 1.0000\n",
      "Epoch 50/50\n",
      "9690/9690 [==============================] - 2s 186us/sample - loss: 0.0000e+00 - accuracy: 1.0000 - val_loss: 0.0000e+00 - val_accuracy: 1.0000\n"
     ]
    },
    {
     "output_type": "display_data",
     "data": {
      "text/plain": "<IPython.core.display.HTML object>",
      "text/html": "<br/>Waiting for W&B process to finish, PID 35088<br/>Program ended successfully."
     },
     "metadata": {}
    },
    {
     "output_type": "display_data",
     "data": {
      "text/plain": "<IPython.core.display.HTML object>",
      "text/html": "Find user logs for this run at: <code>wandb\\run-20201205_142200-bf2qw2cf\\logs\\debug.log</code>"
     },
     "metadata": {}
    },
    {
     "output_type": "display_data",
     "data": {
      "text/plain": "<IPython.core.display.HTML object>",
      "text/html": "Find internal logs for this run at: <code>wandb\\run-20201205_142200-bf2qw2cf\\logs\\debug-internal.log</code>"
     },
     "metadata": {}
    },
    {
     "output_type": "display_data",
     "data": {
      "text/plain": "<IPython.core.display.HTML object>",
      "text/html": "<h3>Run summary:</h3><br/><style>\n    table.wandb td:nth-child(1) { padding: 0 10px; text-align: right }\n    </style><table class=\"wandb\">\n<tr><td>epoch</td><td>49</td></tr><tr><td>loss</td><td>0.0</td></tr><tr><td>accuracy</td><td>1.0</td></tr><tr><td>val_loss</td><td>0.0</td></tr><tr><td>val_accuracy</td><td>1.0</td></tr><tr><td>_step</td><td>50</td></tr><tr><td>_runtime</td><td>92</td></tr><tr><td>_timestamp</td><td>1607178212</td></tr><tr><td>best_val_loss</td><td>0.0</td></tr><tr><td>best_epoch</td><td>13</td></tr><tr><td>Label_class</td><td>left turn</td></tr><tr><td>num_classes</td><td>2</td></tr></table>"
     },
     "metadata": {}
    },
    {
     "output_type": "display_data",
     "data": {
      "text/plain": "<IPython.core.display.HTML object>",
      "text/html": "<h3>Run history:</h3><br/><style>\n    table.wandb td:nth-child(1) { padding: 0 10px; text-align: right }\n    </style><table class=\"wandb\">\n<tr><td>epoch</td><td>▁▁▁▁▂▂▂▂▂▃▃▃▃▃▃▄▄▄▄▄▅▅▅▅▅▅▆▆▆▆▆▆▇▇▇▇▇███</td></tr><tr><td>loss</td><td>█▁▁▁▁▁▁▁▁▁▁▁▁▁▁▁▁▁▁▁▁▁▁▁▁▁▁▁▁▁▁▁▁▁▁▁▁▁▁▁</td></tr><tr><td>accuracy</td><td>▁███████████████████████████████████████</td></tr><tr><td>val_loss</td><td>█▁▁▁▁▁▁▁▁▁▁▁▁▁▁▁▁▁▁▁▁▁▁▁▁▁▁▁▁▁▁▁▁▁▁▁▁▁▁▁</td></tr><tr><td>val_accuracy</td><td>▁███████████████████████████████████████</td></tr><tr><td>_step</td><td>▁▁▁▁▂▂▂▂▂▃▃▃▃▃▃▄▄▄▄▄▅▅▅▅▅▅▆▆▆▆▆▆▇▇▇▇▇███</td></tr><tr><td>_runtime</td><td>▁▁▁▁▂▂▂▂▂▃▃▃▃▃▃▄▄▄▄▄▅▅▅▅▅▆▆▆▆▆▆▇▇▇▇▇████</td></tr><tr><td>_timestamp</td><td>▁▁▁▁▂▂▂▂▂▃▃▃▃▃▃▄▄▄▄▄▅▅▅▅▅▆▆▆▆▆▆▇▇▇▇▇████</td></tr><tr><td>num_classes</td><td>▁</td></tr></table><br/>"
     },
     "metadata": {}
    },
    {
     "output_type": "display_data",
     "data": {
      "text/plain": "<IPython.core.display.HTML object>",
      "text/html": "Synced 5 W&B file(s), 1 media file(s), 0 artifact file(s) and 1 other file(s)"
     },
     "metadata": {}
    },
    {
     "output_type": "display_data",
     "data": {
      "text/plain": "<IPython.core.display.HTML object>",
      "text/html": "\n                    <br/>Synced <strong style=\"color:#cdcd00\">morning-totem-7</strong>: <a href=\"https://wandb.ai/supervisedlearning/CNN%20all%204000%20moved%20to%20test%20experiments/runs/bf2qw2cf\" target=\"_blank\">https://wandb.ai/supervisedlearning/CNN%20all%204000%20moved%20to%20test%20experiments/runs/bf2qw2cf</a><br/>\n                "
     },
     "metadata": {}
    },
    {
     "output_type": "stream",
     "name": "stderr",
     "text": [
      "wandb: wandb version 0.10.12 is available!  To upgrade, please run:\nwandb:  $ pip install wandb --upgrade\n"
     ]
    },
    {
     "output_type": "display_data",
     "data": {
      "text/plain": "<IPython.core.display.HTML object>",
      "text/html": "\n                Tracking run with wandb version 0.10.8<br/>\n                Syncing run <strong style=\"color:#cdcd00\">comfy-meadow-8</strong> to <a href=\"https://wandb.ai\" target=\"_blank\">Weights & Biases</a> <a href=\"https://docs.wandb.com/integrations/jupyter.html\" target=\"_blank\">(Documentation)</a>.<br/>\n                Project page: <a href=\"https://wandb.ai/supervisedlearning/CNN%20all%204000%20moved%20to%20test%20experiments\" target=\"_blank\">https://wandb.ai/supervisedlearning/CNN%20all%204000%20moved%20to%20test%20experiments</a><br/>\n                Run page: <a href=\"https://wandb.ai/supervisedlearning/CNN%20all%204000%20moved%20to%20test%20experiments/runs/5dah79lj\" target=\"_blank\">https://wandb.ai/supervisedlearning/CNN%20all%204000%20moved%20to%20test%20experiments/runs/5dah79lj</a><br/>\n                Run data is saved locally in <code>wandb\\run-20201205_142341-5dah79lj</code><br/><br/>\n            "
     },
     "metadata": {}
    },
    {
     "output_type": "stream",
     "name": "stdout",
     "text": [
      "Train on 9690 samples, validate on 3090 samples\n",
      "Epoch 1/50\n",
      "9690/9690 [==============================] - 2s 197us/sample - loss: 0.1293 - accuracy: 0.9937 - val_loss: 0.0094 - val_accuracy: 0.9990\n",
      "Epoch 2/50\n",
      "9690/9690 [==============================] - 2s 196us/sample - loss: 0.0011 - accuracy: 0.9999 - val_loss: 0.0046 - val_accuracy: 0.9990\n",
      "Epoch 3/50\n",
      "9690/9690 [==============================] - 2s 193us/sample - loss: 0.0049 - accuracy: 0.9996 - val_loss: 0.0147 - val_accuracy: 0.9974\n",
      "Epoch 4/50\n",
      "9690/9690 [==============================] - 2s 186us/sample - loss: 6.4955e-09 - accuracy: 1.0000 - val_loss: 0.0133 - val_accuracy: 0.9981\n",
      "Epoch 5/50\n",
      "9690/9690 [==============================] - 2s 186us/sample - loss: 3.9547e-05 - accuracy: 1.0000 - val_loss: 0.0078 - val_accuracy: 0.9987\n",
      "Epoch 6/50\n",
      "9690/9690 [==============================] - 2s 184us/sample - loss: 9.5895e-07 - accuracy: 1.0000 - val_loss: 0.0128 - val_accuracy: 0.9994\n",
      "Epoch 7/50\n",
      "9690/9690 [==============================] - 2s 189us/sample - loss: 2.5361e-06 - accuracy: 1.0000 - val_loss: 0.0149 - val_accuracy: 0.9994\n",
      "Epoch 8/50\n",
      "9690/9690 [==============================] - 2s 187us/sample - loss: 1.1990e-06 - accuracy: 1.0000 - val_loss: 0.0011 - val_accuracy: 0.9997\n",
      "Epoch 9/50\n",
      "9690/9690 [==============================] - 2s 188us/sample - loss: 4.7363e-09 - accuracy: 1.0000 - val_loss: 1.2595e-05 - val_accuracy: 1.0000\n",
      "Epoch 10/50\n",
      "9690/9690 [==============================] - 2s 186us/sample - loss: 2.2390e-09 - accuracy: 1.0000 - val_loss: 0.0039 - val_accuracy: 0.9994\n",
      "Epoch 11/50\n",
      "9690/9690 [==============================] - 2s 183us/sample - loss: 3.5439e-05 - accuracy: 1.0000 - val_loss: 0.0083 - val_accuracy: 0.9997\n",
      "Epoch 12/50\n",
      "9690/9690 [==============================] - 2s 185us/sample - loss: 8.3445e-05 - accuracy: 1.0000 - val_loss: 0.0219 - val_accuracy: 0.9997\n",
      "Epoch 13/50\n",
      "9690/9690 [==============================] - 2s 190us/sample - loss: 4.1078e-05 - accuracy: 1.0000 - val_loss: 0.0065 - val_accuracy: 0.9994\n",
      "Epoch 14/50\n",
      "9690/9690 [==============================] - 2s 189us/sample - loss: 3.5677e-10 - accuracy: 1.0000 - val_loss: 0.0100 - val_accuracy: 0.9994\n",
      "Epoch 15/50\n",
      "9690/9690 [==============================] - 2s 186us/sample - loss: 0.0000e+00 - accuracy: 1.0000 - val_loss: 0.0103 - val_accuracy: 0.9994\n",
      "Epoch 16/50\n",
      "9690/9690 [==============================] - 2s 189us/sample - loss: 2.4605e-11 - accuracy: 1.0000 - val_loss: 0.0051 - val_accuracy: 0.9994\n",
      "Epoch 17/50\n",
      "9690/9690 [==============================] - 2s 182us/sample - loss: 2.7010e-07 - accuracy: 1.0000 - val_loss: 0.0179 - val_accuracy: 0.9994\n",
      "Epoch 18/50\n",
      "9690/9690 [==============================] - 2s 184us/sample - loss: 1.9437e-09 - accuracy: 1.0000 - val_loss: 0.0190 - val_accuracy: 0.9994\n",
      "Epoch 19/50\n",
      "9690/9690 [==============================] - 2s 187us/sample - loss: 3.4446e-10 - accuracy: 1.0000 - val_loss: 0.0132 - val_accuracy: 0.9994\n",
      "Epoch 20/50\n",
      "9690/9690 [==============================] - 2s 189us/sample - loss: 0.0000e+00 - accuracy: 1.0000 - val_loss: 0.0132 - val_accuracy: 0.9994\n",
      "Epoch 21/50\n",
      "9690/9690 [==============================] - 2s 184us/sample - loss: 0.0000e+00 - accuracy: 1.0000 - val_loss: 0.0130 - val_accuracy: 0.9994\n",
      "Epoch 22/50\n",
      "9690/9690 [==============================] - 2s 188us/sample - loss: 4.9209e-11 - accuracy: 1.0000 - val_loss: 0.0144 - val_accuracy: 0.9994\n",
      "Epoch 23/50\n",
      "9690/9690 [==============================] - 2s 187us/sample - loss: 0.0000e+00 - accuracy: 1.0000 - val_loss: 0.0144 - val_accuracy: 0.9994\n",
      "Epoch 24/50\n",
      "9690/9690 [==============================] - 2s 187us/sample - loss: 0.0000e+00 - accuracy: 1.0000 - val_loss: 0.0144 - val_accuracy: 0.9994\n",
      "Epoch 25/50\n",
      "9690/9690 [==============================] - 2s 185us/sample - loss: 0.0000e+00 - accuracy: 1.0000 - val_loss: 0.0145 - val_accuracy: 0.9994\n",
      "Epoch 26/50\n",
      "9690/9690 [==============================] - 2s 183us/sample - loss: 0.0000e+00 - accuracy: 1.0000 - val_loss: 0.0140 - val_accuracy: 0.9994\n",
      "Epoch 27/50\n",
      "9690/9690 [==============================] - 2s 184us/sample - loss: 0.0000e+00 - accuracy: 1.0000 - val_loss: 0.0140 - val_accuracy: 0.9994\n",
      "Epoch 28/50\n",
      "9690/9690 [==============================] - 2s 190us/sample - loss: 0.0000e+00 - accuracy: 1.0000 - val_loss: 0.0139 - val_accuracy: 0.9994\n",
      "Epoch 29/50\n",
      "9690/9690 [==============================] - 2s 191us/sample - loss: 0.0000e+00 - accuracy: 1.0000 - val_loss: 0.0139 - val_accuracy: 0.9994\n",
      "Epoch 30/50\n",
      "9690/9690 [==============================] - 2s 186us/sample - loss: 2.4605e-11 - accuracy: 1.0000 - val_loss: 0.0119 - val_accuracy: 0.9994\n",
      "Epoch 31/50\n",
      "9690/9690 [==============================] - 2s 184us/sample - loss: 0.0000e+00 - accuracy: 1.0000 - val_loss: 0.0123 - val_accuracy: 0.9994\n",
      "Epoch 32/50\n",
      "9690/9690 [==============================] - 2s 182us/sample - loss: 0.0000e+00 - accuracy: 1.0000 - val_loss: 0.0124 - val_accuracy: 0.9994\n",
      "Epoch 33/50\n",
      "9690/9690 [==============================] - 2s 192us/sample - loss: 0.0000e+00 - accuracy: 1.0000 - val_loss: 0.0124 - val_accuracy: 0.9994\n",
      "Epoch 34/50\n",
      "9690/9690 [==============================] - 2s 185us/sample - loss: 1.2302e-11 - accuracy: 1.0000 - val_loss: 0.0130 - val_accuracy: 0.9994\n",
      "Epoch 35/50\n",
      "9690/9690 [==============================] - 2s 189us/sample - loss: 0.0000e+00 - accuracy: 1.0000 - val_loss: 0.0132 - val_accuracy: 0.9994\n",
      "Epoch 36/50\n",
      "9690/9690 [==============================] - 2s 195us/sample - loss: 0.0000e+00 - accuracy: 1.0000 - val_loss: 0.0131 - val_accuracy: 0.9994\n",
      "Epoch 37/50\n",
      "9690/9690 [==============================] - 2s 190us/sample - loss: 0.0000e+00 - accuracy: 1.0000 - val_loss: 0.0131 - val_accuracy: 0.9994\n",
      "Epoch 38/50\n",
      "9690/9690 [==============================] - 2s 189us/sample - loss: 3.6907e-11 - accuracy: 1.0000 - val_loss: 0.0106 - val_accuracy: 0.9994\n",
      "Epoch 39/50\n",
      "9690/9690 [==============================] - 2s 186us/sample - loss: 0.0000e+00 - accuracy: 1.0000 - val_loss: 0.0108 - val_accuracy: 0.9994\n",
      "Epoch 40/50\n",
      "9690/9690 [==============================] - 2s 189us/sample - loss: 0.0000e+00 - accuracy: 1.0000 - val_loss: 0.0110 - val_accuracy: 0.9994\n",
      "Epoch 41/50\n",
      "9690/9690 [==============================] - 2s 191us/sample - loss: 0.0000e+00 - accuracy: 1.0000 - val_loss: 0.0109 - val_accuracy: 0.9994\n",
      "Epoch 42/50\n",
      "9690/9690 [==============================] - 2s 191us/sample - loss: 0.0000e+00 - accuracy: 1.0000 - val_loss: 0.0110 - val_accuracy: 0.9994\n",
      "Epoch 43/50\n",
      "9690/9690 [==============================] - 2s 192us/sample - loss: 0.0000e+00 - accuracy: 1.0000 - val_loss: 0.0110 - val_accuracy: 0.9994\n",
      "Epoch 44/50\n",
      "9690/9690 [==============================] - 2s 188us/sample - loss: 0.0000e+00 - accuracy: 1.0000 - val_loss: 0.0109 - val_accuracy: 0.9994\n",
      "Epoch 45/50\n",
      "9690/9690 [==============================] - 2s 189us/sample - loss: 0.0000e+00 - accuracy: 1.0000 - val_loss: 0.0107 - val_accuracy: 0.9994\n",
      "Epoch 46/50\n",
      "9690/9690 [==============================] - 2s 192us/sample - loss: 0.0000e+00 - accuracy: 1.0000 - val_loss: 0.0106 - val_accuracy: 0.9994\n",
      "Epoch 47/50\n",
      "9690/9690 [==============================] - 2s 191us/sample - loss: 2.4605e-11 - accuracy: 1.0000 - val_loss: 0.0131 - val_accuracy: 0.9994\n",
      "Epoch 48/50\n",
      "9690/9690 [==============================] - 2s 187us/sample - loss: 0.0000e+00 - accuracy: 1.0000 - val_loss: 0.0131 - val_accuracy: 0.9994\n",
      "Epoch 49/50\n",
      "9690/9690 [==============================] - 2s 189us/sample - loss: 0.0000e+00 - accuracy: 1.0000 - val_loss: 0.0129 - val_accuracy: 0.9994\n",
      "Epoch 50/50\n",
      "9690/9690 [==============================] - 2s 191us/sample - loss: 0.0000e+00 - accuracy: 1.0000 - val_loss: 0.0130 - val_accuracy: 0.9994\n"
     ]
    },
    {
     "output_type": "display_data",
     "data": {
      "text/plain": "<IPython.core.display.HTML object>",
      "text/html": "<br/>Waiting for W&B process to finish, PID 31868<br/>Program ended successfully."
     },
     "metadata": {}
    },
    {
     "output_type": "display_data",
     "data": {
      "text/plain": "<IPython.core.display.HTML object>",
      "text/html": "Find user logs for this run at: <code>wandb\\run-20201205_142341-5dah79lj\\logs\\debug.log</code>"
     },
     "metadata": {}
    },
    {
     "output_type": "display_data",
     "data": {
      "text/plain": "<IPython.core.display.HTML object>",
      "text/html": "Find internal logs for this run at: <code>wandb\\run-20201205_142341-5dah79lj\\logs\\debug-internal.log</code>"
     },
     "metadata": {}
    },
    {
     "output_type": "display_data",
     "data": {
      "text/plain": "<IPython.core.display.HTML object>",
      "text/html": "<h3>Run summary:</h3><br/><style>\n    table.wandb td:nth-child(1) { padding: 0 10px; text-align: right }\n    </style><table class=\"wandb\">\n<tr><td>epoch</td><td>49</td></tr><tr><td>loss</td><td>0.0</td></tr><tr><td>accuracy</td><td>1.0</td></tr><tr><td>val_loss</td><td>0.01297</td></tr><tr><td>val_accuracy</td><td>0.99935</td></tr><tr><td>_step</td><td>50</td></tr><tr><td>_runtime</td><td>93</td></tr><tr><td>_timestamp</td><td>1607178314</td></tr><tr><td>best_val_loss</td><td>1e-05</td></tr><tr><td>best_epoch</td><td>8</td></tr><tr><td>Label_class</td><td>right turn</td></tr><tr><td>num_classes</td><td>2</td></tr></table>"
     },
     "metadata": {}
    },
    {
     "output_type": "display_data",
     "data": {
      "text/plain": "<IPython.core.display.HTML object>",
      "text/html": "<h3>Run history:</h3><br/><style>\n    table.wandb td:nth-child(1) { padding: 0 10px; text-align: right }\n    </style><table class=\"wandb\">\n<tr><td>epoch</td><td>▁▁▁▁▂▂▂▂▂▃▃▃▃▃▃▄▄▄▄▄▅▅▅▅▅▅▆▆▆▆▆▆▇▇▇▇▇███</td></tr><tr><td>loss</td><td>█▁▁▁▁▁▁▁▁▁▁▁▁▁▁▁▁▁▁▁▁▁▁▁▁▁▁▁▁▁▁▁▁▁▁▁▁▁▁▁</td></tr><tr><td>accuracy</td><td>▁███████████████████████████████████████</td></tr><tr><td>val_loss</td><td>▄▂▆▅▅▆▁▁▄█▃▄▃▇▇▅▅▆▆▆▅▅▅▅▅▅▅▅▅▅▄▄▄▅▅▄▄▅▅▅</td></tr><tr><td>val_accuracy</td><td>▅▅▁▃▆▆▇█▇▇▆▆▆▆▆▆▆▆▆▆▆▆▆▆▆▆▆▆▆▆▆▆▆▆▆▆▆▆▆▆</td></tr><tr><td>_step</td><td>▁▁▁▁▂▂▂▂▂▃▃▃▃▃▃▄▄▄▄▄▅▅▅▅▅▅▆▆▆▆▆▆▇▇▇▇▇███</td></tr><tr><td>_runtime</td><td>▁▁▁▁▂▂▂▂▂▃▃▃▃▃▃▄▄▄▄▄▅▅▅▅▅▆▆▆▆▆▆▇▇▇▇▇████</td></tr><tr><td>_timestamp</td><td>▁▁▁▁▂▂▂▂▂▃▃▃▃▃▃▄▄▄▄▄▅▅▅▅▅▆▆▆▆▆▆▇▇▇▇▇████</td></tr><tr><td>num_classes</td><td>▁</td></tr></table><br/>"
     },
     "metadata": {}
    },
    {
     "output_type": "display_data",
     "data": {
      "text/plain": "<IPython.core.display.HTML object>",
      "text/html": "Synced 5 W&B file(s), 1 media file(s), 0 artifact file(s) and 1 other file(s)"
     },
     "metadata": {}
    },
    {
     "output_type": "display_data",
     "data": {
      "text/plain": "<IPython.core.display.HTML object>",
      "text/html": "\n                    <br/>Synced <strong style=\"color:#cdcd00\">comfy-meadow-8</strong>: <a href=\"https://wandb.ai/supervisedlearning/CNN%20all%204000%20moved%20to%20test%20experiments/runs/5dah79lj\" target=\"_blank\">https://wandb.ai/supervisedlearning/CNN%20all%204000%20moved%20to%20test%20experiments/runs/5dah79lj</a><br/>\n                "
     },
     "metadata": {}
    },
    {
     "output_type": "stream",
     "name": "stderr",
     "text": [
      "wandb: wandb version 0.10.12 is available!  To upgrade, please run:\nwandb:  $ pip install wandb --upgrade\n"
     ]
    },
    {
     "output_type": "display_data",
     "data": {
      "text/plain": "<IPython.core.display.HTML object>",
      "text/html": "\n                Tracking run with wandb version 0.10.8<br/>\n                Syncing run <strong style=\"color:#cdcd00\">brisk-butterfly-9</strong> to <a href=\"https://wandb.ai\" target=\"_blank\">Weights & Biases</a> <a href=\"https://docs.wandb.com/integrations/jupyter.html\" target=\"_blank\">(Documentation)</a>.<br/>\n                Project page: <a href=\"https://wandb.ai/supervisedlearning/CNN%20all%204000%20moved%20to%20test%20experiments\" target=\"_blank\">https://wandb.ai/supervisedlearning/CNN%20all%204000%20moved%20to%20test%20experiments</a><br/>\n                Run page: <a href=\"https://wandb.ai/supervisedlearning/CNN%20all%204000%20moved%20to%20test%20experiments/runs/ci1nnnj1\" target=\"_blank\">https://wandb.ai/supervisedlearning/CNN%20all%204000%20moved%20to%20test%20experiments/runs/ci1nnnj1</a><br/>\n                Run data is saved locally in <code>wandb\\run-20201205_142523-ci1nnnj1</code><br/><br/>\n            "
     },
     "metadata": {}
    },
    {
     "output_type": "stream",
     "name": "stdout",
     "text": [
      "Train on 9690 samples, validate on 3090 samples\n",
      "Epoch 1/50\n",
      "9690/9690 [==============================] - 2s 196us/sample - loss: 0.1023 - accuracy: 0.9958 - val_loss: 1.2009 - val_accuracy: 0.9903\n",
      "Epoch 2/50\n",
      "9690/9690 [==============================] - 2s 188us/sample - loss: 8.1476e-05 - accuracy: 0.9999 - val_loss: 1.4373 - val_accuracy: 0.9903\n",
      "Epoch 3/50\n",
      "9690/9690 [==============================] - 2s 184us/sample - loss: 2.5151e-04 - accuracy: 0.9998 - val_loss: 1.4094 - val_accuracy: 0.9903\n",
      "Epoch 4/50\n",
      "9690/9690 [==============================] - 2s 187us/sample - loss: 1.0723e-07 - accuracy: 1.0000 - val_loss: 1.3415 - val_accuracy: 0.9903\n",
      "Epoch 5/50\n",
      "9690/9690 [==============================] - 2s 181us/sample - loss: 6.6605e-06 - accuracy: 1.0000 - val_loss: 1.6892 - val_accuracy: 0.9903\n",
      "Epoch 6/50\n",
      "9690/9690 [==============================] - 2s 187us/sample - loss: 1.2302e-11 - accuracy: 1.0000 - val_loss: 1.6822 - val_accuracy: 0.9903\n",
      "Epoch 7/50\n",
      "9690/9690 [==============================] - 2s 193us/sample - loss: 7.1353e-10 - accuracy: 1.0000 - val_loss: 1.5633 - val_accuracy: 0.9903\n",
      "Epoch 8/50\n",
      "9690/9690 [==============================] - 2s 183us/sample - loss: 5.1918e-08 - accuracy: 1.0000 - val_loss: 1.6131 - val_accuracy: 0.9903\n",
      "Epoch 9/50\n",
      "9690/9690 [==============================] - 2s 185us/sample - loss: 1.5870e-09 - accuracy: 1.0000 - val_loss: 1.2707 - val_accuracy: 0.9903\n",
      "Epoch 10/50\n",
      "9690/9690 [==============================] - 2s 189us/sample - loss: 1.1072e-10 - accuracy: 1.0000 - val_loss: 1.3259 - val_accuracy: 0.9903\n",
      "Epoch 11/50\n",
      "9690/9690 [==============================] - 2s 189us/sample - loss: 0.0000e+00 - accuracy: 1.0000 - val_loss: 1.3379 - val_accuracy: 0.9903\n",
      "Epoch 12/50\n",
      "9690/9690 [==============================] - 2s 187us/sample - loss: 0.0000e+00 - accuracy: 1.0000 - val_loss: 1.3371 - val_accuracy: 0.9903\n",
      "Epoch 13/50\n",
      "9690/9690 [==============================] - 2s 183us/sample - loss: 0.0000e+00 - accuracy: 1.0000 - val_loss: 1.3351 - val_accuracy: 0.9903\n",
      "Epoch 14/50\n",
      "9690/9690 [==============================] - 2s 186us/sample - loss: 0.0000e+00 - accuracy: 1.0000 - val_loss: 1.3363 - val_accuracy: 0.9903\n",
      "Epoch 15/50\n",
      "9690/9690 [==============================] - 2s 189us/sample - loss: 0.0000e+00 - accuracy: 1.0000 - val_loss: 1.3374 - val_accuracy: 0.9903\n",
      "Epoch 16/50\n",
      "9690/9690 [==============================] - 2s 188us/sample - loss: 0.0000e+00 - accuracy: 1.0000 - val_loss: 1.3393 - val_accuracy: 0.9903\n",
      "Epoch 17/50\n",
      "9690/9690 [==============================] - 2s 190us/sample - loss: 0.0000e+00 - accuracy: 1.0000 - val_loss: 1.3363 - val_accuracy: 0.9903\n",
      "Epoch 18/50\n",
      "9690/9690 [==============================] - 2s 186us/sample - loss: 0.0000e+00 - accuracy: 1.0000 - val_loss: 1.3418 - val_accuracy: 0.9903\n",
      "Epoch 19/50\n",
      "9690/9690 [==============================] - 2s 185us/sample - loss: 0.0000e+00 - accuracy: 1.0000 - val_loss: 1.3422 - val_accuracy: 0.9903\n",
      "Epoch 20/50\n",
      "9690/9690 [==============================] - 2s 187us/sample - loss: 0.0000e+00 - accuracy: 1.0000 - val_loss: 1.3258 - val_accuracy: 0.9903\n",
      "Epoch 21/50\n",
      "9690/9690 [==============================] - 2s 191us/sample - loss: 0.0000e+00 - accuracy: 1.0000 - val_loss: 1.3303 - val_accuracy: 0.9903\n",
      "Epoch 22/50\n",
      "9690/9690 [==============================] - 2s 187us/sample - loss: 0.0000e+00 - accuracy: 1.0000 - val_loss: 1.3302 - val_accuracy: 0.9903\n",
      "Epoch 23/50\n",
      "9690/9690 [==============================] - 2s 192us/sample - loss: 0.0000e+00 - accuracy: 1.0000 - val_loss: 1.3259 - val_accuracy: 0.9903\n",
      "Epoch 24/50\n",
      "9690/9690 [==============================] - 2s 189us/sample - loss: 0.0000e+00 - accuracy: 1.0000 - val_loss: 1.3266 - val_accuracy: 0.9903\n",
      "Epoch 25/50\n",
      "9690/9690 [==============================] - 2s 188us/sample - loss: 0.0000e+00 - accuracy: 1.0000 - val_loss: 1.3271 - val_accuracy: 0.9903\n",
      "Epoch 26/50\n",
      "9690/9690 [==============================] - 2s 188us/sample - loss: 0.0000e+00 - accuracy: 1.0000 - val_loss: 1.3284 - val_accuracy: 0.9903\n",
      "Epoch 27/50\n",
      "9690/9690 [==============================] - 2s 186us/sample - loss: 0.0000e+00 - accuracy: 1.0000 - val_loss: 1.3281 - val_accuracy: 0.9903\n",
      "Epoch 28/50\n",
      "9690/9690 [==============================] - 2s 193us/sample - loss: 0.0000e+00 - accuracy: 1.0000 - val_loss: 1.3325 - val_accuracy: 0.9903\n",
      "Epoch 29/50\n",
      "9690/9690 [==============================] - 2s 186us/sample - loss: 0.0000e+00 - accuracy: 1.0000 - val_loss: 1.3326 - val_accuracy: 0.9903\n",
      "Epoch 30/50\n",
      "9690/9690 [==============================] - 2s 190us/sample - loss: 0.0000e+00 - accuracy: 1.0000 - val_loss: 1.3257 - val_accuracy: 0.9903\n",
      "Epoch 31/50\n",
      "9690/9690 [==============================] - 2s 191us/sample - loss: 0.0000e+00 - accuracy: 1.0000 - val_loss: 1.3349 - val_accuracy: 0.9903\n",
      "Epoch 32/50\n",
      "9690/9690 [==============================] - 2s 182us/sample - loss: 0.0000e+00 - accuracy: 1.0000 - val_loss: 1.3322 - val_accuracy: 0.9903\n",
      "Epoch 33/50\n",
      "9690/9690 [==============================] - 2s 186us/sample - loss: 0.0000e+00 - accuracy: 1.0000 - val_loss: 1.3305 - val_accuracy: 0.9903\n",
      "Epoch 34/50\n",
      "9690/9690 [==============================] - 2s 184us/sample - loss: 0.0000e+00 - accuracy: 1.0000 - val_loss: 1.3323 - val_accuracy: 0.9903\n",
      "Epoch 35/50\n",
      "9690/9690 [==============================] - 2s 192us/sample - loss: 0.0000e+00 - accuracy: 1.0000 - val_loss: 1.3355 - val_accuracy: 0.9903\n",
      "Epoch 36/50\n",
      "9690/9690 [==============================] - 2s 187us/sample - loss: 0.0000e+00 - accuracy: 1.0000 - val_loss: 1.3308 - val_accuracy: 0.9903\n",
      "Epoch 37/50\n",
      "9690/9690 [==============================] - 2s 187us/sample - loss: 0.0000e+00 - accuracy: 1.0000 - val_loss: 1.3301 - val_accuracy: 0.9903\n",
      "Epoch 38/50\n",
      "9690/9690 [==============================] - 2s 188us/sample - loss: 0.0000e+00 - accuracy: 1.0000 - val_loss: 1.3270 - val_accuracy: 0.9903\n",
      "Epoch 39/50\n",
      "9690/9690 [==============================] - 2s 192us/sample - loss: 0.0000e+00 - accuracy: 1.0000 - val_loss: 1.3201 - val_accuracy: 0.9903\n",
      "Epoch 40/50\n",
      "9690/9690 [==============================] - 2s 186us/sample - loss: 0.0000e+00 - accuracy: 1.0000 - val_loss: 1.3275 - val_accuracy: 0.9903\n",
      "Epoch 41/50\n",
      "9690/9690 [==============================] - 2s 183us/sample - loss: 0.0000e+00 - accuracy: 1.0000 - val_loss: 1.3194 - val_accuracy: 0.9903\n",
      "Epoch 42/50\n",
      "9690/9690 [==============================] - 2s 190us/sample - loss: 0.0000e+00 - accuracy: 1.0000 - val_loss: 1.3171 - val_accuracy: 0.9903\n",
      "Epoch 43/50\n",
      "9690/9690 [==============================] - 2s 183us/sample - loss: 0.0000e+00 - accuracy: 1.0000 - val_loss: 1.3258 - val_accuracy: 0.9903\n",
      "Epoch 44/50\n",
      "9690/9690 [==============================] - 2s 185us/sample - loss: 0.0000e+00 - accuracy: 1.0000 - val_loss: 1.3219 - val_accuracy: 0.9903\n",
      "Epoch 45/50\n",
      "9690/9690 [==============================] - 2s 189us/sample - loss: 0.0000e+00 - accuracy: 1.0000 - val_loss: 1.3164 - val_accuracy: 0.9903\n",
      "Epoch 46/50\n",
      "9690/9690 [==============================] - 2s 186us/sample - loss: 2.4605e-11 - accuracy: 1.0000 - val_loss: 1.3369 - val_accuracy: 0.9903\n",
      "Epoch 47/50\n",
      "9690/9690 [==============================] - 2s 188us/sample - loss: 0.0000e+00 - accuracy: 1.0000 - val_loss: 1.2070 - val_accuracy: 0.9903\n",
      "Epoch 48/50\n",
      "9690/9690 [==============================] - 2s 186us/sample - loss: 1.1072e-10 - accuracy: 1.0000 - val_loss: 1.2170 - val_accuracy: 0.9903\n",
      "Epoch 49/50\n",
      "9690/9690 [==============================] - 2s 188us/sample - loss: 0.0000e+00 - accuracy: 1.0000 - val_loss: 1.2242 - val_accuracy: 0.9903\n",
      "Epoch 50/50\n",
      "9690/9690 [==============================] - 2s 187us/sample - loss: 0.0000e+00 - accuracy: 1.0000 - val_loss: 1.2223 - val_accuracy: 0.9903\n"
     ]
    },
    {
     "output_type": "display_data",
     "data": {
      "text/plain": "<IPython.core.display.HTML object>",
      "text/html": "<br/>Waiting for W&B process to finish, PID 22996<br/>Program ended successfully."
     },
     "metadata": {}
    },
    {
     "output_type": "display_data",
     "data": {
      "text/plain": "<IPython.core.display.HTML object>",
      "text/html": "Find user logs for this run at: <code>wandb\\run-20201205_142523-ci1nnnj1\\logs\\debug.log</code>"
     },
     "metadata": {}
    },
    {
     "output_type": "display_data",
     "data": {
      "text/plain": "<IPython.core.display.HTML object>",
      "text/html": "Find internal logs for this run at: <code>wandb\\run-20201205_142523-ci1nnnj1\\logs\\debug-internal.log</code>"
     },
     "metadata": {}
    },
    {
     "output_type": "display_data",
     "data": {
      "text/plain": "<IPython.core.display.HTML object>",
      "text/html": "<h3>Run summary:</h3><br/><style>\n    table.wandb td:nth-child(1) { padding: 0 10px; text-align: right }\n    </style><table class=\"wandb\">\n<tr><td>epoch</td><td>49</td></tr><tr><td>loss</td><td>0.0</td></tr><tr><td>accuracy</td><td>1.0</td></tr><tr><td>val_loss</td><td>1.22234</td></tr><tr><td>val_accuracy</td><td>0.99029</td></tr><tr><td>_step</td><td>50</td></tr><tr><td>_runtime</td><td>92</td></tr><tr><td>_timestamp</td><td>1607178415</td></tr><tr><td>best_val_loss</td><td>1.20088</td></tr><tr><td>best_epoch</td><td>0</td></tr><tr><td>Label_class</td><td>beware pedestrian cr...</td></tr><tr><td>num_classes</td><td>2</td></tr></table>"
     },
     "metadata": {}
    },
    {
     "output_type": "display_data",
     "data": {
      "text/plain": "<IPython.core.display.HTML object>",
      "text/html": "<h3>Run history:</h3><br/><style>\n    table.wandb td:nth-child(1) { padding: 0 10px; text-align: right }\n    </style><table class=\"wandb\">\n<tr><td>epoch</td><td>▁▁▁▁▂▂▂▂▂▃▃▃▃▃▃▄▄▄▄▄▅▅▅▅▅▅▆▆▆▆▆▆▇▇▇▇▇███</td></tr><tr><td>loss</td><td>█▁▁▁▁▁▁▁▁▁▁▁▁▁▁▁▁▁▁▁▁▁▁▁▁▁▁▁▁▁▁▁▁▁▁▁▁▁▁▁</td></tr><tr><td>accuracy</td><td>▁███████████████████████████████████████</td></tr><tr><td>val_loss</td><td>▁▄▄▃█▆▇▂▃▃▃▃▃▃▃▃▃▃▃▃▃▃▃▃▃▃▃▃▃▃▃▃▃▃▃▃▃▁▁▁</td></tr><tr><td>val_accuracy</td><td>▁▁▁▁▁▁▁▁▁▁▁▁▁▁▁▁▁▁▁▁▁▁▁▁▁▁▁▁▁▁▁▁▁▁▁▁▁▁▁▁</td></tr><tr><td>_step</td><td>▁▁▁▁▂▂▂▂▂▃▃▃▃▃▃▄▄▄▄▄▅▅▅▅▅▅▆▆▆▆▆▆▇▇▇▇▇███</td></tr><tr><td>_runtime</td><td>▁▁▁▁▂▂▂▂▂▃▃▃▃▃▃▄▄▄▄▄▅▅▅▅▅▆▆▆▆▆▆▇▇▇▇▇████</td></tr><tr><td>_timestamp</td><td>▁▁▁▁▂▂▂▂▂▃▃▃▃▃▃▄▄▄▄▄▅▅▅▅▅▆▆▆▆▆▆▇▇▇▇▇████</td></tr><tr><td>num_classes</td><td>▁</td></tr></table><br/>"
     },
     "metadata": {}
    },
    {
     "output_type": "display_data",
     "data": {
      "text/plain": "<IPython.core.display.HTML object>",
      "text/html": "Synced 5 W&B file(s), 1 media file(s), 0 artifact file(s) and 1 other file(s)"
     },
     "metadata": {}
    },
    {
     "output_type": "display_data",
     "data": {
      "text/plain": "<IPython.core.display.HTML object>",
      "text/html": "\n                    <br/>Synced <strong style=\"color:#cdcd00\">brisk-butterfly-9</strong>: <a href=\"https://wandb.ai/supervisedlearning/CNN%20all%204000%20moved%20to%20test%20experiments/runs/ci1nnnj1\" target=\"_blank\">https://wandb.ai/supervisedlearning/CNN%20all%204000%20moved%20to%20test%20experiments/runs/ci1nnnj1</a><br/>\n                "
     },
     "metadata": {}
    },
    {
     "output_type": "stream",
     "name": "stderr",
     "text": [
      "wandb: wandb version 0.10.12 is available!  To upgrade, please run:\nwandb:  $ pip install wandb --upgrade\n"
     ]
    },
    {
     "output_type": "display_data",
     "data": {
      "text/plain": "<IPython.core.display.HTML object>",
      "text/html": "\n                Tracking run with wandb version 0.10.8<br/>\n                Syncing run <strong style=\"color:#cdcd00\">happy-firefly-10</strong> to <a href=\"https://wandb.ai\" target=\"_blank\">Weights & Biases</a> <a href=\"https://docs.wandb.com/integrations/jupyter.html\" target=\"_blank\">(Documentation)</a>.<br/>\n                Project page: <a href=\"https://wandb.ai/supervisedlearning/CNN%20all%204000%20moved%20to%20test%20experiments\" target=\"_blank\">https://wandb.ai/supervisedlearning/CNN%20all%204000%20moved%20to%20test%20experiments</a><br/>\n                Run page: <a href=\"https://wandb.ai/supervisedlearning/CNN%20all%204000%20moved%20to%20test%20experiments/runs/2m4w0dm0\" target=\"_blank\">https://wandb.ai/supervisedlearning/CNN%20all%204000%20moved%20to%20test%20experiments/runs/2m4w0dm0</a><br/>\n                Run data is saved locally in <code>wandb\\run-20201205_142706-2m4w0dm0</code><br/><br/>\n            "
     },
     "metadata": {}
    },
    {
     "output_type": "stream",
     "name": "stdout",
     "text": [
      "Train on 9690 samples, validate on 3090 samples\n",
      "Epoch 1/50\n",
      "9690/9690 [==============================] - 2s 193us/sample - loss: 0.1485 - accuracy: 0.9929 - val_loss: 0.0185 - val_accuracy: 0.9977\n",
      "Epoch 2/50\n",
      "9690/9690 [==============================] - 2s 188us/sample - loss: 0.0019 - accuracy: 0.9998 - val_loss: 0.0553 - val_accuracy: 0.9961\n",
      "Epoch 3/50\n",
      "9690/9690 [==============================] - 2s 192us/sample - loss: 0.0021 - accuracy: 0.9998 - val_loss: 0.0319 - val_accuracy: 0.9984\n",
      "Epoch 4/50\n",
      "9690/9690 [==============================] - 2s 188us/sample - loss: 2.4730e-04 - accuracy: 0.9999 - val_loss: 0.0125 - val_accuracy: 0.9984\n",
      "Epoch 5/50\n",
      "9690/9690 [==============================] - 2s 190us/sample - loss: 5.4214e-05 - accuracy: 1.0000 - val_loss: 0.0239 - val_accuracy: 0.9987\n",
      "Epoch 6/50\n",
      "9690/9690 [==============================] - 2s 189us/sample - loss: 1.0474e-07 - accuracy: 1.0000 - val_loss: 0.0669 - val_accuracy: 0.9955\n",
      "Epoch 7/50\n",
      "9690/9690 [==============================] - 2s 185us/sample - loss: 1.7763e-06 - accuracy: 1.0000 - val_loss: 0.0262 - val_accuracy: 0.9984\n",
      "Epoch 8/50\n",
      "9690/9690 [==============================] - 2s 185us/sample - loss: 6.9629e-09 - accuracy: 1.0000 - val_loss: 0.0656 - val_accuracy: 0.9942\n",
      "Epoch 9/50\n",
      "9690/9690 [==============================] - 2s 186us/sample - loss: 5.4193e-07 - accuracy: 1.0000 - val_loss: 0.0198 - val_accuracy: 0.9990\n",
      "Epoch 10/50\n",
      "9690/9690 [==============================] - 2s 188us/sample - loss: 7.3321e-09 - accuracy: 1.0000 - val_loss: 0.0283 - val_accuracy: 0.9987\n",
      "Epoch 11/50\n",
      "9690/9690 [==============================] - 2s 187us/sample - loss: 4.0360e-07 - accuracy: 1.0000 - val_loss: 0.0233 - val_accuracy: 0.9974\n",
      "Epoch 12/50\n",
      "9690/9690 [==============================] - 2s 186us/sample - loss: 9.1907e-08 - accuracy: 1.0000 - val_loss: 0.0171 - val_accuracy: 0.9984\n",
      "Epoch 13/50\n",
      "9690/9690 [==============================] - 2s 191us/sample - loss: 1.7732e-07 - accuracy: 1.0000 - val_loss: 0.0345 - val_accuracy: 0.9984\n",
      "Epoch 14/50\n",
      "9690/9690 [==============================] - 2s 186us/sample - loss: 3.6894e-06 - accuracy: 1.0000 - val_loss: 0.0308 - val_accuracy: 0.9984\n",
      "Epoch 15/50\n",
      "9690/9690 [==============================] - 2s 186us/sample - loss: 0.0000e+00 - accuracy: 1.0000 - val_loss: 0.0307 - val_accuracy: 0.9984\n",
      "Epoch 16/50\n",
      "9690/9690 [==============================] - 2s 182us/sample - loss: 2.1529e-09 - accuracy: 1.0000 - val_loss: 0.0218 - val_accuracy: 0.9987\n",
      "Epoch 17/50\n",
      "9690/9690 [==============================] - 2s 189us/sample - loss: 1.1810e-09 - accuracy: 1.0000 - val_loss: 0.0191 - val_accuracy: 0.9987\n",
      "Epoch 18/50\n",
      "9690/9690 [==============================] - 2s 185us/sample - loss: 1.7775e-04 - accuracy: 0.9999 - val_loss: 0.0244 - val_accuracy: 0.9990\n",
      "Epoch 19/50\n",
      "9690/9690 [==============================] - 2s 184us/sample - loss: 1.2302e-11 - accuracy: 1.0000 - val_loss: 0.0248 - val_accuracy: 0.9990\n",
      "Epoch 20/50\n",
      "9690/9690 [==============================] - 2s 188us/sample - loss: 0.0000e+00 - accuracy: 1.0000 - val_loss: 0.0240 - val_accuracy: 0.9990\n",
      "Epoch 21/50\n",
      "9690/9690 [==============================] - 2s 185us/sample - loss: 0.0000e+00 - accuracy: 1.0000 - val_loss: 0.0239 - val_accuracy: 0.9990\n",
      "Epoch 22/50\n",
      "9690/9690 [==============================] - 2s 192us/sample - loss: 4.9209e-11 - accuracy: 1.0000 - val_loss: 0.0225 - val_accuracy: 0.9990\n",
      "Epoch 23/50\n",
      "9690/9690 [==============================] - 2s 185us/sample - loss: 0.0000e+00 - accuracy: 1.0000 - val_loss: 0.0225 - val_accuracy: 0.9990\n",
      "Epoch 24/50\n",
      "9690/9690 [==============================] - 2s 187us/sample - loss: 0.0000e+00 - accuracy: 1.0000 - val_loss: 0.0225 - val_accuracy: 0.9990\n",
      "Epoch 25/50\n",
      "9690/9690 [==============================] - 2s 180us/sample - loss: 1.2302e-11 - accuracy: 1.0000 - val_loss: 0.0227 - val_accuracy: 0.9990\n",
      "Epoch 26/50\n",
      "9690/9690 [==============================] - 2s 180us/sample - loss: 2.4605e-11 - accuracy: 1.0000 - val_loss: 0.0241 - val_accuracy: 0.9987\n",
      "Epoch 27/50\n",
      "9690/9690 [==============================] - 2s 184us/sample - loss: 0.0000e+00 - accuracy: 1.0000 - val_loss: 0.0239 - val_accuracy: 0.9987\n",
      "Epoch 28/50\n",
      "9690/9690 [==============================] - 2s 189us/sample - loss: 8.6116e-11 - accuracy: 1.0000 - val_loss: 0.0235 - val_accuracy: 0.9987\n",
      "Epoch 29/50\n",
      "9690/9690 [==============================] - 2s 190us/sample - loss: 0.0000e+00 - accuracy: 1.0000 - val_loss: 0.0237 - val_accuracy: 0.9987\n",
      "Epoch 30/50\n",
      "9690/9690 [==============================] - 2s 181us/sample - loss: 2.4605e-11 - accuracy: 1.0000 - val_loss: 0.0234 - val_accuracy: 0.9987\n",
      "Epoch 31/50\n",
      "9690/9690 [==============================] - 2s 186us/sample - loss: 3.5687e-07 - accuracy: 1.0000 - val_loss: 0.0264 - val_accuracy: 0.9984\n",
      "Epoch 32/50\n",
      "9690/9690 [==============================] - 2s 184us/sample - loss: 3.0370e-08 - accuracy: 1.0000 - val_loss: 0.0265 - val_accuracy: 0.9987\n",
      "Epoch 33/50\n",
      "9690/9690 [==============================] - 2s 186us/sample - loss: 0.0000e+00 - accuracy: 1.0000 - val_loss: 0.0271 - val_accuracy: 0.9987\n",
      "Epoch 34/50\n",
      "9690/9690 [==============================] - 2s 189us/sample - loss: 1.7346e-09 - accuracy: 1.0000 - val_loss: 0.0255 - val_accuracy: 0.9987\n",
      "Epoch 35/50\n",
      "9690/9690 [==============================] - 2s 189us/sample - loss: 2.4605e-11 - accuracy: 1.0000 - val_loss: 0.0276 - val_accuracy: 0.9987\n",
      "Epoch 36/50\n",
      "9690/9690 [==============================] - 2s 185us/sample - loss: 2.4605e-11 - accuracy: 1.0000 - val_loss: 0.0253 - val_accuracy: 0.9987\n",
      "Epoch 37/50\n",
      "9690/9690 [==============================] - 2s 181us/sample - loss: 0.0000e+00 - accuracy: 1.0000 - val_loss: 0.0256 - val_accuracy: 0.9987\n",
      "Epoch 38/50\n",
      "9690/9690 [==============================] - 2s 183us/sample - loss: 0.0000e+00 - accuracy: 1.0000 - val_loss: 0.0257 - val_accuracy: 0.9987\n",
      "Epoch 39/50\n",
      "9690/9690 [==============================] - 2s 183us/sample - loss: 0.0000e+00 - accuracy: 1.0000 - val_loss: 0.0256 - val_accuracy: 0.9987\n",
      "Epoch 40/50\n",
      "9690/9690 [==============================] - 2s 189us/sample - loss: 6.1511e-11 - accuracy: 1.0000 - val_loss: 0.0276 - val_accuracy: 0.9987\n",
      "Epoch 41/50\n",
      "9690/9690 [==============================] - 2s 187us/sample - loss: 0.0000e+00 - accuracy: 1.0000 - val_loss: 0.0275 - val_accuracy: 0.9987\n",
      "Epoch 42/50\n",
      "9690/9690 [==============================] - 2s 185us/sample - loss: 0.0000e+00 - accuracy: 1.0000 - val_loss: 0.0275 - val_accuracy: 0.9987\n",
      "Epoch 43/50\n",
      "9690/9690 [==============================] - 2s 187us/sample - loss: 0.0000e+00 - accuracy: 1.0000 - val_loss: 0.0276 - val_accuracy: 0.9987\n",
      "Epoch 44/50\n",
      "9690/9690 [==============================] - 2s 186us/sample - loss: 0.0000e+00 - accuracy: 1.0000 - val_loss: 0.0276 - val_accuracy: 0.9987\n",
      "Epoch 45/50\n",
      "9690/9690 [==============================] - 2s 191us/sample - loss: 2.4605e-11 - accuracy: 1.0000 - val_loss: 0.0260 - val_accuracy: 0.9987\n",
      "Epoch 46/50\n",
      "9690/9690 [==============================] - 2s 182us/sample - loss: 0.0000e+00 - accuracy: 1.0000 - val_loss: 0.0272 - val_accuracy: 0.9987\n",
      "Epoch 47/50\n",
      "9690/9690 [==============================] - 2s 185us/sample - loss: 0.0000e+00 - accuracy: 1.0000 - val_loss: 0.0273 - val_accuracy: 0.9987\n",
      "Epoch 48/50\n",
      "9690/9690 [==============================] - 2s 182us/sample - loss: 0.0000e+00 - accuracy: 1.0000 - val_loss: 0.0273 - val_accuracy: 0.9987\n",
      "Epoch 49/50\n",
      "9690/9690 [==============================] - 2s 183us/sample - loss: 2.7065e-10 - accuracy: 1.0000 - val_loss: 0.0274 - val_accuracy: 0.9987\n",
      "Epoch 50/50\n",
      "9690/9690 [==============================] - 2s 190us/sample - loss: 0.0000e+00 - accuracy: 1.0000 - val_loss: 0.0277 - val_accuracy: 0.9987\n"
     ]
    },
    {
     "output_type": "display_data",
     "data": {
      "text/plain": "<IPython.core.display.HTML object>",
      "text/html": "<br/>Waiting for W&B process to finish, PID 20368<br/>Program ended successfully."
     },
     "metadata": {}
    },
    {
     "output_type": "display_data",
     "data": {
      "text/plain": "<IPython.core.display.HTML object>",
      "text/html": "Find user logs for this run at: <code>wandb\\run-20201205_142706-2m4w0dm0\\logs\\debug.log</code>"
     },
     "metadata": {}
    },
    {
     "output_type": "display_data",
     "data": {
      "text/plain": "<IPython.core.display.HTML object>",
      "text/html": "Find internal logs for this run at: <code>wandb\\run-20201205_142706-2m4w0dm0\\logs\\debug-internal.log</code>"
     },
     "metadata": {}
    },
    {
     "output_type": "display_data",
     "data": {
      "text/plain": "<IPython.core.display.HTML object>",
      "text/html": "<h3>Run summary:</h3><br/><style>\n    table.wandb td:nth-child(1) { padding: 0 10px; text-align: right }\n    </style><table class=\"wandb\">\n<tr><td>epoch</td><td>49</td></tr><tr><td>loss</td><td>0.0</td></tr><tr><td>accuracy</td><td>1.0</td></tr><tr><td>val_loss</td><td>0.02766</td></tr><tr><td>val_accuracy</td><td>0.99871</td></tr><tr><td>_step</td><td>50</td></tr><tr><td>_runtime</td><td>92</td></tr><tr><td>_timestamp</td><td>1607178518</td></tr><tr><td>best_val_loss</td><td>0.01254</td></tr><tr><td>best_epoch</td><td>3</td></tr><tr><td>Label_class</td><td>beware children</td></tr><tr><td>num_classes</td><td>2</td></tr></table>"
     },
     "metadata": {}
    },
    {
     "output_type": "display_data",
     "data": {
      "text/plain": "<IPython.core.display.HTML object>",
      "text/html": "<h3>Run history:</h3><br/><style>\n    table.wandb td:nth-child(1) { padding: 0 10px; text-align: right }\n    </style><table class=\"wandb\">\n<tr><td>epoch</td><td>▁▁▁▁▂▂▂▂▂▃▃▃▃▃▃▄▄▄▄▄▅▅▅▅▅▅▆▆▆▆▆▆▇▇▇▇▇███</td></tr><tr><td>loss</td><td>█▁▁▁▁▁▁▁▁▁▁▁▁▁▁▁▁▁▁▁▁▁▁▁▁▁▁▁▁▁▁▁▁▁▁▁▁▁▁▁</td></tr><tr><td>accuracy</td><td>▁███████████████████████████████████████</td></tr><tr><td>val_loss</td><td>▂▇▃▁█▃█▂▂▂▄▃▂▂▃▃▂▂▂▂▂▂▂▂▃▃▃▃▃▃▃▃▃▃▃▃▃▃▃▃</td></tr><tr><td>val_accuracy</td><td>▆▄▇▇▃▇▁█▆▇▇▇████████████▇███████████████</td></tr><tr><td>_step</td><td>▁▁▁▁▂▂▂▂▂▃▃▃▃▃▃▄▄▄▄▄▅▅▅▅▅▅▆▆▆▆▆▆▇▇▇▇▇███</td></tr><tr><td>_runtime</td><td>▁▁▁▁▂▂▂▂▂▃▃▃▃▃▃▄▄▄▄▄▅▅▅▅▅▆▆▆▆▆▆▇▇▇▇▇████</td></tr><tr><td>_timestamp</td><td>▁▁▁▁▂▂▂▂▂▃▃▃▃▃▃▄▄▄▄▄▅▅▅▅▅▆▆▆▆▆▆▇▇▇▇▇████</td></tr><tr><td>num_classes</td><td>▁</td></tr></table><br/>"
     },
     "metadata": {}
    },
    {
     "output_type": "display_data",
     "data": {
      "text/plain": "<IPython.core.display.HTML object>",
      "text/html": "Synced 5 W&B file(s), 1 media file(s), 0 artifact file(s) and 1 other file(s)"
     },
     "metadata": {}
    },
    {
     "output_type": "display_data",
     "data": {
      "text/plain": "<IPython.core.display.HTML object>",
      "text/html": "\n                    <br/>Synced <strong style=\"color:#cdcd00\">happy-firefly-10</strong>: <a href=\"https://wandb.ai/supervisedlearning/CNN%20all%204000%20moved%20to%20test%20experiments/runs/2m4w0dm0\" target=\"_blank\">https://wandb.ai/supervisedlearning/CNN%20all%204000%20moved%20to%20test%20experiments/runs/2m4w0dm0</a><br/>\n                "
     },
     "metadata": {}
    },
    {
     "output_type": "stream",
     "name": "stderr",
     "text": [
      "wandb: wandb version 0.10.12 is available!  To upgrade, please run:\nwandb:  $ pip install wandb --upgrade\n"
     ]
    },
    {
     "output_type": "display_data",
     "data": {
      "text/plain": "<IPython.core.display.HTML object>",
      "text/html": "\n                Tracking run with wandb version 0.10.8<br/>\n                Syncing run <strong style=\"color:#cdcd00\">fearless-voice-11</strong> to <a href=\"https://wandb.ai\" target=\"_blank\">Weights & Biases</a> <a href=\"https://docs.wandb.com/integrations/jupyter.html\" target=\"_blank\">(Documentation)</a>.<br/>\n                Project page: <a href=\"https://wandb.ai/supervisedlearning/CNN%20all%204000%20moved%20to%20test%20experiments\" target=\"_blank\">https://wandb.ai/supervisedlearning/CNN%20all%204000%20moved%20to%20test%20experiments</a><br/>\n                Run page: <a href=\"https://wandb.ai/supervisedlearning/CNN%20all%204000%20moved%20to%20test%20experiments/runs/3d9hesjz\" target=\"_blank\">https://wandb.ai/supervisedlearning/CNN%20all%204000%20moved%20to%20test%20experiments/runs/3d9hesjz</a><br/>\n                Run data is saved locally in <code>wandb\\run-20201205_142849-3d9hesjz</code><br/><br/>\n            "
     },
     "metadata": {}
    },
    {
     "output_type": "stream",
     "name": "stdout",
     "text": [
      "Train on 9690 samples, validate on 3090 samples\n",
      "Epoch 1/50\n",
      "9690/9690 [==============================] - 2s 197us/sample - loss: 0.1705 - accuracy: 0.9914 - val_loss: 0.0081 - val_accuracy: 0.9981\n",
      "Epoch 2/50\n",
      "9690/9690 [==============================] - 2s 193us/sample - loss: 8.9004e-04 - accuracy: 0.9998 - val_loss: 0.0076 - val_accuracy: 0.9984\n",
      "Epoch 3/50\n",
      "9690/9690 [==============================] - 2s 192us/sample - loss: 5.7411e-07 - accuracy: 1.0000 - val_loss: 0.0019 - val_accuracy: 0.9994\n",
      "Epoch 4/50\n",
      "9690/9690 [==============================] - 2s 183us/sample - loss: 0.0015 - accuracy: 0.9999 - val_loss: 0.0221 - val_accuracy: 0.9961\n",
      "Epoch 5/50\n",
      "9690/9690 [==============================] - 2s 188us/sample - loss: 7.5513e-04 - accuracy: 0.9999 - val_loss: 6.8398e-04 - val_accuracy: 0.9997\n",
      "Epoch 6/50\n",
      "9690/9690 [==============================] - 2s 192us/sample - loss: 1.9592e-07 - accuracy: 1.0000 - val_loss: 0.0061 - val_accuracy: 0.9984\n",
      "Epoch 7/50\n",
      "9690/9690 [==============================] - 2s 193us/sample - loss: 1.3704e-08 - accuracy: 1.0000 - val_loss: 4.0966e-04 - val_accuracy: 1.0000\n",
      "Epoch 8/50\n",
      "9690/9690 [==============================] - 2s 187us/sample - loss: 1.0063e-08 - accuracy: 1.0000 - val_loss: 0.0064 - val_accuracy: 0.9987\n",
      "Epoch 9/50\n",
      "9690/9690 [==============================] - 2s 183us/sample - loss: 9.0050e-09 - accuracy: 1.0000 - val_loss: 0.0064 - val_accuracy: 0.9977\n",
      "Epoch 10/50\n",
      "9690/9690 [==============================] - 2s 185us/sample - loss: 1.7223e-10 - accuracy: 1.0000 - val_loss: 0.0141 - val_accuracy: 0.9977\n",
      "Epoch 11/50\n",
      "9690/9690 [==============================] - 2s 183us/sample - loss: 7.7994e-09 - accuracy: 1.0000 - val_loss: 0.0012 - val_accuracy: 0.9997\n",
      "Epoch 12/50\n",
      "9690/9690 [==============================] - 2s 193us/sample - loss: 1.5993e-10 - accuracy: 1.0000 - val_loss: 2.2110e-04 - val_accuracy: 1.0000\n",
      "Epoch 13/50\n",
      "9690/9690 [==============================] - 2s 186us/sample - loss: 4.9761e-07 - accuracy: 1.0000 - val_loss: 0.0038 - val_accuracy: 0.9990\n",
      "Epoch 14/50\n",
      "9690/9690 [==============================] - 2s 184us/sample - loss: 1.2056e-09 - accuracy: 1.0000 - val_loss: 0.0023 - val_accuracy: 0.9994\n",
      "Epoch 15/50\n",
      "9690/9690 [==============================] - 2s 191us/sample - loss: 0.0000e+00 - accuracy: 1.0000 - val_loss: 0.0013 - val_accuracy: 0.9994\n",
      "Epoch 16/50\n",
      "9690/9690 [==============================] - 2s 188us/sample - loss: 7.2499e-07 - accuracy: 1.0000 - val_loss: 0.0255 - val_accuracy: 0.9942\n",
      "Epoch 17/50\n",
      "9690/9690 [==============================] - 2s 190us/sample - loss: 1.4886e-09 - accuracy: 1.0000 - val_loss: 3.9584e-06 - val_accuracy: 1.0000\n",
      "Epoch 18/50\n",
      "9690/9690 [==============================] - 2s 189us/sample - loss: 2.4605e-11 - accuracy: 1.0000 - val_loss: 1.4400e-05 - val_accuracy: 1.0000\n",
      "Epoch 19/50\n",
      "9690/9690 [==============================] - 2s 185us/sample - loss: 6.1511e-11 - accuracy: 1.0000 - val_loss: 0.0011 - val_accuracy: 0.9997\n",
      "Epoch 20/50\n",
      "9690/9690 [==============================] - 2s 188us/sample - loss: 0.0000e+00 - accuracy: 1.0000 - val_loss: 1.7141e-04 - val_accuracy: 1.0000\n",
      "Epoch 21/50\n",
      "9690/9690 [==============================] - 2s 188us/sample - loss: 0.0000e+00 - accuracy: 1.0000 - val_loss: 1.7022e-04 - val_accuracy: 1.0000\n",
      "Epoch 22/50\n",
      "9690/9690 [==============================] - 2s 182us/sample - loss: 5.1422e-09 - accuracy: 1.0000 - val_loss: 0.0028 - val_accuracy: 0.9997\n",
      "Epoch 23/50\n",
      "9690/9690 [==============================] - 2s 184us/sample - loss: 0.0000e+00 - accuracy: 1.0000 - val_loss: 0.0021 - val_accuracy: 0.9997\n",
      "Epoch 24/50\n",
      "9690/9690 [==============================] - 2s 184us/sample - loss: 4.5946e-06 - accuracy: 1.0000 - val_loss: 0.0011 - val_accuracy: 0.9997\n",
      "Epoch 25/50\n",
      "9690/9690 [==============================] - 2s 187us/sample - loss: 1.2302e-11 - accuracy: 1.0000 - val_loss: 0.0011 - val_accuracy: 0.9997\n",
      "Epoch 26/50\n",
      "9690/9690 [==============================] - 2s 190us/sample - loss: 0.0000e+00 - accuracy: 1.0000 - val_loss: 0.0011 - val_accuracy: 0.9997\n",
      "Epoch 27/50\n",
      "9690/9690 [==============================] - 2s 186us/sample - loss: 3.4446e-10 - accuracy: 1.0000 - val_loss: 1.9269e-05 - val_accuracy: 1.0000\n",
      "Epoch 28/50\n",
      "9690/9690 [==============================] - 2s 188us/sample - loss: 1.2302e-11 - accuracy: 1.0000 - val_loss: 3.5043e-04 - val_accuracy: 0.9997\n",
      "Epoch 29/50\n",
      "9690/9690 [==============================] - 2s 191us/sample - loss: 7.3814e-11 - accuracy: 1.0000 - val_loss: 6.8095e-06 - val_accuracy: 1.0000\n",
      "Epoch 30/50\n",
      "9690/9690 [==============================] - 2s 191us/sample - loss: 0.0000e+00 - accuracy: 1.0000 - val_loss: 5.2015e-06 - val_accuracy: 1.0000\n",
      "Epoch 31/50\n",
      "9690/9690 [==============================] - 2s 181us/sample - loss: 0.0000e+00 - accuracy: 1.0000 - val_loss: 4.5335e-06 - val_accuracy: 1.0000\n",
      "Epoch 32/50\n",
      "9690/9690 [==============================] - 2s 185us/sample - loss: 1.3533e-10 - accuracy: 1.0000 - val_loss: 9.4670e-05 - val_accuracy: 1.0000\n",
      "Epoch 33/50\n",
      "9690/9690 [==============================] - 2s 191us/sample - loss: 0.0000e+00 - accuracy: 1.0000 - val_loss: 0.0019 - val_accuracy: 0.9994\n",
      "Epoch 34/50\n",
      "9690/9690 [==============================] - 2s 190us/sample - loss: 0.0000e+00 - accuracy: 1.0000 - val_loss: 0.0024 - val_accuracy: 0.9994\n",
      "Epoch 35/50\n",
      "9690/9690 [==============================] - 2s 189us/sample - loss: 0.0000e+00 - accuracy: 1.0000 - val_loss: 0.0023 - val_accuracy: 0.9994\n",
      "Epoch 36/50\n",
      "9690/9690 [==============================] - 2s 182us/sample - loss: 0.0000e+00 - accuracy: 1.0000 - val_loss: 0.0024 - val_accuracy: 0.9994\n",
      "Epoch 37/50\n",
      "9690/9690 [==============================] - 2s 189us/sample - loss: 2.2267e-09 - accuracy: 1.0000 - val_loss: 0.0059 - val_accuracy: 0.9987\n",
      "Epoch 38/50\n",
      "9690/9690 [==============================] - 2s 191us/sample - loss: 0.0000e+00 - accuracy: 1.0000 - val_loss: 0.0035 - val_accuracy: 0.9990\n",
      "Epoch 39/50\n",
      "9690/9690 [==============================] - 2s 186us/sample - loss: 3.6907e-11 - accuracy: 1.0000 - val_loss: 0.0033 - val_accuracy: 0.9990\n",
      "Epoch 40/50\n",
      "9690/9690 [==============================] - 2s 183us/sample - loss: 0.0000e+00 - accuracy: 1.0000 - val_loss: 0.0021 - val_accuracy: 0.9997\n",
      "Epoch 41/50\n",
      "9690/9690 [==============================] - 2s 189us/sample - loss: 0.0000e+00 - accuracy: 1.0000 - val_loss: 0.0021 - val_accuracy: 0.9997\n",
      "Epoch 42/50\n",
      "9690/9690 [==============================] - 2s 183us/sample - loss: 4.9209e-11 - accuracy: 1.0000 - val_loss: 0.0028 - val_accuracy: 0.9994\n",
      "Epoch 43/50\n",
      "9690/9690 [==============================] - 2s 184us/sample - loss: 1.2302e-11 - accuracy: 1.0000 - val_loss: 0.0036 - val_accuracy: 0.9990\n",
      "Epoch 44/50\n",
      "9690/9690 [==============================] - 2s 183us/sample - loss: 0.0000e+00 - accuracy: 1.0000 - val_loss: 0.0036 - val_accuracy: 0.9990\n",
      "Epoch 45/50\n",
      "9690/9690 [==============================] - 2s 184us/sample - loss: 0.0000e+00 - accuracy: 1.0000 - val_loss: 0.0035 - val_accuracy: 0.9990\n",
      "Epoch 46/50\n",
      "9690/9690 [==============================] - 2s 181us/sample - loss: 1.2302e-11 - accuracy: 1.0000 - val_loss: 0.0051 - val_accuracy: 0.9990\n",
      "Epoch 47/50\n",
      "9690/9690 [==============================] - 2s 189us/sample - loss: 1.2302e-11 - accuracy: 1.0000 - val_loss: 0.0041 - val_accuracy: 0.9990\n",
      "Epoch 48/50\n",
      "9690/9690 [==============================] - 2s 188us/sample - loss: 0.0000e+00 - accuracy: 1.0000 - val_loss: 0.0044 - val_accuracy: 0.9990\n",
      "Epoch 49/50\n",
      "9690/9690 [==============================] - 2s 188us/sample - loss: 0.0000e+00 - accuracy: 1.0000 - val_loss: 0.0042 - val_accuracy: 0.9990\n",
      "Epoch 50/50\n",
      "9690/9690 [==============================] - 2s 189us/sample - loss: 1.2302e-11 - accuracy: 1.0000 - val_loss: 0.0042 - val_accuracy: 0.9990\n"
     ]
    },
    {
     "output_type": "display_data",
     "data": {
      "text/plain": "<IPython.core.display.HTML object>",
      "text/html": "<br/>Waiting for W&B process to finish, PID 13688<br/>Program ended successfully."
     },
     "metadata": {}
    },
    {
     "output_type": "display_data",
     "data": {
      "text/plain": "<IPython.core.display.HTML object>",
      "text/html": "Find user logs for this run at: <code>wandb\\run-20201205_142849-3d9hesjz\\logs\\debug.log</code>"
     },
     "metadata": {}
    },
    {
     "output_type": "display_data",
     "data": {
      "text/plain": "<IPython.core.display.HTML object>",
      "text/html": "Find internal logs for this run at: <code>wandb\\run-20201205_142849-3d9hesjz\\logs\\debug-internal.log</code>"
     },
     "metadata": {}
    },
    {
     "output_type": "display_data",
     "data": {
      "text/plain": "<IPython.core.display.HTML object>",
      "text/html": "<h3>Run summary:</h3><br/><style>\n    table.wandb td:nth-child(1) { padding: 0 10px; text-align: right }\n    </style><table class=\"wandb\">\n<tr><td>epoch</td><td>49</td></tr><tr><td>loss</td><td>0.0</td></tr><tr><td>accuracy</td><td>1.0</td></tr><tr><td>val_loss</td><td>0.00415</td></tr><tr><td>val_accuracy</td><td>0.99903</td></tr><tr><td>_step</td><td>50</td></tr><tr><td>_runtime</td><td>92</td></tr><tr><td>_timestamp</td><td>1607178621</td></tr><tr><td>best_val_loss</td><td>0.0</td></tr><tr><td>best_epoch</td><td>16</td></tr><tr><td>Label_class</td><td>beware cycle route a...</td></tr><tr><td>num_classes</td><td>2</td></tr></table>"
     },
     "metadata": {}
    },
    {
     "output_type": "display_data",
     "data": {
      "text/plain": "<IPython.core.display.HTML object>",
      "text/html": "<h3>Run history:</h3><br/><style>\n    table.wandb td:nth-child(1) { padding: 0 10px; text-align: right }\n    </style><table class=\"wandb\">\n<tr><td>epoch</td><td>▁▁▁▁▂▂▂▂▂▃▃▃▃▃▃▄▄▄▄▄▅▅▅▅▅▅▆▆▆▆▆▆▇▇▇▇▇███</td></tr><tr><td>loss</td><td>█▁▁▁▁▁▁▁▁▁▁▁▁▁▁▁▁▁▁▁▁▁▁▁▁▁▁▁▁▁▁▁▁▁▁▁▁▁▁▁</td></tr><tr><td>accuracy</td><td>▁███████████████████████████████████████</td></tr><tr><td>val_loss</td><td>▃▃▂▇▃▁▃▃▁▁▂▂█▁▁▁▁▂▂▁▁▁▁▁▁▁▂▂▂▃▂▂▂▂▂▂▂▂▂▂</td></tr><tr><td>val_accuracy</td><td>▆▆▇▃▆█▆▅██▇▇▁█████████████▇▇▇▆▇▇█▇▇▇▇▇▇▇</td></tr><tr><td>_step</td><td>▁▁▁▁▂▂▂▂▂▃▃▃▃▃▃▄▄▄▄▄▅▅▅▅▅▅▆▆▆▆▆▆▇▇▇▇▇███</td></tr><tr><td>_runtime</td><td>▁▁▁▁▂▂▂▂▂▃▃▃▃▃▃▄▄▄▄▄▅▅▅▅▅▆▆▆▆▆▇▇▇▇▇▇████</td></tr><tr><td>_timestamp</td><td>▁▁▁▁▂▂▂▂▂▃▃▃▃▃▃▄▄▄▄▄▅▅▅▅▅▆▆▆▆▆▇▇▇▇▇▇████</td></tr><tr><td>num_classes</td><td>▁</td></tr></table><br/>"
     },
     "metadata": {}
    },
    {
     "output_type": "display_data",
     "data": {
      "text/plain": "<IPython.core.display.HTML object>",
      "text/html": "Synced 5 W&B file(s), 1 media file(s), 0 artifact file(s) and 1 other file(s)"
     },
     "metadata": {}
    },
    {
     "output_type": "display_data",
     "data": {
      "text/plain": "<IPython.core.display.HTML object>",
      "text/html": "\n                    <br/>Synced <strong style=\"color:#cdcd00\">fearless-voice-11</strong>: <a href=\"https://wandb.ai/supervisedlearning/CNN%20all%204000%20moved%20to%20test%20experiments/runs/3d9hesjz\" target=\"_blank\">https://wandb.ai/supervisedlearning/CNN%20all%204000%20moved%20to%20test%20experiments/runs/3d9hesjz</a><br/>\n                "
     },
     "metadata": {}
    }
   ],
   "source": [
    "experiment_4k = '{} all 4000 moved to test experiments'.format(classifier_name)\n",
    "ce.run_all_test_set_experiments(classifier, classifier_name=classifier_name, experiment_name=experiment_4k, num_instances=4000)"
   ]
  },
  {
   "cell_type": "code",
   "execution_count": null,
   "metadata": {},
   "outputs": [],
   "source": []
  },
  {
   "cell_type": "code",
   "execution_count": 7,
   "metadata": {},
   "outputs": [
    {
     "output_type": "stream",
     "name": "stderr",
     "text": [
      "Failed to query for notebook name, you can set it manually with the WANDB_NOTEBOOK_NAME environment variable\n",
      "wandb: Currently logged in as: samfh (use `wandb login --relogin` to force relogin)\n",
      "wandb: wandb version 0.10.12 is available!  To upgrade, please run:\n",
      "wandb:  $ pip install wandb --upgrade\n"
     ]
    },
    {
     "output_type": "display_data",
     "data": {
      "text/plain": "<IPython.core.display.HTML object>",
      "text/html": "\n                Tracking run with wandb version 0.10.8<br/>\n                Syncing run <strong style=\"color:#cdcd00\">solar-dust-1</strong> to <a href=\"https://wandb.ai\" target=\"_blank\">Weights & Biases</a> <a href=\"https://docs.wandb.com/integrations/jupyter.html\" target=\"_blank\">(Documentation)</a>.<br/>\n                Project page: <a href=\"https://wandb.ai/supervisedlearning/CNN%20all%209000%20moved%20to%20test%20experiments\" target=\"_blank\">https://wandb.ai/supervisedlearning/CNN%20all%209000%20moved%20to%20test%20experiments</a><br/>\n                Run page: <a href=\"https://wandb.ai/supervisedlearning/CNN%20all%209000%20moved%20to%20test%20experiments/runs/6okvh0s7\" target=\"_blank\">https://wandb.ai/supervisedlearning/CNN%20all%209000%20moved%20to%20test%20experiments/runs/6okvh0s7</a><br/>\n                Run data is saved locally in <code>wandb\\run-20201205_153237-6okvh0s7</code><br/><br/>\n            "
     },
     "metadata": {}
    },
    {
     "output_type": "stream",
     "name": "stdout",
     "text": [
      "Train on 9690 samples, validate on 3090 samples\n",
      "Epoch 1/50\n",
      "9690/9690 [==============================] - 4s 456us/sample - loss: 0.7312 - accuracy: 0.7587 - val_loss: 0.6116 - val_accuracy: 0.8304\n",
      "Epoch 2/50\n",
      "9690/9690 [==============================] - 2s 218us/sample - loss: 0.1193 - accuracy: 0.9656 - val_loss: 0.2529 - val_accuracy: 0.9350\n",
      "Epoch 3/50\n",
      "9690/9690 [==============================] - 2s 208us/sample - loss: 0.0741 - accuracy: 0.9812 - val_loss: 0.5672 - val_accuracy: 0.9618\n",
      "Epoch 4/50\n",
      "9690/9690 [==============================] - 2s 208us/sample - loss: 0.0664 - accuracy: 0.9850 - val_loss: 0.5649 - val_accuracy: 0.9356\n",
      "Epoch 5/50\n",
      "9690/9690 [==============================] - 2s 201us/sample - loss: 0.0547 - accuracy: 0.9891 - val_loss: 0.5319 - val_accuracy: 0.9485\n",
      "Epoch 6/50\n",
      "9690/9690 [==============================] - 2s 196us/sample - loss: 0.0535 - accuracy: 0.9897 - val_loss: 0.5480 - val_accuracy: 0.9369\n",
      "Epoch 7/50\n",
      "9690/9690 [==============================] - 2s 202us/sample - loss: 0.0475 - accuracy: 0.9910 - val_loss: 0.4156 - val_accuracy: 0.9638\n",
      "Epoch 8/50\n",
      "9690/9690 [==============================] - 2s 210us/sample - loss: 0.0344 - accuracy: 0.9944 - val_loss: 0.3758 - val_accuracy: 0.9680\n",
      "Epoch 9/50\n",
      "9690/9690 [==============================] - 2s 207us/sample - loss: 0.0348 - accuracy: 0.9937 - val_loss: 0.6518 - val_accuracy: 0.9657\n",
      "Epoch 10/50\n",
      "9690/9690 [==============================] - 2s 198us/sample - loss: 0.0336 - accuracy: 0.9959 - val_loss: 0.7149 - val_accuracy: 0.9709\n",
      "Epoch 11/50\n",
      "9690/9690 [==============================] - 2s 202us/sample - loss: 0.0362 - accuracy: 0.9954 - val_loss: 0.8062 - val_accuracy: 0.9761\n",
      "Epoch 12/50\n",
      "9690/9690 [==============================] - 2s 202us/sample - loss: 0.0437 - accuracy: 0.9951 - val_loss: 1.3961 - val_accuracy: 0.9537\n",
      "Epoch 13/50\n",
      "9690/9690 [==============================] - 2s 203us/sample - loss: 0.0217 - accuracy: 0.9962 - val_loss: 0.6401 - val_accuracy: 0.9709\n",
      "Epoch 14/50\n",
      "9690/9690 [==============================] - 2s 201us/sample - loss: 0.0246 - accuracy: 0.9964 - val_loss: 1.2436 - val_accuracy: 0.9560\n",
      "Epoch 15/50\n",
      "9690/9690 [==============================] - 2s 197us/sample - loss: 0.0201 - accuracy: 0.9976 - val_loss: 0.9682 - val_accuracy: 0.9699\n",
      "Epoch 16/50\n",
      "9690/9690 [==============================] - 2s 212us/sample - loss: 0.0459 - accuracy: 0.9966 - val_loss: 1.4443 - val_accuracy: 0.9650\n",
      "Epoch 17/50\n",
      "9690/9690 [==============================] - 2s 204us/sample - loss: 0.0265 - accuracy: 0.9967 - val_loss: 1.0420 - val_accuracy: 0.9372\n",
      "Epoch 18/50\n",
      "9690/9690 [==============================] - 2s 206us/sample - loss: 0.0241 - accuracy: 0.9961 - val_loss: 0.9515 - val_accuracy: 0.9699\n",
      "Epoch 19/50\n",
      "9690/9690 [==============================] - 2s 205us/sample - loss: 0.0169 - accuracy: 0.9972 - val_loss: 0.8507 - val_accuracy: 0.9722\n",
      "Epoch 20/50\n",
      "9690/9690 [==============================] - 2s 202us/sample - loss: 0.0285 - accuracy: 0.9974 - val_loss: 0.6953 - val_accuracy: 0.9722\n",
      "Epoch 21/50\n",
      "9690/9690 [==============================] - 2s 204us/sample - loss: 0.0343 - accuracy: 0.9977 - val_loss: 0.9348 - val_accuracy: 0.9754\n",
      "Epoch 22/50\n",
      "9690/9690 [==============================] - 2s 197us/sample - loss: 0.0315 - accuracy: 0.9970 - val_loss: 0.7173 - val_accuracy: 0.9689\n",
      "Epoch 23/50\n",
      "9690/9690 [==============================] - 2s 203us/sample - loss: 0.0233 - accuracy: 0.9980 - val_loss: 0.8028 - val_accuracy: 0.9718\n",
      "Epoch 24/50\n",
      "9690/9690 [==============================] - 2s 220us/sample - loss: 0.0138 - accuracy: 0.9986 - val_loss: 0.6746 - val_accuracy: 0.9780\n",
      "Epoch 25/50\n",
      "9690/9690 [==============================] - 2s 224us/sample - loss: 0.0178 - accuracy: 0.9976 - val_loss: 1.8443 - val_accuracy: 0.9314\n",
      "Epoch 26/50\n",
      "9690/9690 [==============================] - 2s 219us/sample - loss: 0.0113 - accuracy: 0.9978 - val_loss: 1.3956 - val_accuracy: 0.9579\n",
      "Epoch 27/50\n",
      "9690/9690 [==============================] - 2s 215us/sample - loss: 0.0324 - accuracy: 0.9975 - val_loss: 0.5090 - val_accuracy: 0.9780\n",
      "Epoch 28/50\n",
      "9690/9690 [==============================] - 2s 205us/sample - loss: 0.0243 - accuracy: 0.9977 - val_loss: 0.7674 - val_accuracy: 0.9764\n",
      "Epoch 29/50\n",
      "9690/9690 [==============================] - 2s 236us/sample - loss: 0.0098 - accuracy: 0.9981 - val_loss: 0.9523 - val_accuracy: 0.9780\n",
      "Epoch 30/50\n",
      "9690/9690 [==============================] - 2s 234us/sample - loss: 0.0174 - accuracy: 0.9979 - val_loss: 1.2042 - val_accuracy: 0.9440\n",
      "Epoch 31/50\n",
      "9690/9690 [==============================] - 2s 213us/sample - loss: 0.0212 - accuracy: 0.9979 - val_loss: 0.9434 - val_accuracy: 0.9803\n",
      "Epoch 32/50\n",
      "9690/9690 [==============================] - 2s 199us/sample - loss: 0.0125 - accuracy: 0.9990 - val_loss: 0.8144 - val_accuracy: 0.9751\n",
      "Epoch 33/50\n",
      "9690/9690 [==============================] - 2s 203us/sample - loss: 0.0191 - accuracy: 0.9981 - val_loss: 0.5311 - val_accuracy: 0.9761\n",
      "Epoch 34/50\n",
      "9690/9690 [==============================] - 2s 201us/sample - loss: 0.0166 - accuracy: 0.9990 - val_loss: 0.3357 - val_accuracy: 0.9770\n",
      "Epoch 35/50\n",
      "9690/9690 [==============================] - 2s 205us/sample - loss: 0.0083 - accuracy: 0.9986 - val_loss: 0.7074 - val_accuracy: 0.9644\n",
      "Epoch 36/50\n",
      "9690/9690 [==============================] - 2s 201us/sample - loss: 0.0209 - accuracy: 0.9974 - val_loss: 0.4133 - val_accuracy: 0.9751\n",
      "Epoch 37/50\n",
      "9690/9690 [==============================] - 2s 200us/sample - loss: 0.0114 - accuracy: 0.9986 - val_loss: 0.2520 - val_accuracy: 0.9816\n",
      "Epoch 38/50\n",
      "9690/9690 [==============================] - 2s 196us/sample - loss: 0.0186 - accuracy: 0.9979 - val_loss: 0.6610 - val_accuracy: 0.9644\n",
      "Epoch 39/50\n",
      "9690/9690 [==============================] - 2s 199us/sample - loss: 0.0156 - accuracy: 0.9978 - val_loss: 0.5367 - val_accuracy: 0.9728\n",
      "Epoch 40/50\n",
      "9690/9690 [==============================] - 2s 199us/sample - loss: 0.0171 - accuracy: 0.9978 - val_loss: 0.5924 - val_accuracy: 0.9806\n",
      "Epoch 41/50\n",
      "9690/9690 [==============================] - 2s 200us/sample - loss: 0.0196 - accuracy: 0.9989 - val_loss: 0.4819 - val_accuracy: 0.9806\n",
      "Epoch 42/50\n",
      "9690/9690 [==============================] - 2s 202us/sample - loss: 0.0140 - accuracy: 0.9985 - val_loss: 0.3734 - val_accuracy: 0.9828\n",
      "Epoch 43/50\n",
      "9690/9690 [==============================] - 2s 204us/sample - loss: 0.0089 - accuracy: 0.9990 - val_loss: 0.4043 - val_accuracy: 0.9757\n",
      "Epoch 44/50\n",
      "9690/9690 [==============================] - 2s 204us/sample - loss: 0.0173 - accuracy: 0.9985 - val_loss: 0.4691 - val_accuracy: 0.9764\n",
      "Epoch 45/50\n",
      "9690/9690 [==============================] - 2s 209us/sample - loss: 0.0143 - accuracy: 0.9986 - val_loss: 0.5352 - val_accuracy: 0.9735\n",
      "Epoch 46/50\n",
      "9690/9690 [==============================] - 2s 204us/sample - loss: 0.0065 - accuracy: 0.9992 - val_loss: 1.0499 - val_accuracy: 0.9566\n",
      "Epoch 47/50\n",
      "9690/9690 [==============================] - 2s 206us/sample - loss: 0.0092 - accuracy: 0.9991 - val_loss: 0.8472 - val_accuracy: 0.9754\n",
      "Epoch 48/50\n",
      "9690/9690 [==============================] - 2s 203us/sample - loss: 0.0162 - accuracy: 0.9989 - val_loss: 0.9940 - val_accuracy: 0.9744\n",
      "Epoch 49/50\n",
      "9690/9690 [==============================] - 2s 200us/sample - loss: 0.0152 - accuracy: 0.9986 - val_loss: 0.4968 - val_accuracy: 0.9816\n",
      "Epoch 50/50\n",
      "9690/9690 [==============================] - 2s 211us/sample - loss: 0.0044 - accuracy: 0.9990 - val_loss: 0.5808 - val_accuracy: 0.9793\n"
     ]
    },
    {
     "output_type": "display_data",
     "data": {
      "text/plain": "<IPython.core.display.HTML object>",
      "text/html": "<br/>Waiting for W&B process to finish, PID 29604<br/>Program ended successfully."
     },
     "metadata": {}
    },
    {
     "output_type": "display_data",
     "data": {
      "text/plain": "<IPython.core.display.HTML object>",
      "text/html": "Find user logs for this run at: <code>wandb\\run-20201205_153237-6okvh0s7\\logs\\debug.log</code>"
     },
     "metadata": {}
    },
    {
     "output_type": "display_data",
     "data": {
      "text/plain": "<IPython.core.display.HTML object>",
      "text/html": "Find internal logs for this run at: <code>wandb\\run-20201205_153237-6okvh0s7\\logs\\debug-internal.log</code>"
     },
     "metadata": {}
    },
    {
     "output_type": "display_data",
     "data": {
      "text/plain": "<IPython.core.display.HTML object>",
      "text/html": "<h3>Run summary:</h3><br/><style>\n    table.wandb td:nth-child(1) { padding: 0 10px; text-align: right }\n    </style><table class=\"wandb\">\n<tr><td>epoch</td><td>49</td></tr><tr><td>loss</td><td>0.00438</td></tr><tr><td>accuracy</td><td>0.99897</td></tr><tr><td>val_loss</td><td>0.58075</td></tr><tr><td>val_accuracy</td><td>0.97929</td></tr><tr><td>_step</td><td>50</td></tr><tr><td>_runtime</td><td>105</td></tr><tr><td>_timestamp</td><td>1607182462</td></tr><tr><td>best_val_loss</td><td>0.25205</td></tr><tr><td>best_epoch</td><td>36</td></tr><tr><td>Label_class</td><td>All Classes</td></tr><tr><td>num_classes</td><td>10</td></tr></table>"
     },
     "metadata": {}
    },
    {
     "output_type": "display_data",
     "data": {
      "text/plain": "<IPython.core.display.HTML object>",
      "text/html": "<h3>Run history:</h3><br/><style>\n    table.wandb td:nth-child(1) { padding: 0 10px; text-align: right }\n    </style><table class=\"wandb\">\n<tr><td>epoch</td><td>▁▁▁▁▂▂▂▂▂▃▃▃▃▃▃▄▄▄▄▄▅▅▅▅▅▅▆▆▆▆▆▆▇▇▇▇▇███</td></tr><tr><td>loss</td><td>█▂▂▂▁▁▁▁▁▁▁▁▁▁▁▁▁▁▁▁▁▁▁▁▁▁▁▁▁▁▁▁▁▁▁▁▁▁▁▁</td></tr><tr><td>accuracy</td><td>▁▇▇█████████████████████████████████████</td></tr><tr><td>val_loss</td><td>▃▁▃▃▃▂▂▃▄█▃▇█▆▅▅▅▄▄▃█▃▄▅▅▄▃▁▂▁▃▃▂▂▂▂▆▄▅▃</td></tr><tr><td>val_accuracy</td><td>▁▆▇▆▆▇▇▇█▇▇▇▇▆▇██▇▇█▇█████████▇█████▇███</td></tr><tr><td>_step</td><td>▁▁▁▁▂▂▂▂▂▃▃▃▃▃▃▄▄▄▄▄▅▅▅▅▅▅▆▆▆▆▆▆▇▇▇▇▇███</td></tr><tr><td>_runtime</td><td>▁▁▁▁▂▂▂▂▂▃▃▃▃▃▃▄▄▄▄▄▅▅▅▅▅▆▆▆▆▆▆▇▇▇▇▇████</td></tr><tr><td>_timestamp</td><td>▁▁▁▁▂▂▂▂▂▃▃▃▃▃▃▄▄▄▄▄▅▅▅▅▅▆▆▆▆▆▆▇▇▇▇▇████</td></tr><tr><td>num_classes</td><td>▁</td></tr></table><br/>"
     },
     "metadata": {}
    },
    {
     "output_type": "display_data",
     "data": {
      "text/plain": "<IPython.core.display.HTML object>",
      "text/html": "Synced 5 W&B file(s), 1 media file(s), 0 artifact file(s) and 1 other file(s)"
     },
     "metadata": {}
    },
    {
     "output_type": "display_data",
     "data": {
      "text/plain": "<IPython.core.display.HTML object>",
      "text/html": "\n                    <br/>Synced <strong style=\"color:#cdcd00\">solar-dust-1</strong>: <a href=\"https://wandb.ai/supervisedlearning/CNN%20all%209000%20moved%20to%20test%20experiments/runs/6okvh0s7\" target=\"_blank\">https://wandb.ai/supervisedlearning/CNN%20all%209000%20moved%20to%20test%20experiments/runs/6okvh0s7</a><br/>\n                "
     },
     "metadata": {}
    },
    {
     "output_type": "stream",
     "name": "stderr",
     "text": [
      "wandb: wandb version 0.10.12 is available!  To upgrade, please run:\nwandb:  $ pip install wandb --upgrade\n"
     ]
    },
    {
     "output_type": "display_data",
     "data": {
      "text/plain": "<IPython.core.display.HTML object>",
      "text/html": "\n                Tracking run with wandb version 0.10.8<br/>\n                Syncing run <strong style=\"color:#cdcd00\">swift-jazz-2</strong> to <a href=\"https://wandb.ai\" target=\"_blank\">Weights & Biases</a> <a href=\"https://docs.wandb.com/integrations/jupyter.html\" target=\"_blank\">(Documentation)</a>.<br/>\n                Project page: <a href=\"https://wandb.ai/supervisedlearning/CNN%20all%209000%20moved%20to%20test%20experiments\" target=\"_blank\">https://wandb.ai/supervisedlearning/CNN%20all%209000%20moved%20to%20test%20experiments</a><br/>\n                Run page: <a href=\"https://wandb.ai/supervisedlearning/CNN%20all%209000%20moved%20to%20test%20experiments/runs/3ms3rxng\" target=\"_blank\">https://wandb.ai/supervisedlearning/CNN%20all%209000%20moved%20to%20test%20experiments/runs/3ms3rxng</a><br/>\n                Run data is saved locally in <code>wandb\\run-20201205_153430-3ms3rxng</code><br/><br/>\n            "
     },
     "metadata": {}
    },
    {
     "output_type": "stream",
     "name": "stdout",
     "text": [
      "Train on 9690 samples, validate on 3090 samples\n",
      "Epoch 1/50\n",
      "9690/9690 [==============================] - 2s 242us/sample - loss: 0.7587 - accuracy: 0.9888 - val_loss: 0.0240 - val_accuracy: 0.9981\n",
      "Epoch 2/50\n",
      "9690/9690 [==============================] - 2s 218us/sample - loss: 0.0017 - accuracy: 0.9997 - val_loss: 0.0850 - val_accuracy: 0.9961\n",
      "Epoch 3/50\n",
      "9690/9690 [==============================] - 2s 217us/sample - loss: 4.2308e-04 - accuracy: 0.9998 - val_loss: 0.0119 - val_accuracy: 0.9994\n",
      "Epoch 4/50\n",
      "9690/9690 [==============================] - 2s 212us/sample - loss: 0.0057 - accuracy: 0.9996 - val_loss: 0.0052 - val_accuracy: 0.9984\n",
      "Epoch 5/50\n",
      "9690/9690 [==============================] - 2s 220us/sample - loss: 6.1511e-11 - accuracy: 1.0000 - val_loss: 0.0020 - val_accuracy: 0.9997\n",
      "Epoch 6/50\n",
      "9690/9690 [==============================] - 2s 218us/sample - loss: 1.8453e-10 - accuracy: 1.0000 - val_loss: 0.0012 - val_accuracy: 0.9997\n",
      "Epoch 7/50\n",
      "9690/9690 [==============================] - 2s 223us/sample - loss: 5.6220e-09 - accuracy: 1.0000 - val_loss: 0.2884 - val_accuracy: 0.9906\n",
      "Epoch 8/50\n",
      "9690/9690 [==============================] - 2s 209us/sample - loss: 0.0044 - accuracy: 0.9996 - val_loss: 0.0032 - val_accuracy: 0.9994\n",
      "Epoch 9/50\n",
      "9690/9690 [==============================] - 2s 205us/sample - loss: 3.7521e-09 - accuracy: 1.0000 - val_loss: 0.0080 - val_accuracy: 0.9994\n",
      "Epoch 10/50\n",
      "9690/9690 [==============================] - 2s 210us/sample - loss: 0.0000e+00 - accuracy: 1.0000 - val_loss: 0.0109 - val_accuracy: 0.9990\n",
      "Epoch 11/50\n",
      "9690/9690 [==============================] - 2s 212us/sample - loss: 0.0000e+00 - accuracy: 1.0000 - val_loss: 0.0111 - val_accuracy: 0.9990\n",
      "Epoch 12/50\n",
      "9690/9690 [==============================] - 2s 208us/sample - loss: 3.6685e-05 - accuracy: 1.0000 - val_loss: 0.0163 - val_accuracy: 0.9994\n",
      "Epoch 13/50\n",
      "9690/9690 [==============================] - 2s 210us/sample - loss: 3.0756e-10 - accuracy: 1.0000 - val_loss: 3.8748e-04 - val_accuracy: 0.9997\n",
      "Epoch 14/50\n",
      "9690/9690 [==============================] - 2s 206us/sample - loss: 3.3216e-10 - accuracy: 1.0000 - val_loss: 0.0154 - val_accuracy: 0.9994\n",
      "Epoch 15/50\n",
      "9690/9690 [==============================] - 2s 215us/sample - loss: 4.9209e-11 - accuracy: 1.0000 - val_loss: 0.0155 - val_accuracy: 0.9994\n",
      "Epoch 16/50\n",
      "9690/9690 [==============================] - 2s 237us/sample - loss: 1.5993e-10 - accuracy: 1.0000 - val_loss: 0.0081 - val_accuracy: 0.9997\n",
      "Epoch 17/50\n",
      "9690/9690 [==============================] - 2s 208us/sample - loss: 5.2900e-10 - accuracy: 1.0000 - val_loss: 0.0042 - val_accuracy: 0.9997\n",
      "Epoch 18/50\n",
      "9690/9690 [==============================] - 2s 205us/sample - loss: 4.3864e-04 - accuracy: 0.9998 - val_loss: 0.0227 - val_accuracy: 0.9994\n",
      "Epoch 19/50\n",
      "9690/9690 [==============================] - 2s 214us/sample - loss: 0.0000e+00 - accuracy: 1.0000 - val_loss: 0.0132 - val_accuracy: 0.9994\n",
      "Epoch 20/50\n",
      "9690/9690 [==============================] - 2s 215us/sample - loss: 5.1670e-10 - accuracy: 1.0000 - val_loss: 0.0159 - val_accuracy: 0.9994\n",
      "Epoch 21/50\n",
      "9690/9690 [==============================] - 2s 204us/sample - loss: 3.6907e-11 - accuracy: 1.0000 - val_loss: 0.0236 - val_accuracy: 0.9994\n",
      "Epoch 22/50\n",
      "9690/9690 [==============================] - 2s 207us/sample - loss: 0.0000e+00 - accuracy: 1.0000 - val_loss: 0.0238 - val_accuracy: 0.9994\n",
      "Epoch 23/50\n",
      "9690/9690 [==============================] - 2s 200us/sample - loss: 0.0000e+00 - accuracy: 1.0000 - val_loss: 0.0239 - val_accuracy: 0.9994\n",
      "Epoch 24/50\n",
      "9690/9690 [==============================] - 2s 208us/sample - loss: 0.0000e+00 - accuracy: 1.0000 - val_loss: 0.0241 - val_accuracy: 0.9994\n",
      "Epoch 25/50\n",
      "9690/9690 [==============================] - 2s 206us/sample - loss: 0.0000e+00 - accuracy: 1.0000 - val_loss: 0.0241 - val_accuracy: 0.9994\n",
      "Epoch 26/50\n",
      "9690/9690 [==============================] - 2s 206us/sample - loss: 0.0000e+00 - accuracy: 1.0000 - val_loss: 0.0240 - val_accuracy: 0.9994\n",
      "Epoch 27/50\n",
      "9690/9690 [==============================] - 2s 202us/sample - loss: 0.0000e+00 - accuracy: 1.0000 - val_loss: 0.0236 - val_accuracy: 0.9994\n",
      "Epoch 28/50\n",
      "9690/9690 [==============================] - 2s 203us/sample - loss: 1.1072e-10 - accuracy: 1.0000 - val_loss: 0.0256 - val_accuracy: 0.9990\n",
      "Epoch 29/50\n",
      "9690/9690 [==============================] - 2s 208us/sample - loss: 0.0000e+00 - accuracy: 1.0000 - val_loss: 0.0221 - val_accuracy: 0.9994\n",
      "Epoch 30/50\n",
      "9690/9690 [==============================] - 2s 217us/sample - loss: 0.0000e+00 - accuracy: 1.0000 - val_loss: 0.0227 - val_accuracy: 0.9994\n",
      "Epoch 31/50\n",
      "9690/9690 [==============================] - 2s 215us/sample - loss: 0.0000e+00 - accuracy: 1.0000 - val_loss: 0.0230 - val_accuracy: 0.9994\n",
      "Epoch 32/50\n",
      "9690/9690 [==============================] - 2s 205us/sample - loss: 0.0000e+00 - accuracy: 1.0000 - val_loss: 0.0226 - val_accuracy: 0.9994\n",
      "Epoch 33/50\n",
      "9690/9690 [==============================] - 2s 212us/sample - loss: 3.6907e-11 - accuracy: 1.0000 - val_loss: 0.0115 - val_accuracy: 0.9994\n",
      "Epoch 34/50\n",
      "9690/9690 [==============================] - 2s 219us/sample - loss: 0.0000e+00 - accuracy: 1.0000 - val_loss: 0.0137 - val_accuracy: 0.9994\n",
      "Epoch 35/50\n",
      "9690/9690 [==============================] - 2s 209us/sample - loss: 9.8418e-11 - accuracy: 1.0000 - val_loss: 0.0275 - val_accuracy: 0.9990\n",
      "Epoch 36/50\n",
      "9690/9690 [==============================] - 2s 199us/sample - loss: 0.0000e+00 - accuracy: 1.0000 - val_loss: 0.0282 - val_accuracy: 0.9990\n",
      "Epoch 37/50\n",
      "9690/9690 [==============================] - 2s 213us/sample - loss: 0.0000e+00 - accuracy: 1.0000 - val_loss: 0.0283 - val_accuracy: 0.9990\n",
      "Epoch 38/50\n",
      "9690/9690 [==============================] - 2s 205us/sample - loss: 0.0000e+00 - accuracy: 1.0000 - val_loss: 0.0277 - val_accuracy: 0.9990\n",
      "Epoch 39/50\n",
      "9690/9690 [==============================] - 2s 220us/sample - loss: 0.0000e+00 - accuracy: 1.0000 - val_loss: 0.0278 - val_accuracy: 0.9990\n",
      "Epoch 40/50\n",
      "9690/9690 [==============================] - 2s 212us/sample - loss: 0.0000e+00 - accuracy: 1.0000 - val_loss: 0.0283 - val_accuracy: 0.9990\n",
      "Epoch 41/50\n",
      "9690/9690 [==============================] - 2s 203us/sample - loss: 0.0000e+00 - accuracy: 1.0000 - val_loss: 0.0282 - val_accuracy: 0.9990\n",
      "Epoch 42/50\n",
      "9690/9690 [==============================] - 2s 206us/sample - loss: 0.0000e+00 - accuracy: 1.0000 - val_loss: 0.0273 - val_accuracy: 0.9990\n",
      "Epoch 43/50\n",
      "9690/9690 [==============================] - 2s 202us/sample - loss: 0.0000e+00 - accuracy: 1.0000 - val_loss: 0.0278 - val_accuracy: 0.9990\n",
      "Epoch 44/50\n",
      "9690/9690 [==============================] - 2s 206us/sample - loss: 0.0000e+00 - accuracy: 1.0000 - val_loss: 0.0284 - val_accuracy: 0.9990\n",
      "Epoch 45/50\n",
      "9690/9690 [==============================] - 2s 205us/sample - loss: 0.0000e+00 - accuracy: 1.0000 - val_loss: 0.0276 - val_accuracy: 0.9990\n",
      "Epoch 46/50\n",
      "9690/9690 [==============================] - 2s 203us/sample - loss: 0.0000e+00 - accuracy: 1.0000 - val_loss: 0.0281 - val_accuracy: 0.9990\n",
      "Epoch 47/50\n",
      "9690/9690 [==============================] - 2s 210us/sample - loss: 0.0000e+00 - accuracy: 1.0000 - val_loss: 0.0284 - val_accuracy: 0.9990\n",
      "Epoch 48/50\n",
      "9690/9690 [==============================] - 2s 202us/sample - loss: 0.0000e+00 - accuracy: 1.0000 - val_loss: 0.0281 - val_accuracy: 0.9990\n",
      "Epoch 49/50\n",
      "9690/9690 [==============================] - 2s 201us/sample - loss: 0.0000e+00 - accuracy: 1.0000 - val_loss: 0.0278 - val_accuracy: 0.9990\n",
      "Epoch 50/50\n",
      "9690/9690 [==============================] - 2s 201us/sample - loss: 0.0000e+00 - accuracy: 1.0000 - val_loss: 0.0281 - val_accuracy: 0.9990\n"
     ]
    },
    {
     "output_type": "display_data",
     "data": {
      "text/plain": "<IPython.core.display.HTML object>",
      "text/html": "<br/>Waiting for W&B process to finish, PID 2684<br/>Program ended successfully."
     },
     "metadata": {}
    },
    {
     "output_type": "display_data",
     "data": {
      "text/plain": "<IPython.core.display.HTML object>",
      "text/html": "Find user logs for this run at: <code>wandb\\run-20201205_153430-3ms3rxng\\logs\\debug.log</code>"
     },
     "metadata": {}
    },
    {
     "output_type": "display_data",
     "data": {
      "text/plain": "<IPython.core.display.HTML object>",
      "text/html": "Find internal logs for this run at: <code>wandb\\run-20201205_153430-3ms3rxng\\logs\\debug-internal.log</code>"
     },
     "metadata": {}
    },
    {
     "output_type": "display_data",
     "data": {
      "text/plain": "<IPython.core.display.HTML object>",
      "text/html": "<h3>Run summary:</h3><br/><style>\n    table.wandb td:nth-child(1) { padding: 0 10px; text-align: right }\n    </style><table class=\"wandb\">\n<tr><td>epoch</td><td>49</td></tr><tr><td>loss</td><td>0.0</td></tr><tr><td>accuracy</td><td>1.0</td></tr><tr><td>val_loss</td><td>0.02812</td></tr><tr><td>val_accuracy</td><td>0.99903</td></tr><tr><td>_step</td><td>50</td></tr><tr><td>_runtime</td><td>104</td></tr><tr><td>_timestamp</td><td>1607182574</td></tr><tr><td>best_val_loss</td><td>0.00039</td></tr><tr><td>best_epoch</td><td>12</td></tr><tr><td>Label_class</td><td>speed limit 20</td></tr><tr><td>num_classes</td><td>2</td></tr></table>"
     },
     "metadata": {}
    },
    {
     "output_type": "display_data",
     "data": {
      "text/plain": "<IPython.core.display.HTML object>",
      "text/html": "<h3>Run history:</h3><br/><style>\n    table.wandb td:nth-child(1) { padding: 0 10px; text-align: right }\n    </style><table class=\"wandb\">\n<tr><td>epoch</td><td>▁▁▁▁▂▂▂▂▂▃▃▃▃▃▃▄▄▄▄▄▅▅▅▅▅▅▆▆▆▆▆▆▇▇▇▇▇███</td></tr><tr><td>loss</td><td>█▁▁▁▁▁▁▁▁▁▁▁▁▁▁▁▁▁▁▁▁▁▁▁▁▁▁▁▁▁▁▁▁▁▁▁▁▁▁▁</td></tr><tr><td>accuracy</td><td>▁███████████████████████████████████████</td></tr><tr><td>val_loss</td><td>▂▃▁▁▁█▁▁▁▁▁▁▁▁▂▁▂▂▂▂▂▂▂▂▂▂▁▁▂▂▂▂▂▂▂▂▂▂▂▂</td></tr><tr><td>val_accuracy</td><td>▇▅█▇█▁██▇█████████████▇█████▇▇▇▇▇▇▇▇▇▇▇▇</td></tr><tr><td>_step</td><td>▁▁▁▁▂▂▂▂▂▃▃▃▃▃▃▄▄▄▄▄▅▅▅▅▅▅▆▆▆▆▆▆▇▇▇▇▇███</td></tr><tr><td>_runtime</td><td>▁▁▁▁▂▂▂▂▂▃▃▃▃▃▄▄▄▄▄▅▅▅▅▅▅▆▆▆▆▆▆▇▇▇▇▇████</td></tr><tr><td>_timestamp</td><td>▁▁▁▁▂▂▂▂▂▃▃▃▃▃▄▄▄▄▄▅▅▅▅▅▅▆▆▆▆▆▆▇▇▇▇▇████</td></tr><tr><td>num_classes</td><td>▁</td></tr></table><br/>"
     },
     "metadata": {}
    },
    {
     "output_type": "display_data",
     "data": {
      "text/plain": "<IPython.core.display.HTML object>",
      "text/html": "Synced 5 W&B file(s), 1 media file(s), 0 artifact file(s) and 1 other file(s)"
     },
     "metadata": {}
    },
    {
     "output_type": "display_data",
     "data": {
      "text/plain": "<IPython.core.display.HTML object>",
      "text/html": "\n                    <br/>Synced <strong style=\"color:#cdcd00\">swift-jazz-2</strong>: <a href=\"https://wandb.ai/supervisedlearning/CNN%20all%209000%20moved%20to%20test%20experiments/runs/3ms3rxng\" target=\"_blank\">https://wandb.ai/supervisedlearning/CNN%20all%209000%20moved%20to%20test%20experiments/runs/3ms3rxng</a><br/>\n                "
     },
     "metadata": {}
    },
    {
     "output_type": "stream",
     "name": "stderr",
     "text": [
      "wandb: wandb version 0.10.12 is available!  To upgrade, please run:\nwandb:  $ pip install wandb --upgrade\n"
     ]
    },
    {
     "output_type": "display_data",
     "data": {
      "text/plain": "<IPython.core.display.HTML object>",
      "text/html": "\n                Tracking run with wandb version 0.10.8<br/>\n                Syncing run <strong style=\"color:#cdcd00\">pretty-mountain-3</strong> to <a href=\"https://wandb.ai\" target=\"_blank\">Weights & Biases</a> <a href=\"https://docs.wandb.com/integrations/jupyter.html\" target=\"_blank\">(Documentation)</a>.<br/>\n                Project page: <a href=\"https://wandb.ai/supervisedlearning/CNN%20all%209000%20moved%20to%20test%20experiments\" target=\"_blank\">https://wandb.ai/supervisedlearning/CNN%20all%209000%20moved%20to%20test%20experiments</a><br/>\n                Run page: <a href=\"https://wandb.ai/supervisedlearning/CNN%20all%209000%20moved%20to%20test%20experiments/runs/nki67au3\" target=\"_blank\">https://wandb.ai/supervisedlearning/CNN%20all%209000%20moved%20to%20test%20experiments/runs/nki67au3</a><br/>\n                Run data is saved locally in <code>wandb\\run-20201205_153623-nki67au3</code><br/><br/>\n            "
     },
     "metadata": {}
    },
    {
     "output_type": "stream",
     "name": "stdout",
     "text": [
      "Train on 9690 samples, validate on 3090 samples\n",
      "Epoch 1/50\n",
      "9690/9690 [==============================] - 2s 220us/sample - loss: 0.7201 - accuracy: 0.9770 - val_loss: 0.0794 - val_accuracy: 0.9877\n",
      "Epoch 2/50\n",
      "9690/9690 [==============================] - 2s 214us/sample - loss: 0.0158 - accuracy: 0.9963 - val_loss: 0.0599 - val_accuracy: 0.9922\n",
      "Epoch 3/50\n",
      "9690/9690 [==============================] - 2s 209us/sample - loss: 0.0107 - accuracy: 0.9987 - val_loss: 0.1527 - val_accuracy: 0.9913\n",
      "Epoch 4/50\n",
      "9690/9690 [==============================] - 2s 201us/sample - loss: 0.0026 - accuracy: 0.9995 - val_loss: 0.1076 - val_accuracy: 0.9874\n",
      "Epoch 5/50\n",
      "9690/9690 [==============================] - 2s 207us/sample - loss: 0.0091 - accuracy: 0.9987 - val_loss: 0.0479 - val_accuracy: 0.9942\n",
      "Epoch 6/50\n",
      "9690/9690 [==============================] - 2s 206us/sample - loss: 0.0092 - accuracy: 0.9991 - val_loss: 0.2265 - val_accuracy: 0.9932\n",
      "Epoch 7/50\n",
      "9690/9690 [==============================] - 2s 206us/sample - loss: 0.0058 - accuracy: 0.9988 - val_loss: 0.0553 - val_accuracy: 0.9955\n",
      "Epoch 8/50\n",
      "9690/9690 [==============================] - 2s 211us/sample - loss: 6.5202e-04 - accuracy: 0.9997 - val_loss: 0.0517 - val_accuracy: 0.9948\n",
      "Epoch 9/50\n",
      "9690/9690 [==============================] - 2s 212us/sample - loss: 0.0075 - accuracy: 0.9993 - val_loss: 0.1431 - val_accuracy: 0.9932\n",
      "Epoch 10/50\n",
      "9690/9690 [==============================] - 2s 204us/sample - loss: 0.0053 - accuracy: 0.9998 - val_loss: 0.1333 - val_accuracy: 0.9935\n",
      "Epoch 11/50\n",
      "9690/9690 [==============================] - 2s 205us/sample - loss: 0.0017 - accuracy: 0.9999 - val_loss: 0.2811 - val_accuracy: 0.9932\n",
      "Epoch 12/50\n",
      "9690/9690 [==============================] - 2s 205us/sample - loss: 0.0050 - accuracy: 0.9991 - val_loss: 0.0521 - val_accuracy: 0.9961\n",
      "Epoch 13/50\n",
      "9690/9690 [==============================] - 2s 207us/sample - loss: 0.0066 - accuracy: 0.9990 - val_loss: 0.1014 - val_accuracy: 0.9948\n",
      "Epoch 14/50\n",
      "9690/9690 [==============================] - 2s 211us/sample - loss: 0.0025 - accuracy: 0.9999 - val_loss: 0.2659 - val_accuracy: 0.9841\n",
      "Epoch 15/50\n",
      "9690/9690 [==============================] - 2s 202us/sample - loss: 0.0082 - accuracy: 0.9994 - val_loss: 0.1269 - val_accuracy: 0.9951\n",
      "Epoch 16/50\n",
      "9690/9690 [==============================] - 2s 213us/sample - loss: 0.0143 - accuracy: 0.9993 - val_loss: 0.7499 - val_accuracy: 0.9883\n",
      "Epoch 17/50\n",
      "9690/9690 [==============================] - 2s 206us/sample - loss: 0.0015 - accuracy: 0.9998 - val_loss: 0.1003 - val_accuracy: 0.9948\n",
      "Epoch 18/50\n",
      "9690/9690 [==============================] - 2s 220us/sample - loss: 8.5556e-04 - accuracy: 0.9997 - val_loss: 0.1610 - val_accuracy: 0.9935\n",
      "Epoch 19/50\n",
      "9690/9690 [==============================] - 2s 207us/sample - loss: 9.4920e-04 - accuracy: 0.9998 - val_loss: 0.1942 - val_accuracy: 0.9935\n",
      "Epoch 20/50\n",
      "9690/9690 [==============================] - 2s 212us/sample - loss: 0.0057 - accuracy: 0.9996 - val_loss: 0.1365 - val_accuracy: 0.9945\n",
      "Epoch 21/50\n",
      "9690/9690 [==============================] - 2s 205us/sample - loss: 4.6748e-09 - accuracy: 1.0000 - val_loss: 0.2263 - val_accuracy: 0.9916\n",
      "Epoch 22/50\n",
      "9690/9690 [==============================] - 2s 200us/sample - loss: 0.0026 - accuracy: 0.9997 - val_loss: 0.1376 - val_accuracy: 0.9903\n",
      "Epoch 23/50\n",
      "9690/9690 [==============================] - 2s 205us/sample - loss: 0.0032 - accuracy: 0.9995 - val_loss: 0.1303 - val_accuracy: 0.9964\n",
      "Epoch 24/50\n",
      "9690/9690 [==============================] - 2s 212us/sample - loss: 0.0028 - accuracy: 0.9997 - val_loss: 0.3445 - val_accuracy: 0.9939\n",
      "Epoch 25/50\n",
      "9690/9690 [==============================] - 2s 204us/sample - loss: 0.0046 - accuracy: 0.9996 - val_loss: 0.5732 - val_accuracy: 0.9903\n",
      "Epoch 26/50\n",
      "9690/9690 [==============================] - 2s 203us/sample - loss: 0.0076 - accuracy: 0.9994 - val_loss: 0.5860 - val_accuracy: 0.9893\n",
      "Epoch 27/50\n",
      "9690/9690 [==============================] - 2s 208us/sample - loss: 0.0015 - accuracy: 0.9998 - val_loss: 0.5487 - val_accuracy: 0.9906\n",
      "Epoch 28/50\n",
      "9690/9690 [==============================] - 2s 204us/sample - loss: 0.0011 - accuracy: 0.9998 - val_loss: 0.2327 - val_accuracy: 0.9929\n",
      "Epoch 29/50\n",
      "9690/9690 [==============================] - 2s 204us/sample - loss: 0.0041 - accuracy: 0.9998 - val_loss: 0.2035 - val_accuracy: 0.9948\n",
      "Epoch 30/50\n",
      "9690/9690 [==============================] - 2s 204us/sample - loss: 0.0027 - accuracy: 0.9999 - val_loss: 0.2892 - val_accuracy: 0.9939\n",
      "Epoch 31/50\n",
      "9690/9690 [==============================] - 2s 203us/sample - loss: 1.5009e-09 - accuracy: 1.0000 - val_loss: 0.3322 - val_accuracy: 0.9932\n",
      "Epoch 32/50\n",
      "9690/9690 [==============================] - 2s 211us/sample - loss: 0.0031 - accuracy: 0.9998 - val_loss: 0.3407 - val_accuracy: 0.9913\n",
      "Epoch 33/50\n",
      "9690/9690 [==============================] - 2s 215us/sample - loss: 0.0093 - accuracy: 0.9992 - val_loss: 0.2717 - val_accuracy: 0.9890\n",
      "Epoch 34/50\n",
      "9690/9690 [==============================] - 2s 214us/sample - loss: 0.0194 - accuracy: 0.9989 - val_loss: 0.2125 - val_accuracy: 0.9951\n",
      "Epoch 35/50\n",
      "9690/9690 [==============================] - 2s 211us/sample - loss: 0.0031 - accuracy: 0.9994 - val_loss: 0.2101 - val_accuracy: 0.9945\n",
      "Epoch 36/50\n",
      "9690/9690 [==============================] - 2s 214us/sample - loss: 0.0013 - accuracy: 0.9998 - val_loss: 0.4227 - val_accuracy: 0.9919\n",
      "Epoch 37/50\n",
      "9690/9690 [==============================] - 2s 221us/sample - loss: 0.0025 - accuracy: 0.9998 - val_loss: 0.3793 - val_accuracy: 0.9926\n",
      "Epoch 38/50\n",
      "9690/9690 [==============================] - 2s 217us/sample - loss: 0.0032 - accuracy: 0.9999 - val_loss: 0.3896 - val_accuracy: 0.9919\n",
      "Epoch 39/50\n",
      "9690/9690 [==============================] - 2s 207us/sample - loss: 0.0121 - accuracy: 0.9988 - val_loss: 0.5601 - val_accuracy: 0.9919\n",
      "Epoch 40/50\n",
      "9690/9690 [==============================] - 2s 208us/sample - loss: 0.0035 - accuracy: 0.9995 - val_loss: 0.2243 - val_accuracy: 0.9932\n",
      "Epoch 41/50\n",
      "9690/9690 [==============================] - 2s 212us/sample - loss: 0.0069 - accuracy: 0.9998 - val_loss: 0.2391 - val_accuracy: 0.9945\n",
      "Epoch 42/50\n",
      "9690/9690 [==============================] - 2s 203us/sample - loss: 0.0031 - accuracy: 0.9998 - val_loss: 0.2174 - val_accuracy: 0.9968\n",
      "Epoch 43/50\n",
      "9690/9690 [==============================] - 2s 211us/sample - loss: 0.0094 - accuracy: 0.9997 - val_loss: 0.1294 - val_accuracy: 0.9977\n",
      "Epoch 44/50\n",
      "9690/9690 [==============================] - 2s 201us/sample - loss: 0.0031 - accuracy: 0.9998 - val_loss: 0.1458 - val_accuracy: 0.9971\n",
      "Epoch 45/50\n",
      "9690/9690 [==============================] - 2s 205us/sample - loss: 2.1589e-08 - accuracy: 1.0000 - val_loss: 0.1751 - val_accuracy: 0.9955\n",
      "Epoch 46/50\n",
      "9690/9690 [==============================] - 2s 204us/sample - loss: 0.0091 - accuracy: 0.9995 - val_loss: 0.2313 - val_accuracy: 0.9955\n",
      "Epoch 47/50\n",
      "9690/9690 [==============================] - 2s 207us/sample - loss: 8.7004e-05 - accuracy: 1.0000 - val_loss: 0.1859 - val_accuracy: 0.9964\n",
      "Epoch 48/50\n",
      "9690/9690 [==============================] - 2s 218us/sample - loss: 0.0031 - accuracy: 0.9999 - val_loss: 0.2034 - val_accuracy: 0.9961\n",
      "Epoch 49/50\n",
      "9690/9690 [==============================] - 2s 209us/sample - loss: 0.0036 - accuracy: 0.9996 - val_loss: 0.1776 - val_accuracy: 0.9951\n",
      "Epoch 50/50\n",
      "9690/9690 [==============================] - 2s 205us/sample - loss: 0.0020 - accuracy: 0.9997 - val_loss: 0.1609 - val_accuracy: 0.9958\n"
     ]
    },
    {
     "output_type": "display_data",
     "data": {
      "text/plain": "<IPython.core.display.HTML object>",
      "text/html": "<br/>Waiting for W&B process to finish, PID 4692<br/>Program ended successfully."
     },
     "metadata": {}
    },
    {
     "output_type": "display_data",
     "data": {
      "text/plain": "<IPython.core.display.HTML object>",
      "text/html": "Find user logs for this run at: <code>wandb\\run-20201205_153623-nki67au3\\logs\\debug.log</code>"
     },
     "metadata": {}
    },
    {
     "output_type": "display_data",
     "data": {
      "text/plain": "<IPython.core.display.HTML object>",
      "text/html": "Find internal logs for this run at: <code>wandb\\run-20201205_153623-nki67au3\\logs\\debug-internal.log</code>"
     },
     "metadata": {}
    },
    {
     "output_type": "display_data",
     "data": {
      "text/plain": "<IPython.core.display.HTML object>",
      "text/html": "<h3>Run summary:</h3><br/><style>\n    table.wandb td:nth-child(1) { padding: 0 10px; text-align: right }\n    </style><table class=\"wandb\">\n<tr><td>epoch</td><td>49</td></tr><tr><td>loss</td><td>0.00196</td></tr><tr><td>accuracy</td><td>0.99969</td></tr><tr><td>val_loss</td><td>0.16095</td></tr><tr><td>val_accuracy</td><td>0.99579</td></tr><tr><td>_step</td><td>50</td></tr><tr><td>_runtime</td><td>103</td></tr><tr><td>_timestamp</td><td>1607182686</td></tr><tr><td>best_val_loss</td><td>0.0479</td></tr><tr><td>best_epoch</td><td>4</td></tr><tr><td>Label_class</td><td>speed limit 30</td></tr><tr><td>num_classes</td><td>2</td></tr></table>"
     },
     "metadata": {}
    },
    {
     "output_type": "display_data",
     "data": {
      "text/plain": "<IPython.core.display.HTML object>",
      "text/html": "<h3>Run history:</h3><br/><style>\n    table.wandb td:nth-child(1) { padding: 0 10px; text-align: right }\n    </style><table class=\"wandb\">\n<tr><td>epoch</td><td>▁▁▁▁▂▂▂▂▂▃▃▃▃▃▃▄▄▄▄▄▅▅▅▅▅▅▆▆▆▆▆▆▇▇▇▇▇███</td></tr><tr><td>loss</td><td>█▁▁▁▁▁▁▁▁▁▁▁▁▁▁▁▁▁▁▁▁▁▁▁▁▁▁▁▁▁▁▁▁▁▁▁▁▁▁▁</td></tr><tr><td>accuracy</td><td>▁▇██████████████████████████████████████</td></tr><tr><td>val_loss</td><td>▁▁▂▂▃▁▁▂▃▁▁▃█▁▂▂▃▂▂▄▆▆▃▃▄▄▃▃▅▄▄▆▃▃▂▂▃▂▃▂</td></tr><tr><td>val_accuracy</td><td>▃▅▅▃▆▇▇▆▆▇▇▁▃▇▆▆▅▄▇▆▄▄▆▇▆▅▃▇▅▅▅▅▆███▇▇▇▇</td></tr><tr><td>_step</td><td>▁▁▁▁▂▂▂▂▂▃▃▃▃▃▃▄▄▄▄▄▅▅▅▅▅▅▆▆▆▆▆▆▇▇▇▇▇███</td></tr><tr><td>_runtime</td><td>▁▁▁▁▂▂▂▂▂▃▃▃▃▃▃▄▄▄▄▄▅▅▅▅▅▆▆▆▆▆▆▇▇▇▇▇████</td></tr><tr><td>_timestamp</td><td>▁▁▁▁▂▂▂▂▂▃▃▃▃▃▃▄▄▄▄▄▅▅▅▅▅▆▆▆▆▆▆▇▇▇▇▇████</td></tr><tr><td>num_classes</td><td>▁</td></tr></table><br/>"
     },
     "metadata": {}
    },
    {
     "output_type": "display_data",
     "data": {
      "text/plain": "<IPython.core.display.HTML object>",
      "text/html": "Synced 5 W&B file(s), 1 media file(s), 0 artifact file(s) and 1 other file(s)"
     },
     "metadata": {}
    },
    {
     "output_type": "display_data",
     "data": {
      "text/plain": "<IPython.core.display.HTML object>",
      "text/html": "\n                    <br/>Synced <strong style=\"color:#cdcd00\">pretty-mountain-3</strong>: <a href=\"https://wandb.ai/supervisedlearning/CNN%20all%209000%20moved%20to%20test%20experiments/runs/nki67au3\" target=\"_blank\">https://wandb.ai/supervisedlearning/CNN%20all%209000%20moved%20to%20test%20experiments/runs/nki67au3</a><br/>\n                "
     },
     "metadata": {}
    },
    {
     "output_type": "stream",
     "name": "stderr",
     "text": [
      "wandb: wandb version 0.10.12 is available!  To upgrade, please run:\nwandb:  $ pip install wandb --upgrade\n"
     ]
    },
    {
     "output_type": "display_data",
     "data": {
      "text/plain": "<IPython.core.display.HTML object>",
      "text/html": "\n                Tracking run with wandb version 0.10.8<br/>\n                Syncing run <strong style=\"color:#cdcd00\">lunar-eon-4</strong> to <a href=\"https://wandb.ai\" target=\"_blank\">Weights & Biases</a> <a href=\"https://docs.wandb.com/integrations/jupyter.html\" target=\"_blank\">(Documentation)</a>.<br/>\n                Project page: <a href=\"https://wandb.ai/supervisedlearning/CNN%20all%209000%20moved%20to%20test%20experiments\" target=\"_blank\">https://wandb.ai/supervisedlearning/CNN%20all%209000%20moved%20to%20test%20experiments</a><br/>\n                Run page: <a href=\"https://wandb.ai/supervisedlearning/CNN%20all%209000%20moved%20to%20test%20experiments/runs/pvrcmexc\" target=\"_blank\">https://wandb.ai/supervisedlearning/CNN%20all%209000%20moved%20to%20test%20experiments/runs/pvrcmexc</a><br/>\n                Run data is saved locally in <code>wandb\\run-20201205_153814-pvrcmexc</code><br/><br/>\n            "
     },
     "metadata": {}
    },
    {
     "output_type": "stream",
     "name": "stdout",
     "text": [
      "Train on 9690 samples, validate on 3090 samples\n",
      "Epoch 1/50\n",
      "9690/9690 [==============================] - 2s 227us/sample - loss: 1.0344 - accuracy: 0.9747 - val_loss: 0.3669 - val_accuracy: 0.9803\n",
      "Epoch 2/50\n",
      "9690/9690 [==============================] - 2s 218us/sample - loss: 0.0095 - accuracy: 0.9981 - val_loss: 0.1624 - val_accuracy: 0.9880\n",
      "Epoch 3/50\n",
      "9690/9690 [==============================] - 2s 210us/sample - loss: 0.0152 - accuracy: 0.9986 - val_loss: 0.1405 - val_accuracy: 0.9903\n",
      "Epoch 4/50\n",
      "9690/9690 [==============================] - 2s 209us/sample - loss: 0.0014 - accuracy: 0.9998 - val_loss: 0.2008 - val_accuracy: 0.9877\n",
      "Epoch 5/50\n",
      "9690/9690 [==============================] - 2s 204us/sample - loss: 0.0078 - accuracy: 0.9993 - val_loss: 0.1737 - val_accuracy: 0.9883\n",
      "Epoch 6/50\n",
      "9690/9690 [==============================] - 2s 205us/sample - loss: 9.6260e-04 - accuracy: 0.9998 - val_loss: 0.1514 - val_accuracy: 0.9890\n",
      "Epoch 7/50\n",
      "9690/9690 [==============================] - 2s 200us/sample - loss: 0.0049 - accuracy: 0.9995 - val_loss: 0.1478 - val_accuracy: 0.9922\n",
      "Epoch 8/50\n",
      "9690/9690 [==============================] - 2s 205us/sample - loss: 0.0051 - accuracy: 0.9997 - val_loss: 0.1871 - val_accuracy: 0.9871\n",
      "Epoch 9/50\n",
      "9690/9690 [==============================] - 2s 208us/sample - loss: 0.0067 - accuracy: 0.9994 - val_loss: 0.1282 - val_accuracy: 0.9932\n",
      "Epoch 10/50\n",
      "9690/9690 [==============================] - 2s 210us/sample - loss: 0.0108 - accuracy: 0.9994 - val_loss: 0.2038 - val_accuracy: 0.9903\n",
      "Epoch 11/50\n",
      "9690/9690 [==============================] - 2s 212us/sample - loss: 0.0013 - accuracy: 0.9999 - val_loss: 0.1974 - val_accuracy: 0.9883\n",
      "Epoch 12/50\n",
      "9690/9690 [==============================] - 2s 208us/sample - loss: 0.0023 - accuracy: 0.9998 - val_loss: 0.1600 - val_accuracy: 0.9903\n",
      "Epoch 13/50\n",
      "9690/9690 [==============================] - 2s 214us/sample - loss: 0.0022 - accuracy: 0.9997 - val_loss: 0.1418 - val_accuracy: 0.9926\n",
      "Epoch 14/50\n",
      "9690/9690 [==============================] - 2s 208us/sample - loss: 0.0041 - accuracy: 0.9995 - val_loss: 0.4461 - val_accuracy: 0.9880\n",
      "Epoch 15/50\n",
      "9690/9690 [==============================] - 2s 205us/sample - loss: 3.1548e-07 - accuracy: 1.0000 - val_loss: 0.1023 - val_accuracy: 0.9926\n",
      "Epoch 16/50\n",
      "9690/9690 [==============================] - 2s 208us/sample - loss: 0.0040 - accuracy: 0.9997 - val_loss: 0.0593 - val_accuracy: 0.9974\n",
      "Epoch 17/50\n",
      "9690/9690 [==============================] - 2s 202us/sample - loss: 0.0019 - accuracy: 0.9998 - val_loss: 0.0861 - val_accuracy: 0.9948\n",
      "Epoch 18/50\n",
      "9690/9690 [==============================] - 2s 203us/sample - loss: 0.0058 - accuracy: 0.9997 - val_loss: 0.0840 - val_accuracy: 0.9948\n",
      "Epoch 19/50\n",
      "9690/9690 [==============================] - 2s 210us/sample - loss: 0.0047 - accuracy: 0.9993 - val_loss: 0.1853 - val_accuracy: 0.9883\n",
      "Epoch 20/50\n",
      "9690/9690 [==============================] - 2s 208us/sample - loss: 0.0109 - accuracy: 0.9993 - val_loss: 0.0913 - val_accuracy: 0.9945\n",
      "Epoch 21/50\n",
      "9690/9690 [==============================] - 2s 228us/sample - loss: 0.0015 - accuracy: 0.9999 - val_loss: 0.1875 - val_accuracy: 0.9880\n",
      "Epoch 22/50\n",
      "9690/9690 [==============================] - 2s 222us/sample - loss: 0.0031 - accuracy: 0.9998 - val_loss: 0.1815 - val_accuracy: 0.9887\n",
      "Epoch 23/50\n",
      "9690/9690 [==============================] - 2s 212us/sample - loss: 0.0021 - accuracy: 0.9999 - val_loss: 0.2084 - val_accuracy: 0.9874\n",
      "Epoch 24/50\n",
      "9690/9690 [==============================] - 2s 212us/sample - loss: 0.0050 - accuracy: 0.9996 - val_loss: 0.2632 - val_accuracy: 0.9874\n",
      "Epoch 25/50\n",
      "9690/9690 [==============================] - 2s 212us/sample - loss: 3.1514e-04 - accuracy: 0.9999 - val_loss: 0.0845 - val_accuracy: 0.9942\n",
      "Epoch 26/50\n",
      "9690/9690 [==============================] - 2s 224us/sample - loss: 1.4763e-10 - accuracy: 1.0000 - val_loss: 0.1200 - val_accuracy: 0.9935\n",
      "Epoch 27/50\n",
      "9690/9690 [==============================] - 2s 215us/sample - loss: 3.0786e-06 - accuracy: 1.0000 - val_loss: 0.1450 - val_accuracy: 0.9916\n",
      "Epoch 28/50\n",
      "9690/9690 [==============================] - 2s 216us/sample - loss: 0.0015 - accuracy: 0.9998 - val_loss: 0.1460 - val_accuracy: 0.9913\n",
      "Epoch 29/50\n",
      "9690/9690 [==============================] - 2s 206us/sample - loss: 0.0000e+00 - accuracy: 1.0000 - val_loss: 0.1457 - val_accuracy: 0.9906\n",
      "Epoch 30/50\n",
      "9690/9690 [==============================] - 2s 211us/sample - loss: 1.3533e-10 - accuracy: 1.0000 - val_loss: 0.1937 - val_accuracy: 0.9900\n",
      "Epoch 31/50\n",
      "9690/9690 [==============================] - 2s 206us/sample - loss: 3.6907e-11 - accuracy: 1.0000 - val_loss: 0.1485 - val_accuracy: 0.9919\n",
      "Epoch 32/50\n",
      "9690/9690 [==============================] - 2s 213us/sample - loss: 3.4446e-10 - accuracy: 1.0000 - val_loss: 0.1193 - val_accuracy: 0.9929\n",
      "Epoch 33/50\n",
      "9690/9690 [==============================] - 2s 210us/sample - loss: 0.0021 - accuracy: 0.9999 - val_loss: 0.1939 - val_accuracy: 0.9913\n",
      "Epoch 34/50\n",
      "9690/9690 [==============================] - 2s 206us/sample - loss: 9.8418e-11 - accuracy: 1.0000 - val_loss: 0.1670 - val_accuracy: 0.9935\n",
      "Epoch 35/50\n",
      "9690/9690 [==============================] - 2s 203us/sample - loss: 0.0000e+00 - accuracy: 1.0000 - val_loss: 0.1635 - val_accuracy: 0.9929\n",
      "Epoch 36/50\n",
      "9690/9690 [==============================] - 2s 199us/sample - loss: 6.1511e-11 - accuracy: 1.0000 - val_loss: 0.1861 - val_accuracy: 0.9919\n",
      "Epoch 37/50\n",
      "9690/9690 [==============================] - 2s 196us/sample - loss: 0.0000e+00 - accuracy: 1.0000 - val_loss: 0.1776 - val_accuracy: 0.9922\n",
      "Epoch 38/50\n",
      "9690/9690 [==============================] - 2s 202us/sample - loss: 1.2302e-11 - accuracy: 1.0000 - val_loss: 0.1526 - val_accuracy: 0.9935\n",
      "Epoch 39/50\n",
      "9690/9690 [==============================] - 2s 199us/sample - loss: 9.9521e-04 - accuracy: 0.9998 - val_loss: 0.1638 - val_accuracy: 0.9922\n",
      "Epoch 40/50\n",
      "9690/9690 [==============================] - 2s 199us/sample - loss: 0.0000e+00 - accuracy: 1.0000 - val_loss: 0.1599 - val_accuracy: 0.9926\n",
      "Epoch 41/50\n",
      "9690/9690 [==============================] - 2s 207us/sample - loss: 0.0000e+00 - accuracy: 1.0000 - val_loss: 0.1552 - val_accuracy: 0.9922\n",
      "Epoch 42/50\n",
      "9690/9690 [==============================] - 2s 206us/sample - loss: 1.2302e-11 - accuracy: 1.0000 - val_loss: 0.1801 - val_accuracy: 0.9919\n",
      "Epoch 43/50\n",
      "9690/9690 [==============================] - 2s 205us/sample - loss: 5.5719e-08 - accuracy: 1.0000 - val_loss: 0.1298 - val_accuracy: 0.9929\n",
      "Epoch 44/50\n",
      "9690/9690 [==============================] - 2s 204us/sample - loss: 6.2742e-10 - accuracy: 1.0000 - val_loss: 0.2586 - val_accuracy: 0.9887\n",
      "Epoch 45/50\n",
      "9690/9690 [==============================] - 2s 208us/sample - loss: 1.2302e-11 - accuracy: 1.0000 - val_loss: 0.1347 - val_accuracy: 0.9929\n",
      "Epoch 46/50\n",
      "9690/9690 [==============================] - 2s 206us/sample - loss: 7.6837e-04 - accuracy: 0.9999 - val_loss: 0.5991 - val_accuracy: 0.9599\n",
      "Epoch 47/50\n",
      "9690/9690 [==============================] - 2s 212us/sample - loss: 1.9168e-05 - accuracy: 1.0000 - val_loss: 0.1721 - val_accuracy: 0.9922\n",
      "Epoch 48/50\n",
      "9690/9690 [==============================] - 2s 218us/sample - loss: 3.7739e-04 - accuracy: 0.9999 - val_loss: 0.2325 - val_accuracy: 0.9913\n",
      "Epoch 49/50\n",
      "9690/9690 [==============================] - 2s 205us/sample - loss: 8.6116e-11 - accuracy: 1.0000 - val_loss: 0.4282 - val_accuracy: 0.9867\n",
      "Epoch 50/50\n",
      "9690/9690 [==============================] - 2s 213us/sample - loss: 2.3497e-09 - accuracy: 1.0000 - val_loss: 0.1036 - val_accuracy: 0.9945\n"
     ]
    },
    {
     "output_type": "display_data",
     "data": {
      "text/plain": "<IPython.core.display.HTML object>",
      "text/html": "<br/>Waiting for W&B process to finish, PID 35332<br/>Program ended successfully."
     },
     "metadata": {}
    },
    {
     "output_type": "display_data",
     "data": {
      "text/plain": "<IPython.core.display.HTML object>",
      "text/html": "Find user logs for this run at: <code>wandb\\run-20201205_153814-pvrcmexc\\logs\\debug.log</code>"
     },
     "metadata": {}
    },
    {
     "output_type": "display_data",
     "data": {
      "text/plain": "<IPython.core.display.HTML object>",
      "text/html": "Find internal logs for this run at: <code>wandb\\run-20201205_153814-pvrcmexc\\logs\\debug-internal.log</code>"
     },
     "metadata": {}
    },
    {
     "output_type": "display_data",
     "data": {
      "text/plain": "<IPython.core.display.HTML object>",
      "text/html": "<h3>Run summary:</h3><br/><style>\n    table.wandb td:nth-child(1) { padding: 0 10px; text-align: right }\n    </style><table class=\"wandb\">\n<tr><td>epoch</td><td>49</td></tr><tr><td>loss</td><td>0.0</td></tr><tr><td>accuracy</td><td>1.0</td></tr><tr><td>val_loss</td><td>0.10356</td></tr><tr><td>val_accuracy</td><td>0.9945</td></tr><tr><td>_step</td><td>50</td></tr><tr><td>_runtime</td><td>103</td></tr><tr><td>_timestamp</td><td>1607182797</td></tr><tr><td>best_val_loss</td><td>0.05925</td></tr><tr><td>best_epoch</td><td>15</td></tr><tr><td>Label_class</td><td>speed limit 50</td></tr><tr><td>num_classes</td><td>2</td></tr></table>"
     },
     "metadata": {}
    },
    {
     "output_type": "display_data",
     "data": {
      "text/plain": "<IPython.core.display.HTML object>",
      "text/html": "<h3>Run history:</h3><br/><style>\n    table.wandb td:nth-child(1) { padding: 0 10px; text-align: right }\n    </style><table class=\"wandb\">\n<tr><td>epoch</td><td>▁▁▁▁▂▂▂▂▂▃▃▃▃▃▃▄▄▄▄▄▅▅▅▅▅▅▆▆▆▆▆▆▇▇▇▇▇███</td></tr><tr><td>loss</td><td>█▁▁▁▁▁▁▁▁▁▁▁▁▁▁▁▁▁▁▁▁▁▁▁▁▁▁▁▁▁▁▁▁▁▁▁▁▁▁▁</td></tr><tr><td>accuracy</td><td>▁▇██████████████████████████████████████</td></tr><tr><td>val_loss</td><td>▅▂▂▃▂▂▃▂▃▂▂▆▁▁▁▃▃▃▃▄▂▂▂▂▂▂▃▂▃▃▂▂▂▃▂▄█▂▃▂</td></tr><tr><td>val_accuracy</td><td>▅▆▇▆▆▇▆▇▆▇▇▆███▆▆▆▆▆▇▇▇▇▇▇▇▇▇▇▇▇▇▇▇▆▁▇▇▇</td></tr><tr><td>_step</td><td>▁▁▁▁▂▂▂▂▂▃▃▃▃▃▃▄▄▄▄▄▅▅▅▅▅▅▆▆▆▆▆▆▇▇▇▇▇███</td></tr><tr><td>_runtime</td><td>▁▁▁▁▂▂▂▂▂▃▃▃▃▃▃▄▄▄▄▄▅▅▅▅▅▆▆▆▆▆▆▇▇▇▇▇████</td></tr><tr><td>_timestamp</td><td>▁▁▁▁▂▂▂▂▂▃▃▃▃▃▃▄▄▄▄▄▅▅▅▅▅▆▆▆▆▆▆▇▇▇▇▇████</td></tr><tr><td>num_classes</td><td>▁</td></tr></table><br/>"
     },
     "metadata": {}
    },
    {
     "output_type": "display_data",
     "data": {
      "text/plain": "<IPython.core.display.HTML object>",
      "text/html": "Synced 5 W&B file(s), 1 media file(s), 0 artifact file(s) and 1 other file(s)"
     },
     "metadata": {}
    },
    {
     "output_type": "display_data",
     "data": {
      "text/plain": "<IPython.core.display.HTML object>",
      "text/html": "\n                    <br/>Synced <strong style=\"color:#cdcd00\">lunar-eon-4</strong>: <a href=\"https://wandb.ai/supervisedlearning/CNN%20all%209000%20moved%20to%20test%20experiments/runs/pvrcmexc\" target=\"_blank\">https://wandb.ai/supervisedlearning/CNN%20all%209000%20moved%20to%20test%20experiments/runs/pvrcmexc</a><br/>\n                "
     },
     "metadata": {}
    },
    {
     "output_type": "stream",
     "name": "stderr",
     "text": [
      "wandb: wandb version 0.10.12 is available!  To upgrade, please run:\nwandb:  $ pip install wandb --upgrade\n"
     ]
    },
    {
     "output_type": "display_data",
     "data": {
      "text/plain": "<IPython.core.display.HTML object>",
      "text/html": "\n                Tracking run with wandb version 0.10.8<br/>\n                Syncing run <strong style=\"color:#cdcd00\">rare-wood-5</strong> to <a href=\"https://wandb.ai\" target=\"_blank\">Weights & Biases</a> <a href=\"https://docs.wandb.com/integrations/jupyter.html\" target=\"_blank\">(Documentation)</a>.<br/>\n                Project page: <a href=\"https://wandb.ai/supervisedlearning/CNN%20all%209000%20moved%20to%20test%20experiments\" target=\"_blank\">https://wandb.ai/supervisedlearning/CNN%20all%209000%20moved%20to%20test%20experiments</a><br/>\n                Run page: <a href=\"https://wandb.ai/supervisedlearning/CNN%20all%209000%20moved%20to%20test%20experiments/runs/3p8l8kmw\" target=\"_blank\">https://wandb.ai/supervisedlearning/CNN%20all%209000%20moved%20to%20test%20experiments/runs/3p8l8kmw</a><br/>\n                Run data is saved locally in <code>wandb\\run-20201205_154006-3p8l8kmw</code><br/><br/>\n            "
     },
     "metadata": {}
    },
    {
     "output_type": "stream",
     "name": "stdout",
     "text": [
      "Train on 9690 samples, validate on 3090 samples\n",
      "Epoch 1/50\n",
      "9690/9690 [==============================] - 2s 220us/sample - loss: 0.7004 - accuracy: 0.9843 - val_loss: 0.0788 - val_accuracy: 0.9926\n",
      "Epoch 2/50\n",
      "9690/9690 [==============================] - 2s 211us/sample - loss: 0.0033 - accuracy: 0.9996 - val_loss: 0.0352 - val_accuracy: 0.9971\n",
      "Epoch 3/50\n",
      "9690/9690 [==============================] - 2s 211us/sample - loss: 0.0067 - accuracy: 0.9991 - val_loss: 0.0513 - val_accuracy: 0.9961\n",
      "Epoch 4/50\n",
      "9690/9690 [==============================] - 2s 216us/sample - loss: 0.0065 - accuracy: 0.9996 - val_loss: 0.0224 - val_accuracy: 0.9984\n",
      "Epoch 5/50\n",
      "9690/9690 [==============================] - 2s 221us/sample - loss: 3.5540e-04 - accuracy: 0.9999 - val_loss: 0.0368 - val_accuracy: 0.9961\n",
      "Epoch 6/50\n",
      "9690/9690 [==============================] - 2s 231us/sample - loss: 0.0089 - accuracy: 0.9999 - val_loss: 0.0787 - val_accuracy: 0.9961\n",
      "Epoch 7/50\n",
      "9690/9690 [==============================] - 2s 208us/sample - loss: 0.0025 - accuracy: 0.9999 - val_loss: 0.0462 - val_accuracy: 0.9977\n",
      "Epoch 8/50\n",
      "9690/9690 [==============================] - 2s 207us/sample - loss: 0.0020 - accuracy: 0.9999 - val_loss: 0.0294 - val_accuracy: 0.9971\n",
      "Epoch 9/50\n",
      "9690/9690 [==============================] - 2s 220us/sample - loss: 0.0024 - accuracy: 0.9997 - val_loss: 0.1041 - val_accuracy: 0.9890\n",
      "Epoch 10/50\n",
      "9690/9690 [==============================] - 2s 212us/sample - loss: 0.0026 - accuracy: 0.9996 - val_loss: 0.0732 - val_accuracy: 0.9961\n",
      "Epoch 11/50\n",
      "9690/9690 [==============================] - 2s 207us/sample - loss: 2.3620e-09 - accuracy: 1.0000 - val_loss: 0.0560 - val_accuracy: 0.9951\n",
      "Epoch 12/50\n",
      "9690/9690 [==============================] - 2s 205us/sample - loss: 1.2302e-10 - accuracy: 1.0000 - val_loss: 0.0718 - val_accuracy: 0.9948\n",
      "Epoch 13/50\n",
      "9690/9690 [==============================] - 2s 214us/sample - loss: 6.7663e-10 - accuracy: 1.0000 - val_loss: 0.0452 - val_accuracy: 0.9977\n",
      "Epoch 14/50\n",
      "9690/9690 [==============================] - 2s 206us/sample - loss: 2.1346e-05 - accuracy: 1.0000 - val_loss: 0.0416 - val_accuracy: 0.9968\n",
      "Epoch 15/50\n",
      "9690/9690 [==============================] - 2s 214us/sample - loss: 0.0031 - accuracy: 0.9999 - val_loss: 0.1022 - val_accuracy: 0.9929\n",
      "Epoch 16/50\n",
      "9690/9690 [==============================] - 2s 212us/sample - loss: 0.0095 - accuracy: 0.9997 - val_loss: 0.1202 - val_accuracy: 0.9929\n",
      "Epoch 17/50\n",
      "9690/9690 [==============================] - 2s 210us/sample - loss: 0.0042 - accuracy: 0.9997 - val_loss: 0.0993 - val_accuracy: 0.9903\n",
      "Epoch 18/50\n",
      "9690/9690 [==============================] - 2s 219us/sample - loss: 1.8742e-04 - accuracy: 0.9999 - val_loss: 0.1052 - val_accuracy: 0.9964\n",
      "Epoch 19/50\n",
      "9690/9690 [==============================] - 2s 205us/sample - loss: 4.8963e-09 - accuracy: 1.0000 - val_loss: 0.1015 - val_accuracy: 0.9958\n",
      "Epoch 20/50\n",
      "9690/9690 [==============================] - 2s 210us/sample - loss: 0.0013 - accuracy: 0.9998 - val_loss: 0.0386 - val_accuracy: 0.9981\n",
      "Epoch 21/50\n",
      "9690/9690 [==============================] - 2s 224us/sample - loss: 1.1195e-09 - accuracy: 1.0000 - val_loss: 0.0251 - val_accuracy: 0.9977\n",
      "Epoch 22/50\n",
      "9690/9690 [==============================] - 2s 218us/sample - loss: 0.0033 - accuracy: 0.9999 - val_loss: 0.0256 - val_accuracy: 0.9977\n",
      "Epoch 23/50\n",
      "9690/9690 [==============================] - 2s 214us/sample - loss: 0.0000e+00 - accuracy: 1.0000 - val_loss: 0.0311 - val_accuracy: 0.9974\n",
      "Epoch 24/50\n",
      "9690/9690 [==============================] - 2s 212us/sample - loss: 1.2302e-11 - accuracy: 1.0000 - val_loss: 0.0294 - val_accuracy: 0.9974\n",
      "Epoch 25/50\n",
      "9690/9690 [==============================] - 2s 207us/sample - loss: 0.0048 - accuracy: 0.9996 - val_loss: 0.0368 - val_accuracy: 0.9977\n",
      "Epoch 26/50\n",
      "9690/9690 [==============================] - 2s 206us/sample - loss: 5.0561e-09 - accuracy: 1.0000 - val_loss: 0.0245 - val_accuracy: 0.9984\n",
      "Epoch 27/50\n",
      "9690/9690 [==============================] - 2s 197us/sample - loss: 2.4605e-11 - accuracy: 1.0000 - val_loss: 0.0306 - val_accuracy: 0.9984\n",
      "Epoch 28/50\n",
      "9690/9690 [==============================] - 2s 201us/sample - loss: 3.7145e-05 - accuracy: 1.0000 - val_loss: 0.0696 - val_accuracy: 0.9955\n",
      "Epoch 29/50\n",
      "9690/9690 [==============================] - 2s 204us/sample - loss: 5.9804e-07 - accuracy: 1.0000 - val_loss: 0.0427 - val_accuracy: 0.9971\n",
      "Epoch 30/50\n",
      "9690/9690 [==============================] - 2s 207us/sample - loss: 2.3374e-10 - accuracy: 1.0000 - val_loss: 0.0580 - val_accuracy: 0.9968\n",
      "Epoch 31/50\n",
      "9690/9690 [==============================] - 2s 209us/sample - loss: 1.5255e-09 - accuracy: 1.0000 - val_loss: 0.0861 - val_accuracy: 0.9955\n",
      "Epoch 32/50\n",
      "9690/9690 [==============================] - 2s 211us/sample - loss: 0.0022 - accuracy: 0.9999 - val_loss: 0.1305 - val_accuracy: 0.9951\n",
      "Epoch 33/50\n",
      "9690/9690 [==============================] - 2s 235us/sample - loss: 0.0012 - accuracy: 0.9999 - val_loss: 0.1486 - val_accuracy: 0.9945\n",
      "Epoch 34/50\n",
      "9690/9690 [==============================] - 2s 226us/sample - loss: 4.1697e-08 - accuracy: 1.0000 - val_loss: 0.1212 - val_accuracy: 0.9939\n",
      "Epoch 35/50\n",
      "9690/9690 [==============================] - 2s 217us/sample - loss: 9.5912e-06 - accuracy: 1.0000 - val_loss: 0.0997 - val_accuracy: 0.9971\n",
      "Epoch 36/50\n",
      "9690/9690 [==============================] - 2s 211us/sample - loss: 2.1352e-05 - accuracy: 1.0000 - val_loss: 0.1274 - val_accuracy: 0.9945\n",
      "Epoch 37/50\n",
      "9690/9690 [==============================] - 2s 208us/sample - loss: 2.2982e-04 - accuracy: 0.9999 - val_loss: 0.1170 - val_accuracy: 0.9945\n",
      "Epoch 38/50\n",
      "9690/9690 [==============================] - 2s 209us/sample - loss: 5.2235e-05 - accuracy: 1.0000 - val_loss: 0.2866 - val_accuracy: 0.9906\n",
      "Epoch 39/50\n",
      "9690/9690 [==============================] - 2s 216us/sample - loss: 4.5520e-04 - accuracy: 0.9999 - val_loss: 0.1862 - val_accuracy: 0.9939\n",
      "Epoch 40/50\n",
      "9690/9690 [==============================] - 2s 209us/sample - loss: 9.0596e-04 - accuracy: 0.9998 - val_loss: 0.1362 - val_accuracy: 0.9935\n",
      "Epoch 41/50\n",
      "9690/9690 [==============================] - 2s 208us/sample - loss: 4.1091e-07 - accuracy: 1.0000 - val_loss: 0.2217 - val_accuracy: 0.9916\n",
      "Epoch 42/50\n",
      "9690/9690 [==============================] - 2s 212us/sample - loss: 6.0421e-05 - accuracy: 1.0000 - val_loss: 0.2015 - val_accuracy: 0.9890\n",
      "Epoch 43/50\n",
      "9690/9690 [==============================] - 2s 206us/sample - loss: 1.0949e-09 - accuracy: 1.0000 - val_loss: 0.1659 - val_accuracy: 0.9913\n",
      "Epoch 44/50\n",
      "9690/9690 [==============================] - 2s 212us/sample - loss: 9.3003e-09 - accuracy: 1.0000 - val_loss: 0.2153 - val_accuracy: 0.9919\n",
      "Epoch 45/50\n",
      "9690/9690 [==============================] - 2s 200us/sample - loss: 1.0465e-07 - accuracy: 1.0000 - val_loss: 0.0977 - val_accuracy: 0.9964\n",
      "Epoch 46/50\n",
      "9690/9690 [==============================] - 2s 213us/sample - loss: 0.0000e+00 - accuracy: 1.0000 - val_loss: 0.1103 - val_accuracy: 0.9964\n",
      "Epoch 47/50\n",
      "9690/9690 [==============================] - 2s 212us/sample - loss: 0.0012 - accuracy: 0.9998 - val_loss: 0.1444 - val_accuracy: 0.9958\n",
      "Epoch 48/50\n",
      "9690/9690 [==============================] - 2s 214us/sample - loss: 1.7074e-08 - accuracy: 1.0000 - val_loss: 0.0516 - val_accuracy: 0.9984\n",
      "Epoch 49/50\n",
      "9690/9690 [==============================] - 2s 211us/sample - loss: 7.3442e-09 - accuracy: 1.0000 - val_loss: 0.0602 - val_accuracy: 0.9981\n",
      "Epoch 50/50\n",
      "9690/9690 [==============================] - 2s 213us/sample - loss: 0.0000e+00 - accuracy: 1.0000 - val_loss: 0.1093 - val_accuracy: 0.9968\n"
     ]
    },
    {
     "output_type": "display_data",
     "data": {
      "text/plain": "<IPython.core.display.HTML object>",
      "text/html": "<br/>Waiting for W&B process to finish, PID 22636<br/>Program ended successfully."
     },
     "metadata": {}
    },
    {
     "output_type": "display_data",
     "data": {
      "text/plain": "<IPython.core.display.HTML object>",
      "text/html": "Find user logs for this run at: <code>wandb\\run-20201205_154006-3p8l8kmw\\logs\\debug.log</code>"
     },
     "metadata": {}
    },
    {
     "output_type": "display_data",
     "data": {
      "text/plain": "<IPython.core.display.HTML object>",
      "text/html": "Find internal logs for this run at: <code>wandb\\run-20201205_154006-3p8l8kmw\\logs\\debug-internal.log</code>"
     },
     "metadata": {}
    },
    {
     "output_type": "display_data",
     "data": {
      "text/plain": "<IPython.core.display.HTML object>",
      "text/html": "<h3>Run summary:</h3><br/><style>\n    table.wandb td:nth-child(1) { padding: 0 10px; text-align: right }\n    </style><table class=\"wandb\">\n<tr><td>epoch</td><td>49</td></tr><tr><td>loss</td><td>0.0</td></tr><tr><td>accuracy</td><td>1.0</td></tr><tr><td>val_loss</td><td>0.10931</td></tr><tr><td>val_accuracy</td><td>0.99676</td></tr><tr><td>_step</td><td>50</td></tr><tr><td>_runtime</td><td>104</td></tr><tr><td>_timestamp</td><td>1607182910</td></tr><tr><td>best_val_loss</td><td>0.02237</td></tr><tr><td>best_epoch</td><td>3</td></tr><tr><td>Label_class</td><td>speed limit 60</td></tr><tr><td>num_classes</td><td>2</td></tr></table>"
     },
     "metadata": {}
    },
    {
     "output_type": "display_data",
     "data": {
      "text/plain": "<IPython.core.display.HTML object>",
      "text/html": "<h3>Run history:</h3><br/><style>\n    table.wandb td:nth-child(1) { padding: 0 10px; text-align: right }\n    </style><table class=\"wandb\">\n<tr><td>epoch</td><td>▁▁▁▁▂▂▂▂▂▃▃▃▃▃▃▄▄▄▄▄▅▅▅▅▅▅▆▆▆▆▆▆▇▇▇▇▇███</td></tr><tr><td>loss</td><td>█▁▁▁▁▁▁▁▁▁▁▁▁▁▁▁▁▁▁▁▁▁▁▁▁▁▁▁▁▁▁▁▁▁▁▁▁▁▁▁</td></tr><tr><td>accuracy</td><td>▁███████████████████████████████████████</td></tr><tr><td>val_loss</td><td>▂▁▂▁▂▂▁▃▂▂▂▂▄▃▃▃▁▁▁▁▁▁▂▂▃▄▄▄▄▄█▅▆▆▅▆▃▄▂▃</td></tr><tr><td>val_accuracy</td><td>▄▇▆█▆█▇▁▆▅█▇▄▂▇▆██▇▇██▆▇▆▆▅▅▅▅▂▅▃▁▃▃▇▆█▇</td></tr><tr><td>_step</td><td>▁▁▁▁▂▂▂▂▂▃▃▃▃▃▃▄▄▄▄▄▅▅▅▅▅▅▆▆▆▆▆▆▇▇▇▇▇███</td></tr><tr><td>_runtime</td><td>▁▁▁▁▂▂▂▂▂▃▃▃▃▃▃▄▄▄▄▄▅▅▅▅▅▆▆▆▆▆▆▇▇▇▇▇████</td></tr><tr><td>_timestamp</td><td>▁▁▁▁▂▂▂▂▂▃▃▃▃▃▃▄▄▄▄▄▅▅▅▅▅▆▆▆▆▆▆▇▇▇▇▇████</td></tr><tr><td>num_classes</td><td>▁</td></tr></table><br/>"
     },
     "metadata": {}
    },
    {
     "output_type": "display_data",
     "data": {
      "text/plain": "<IPython.core.display.HTML object>",
      "text/html": "Synced 5 W&B file(s), 1 media file(s), 0 artifact file(s) and 1 other file(s)"
     },
     "metadata": {}
    },
    {
     "output_type": "display_data",
     "data": {
      "text/plain": "<IPython.core.display.HTML object>",
      "text/html": "\n                    <br/>Synced <strong style=\"color:#cdcd00\">rare-wood-5</strong>: <a href=\"https://wandb.ai/supervisedlearning/CNN%20all%209000%20moved%20to%20test%20experiments/runs/3p8l8kmw\" target=\"_blank\">https://wandb.ai/supervisedlearning/CNN%20all%209000%20moved%20to%20test%20experiments/runs/3p8l8kmw</a><br/>\n                "
     },
     "metadata": {}
    },
    {
     "output_type": "stream",
     "name": "stderr",
     "text": [
      "wandb: wandb version 0.10.12 is available!  To upgrade, please run:\nwandb:  $ pip install wandb --upgrade\n"
     ]
    },
    {
     "output_type": "display_data",
     "data": {
      "text/plain": "<IPython.core.display.HTML object>",
      "text/html": "\n                Tracking run with wandb version 0.10.8<br/>\n                Syncing run <strong style=\"color:#cdcd00\">curious-elevator-6</strong> to <a href=\"https://wandb.ai\" target=\"_blank\">Weights & Biases</a> <a href=\"https://docs.wandb.com/integrations/jupyter.html\" target=\"_blank\">(Documentation)</a>.<br/>\n                Project page: <a href=\"https://wandb.ai/supervisedlearning/CNN%20all%209000%20moved%20to%20test%20experiments\" target=\"_blank\">https://wandb.ai/supervisedlearning/CNN%20all%209000%20moved%20to%20test%20experiments</a><br/>\n                Run page: <a href=\"https://wandb.ai/supervisedlearning/CNN%20all%209000%20moved%20to%20test%20experiments/runs/3m11gn8k\" target=\"_blank\">https://wandb.ai/supervisedlearning/CNN%20all%209000%20moved%20to%20test%20experiments/runs/3m11gn8k</a><br/>\n                Run data is saved locally in <code>wandb\\run-20201205_154159-3m11gn8k</code><br/><br/>\n            "
     },
     "metadata": {}
    },
    {
     "output_type": "stream",
     "name": "stdout",
     "text": [
      "Train on 9690 samples, validate on 3090 samples\n",
      "Epoch 1/50\n",
      "9690/9690 [==============================] - 2s 220us/sample - loss: 0.8820 - accuracy: 0.9754 - val_loss: 0.1328 - val_accuracy: 0.9864\n",
      "Epoch 2/50\n",
      "9690/9690 [==============================] - 2s 212us/sample - loss: 0.0077 - accuracy: 0.9987 - val_loss: 0.0595 - val_accuracy: 0.9942\n",
      "Epoch 3/50\n",
      "9690/9690 [==============================] - 2s 212us/sample - loss: 0.0073 - accuracy: 0.9989 - val_loss: 0.0640 - val_accuracy: 0.9932\n",
      "Epoch 4/50\n",
      "9690/9690 [==============================] - 2s 209us/sample - loss: 0.0037 - accuracy: 0.9995 - val_loss: 0.0940 - val_accuracy: 0.9951\n",
      "Epoch 5/50\n",
      "9690/9690 [==============================] - 2s 215us/sample - loss: 0.0016 - accuracy: 0.9998 - val_loss: 0.0553 - val_accuracy: 0.9945\n",
      "Epoch 6/50\n",
      "9690/9690 [==============================] - 2s 214us/sample - loss: 4.3542e-04 - accuracy: 0.9999 - val_loss: 0.0724 - val_accuracy: 0.9939\n",
      "Epoch 7/50\n",
      "9690/9690 [==============================] - 2s 214us/sample - loss: 0.0038 - accuracy: 0.9993 - val_loss: 0.0855 - val_accuracy: 0.9942\n",
      "Epoch 8/50\n",
      "9690/9690 [==============================] - 2s 209us/sample - loss: 0.0032 - accuracy: 0.9998 - val_loss: 0.0840 - val_accuracy: 0.9958\n",
      "Epoch 9/50\n",
      "9690/9690 [==============================] - 2s 211us/sample - loss: 0.0025 - accuracy: 0.9997 - val_loss: 0.0991 - val_accuracy: 0.9913\n",
      "Epoch 10/50\n",
      "9690/9690 [==============================] - 2s 212us/sample - loss: 0.0020 - accuracy: 0.9998 - val_loss: 0.1126 - val_accuracy: 0.9922\n",
      "Epoch 11/50\n",
      "9690/9690 [==============================] - 2s 205us/sample - loss: 2.8813e-05 - accuracy: 1.0000 - val_loss: 0.0984 - val_accuracy: 0.9942\n",
      "Epoch 12/50\n",
      "9690/9690 [==============================] - 2s 210us/sample - loss: 0.0020 - accuracy: 0.9997 - val_loss: 0.0710 - val_accuracy: 0.9968\n",
      "Epoch 13/50\n",
      "9690/9690 [==============================] - 2s 216us/sample - loss: 0.0039 - accuracy: 0.9995 - val_loss: 0.0617 - val_accuracy: 0.9961\n",
      "Epoch 14/50\n",
      "9690/9690 [==============================] - 2s 215us/sample - loss: 0.0014 - accuracy: 0.9999 - val_loss: 0.0353 - val_accuracy: 0.9968\n",
      "Epoch 15/50\n",
      "9690/9690 [==============================] - 2s 218us/sample - loss: 2.5074e-06 - accuracy: 1.0000 - val_loss: 0.0333 - val_accuracy: 0.9977\n",
      "Epoch 16/50\n",
      "9690/9690 [==============================] - 2s 209us/sample - loss: 2.3959e-05 - accuracy: 1.0000 - val_loss: 0.0414 - val_accuracy: 0.9974\n",
      "Epoch 17/50\n",
      "9690/9690 [==============================] - 2s 208us/sample - loss: 6.7686e-07 - accuracy: 1.0000 - val_loss: 0.1118 - val_accuracy: 0.9948\n",
      "Epoch 18/50\n",
      "9690/9690 [==============================] - 2s 213us/sample - loss: 5.9373e-04 - accuracy: 0.9998 - val_loss: 0.0659 - val_accuracy: 0.9951\n",
      "Epoch 19/50\n",
      "9690/9690 [==============================] - 2s 209us/sample - loss: 6.8893e-10 - accuracy: 1.0000 - val_loss: 0.0477 - val_accuracy: 0.9964\n",
      "Epoch 20/50\n",
      "9690/9690 [==============================] - 2s 218us/sample - loss: 0.0023 - accuracy: 0.9999 - val_loss: 0.0570 - val_accuracy: 0.9958\n",
      "Epoch 21/50\n",
      "9690/9690 [==============================] - 2s 205us/sample - loss: 7.9834e-04 - accuracy: 0.9998 - val_loss: 0.0687 - val_accuracy: 0.9948\n",
      "Epoch 22/50\n",
      "9690/9690 [==============================] - 2s 214us/sample - loss: 1.2302e-11 - accuracy: 1.0000 - val_loss: 0.0774 - val_accuracy: 0.9955\n",
      "Epoch 23/50\n",
      "9690/9690 [==============================] - 2s 215us/sample - loss: 4.9209e-11 - accuracy: 1.0000 - val_loss: 0.0796 - val_accuracy: 0.9948\n",
      "Epoch 24/50\n",
      "9690/9690 [==============================] - 2s 211us/sample - loss: 0.0000e+00 - accuracy: 1.0000 - val_loss: 0.0834 - val_accuracy: 0.9951\n",
      "Epoch 25/50\n",
      "9690/9690 [==============================] - 2s 219us/sample - loss: 0.0000e+00 - accuracy: 1.0000 - val_loss: 0.0827 - val_accuracy: 0.9948\n",
      "Epoch 26/50\n",
      "9690/9690 [==============================] - 2s 223us/sample - loss: 2.3658e-04 - accuracy: 0.9999 - val_loss: 0.1348 - val_accuracy: 0.9906\n",
      "Epoch 27/50\n",
      "9690/9690 [==============================] - 2s 217us/sample - loss: 0.0000e+00 - accuracy: 1.0000 - val_loss: 0.0820 - val_accuracy: 0.9932\n",
      "Epoch 28/50\n",
      "9690/9690 [==============================] - 2s 208us/sample - loss: 1.1072e-09 - accuracy: 1.0000 - val_loss: 0.0718 - val_accuracy: 0.9964\n",
      "Epoch 29/50\n",
      "9690/9690 [==============================] - 2s 211us/sample - loss: 1.2302e-11 - accuracy: 1.0000 - val_loss: 0.0759 - val_accuracy: 0.9958\n",
      "Epoch 30/50\n",
      "9690/9690 [==============================] - 2s 209us/sample - loss: 3.6907e-11 - accuracy: 1.0000 - val_loss: 0.1340 - val_accuracy: 0.9909\n",
      "Epoch 31/50\n",
      "9690/9690 [==============================] - 2s 207us/sample - loss: 2.3989e-09 - accuracy: 1.0000 - val_loss: 0.0613 - val_accuracy: 0.9948\n",
      "Epoch 32/50\n",
      "9690/9690 [==============================] - 2s 205us/sample - loss: 2.0668e-09 - accuracy: 1.0000 - val_loss: 0.0512 - val_accuracy: 0.9968\n",
      "Epoch 33/50\n",
      "9690/9690 [==============================] - 2s 228us/sample - loss: 7.7322e-08 - accuracy: 1.0000 - val_loss: 0.0753 - val_accuracy: 0.9961\n",
      "Epoch 34/50\n",
      "9690/9690 [==============================] - 2s 222us/sample - loss: 3.4049e-04 - accuracy: 0.9999 - val_loss: 0.0648 - val_accuracy: 0.9958\n",
      "Epoch 35/50\n",
      "9690/9690 [==============================] - 2s 228us/sample - loss: 1.4148e-09 - accuracy: 1.0000 - val_loss: 0.0767 - val_accuracy: 0.9951\n",
      "Epoch 36/50\n",
      "9690/9690 [==============================] - 2s 214us/sample - loss: 6.2742e-10 - accuracy: 1.0000 - val_loss: 0.0776 - val_accuracy: 0.9958\n",
      "Epoch 37/50\n",
      "9690/9690 [==============================] - 2s 216us/sample - loss: 2.4605e-11 - accuracy: 1.0000 - val_loss: 0.0709 - val_accuracy: 0.9948\n",
      "Epoch 38/50\n",
      "9690/9690 [==============================] - 2s 217us/sample - loss: 9.8418e-11 - accuracy: 1.0000 - val_loss: 0.0946 - val_accuracy: 0.9945\n",
      "Epoch 39/50\n",
      "9690/9690 [==============================] - 2s 222us/sample - loss: 0.0000e+00 - accuracy: 1.0000 - val_loss: 0.0961 - val_accuracy: 0.9945\n",
      "Epoch 40/50\n",
      "9690/9690 [==============================] - 2s 208us/sample - loss: 0.0000e+00 - accuracy: 1.0000 - val_loss: 0.0958 - val_accuracy: 0.9948\n",
      "Epoch 41/50\n",
      "9690/9690 [==============================] - 2s 215us/sample - loss: 0.0000e+00 - accuracy: 1.0000 - val_loss: 0.1051 - val_accuracy: 0.9948\n",
      "Epoch 42/50\n",
      "9690/9690 [==============================] - 2s 212us/sample - loss: 5.9051e-10 - accuracy: 1.0000 - val_loss: 0.1327 - val_accuracy: 0.9945\n",
      "Epoch 43/50\n",
      "9690/9690 [==============================] - 2s 213us/sample - loss: 6.1511e-11 - accuracy: 1.0000 - val_loss: 0.1430 - val_accuracy: 0.9935\n",
      "Epoch 44/50\n",
      "9690/9690 [==============================] - 2s 210us/sample - loss: 0.0015 - accuracy: 0.9999 - val_loss: 0.1028 - val_accuracy: 0.9948\n",
      "Epoch 45/50\n",
      "9690/9690 [==============================] - 2s 219us/sample - loss: 0.0000e+00 - accuracy: 1.0000 - val_loss: 0.0873 - val_accuracy: 0.9951\n",
      "Epoch 46/50\n",
      "9690/9690 [==============================] - 2s 214us/sample - loss: 5.6590e-10 - accuracy: 1.0000 - val_loss: 0.1200 - val_accuracy: 0.9939\n",
      "Epoch 47/50\n",
      "9690/9690 [==============================] - 2s 207us/sample - loss: 3.6907e-11 - accuracy: 1.0000 - val_loss: 0.0928 - val_accuracy: 0.9955\n",
      "Epoch 48/50\n",
      "9690/9690 [==============================] - 2s 208us/sample - loss: 5.8066e-09 - accuracy: 1.0000 - val_loss: 0.1036 - val_accuracy: 0.9964\n",
      "Epoch 49/50\n",
      "9690/9690 [==============================] - 2s 210us/sample - loss: 5.0546e-06 - accuracy: 1.0000 - val_loss: 0.0842 - val_accuracy: 0.9964\n",
      "Epoch 50/50\n",
      "9690/9690 [==============================] - 2s 208us/sample - loss: 0.0000e+00 - accuracy: 1.0000 - val_loss: 0.0848 - val_accuracy: 0.9961\n"
     ]
    },
    {
     "output_type": "display_data",
     "data": {
      "text/plain": "<IPython.core.display.HTML object>",
      "text/html": "<br/>Waiting for W&B process to finish, PID 27968<br/>Program ended successfully."
     },
     "metadata": {}
    },
    {
     "output_type": "display_data",
     "data": {
      "text/plain": "<IPython.core.display.HTML object>",
      "text/html": "Find user logs for this run at: <code>wandb\\run-20201205_154159-3m11gn8k\\logs\\debug.log</code>"
     },
     "metadata": {}
    },
    {
     "output_type": "display_data",
     "data": {
      "text/plain": "<IPython.core.display.HTML object>",
      "text/html": "Find internal logs for this run at: <code>wandb\\run-20201205_154159-3m11gn8k\\logs\\debug-internal.log</code>"
     },
     "metadata": {}
    },
    {
     "output_type": "display_data",
     "data": {
      "text/plain": "<IPython.core.display.HTML object>",
      "text/html": "<h3>Run summary:</h3><br/><style>\n    table.wandb td:nth-child(1) { padding: 0 10px; text-align: right }\n    </style><table class=\"wandb\">\n<tr><td>epoch</td><td>49</td></tr><tr><td>loss</td><td>0.0</td></tr><tr><td>accuracy</td><td>1.0</td></tr><tr><td>val_loss</td><td>0.08484</td></tr><tr><td>val_accuracy</td><td>0.99612</td></tr><tr><td>_step</td><td>50</td></tr><tr><td>_runtime</td><td>105</td></tr><tr><td>_timestamp</td><td>1607183024</td></tr><tr><td>best_val_loss</td><td>0.03327</td></tr><tr><td>best_epoch</td><td>14</td></tr><tr><td>Label_class</td><td>speed limit 70</td></tr><tr><td>num_classes</td><td>2</td></tr></table>"
     },
     "metadata": {}
    },
    {
     "output_type": "display_data",
     "data": {
      "text/plain": "<IPython.core.display.HTML object>",
      "text/html": "<h3>Run history:</h3><br/><style>\n    table.wandb td:nth-child(1) { padding: 0 10px; text-align: right }\n    </style><table class=\"wandb\">\n<tr><td>epoch</td><td>▁▁▁▁▂▂▂▂▂▃▃▃▃▃▃▄▄▄▄▄▅▅▅▅▅▅▆▆▆▆▆▆▇▇▇▇▇███</td></tr><tr><td>loss</td><td>█▁▁▁▁▁▁▁▁▁▁▁▁▁▁▁▁▁▁▁▁▁▁▁▁▁▁▁▁▁▁▁▁▁▁▁▁▁▁▁</td></tr><tr><td>accuracy</td><td>▁███████████████████████████████████████</td></tr><tr><td>val_loss</td><td>▇▃▃▅▃▄▄▅▅▃▃▁▁▆▃▂▃▄▄▄▇▄▃▄▃▂▄▃▄▃▅▅▆▇█▅▇▅▅▄</td></tr><tr><td>val_accuracy</td><td>▁▆▅▇▆▆▇▄▆█▇██▆▇▇▆▇▆▇▄▅▇▇▆█▇▇▇▆▆▆▆▆▆▆▆▇▇▇</td></tr><tr><td>_step</td><td>▁▁▁▁▂▂▂▂▂▃▃▃▃▃▃▄▄▄▄▄▅▅▅▅▅▅▆▆▆▆▆▆▇▇▇▇▇███</td></tr><tr><td>_runtime</td><td>▁▁▁▁▂▂▂▂▂▃▃▃▃▃▃▄▄▄▄▄▅▅▅▅▅▆▆▆▆▆▆▇▇▇▇▇████</td></tr><tr><td>_timestamp</td><td>▁▁▁▁▂▂▂▂▂▃▃▃▃▃▃▄▄▄▄▄▅▅▅▅▅▆▆▆▆▆▆▇▇▇▇▇████</td></tr><tr><td>num_classes</td><td>▁</td></tr></table><br/>"
     },
     "metadata": {}
    },
    {
     "output_type": "display_data",
     "data": {
      "text/plain": "<IPython.core.display.HTML object>",
      "text/html": "Synced 5 W&B file(s), 1 media file(s), 0 artifact file(s) and 1 other file(s)"
     },
     "metadata": {}
    },
    {
     "output_type": "display_data",
     "data": {
      "text/plain": "<IPython.core.display.HTML object>",
      "text/html": "\n                    <br/>Synced <strong style=\"color:#cdcd00\">curious-elevator-6</strong>: <a href=\"https://wandb.ai/supervisedlearning/CNN%20all%209000%20moved%20to%20test%20experiments/runs/3m11gn8k\" target=\"_blank\">https://wandb.ai/supervisedlearning/CNN%20all%209000%20moved%20to%20test%20experiments/runs/3m11gn8k</a><br/>\n                "
     },
     "metadata": {}
    },
    {
     "output_type": "stream",
     "name": "stderr",
     "text": [
      "wandb: wandb version 0.10.12 is available!  To upgrade, please run:\nwandb:  $ pip install wandb --upgrade\n"
     ]
    },
    {
     "output_type": "display_data",
     "data": {
      "text/plain": "<IPython.core.display.HTML object>",
      "text/html": "\n                Tracking run with wandb version 0.10.8<br/>\n                Syncing run <strong style=\"color:#cdcd00\">glad-dream-7</strong> to <a href=\"https://wandb.ai\" target=\"_blank\">Weights & Biases</a> <a href=\"https://docs.wandb.com/integrations/jupyter.html\" target=\"_blank\">(Documentation)</a>.<br/>\n                Project page: <a href=\"https://wandb.ai/supervisedlearning/CNN%20all%209000%20moved%20to%20test%20experiments\" target=\"_blank\">https://wandb.ai/supervisedlearning/CNN%20all%209000%20moved%20to%20test%20experiments</a><br/>\n                Run page: <a href=\"https://wandb.ai/supervisedlearning/CNN%20all%209000%20moved%20to%20test%20experiments/runs/36hwgbab\" target=\"_blank\">https://wandb.ai/supervisedlearning/CNN%20all%209000%20moved%20to%20test%20experiments/runs/36hwgbab</a><br/>\n                Run data is saved locally in <code>wandb\\run-20201205_154354-36hwgbab</code><br/><br/>\n            "
     },
     "metadata": {}
    },
    {
     "output_type": "stream",
     "name": "stdout",
     "text": [
      "Train on 9690 samples, validate on 3090 samples\n",
      "Epoch 1/50\n",
      "9690/9690 [==============================] - 2s 237us/sample - loss: 0.5108 - accuracy: 0.9907 - val_loss: 0.0188 - val_accuracy: 0.9961\n",
      "Epoch 2/50\n",
      "9690/9690 [==============================] - 2s 214us/sample - loss: 0.0027 - accuracy: 0.9994 - val_loss: 0.0035 - val_accuracy: 0.9987\n",
      "Epoch 3/50\n",
      "9690/9690 [==============================] - 2s 215us/sample - loss: 0.0017 - accuracy: 0.9997 - val_loss: 7.9759e-05 - val_accuracy: 1.0000\n",
      "Epoch 4/50\n",
      "9690/9690 [==============================] - 2s 220us/sample - loss: 0.0028 - accuracy: 0.9996 - val_loss: 0.0055 - val_accuracy: 0.9984\n",
      "Epoch 5/50\n",
      "9690/9690 [==============================] - 2s 206us/sample - loss: 7.3580e-07 - accuracy: 1.0000 - val_loss: 0.0018 - val_accuracy: 0.9994\n",
      "Epoch 6/50\n",
      "9690/9690 [==============================] - 2s 212us/sample - loss: 1.1625e-08 - accuracy: 1.0000 - val_loss: 0.0032 - val_accuracy: 0.9987\n",
      "Epoch 7/50\n",
      "9690/9690 [==============================] - 2s 209us/sample - loss: 1.7016e-05 - accuracy: 1.0000 - val_loss: 3.1663e-04 - val_accuracy: 0.9997\n",
      "Epoch 8/50\n",
      "9690/9690 [==============================] - 2s 211us/sample - loss: 9.9648e-10 - accuracy: 1.0000 - val_loss: 1.2266e-04 - val_accuracy: 1.0000\n",
      "Epoch 9/50\n",
      "9690/9690 [==============================] - 2s 207us/sample - loss: 1.8453e-10 - accuracy: 1.0000 - val_loss: 0.0014 - val_accuracy: 0.9997\n",
      "Epoch 10/50\n",
      "9690/9690 [==============================] - 2s 203us/sample - loss: 2.4235e-09 - accuracy: 1.0000 - val_loss: 1.3160e-04 - val_accuracy: 1.0000\n",
      "Epoch 11/50\n",
      "9690/9690 [==============================] - 2s 211us/sample - loss: 1.1096e-08 - accuracy: 1.0000 - val_loss: 0.0061 - val_accuracy: 0.9990\n",
      "Epoch 12/50\n",
      "9690/9690 [==============================] - 2s 203us/sample - loss: 4.1828e-10 - accuracy: 1.0000 - val_loss: 0.0140 - val_accuracy: 0.9984\n",
      "Epoch 13/50\n",
      "9690/9690 [==============================] - 2s 201us/sample - loss: 3.6907e-11 - accuracy: 1.0000 - val_loss: 0.0098 - val_accuracy: 0.9984\n",
      "Epoch 14/50\n",
      "9690/9690 [==============================] - 2s 204us/sample - loss: 0.0000e+00 - accuracy: 1.0000 - val_loss: 0.0063 - val_accuracy: 0.9987\n",
      "Epoch 15/50\n",
      "9690/9690 [==============================] - 2s 211us/sample - loss: 0.0000e+00 - accuracy: 1.0000 - val_loss: 0.0059 - val_accuracy: 0.9987\n",
      "Epoch 16/50\n",
      "9690/9690 [==============================] - 2s 212us/sample - loss: 8.6116e-11 - accuracy: 1.0000 - val_loss: 2.0822e-05 - val_accuracy: 1.0000\n",
      "Epoch 17/50\n",
      "9690/9690 [==============================] - 2s 210us/sample - loss: 0.0000e+00 - accuracy: 1.0000 - val_loss: 7.0458e-06 - val_accuracy: 1.0000\n",
      "Epoch 18/50\n",
      "9690/9690 [==============================] - 2s 201us/sample - loss: 3.6907e-11 - accuracy: 1.0000 - val_loss: 3.4941e-04 - val_accuracy: 0.9997\n",
      "Epoch 19/50\n",
      "9690/9690 [==============================] - 2s 209us/sample - loss: 0.0000e+00 - accuracy: 1.0000 - val_loss: 0.0010 - val_accuracy: 0.9997\n",
      "Epoch 20/50\n",
      "9690/9690 [==============================] - 2s 210us/sample - loss: 0.0000e+00 - accuracy: 1.0000 - val_loss: 9.9050e-04 - val_accuracy: 0.9997\n",
      "Epoch 21/50\n",
      "9690/9690 [==============================] - 2s 209us/sample - loss: 0.0000e+00 - accuracy: 1.0000 - val_loss: 5.1249e-04 - val_accuracy: 0.9997\n",
      "Epoch 22/50\n",
      "9690/9690 [==============================] - 2s 215us/sample - loss: 0.0000e+00 - accuracy: 1.0000 - val_loss: 4.8969e-04 - val_accuracy: 0.9997\n",
      "Epoch 23/50\n",
      "9690/9690 [==============================] - 2s 209us/sample - loss: 0.0000e+00 - accuracy: 1.0000 - val_loss: 3.6631e-04 - val_accuracy: 0.9997\n",
      "Epoch 24/50\n",
      "9690/9690 [==============================] - 2s 209us/sample - loss: 0.0000e+00 - accuracy: 1.0000 - val_loss: 3.5747e-04 - val_accuracy: 0.9997\n",
      "Epoch 25/50\n",
      "9690/9690 [==============================] - 2s 212us/sample - loss: 0.0000e+00 - accuracy: 1.0000 - val_loss: 3.5345e-04 - val_accuracy: 0.9997\n",
      "Epoch 26/50\n",
      "9690/9690 [==============================] - 2s 202us/sample - loss: 0.0000e+00 - accuracy: 1.0000 - val_loss: 1.3476e-04 - val_accuracy: 1.0000\n",
      "Epoch 27/50\n",
      "9690/9690 [==============================] - 2s 219us/sample - loss: 1.2302e-11 - accuracy: 1.0000 - val_loss: 6.4990e-05 - val_accuracy: 1.0000\n",
      "Epoch 28/50\n",
      "9690/9690 [==============================] - 2s 213us/sample - loss: 2.4605e-11 - accuracy: 1.0000 - val_loss: 2.3457e-05 - val_accuracy: 1.0000\n",
      "Epoch 29/50\n",
      "9690/9690 [==============================] - 2s 208us/sample - loss: 1.2302e-11 - accuracy: 1.0000 - val_loss: 0.0013 - val_accuracy: 0.9994\n",
      "Epoch 30/50\n",
      "9690/9690 [==============================] - 2s 207us/sample - loss: 0.0000e+00 - accuracy: 1.0000 - val_loss: 0.0055 - val_accuracy: 0.9990\n",
      "Epoch 31/50\n",
      "9690/9690 [==============================] - 2s 216us/sample - loss: 0.0000e+00 - accuracy: 1.0000 - val_loss: 0.0046 - val_accuracy: 0.9990\n",
      "Epoch 32/50\n",
      "9690/9690 [==============================] - 2s 214us/sample - loss: 0.0000e+00 - accuracy: 1.0000 - val_loss: 0.0036 - val_accuracy: 0.9994\n",
      "Epoch 33/50\n",
      "9690/9690 [==============================] - 2s 219us/sample - loss: 0.0000e+00 - accuracy: 1.0000 - val_loss: 0.0035 - val_accuracy: 0.9994\n",
      "Epoch 34/50\n",
      "9690/9690 [==============================] - 2s 217us/sample - loss: 0.0000e+00 - accuracy: 1.0000 - val_loss: 0.0030 - val_accuracy: 0.9994\n",
      "Epoch 35/50\n",
      "9690/9690 [==============================] - 2s 206us/sample - loss: 0.0000e+00 - accuracy: 1.0000 - val_loss: 0.0025 - val_accuracy: 0.9994\n",
      "Epoch 36/50\n",
      "9690/9690 [==============================] - 2s 215us/sample - loss: 1.2302e-11 - accuracy: 1.0000 - val_loss: 0.0021 - val_accuracy: 0.9994\n",
      "Epoch 37/50\n",
      "9690/9690 [==============================] - 2s 217us/sample - loss: 0.0000e+00 - accuracy: 1.0000 - val_loss: 0.0016 - val_accuracy: 0.9994\n",
      "Epoch 38/50\n",
      "9690/9690 [==============================] - 2s 214us/sample - loss: 0.0000e+00 - accuracy: 1.0000 - val_loss: 0.0014 - val_accuracy: 0.9994\n",
      "Epoch 39/50\n",
      "9690/9690 [==============================] - 2s 213us/sample - loss: 0.0000e+00 - accuracy: 1.0000 - val_loss: 0.0015 - val_accuracy: 0.9994\n",
      "Epoch 40/50\n",
      "9690/9690 [==============================] - 2s 208us/sample - loss: 0.0000e+00 - accuracy: 1.0000 - val_loss: 0.0015 - val_accuracy: 0.9994\n",
      "Epoch 41/50\n",
      "9690/9690 [==============================] - 2s 208us/sample - loss: 0.0000e+00 - accuracy: 1.0000 - val_loss: 0.0017 - val_accuracy: 0.9994\n",
      "Epoch 42/50\n",
      "9690/9690 [==============================] - 2s 214us/sample - loss: 0.0000e+00 - accuracy: 1.0000 - val_loss: 0.0017 - val_accuracy: 0.9994\n",
      "Epoch 43/50\n",
      "9690/9690 [==============================] - 2s 214us/sample - loss: 0.0000e+00 - accuracy: 1.0000 - val_loss: 0.0017 - val_accuracy: 0.9994\n",
      "Epoch 44/50\n",
      "9690/9690 [==============================] - 2s 221us/sample - loss: 0.0000e+00 - accuracy: 1.0000 - val_loss: 0.0018 - val_accuracy: 0.9994\n",
      "Epoch 45/50\n",
      "9690/9690 [==============================] - 2s 216us/sample - loss: 0.0000e+00 - accuracy: 1.0000 - val_loss: 0.0017 - val_accuracy: 0.9994\n",
      "Epoch 46/50\n",
      "9690/9690 [==============================] - 2s 215us/sample - loss: 0.0000e+00 - accuracy: 1.0000 - val_loss: 0.0018 - val_accuracy: 0.9994\n",
      "Epoch 47/50\n",
      "9690/9690 [==============================] - 2s 213us/sample - loss: 1.1072e-10 - accuracy: 1.0000 - val_loss: 0.0023 - val_accuracy: 0.9994\n",
      "Epoch 48/50\n",
      "9690/9690 [==============================] - 2s 209us/sample - loss: 4.9209e-11 - accuracy: 1.0000 - val_loss: 1.2694e-05 - val_accuracy: 1.0000\n",
      "Epoch 49/50\n",
      "9690/9690 [==============================] - 2s 211us/sample - loss: 1.7223e-10 - accuracy: 1.0000 - val_loss: 2.8755e-06 - val_accuracy: 1.0000\n",
      "Epoch 50/50\n",
      "9690/9690 [==============================] - 2s 210us/sample - loss: 0.0000e+00 - accuracy: 1.0000 - val_loss: 0.0024 - val_accuracy: 0.9994\n"
     ]
    },
    {
     "output_type": "display_data",
     "data": {
      "text/plain": "<IPython.core.display.HTML object>",
      "text/html": "<br/>Waiting for W&B process to finish, PID 11784<br/>Program ended successfully."
     },
     "metadata": {}
    },
    {
     "output_type": "display_data",
     "data": {
      "text/plain": "<IPython.core.display.HTML object>",
      "text/html": "Find user logs for this run at: <code>wandb\\run-20201205_154354-36hwgbab\\logs\\debug.log</code>"
     },
     "metadata": {}
    },
    {
     "output_type": "display_data",
     "data": {
      "text/plain": "<IPython.core.display.HTML object>",
      "text/html": "Find internal logs for this run at: <code>wandb\\run-20201205_154354-36hwgbab\\logs\\debug-internal.log</code>"
     },
     "metadata": {}
    },
    {
     "output_type": "display_data",
     "data": {
      "text/plain": "<IPython.core.display.HTML object>",
      "text/html": "<h3>Run summary:</h3><br/><style>\n    table.wandb td:nth-child(1) { padding: 0 10px; text-align: right }\n    </style><table class=\"wandb\">\n<tr><td>epoch</td><td>49</td></tr><tr><td>loss</td><td>0.0</td></tr><tr><td>accuracy</td><td>1.0</td></tr><tr><td>val_loss</td><td>0.0024</td></tr><tr><td>val_accuracy</td><td>0.99935</td></tr><tr><td>_step</td><td>50</td></tr><tr><td>_runtime</td><td>104</td></tr><tr><td>_timestamp</td><td>1607183139</td></tr><tr><td>best_val_loss</td><td>0.0</td></tr><tr><td>best_epoch</td><td>48</td></tr><tr><td>Label_class</td><td>left turn</td></tr><tr><td>num_classes</td><td>2</td></tr></table>"
     },
     "metadata": {}
    },
    {
     "output_type": "display_data",
     "data": {
      "text/plain": "<IPython.core.display.HTML object>",
      "text/html": "<h3>Run history:</h3><br/><style>\n    table.wandb td:nth-child(1) { padding: 0 10px; text-align: right }\n    </style><table class=\"wandb\">\n<tr><td>epoch</td><td>▁▁▁▁▂▂▂▂▂▃▃▃▃▃▃▄▄▄▄▄▅▅▅▅▅▅▆▆▆▆▆▆▇▇▇▇▇███</td></tr><tr><td>loss</td><td>█▁▁▁▁▁▁▁▁▁▁▁▁▁▁▁▁▁▁▁▁▁▁▁▁▁▁▁▁▁▁▁▁▁▁▁▁▁▁▁</td></tr><tr><td>accuracy</td><td>▁███████████████████████████████████████</td></tr><tr><td>val_loss</td><td>█▂▁▃▂▁▁▂▃▆▅▃▁▁▁▁▁▁▁▁▁▁▁▁▃▂▂▂▂▂▂▂▂▂▂▂▂▂▁▂</td></tr><tr><td>val_accuracy</td><td>▁▆█▅▆▇█▇▆▅▅▆██▇▇▇▇▇▇███▇▆▇▇▇▇▇▇▇▇▇▇▇▇▇█▇</td></tr><tr><td>_step</td><td>▁▁▁▁▂▂▂▂▂▃▃▃▃▃▃▄▄▄▄▄▅▅▅▅▅▅▆▆▆▆▆▆▇▇▇▇▇███</td></tr><tr><td>_runtime</td><td>▁▁▁▁▂▂▂▂▂▃▃▃▃▃▃▄▄▄▄▄▅▅▅▅▅▆▆▆▆▆▆▇▇▇▇▇████</td></tr><tr><td>_timestamp</td><td>▁▁▁▁▂▂▂▂▂▃▃▃▃▃▃▄▄▄▄▄▅▅▅▅▅▆▆▆▆▆▆▇▇▇▇▇████</td></tr><tr><td>num_classes</td><td>▁</td></tr></table><br/>"
     },
     "metadata": {}
    },
    {
     "output_type": "display_data",
     "data": {
      "text/plain": "<IPython.core.display.HTML object>",
      "text/html": "Synced 5 W&B file(s), 1 media file(s), 0 artifact file(s) and 1 other file(s)"
     },
     "metadata": {}
    },
    {
     "output_type": "display_data",
     "data": {
      "text/plain": "<IPython.core.display.HTML object>",
      "text/html": "\n                    <br/>Synced <strong style=\"color:#cdcd00\">glad-dream-7</strong>: <a href=\"https://wandb.ai/supervisedlearning/CNN%20all%209000%20moved%20to%20test%20experiments/runs/36hwgbab\" target=\"_blank\">https://wandb.ai/supervisedlearning/CNN%20all%209000%20moved%20to%20test%20experiments/runs/36hwgbab</a><br/>\n                "
     },
     "metadata": {}
    },
    {
     "output_type": "stream",
     "name": "stderr",
     "text": [
      "wandb: wandb version 0.10.12 is available!  To upgrade, please run:\nwandb:  $ pip install wandb --upgrade\n"
     ]
    },
    {
     "output_type": "display_data",
     "data": {
      "text/plain": "<IPython.core.display.HTML object>",
      "text/html": "\n                Tracking run with wandb version 0.10.8<br/>\n                Syncing run <strong style=\"color:#cdcd00\">glamorous-puddle-8</strong> to <a href=\"https://wandb.ai\" target=\"_blank\">Weights & Biases</a> <a href=\"https://docs.wandb.com/integrations/jupyter.html\" target=\"_blank\">(Documentation)</a>.<br/>\n                Project page: <a href=\"https://wandb.ai/supervisedlearning/CNN%20all%209000%20moved%20to%20test%20experiments\" target=\"_blank\">https://wandb.ai/supervisedlearning/CNN%20all%209000%20moved%20to%20test%20experiments</a><br/>\n                Run page: <a href=\"https://wandb.ai/supervisedlearning/CNN%20all%209000%20moved%20to%20test%20experiments/runs/lzl0mqfu\" target=\"_blank\">https://wandb.ai/supervisedlearning/CNN%20all%209000%20moved%20to%20test%20experiments/runs/lzl0mqfu</a><br/>\n                Run data is saved locally in <code>wandb\\run-20201205_154547-lzl0mqfu</code><br/><br/>\n            "
     },
     "metadata": {}
    },
    {
     "output_type": "stream",
     "name": "stdout",
     "text": [
      "Train on 9690 samples, validate on 3090 samples\n",
      "Epoch 1/50\n",
      "9690/9690 [==============================] - 2s 235us/sample - loss: 0.1518 - accuracy: 0.9925 - val_loss: 0.0080 - val_accuracy: 0.9994\n",
      "Epoch 2/50\n",
      "9690/9690 [==============================] - 2s 210us/sample - loss: 0.0025 - accuracy: 0.9994 - val_loss: 1.2754e-04 - val_accuracy: 1.0000\n",
      "Epoch 3/50\n",
      "9690/9690 [==============================] - 2s 213us/sample - loss: 0.0016 - accuracy: 0.9999 - val_loss: 4.0882e-05 - val_accuracy: 1.0000\n",
      "Epoch 4/50\n",
      "9690/9690 [==============================] - 2s 213us/sample - loss: 2.7739e-06 - accuracy: 1.0000 - val_loss: 1.7184e-06 - val_accuracy: 1.0000\n",
      "Epoch 5/50\n",
      "9690/9690 [==============================] - 2s 212us/sample - loss: 0.0024 - accuracy: 0.9997 - val_loss: 8.5862e-04 - val_accuracy: 0.9997\n",
      "Epoch 6/50\n",
      "9690/9690 [==============================] - 2s 212us/sample - loss: 5.4664e-06 - accuracy: 1.0000 - val_loss: 0.0047 - val_accuracy: 0.9994\n",
      "Epoch 7/50\n",
      "9690/9690 [==============================] - 2s 204us/sample - loss: 1.5870e-09 - accuracy: 1.0000 - val_loss: 7.6872e-05 - val_accuracy: 1.0000\n",
      "Epoch 8/50\n",
      "9690/9690 [==============================] - 2s 208us/sample - loss: 5.4130e-10 - accuracy: 1.0000 - val_loss: 3.1220e-05 - val_accuracy: 1.0000\n",
      "Epoch 9/50\n",
      "9690/9690 [==============================] - 2s 207us/sample - loss: 2.0914e-10 - accuracy: 1.0000 - val_loss: 2.3098e-06 - val_accuracy: 1.0000\n",
      "Epoch 10/50\n",
      "9690/9690 [==============================] - 2s 212us/sample - loss: 1.8389e-06 - accuracy: 1.0000 - val_loss: 3.1878e-07 - val_accuracy: 1.0000\n",
      "Epoch 11/50\n",
      "9690/9690 [==============================] - 2s 212us/sample - loss: 0.0000e+00 - accuracy: 1.0000 - val_loss: 4.3785e-08 - val_accuracy: 1.0000\n",
      "Epoch 12/50\n",
      "9690/9690 [==============================] - 2s 216us/sample - loss: 0.0000e+00 - accuracy: 1.0000 - val_loss: 5.4240e-08 - val_accuracy: 1.0000\n",
      "Epoch 13/50\n",
      "9690/9690 [==============================] - 2s 212us/sample - loss: 1.3839e-08 - accuracy: 1.0000 - val_loss: 1.0685e-05 - val_accuracy: 1.0000\n",
      "Epoch 14/50\n",
      "9690/9690 [==============================] - 2s 216us/sample - loss: 2.2144e-10 - accuracy: 1.0000 - val_loss: 6.6566e-05 - val_accuracy: 1.0000\n",
      "Epoch 15/50\n",
      "9690/9690 [==============================] - 2s 216us/sample - loss: 1.4763e-10 - accuracy: 1.0000 - val_loss: 4.8801e-05 - val_accuracy: 1.0000\n",
      "Epoch 16/50\n",
      "9690/9690 [==============================] - 2s 217us/sample - loss: 0.0000e+00 - accuracy: 1.0000 - val_loss: 1.9788e-06 - val_accuracy: 1.0000\n",
      "Epoch 17/50\n",
      "9690/9690 [==============================] - 2s 217us/sample - loss: 0.0000e+00 - accuracy: 1.0000 - val_loss: 4.0292e-06 - val_accuracy: 1.0000\n",
      "Epoch 18/50\n",
      "9690/9690 [==============================] - 2s 215us/sample - loss: 2.3620e-09 - accuracy: 1.0000 - val_loss: 8.0988e-05 - val_accuracy: 1.0000\n",
      "Epoch 19/50\n",
      "9690/9690 [==============================] - 2s 210us/sample - loss: 7.6723e-07 - accuracy: 1.0000 - val_loss: 0.0064 - val_accuracy: 0.9994\n",
      "Epoch 20/50\n",
      "9690/9690 [==============================] - 2s 211us/sample - loss: 9.1130e-04 - accuracy: 0.9998 - val_loss: 0.0025 - val_accuracy: 0.9994\n",
      "Epoch 21/50\n",
      "9690/9690 [==============================] - 2s 209us/sample - loss: 3.6537e-09 - accuracy: 1.0000 - val_loss: 9.7378e-04 - val_accuracy: 0.9994\n",
      "Epoch 22/50\n",
      "9690/9690 [==============================] - 2s 211us/sample - loss: 3.8137e-10 - accuracy: 1.0000 - val_loss: 5.7434e-05 - val_accuracy: 1.0000\n",
      "Epoch 23/50\n",
      "9690/9690 [==============================] - 2s 214us/sample - loss: 2.8295e-10 - accuracy: 1.0000 - val_loss: 0.0038 - val_accuracy: 0.9994\n",
      "Epoch 24/50\n",
      "9690/9690 [==============================] - 2s 212us/sample - loss: 9.8826e-08 - accuracy: 1.0000 - val_loss: 0.0070 - val_accuracy: 0.9987\n",
      "Epoch 25/50\n",
      "9690/9690 [==============================] - 2s 214us/sample - loss: 2.1301e-05 - accuracy: 1.0000 - val_loss: 1.2561e-05 - val_accuracy: 1.0000\n",
      "Epoch 26/50\n",
      "9690/9690 [==============================] - 2s 213us/sample - loss: 3.1986e-10 - accuracy: 1.0000 - val_loss: 0.0036 - val_accuracy: 0.9994\n",
      "Epoch 27/50\n",
      "9690/9690 [==============================] - 2s 213us/sample - loss: 0.0000e+00 - accuracy: 1.0000 - val_loss: 2.8160e-04 - val_accuracy: 0.9997\n",
      "Epoch 28/50\n",
      "9690/9690 [==============================] - 2s 207us/sample - loss: 0.0000e+00 - accuracy: 1.0000 - val_loss: 2.5839e-04 - val_accuracy: 0.9997\n",
      "Epoch 29/50\n",
      "9690/9690 [==============================] - 2s 208us/sample - loss: 0.0000e+00 - accuracy: 1.0000 - val_loss: 2.6760e-04 - val_accuracy: 0.9997\n",
      "Epoch 30/50\n",
      "9690/9690 [==============================] - 2s 209us/sample - loss: 0.0000e+00 - accuracy: 1.0000 - val_loss: 3.2522e-04 - val_accuracy: 0.9997\n",
      "Epoch 31/50\n",
      "9690/9690 [==============================] - 2s 209us/sample - loss: 2.5097e-09 - accuracy: 1.0000 - val_loss: 0.0058 - val_accuracy: 0.9997\n",
      "Epoch 32/50\n",
      "9690/9690 [==============================] - 2s 204us/sample - loss: 2.3374e-10 - accuracy: 1.0000 - val_loss: 6.6223e-07 - val_accuracy: 1.0000\n",
      "Epoch 33/50\n",
      "9690/9690 [==============================] - 2s 211us/sample - loss: 0.0000e+00 - accuracy: 1.0000 - val_loss: 9.0407e-07 - val_accuracy: 1.0000\n",
      "Epoch 34/50\n",
      "9690/9690 [==============================] - 2s 215us/sample - loss: 0.0000e+00 - accuracy: 1.0000 - val_loss: 9.7824e-07 - val_accuracy: 1.0000\n",
      "Epoch 35/50\n",
      "9690/9690 [==============================] - 2s 211us/sample - loss: 1.2302e-11 - accuracy: 1.0000 - val_loss: 5.3158e-08 - val_accuracy: 1.0000\n",
      "Epoch 36/50\n",
      "9690/9690 [==============================] - 2s 207us/sample - loss: 0.0000e+00 - accuracy: 1.0000 - val_loss: 1.3465e-07 - val_accuracy: 1.0000\n",
      "Epoch 37/50\n",
      "9690/9690 [==============================] - 2s 210us/sample - loss: 0.0000e+00 - accuracy: 1.0000 - val_loss: 8.0890e-08 - val_accuracy: 1.0000\n",
      "Epoch 38/50\n",
      "9690/9690 [==============================] - 2s 207us/sample - loss: 0.0000e+00 - accuracy: 1.0000 - val_loss: 1.0210e-07 - val_accuracy: 1.0000\n",
      "Epoch 39/50\n",
      "9690/9690 [==============================] - 2s 212us/sample - loss: 0.0000e+00 - accuracy: 1.0000 - val_loss: 1.1795e-07 - val_accuracy: 1.0000\n",
      "Epoch 40/50\n",
      "9690/9690 [==============================] - 2s 214us/sample - loss: 0.0000e+00 - accuracy: 1.0000 - val_loss: 1.2709e-07 - val_accuracy: 1.0000\n",
      "Epoch 41/50\n",
      "9690/9690 [==============================] - 2s 215us/sample - loss: 0.0000e+00 - accuracy: 1.0000 - val_loss: 1.3157e-07 - val_accuracy: 1.0000\n",
      "Epoch 42/50\n",
      "9690/9690 [==============================] - 2s 211us/sample - loss: 0.0000e+00 - accuracy: 1.0000 - val_loss: 1.6234e-07 - val_accuracy: 1.0000\n",
      "Epoch 43/50\n",
      "9690/9690 [==============================] - 2s 214us/sample - loss: 1.2302e-11 - accuracy: 1.0000 - val_loss: 3.8097e-05 - val_accuracy: 1.0000\n",
      "Epoch 44/50\n",
      "9690/9690 [==============================] - 2s 215us/sample - loss: 0.0000e+00 - accuracy: 1.0000 - val_loss: 1.7377e-05 - val_accuracy: 1.0000\n",
      "Epoch 45/50\n",
      "9690/9690 [==============================] - 2s 219us/sample - loss: 0.0000e+00 - accuracy: 1.0000 - val_loss: 1.7708e-05 - val_accuracy: 1.0000\n",
      "Epoch 46/50\n",
      "9690/9690 [==============================] - 2s 217us/sample - loss: 1.2302e-11 - accuracy: 1.0000 - val_loss: 4.3208e-09 - val_accuracy: 1.0000\n",
      "Epoch 47/50\n",
      "9690/9690 [==============================] - 2s 210us/sample - loss: 0.0000e+00 - accuracy: 1.0000 - val_loss: 5.4782e-09 - val_accuracy: 1.0000\n",
      "Epoch 48/50\n",
      "9690/9690 [==============================] - 2s 216us/sample - loss: 0.0000e+00 - accuracy: 1.0000 - val_loss: 9.3360e-09 - val_accuracy: 1.0000\n",
      "Epoch 49/50\n",
      "9690/9690 [==============================] - 2s 214us/sample - loss: 0.0000e+00 - accuracy: 1.0000 - val_loss: 7.5228e-09 - val_accuracy: 1.0000\n",
      "Epoch 50/50\n",
      "9690/9690 [==============================] - 2s 215us/sample - loss: 0.0000e+00 - accuracy: 1.0000 - val_loss: 8.4101e-09 - val_accuracy: 1.0000\n"
     ]
    },
    {
     "output_type": "display_data",
     "data": {
      "text/plain": "<IPython.core.display.HTML object>",
      "text/html": "<br/>Waiting for W&B process to finish, PID 17928<br/>Program ended successfully."
     },
     "metadata": {}
    },
    {
     "output_type": "display_data",
     "data": {
      "text/plain": "<IPython.core.display.HTML object>",
      "text/html": "Find user logs for this run at: <code>wandb\\run-20201205_154547-lzl0mqfu\\logs\\debug.log</code>"
     },
     "metadata": {}
    },
    {
     "output_type": "display_data",
     "data": {
      "text/plain": "<IPython.core.display.HTML object>",
      "text/html": "Find internal logs for this run at: <code>wandb\\run-20201205_154547-lzl0mqfu\\logs\\debug-internal.log</code>"
     },
     "metadata": {}
    },
    {
     "output_type": "display_data",
     "data": {
      "text/plain": "<IPython.core.display.HTML object>",
      "text/html": "<h3>Run summary:</h3><br/><style>\n    table.wandb td:nth-child(1) { padding: 0 10px; text-align: right }\n    </style><table class=\"wandb\">\n<tr><td>epoch</td><td>49</td></tr><tr><td>loss</td><td>0.0</td></tr><tr><td>accuracy</td><td>1.0</td></tr><tr><td>val_loss</td><td>0.0</td></tr><tr><td>val_accuracy</td><td>1.0</td></tr><tr><td>_step</td><td>50</td></tr><tr><td>_runtime</td><td>104</td></tr><tr><td>_timestamp</td><td>1607183252</td></tr><tr><td>best_val_loss</td><td>0.0</td></tr><tr><td>best_epoch</td><td>45</td></tr><tr><td>Label_class</td><td>right turn</td></tr><tr><td>num_classes</td><td>2</td></tr></table>"
     },
     "metadata": {}
    },
    {
     "output_type": "display_data",
     "data": {
      "text/plain": "<IPython.core.display.HTML object>",
      "text/html": "<h3>Run history:</h3><br/><style>\n    table.wandb td:nth-child(1) { padding: 0 10px; text-align: right }\n    </style><table class=\"wandb\">\n<tr><td>epoch</td><td>▁▁▁▁▂▂▂▂▂▃▃▃▃▃▃▄▄▄▄▄▅▅▅▅▅▅▆▆▆▆▆▆▇▇▇▇▇███</td></tr><tr><td>loss</td><td>█▁▁▁▁▁▁▁▁▁▁▁▁▁▁▁▁▁▁▁▁▁▁▁▁▁▁▁▁▁▁▁▁▁▁▁▁▁▁▁</td></tr><tr><td>accuracy</td><td>▁▇██████████████████████████████████████</td></tr><tr><td>val_loss</td><td>█▁▁▁▅▁▁▁▁▁▁▁▁▁▁▇▂▁▄▇▄▁▁▁▆▁▁▁▁▁▁▁▁▁▁▁▁▁▁▁</td></tr><tr><td>val_accuracy</td><td>▅███▅██████████▅▅█▅▁▅▆▆▆▆███████████████</td></tr><tr><td>_step</td><td>▁▁▁▁▂▂▂▂▂▃▃▃▃▃▃▄▄▄▄▄▅▅▅▅▅▅▆▆▆▆▆▆▇▇▇▇▇███</td></tr><tr><td>_runtime</td><td>▁▁▁▁▂▂▂▂▂▃▃▃▃▃▃▄▄▄▄▄▅▅▅▅▅▆▆▆▆▆▆▇▇▇▇▇████</td></tr><tr><td>_timestamp</td><td>▁▁▁▁▂▂▂▂▂▃▃▃▃▃▃▄▄▄▄▄▅▅▅▅▅▆▆▆▆▆▆▇▇▇▇▇████</td></tr><tr><td>num_classes</td><td>▁</td></tr></table><br/>"
     },
     "metadata": {}
    },
    {
     "output_type": "display_data",
     "data": {
      "text/plain": "<IPython.core.display.HTML object>",
      "text/html": "Synced 5 W&B file(s), 1 media file(s), 0 artifact file(s) and 1 other file(s)"
     },
     "metadata": {}
    },
    {
     "output_type": "display_data",
     "data": {
      "text/plain": "<IPython.core.display.HTML object>",
      "text/html": "\n                    <br/>Synced <strong style=\"color:#cdcd00\">glamorous-puddle-8</strong>: <a href=\"https://wandb.ai/supervisedlearning/CNN%20all%209000%20moved%20to%20test%20experiments/runs/lzl0mqfu\" target=\"_blank\">https://wandb.ai/supervisedlearning/CNN%20all%209000%20moved%20to%20test%20experiments/runs/lzl0mqfu</a><br/>\n                "
     },
     "metadata": {}
    },
    {
     "output_type": "stream",
     "name": "stderr",
     "text": [
      "wandb: wandb version 0.10.12 is available!  To upgrade, please run:\nwandb:  $ pip install wandb --upgrade\n"
     ]
    },
    {
     "output_type": "display_data",
     "data": {
      "text/plain": "<IPython.core.display.HTML object>",
      "text/html": "\n                Tracking run with wandb version 0.10.8<br/>\n                Syncing run <strong style=\"color:#cdcd00\">faithful-sunset-9</strong> to <a href=\"https://wandb.ai\" target=\"_blank\">Weights & Biases</a> <a href=\"https://docs.wandb.com/integrations/jupyter.html\" target=\"_blank\">(Documentation)</a>.<br/>\n                Project page: <a href=\"https://wandb.ai/supervisedlearning/CNN%20all%209000%20moved%20to%20test%20experiments\" target=\"_blank\">https://wandb.ai/supervisedlearning/CNN%20all%209000%20moved%20to%20test%20experiments</a><br/>\n                Run page: <a href=\"https://wandb.ai/supervisedlearning/CNN%20all%209000%20moved%20to%20test%20experiments/runs/2kqunwur\" target=\"_blank\">https://wandb.ai/supervisedlearning/CNN%20all%209000%20moved%20to%20test%20experiments/runs/2kqunwur</a><br/>\n                Run data is saved locally in <code>wandb\\run-20201205_154739-2kqunwur</code><br/><br/>\n            "
     },
     "metadata": {}
    },
    {
     "output_type": "stream",
     "name": "stdout",
     "text": [
      "Train on 9690 samples, validate on 3090 samples\n",
      "Epoch 1/50\n",
      "9690/9690 [==============================] - 2s 226us/sample - loss: 0.2218 - accuracy: 0.9934 - val_loss: 0.1062 - val_accuracy: 0.9913\n",
      "Epoch 2/50\n",
      "9690/9690 [==============================] - 2s 214us/sample - loss: 6.7743e-04 - accuracy: 0.9997 - val_loss: 0.1970 - val_accuracy: 0.9913\n",
      "Epoch 3/50\n",
      "9690/9690 [==============================] - 2s 209us/sample - loss: 5.3775e-07 - accuracy: 1.0000 - val_loss: 0.3082 - val_accuracy: 0.9890\n",
      "Epoch 4/50\n",
      "9690/9690 [==============================] - 2s 209us/sample - loss: 0.0012 - accuracy: 0.9999 - val_loss: 0.1999 - val_accuracy: 0.9919\n",
      "Epoch 5/50\n",
      "9690/9690 [==============================] - 2s 206us/sample - loss: 1.0555e-08 - accuracy: 1.0000 - val_loss: 0.2522 - val_accuracy: 0.9926\n",
      "Epoch 6/50\n",
      "9690/9690 [==============================] - 2s 211us/sample - loss: 5.4867e-09 - accuracy: 1.0000 - val_loss: 0.1792 - val_accuracy: 0.9913\n",
      "Epoch 7/50\n",
      "9690/9690 [==============================] - 2s 206us/sample - loss: 1.0051e-08 - accuracy: 1.0000 - val_loss: 0.2632 - val_accuracy: 0.9903\n",
      "Epoch 8/50\n",
      "9690/9690 [==============================] - 2s 209us/sample - loss: 2.5835e-09 - accuracy: 1.0000 - val_loss: 0.2068 - val_accuracy: 0.9913\n",
      "Epoch 9/50\n",
      "9690/9690 [==============================] - 2s 211us/sample - loss: 4.0351e-09 - accuracy: 1.0000 - val_loss: 0.2902 - val_accuracy: 0.9906\n",
      "Epoch 10/50\n",
      "9690/9690 [==============================] - 2s 214us/sample - loss: 0.0000e+00 - accuracy: 1.0000 - val_loss: 0.2739 - val_accuracy: 0.9906\n",
      "Epoch 11/50\n",
      "9690/9690 [==============================] - 2s 210us/sample - loss: 0.0000e+00 - accuracy: 1.0000 - val_loss: 0.2715 - val_accuracy: 0.9906\n",
      "Epoch 12/50\n",
      "9690/9690 [==============================] - 2s 213us/sample - loss: 0.0000e+00 - accuracy: 1.0000 - val_loss: 0.2722 - val_accuracy: 0.9906\n",
      "Epoch 13/50\n",
      "9690/9690 [==============================] - 2s 211us/sample - loss: 0.0000e+00 - accuracy: 1.0000 - val_loss: 0.2679 - val_accuracy: 0.9906\n",
      "Epoch 14/50\n",
      "9690/9690 [==============================] - 2s 231us/sample - loss: 0.0000e+00 - accuracy: 1.0000 - val_loss: 0.2684 - val_accuracy: 0.9906\n",
      "Epoch 15/50\n",
      "9690/9690 [==============================] - 2s 212us/sample - loss: 0.0000e+00 - accuracy: 1.0000 - val_loss: 0.2690 - val_accuracy: 0.9906\n",
      "Epoch 16/50\n",
      "9690/9690 [==============================] - 2s 212us/sample - loss: 0.0000e+00 - accuracy: 1.0000 - val_loss: 0.2690 - val_accuracy: 0.9906\n",
      "Epoch 17/50\n",
      "9690/9690 [==============================] - 2s 209us/sample - loss: 0.0000e+00 - accuracy: 1.0000 - val_loss: 0.2668 - val_accuracy: 0.9906\n",
      "Epoch 18/50\n",
      "9690/9690 [==============================] - 2s 211us/sample - loss: 0.0000e+00 - accuracy: 1.0000 - val_loss: 0.2687 - val_accuracy: 0.9906\n",
      "Epoch 19/50\n",
      "9690/9690 [==============================] - 2s 220us/sample - loss: 0.0000e+00 - accuracy: 1.0000 - val_loss: 0.2651 - val_accuracy: 0.9906\n",
      "Epoch 20/50\n",
      "9690/9690 [==============================] - 2s 218us/sample - loss: 3.1760e-06 - accuracy: 1.0000 - val_loss: 0.2672 - val_accuracy: 0.9903\n",
      "Epoch 21/50\n",
      "9690/9690 [==============================] - 2s 208us/sample - loss: 0.0032 - accuracy: 0.9999 - val_loss: 0.2583 - val_accuracy: 0.9919\n",
      "Epoch 22/50\n",
      "9690/9690 [==============================] - 2s 219us/sample - loss: 2.1283e-09 - accuracy: 1.0000 - val_loss: 0.3678 - val_accuracy: 0.9906\n",
      "Epoch 23/50\n",
      "9690/9690 [==============================] - 2s 220us/sample - loss: 2.8295e-10 - accuracy: 1.0000 - val_loss: 0.3726 - val_accuracy: 0.9909\n",
      "Epoch 24/50\n",
      "9690/9690 [==============================] - 2s 219us/sample - loss: 8.6116e-11 - accuracy: 1.0000 - val_loss: 0.3989 - val_accuracy: 0.9906\n",
      "Epoch 25/50\n",
      "9690/9690 [==============================] - 2s 211us/sample - loss: 0.0000e+00 - accuracy: 1.0000 - val_loss: 0.3898 - val_accuracy: 0.9906\n",
      "Epoch 26/50\n",
      "9690/9690 [==============================] - 2s 206us/sample - loss: 0.0000e+00 - accuracy: 1.0000 - val_loss: 0.3881 - val_accuracy: 0.9906\n",
      "Epoch 27/50\n",
      "9690/9690 [==============================] - 2s 208us/sample - loss: 0.0000e+00 - accuracy: 1.0000 - val_loss: 0.3793 - val_accuracy: 0.9906\n",
      "Epoch 28/50\n",
      "9690/9690 [==============================] - 2s 210us/sample - loss: 0.0000e+00 - accuracy: 1.0000 - val_loss: 0.3763 - val_accuracy: 0.9906\n",
      "Epoch 29/50\n",
      "9690/9690 [==============================] - 2s 217us/sample - loss: 0.0000e+00 - accuracy: 1.0000 - val_loss: 0.3921 - val_accuracy: 0.9906\n",
      "Epoch 30/50\n",
      "9690/9690 [==============================] - 2s 217us/sample - loss: 0.0000e+00 - accuracy: 1.0000 - val_loss: 0.3835 - val_accuracy: 0.9906\n",
      "Epoch 31/50\n",
      "9690/9690 [==============================] - 2s 208us/sample - loss: 0.0000e+00 - accuracy: 1.0000 - val_loss: 0.3902 - val_accuracy: 0.9906\n",
      "Epoch 32/50\n",
      "9690/9690 [==============================] - 2s 209us/sample - loss: 0.0000e+00 - accuracy: 1.0000 - val_loss: 0.3929 - val_accuracy: 0.9906\n",
      "Epoch 33/50\n",
      "9690/9690 [==============================] - 2s 211us/sample - loss: 0.0000e+00 - accuracy: 1.0000 - val_loss: 0.3942 - val_accuracy: 0.9906\n",
      "Epoch 34/50\n",
      "9690/9690 [==============================] - 2s 213us/sample - loss: 0.0000e+00 - accuracy: 1.0000 - val_loss: 0.3891 - val_accuracy: 0.9906\n",
      "Epoch 35/50\n",
      "9690/9690 [==============================] - 2s 207us/sample - loss: 0.0000e+00 - accuracy: 1.0000 - val_loss: 0.3909 - val_accuracy: 0.9906\n",
      "Epoch 36/50\n",
      "9690/9690 [==============================] - 2s 206us/sample - loss: 0.0000e+00 - accuracy: 1.0000 - val_loss: 0.3958 - val_accuracy: 0.9906\n",
      "Epoch 37/50\n",
      "9690/9690 [==============================] - 2s 215us/sample - loss: 0.0000e+00 - accuracy: 1.0000 - val_loss: 0.3833 - val_accuracy: 0.9906\n",
      "Epoch 38/50\n",
      "9690/9690 [==============================] - 2s 209us/sample - loss: 0.0000e+00 - accuracy: 1.0000 - val_loss: 0.3922 - val_accuracy: 0.9906\n",
      "Epoch 39/50\n",
      "9690/9690 [==============================] - 2s 217us/sample - loss: 0.0000e+00 - accuracy: 1.0000 - val_loss: 0.3948 - val_accuracy: 0.9906\n",
      "Epoch 40/50\n",
      "9690/9690 [==============================] - 2s 217us/sample - loss: 0.0000e+00 - accuracy: 1.0000 - val_loss: 0.3774 - val_accuracy: 0.9906\n",
      "Epoch 41/50\n",
      "9690/9690 [==============================] - 2s 210us/sample - loss: 0.0000e+00 - accuracy: 1.0000 - val_loss: 0.3829 - val_accuracy: 0.9906\n",
      "Epoch 42/50\n",
      "9690/9690 [==============================] - 2s 213us/sample - loss: 0.0000e+00 - accuracy: 1.0000 - val_loss: 0.3921 - val_accuracy: 0.9906\n",
      "Epoch 43/50\n",
      "9690/9690 [==============================] - 2s 220us/sample - loss: 0.0000e+00 - accuracy: 1.0000 - val_loss: 0.3963 - val_accuracy: 0.9906\n",
      "Epoch 44/50\n",
      "9690/9690 [==============================] - 2s 211us/sample - loss: 0.0000e+00 - accuracy: 1.0000 - val_loss: 0.3839 - val_accuracy: 0.9906\n",
      "Epoch 45/50\n",
      "9690/9690 [==============================] - 2s 215us/sample - loss: 0.0000e+00 - accuracy: 1.0000 - val_loss: 0.3925 - val_accuracy: 0.9906\n",
      "Epoch 46/50\n",
      "9690/9690 [==============================] - 2s 214us/sample - loss: 1.2302e-10 - accuracy: 1.0000 - val_loss: 0.3332 - val_accuracy: 0.9913\n",
      "Epoch 47/50\n",
      "9690/9690 [==============================] - 2s 207us/sample - loss: 0.0000e+00 - accuracy: 1.0000 - val_loss: 0.3158 - val_accuracy: 0.9909\n",
      "Epoch 48/50\n",
      "9690/9690 [==============================] - 2s 207us/sample - loss: 0.0000e+00 - accuracy: 1.0000 - val_loss: 0.3157 - val_accuracy: 0.9909\n",
      "Epoch 49/50\n",
      "9690/9690 [==============================] - 2s 203us/sample - loss: 4.9209e-11 - accuracy: 1.0000 - val_loss: 0.3123 - val_accuracy: 0.9906\n",
      "Epoch 50/50\n",
      "9690/9690 [==============================] - 2s 204us/sample - loss: 0.0000e+00 - accuracy: 1.0000 - val_loss: 0.3184 - val_accuracy: 0.9906\n"
     ]
    },
    {
     "output_type": "display_data",
     "data": {
      "text/plain": "<IPython.core.display.HTML object>",
      "text/html": "<br/>Waiting for W&B process to finish, PID 19204<br/>Program ended successfully."
     },
     "metadata": {}
    },
    {
     "output_type": "display_data",
     "data": {
      "text/plain": "<IPython.core.display.HTML object>",
      "text/html": "Find user logs for this run at: <code>wandb\\run-20201205_154739-2kqunwur\\logs\\debug.log</code>"
     },
     "metadata": {}
    },
    {
     "output_type": "display_data",
     "data": {
      "text/plain": "<IPython.core.display.HTML object>",
      "text/html": "Find internal logs for this run at: <code>wandb\\run-20201205_154739-2kqunwur\\logs\\debug-internal.log</code>"
     },
     "metadata": {}
    },
    {
     "output_type": "display_data",
     "data": {
      "text/plain": "<IPython.core.display.HTML object>",
      "text/html": "<h3>Run summary:</h3><br/><style>\n    table.wandb td:nth-child(1) { padding: 0 10px; text-align: right }\n    </style><table class=\"wandb\">\n<tr><td>epoch</td><td>49</td></tr><tr><td>loss</td><td>0.0</td></tr><tr><td>accuracy</td><td>1.0</td></tr><tr><td>val_loss</td><td>0.31835</td></tr><tr><td>val_accuracy</td><td>0.99061</td></tr><tr><td>_step</td><td>50</td></tr><tr><td>_runtime</td><td>105</td></tr><tr><td>_timestamp</td><td>1607183364</td></tr><tr><td>best_val_loss</td><td>0.10621</td></tr><tr><td>best_epoch</td><td>0</td></tr><tr><td>Label_class</td><td>beware pedestrian cr...</td></tr><tr><td>num_classes</td><td>2</td></tr></table>"
     },
     "metadata": {}
    },
    {
     "output_type": "display_data",
     "data": {
      "text/plain": "<IPython.core.display.HTML object>",
      "text/html": "<h3>Run history:</h3><br/><style>\n    table.wandb td:nth-child(1) { padding: 0 10px; text-align: right }\n    </style><table class=\"wandb\">\n<tr><td>epoch</td><td>▁▁▁▁▂▂▂▂▂▃▃▃▃▃▃▄▄▄▄▄▅▅▅▅▅▅▆▆▆▆▆▆▇▇▇▇▇███</td></tr><tr><td>loss</td><td>█▁▁▁▁▁▁▁▁▁▁▁▁▁▁▁▁▁▁▁▁▁▁▁▁▁▁▁▁▁▁▁▁▁▁▁▁▁▁▁</td></tr><tr><td>accuracy</td><td>▁███████████████████████████████████████</td></tr><tr><td>val_loss</td><td>▁▃▆▃▃▅▃▅▅▅▅▅▅▅▅▅▅▇▇███▇█████████████▆▆▆▆</td></tr><tr><td>val_accuracy</td><td>▆▆▁█▆▄▆▅▅▅▅▅▅▅▅▅█▅▆▅▅▅▅▅▅▅▅▅▅▅▅▅▅▅▅▅▆▆▆▅</td></tr><tr><td>_step</td><td>▁▁▁▁▂▂▂▂▂▃▃▃▃▃▃▄▄▄▄▄▅▅▅▅▅▅▆▆▆▆▆▆▇▇▇▇▇███</td></tr><tr><td>_runtime</td><td>▁▁▁▁▂▂▂▂▂▃▃▃▃▃▃▄▄▄▄▄▅▅▅▅▅▆▆▆▆▆▆▇▇▇▇▇████</td></tr><tr><td>_timestamp</td><td>▁▁▁▁▂▂▂▂▂▃▃▃▃▃▃▄▄▄▄▄▅▅▅▅▅▆▆▆▆▆▆▇▇▇▇▇████</td></tr><tr><td>num_classes</td><td>▁</td></tr></table><br/>"
     },
     "metadata": {}
    },
    {
     "output_type": "display_data",
     "data": {
      "text/plain": "<IPython.core.display.HTML object>",
      "text/html": "Synced 5 W&B file(s), 1 media file(s), 0 artifact file(s) and 1 other file(s)"
     },
     "metadata": {}
    },
    {
     "output_type": "display_data",
     "data": {
      "text/plain": "<IPython.core.display.HTML object>",
      "text/html": "\n                    <br/>Synced <strong style=\"color:#cdcd00\">faithful-sunset-9</strong>: <a href=\"https://wandb.ai/supervisedlearning/CNN%20all%209000%20moved%20to%20test%20experiments/runs/2kqunwur\" target=\"_blank\">https://wandb.ai/supervisedlearning/CNN%20all%209000%20moved%20to%20test%20experiments/runs/2kqunwur</a><br/>\n                "
     },
     "metadata": {}
    },
    {
     "output_type": "stream",
     "name": "stderr",
     "text": [
      "wandb: wandb version 0.10.12 is available!  To upgrade, please run:\nwandb:  $ pip install wandb --upgrade\n"
     ]
    },
    {
     "output_type": "display_data",
     "data": {
      "text/plain": "<IPython.core.display.HTML object>",
      "text/html": "\n                Tracking run with wandb version 0.10.8<br/>\n                Syncing run <strong style=\"color:#cdcd00\">youthful-elevator-10</strong> to <a href=\"https://wandb.ai\" target=\"_blank\">Weights & Biases</a> <a href=\"https://docs.wandb.com/integrations/jupyter.html\" target=\"_blank\">(Documentation)</a>.<br/>\n                Project page: <a href=\"https://wandb.ai/supervisedlearning/CNN%20all%209000%20moved%20to%20test%20experiments\" target=\"_blank\">https://wandb.ai/supervisedlearning/CNN%20all%209000%20moved%20to%20test%20experiments</a><br/>\n                Run page: <a href=\"https://wandb.ai/supervisedlearning/CNN%20all%209000%20moved%20to%20test%20experiments/runs/y09ak106\" target=\"_blank\">https://wandb.ai/supervisedlearning/CNN%20all%209000%20moved%20to%20test%20experiments/runs/y09ak106</a><br/>\n                Run data is saved locally in <code>wandb\\run-20201205_154934-y09ak106</code><br/><br/>\n            "
     },
     "metadata": {}
    },
    {
     "output_type": "stream",
     "name": "stdout",
     "text": [
      "Train on 9690 samples, validate on 3090 samples\n",
      "Epoch 1/50\n",
      "9690/9690 [==============================] - 2s 220us/sample - loss: 0.1504 - accuracy: 0.9923 - val_loss: 0.0435 - val_accuracy: 0.9929\n",
      "Epoch 2/50\n",
      "9690/9690 [==============================] - 2s 215us/sample - loss: 0.0063 - accuracy: 0.9990 - val_loss: 0.0448 - val_accuracy: 0.9955\n",
      "Epoch 3/50\n",
      "9690/9690 [==============================] - 2s 215us/sample - loss: 0.0058 - accuracy: 0.9994 - val_loss: 0.0433 - val_accuracy: 0.9958\n",
      "Epoch 4/50\n",
      "9690/9690 [==============================] - 2s 206us/sample - loss: 2.1582e-05 - accuracy: 1.0000 - val_loss: 0.0473 - val_accuracy: 0.9942\n",
      "Epoch 5/50\n",
      "9690/9690 [==============================] - 2s 209us/sample - loss: 3.9991e-04 - accuracy: 0.9999 - val_loss: 0.0512 - val_accuracy: 0.9971\n",
      "Epoch 6/50\n",
      "9690/9690 [==============================] - 2s 212us/sample - loss: 0.0015 - accuracy: 0.9999 - val_loss: 0.1082 - val_accuracy: 0.9939\n",
      "Epoch 7/50\n",
      "9690/9690 [==============================] - 2s 221us/sample - loss: 0.0027 - accuracy: 0.9998 - val_loss: 0.0281 - val_accuracy: 0.9981\n",
      "Epoch 8/50\n",
      "9690/9690 [==============================] - 2s 214us/sample - loss: 7.9766e-07 - accuracy: 1.0000 - val_loss: 0.0476 - val_accuracy: 0.9964\n",
      "Epoch 9/50\n",
      "9690/9690 [==============================] - 2s 214us/sample - loss: 1.1315e-07 - accuracy: 1.0000 - val_loss: 0.0251 - val_accuracy: 0.9974\n",
      "Epoch 10/50\n",
      "9690/9690 [==============================] - 2s 215us/sample - loss: 1.2302e-10 - accuracy: 1.0000 - val_loss: 0.0273 - val_accuracy: 0.9984\n",
      "Epoch 11/50\n",
      "9690/9690 [==============================] - 2s 218us/sample - loss: 0.0000e+00 - accuracy: 1.0000 - val_loss: 0.0268 - val_accuracy: 0.9984\n",
      "Epoch 12/50\n",
      "9690/9690 [==============================] - 2s 220us/sample - loss: 0.0000e+00 - accuracy: 1.0000 - val_loss: 0.0269 - val_accuracy: 0.9984\n",
      "Epoch 13/50\n",
      "9690/9690 [==============================] - 2s 218us/sample - loss: 0.0000e+00 - accuracy: 1.0000 - val_loss: 0.0272 - val_accuracy: 0.9984\n",
      "Epoch 14/50\n",
      "9690/9690 [==============================] - 2s 213us/sample - loss: 0.0000e+00 - accuracy: 1.0000 - val_loss: 0.0276 - val_accuracy: 0.9984\n",
      "Epoch 15/50\n",
      "9690/9690 [==============================] - 2s 213us/sample - loss: 1.4975e-05 - accuracy: 1.0000 - val_loss: 0.0371 - val_accuracy: 0.9977\n",
      "Epoch 16/50\n",
      "9690/9690 [==============================] - 2s 221us/sample - loss: 1.7223e-10 - accuracy: 1.0000 - val_loss: 0.0298 - val_accuracy: 0.9971\n",
      "Epoch 17/50\n",
      "9690/9690 [==============================] - 2s 213us/sample - loss: 1.3533e-10 - accuracy: 1.0000 - val_loss: 0.0235 - val_accuracy: 0.9990\n",
      "Epoch 18/50\n",
      "9690/9690 [==============================] - 2s 216us/sample - loss: 8.0482e-04 - accuracy: 0.9999 - val_loss: 0.0609 - val_accuracy: 0.9971\n",
      "Epoch 19/50\n",
      "9690/9690 [==============================] - 2s 210us/sample - loss: 1.9684e-10 - accuracy: 1.0000 - val_loss: 0.0407 - val_accuracy: 0.9971\n",
      "Epoch 20/50\n",
      "9690/9690 [==============================] - 2s 211us/sample - loss: 1.2302e-11 - accuracy: 1.0000 - val_loss: 0.0379 - val_accuracy: 0.9971\n",
      "Epoch 21/50\n",
      "9690/9690 [==============================] - 2s 210us/sample - loss: 4.9209e-11 - accuracy: 1.0000 - val_loss: 0.0535 - val_accuracy: 0.9961\n",
      "Epoch 22/50\n",
      "9690/9690 [==============================] - 2s 209us/sample - loss: 0.0000e+00 - accuracy: 1.0000 - val_loss: 0.0298 - val_accuracy: 0.9974\n",
      "Epoch 23/50\n",
      "9690/9690 [==============================] - 2s 217us/sample - loss: 1.2302e-11 - accuracy: 1.0000 - val_loss: 0.0331 - val_accuracy: 0.9974\n",
      "Epoch 24/50\n",
      "9690/9690 [==============================] - 2s 214us/sample - loss: 1.3902e-09 - accuracy: 1.0000 - val_loss: 0.0492 - val_accuracy: 0.9968\n",
      "Epoch 25/50\n",
      "9690/9690 [==============================] - 2s 215us/sample - loss: 0.0000e+00 - accuracy: 1.0000 - val_loss: 0.0462 - val_accuracy: 0.9968\n",
      "Epoch 26/50\n",
      "9690/9690 [==============================] - 2s 214us/sample - loss: 1.1072e-10 - accuracy: 1.0000 - val_loss: 0.0287 - val_accuracy: 0.9984\n",
      "Epoch 27/50\n",
      "9690/9690 [==============================] - 2s 213us/sample - loss: 0.0000e+00 - accuracy: 1.0000 - val_loss: 0.0375 - val_accuracy: 0.9974\n",
      "Epoch 28/50\n",
      "9690/9690 [==============================] - 2s 212us/sample - loss: 0.0000e+00 - accuracy: 1.0000 - val_loss: 0.0368 - val_accuracy: 0.9974\n",
      "Epoch 29/50\n",
      "9690/9690 [==============================] - 2s 207us/sample - loss: 0.0000e+00 - accuracy: 1.0000 - val_loss: 0.0368 - val_accuracy: 0.9974\n",
      "Epoch 30/50\n",
      "9690/9690 [==============================] - 2s 205us/sample - loss: 0.0000e+00 - accuracy: 1.0000 - val_loss: 0.0332 - val_accuracy: 0.9977\n",
      "Epoch 31/50\n",
      "9690/9690 [==============================] - 2s 209us/sample - loss: 3.2532e-04 - accuracy: 0.9999 - val_loss: 0.0356 - val_accuracy: 0.9971\n",
      "Epoch 32/50\n",
      "9690/9690 [==============================] - 2s 211us/sample - loss: 1.1121e-07 - accuracy: 1.0000 - val_loss: 0.0635 - val_accuracy: 0.9961\n",
      "Epoch 33/50\n",
      "9690/9690 [==============================] - 2s 217us/sample - loss: 9.0466e-04 - accuracy: 0.9999 - val_loss: 0.0347 - val_accuracy: 0.9981\n",
      "Epoch 34/50\n",
      "9690/9690 [==============================] - 2s 214us/sample - loss: 1.2302e-11 - accuracy: 1.0000 - val_loss: 0.0318 - val_accuracy: 0.9981\n",
      "Epoch 35/50\n",
      "9690/9690 [==============================] - 2s 210us/sample - loss: 0.0000e+00 - accuracy: 1.0000 - val_loss: 0.0327 - val_accuracy: 0.9981\n",
      "Epoch 36/50\n",
      "9690/9690 [==============================] - 2s 215us/sample - loss: 4.3058e-10 - accuracy: 1.0000 - val_loss: 0.0278 - val_accuracy: 0.9977\n",
      "Epoch 37/50\n",
      "9690/9690 [==============================] - 2s 213us/sample - loss: 0.0000e+00 - accuracy: 1.0000 - val_loss: 0.0359 - val_accuracy: 0.9974\n",
      "Epoch 38/50\n",
      "9690/9690 [==============================] - 2s 215us/sample - loss: 0.0000e+00 - accuracy: 1.0000 - val_loss: 0.0360 - val_accuracy: 0.9974\n",
      "Epoch 39/50\n",
      "9690/9690 [==============================] - 2s 207us/sample - loss: 0.0000e+00 - accuracy: 1.0000 - val_loss: 0.0359 - val_accuracy: 0.9974\n",
      "Epoch 40/50\n",
      "9690/9690 [==============================] - 2s 214us/sample - loss: 0.0000e+00 - accuracy: 1.0000 - val_loss: 0.0354 - val_accuracy: 0.9977\n",
      "Epoch 41/50\n",
      "9690/9690 [==============================] - 2s 208us/sample - loss: 0.0000e+00 - accuracy: 1.0000 - val_loss: 0.0352 - val_accuracy: 0.9977\n",
      "Epoch 42/50\n",
      "9690/9690 [==============================] - 2s 204us/sample - loss: 0.0000e+00 - accuracy: 1.0000 - val_loss: 0.0358 - val_accuracy: 0.9977\n",
      "Epoch 43/50\n",
      "9690/9690 [==============================] - 2s 210us/sample - loss: 3.3567e-05 - accuracy: 1.0000 - val_loss: 0.0303 - val_accuracy: 0.9981\n",
      "Epoch 44/50\n",
      "9690/9690 [==============================] - 2s 207us/sample - loss: 0.0000e+00 - accuracy: 1.0000 - val_loss: 0.0266 - val_accuracy: 0.9981\n",
      "Epoch 45/50\n",
      "9690/9690 [==============================] - 2s 215us/sample - loss: 8.6116e-10 - accuracy: 1.0000 - val_loss: 0.0437 - val_accuracy: 0.9961\n",
      "Epoch 46/50\n",
      "9690/9690 [==============================] - 2s 216us/sample - loss: 2.4605e-11 - accuracy: 1.0000 - val_loss: 0.0264 - val_accuracy: 0.9987\n",
      "Epoch 47/50\n",
      "9690/9690 [==============================] - 2s 213us/sample - loss: 3.8014e-09 - accuracy: 1.0000 - val_loss: 0.0263 - val_accuracy: 0.9994\n",
      "Epoch 48/50\n",
      "9690/9690 [==============================] - 2s 213us/sample - loss: 0.0000e+00 - accuracy: 1.0000 - val_loss: 0.0253 - val_accuracy: 0.9984\n",
      "Epoch 49/50\n",
      "9690/9690 [==============================] - 2s 214us/sample - loss: 0.0000e+00 - accuracy: 1.0000 - val_loss: 0.0253 - val_accuracy: 0.9987\n",
      "Epoch 50/50\n",
      "9690/9690 [==============================] - 2s 223us/sample - loss: 2.4605e-11 - accuracy: 1.0000 - val_loss: 0.0241 - val_accuracy: 0.9990\n"
     ]
    },
    {
     "output_type": "display_data",
     "data": {
      "text/plain": "<IPython.core.display.HTML object>",
      "text/html": "<br/>Waiting for W&B process to finish, PID 19236<br/>Program ended successfully."
     },
     "metadata": {}
    },
    {
     "output_type": "display_data",
     "data": {
      "text/plain": "<IPython.core.display.HTML object>",
      "text/html": "Find user logs for this run at: <code>wandb\\run-20201205_154934-y09ak106\\logs\\debug.log</code>"
     },
     "metadata": {}
    },
    {
     "output_type": "display_data",
     "data": {
      "text/plain": "<IPython.core.display.HTML object>",
      "text/html": "Find internal logs for this run at: <code>wandb\\run-20201205_154934-y09ak106\\logs\\debug-internal.log</code>"
     },
     "metadata": {}
    },
    {
     "output_type": "display_data",
     "data": {
      "text/plain": "<IPython.core.display.HTML object>",
      "text/html": "<h3>Run summary:</h3><br/><style>\n    table.wandb td:nth-child(1) { padding: 0 10px; text-align: right }\n    </style><table class=\"wandb\">\n<tr><td>epoch</td><td>49</td></tr><tr><td>loss</td><td>0.0</td></tr><tr><td>accuracy</td><td>1.0</td></tr><tr><td>val_loss</td><td>0.02415</td></tr><tr><td>val_accuracy</td><td>0.99903</td></tr><tr><td>_step</td><td>50</td></tr><tr><td>_runtime</td><td>105</td></tr><tr><td>_timestamp</td><td>1607183479</td></tr><tr><td>best_val_loss</td><td>0.02349</td></tr><tr><td>best_epoch</td><td>16</td></tr><tr><td>Label_class</td><td>beware children</td></tr><tr><td>num_classes</td><td>2</td></tr></table>"
     },
     "metadata": {}
    },
    {
     "output_type": "display_data",
     "data": {
      "text/plain": "<IPython.core.display.HTML object>",
      "text/html": "<h3>Run history:</h3><br/><style>\n    table.wandb td:nth-child(1) { padding: 0 10px; text-align: right }\n    </style><table class=\"wandb\">\n<tr><td>epoch</td><td>▁▁▁▁▂▂▂▂▂▃▃▃▃▃▃▄▄▄▄▄▅▅▅▅▅▅▆▆▆▆▆▆▇▇▇▇▇███</td></tr><tr><td>loss</td><td>█▁▁▁▁▁▁▁▁▁▁▁▁▁▁▁▁▁▁▁▁▁▁▁▁▁▁▁▁▁▁▁▁▁▁▁▁▁▁▁</td></tr><tr><td>accuracy</td><td>▁▇▇█████████████████████████████████████</td></tr><tr><td>val_loss</td><td>▃▃▃▃█▁▃▁▁▁▁▁▂▁▄▂▃▂▂▃▁▂▂▂▂▄▂▂▁▂▂▂▂▂▂▁▁▁▁▁</td></tr><tr><td>val_accuracy</td><td>▁▄▄▂▂▇▅▆▇▇▇▇▆█▆▆▄▆▆▅▇▆▆▆▆▄▇▇▆▆▆▆▆▆▇▇▇█▇█</td></tr><tr><td>_step</td><td>▁▁▁▁▂▂▂▂▂▃▃▃▃▃▃▄▄▄▄▄▅▅▅▅▅▅▆▆▆▆▆▆▇▇▇▇▇███</td></tr><tr><td>_runtime</td><td>▁▁▁▁▂▂▂▂▂▃▃▃▃▃▃▄▄▄▄▄▅▅▅▅▅▆▆▆▆▆▆▇▇▇▇▇████</td></tr><tr><td>_timestamp</td><td>▁▁▁▁▂▂▂▂▂▃▃▃▃▃▃▄▄▄▄▄▅▅▅▅▅▆▆▆▆▆▆▇▇▇▇▇████</td></tr><tr><td>num_classes</td><td>▁</td></tr></table><br/>"
     },
     "metadata": {}
    },
    {
     "output_type": "display_data",
     "data": {
      "text/plain": "<IPython.core.display.HTML object>",
      "text/html": "Synced 5 W&B file(s), 1 media file(s), 0 artifact file(s) and 1 other file(s)"
     },
     "metadata": {}
    },
    {
     "output_type": "display_data",
     "data": {
      "text/plain": "<IPython.core.display.HTML object>",
      "text/html": "\n                    <br/>Synced <strong style=\"color:#cdcd00\">youthful-elevator-10</strong>: <a href=\"https://wandb.ai/supervisedlearning/CNN%20all%209000%20moved%20to%20test%20experiments/runs/y09ak106\" target=\"_blank\">https://wandb.ai/supervisedlearning/CNN%20all%209000%20moved%20to%20test%20experiments/runs/y09ak106</a><br/>\n                "
     },
     "metadata": {}
    },
    {
     "output_type": "stream",
     "name": "stderr",
     "text": [
      "wandb: wandb version 0.10.12 is available!  To upgrade, please run:\nwandb:  $ pip install wandb --upgrade\n"
     ]
    },
    {
     "output_type": "display_data",
     "data": {
      "text/plain": "<IPython.core.display.HTML object>",
      "text/html": "\n                Tracking run with wandb version 0.10.8<br/>\n                Syncing run <strong style=\"color:#cdcd00\">absurd-smoke-11</strong> to <a href=\"https://wandb.ai\" target=\"_blank\">Weights & Biases</a> <a href=\"https://docs.wandb.com/integrations/jupyter.html\" target=\"_blank\">(Documentation)</a>.<br/>\n                Project page: <a href=\"https://wandb.ai/supervisedlearning/CNN%20all%209000%20moved%20to%20test%20experiments\" target=\"_blank\">https://wandb.ai/supervisedlearning/CNN%20all%209000%20moved%20to%20test%20experiments</a><br/>\n                Run page: <a href=\"https://wandb.ai/supervisedlearning/CNN%20all%209000%20moved%20to%20test%20experiments/runs/1arl3ydy\" target=\"_blank\">https://wandb.ai/supervisedlearning/CNN%20all%209000%20moved%20to%20test%20experiments/runs/1arl3ydy</a><br/>\n                Run data is saved locally in <code>wandb\\run-20201205_155130-1arl3ydy</code><br/><br/>\n            "
     },
     "metadata": {}
    },
    {
     "output_type": "stream",
     "name": "stdout",
     "text": [
      "Train on 9690 samples, validate on 3090 samples\n",
      "Epoch 1/50\n",
      "9690/9690 [==============================] - 2s 224us/sample - loss: 0.1224 - accuracy: 0.9944 - val_loss: 0.0069 - val_accuracy: 0.9971\n",
      "Epoch 2/50\n",
      "9690/9690 [==============================] - 2s 222us/sample - loss: 0.0089 - accuracy: 0.9994 - val_loss: 0.0036 - val_accuracy: 0.9987\n",
      "Epoch 3/50\n",
      "9690/9690 [==============================] - 2s 217us/sample - loss: 2.1271e-04 - accuracy: 0.9999 - val_loss: 0.1104 - val_accuracy: 0.9890\n",
      "Epoch 4/50\n",
      "9690/9690 [==============================] - 2s 213us/sample - loss: 2.9219e-06 - accuracy: 1.0000 - val_loss: 0.0181 - val_accuracy: 0.9990\n",
      "Epoch 5/50\n",
      "9690/9690 [==============================] - 2s 219us/sample - loss: 1.8113e-06 - accuracy: 1.0000 - val_loss: 0.0021 - val_accuracy: 0.9990\n",
      "Epoch 6/50\n",
      "9690/9690 [==============================] - 2s 215us/sample - loss: 1.3189e-04 - accuracy: 0.9999 - val_loss: 0.0070 - val_accuracy: 0.9987\n",
      "Epoch 7/50\n",
      "9690/9690 [==============================] - 2s 214us/sample - loss: 7.2737e-04 - accuracy: 0.9998 - val_loss: 0.0114 - val_accuracy: 0.9984\n",
      "Epoch 8/50\n",
      "9690/9690 [==============================] - 2s 216us/sample - loss: 2.6016e-06 - accuracy: 1.0000 - val_loss: 0.0178 - val_accuracy: 0.9977\n",
      "Epoch 9/50\n",
      "9690/9690 [==============================] - 2s 219us/sample - loss: 7.5752e-04 - accuracy: 0.9999 - val_loss: 0.0130 - val_accuracy: 0.9990\n",
      "Epoch 10/50\n",
      "9690/9690 [==============================] - 2s 213us/sample - loss: 4.9209e-11 - accuracy: 1.0000 - val_loss: 0.0089 - val_accuracy: 0.9990\n",
      "Epoch 11/50\n",
      "9690/9690 [==============================] - 2s 209us/sample - loss: 4.4104e-05 - accuracy: 1.0000 - val_loss: 0.0190 - val_accuracy: 0.9971\n",
      "Epoch 12/50\n",
      "9690/9690 [==============================] - 2s 208us/sample - loss: 2.8910e-09 - accuracy: 1.0000 - val_loss: 0.0067 - val_accuracy: 0.9987\n",
      "Epoch 13/50\n",
      "9690/9690 [==============================] - 2s 214us/sample - loss: 8.6116e-11 - accuracy: 1.0000 - val_loss: 0.0124 - val_accuracy: 0.9987\n",
      "Epoch 14/50\n",
      "9690/9690 [==============================] - 2s 222us/sample - loss: 0.0000e+00 - accuracy: 1.0000 - val_loss: 0.0106 - val_accuracy: 0.9984\n",
      "Epoch 15/50\n",
      "9690/9690 [==============================] - 2s 213us/sample - loss: 3.9137e-06 - accuracy: 1.0000 - val_loss: 0.0201 - val_accuracy: 0.9990\n",
      "Epoch 16/50\n",
      "9690/9690 [==============================] - 2s 212us/sample - loss: 5.7821e-10 - accuracy: 1.0000 - val_loss: 0.0164 - val_accuracy: 0.9990\n",
      "Epoch 17/50\n",
      "9690/9690 [==============================] - 2s 217us/sample - loss: 3.6907e-11 - accuracy: 1.0000 - val_loss: 0.0223 - val_accuracy: 0.9990\n",
      "Epoch 18/50\n",
      "9690/9690 [==============================] - 2s 214us/sample - loss: 0.0017 - accuracy: 0.9997 - val_loss: 0.0368 - val_accuracy: 0.9987\n",
      "Epoch 19/50\n",
      "9690/9690 [==============================] - 2s 213us/sample - loss: 9.0667e-09 - accuracy: 1.0000 - val_loss: 0.0204 - val_accuracy: 0.9981\n",
      "Epoch 20/50\n",
      "9690/9690 [==============================] - 2s 216us/sample - loss: 2.0162e-08 - accuracy: 1.0000 - val_loss: 0.0115 - val_accuracy: 0.9987\n",
      "Epoch 21/50\n",
      "9690/9690 [==============================] - 2s 209us/sample - loss: 7.3814e-11 - accuracy: 1.0000 - val_loss: 0.0090 - val_accuracy: 0.9987\n",
      "Epoch 22/50\n",
      "9690/9690 [==============================] - 2s 205us/sample - loss: 4.9209e-11 - accuracy: 1.0000 - val_loss: 0.0110 - val_accuracy: 0.9984\n",
      "Epoch 23/50\n",
      "9690/9690 [==============================] - 2s 208us/sample - loss: 0.0000e+00 - accuracy: 1.0000 - val_loss: 0.0109 - val_accuracy: 0.9984\n",
      "Epoch 24/50\n",
      "9690/9690 [==============================] - 2s 216us/sample - loss: 0.0000e+00 - accuracy: 1.0000 - val_loss: 0.0109 - val_accuracy: 0.9984\n",
      "Epoch 25/50\n",
      "9690/9690 [==============================] - 2s 211us/sample - loss: 0.0000e+00 - accuracy: 1.0000 - val_loss: 0.0109 - val_accuracy: 0.9984\n",
      "Epoch 26/50\n",
      "9690/9690 [==============================] - 2s 214us/sample - loss: 0.0000e+00 - accuracy: 1.0000 - val_loss: 0.0110 - val_accuracy: 0.9984\n",
      "Epoch 27/50\n",
      "9690/9690 [==============================] - 2s 210us/sample - loss: 3.6907e-11 - accuracy: 1.0000 - val_loss: 0.0208 - val_accuracy: 0.9984\n",
      "Epoch 28/50\n",
      "9690/9690 [==============================] - 2s 209us/sample - loss: 1.2302e-11 - accuracy: 1.0000 - val_loss: 0.0124 - val_accuracy: 0.9984\n",
      "Epoch 29/50\n",
      "9690/9690 [==============================] - 2s 211us/sample - loss: 0.0000e+00 - accuracy: 1.0000 - val_loss: 0.0120 - val_accuracy: 0.9984\n",
      "Epoch 30/50\n",
      "9690/9690 [==============================] - 2s 218us/sample - loss: 2.4605e-10 - accuracy: 1.0000 - val_loss: 0.0069 - val_accuracy: 0.9990\n",
      "Epoch 31/50\n",
      "9690/9690 [==============================] - 2s 217us/sample - loss: 4.9209e-11 - accuracy: 1.0000 - val_loss: 0.0045 - val_accuracy: 0.9994\n",
      "Epoch 32/50\n",
      "9690/9690 [==============================] - 2s 213us/sample - loss: 0.0000e+00 - accuracy: 1.0000 - val_loss: 0.0053 - val_accuracy: 0.9994\n",
      "Epoch 33/50\n",
      "9690/9690 [==============================] - 2s 216us/sample - loss: 0.0000e+00 - accuracy: 1.0000 - val_loss: 0.0054 - val_accuracy: 0.9990\n",
      "Epoch 34/50\n",
      "9690/9690 [==============================] - 2s 209us/sample - loss: 0.0000e+00 - accuracy: 1.0000 - val_loss: 0.0052 - val_accuracy: 0.9990\n",
      "Epoch 35/50\n",
      "9690/9690 [==============================] - 2s 212us/sample - loss: 2.0668e-09 - accuracy: 1.0000 - val_loss: 0.0035 - val_accuracy: 0.9994\n",
      "Epoch 36/50\n",
      "9690/9690 [==============================] - 2s 215us/sample - loss: 0.0000e+00 - accuracy: 1.0000 - val_loss: 0.0056 - val_accuracy: 0.9990\n",
      "Epoch 37/50\n",
      "9690/9690 [==============================] - 2s 218us/sample - loss: 0.0000e+00 - accuracy: 1.0000 - val_loss: 0.0060 - val_accuracy: 0.9990\n",
      "Epoch 38/50\n",
      "9690/9690 [==============================] - 2s 211us/sample - loss: 0.0000e+00 - accuracy: 1.0000 - val_loss: 0.0057 - val_accuracy: 0.9990\n",
      "Epoch 39/50\n",
      "9690/9690 [==============================] - 2s 215us/sample - loss: 0.0000e+00 - accuracy: 1.0000 - val_loss: 0.0061 - val_accuracy: 0.9990\n",
      "Epoch 40/50\n",
      "9690/9690 [==============================] - 2s 208us/sample - loss: 0.0000e+00 - accuracy: 1.0000 - val_loss: 0.0060 - val_accuracy: 0.9990\n",
      "Epoch 41/50\n",
      "9690/9690 [==============================] - 2s 213us/sample - loss: 0.0000e+00 - accuracy: 1.0000 - val_loss: 0.0060 - val_accuracy: 0.9990\n",
      "Epoch 42/50\n",
      "9690/9690 [==============================] - 2s 210us/sample - loss: 0.0000e+00 - accuracy: 1.0000 - val_loss: 0.0069 - val_accuracy: 0.9987\n",
      "Epoch 43/50\n",
      "9690/9690 [==============================] - 2s 205us/sample - loss: 0.0000e+00 - accuracy: 1.0000 - val_loss: 0.0070 - val_accuracy: 0.9987\n",
      "Epoch 44/50\n",
      "9690/9690 [==============================] - 2s 213us/sample - loss: 0.0000e+00 - accuracy: 1.0000 - val_loss: 0.0071 - val_accuracy: 0.9987\n",
      "Epoch 45/50\n",
      "9690/9690 [==============================] - 2s 211us/sample - loss: 0.0000e+00 - accuracy: 1.0000 - val_loss: 0.0074 - val_accuracy: 0.9987\n",
      "Epoch 46/50\n",
      "9690/9690 [==============================] - 2s 219us/sample - loss: 0.0000e+00 - accuracy: 1.0000 - val_loss: 0.0071 - val_accuracy: 0.9987\n",
      "Epoch 47/50\n",
      "9690/9690 [==============================] - 2s 209us/sample - loss: 4.3058e-10 - accuracy: 1.0000 - val_loss: 0.0167 - val_accuracy: 0.9984\n",
      "Epoch 48/50\n",
      "9690/9690 [==============================] - 2s 208us/sample - loss: 0.0000e+00 - accuracy: 1.0000 - val_loss: 0.0166 - val_accuracy: 0.9984\n",
      "Epoch 49/50\n",
      "9690/9690 [==============================] - 2s 215us/sample - loss: 0.0000e+00 - accuracy: 1.0000 - val_loss: 0.0166 - val_accuracy: 0.9984\n",
      "Epoch 50/50\n",
      "9690/9690 [==============================] - 2s 213us/sample - loss: 0.0000e+00 - accuracy: 1.0000 - val_loss: 0.0162 - val_accuracy: 0.9984\n"
     ]
    },
    {
     "output_type": "display_data",
     "data": {
      "text/plain": "<IPython.core.display.HTML object>",
      "text/html": "<br/>Waiting for W&B process to finish, PID 26384<br/>Program ended successfully."
     },
     "metadata": {}
    },
    {
     "output_type": "display_data",
     "data": {
      "text/plain": "<IPython.core.display.HTML object>",
      "text/html": "Find user logs for this run at: <code>wandb\\run-20201205_155130-1arl3ydy\\logs\\debug.log</code>"
     },
     "metadata": {}
    },
    {
     "output_type": "display_data",
     "data": {
      "text/plain": "<IPython.core.display.HTML object>",
      "text/html": "Find internal logs for this run at: <code>wandb\\run-20201205_155130-1arl3ydy\\logs\\debug-internal.log</code>"
     },
     "metadata": {}
    },
    {
     "output_type": "display_data",
     "data": {
      "text/plain": "<IPython.core.display.HTML object>",
      "text/html": "<h3>Run summary:</h3><br/><style>\n    table.wandb td:nth-child(1) { padding: 0 10px; text-align: right }\n    </style><table class=\"wandb\">\n<tr><td>epoch</td><td>49</td></tr><tr><td>loss</td><td>0.0</td></tr><tr><td>accuracy</td><td>1.0</td></tr><tr><td>val_loss</td><td>0.01625</td></tr><tr><td>val_accuracy</td><td>0.99838</td></tr><tr><td>_step</td><td>50</td></tr><tr><td>_runtime</td><td>105</td></tr><tr><td>_timestamp</td><td>1607183595</td></tr><tr><td>best_val_loss</td><td>0.00211</td></tr><tr><td>best_epoch</td><td>4</td></tr><tr><td>Label_class</td><td>beware cycle route a...</td></tr><tr><td>num_classes</td><td>2</td></tr></table>"
     },
     "metadata": {}
    },
    {
     "output_type": "display_data",
     "data": {
      "text/plain": "<IPython.core.display.HTML object>",
      "text/html": "<h3>Run history:</h3><br/><style>\n    table.wandb td:nth-child(1) { padding: 0 10px; text-align: right }\n    </style><table class=\"wandb\">\n<tr><td>epoch</td><td>▁▁▁▁▂▂▂▂▂▃▃▃▃▃▃▄▄▄▄▄▅▅▅▅▅▅▆▆▆▆▆▆▇▇▇▇▇███</td></tr><tr><td>loss</td><td>█▂▁▁▁▁▁▁▁▁▁▁▁▁▁▁▁▁▁▁▁▁▁▁▁▁▁▁▁▁▁▁▁▁▁▁▁▁▁▁</td></tr><tr><td>accuracy</td><td>▁▇██████████████████████████████████████</td></tr><tr><td>val_loss</td><td>▁▁█▂▁▂▂▂▂▁▂▁▂▂▃▂▁▁▁▁▁▂▂▂▁▁▁▁▁▁▁▁▁▁▁▁▁▂▂▂</td></tr><tr><td>val_accuracy</td><td>▆█▁██▇▇█▆██▇███▇█▇▇▇▇▇▇▇█████████████▇▇▇</td></tr><tr><td>_step</td><td>▁▁▁▁▂▂▂▂▂▃▃▃▃▃▃▄▄▄▄▄▅▅▅▅▅▅▆▆▆▆▆▆▇▇▇▇▇███</td></tr><tr><td>_runtime</td><td>▁▁▁▁▂▂▂▂▂▃▃▃▃▃▃▄▄▄▄▄▅▅▅▅▅▆▆▆▆▆▆▇▇▇▇▇████</td></tr><tr><td>_timestamp</td><td>▁▁▁▁▂▂▂▂▂▃▃▃▃▃▃▄▄▄▄▄▅▅▅▅▅▆▆▆▆▆▆▇▇▇▇▇████</td></tr><tr><td>num_classes</td><td>▁</td></tr></table><br/>"
     },
     "metadata": {}
    },
    {
     "output_type": "display_data",
     "data": {
      "text/plain": "<IPython.core.display.HTML object>",
      "text/html": "Synced 5 W&B file(s), 1 media file(s), 0 artifact file(s) and 1 other file(s)"
     },
     "metadata": {}
    },
    {
     "output_type": "display_data",
     "data": {
      "text/plain": "<IPython.core.display.HTML object>",
      "text/html": "\n                    <br/>Synced <strong style=\"color:#cdcd00\">absurd-smoke-11</strong>: <a href=\"https://wandb.ai/supervisedlearning/CNN%20all%209000%20moved%20to%20test%20experiments/runs/1arl3ydy\" target=\"_blank\">https://wandb.ai/supervisedlearning/CNN%20all%209000%20moved%20to%20test%20experiments/runs/1arl3ydy</a><br/>\n                "
     },
     "metadata": {}
    }
   ],
   "source": [
    "experiment_9k = '{} all 9000 moved to test experiments'.format(classifier_name)\n",
    "ce.run_all_test_set_experiments(classifier, classifier_name=classifier_name, experiment_name=experiment_9k, num_instances=9000)"
   ]
  },
  {
   "cell_type": "code",
   "execution_count": 8,
   "metadata": {},
   "outputs": [
    {
     "output_type": "execute_result",
     "data": {
      "text/plain": [
       "{'status': 'ok', 'restart': True}"
      ]
     },
     "metadata": {},
     "execution_count": 8
    }
   ],
   "source": [
    "import IPython\n",
    "app = IPython.Application.instance()\n",
    "app.kernel.do_shutdown(True)"
   ]
  },
  {
   "cell_type": "code",
   "execution_count": null,
   "metadata": {},
   "outputs": [],
   "source": []
  },
  {
   "cell_type": "code",
   "execution_count": null,
   "metadata": {},
   "outputs": [],
   "source": []
  }
 ],
 "metadata": {
  "language_info": {
   "codemirror_mode": {
    "name": "ipython",
    "version": 3
   },
   "file_extension": ".py",
   "mimetype": "text/x-python",
   "name": "python",
   "nbconvert_exporter": "python",
   "pygments_lexer": "ipython3",
   "version": "3.7.9-final"
  },
  "kernelspec": {
   "name": "python3",
   "display_name": "Python 3.7.9 64-bit ('suplearn': conda)",
   "metadata": {
    "interpreter": {
     "hash": "f669ade7ac486071bd60c2fa29ee3295826785883e735477c7c16f13d8637a87"
    }
   }
  }
 },
 "nbformat": 4,
 "nbformat_minor": 4
}