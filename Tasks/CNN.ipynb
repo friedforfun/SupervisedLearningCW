{
 "cells": [
  {
   "cell_type": "code",
   "execution_count": null,
   "metadata": {},
   "outputs": [],
   "source": [
    "import wandb\n",
    "import tensorflow as tf\n",
    "\n",
    "import SupervisedLearning.Experiments.CNNExperments as ce\n",
    "import SupervisedLearning.Experiments.GetData as gd\n",
    "import SupervisedLearning.NeuralNetworks.Conv as cnn\n",
    "\n",
    "%load_ext autoreload\n",
    "%autoreload 2"
   ]
  },
  {
   "cell_type": "code",
   "execution_count": 2,
   "metadata": {},
   "outputs": [],
   "source": [
    " gpus = tf.config.experimental.list_physical_devices('GPU')\n",
    "if gpus:\n",
    "    try:\n",
    "        for gpu in gpus:\n",
    "            tf.config.experimental.set_memory_growth(gpu, True)\n",
    "    except RuntimeError as e:\n",
    "        print(\"Err: \", e)"
   ]
  },
  {
   "cell_type": "code",
   "execution_count": 3,
   "metadata": {},
   "outputs": [],
   "source": [
    "X_train, y_train = gd.get_data()"
   ]
  },
  {
   "cell_type": "code",
   "execution_count": 4,
   "metadata": {},
   "outputs": [],
   "source": [
    "X_test, y_test = gd.get_data(train=False)"
   ]
  },
  {
   "cell_type": "code",
   "execution_count": 5,
   "metadata": {},
   "outputs": [],
   "source": [
    "classifier = cnn.ConvolutionalNeuralNetwork(10)\n",
    "classifier_name = 'CNN'\n"
   ]
  },
  {
   "cell_type": "code",
   "execution_count": 6,
   "metadata": {},
   "outputs": [
    {
     "output_type": "stream",
     "name": "stderr",
     "text": [
      "Failed to query for notebook name, you can set it manually with the WANDB_NOTEBOOK_NAME environment variable\n",
      "wandb: Currently logged in as: samfh (use `wandb login --relogin` to force relogin)\n",
      "wandb: wandb version 0.10.11 is available!  To upgrade, please run:\n",
      "wandb:  $ pip install wandb --upgrade\n"
     ]
    },
    {
     "output_type": "display_data",
     "data": {
      "text/plain": "<IPython.core.display.HTML object>",
      "text/html": "\n                Tracking run with wandb version 0.10.8<br/>\n                Syncing run <strong style=\"color:#cdcd00\">glamorous-terrain-4</strong> to <a href=\"https://wandb.ai\" target=\"_blank\">Weights & Biases</a> <a href=\"https://docs.wandb.com/integrations/jupyter.html\" target=\"_blank\">(Documentation)</a>.<br/>\n                Project page: <a href=\"https://wandb.ai/supervisedlearning/CNN%20All%20kf%20experiments\" target=\"_blank\">https://wandb.ai/supervisedlearning/CNN%20All%20kf%20experiments</a><br/>\n                Run page: <a href=\"https://wandb.ai/supervisedlearning/CNN%20All%20kf%20experiments/runs/1da662ym\" target=\"_blank\">https://wandb.ai/supervisedlearning/CNN%20All%20kf%20experiments/runs/1da662ym</a><br/>\n                Run data is saved locally in <code>wandb\\run-20201203_164324-1da662ym</code><br/><br/>\n            "
     },
     "metadata": {}
    },
    {
     "output_type": "stream",
     "name": "stdout",
     "text": [
      "Train on 8721 samples, validate on 969 samples\n",
      "Epoch 1/50\n",
      "8721/8721 [==============================] - 4s 463us/sample - loss: 0.7974 - accuracy: 0.7362 - val_loss: 1.0953 - val_accuracy: 0.6316\n",
      "Epoch 2/50\n",
      "8721/8721 [==============================] - 2s 186us/sample - loss: 0.1371 - accuracy: 0.9625 - val_loss: 0.6189 - val_accuracy: 0.8462\n",
      "Epoch 3/50\n",
      "8721/8721 [==============================] - 2s 180us/sample - loss: 0.0801 - accuracy: 0.9783 - val_loss: 0.8301 - val_accuracy: 0.8235\n",
      "Epoch 4/50\n",
      "8721/8721 [==============================] - 2s 177us/sample - loss: 0.0623 - accuracy: 0.9854 - val_loss: 1.9534 - val_accuracy: 0.7781\n",
      "Epoch 5/50\n",
      "8721/8721 [==============================] - 2s 185us/sample - loss: 0.0582 - accuracy: 0.9875 - val_loss: 0.9250 - val_accuracy: 0.8885\n",
      "Epoch 6/50\n",
      "8721/8721 [==============================] - 2s 181us/sample - loss: 0.0474 - accuracy: 0.9904 - val_loss: 0.8133 - val_accuracy: 0.8865\n",
      "Epoch 7/50\n",
      "8721/8721 [==============================] - 2s 181us/sample - loss: 0.0403 - accuracy: 0.9923 - val_loss: 0.7304 - val_accuracy: 0.8989\n",
      "Epoch 8/50\n",
      "8721/8721 [==============================] - 2s 186us/sample - loss: 0.0369 - accuracy: 0.9945 - val_loss: 1.6077 - val_accuracy: 0.8442\n",
      "Epoch 9/50\n",
      "8721/8721 [==============================] - 2s 185us/sample - loss: 0.0322 - accuracy: 0.9951 - val_loss: 0.8877 - val_accuracy: 0.9082\n",
      "Epoch 10/50\n",
      "8721/8721 [==============================] - 2s 180us/sample - loss: 0.0289 - accuracy: 0.9946 - val_loss: 1.3679 - val_accuracy: 0.8896\n",
      "Epoch 11/50\n",
      "8721/8721 [==============================] - 2s 183us/sample - loss: 0.0232 - accuracy: 0.9964 - val_loss: 0.8520 - val_accuracy: 0.9164\n",
      "Epoch 12/50\n",
      "8721/8721 [==============================] - 2s 189us/sample - loss: 0.0270 - accuracy: 0.9956 - val_loss: 0.9399 - val_accuracy: 0.9154\n",
      "Epoch 13/50\n",
      "8721/8721 [==============================] - 2s 197us/sample - loss: 0.0431 - accuracy: 0.9948 - val_loss: 0.6250 - val_accuracy: 0.9546\n",
      "Epoch 14/50\n",
      "8721/8721 [==============================] - 2s 186us/sample - loss: 0.0230 - accuracy: 0.9964 - val_loss: 1.3366 - val_accuracy: 0.8885\n",
      "Epoch 15/50\n",
      "8721/8721 [==============================] - 2s 192us/sample - loss: 0.0116 - accuracy: 0.9976 - val_loss: 0.8728 - val_accuracy: 0.9288\n",
      "Epoch 16/50\n",
      "8721/8721 [==============================] - 2s 180us/sample - loss: 0.0243 - accuracy: 0.9972 - val_loss: 3.6929 - val_accuracy: 0.7895\n",
      "Epoch 17/50\n",
      "8721/8721 [==============================] - 2s 182us/sample - loss: 0.0319 - accuracy: 0.9970 - val_loss: 1.1475 - val_accuracy: 0.8999\n",
      "Epoch 18/50\n",
      "8721/8721 [==============================] - 2s 179us/sample - loss: 0.0048 - accuracy: 0.9991 - val_loss: 0.8296 - val_accuracy: 0.9257\n",
      "Epoch 19/50\n",
      "8721/8721 [==============================] - 2s 181us/sample - loss: 0.0368 - accuracy: 0.9964 - val_loss: 0.6663 - val_accuracy: 0.9236\n",
      "Epoch 20/50\n",
      "8721/8721 [==============================] - 2s 195us/sample - loss: 0.0302 - accuracy: 0.9971 - val_loss: 1.3849 - val_accuracy: 0.8916\n",
      "Epoch 21/50\n",
      "8721/8721 [==============================] - 2s 181us/sample - loss: 0.0209 - accuracy: 0.9981 - val_loss: 0.7094 - val_accuracy: 0.9536\n",
      "Epoch 22/50\n",
      "8721/8721 [==============================] - 2s 188us/sample - loss: 0.0192 - accuracy: 0.9981 - val_loss: 0.5519 - val_accuracy: 0.9659\n",
      "Epoch 23/50\n",
      "8721/8721 [==============================] - 2s 188us/sample - loss: 0.0167 - accuracy: 0.9981 - val_loss: 1.9305 - val_accuracy: 0.9051\n",
      "Epoch 24/50\n",
      "8721/8721 [==============================] - 2s 180us/sample - loss: 0.0313 - accuracy: 0.9967 - val_loss: 1.3309 - val_accuracy: 0.8937\n",
      "Epoch 25/50\n",
      "8721/8721 [==============================] - 2s 188us/sample - loss: 0.0154 - accuracy: 0.9984 - val_loss: 1.4008 - val_accuracy: 0.9288\n",
      "Epoch 26/50\n",
      "8721/8721 [==============================] - 2s 190us/sample - loss: 0.0086 - accuracy: 0.9984 - val_loss: 2.7463 - val_accuracy: 0.8700\n",
      "Epoch 27/50\n",
      "8721/8721 [==============================] - 2s 180us/sample - loss: 0.0139 - accuracy: 0.9987 - val_loss: 1.2568 - val_accuracy: 0.9257\n",
      "Epoch 28/50\n",
      "8721/8721 [==============================] - 2s 187us/sample - loss: 0.0264 - accuracy: 0.9975 - val_loss: 1.1391 - val_accuracy: 0.9030\n",
      "Epoch 29/50\n",
      "8721/8721 [==============================] - 2s 189us/sample - loss: 0.0197 - accuracy: 0.9982 - val_loss: 1.5704 - val_accuracy: 0.8958\n",
      "Epoch 30/50\n",
      "8721/8721 [==============================] - 2s 186us/sample - loss: 0.0163 - accuracy: 0.9979 - val_loss: 1.1163 - val_accuracy: 0.9463\n",
      "Epoch 31/50\n",
      "8721/8721 [==============================] - 2s 181us/sample - loss: 0.0090 - accuracy: 0.9993 - val_loss: 2.1041 - val_accuracy: 0.9154\n",
      "Epoch 32/50\n",
      "8721/8721 [==============================] - 2s 182us/sample - loss: 0.0078 - accuracy: 0.9992 - val_loss: 1.1071 - val_accuracy: 0.9463\n",
      "Epoch 33/50\n",
      "8721/8721 [==============================] - 2s 186us/sample - loss: 0.0256 - accuracy: 0.9978 - val_loss: 0.8617 - val_accuracy: 0.9319\n",
      "Epoch 34/50\n",
      "8721/8721 [==============================] - 2s 187us/sample - loss: 0.0203 - accuracy: 0.9976 - val_loss: 1.6478 - val_accuracy: 0.9133\n",
      "Epoch 35/50\n",
      "8721/8721 [==============================] - 2s 184us/sample - loss: 0.0081 - accuracy: 0.9990 - val_loss: 1.7621 - val_accuracy: 0.9123\n",
      "Epoch 36/50\n",
      "8721/8721 [==============================] - 2s 183us/sample - loss: 0.0268 - accuracy: 0.9982 - val_loss: 2.7588 - val_accuracy: 0.8741\n",
      "Epoch 37/50\n",
      "8721/8721 [==============================] - 2s 184us/sample - loss: 0.0141 - accuracy: 0.9986 - val_loss: 1.1762 - val_accuracy: 0.9515\n",
      "Epoch 38/50\n",
      "8721/8721 [==============================] - 2s 185us/sample - loss: 0.0024 - accuracy: 0.9997 - val_loss: 3.0056 - val_accuracy: 0.8720\n",
      "Epoch 39/50\n",
      "8721/8721 [==============================] - 2s 181us/sample - loss: 0.0185 - accuracy: 0.9990 - val_loss: 1.6347 - val_accuracy: 0.9174\n",
      "Epoch 40/50\n",
      "8721/8721 [==============================] - 2s 182us/sample - loss: 0.0154 - accuracy: 0.9987 - val_loss: 1.3712 - val_accuracy: 0.8937\n",
      "Epoch 41/50\n",
      "8721/8721 [==============================] - 2s 180us/sample - loss: 0.0167 - accuracy: 0.9984 - val_loss: 0.9412 - val_accuracy: 0.9515\n",
      "Epoch 42/50\n",
      "8721/8721 [==============================] - 2s 188us/sample - loss: 0.0190 - accuracy: 0.9981 - val_loss: 0.6885 - val_accuracy: 0.9536\n",
      "Epoch 43/50\n",
      "8721/8721 [==============================] - 2s 181us/sample - loss: 0.0205 - accuracy: 0.9984 - val_loss: 1.1215 - val_accuracy: 0.9432\n",
      "Epoch 44/50\n",
      "8721/8721 [==============================] - 2s 180us/sample - loss: 0.0083 - accuracy: 0.9990 - val_loss: 2.6654 - val_accuracy: 0.9030\n",
      "Epoch 45/50\n",
      "8721/8721 [==============================] - 2s 189us/sample - loss: 0.0111 - accuracy: 0.9991 - val_loss: 2.0420 - val_accuracy: 0.9185\n",
      "Epoch 46/50\n",
      "8721/8721 [==============================] - 2s 183us/sample - loss: 0.0103 - accuracy: 0.9990 - val_loss: 1.8580 - val_accuracy: 0.9112\n",
      "Epoch 47/50\n",
      "8721/8721 [==============================] - 2s 183us/sample - loss: 0.0125 - accuracy: 0.9992 - val_loss: 1.8167 - val_accuracy: 0.9309\n",
      "Epoch 48/50\n",
      "8721/8721 [==============================] - 2s 181us/sample - loss: 0.0109 - accuracy: 0.9992 - val_loss: 1.5531 - val_accuracy: 0.9102\n",
      "Epoch 49/50\n",
      "8721/8721 [==============================] - 2s 182us/sample - loss: 1.1091e-06 - accuracy: 1.0000 - val_loss: 1.5407 - val_accuracy: 0.9463\n",
      "Epoch 50/50\n",
      "8721/8721 [==============================] - 2s 185us/sample - loss: 0.0013 - accuracy: 0.9999 - val_loss: 1.4482 - val_accuracy: 0.9298\n"
     ]
    },
    {
     "output_type": "display_data",
     "data": {
      "text/plain": "<IPython.core.display.HTML object>",
      "text/html": "<br/>Waiting for W&B process to finish, PID 16968<br/>Program failed with code 1.  Press ctrl-c to abort syncing."
     },
     "metadata": {}
    },
    {
     "output_type": "display_data",
     "data": {
      "text/plain": "<IPython.core.display.HTML object>",
      "text/html": "Find user logs for this run at: <code>wandb\\run-20201203_164324-1da662ym\\logs\\debug.log</code>"
     },
     "metadata": {}
    },
    {
     "output_type": "display_data",
     "data": {
      "text/plain": "<IPython.core.display.HTML object>",
      "text/html": "Find internal logs for this run at: <code>wandb\\run-20201203_164324-1da662ym\\logs\\debug-internal.log</code>"
     },
     "metadata": {}
    },
    {
     "output_type": "display_data",
     "data": {
      "text/plain": "<IPython.core.display.HTML object>",
      "text/html": "<h3>Run summary:</h3><br/><style>\n    table.wandb td:nth-child(1) { padding: 0 10px; text-align: right }\n    </style><table class=\"wandb\">\n<tr><td>epoch</td><td>49</td></tr><tr><td>loss</td><td>0.00129</td></tr><tr><td>accuracy</td><td>0.99989</td></tr><tr><td>val_loss</td><td>1.44822</td></tr><tr><td>val_accuracy</td><td>0.92982</td></tr><tr><td>_step</td><td>49</td></tr><tr><td>_runtime</td><td>84</td></tr><tr><td>_timestamp</td><td>1607013888</td></tr><tr><td>best_val_loss</td><td>0.55189</td></tr><tr><td>best_epoch</td><td>21</td></tr></table>"
     },
     "metadata": {}
    },
    {
     "output_type": "display_data",
     "data": {
      "text/plain": "<IPython.core.display.HTML object>",
      "text/html": "<h3>Run history:</h3><br/><style>\n    table.wandb td:nth-child(1) { padding: 0 10px; text-align: right }\n    </style><table class=\"wandb\">\n<tr><td>epoch</td><td>▁▁▁▁▂▂▂▂▂▃▃▃▃▃▃▄▄▄▄▄▅▅▅▅▅▅▆▆▆▆▆▆▇▇▇▇▇███</td></tr><tr><td>loss</td><td>█▂▂▂▁▁▁▁▁▁▁▁▁▁▁▁▁▁▁▁▁▁▁▁▁▁▁▁▁▁▁▁▁▁▁▁▁▁▁▁</td></tr><tr><td>accuracy</td><td>▁▇▇█████████████████████████████████████</td></tr><tr><td>val_loss</td><td>▂▁▂▄▂▁▃▂▂▂▁▃█▂▂▁▁▁▄▃▆▃▂▃▄▂▂▃▆▂▆▃▂▁▂▆▄▄▃▃</td></tr><tr><td>val_accuracy</td><td>▁▅▅▄▆▇▅▇▇▇█▆▄▇▇▇██▇▆▆▇▇▇▇█▇▇▆█▆▇███▇▇▇▇▇</td></tr><tr><td>_step</td><td>▁▁▁▁▂▂▂▂▂▃▃▃▃▃▃▄▄▄▄▄▅▅▅▅▅▅▆▆▆▆▆▆▇▇▇▇▇███</td></tr><tr><td>_runtime</td><td>▁▁▁▁▂▂▂▂▂▃▃▃▃▃▃▄▄▄▄▄▅▅▅▅▅▆▆▆▆▆▆▆▇▇▇▇▇███</td></tr><tr><td>_timestamp</td><td>▁▁▁▁▂▂▂▂▂▃▃▃▃▃▃▄▄▄▄▄▅▅▅▅▅▆▆▆▆▆▆▆▇▇▇▇▇███</td></tr></table><br/>"
     },
     "metadata": {}
    },
    {
     "output_type": "display_data",
     "data": {
      "text/plain": "<IPython.core.display.HTML object>",
      "text/html": "Synced 5 W&B file(s), 1 media file(s), 0 artifact file(s) and 1 other file(s)"
     },
     "metadata": {}
    },
    {
     "output_type": "display_data",
     "data": {
      "text/plain": "<IPython.core.display.HTML object>",
      "text/html": "\n                    <br/>Synced <strong style=\"color:#cdcd00\">glamorous-terrain-4</strong>: <a href=\"https://wandb.ai/supervisedlearning/CNN%20All%20kf%20experiments/runs/1da662ym\" target=\"_blank\">https://wandb.ai/supervisedlearning/CNN%20All%20kf%20experiments/runs/1da662ym</a><br/>\n                "
     },
     "metadata": {}
    },
    {
     "output_type": "error",
     "ename": "ValueError",
     "evalue": "Classification metrics can't handle a mix of multiclass and continuous-multioutput targets",
     "traceback": [
      "\u001b[1;31m---------------------------------------------------------------------------\u001b[0m",
      "\u001b[1;31mValueError\u001b[0m                                Traceback (most recent call last)",
      "\u001b[1;32m<ipython-input-6-e02c2348fe49>\u001b[0m in \u001b[0;36m<module>\u001b[1;34m\u001b[0m\n\u001b[0;32m      1\u001b[0m \u001b[0mexperiment\u001b[0m \u001b[1;33m=\u001b[0m \u001b[1;34m'{} All kf experiments'\u001b[0m\u001b[1;33m.\u001b[0m\u001b[0mformat\u001b[0m\u001b[1;33m(\u001b[0m\u001b[0mclassifier_name\u001b[0m\u001b[1;33m)\u001b[0m\u001b[1;33m\u001b[0m\u001b[1;33m\u001b[0m\u001b[0m\n\u001b[1;32m----> 2\u001b[1;33m \u001b[0mall_kf\u001b[0m \u001b[1;33m=\u001b[0m \u001b[0mce\u001b[0m\u001b[1;33m.\u001b[0m\u001b[0mrun_all_KF_experiments\u001b[0m\u001b[1;33m(\u001b[0m\u001b[0mclassifier\u001b[0m\u001b[1;33m,\u001b[0m \u001b[0mclassifier_name\u001b[0m\u001b[1;33m=\u001b[0m\u001b[0mclassifier_name\u001b[0m\u001b[1;33m,\u001b[0m \u001b[0mexperiment_name\u001b[0m\u001b[1;33m=\u001b[0m\u001b[0mexperiment\u001b[0m\u001b[1;33m)\u001b[0m\u001b[1;33m\u001b[0m\u001b[1;33m\u001b[0m\u001b[0m\n\u001b[0m",
      "\u001b[1;32md:\\GitProjects\\SupervisedLearningCW\\Tasks\\SupervisedLearning\\Experiments\\CNNExperments.py\u001b[0m in \u001b[0;36mrun_all_KF_experiments\u001b[1;34m(classifier, classifier_name, experiment_range, experiment_name)\u001b[0m\n\u001b[0;32m     47\u001b[0m             \u001b[0mclass_labels\u001b[0m \u001b[1;33m=\u001b[0m \u001b[0mbinary_labels\u001b[0m\u001b[1;33m\u001b[0m\u001b[1;33m\u001b[0m\u001b[0m\n\u001b[0;32m     48\u001b[0m         train_s, test_s = run_KFold_experiment(classifier, X_train, y_train, cnn_model_name=classifier_name,\n\u001b[1;32m---> 49\u001b[1;33m                                                classes_desc=class_title, class_labels=class_labels, stratified=True, custom_name=experiment_name)\n\u001b[0m\u001b[0;32m     50\u001b[0m         \u001b[0mtrain_scores\u001b[0m\u001b[1;33m.\u001b[0m\u001b[0mappend\u001b[0m\u001b[1;33m(\u001b[0m\u001b[0mtrain_s\u001b[0m\u001b[1;33m)\u001b[0m\u001b[1;33m\u001b[0m\u001b[1;33m\u001b[0m\u001b[0m\n\u001b[0;32m     51\u001b[0m         \u001b[0mtest_scores\u001b[0m\u001b[1;33m.\u001b[0m\u001b[0mappend\u001b[0m\u001b[1;33m(\u001b[0m\u001b[0mtest_s\u001b[0m\u001b[1;33m)\u001b[0m\u001b[1;33m\u001b[0m\u001b[1;33m\u001b[0m\u001b[0m\n",
      "\u001b[1;32md:\\GitProjects\\SupervisedLearningCW\\Tasks\\SupervisedLearning\\Experiments\\CNNExperments.py\u001b[0m in \u001b[0;36mrun_KFold_experiment\u001b[1;34m(cnn_model, X, y, cnn_model_name, classes_desc, class_labels, stratified, balance_classes, n_splits, random_state, custom_name, **kwargs)\u001b[0m\n\u001b[0;32m    120\u001b[0m \u001b[1;33m\u001b[0m\u001b[0m\n\u001b[0;32m    121\u001b[0m             wandb.log({'Final Accuracy': accuracy_score(\n\u001b[1;32m--> 122\u001b[1;33m                 y_test, y_pred), 'Label_class': classes_desc})\n\u001b[0m\u001b[0;32m    123\u001b[0m             \u001b[1;31m#wandb.sklearn.plot_confusion_matrix(y_test, y_pred, class_labels)\u001b[0m\u001b[1;33m\u001b[0m\u001b[1;33m\u001b[0m\u001b[1;33m\u001b[0m\u001b[0m\n\u001b[0;32m    124\u001b[0m \u001b[1;33m\u001b[0m\u001b[0m\n",
      "\u001b[1;32m~\\.conda\\envs\\suplearn\\lib\\site-packages\\sklearn\\utils\\validation.py\u001b[0m in \u001b[0;36minner_f\u001b[1;34m(*args, **kwargs)\u001b[0m\n\u001b[0;32m     70\u001b[0m                           FutureWarning)\n\u001b[0;32m     71\u001b[0m         \u001b[0mkwargs\u001b[0m\u001b[1;33m.\u001b[0m\u001b[0mupdate\u001b[0m\u001b[1;33m(\u001b[0m\u001b[1;33m{\u001b[0m\u001b[0mk\u001b[0m\u001b[1;33m:\u001b[0m \u001b[0marg\u001b[0m \u001b[1;32mfor\u001b[0m \u001b[0mk\u001b[0m\u001b[1;33m,\u001b[0m \u001b[0marg\u001b[0m \u001b[1;32min\u001b[0m \u001b[0mzip\u001b[0m\u001b[1;33m(\u001b[0m\u001b[0msig\u001b[0m\u001b[1;33m.\u001b[0m\u001b[0mparameters\u001b[0m\u001b[1;33m,\u001b[0m \u001b[0margs\u001b[0m\u001b[1;33m)\u001b[0m\u001b[1;33m}\u001b[0m\u001b[1;33m)\u001b[0m\u001b[1;33m\u001b[0m\u001b[1;33m\u001b[0m\u001b[0m\n\u001b[1;32m---> 72\u001b[1;33m         \u001b[1;32mreturn\u001b[0m \u001b[0mf\u001b[0m\u001b[1;33m(\u001b[0m\u001b[1;33m**\u001b[0m\u001b[0mkwargs\u001b[0m\u001b[1;33m)\u001b[0m\u001b[1;33m\u001b[0m\u001b[1;33m\u001b[0m\u001b[0m\n\u001b[0m\u001b[0;32m     73\u001b[0m     \u001b[1;32mreturn\u001b[0m \u001b[0minner_f\u001b[0m\u001b[1;33m\u001b[0m\u001b[1;33m\u001b[0m\u001b[0m\n\u001b[0;32m     74\u001b[0m \u001b[1;33m\u001b[0m\u001b[0m\n",
      "\u001b[1;32m~\\.conda\\envs\\suplearn\\lib\\site-packages\\sklearn\\metrics\\_classification.py\u001b[0m in \u001b[0;36maccuracy_score\u001b[1;34m(y_true, y_pred, normalize, sample_weight)\u001b[0m\n\u001b[0;32m    185\u001b[0m \u001b[1;33m\u001b[0m\u001b[0m\n\u001b[0;32m    186\u001b[0m     \u001b[1;31m# Compute accuracy for each possible representation\u001b[0m\u001b[1;33m\u001b[0m\u001b[1;33m\u001b[0m\u001b[1;33m\u001b[0m\u001b[0m\n\u001b[1;32m--> 187\u001b[1;33m     \u001b[0my_type\u001b[0m\u001b[1;33m,\u001b[0m \u001b[0my_true\u001b[0m\u001b[1;33m,\u001b[0m \u001b[0my_pred\u001b[0m \u001b[1;33m=\u001b[0m \u001b[0m_check_targets\u001b[0m\u001b[1;33m(\u001b[0m\u001b[0my_true\u001b[0m\u001b[1;33m,\u001b[0m \u001b[0my_pred\u001b[0m\u001b[1;33m)\u001b[0m\u001b[1;33m\u001b[0m\u001b[1;33m\u001b[0m\u001b[0m\n\u001b[0m\u001b[0;32m    188\u001b[0m     \u001b[0mcheck_consistent_length\u001b[0m\u001b[1;33m(\u001b[0m\u001b[0my_true\u001b[0m\u001b[1;33m,\u001b[0m \u001b[0my_pred\u001b[0m\u001b[1;33m,\u001b[0m \u001b[0msample_weight\u001b[0m\u001b[1;33m)\u001b[0m\u001b[1;33m\u001b[0m\u001b[1;33m\u001b[0m\u001b[0m\n\u001b[0;32m    189\u001b[0m     \u001b[1;32mif\u001b[0m \u001b[0my_type\u001b[0m\u001b[1;33m.\u001b[0m\u001b[0mstartswith\u001b[0m\u001b[1;33m(\u001b[0m\u001b[1;34m'multilabel'\u001b[0m\u001b[1;33m)\u001b[0m\u001b[1;33m:\u001b[0m\u001b[1;33m\u001b[0m\u001b[1;33m\u001b[0m\u001b[0m\n",
      "\u001b[1;32m~\\.conda\\envs\\suplearn\\lib\\site-packages\\sklearn\\metrics\\_classification.py\u001b[0m in \u001b[0;36m_check_targets\u001b[1;34m(y_true, y_pred)\u001b[0m\n\u001b[0;32m     89\u001b[0m     \u001b[1;32mif\u001b[0m \u001b[0mlen\u001b[0m\u001b[1;33m(\u001b[0m\u001b[0my_type\u001b[0m\u001b[1;33m)\u001b[0m \u001b[1;33m>\u001b[0m \u001b[1;36m1\u001b[0m\u001b[1;33m:\u001b[0m\u001b[1;33m\u001b[0m\u001b[1;33m\u001b[0m\u001b[0m\n\u001b[0;32m     90\u001b[0m         raise ValueError(\"Classification metrics can't handle a mix of {0} \"\n\u001b[1;32m---> 91\u001b[1;33m                          \"and {1} targets\".format(type_true, type_pred))\n\u001b[0m\u001b[0;32m     92\u001b[0m \u001b[1;33m\u001b[0m\u001b[0m\n\u001b[0;32m     93\u001b[0m     \u001b[1;31m# We can't have more than one value on y_type => The set is no more needed\u001b[0m\u001b[1;33m\u001b[0m\u001b[1;33m\u001b[0m\u001b[1;33m\u001b[0m\u001b[0m\n",
      "\u001b[1;31mValueError\u001b[0m: Classification metrics can't handle a mix of multiclass and continuous-multioutput targets"
     ]
    }
   ],
   "source": [
    "experiment = '{} All kf experiments'.format(classifier_name)\n",
    "all_kf = ce.run_all_KF_experiments(classifier, classifier_name=classifier_name, experiment_name=experiment)"
   ]
  },
  {
   "cell_type": "code",
   "execution_count": null,
   "metadata": {},
   "outputs": [],
   "source": []
  },
  {
   "cell_type": "code",
   "execution_count": 7,
   "metadata": {},
   "outputs": [
    {
     "output_type": "execute_result",
     "data": {
      "text/plain": [
       "{'status': 'ok', 'restart': True}"
      ]
     },
     "metadata": {},
     "execution_count": 7
    }
   ],
   "source": [
    "import IPython\n",
    "app = IPython.Application.instance()\n",
    "app.kernel.do_shutdown(True)"
   ]
  },
  {
   "cell_type": "code",
   "execution_count": null,
   "metadata": {},
   "outputs": [],
   "source": []
  }
 ],
 "metadata": {
  "language_info": {
   "codemirror_mode": {
    "name": "ipython",
    "version": 3
   },
   "file_extension": ".py",
   "mimetype": "text/x-python",
   "name": "python",
   "nbconvert_exporter": "python",
   "pygments_lexer": "ipython3",
   "version": "3.7.9-final"
  },
  "kernelspec": {
   "name": "python3",
   "display_name": "Python 3.7.9 64-bit ('suplearn': conda)",
   "metadata": {
    "interpreter": {
     "hash": "f669ade7ac486071bd60c2fa29ee3295826785883e735477c7c16f13d8637a87"
    }
   }
  }
 },
 "nbformat": 4,
 "nbformat_minor": 4
}