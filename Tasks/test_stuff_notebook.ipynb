{
 "cells": [
  {
   "cell_type": "code",
   "execution_count": 8,
   "metadata": {},
   "outputs": [],
   "source": [
    "import wandb\n",
    "import numpy as np\n",
    "import matplotlib.pyplot as plt\n",
    "from matplotlib.patches import Patch\n",
    "from sklearn.model_selection import (TimeSeriesSplit, KFold, ShuffleSplit,\n",
    "                                     StratifiedKFold, GroupShuffleSplit,\n",
    "                                     GroupKFold, StratifiedShuffleSplit)\n",
    "from sklearn.metrics import accuracy_score\n",
    "from sklearn.model_selection import train_test_split"
   ]
  },
  {
   "cell_type": "code",
   "execution_count": 4,
   "metadata": {},
   "outputs": [],
   "source": [
    "import SupervisedLearning.Experiments.RunExperiments as re\n",
    "import SupervisedLearning.Experiments.GetData as gd\n",
    "import SupervisedLearning.Experiments.visualizeData as vd\n",
    "import SupervisedLearning.NeuralNetworks.MultiLayerPerceptron as mlp\n",
    "%load_ext autoreload\n",
    "%autoreload 2"
   ]
  },
  {
   "cell_type": "code",
   "execution_count": 5,
   "metadata": {},
   "outputs": [],
   "source": [
    "X_train, y_train = gd.get_data()"
   ]
  },
  {
   "cell_type": "code",
   "execution_count": 6,
   "metadata": {},
   "outputs": [],
   "source": [
    "X_test, y_test = gd.get_data(train=False)"
   ]
  },
  {
   "cell_type": "code",
   "execution_count": 7,
   "metadata": {},
   "outputs": [],
   "source": [
    "perceptron = mlp.MultiLayerPerceptron(random_state=0, max_iter=300, hidden_layer_sizes=150)"
   ]
  },
  {
   "cell_type": "code",
   "execution_count": 74,
   "metadata": {},
   "outputs": [
    {
     "output_type": "stream",
     "name": "stderr",
     "text": [
      "wandb: wandb version 0.10.10 is available!  To upgrade, please run:\nwandb:  $ pip install wandb --upgrade\n"
     ]
    },
    {
     "output_type": "display_data",
     "data": {
      "text/plain": "<IPython.core.display.HTML object>",
      "text/html": "\n                Tracking run with wandb version 0.10.8<br/>\n                Syncing run <strong style=\"color:#cdcd00\">royal-lion-1</strong> to <a href=\"https://wandb.ai\" target=\"_blank\">Weights & Biases</a> <a href=\"https://docs.wandb.com/integrations/jupyter.html\" target=\"_blank\">(Documentation)</a>.<br/>\n                Project page: <a href=\"https://wandb.ai/samfh/SL-KFolds_Speed-limit-30_classifer-MLP_stratified-True\" target=\"_blank\">https://wandb.ai/samfh/SL-KFolds_Speed-limit-30_classifer-MLP_stratified-True</a><br/>\n                Run page: <a href=\"https://wandb.ai/samfh/SL-KFolds_Speed-limit-30_classifer-MLP_stratified-True/runs/2vphn6r8\" target=\"_blank\">https://wandb.ai/samfh/SL-KFolds_Speed-limit-30_classifer-MLP_stratified-True/runs/2vphn6r8</a><br/>\n                Run data is saved locally in <code>wandb\\run-20201116_165238-2vphn6r8</code><br/><br/>\n            "
     },
     "metadata": {}
    },
    {
     "output_type": "stream",
     "name": "stderr",
     "text": [
      "wandb: \n",
      "wandb: Plotting MLP.\n",
      "wandb: WARNING feature_importances_ or coef_ attribute not in classifier. Cannot plot feature importances.\n",
      "wandb: Logged feature importances.\n",
      "wandb: Logged learning curve.\n",
      "wandb: Logged confusion matrix.\n",
      "wandb: Logged summary metrics.\n",
      "wandb: Logged class proportions.\n",
      "wandb: Logged calibration curve.\n",
      "wandb: Logged roc curve.\n",
      "wandb: Logged precision recall curve.\n"
     ]
    },
    {
     "output_type": "display_data",
     "data": {
      "text/plain": "<IPython.core.display.HTML object>",
      "text/html": "<br/>Waiting for W&B process to finish, PID 22128<br/>Program ended successfully."
     },
     "metadata": {}
    },
    {
     "output_type": "display_data",
     "data": {
      "text/plain": "<IPython.core.display.HTML object>",
      "text/html": "Find user logs for this run at: <code>wandb\\run-20201116_165238-2vphn6r8\\logs\\debug.log</code>"
     },
     "metadata": {}
    },
    {
     "output_type": "display_data",
     "data": {
      "text/plain": "<IPython.core.display.HTML object>",
      "text/html": "Find internal logs for this run at: <code>wandb\\run-20201116_165238-2vphn6r8\\logs\\debug-internal.log</code>"
     },
     "metadata": {}
    },
    {
     "output_type": "display_data",
     "data": {
      "text/plain": "<IPython.core.display.HTML object>",
      "text/html": "<h3>Run summary:</h3><br/><style>\n    table.wandb td:nth-child(1) { padding: 0 10px; text-align: right }\n    </style><table class=\"wandb\">\n<tr><td>_step</td><td>6</td></tr><tr><td>_runtime</td><td>509</td></tr><tr><td>_timestamp</td><td>1605546067</td></tr></table>"
     },
     "metadata": {}
    },
    {
     "output_type": "display_data",
     "data": {
      "text/plain": "<IPython.core.display.HTML object>",
      "text/html": "<h3>Run history:</h3><br/><style>\n    table.wandb td:nth-child(1) { padding: 0 10px; text-align: right }\n    </style><table class=\"wandb\">\n<tr><td>_step</td><td>▁▂▃▅▆▇█</td></tr><tr><td>_runtime</td><td>▁▁▂▂███</td></tr><tr><td>_timestamp</td><td>▁▁▂▂███</td></tr></table><br/>"
     },
     "metadata": {}
    },
    {
     "output_type": "display_data",
     "data": {
      "text/plain": "<IPython.core.display.HTML object>",
      "text/html": "Synced 5 W&B file(s), 7 media file(s), 0 artifact file(s) and 0 other file(s)"
     },
     "metadata": {}
    },
    {
     "output_type": "display_data",
     "data": {
      "text/plain": "<IPython.core.display.HTML object>",
      "text/html": "\n                    <br/>Synced <strong style=\"color:#cdcd00\">royal-lion-1</strong>: <a href=\"https://wandb.ai/samfh/SL-KFolds_Speed-limit-30_classifer-MLP_stratified-True/runs/2vphn6r8\" target=\"_blank\">https://wandb.ai/samfh/SL-KFolds_Speed-limit-30_classifer-MLP_stratified-True/runs/2vphn6r8</a><br/>\n                "
     },
     "metadata": {}
    },
    {
     "output_type": "stream",
     "name": "stderr",
     "text": [
      "wandb: wandb version 0.10.10 is available!  To upgrade, please run:\nwandb:  $ pip install wandb --upgrade\n"
     ]
    },
    {
     "output_type": "display_data",
     "data": {
      "text/plain": "<IPython.core.display.HTML object>",
      "text/html": "\n                Tracking run with wandb version 0.10.8<br/>\n                Syncing run <strong style=\"color:#cdcd00\">toasty-morning-2</strong> to <a href=\"https://wandb.ai\" target=\"_blank\">Weights & Biases</a> <a href=\"https://docs.wandb.com/integrations/jupyter.html\" target=\"_blank\">(Documentation)</a>.<br/>\n                Project page: <a href=\"https://wandb.ai/samfh/SL-KFolds_Speed-limit-30_classifer-MLP_stratified-True\" target=\"_blank\">https://wandb.ai/samfh/SL-KFolds_Speed-limit-30_classifer-MLP_stratified-True</a><br/>\n                Run page: <a href=\"https://wandb.ai/samfh/SL-KFolds_Speed-limit-30_classifer-MLP_stratified-True/runs/3px25tbv\" target=\"_blank\">https://wandb.ai/samfh/SL-KFolds_Speed-limit-30_classifer-MLP_stratified-True/runs/3px25tbv</a><br/>\n                Run data is saved locally in <code>wandb\\run-20201116_170111-3px25tbv</code><br/><br/>\n            "
     },
     "metadata": {}
    },
    {
     "output_type": "stream",
     "name": "stderr",
     "text": [
      "wandb: \n",
      "wandb: Plotting MLP.\n",
      "wandb: WARNING feature_importances_ or coef_ attribute not in classifier. Cannot plot feature importances.\n",
      "wandb: Logged feature importances.\n",
      "wandb: Logged learning curve.\n",
      "wandb: Logged confusion matrix.\n",
      "wandb: Logged summary metrics.\n",
      "wandb: Logged class proportions.\n",
      "wandb: Logged calibration curve.\n",
      "wandb: Logged roc curve.\n",
      "wandb: Logged precision recall curve.\n"
     ]
    },
    {
     "output_type": "display_data",
     "data": {
      "text/plain": "<IPython.core.display.HTML object>",
      "text/html": "<br/>Waiting for W&B process to finish, PID 14476<br/>Program ended successfully."
     },
     "metadata": {}
    },
    {
     "output_type": "display_data",
     "data": {
      "text/plain": "<IPython.core.display.HTML object>",
      "text/html": "Find user logs for this run at: <code>wandb\\run-20201116_170111-3px25tbv\\logs\\debug.log</code>"
     },
     "metadata": {}
    },
    {
     "output_type": "display_data",
     "data": {
      "text/plain": "<IPython.core.display.HTML object>",
      "text/html": "Find internal logs for this run at: <code>wandb\\run-20201116_170111-3px25tbv\\logs\\debug-internal.log</code>"
     },
     "metadata": {}
    },
    {
     "output_type": "display_data",
     "data": {
      "text/plain": "<IPython.core.display.HTML object>",
      "text/html": "<h3>Run summary:</h3><br/><style>\n    table.wandb td:nth-child(1) { padding: 0 10px; text-align: right }\n    </style><table class=\"wandb\">\n<tr><td>_step</td><td>6</td></tr><tr><td>_runtime</td><td>475</td></tr><tr><td>_timestamp</td><td>1605546546</td></tr></table>"
     },
     "metadata": {}
    },
    {
     "output_type": "display_data",
     "data": {
      "text/plain": "<IPython.core.display.HTML object>",
      "text/html": "<h3>Run history:</h3><br/><style>\n    table.wandb td:nth-child(1) { padding: 0 10px; text-align: right }\n    </style><table class=\"wandb\">\n<tr><td>_step</td><td>▁▂▃▅▆▇█</td></tr><tr><td>_runtime</td><td>▁▁▃▃███</td></tr><tr><td>_timestamp</td><td>▁▁▃▃███</td></tr></table><br/>"
     },
     "metadata": {}
    },
    {
     "output_type": "display_data",
     "data": {
      "text/plain": "<IPython.core.display.HTML object>",
      "text/html": "Synced 5 W&B file(s), 7 media file(s), 0 artifact file(s) and 0 other file(s)"
     },
     "metadata": {}
    },
    {
     "output_type": "display_data",
     "data": {
      "text/plain": "<IPython.core.display.HTML object>",
      "text/html": "\n                    <br/>Synced <strong style=\"color:#cdcd00\">toasty-morning-2</strong>: <a href=\"https://wandb.ai/samfh/SL-KFolds_Speed-limit-30_classifer-MLP_stratified-True/runs/3px25tbv\" target=\"_blank\">https://wandb.ai/samfh/SL-KFolds_Speed-limit-30_classifer-MLP_stratified-True/runs/3px25tbv</a><br/>\n                "
     },
     "metadata": {}
    },
    {
     "output_type": "stream",
     "name": "stderr",
     "text": [
      "wandb: wandb version 0.10.10 is available!  To upgrade, please run:\nwandb:  $ pip install wandb --upgrade\n"
     ]
    },
    {
     "output_type": "display_data",
     "data": {
      "text/plain": "<IPython.core.display.HTML object>",
      "text/html": "\n                Tracking run with wandb version 0.10.8<br/>\n                Syncing run <strong style=\"color:#cdcd00\">vague-firebrand-3</strong> to <a href=\"https://wandb.ai\" target=\"_blank\">Weights & Biases</a> <a href=\"https://docs.wandb.com/integrations/jupyter.html\" target=\"_blank\">(Documentation)</a>.<br/>\n                Project page: <a href=\"https://wandb.ai/samfh/SL-KFolds_Speed-limit-30_classifer-MLP_stratified-True\" target=\"_blank\">https://wandb.ai/samfh/SL-KFolds_Speed-limit-30_classifer-MLP_stratified-True</a><br/>\n                Run page: <a href=\"https://wandb.ai/samfh/SL-KFolds_Speed-limit-30_classifer-MLP_stratified-True/runs/32vs5cij\" target=\"_blank\">https://wandb.ai/samfh/SL-KFolds_Speed-limit-30_classifer-MLP_stratified-True/runs/32vs5cij</a><br/>\n                Run data is saved locally in <code>wandb\\run-20201116_170911-32vs5cij</code><br/><br/>\n            "
     },
     "metadata": {}
    },
    {
     "output_type": "stream",
     "name": "stderr",
     "text": [
      "wandb: \n",
      "wandb: Plotting MLP.\n",
      "wandb: WARNING feature_importances_ or coef_ attribute not in classifier. Cannot plot feature importances.\n",
      "wandb: Logged feature importances.\n",
      "wandb: Logged learning curve.\n",
      "wandb: Logged confusion matrix.\n",
      "wandb: Logged summary metrics.\n",
      "wandb: Logged class proportions.\n",
      "wandb: Logged calibration curve.\n",
      "wandb: Logged roc curve.\n",
      "wandb: Logged precision recall curve.\n"
     ]
    },
    {
     "output_type": "display_data",
     "data": {
      "text/plain": "<IPython.core.display.HTML object>",
      "text/html": "<br/>Waiting for W&B process to finish, PID 15356<br/>Program ended successfully."
     },
     "metadata": {}
    },
    {
     "output_type": "display_data",
     "data": {
      "text/plain": "<IPython.core.display.HTML object>",
      "text/html": "Find user logs for this run at: <code>wandb\\run-20201116_170911-32vs5cij\\logs\\debug.log</code>"
     },
     "metadata": {}
    },
    {
     "output_type": "display_data",
     "data": {
      "text/plain": "<IPython.core.display.HTML object>",
      "text/html": "Find internal logs for this run at: <code>wandb\\run-20201116_170911-32vs5cij\\logs\\debug-internal.log</code>"
     },
     "metadata": {}
    },
    {
     "output_type": "display_data",
     "data": {
      "text/plain": "<IPython.core.display.HTML object>",
      "text/html": "<h3>Run summary:</h3><br/><style>\n    table.wandb td:nth-child(1) { padding: 0 10px; text-align: right }\n    </style><table class=\"wandb\">\n<tr><td>_step</td><td>6</td></tr><tr><td>_runtime</td><td>520</td></tr><tr><td>_timestamp</td><td>1605547071</td></tr></table>"
     },
     "metadata": {}
    },
    {
     "output_type": "display_data",
     "data": {
      "text/plain": "<IPython.core.display.HTML object>",
      "text/html": "<h3>Run history:</h3><br/><style>\n    table.wandb td:nth-child(1) { padding: 0 10px; text-align: right }\n    </style><table class=\"wandb\">\n<tr><td>_step</td><td>▁▂▃▅▆▇█</td></tr><tr><td>_runtime</td><td>▁▁▂▂███</td></tr><tr><td>_timestamp</td><td>▁▁▂▂███</td></tr></table><br/>"
     },
     "metadata": {}
    },
    {
     "output_type": "display_data",
     "data": {
      "text/plain": "<IPython.core.display.HTML object>",
      "text/html": "Synced 5 W&B file(s), 7 media file(s), 0 artifact file(s) and 0 other file(s)"
     },
     "metadata": {}
    },
    {
     "output_type": "display_data",
     "data": {
      "text/plain": "<IPython.core.display.HTML object>",
      "text/html": "\n                    <br/>Synced <strong style=\"color:#cdcd00\">vague-firebrand-3</strong>: <a href=\"https://wandb.ai/samfh/SL-KFolds_Speed-limit-30_classifer-MLP_stratified-True/runs/32vs5cij\" target=\"_blank\">https://wandb.ai/samfh/SL-KFolds_Speed-limit-30_classifer-MLP_stratified-True/runs/32vs5cij</a><br/>\n                "
     },
     "metadata": {}
    },
    {
     "output_type": "stream",
     "name": "stderr",
     "text": [
      "wandb: wandb version 0.10.10 is available!  To upgrade, please run:\nwandb:  $ pip install wandb --upgrade\n"
     ]
    },
    {
     "output_type": "display_data",
     "data": {
      "text/plain": "<IPython.core.display.HTML object>",
      "text/html": "\n                Tracking run with wandb version 0.10.8<br/>\n                Syncing run <strong style=\"color:#cdcd00\">prime-gorge-4</strong> to <a href=\"https://wandb.ai\" target=\"_blank\">Weights & Biases</a> <a href=\"https://docs.wandb.com/integrations/jupyter.html\" target=\"_blank\">(Documentation)</a>.<br/>\n                Project page: <a href=\"https://wandb.ai/samfh/SL-KFolds_Speed-limit-30_classifer-MLP_stratified-True\" target=\"_blank\">https://wandb.ai/samfh/SL-KFolds_Speed-limit-30_classifer-MLP_stratified-True</a><br/>\n                Run page: <a href=\"https://wandb.ai/samfh/SL-KFolds_Speed-limit-30_classifer-MLP_stratified-True/runs/2yra8cmk\" target=\"_blank\">https://wandb.ai/samfh/SL-KFolds_Speed-limit-30_classifer-MLP_stratified-True/runs/2yra8cmk</a><br/>\n                Run data is saved locally in <code>wandb\\run-20201116_171755-2yra8cmk</code><br/><br/>\n            "
     },
     "metadata": {}
    },
    {
     "output_type": "stream",
     "name": "stderr",
     "text": [
      "wandb: \n",
      "wandb: Plotting MLP.\n",
      "wandb: WARNING feature_importances_ or coef_ attribute not in classifier. Cannot plot feature importances.\n",
      "wandb: Logged feature importances.\n",
      "wandb: Logged learning curve.\n",
      "wandb: Logged confusion matrix.\n",
      "wandb: Logged summary metrics.\n",
      "wandb: Logged class proportions.\n",
      "wandb: Logged calibration curve.\n",
      "wandb: Logged roc curve.\n",
      "wandb: Logged precision recall curve.\n"
     ]
    },
    {
     "output_type": "display_data",
     "data": {
      "text/plain": "<IPython.core.display.HTML object>",
      "text/html": "<br/>Waiting for W&B process to finish, PID 18836<br/>Program ended successfully."
     },
     "metadata": {}
    },
    {
     "output_type": "display_data",
     "data": {
      "text/plain": "<IPython.core.display.HTML object>",
      "text/html": "Find user logs for this run at: <code>wandb\\run-20201116_171755-2yra8cmk\\logs\\debug.log</code>"
     },
     "metadata": {}
    },
    {
     "output_type": "display_data",
     "data": {
      "text/plain": "<IPython.core.display.HTML object>",
      "text/html": "Find internal logs for this run at: <code>wandb\\run-20201116_171755-2yra8cmk\\logs\\debug-internal.log</code>"
     },
     "metadata": {}
    },
    {
     "output_type": "display_data",
     "data": {
      "text/plain": "<IPython.core.display.HTML object>",
      "text/html": "<h3>Run summary:</h3><br/><style>\n    table.wandb td:nth-child(1) { padding: 0 10px; text-align: right }\n    </style><table class=\"wandb\">\n<tr><td>_step</td><td>6</td></tr><tr><td>_runtime</td><td>469</td></tr><tr><td>_timestamp</td><td>1605547544</td></tr></table>"
     },
     "metadata": {}
    },
    {
     "output_type": "display_data",
     "data": {
      "text/plain": "<IPython.core.display.HTML object>",
      "text/html": "<h3>Run history:</h3><br/><style>\n    table.wandb td:nth-child(1) { padding: 0 10px; text-align: right }\n    </style><table class=\"wandb\">\n<tr><td>_step</td><td>▁▂▃▅▆▇█</td></tr><tr><td>_runtime</td><td>▁▁▂▂███</td></tr><tr><td>_timestamp</td><td>▁▁▂▂███</td></tr></table><br/>"
     },
     "metadata": {}
    },
    {
     "output_type": "display_data",
     "data": {
      "text/plain": "<IPython.core.display.HTML object>",
      "text/html": "Synced 5 W&B file(s), 7 media file(s), 0 artifact file(s) and 0 other file(s)"
     },
     "metadata": {}
    },
    {
     "output_type": "display_data",
     "data": {
      "text/plain": "<IPython.core.display.HTML object>",
      "text/html": "\n                    <br/>Synced <strong style=\"color:#cdcd00\">prime-gorge-4</strong>: <a href=\"https://wandb.ai/samfh/SL-KFolds_Speed-limit-30_classifer-MLP_stratified-True/runs/2yra8cmk\" target=\"_blank\">https://wandb.ai/samfh/SL-KFolds_Speed-limit-30_classifer-MLP_stratified-True/runs/2yra8cmk</a><br/>\n                "
     },
     "metadata": {}
    },
    {
     "output_type": "stream",
     "name": "stderr",
     "text": [
      "wandb: wandb version 0.10.10 is available!  To upgrade, please run:\nwandb:  $ pip install wandb --upgrade\n"
     ]
    },
    {
     "output_type": "display_data",
     "data": {
      "text/plain": "<IPython.core.display.HTML object>",
      "text/html": "\n                Tracking run with wandb version 0.10.8<br/>\n                Syncing run <strong style=\"color:#cdcd00\">desert-sun-5</strong> to <a href=\"https://wandb.ai\" target=\"_blank\">Weights & Biases</a> <a href=\"https://docs.wandb.com/integrations/jupyter.html\" target=\"_blank\">(Documentation)</a>.<br/>\n                Project page: <a href=\"https://wandb.ai/samfh/SL-KFolds_Speed-limit-30_classifer-MLP_stratified-True\" target=\"_blank\">https://wandb.ai/samfh/SL-KFolds_Speed-limit-30_classifer-MLP_stratified-True</a><br/>\n                Run page: <a href=\"https://wandb.ai/samfh/SL-KFolds_Speed-limit-30_classifer-MLP_stratified-True/runs/3tccfep5\" target=\"_blank\">https://wandb.ai/samfh/SL-KFolds_Speed-limit-30_classifer-MLP_stratified-True/runs/3tccfep5</a><br/>\n                Run data is saved locally in <code>wandb\\run-20201116_172548-3tccfep5</code><br/><br/>\n            "
     },
     "metadata": {}
    },
    {
     "output_type": "stream",
     "name": "stderr",
     "text": [
      "wandb: \n",
      "wandb: Plotting MLP.\n",
      "wandb: WARNING feature_importances_ or coef_ attribute not in classifier. Cannot plot feature importances.\n",
      "wandb: Logged feature importances.\n",
      "wandb: Logged learning curve.\n",
      "wandb: Logged confusion matrix.\n",
      "wandb: Logged summary metrics.\n",
      "wandb: Logged class proportions.\n",
      "wandb: Logged calibration curve.\n",
      "wandb: Logged roc curve.\n",
      "wandb: Logged precision recall curve.\n"
     ]
    },
    {
     "output_type": "display_data",
     "data": {
      "text/plain": "<IPython.core.display.HTML object>",
      "text/html": "<br/>Waiting for W&B process to finish, PID 14832<br/>Program ended successfully."
     },
     "metadata": {}
    },
    {
     "output_type": "display_data",
     "data": {
      "text/plain": "<IPython.core.display.HTML object>",
      "text/html": "Find user logs for this run at: <code>wandb\\run-20201116_172548-3tccfep5\\logs\\debug.log</code>"
     },
     "metadata": {}
    },
    {
     "output_type": "display_data",
     "data": {
      "text/plain": "<IPython.core.display.HTML object>",
      "text/html": "Find internal logs for this run at: <code>wandb\\run-20201116_172548-3tccfep5\\logs\\debug-internal.log</code>"
     },
     "metadata": {}
    },
    {
     "output_type": "display_data",
     "data": {
      "text/plain": "<IPython.core.display.HTML object>",
      "text/html": "<h3>Run summary:</h3><br/><style>\n    table.wandb td:nth-child(1) { padding: 0 10px; text-align: right }\n    </style><table class=\"wandb\">\n<tr><td>_step</td><td>6</td></tr><tr><td>_runtime</td><td>493</td></tr><tr><td>_timestamp</td><td>1605548041</td></tr></table>"
     },
     "metadata": {}
    },
    {
     "output_type": "display_data",
     "data": {
      "text/plain": "<IPython.core.display.HTML object>",
      "text/html": "<h3>Run history:</h3><br/><style>\n    table.wandb td:nth-child(1) { padding: 0 10px; text-align: right }\n    </style><table class=\"wandb\">\n<tr><td>_step</td><td>▁▂▃▅▆▇█</td></tr><tr><td>_runtime</td><td>▁▁▃▃███</td></tr><tr><td>_timestamp</td><td>▁▁▃▃███</td></tr></table><br/>"
     },
     "metadata": {}
    },
    {
     "output_type": "display_data",
     "data": {
      "text/plain": "<IPython.core.display.HTML object>",
      "text/html": "Synced 5 W&B file(s), 7 media file(s), 0 artifact file(s) and 0 other file(s)"
     },
     "metadata": {}
    },
    {
     "output_type": "display_data",
     "data": {
      "text/plain": "<IPython.core.display.HTML object>",
      "text/html": "\n                    <br/>Synced <strong style=\"color:#cdcd00\">desert-sun-5</strong>: <a href=\"https://wandb.ai/samfh/SL-KFolds_Speed-limit-30_classifer-MLP_stratified-True/runs/3tccfep5\" target=\"_blank\">https://wandb.ai/samfh/SL-KFolds_Speed-limit-30_classifer-MLP_stratified-True/runs/3tccfep5</a><br/>\n                "
     },
     "metadata": {}
    },
    {
     "output_type": "stream",
     "name": "stderr",
     "text": [
      "wandb: wandb version 0.10.10 is available!  To upgrade, please run:\nwandb:  $ pip install wandb --upgrade\n"
     ]
    },
    {
     "output_type": "display_data",
     "data": {
      "text/plain": "<IPython.core.display.HTML object>",
      "text/html": "\n                Tracking run with wandb version 0.10.8<br/>\n                Syncing run <strong style=\"color:#cdcd00\">deft-dust-6</strong> to <a href=\"https://wandb.ai\" target=\"_blank\">Weights & Biases</a> <a href=\"https://docs.wandb.com/integrations/jupyter.html\" target=\"_blank\">(Documentation)</a>.<br/>\n                Project page: <a href=\"https://wandb.ai/samfh/SL-KFolds_Speed-limit-30_classifer-MLP_stratified-True\" target=\"_blank\">https://wandb.ai/samfh/SL-KFolds_Speed-limit-30_classifer-MLP_stratified-True</a><br/>\n                Run page: <a href=\"https://wandb.ai/samfh/SL-KFolds_Speed-limit-30_classifer-MLP_stratified-True/runs/1hb68jkj\" target=\"_blank\">https://wandb.ai/samfh/SL-KFolds_Speed-limit-30_classifer-MLP_stratified-True/runs/1hb68jkj</a><br/>\n                Run data is saved locally in <code>wandb\\run-20201116_173405-1hb68jkj</code><br/><br/>\n            "
     },
     "metadata": {}
    },
    {
     "output_type": "stream",
     "name": "stderr",
     "text": [
      "wandb: \n",
      "wandb: Plotting MLP.\n",
      "wandb: WARNING feature_importances_ or coef_ attribute not in classifier. Cannot plot feature importances.\n",
      "wandb: Logged feature importances.\n",
      "wandb: Logged learning curve.\n",
      "wandb: Logged confusion matrix.\n",
      "wandb: Logged summary metrics.\n",
      "wandb: Logged class proportions.\n",
      "wandb: Logged calibration curve.\n",
      "wandb: Logged roc curve.\n",
      "wandb: Logged precision recall curve.\n"
     ]
    },
    {
     "output_type": "display_data",
     "data": {
      "text/plain": "<IPython.core.display.HTML object>",
      "text/html": "<br/>Waiting for W&B process to finish, PID 8880<br/>Program ended successfully."
     },
     "metadata": {}
    },
    {
     "output_type": "display_data",
     "data": {
      "text/plain": "<IPython.core.display.HTML object>",
      "text/html": "Find user logs for this run at: <code>wandb\\run-20201116_173405-1hb68jkj\\logs\\debug.log</code>"
     },
     "metadata": {}
    },
    {
     "output_type": "display_data",
     "data": {
      "text/plain": "<IPython.core.display.HTML object>",
      "text/html": "Find internal logs for this run at: <code>wandb\\run-20201116_173405-1hb68jkj\\logs\\debug-internal.log</code>"
     },
     "metadata": {}
    },
    {
     "output_type": "display_data",
     "data": {
      "text/plain": "<IPython.core.display.HTML object>",
      "text/html": "<h3>Run summary:</h3><br/><style>\n    table.wandb td:nth-child(1) { padding: 0 10px; text-align: right }\n    </style><table class=\"wandb\">\n<tr><td>_step</td><td>6</td></tr><tr><td>_runtime</td><td>476</td></tr><tr><td>_timestamp</td><td>1605548521</td></tr></table>"
     },
     "metadata": {}
    },
    {
     "output_type": "display_data",
     "data": {
      "text/plain": "<IPython.core.display.HTML object>",
      "text/html": "<h3>Run history:</h3><br/><style>\n    table.wandb td:nth-child(1) { padding: 0 10px; text-align: right }\n    </style><table class=\"wandb\">\n<tr><td>_step</td><td>▁▂▃▅▆▇█</td></tr><tr><td>_runtime</td><td>▁▁▂▂███</td></tr><tr><td>_timestamp</td><td>▁▁▂▂███</td></tr></table><br/>"
     },
     "metadata": {}
    },
    {
     "output_type": "display_data",
     "data": {
      "text/plain": "<IPython.core.display.HTML object>",
      "text/html": "Synced 5 W&B file(s), 7 media file(s), 0 artifact file(s) and 0 other file(s)"
     },
     "metadata": {}
    },
    {
     "output_type": "display_data",
     "data": {
      "text/plain": "<IPython.core.display.HTML object>",
      "text/html": "\n                    <br/>Synced <strong style=\"color:#cdcd00\">deft-dust-6</strong>: <a href=\"https://wandb.ai/samfh/SL-KFolds_Speed-limit-30_classifer-MLP_stratified-True/runs/1hb68jkj\" target=\"_blank\">https://wandb.ai/samfh/SL-KFolds_Speed-limit-30_classifer-MLP_stratified-True/runs/1hb68jkj</a><br/>\n                "
     },
     "metadata": {}
    },
    {
     "output_type": "stream",
     "name": "stderr",
     "text": [
      "wandb: wandb version 0.10.10 is available!  To upgrade, please run:\nwandb:  $ pip install wandb --upgrade\n"
     ]
    },
    {
     "output_type": "display_data",
     "data": {
      "text/plain": "<IPython.core.display.HTML object>",
      "text/html": "\n                Tracking run with wandb version 0.10.8<br/>\n                Syncing run <strong style=\"color:#cdcd00\">wobbly-pine-7</strong> to <a href=\"https://wandb.ai\" target=\"_blank\">Weights & Biases</a> <a href=\"https://docs.wandb.com/integrations/jupyter.html\" target=\"_blank\">(Documentation)</a>.<br/>\n                Project page: <a href=\"https://wandb.ai/samfh/SL-KFolds_Speed-limit-30_classifer-MLP_stratified-True\" target=\"_blank\">https://wandb.ai/samfh/SL-KFolds_Speed-limit-30_classifer-MLP_stratified-True</a><br/>\n                Run page: <a href=\"https://wandb.ai/samfh/SL-KFolds_Speed-limit-30_classifer-MLP_stratified-True/runs/17lgg4r9\" target=\"_blank\">https://wandb.ai/samfh/SL-KFolds_Speed-limit-30_classifer-MLP_stratified-True/runs/17lgg4r9</a><br/>\n                Run data is saved locally in <code>wandb\\run-20201116_174205-17lgg4r9</code><br/><br/>\n            "
     },
     "metadata": {}
    },
    {
     "output_type": "stream",
     "name": "stderr",
     "text": [
      "wandb: \n",
      "wandb: Plotting MLP.\n",
      "wandb: WARNING feature_importances_ or coef_ attribute not in classifier. Cannot plot feature importances.\n",
      "wandb: Logged feature importances.\n",
      "wandb: Logged learning curve.\n",
      "wandb: Logged confusion matrix.\n",
      "wandb: Logged summary metrics.\n",
      "wandb: Logged class proportions.\n",
      "wandb: Logged calibration curve.\n",
      "wandb: Logged roc curve.\n",
      "wandb: Logged precision recall curve.\n"
     ]
    },
    {
     "output_type": "display_data",
     "data": {
      "text/plain": "<IPython.core.display.HTML object>",
      "text/html": "<br/>Waiting for W&B process to finish, PID 17436<br/>Program ended successfully."
     },
     "metadata": {}
    },
    {
     "output_type": "display_data",
     "data": {
      "text/plain": "<IPython.core.display.HTML object>",
      "text/html": "Find user logs for this run at: <code>wandb\\run-20201116_174205-17lgg4r9\\logs\\debug.log</code>"
     },
     "metadata": {}
    },
    {
     "output_type": "display_data",
     "data": {
      "text/plain": "<IPython.core.display.HTML object>",
      "text/html": "Find internal logs for this run at: <code>wandb\\run-20201116_174205-17lgg4r9\\logs\\debug-internal.log</code>"
     },
     "metadata": {}
    },
    {
     "output_type": "display_data",
     "data": {
      "text/plain": "<IPython.core.display.HTML object>",
      "text/html": "<h3>Run summary:</h3><br/><style>\n    table.wandb td:nth-child(1) { padding: 0 10px; text-align: right }\n    </style><table class=\"wandb\">\n<tr><td>_step</td><td>6</td></tr><tr><td>_runtime</td><td>471</td></tr><tr><td>_timestamp</td><td>1605548996</td></tr></table>"
     },
     "metadata": {}
    },
    {
     "output_type": "display_data",
     "data": {
      "text/plain": "<IPython.core.display.HTML object>",
      "text/html": "<h3>Run history:</h3><br/><style>\n    table.wandb td:nth-child(1) { padding: 0 10px; text-align: right }\n    </style><table class=\"wandb\">\n<tr><td>_step</td><td>▁▂▃▅▆▇█</td></tr><tr><td>_runtime</td><td>▁▁▂▂███</td></tr><tr><td>_timestamp</td><td>▁▁▂▂███</td></tr></table><br/>"
     },
     "metadata": {}
    },
    {
     "output_type": "display_data",
     "data": {
      "text/plain": "<IPython.core.display.HTML object>",
      "text/html": "Synced 5 W&B file(s), 7 media file(s), 0 artifact file(s) and 0 other file(s)"
     },
     "metadata": {}
    },
    {
     "output_type": "display_data",
     "data": {
      "text/plain": "<IPython.core.display.HTML object>",
      "text/html": "\n                    <br/>Synced <strong style=\"color:#cdcd00\">wobbly-pine-7</strong>: <a href=\"https://wandb.ai/samfh/SL-KFolds_Speed-limit-30_classifer-MLP_stratified-True/runs/17lgg4r9\" target=\"_blank\">https://wandb.ai/samfh/SL-KFolds_Speed-limit-30_classifer-MLP_stratified-True/runs/17lgg4r9</a><br/>\n                "
     },
     "metadata": {}
    },
    {
     "output_type": "stream",
     "name": "stderr",
     "text": [
      "wandb: wandb version 0.10.10 is available!  To upgrade, please run:\nwandb:  $ pip install wandb --upgrade\n"
     ]
    },
    {
     "output_type": "display_data",
     "data": {
      "text/plain": "<IPython.core.display.HTML object>",
      "text/html": "\n                Tracking run with wandb version 0.10.8<br/>\n                Syncing run <strong style=\"color:#cdcd00\">efficient-night-8</strong> to <a href=\"https://wandb.ai\" target=\"_blank\">Weights & Biases</a> <a href=\"https://docs.wandb.com/integrations/jupyter.html\" target=\"_blank\">(Documentation)</a>.<br/>\n                Project page: <a href=\"https://wandb.ai/samfh/SL-KFolds_Speed-limit-30_classifer-MLP_stratified-True\" target=\"_blank\">https://wandb.ai/samfh/SL-KFolds_Speed-limit-30_classifer-MLP_stratified-True</a><br/>\n                Run page: <a href=\"https://wandb.ai/samfh/SL-KFolds_Speed-limit-30_classifer-MLP_stratified-True/runs/2ahzlt56\" target=\"_blank\">https://wandb.ai/samfh/SL-KFolds_Speed-limit-30_classifer-MLP_stratified-True/runs/2ahzlt56</a><br/>\n                Run data is saved locally in <code>wandb\\run-20201116_175000-2ahzlt56</code><br/><br/>\n            "
     },
     "metadata": {}
    },
    {
     "output_type": "stream",
     "name": "stderr",
     "text": [
      "wandb: \n",
      "wandb: Plotting MLP.\n",
      "wandb: WARNING feature_importances_ or coef_ attribute not in classifier. Cannot plot feature importances.\n",
      "wandb: Logged feature importances.\n",
      "wandb: Logged learning curve.\n",
      "wandb: Logged confusion matrix.\n",
      "wandb: Logged summary metrics.\n",
      "wandb: Logged class proportions.\n",
      "wandb: Logged calibration curve.\n",
      "wandb: Logged roc curve.\n",
      "wandb: Logged precision recall curve.\n"
     ]
    },
    {
     "output_type": "display_data",
     "data": {
      "text/plain": "<IPython.core.display.HTML object>",
      "text/html": "<br/>Waiting for W&B process to finish, PID 23888<br/>Program ended successfully."
     },
     "metadata": {}
    },
    {
     "output_type": "display_data",
     "data": {
      "text/plain": "<IPython.core.display.HTML object>",
      "text/html": "Find user logs for this run at: <code>wandb\\run-20201116_175000-2ahzlt56\\logs\\debug.log</code>"
     },
     "metadata": {}
    },
    {
     "output_type": "display_data",
     "data": {
      "text/plain": "<IPython.core.display.HTML object>",
      "text/html": "Find internal logs for this run at: <code>wandb\\run-20201116_175000-2ahzlt56\\logs\\debug-internal.log</code>"
     },
     "metadata": {}
    },
    {
     "output_type": "display_data",
     "data": {
      "text/plain": "<IPython.core.display.HTML object>",
      "text/html": "<h3>Run summary:</h3><br/><style>\n    table.wandb td:nth-child(1) { padding: 0 10px; text-align: right }\n    </style><table class=\"wandb\">\n<tr><td>_step</td><td>6</td></tr><tr><td>_runtime</td><td>408</td></tr><tr><td>_timestamp</td><td>1605549408</td></tr></table>"
     },
     "metadata": {}
    },
    {
     "output_type": "display_data",
     "data": {
      "text/plain": "<IPython.core.display.HTML object>",
      "text/html": "<h3>Run history:</h3><br/><style>\n    table.wandb td:nth-child(1) { padding: 0 10px; text-align: right }\n    </style><table class=\"wandb\">\n<tr><td>_step</td><td>▁▂▃▅▆▇█</td></tr><tr><td>_runtime</td><td>▁▁▂▂███</td></tr><tr><td>_timestamp</td><td>▁▁▂▂███</td></tr></table><br/>"
     },
     "metadata": {}
    },
    {
     "output_type": "display_data",
     "data": {
      "text/plain": "<IPython.core.display.HTML object>",
      "text/html": "Synced 5 W&B file(s), 7 media file(s), 0 artifact file(s) and 0 other file(s)"
     },
     "metadata": {}
    },
    {
     "output_type": "display_data",
     "data": {
      "text/plain": "<IPython.core.display.HTML object>",
      "text/html": "\n                    <br/>Synced <strong style=\"color:#cdcd00\">efficient-night-8</strong>: <a href=\"https://wandb.ai/samfh/SL-KFolds_Speed-limit-30_classifer-MLP_stratified-True/runs/2ahzlt56\" target=\"_blank\">https://wandb.ai/samfh/SL-KFolds_Speed-limit-30_classifer-MLP_stratified-True/runs/2ahzlt56</a><br/>\n                "
     },
     "metadata": {}
    },
    {
     "output_type": "stream",
     "name": "stderr",
     "text": [
      "wandb: wandb version 0.10.10 is available!  To upgrade, please run:\nwandb:  $ pip install wandb --upgrade\n"
     ]
    },
    {
     "output_type": "display_data",
     "data": {
      "text/plain": "<IPython.core.display.HTML object>",
      "text/html": "\n                Tracking run with wandb version 0.10.8<br/>\n                Syncing run <strong style=\"color:#cdcd00\">hardy-frog-9</strong> to <a href=\"https://wandb.ai\" target=\"_blank\">Weights & Biases</a> <a href=\"https://docs.wandb.com/integrations/jupyter.html\" target=\"_blank\">(Documentation)</a>.<br/>\n                Project page: <a href=\"https://wandb.ai/samfh/SL-KFolds_Speed-limit-30_classifer-MLP_stratified-True\" target=\"_blank\">https://wandb.ai/samfh/SL-KFolds_Speed-limit-30_classifer-MLP_stratified-True</a><br/>\n                Run page: <a href=\"https://wandb.ai/samfh/SL-KFolds_Speed-limit-30_classifer-MLP_stratified-True/runs/3gyxjsfh\" target=\"_blank\">https://wandb.ai/samfh/SL-KFolds_Speed-limit-30_classifer-MLP_stratified-True/runs/3gyxjsfh</a><br/>\n                Run data is saved locally in <code>wandb\\run-20201116_175652-3gyxjsfh</code><br/><br/>\n            "
     },
     "metadata": {}
    },
    {
     "output_type": "stream",
     "name": "stderr",
     "text": [
      "wandb: \n",
      "wandb: Plotting MLP.\n",
      "wandb: WARNING feature_importances_ or coef_ attribute not in classifier. Cannot plot feature importances.\n",
      "wandb: Logged feature importances.\n",
      "wandb: Logged learning curve.\n",
      "wandb: Logged confusion matrix.\n",
      "wandb: Logged summary metrics.\n",
      "wandb: Logged class proportions.\n",
      "wandb: Logged calibration curve.\n",
      "wandb: Logged roc curve.\n",
      "wandb: Logged precision recall curve.\n"
     ]
    },
    {
     "output_type": "display_data",
     "data": {
      "text/plain": "<IPython.core.display.HTML object>",
      "text/html": "<br/>Waiting for W&B process to finish, PID 30240<br/>Program ended successfully."
     },
     "metadata": {}
    },
    {
     "output_type": "display_data",
     "data": {
      "text/plain": "<IPython.core.display.HTML object>",
      "text/html": "Find user logs for this run at: <code>wandb\\run-20201116_175652-3gyxjsfh\\logs\\debug.log</code>"
     },
     "metadata": {}
    },
    {
     "output_type": "display_data",
     "data": {
      "text/plain": "<IPython.core.display.HTML object>",
      "text/html": "Find internal logs for this run at: <code>wandb\\run-20201116_175652-3gyxjsfh\\logs\\debug-internal.log</code>"
     },
     "metadata": {}
    },
    {
     "output_type": "display_data",
     "data": {
      "text/plain": "<IPython.core.display.HTML object>",
      "text/html": "<h3>Run summary:</h3><br/><style>\n    table.wandb td:nth-child(1) { padding: 0 10px; text-align: right }\n    </style><table class=\"wandb\">\n<tr><td>_step</td><td>6</td></tr><tr><td>_runtime</td><td>540</td></tr><tr><td>_timestamp</td><td>1605549952</td></tr></table>"
     },
     "metadata": {}
    },
    {
     "output_type": "display_data",
     "data": {
      "text/plain": "<IPython.core.display.HTML object>",
      "text/html": "<h3>Run history:</h3><br/><style>\n    table.wandb td:nth-child(1) { padding: 0 10px; text-align: right }\n    </style><table class=\"wandb\">\n<tr><td>_step</td><td>▁▂▃▅▆▇█</td></tr><tr><td>_runtime</td><td>▁▁▃▃███</td></tr><tr><td>_timestamp</td><td>▁▁▃▃███</td></tr></table><br/>"
     },
     "metadata": {}
    },
    {
     "output_type": "display_data",
     "data": {
      "text/plain": "<IPython.core.display.HTML object>",
      "text/html": "Synced 5 W&B file(s), 7 media file(s), 0 artifact file(s) and 0 other file(s)"
     },
     "metadata": {}
    },
    {
     "output_type": "display_data",
     "data": {
      "text/plain": "<IPython.core.display.HTML object>",
      "text/html": "\n                    <br/>Synced <strong style=\"color:#cdcd00\">hardy-frog-9</strong>: <a href=\"https://wandb.ai/samfh/SL-KFolds_Speed-limit-30_classifer-MLP_stratified-True/runs/3gyxjsfh\" target=\"_blank\">https://wandb.ai/samfh/SL-KFolds_Speed-limit-30_classifer-MLP_stratified-True/runs/3gyxjsfh</a><br/>\n                "
     },
     "metadata": {}
    },
    {
     "output_type": "stream",
     "name": "stderr",
     "text": [
      "wandb: wandb version 0.10.10 is available!  To upgrade, please run:\nwandb:  $ pip install wandb --upgrade\n"
     ]
    },
    {
     "output_type": "display_data",
     "data": {
      "text/plain": "<IPython.core.display.HTML object>",
      "text/html": "\n                Tracking run with wandb version 0.10.8<br/>\n                Syncing run <strong style=\"color:#cdcd00\">generous-voice-10</strong> to <a href=\"https://wandb.ai\" target=\"_blank\">Weights & Biases</a> <a href=\"https://docs.wandb.com/integrations/jupyter.html\" target=\"_blank\">(Documentation)</a>.<br/>\n                Project page: <a href=\"https://wandb.ai/samfh/SL-KFolds_Speed-limit-30_classifer-MLP_stratified-True\" target=\"_blank\">https://wandb.ai/samfh/SL-KFolds_Speed-limit-30_classifer-MLP_stratified-True</a><br/>\n                Run page: <a href=\"https://wandb.ai/samfh/SL-KFolds_Speed-limit-30_classifer-MLP_stratified-True/runs/2bueuwm6\" target=\"_blank\">https://wandb.ai/samfh/SL-KFolds_Speed-limit-30_classifer-MLP_stratified-True/runs/2bueuwm6</a><br/>\n                Run data is saved locally in <code>wandb\\run-20201116_180556-2bueuwm6</code><br/><br/>\n            "
     },
     "metadata": {}
    },
    {
     "output_type": "stream",
     "name": "stderr",
     "text": [
      "wandb: \n",
      "wandb: Plotting MLP.\n",
      "wandb: WARNING feature_importances_ or coef_ attribute not in classifier. Cannot plot feature importances.\n",
      "wandb: Logged feature importances.\n",
      "wandb: Logged learning curve.\n",
      "wandb: Logged confusion matrix.\n",
      "wandb: Logged summary metrics.\n",
      "wandb: Logged class proportions.\n",
      "wandb: Logged calibration curve.\n",
      "wandb: Logged roc curve.\n",
      "wandb: Logged precision recall curve.\n"
     ]
    },
    {
     "output_type": "display_data",
     "data": {
      "text/plain": "<IPython.core.display.HTML object>",
      "text/html": "<br/>Waiting for W&B process to finish, PID 1544<br/>Program ended successfully."
     },
     "metadata": {}
    },
    {
     "output_type": "display_data",
     "data": {
      "text/plain": "<IPython.core.display.HTML object>",
      "text/html": "Find user logs for this run at: <code>wandb\\run-20201116_180556-2bueuwm6\\logs\\debug.log</code>"
     },
     "metadata": {}
    },
    {
     "output_type": "display_data",
     "data": {
      "text/plain": "<IPython.core.display.HTML object>",
      "text/html": "Find internal logs for this run at: <code>wandb\\run-20201116_180556-2bueuwm6\\logs\\debug-internal.log</code>"
     },
     "metadata": {}
    },
    {
     "output_type": "display_data",
     "data": {
      "text/plain": "<IPython.core.display.HTML object>",
      "text/html": "<h3>Run summary:</h3><br/><style>\n    table.wandb td:nth-child(1) { padding: 0 10px; text-align: right }\n    </style><table class=\"wandb\">\n<tr><td>_step</td><td>6</td></tr><tr><td>_runtime</td><td>471</td></tr><tr><td>_timestamp</td><td>1605550427</td></tr></table>"
     },
     "metadata": {}
    },
    {
     "output_type": "display_data",
     "data": {
      "text/plain": "<IPython.core.display.HTML object>",
      "text/html": "<h3>Run history:</h3><br/><style>\n    table.wandb td:nth-child(1) { padding: 0 10px; text-align: right }\n    </style><table class=\"wandb\">\n<tr><td>_step</td><td>▁▂▃▅▆▇█</td></tr><tr><td>_runtime</td><td>▁▁▃▃███</td></tr><tr><td>_timestamp</td><td>▁▁▃▃███</td></tr></table><br/>"
     },
     "metadata": {}
    },
    {
     "output_type": "display_data",
     "data": {
      "text/plain": "<IPython.core.display.HTML object>",
      "text/html": "Synced 5 W&B file(s), 7 media file(s), 0 artifact file(s) and 0 other file(s)"
     },
     "metadata": {}
    },
    {
     "output_type": "display_data",
     "data": {
      "text/plain": "<IPython.core.display.HTML object>",
      "text/html": "\n                    <br/>Synced <strong style=\"color:#cdcd00\">generous-voice-10</strong>: <a href=\"https://wandb.ai/samfh/SL-KFolds_Speed-limit-30_classifer-MLP_stratified-True/runs/2bueuwm6\" target=\"_blank\">https://wandb.ai/samfh/SL-KFolds_Speed-limit-30_classifer-MLP_stratified-True/runs/2bueuwm6</a><br/>\n                "
     },
     "metadata": {}
    },
    {
     "output_type": "execute_result",
     "data": {
      "text/plain": [
       "({0: array([[   0, 1998],\n",
       "         [   0, 6723]], dtype=int64),\n",
       "  1: array([[   0, 1998],\n",
       "         [   0, 6723]], dtype=int64),\n",
       "  2: array([[   0, 1998],\n",
       "         [   0, 6723]], dtype=int64),\n",
       "  3: array([[   0, 1998],\n",
       "         [   0, 6723]], dtype=int64),\n",
       "  4: array([[1947,   51],\n",
       "         [ 700, 6023]], dtype=int64),\n",
       "  5: array([[1885,  113],\n",
       "         [ 311, 6412]], dtype=int64),\n",
       "  6: array([[1819,  179],\n",
       "         [  51, 6672]], dtype=int64),\n",
       "  7: array([[   0, 1998],\n",
       "         [   0, 6723]], dtype=int64),\n",
       "  8: array([[   0, 1998],\n",
       "         [   0, 6723]], dtype=int64),\n",
       "  9: array([[   0, 1998],\n",
       "         [   0, 6723]], dtype=int64)},\n",
       " {0: array([[  0, 222],\n",
       "         [  0, 747]], dtype=int64),\n",
       "  1: array([[  0, 222],\n",
       "         [  0, 747]], dtype=int64),\n",
       "  2: array([[  0, 222],\n",
       "         [  0, 747]], dtype=int64),\n",
       "  3: array([[  0, 222],\n",
       "         [  0, 747]], dtype=int64),\n",
       "  4: array([[198,  24],\n",
       "         [129, 618]], dtype=int64),\n",
       "  5: array([[194,  28],\n",
       "         [ 80, 667]], dtype=int64),\n",
       "  6: array([[158,  64],\n",
       "         [ 11, 736]], dtype=int64),\n",
       "  7: array([[  0, 222],\n",
       "         [  0, 747]], dtype=int64),\n",
       "  8: array([[  0, 222],\n",
       "         [  0, 747]], dtype=int64),\n",
       "  9: array([[  0, 222],\n",
       "         [  0, 747]], dtype=int64)})"
      ]
     },
     "metadata": {},
     "execution_count": 74
    }
   ],
   "source": [
    "re.run_KFold_experiment(perceptron, X_train, y_train, classifier_name='MLP', classes_desc='all-classes', stratified=True)"
   ]
  },
  {
   "cell_type": "code",
   "execution_count": 9,
   "metadata": {},
   "outputs": [],
   "source": [
    "perceptron.build_classifier(X_train, y_train)\n",
    "y_pred = perceptron.prediction(X_test)\n",
    "accuracy = accuracy_score(y_test, y_pred)"
   ]
  },
  {
   "cell_type": "code",
   "execution_count": 10,
   "metadata": {},
   "outputs": [
    {
     "output_type": "execute_result",
     "data": {
      "text/plain": [
       "0.586084142394822"
      ]
     },
     "metadata": {},
     "execution_count": 10
    }
   ],
   "source": [
    "accuracy"
   ]
  },
  {
   "cell_type": "code",
   "execution_count": 11,
   "metadata": {},
   "outputs": [
    {
     "output_type": "error",
     "ename": "NameError",
     "evalue": "name 'train_test_split' is not defined",
     "traceback": [
      "\u001b[0;31m---------------------------------------------------------------------------\u001b[0m",
      "\u001b[0;31mNameError\u001b[0m                                 Traceback (most recent call last)",
      "\u001b[0;32m<ipython-input-11-4a877a5cfc7f>\u001b[0m in \u001b[0;36m<module>\u001b[0;34m\u001b[0m\n\u001b[1;32m      4\u001b[0m \u001b[0mX\u001b[0m \u001b[0;34m=\u001b[0m \u001b[0mX\u001b[0m\u001b[0;34m.\u001b[0m\u001b[0mto_numpy\u001b[0m\u001b[0;34m(\u001b[0m\u001b[0;34m)\u001b[0m\u001b[0;34m\u001b[0m\u001b[0;34m\u001b[0m\u001b[0m\n\u001b[1;32m      5\u001b[0m \u001b[0my\u001b[0m \u001b[0;34m=\u001b[0m \u001b[0my\u001b[0m\u001b[0;34m.\u001b[0m\u001b[0mto_numpy\u001b[0m\u001b[0;34m(\u001b[0m\u001b[0mdtype\u001b[0m\u001b[0;34m=\u001b[0m\u001b[0;34m'int64'\u001b[0m\u001b[0;34m)\u001b[0m\u001b[0;34m\u001b[0m\u001b[0;34m\u001b[0m\u001b[0m\n\u001b[0;32m----> 6\u001b[0;31m X_train, X_test, y_train, y_test = train_test_split(\n\u001b[0m\u001b[1;32m      7\u001b[0m     X, y, random_state=0, test_size=0.33)\n",
      "\u001b[0;31mNameError\u001b[0m: name 'train_test_split' is not defined"
     ]
    }
   ],
   "source": [
    "X, y = gd.get_data()\n",
    "X, y = gd.balance_by_class(X, y, random_state=0)\n",
    "\n",
    "X = X.to_numpy()\n",
    "y = y.to_numpy(dtype='int64')\n",
    "X_train, X_test, y_train, y_test = train_test_split(\n",
    "    X, y, random_state=0, test_size=0.33)"
   ]
  },
  {
   "cell_type": "code",
   "execution_count": null,
   "metadata": {},
   "outputs": [],
   "source": []
  }
 ],
 "metadata": {
  "language_info": {
   "codemirror_mode": {
    "name": "ipython",
    "version": 3
   },
   "file_extension": ".py",
   "mimetype": "text/x-python",
   "name": "python",
   "nbconvert_exporter": "python",
   "pygments_lexer": "ipython3",
   "version": "3.7.9-final"
  },
  "kernelspec": {
   "name": "python3",
   "display_name": "Python 3.7.9 64-bit ('suplearn')",
   "metadata": {
    "interpreter": {
     "hash": "e04b382ffff69f2331a864c6d6ccb46b0bfbf7d3ff2f449add9b1236ef129344"
    }
   }
  }
 },
 "nbformat": 4,
 "nbformat_minor": 4
}